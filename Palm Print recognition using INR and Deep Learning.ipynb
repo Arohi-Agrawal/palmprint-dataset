{
 "cells": [
  {
   "cell_type": "code",
   "execution_count": 2,
   "id": "219a0312-836b-48c6-8394-ede0c22a4fa6",
   "metadata": {},
   "outputs": [
    {
     "name": "stdout",
     "output_type": "stream",
     "text": [
      "OpenCV installed successfully. Version: 4.11.0\n"
     ]
    }
   ],
   "source": [
    "import cv2\n",
    "print(\"OpenCV installed successfully. Version:\", cv2.__version__)\n"
   ]
  },
  {
   "cell_type": "code",
   "execution_count": 12,
   "id": "77a4a222-916f-49fa-bee5-336d95640fd3",
   "metadata": {},
   "outputs": [
    {
     "name": "stderr",
     "output_type": "stream",
     "text": [
      "Converting images:   0%|          | 16/3200 [00:00<00:42, 75.56it/s]"
     ]
    },
    {
     "name": "stdout",
     "output_type": "stream",
     "text": [
      "✅ Converted: s100_10_L_S2.jpg\n",
      "✅ Converted: s100_10_R_S2.jpg\n",
      "✅ Converted: s100_1_L_S2.jpg\n",
      "✅ Converted: s100_1_R_S2.jpg\n",
      "✅ Converted: s100_2_L_S2.jpg\n",
      "✅ Converted: s100_2_R_S2.jpg\n",
      "✅ Converted: s100_3_L_S2.jpg\n",
      "✅ Converted: s100_3_R_S2.jpg\n",
      "✅ Converted: s100_4_L_S2.jpg\n",
      "✅ Converted: s100_4_R_S2.jpg\n",
      "✅ Converted: s100_5_L_S2.jpg\n",
      "✅ Converted: s100_5_R_S2.jpg\n",
      "✅ Converted: s100_6_L_S2.jpg\n",
      "✅ Converted: s100_6_R_S2.jpg\n",
      "✅ Converted: s100_7_L_S2.jpg\n",
      "✅ Converted: s100_7_R_S2.jpg\n"
     ]
    },
    {
     "name": "stderr",
     "output_type": "stream",
     "text": [
      "Converting images:   1%|          | 27/3200 [00:00<00:36, 86.31it/s]"
     ]
    },
    {
     "name": "stdout",
     "output_type": "stream",
     "text": [
      "✅ Converted: s100_8_L_S2.jpg\n",
      "✅ Converted: s100_8_R_S2.jpg\n",
      "✅ Converted: s100_9_L_S2.jpg\n",
      "✅ Converted: s100_9_R_S2.jpg\n",
      "✅ Converted: s101_10_L_S2.jpg\n",
      "✅ Converted: s101_10_R_S2.jpg\n",
      "✅ Converted: s101_1_L_S2.jpg\n",
      "✅ Converted: s101_1_R_S2.jpg\n",
      "✅ Converted: s101_2_L_S2.jpg\n",
      "✅ Converted: s101_2_R_S2.jpg\n",
      "✅ Converted: s101_3_L_S2.jpg\n",
      "✅ Converted: s101_3_R_S2.jpg\n",
      "✅ Converted: s101_4_L_S2.jpg\n",
      "✅ Converted: s101_4_R_S2.jpg\n",
      "✅ Converted: s101_5_L_S2.jpg\n",
      "✅ Converted: s101_5_R_S2.jpg\n",
      "✅ Converted: s101_6_L_S2.jpg\n",
      "✅ Converted: s101_6_R_S2.jpg\n"
     ]
    },
    {
     "name": "stderr",
     "output_type": "stream",
     "text": [
      "Converting images:   1%|▏         | 45/3200 [00:00<00:39, 80.72it/s]"
     ]
    },
    {
     "name": "stdout",
     "output_type": "stream",
     "text": [
      "✅ Converted: s101_7_L_S2.jpg\n",
      "✅ Converted: s101_7_R_S2.jpg\n",
      "✅ Converted: s101_8_L_S2.jpg\n",
      "✅ Converted: s101_8_R_S2.jpg\n",
      "✅ Converted: s101_9_L_S2.jpg\n",
      "✅ Converted: s101_9_R_S2.jpg\n",
      "✅ Converted: s102_10_L_S2.jpg\n",
      "✅ Converted: s102_10_R_S2.jpg\n",
      "✅ Converted: s102_1_L_S2.jpg\n",
      "✅ Converted: s102_1_R_S2.jpg\n",
      "✅ Converted: s102_2_L_S2.jpg\n",
      "✅ Converted: s102_2_R_S2.jpg\n",
      "✅ Converted: s102_3_L_S2.jpg\n",
      "✅ Converted: s102_3_R_S2.jpg\n",
      "✅ Converted: s102_4_L_S2.jpg\n",
      "✅ Converted: s102_4_R_S2.jpg\n",
      "✅ Converted: s102_5_L_S2.jpg\n",
      "✅ Converted: s102_5_R_S2.jpg\n",
      "✅ Converted: s102_6_L_S2.jpg\n"
     ]
    },
    {
     "name": "stderr",
     "output_type": "stream",
     "text": [
      "Converting images:   2%|▏         | 64/3200 [00:00<00:37, 82.90it/s]"
     ]
    },
    {
     "name": "stdout",
     "output_type": "stream",
     "text": [
      "✅ Converted: s102_6_R_S2.jpg\n",
      "✅ Converted: s102_7_L_S2.jpg\n",
      "✅ Converted: s102_7_R_S2.jpg\n",
      "✅ Converted: s102_8_L_S2.jpg\n",
      "✅ Converted: s102_8_R_S2.jpg\n",
      "✅ Converted: s102_9_L_S2.jpg\n",
      "✅ Converted: s102_9_R_S2.jpg\n",
      "✅ Converted: s103_10_L_S2.jpg\n",
      "✅ Converted: s103_10_R_S2.jpg\n",
      "✅ Converted: s103_1_L_S2.jpg\n",
      "✅ Converted: s103_1_R_S2.jpg\n",
      "✅ Converted: s103_2_L_S2.jpg\n",
      "✅ Converted: s103_2_R_S2.jpg\n",
      "✅ Converted: s103_3_L_S2.jpg\n",
      "✅ Converted: s103_3_R_S2.jpg\n",
      "✅ Converted: s103_4_L_S2.jpg\n",
      "✅ Converted: s103_4_R_S2.jpg\n"
     ]
    },
    {
     "name": "stderr",
     "output_type": "stream",
     "text": [
      "Converting images:   3%|▎         | 81/3200 [00:01<00:40, 76.37it/s]"
     ]
    },
    {
     "name": "stdout",
     "output_type": "stream",
     "text": [
      "✅ Converted: s103_5_L_S2.jpg\n",
      "✅ Converted: s103_5_R_S2.jpg\n",
      "✅ Converted: s103_6_L_S2.jpg\n",
      "✅ Converted: s103_6_R_S2.jpg\n",
      "✅ Converted: s103_7_L_S2.jpg\n",
      "✅ Converted: s103_7_R_S2.jpg\n",
      "✅ Converted: s103_8_L_S2.jpg\n",
      "✅ Converted: s103_8_R_S2.jpg\n",
      "✅ Converted: s103_9_L_S2.jpg\n",
      "✅ Converted: s103_9_R_S2.jpg\n",
      "✅ Converted: s104_10_L_S2.jpg\n",
      "✅ Converted: s104_10_R_S2.jpg\n",
      "✅ Converted: s104_1_L_S2.jpg\n",
      "✅ Converted: s104_1_R_S2.jpg\n",
      "✅ Converted: s104_2_L_S2.jpg\n",
      "✅ Converted: s104_2_R_S2.jpg\n",
      "✅ Converted: s104_3_L_S2.jpg\n",
      "✅ Converted: s104_3_R_S2.jpg\n"
     ]
    },
    {
     "name": "stderr",
     "output_type": "stream",
     "text": [
      "Converting images:   3%|▎         | 102/3200 [00:01<00:35, 88.24it/s]"
     ]
    },
    {
     "name": "stdout",
     "output_type": "stream",
     "text": [
      "✅ Converted: s104_4_L_S2.jpg\n",
      "✅ Converted: s104_4_R_S2.jpg\n",
      "✅ Converted: s104_5_L_S2.jpg\n",
      "✅ Converted: s104_5_R_S2.jpg\n",
      "✅ Converted: s104_6_L_S2.jpg\n",
      "✅ Converted: s104_6_R_S2.jpg\n",
      "✅ Converted: s104_7_L_S2.jpg\n",
      "✅ Converted: s104_7_R_S2.jpg\n",
      "✅ Converted: s104_8_L_S2.jpg\n",
      "✅ Converted: s104_8_R_S2.jpg\n",
      "✅ Converted: s104_9_L_S2.jpg\n",
      "✅ Converted: s104_9_R_S2.jpg\n",
      "✅ Converted: s105_10_L_S2.jpg\n",
      "✅ Converted: s105_10_R_S2.jpg\n",
      "✅ Converted: s105_1_L_S2.jpg\n",
      "✅ Converted: s105_1_R_S2.jpg\n",
      "✅ Converted: s105_2_L_S2.jpg\n",
      "✅ Converted: s105_2_R_S2.jpg\n",
      "✅ Converted: s105_3_L_S2.jpg\n"
     ]
    },
    {
     "name": "stderr",
     "output_type": "stream",
     "text": [
      "Converting images:   4%|▍         | 120/3200 [00:01<00:39, 77.63it/s]"
     ]
    },
    {
     "name": "stdout",
     "output_type": "stream",
     "text": [
      "✅ Converted: s105_3_R_S2.jpg\n",
      "✅ Converted: s105_4_L_S2.jpg\n",
      "✅ Converted: s105_4_R_S2.jpg\n",
      "✅ Converted: s105_5_L_S2.jpg\n",
      "✅ Converted: s105_5_R_S2.jpg\n",
      "✅ Converted: s105_6_L_S2.jpg\n",
      "✅ Converted: s105_6_R_S2.jpg\n",
      "✅ Converted: s105_7_L_S2.jpg\n",
      "✅ Converted: s105_7_R_S2.jpg\n",
      "✅ Converted: s105_8_L_S2.jpg\n",
      "✅ Converted: s105_8_R_S2.jpg\n",
      "✅ Converted: s105_9_L_S2.jpg\n",
      "✅ Converted: s105_9_R_S2.jpg\n"
     ]
    },
    {
     "name": "stderr",
     "output_type": "stream",
     "text": [
      "Converting images:   4%|▍         | 128/3200 [00:01<00:41, 74.23it/s]"
     ]
    },
    {
     "name": "stdout",
     "output_type": "stream",
     "text": [
      "✅ Converted: s106_10_L_S2.jpg\n",
      "✅ Converted: s106_10_R_S2.jpg\n",
      "✅ Converted: s106_1_L_S2.jpg\n",
      "✅ Converted: s106_1_R_S2.jpg\n",
      "✅ Converted: s106_2_L_S2.jpg\n",
      "✅ Converted: s106_2_R_S2.jpg\n",
      "✅ Converted: s106_3_L_S2.jpg\n",
      "✅ Converted: s106_3_R_S2.jpg\n",
      "✅ Converted: s106_4_L_S2.jpg\n",
      "✅ Converted: s106_4_R_S2.jpg\n",
      "✅ Converted: s106_5_L_S2.jpg\n",
      "✅ Converted: s106_5_R_S2.jpg\n",
      "✅ Converted: s106_6_L_S2.jpg\n"
     ]
    },
    {
     "name": "stderr",
     "output_type": "stream",
     "text": [
      "Converting images:   5%|▍         | 149/3200 [00:01<00:35, 84.86it/s]"
     ]
    },
    {
     "name": "stdout",
     "output_type": "stream",
     "text": [
      "✅ Converted: s106_6_R_S2.jpg\n",
      "✅ Converted: s106_7_L_S2.jpg\n",
      "✅ Converted: s106_7_R_S2.jpg\n",
      "✅ Converted: s106_8_L_S2.jpg\n",
      "✅ Converted: s106_8_R_S2.jpg\n",
      "✅ Converted: s106_9_L_S2.jpg\n",
      "✅ Converted: s106_9_R_S2.jpg\n",
      "✅ Converted: s107_10_L_S2.jpg\n",
      "✅ Converted: s107_10_R_S2.jpg\n",
      "✅ Converted: s107_1_L_S2.jpg\n",
      "✅ Converted: s107_1_R_S2.jpg\n",
      "✅ Converted: s107_2_L_S2.jpg\n",
      "✅ Converted: s107_2_R_S2.jpg\n",
      "✅ Converted: s107_3_L_S2.jpg\n",
      "✅ Converted: s107_3_R_S2.jpg\n",
      "✅ Converted: s107_4_L_S2.jpg\n",
      "✅ Converted: s107_4_R_S2.jpg\n",
      "✅ Converted: s107_5_L_S2.jpg\n",
      "✅ Converted: s107_5_R_S2.jpg\n",
      "✅ Converted: s107_6_L_S2.jpg\n",
      "✅ Converted: s107_6_R_S2.jpg\n"
     ]
    },
    {
     "name": "stderr",
     "output_type": "stream",
     "text": [
      "Converting images:   5%|▌         | 167/3200 [00:02<00:40, 74.82it/s]"
     ]
    },
    {
     "name": "stdout",
     "output_type": "stream",
     "text": [
      "✅ Converted: s107_7_L_S2.jpg\n",
      "✅ Converted: s107_7_R_S2.jpg\n",
      "✅ Converted: s107_8_L_S2.jpg\n",
      "✅ Converted: s107_8_R_S2.jpg\n",
      "✅ Converted: s107_9_L_S2.jpg\n",
      "✅ Converted: s107_9_R_S2.jpg\n",
      "✅ Converted: s108_10_L_S2.jpg\n",
      "✅ Converted: s108_10_R_S2.jpg\n",
      "✅ Converted: s108_1_L_S2.jpg\n",
      "✅ Converted: s108_1_R_S2.jpg\n",
      "✅ Converted: s108_2_L_S2.jpg\n",
      "✅ Converted: s108_2_R_S2.jpg\n",
      "✅ Converted: s108_3_L_S2.jpg\n"
     ]
    },
    {
     "name": "stderr",
     "output_type": "stream",
     "text": [
      "Converting images:   5%|▌         | 175/3200 [00:02<00:40, 74.59it/s]"
     ]
    },
    {
     "name": "stdout",
     "output_type": "stream",
     "text": [
      "✅ Converted: s108_3_R_S2.jpg\n",
      "✅ Converted: s108_4_L_S2.jpg\n",
      "✅ Converted: s108_4_R_S2.jpg\n",
      "✅ Converted: s108_5_L_S2.jpg\n",
      "✅ Converted: s108_5_R_S2.jpg\n",
      "✅ Converted: s108_6_L_S2.jpg\n",
      "✅ Converted: s108_6_R_S2.jpg\n",
      "✅ Converted: s108_7_L_S2.jpg\n",
      "✅ Converted: s108_7_R_S2.jpg\n",
      "✅ Converted: s108_8_L_S2.jpg\n",
      "✅ Converted: s108_8_R_S2.jpg\n",
      "✅ Converted: s108_9_L_S2.jpg\n",
      "✅ Converted: s108_9_R_S2.jpg\n",
      "✅ Converted: s109_10_L_S2.jpg\n"
     ]
    },
    {
     "name": "stderr",
     "output_type": "stream",
     "text": [
      "Converting images:   6%|▌         | 191/3200 [00:02<00:43, 68.88it/s]"
     ]
    },
    {
     "name": "stdout",
     "output_type": "stream",
     "text": [
      "✅ Converted: s109_10_R_S2.jpg\n",
      "✅ Converted: s109_1_L_S2.jpg\n",
      "✅ Converted: s109_1_R_S2.jpg\n",
      "✅ Converted: s109_2_L_S2.jpg\n",
      "✅ Converted: s109_2_R_S2.jpg\n",
      "✅ Converted: s109_3_L_S2.jpg\n",
      "✅ Converted: s109_3_R_S2.jpg\n",
      "✅ Converted: s109_4_L_S2.jpg\n",
      "✅ Converted: s109_4_R_S2.jpg\n",
      "✅ Converted: s109_5_L_S2.jpg\n",
      "✅ Converted: s109_5_R_S2.jpg\n",
      "✅ Converted: s109_6_L_S2.jpg\n",
      "✅ Converted: s109_6_R_S2.jpg\n"
     ]
    },
    {
     "name": "stderr",
     "output_type": "stream",
     "text": [
      "Converting images:   6%|▋         | 207/3200 [00:02<00:40, 73.56it/s]"
     ]
    },
    {
     "name": "stdout",
     "output_type": "stream",
     "text": [
      "✅ Converted: s109_7_L_S2.jpg\n",
      "✅ Converted: s109_7_R_S2.jpg\n",
      "✅ Converted: s109_8_L_S2.jpg\n",
      "✅ Converted: s109_8_R_S2.jpg\n",
      "✅ Converted: s109_9_L_S2.jpg\n",
      "✅ Converted: s109_9_R_S2.jpg\n",
      "✅ Converted: s10_10_L_S2.jpg\n",
      "✅ Converted: s10_10_R_S2.jpg\n",
      "✅ Converted: s10_1_L_S2.jpg\n",
      "✅ Converted: s10_1_R_S2.jpg\n",
      "✅ Converted: s10_2_L_S2.jpg\n",
      "✅ Converted: s10_2_R_S2.jpg\n",
      "✅ Converted: s10_3_L_S2.jpg\n",
      "✅ Converted: s10_3_R_S2.jpg\n",
      "✅ Converted: s10_4_L_S2.jpg\n",
      "✅ Converted: s10_4_R_S2.jpg\n",
      "✅ Converted: s10_5_L_S2.jpg\n",
      "✅ Converted: s10_5_R_S2.jpg\n"
     ]
    },
    {
     "name": "stderr",
     "output_type": "stream",
     "text": [
      "Converting images:   7%|▋         | 224/3200 [00:02<00:39, 75.68it/s]"
     ]
    },
    {
     "name": "stdout",
     "output_type": "stream",
     "text": [
      "✅ Converted: s10_6_L_S2.jpg\n",
      "✅ Converted: s10_6_R_S2.jpg\n",
      "✅ Converted: s10_7_L_S2.jpg\n",
      "✅ Converted: s10_7_R_S2.jpg\n",
      "✅ Converted: s10_8_L_S2.jpg\n",
      "✅ Converted: s10_8_R_S2.jpg\n",
      "✅ Converted: s10_9_L_S2.jpg\n",
      "✅ Converted: s10_9_R_S2.jpg\n",
      "✅ Converted: s110_10_L_S2.jpg\n",
      "✅ Converted: s110_10_R_S2.jpg\n",
      "✅ Converted: s110_1_L_S2.jpg\n",
      "✅ Converted: s110_1_R_S2.jpg\n",
      "✅ Converted: s110_2_L_S2.jpg\n",
      "✅ Converted: s110_2_R_S2.jpg\n",
      "✅ Converted: s110_3_L_S2.jpg\n",
      "✅ Converted: s110_3_R_S2.jpg\n",
      "✅ Converted: s110_4_L_S2.jpg\n"
     ]
    },
    {
     "name": "stderr",
     "output_type": "stream",
     "text": [
      "Converting images:   8%|▊         | 240/3200 [00:03<00:38, 77.29it/s]"
     ]
    },
    {
     "name": "stdout",
     "output_type": "stream",
     "text": [
      "✅ Converted: s110_4_R_S2.jpg\n",
      "✅ Converted: s110_5_L_S2.jpg\n",
      "✅ Converted: s110_5_R_S2.jpg\n",
      "✅ Converted: s110_6_L_S2.jpg\n",
      "✅ Converted: s110_6_R_S2.jpg\n",
      "✅ Converted: s110_7_L_S2.jpg\n",
      "✅ Converted: s110_7_R_S2.jpg\n",
      "✅ Converted: s110_8_L_S2.jpg\n",
      "✅ Converted: s110_8_R_S2.jpg\n",
      "✅ Converted: s110_9_L_S2.jpg\n",
      "✅ Converted: s110_9_R_S2.jpg\n",
      "✅ Converted: s111_10_L_S2.jpg\n",
      "✅ Converted: s111_10_R_S2.jpg\n",
      "✅ Converted: s111_1_L_S2.jpg\n",
      "✅ Converted: s111_1_R_S2.jpg\n",
      "✅ Converted: s111_2_L_S2.jpg\n"
     ]
    },
    {
     "name": "stderr",
     "output_type": "stream",
     "text": [
      "Converting images:   8%|▊         | 256/3200 [00:03<00:42, 68.69it/s]"
     ]
    },
    {
     "name": "stdout",
     "output_type": "stream",
     "text": [
      "✅ Converted: s111_2_R_S2.jpg\n",
      "✅ Converted: s111_3_L_S2.jpg\n",
      "✅ Converted: s111_3_R_S2.jpg\n",
      "✅ Converted: s111_4_L_S2.jpg\n",
      "✅ Converted: s111_4_R_S2.jpg\n",
      "✅ Converted: s111_5_L_S2.jpg\n",
      "✅ Converted: s111_5_R_S2.jpg\n",
      "✅ Converted: s111_6_L_S2.jpg\n",
      "✅ Converted: s111_6_R_S2.jpg\n",
      "✅ Converted: s111_7_L_S2.jpg\n",
      "✅ Converted: s111_7_R_S2.jpg\n",
      "✅ Converted: s111_8_L_S2.jpg\n"
     ]
    },
    {
     "name": "stderr",
     "output_type": "stream",
     "text": [
      "Converting images:   8%|▊         | 264/3200 [00:03<00:43, 66.89it/s]"
     ]
    },
    {
     "name": "stdout",
     "output_type": "stream",
     "text": [
      "✅ Converted: s111_8_R_S2.jpg\n",
      "✅ Converted: s111_9_L_S2.jpg\n",
      "✅ Converted: s111_9_R_S2.jpg\n",
      "✅ Converted: s112_10_L_S2.jpg\n",
      "✅ Converted: s112_10_R_S2.jpg\n",
      "✅ Converted: s112_1_L_S2.jpg\n",
      "✅ Converted: s112_1_R_S2.jpg\n",
      "✅ Converted: s112_2_L_S2.jpg\n",
      "✅ Converted: s112_2_R_S2.jpg\n",
      "✅ Converted: s112_3_L_S2.jpg\n",
      "✅ Converted: s112_3_R_S2.jpg\n",
      "✅ Converted: s112_4_L_S2.jpg\n",
      "✅ Converted: s112_4_R_S2.jpg\n"
     ]
    },
    {
     "name": "stderr",
     "output_type": "stream",
     "text": [
      "Converting images:   9%|▉         | 282/3200 [00:03<00:39, 73.30it/s]"
     ]
    },
    {
     "name": "stdout",
     "output_type": "stream",
     "text": [
      "✅ Converted: s112_5_L_S2.jpg\n",
      "✅ Converted: s112_5_R_S2.jpg\n",
      "✅ Converted: s112_6_L_S2.jpg\n",
      "✅ Converted: s112_6_R_S2.jpg\n",
      "✅ Converted: s112_7_L_S2.jpg\n",
      "✅ Converted: s112_7_R_S2.jpg\n",
      "✅ Converted: s112_8_L_S2.jpg\n",
      "✅ Converted: s112_8_R_S2.jpg\n",
      "✅ Converted: s112_9_L_S2.jpg\n",
      "✅ Converted: s112_9_R_S2.jpg\n",
      "✅ Converted: s113_10_L_S2.jpg\n",
      "✅ Converted: s113_10_R_S2.jpg\n",
      "✅ Converted: s113_1_L_S2.jpg\n",
      "✅ Converted: s113_1_R_S2.jpg\n",
      "✅ Converted: s113_2_L_S2.jpg\n",
      "✅ Converted: s113_2_R_S2.jpg\n",
      "✅ Converted: s113_3_L_S2.jpg\n",
      "✅ Converted: s113_3_R_S2.jpg\n",
      "✅ Converted: s113_4_L_S2.jpg\n"
     ]
    },
    {
     "name": "stderr",
     "output_type": "stream",
     "text": [
      "Converting images:  10%|▉         | 305/3200 [00:03<00:32, 88.72it/s]"
     ]
    },
    {
     "name": "stdout",
     "output_type": "stream",
     "text": [
      "✅ Converted: s113_4_R_S2.jpg\n",
      "✅ Converted: s113_5_L_S2.jpg\n",
      "✅ Converted: s113_5_R_S2.jpg\n",
      "✅ Converted: s113_6_L_S2.jpg\n",
      "✅ Converted: s113_6_R_S2.jpg\n",
      "✅ Converted: s113_7_L_S2.jpg\n",
      "✅ Converted: s113_7_R_S2.jpg\n",
      "✅ Converted: s113_8_L_S2.jpg\n",
      "✅ Converted: s113_8_R_S2.jpg\n",
      "✅ Converted: s113_9_L_S2.jpg\n",
      "✅ Converted: s113_9_R_S2.jpg\n",
      "✅ Converted: s114_10_L_S2.jpg\n",
      "✅ Converted: s114_10_R_S2.jpg\n",
      "✅ Converted: s114_1_L_S2.jpg\n",
      "✅ Converted: s114_1_R_S2.jpg\n",
      "✅ Converted: s114_2_L_S2.jpg\n",
      "✅ Converted: s114_2_R_S2.jpg\n",
      "✅ Converted: s114_3_L_S2.jpg\n",
      "✅ Converted: s114_3_R_S2.jpg\n",
      "✅ Converted: s114_4_L_S2.jpg\n",
      "✅ Converted: s114_4_R_S2.jpg\n",
      "✅ Converted: s114_5_L_S2.jpg\n"
     ]
    },
    {
     "name": "stderr",
     "output_type": "stream",
     "text": [
      "Converting images:  10%|█         | 324/3200 [00:04<00:35, 81.01it/s]"
     ]
    },
    {
     "name": "stdout",
     "output_type": "stream",
     "text": [
      "✅ Converted: s114_5_R_S2.jpg\n",
      "✅ Converted: s114_6_L_S2.jpg\n",
      "✅ Converted: s114_6_R_S2.jpg\n",
      "✅ Converted: s114_7_L_S2.jpg\n",
      "✅ Converted: s114_7_R_S2.jpg\n",
      "✅ Converted: s114_8_L_S2.jpg\n",
      "✅ Converted: s114_8_R_S2.jpg\n",
      "✅ Converted: s114_9_L_S2.jpg\n",
      "✅ Converted: s114_9_R_S2.jpg\n",
      "✅ Converted: s115_10_L_S2.jpg\n",
      "✅ Converted: s115_10_R_S2.jpg\n",
      "✅ Converted: s115_1_L_S2.jpg\n",
      "✅ Converted: s115_1_R_S2.jpg\n",
      "✅ Converted: s115_2_L_S2.jpg\n",
      "✅ Converted: s115_2_R_S2.jpg\n"
     ]
    },
    {
     "name": "stderr",
     "output_type": "stream",
     "text": [
      "Converting images:  11%|█         | 342/3200 [00:04<00:35, 81.53it/s]"
     ]
    },
    {
     "name": "stdout",
     "output_type": "stream",
     "text": [
      "✅ Converted: s115_3_L_S2.jpg\n",
      "✅ Converted: s115_3_R_S2.jpg\n",
      "✅ Converted: s115_4_L_S2.jpg\n",
      "✅ Converted: s115_4_R_S2.jpg\n",
      "✅ Converted: s115_5_L_S2.jpg\n",
      "✅ Converted: s115_5_R_S2.jpg\n",
      "✅ Converted: s115_6_L_S2.jpg\n",
      "✅ Converted: s115_6_R_S2.jpg\n",
      "✅ Converted: s115_7_L_S2.jpg\n",
      "✅ Converted: s115_7_R_S2.jpg\n",
      "✅ Converted: s115_8_L_S2.jpg\n",
      "✅ Converted: s115_8_R_S2.jpg\n",
      "✅ Converted: s115_9_L_S2.jpg\n",
      "✅ Converted: s115_9_R_S2.jpg\n",
      "✅ Converted: s116_10_L_S2.jpg\n",
      "✅ Converted: s116_10_R_S2.jpg\n"
     ]
    },
    {
     "name": "stderr",
     "output_type": "stream",
     "text": [
      "Converting images:  11%|█         | 351/3200 [00:04<00:35, 80.41it/s]"
     ]
    },
    {
     "name": "stdout",
     "output_type": "stream",
     "text": [
      "✅ Converted: s116_1_L_S2.jpg\n",
      "✅ Converted: s116_1_R_S2.jpg\n",
      "✅ Converted: s116_2_L_S2.jpg\n",
      "✅ Converted: s116_2_R_S2.jpg\n",
      "✅ Converted: s116_3_L_S2.jpg\n",
      "✅ Converted: s116_3_R_S2.jpg\n",
      "✅ Converted: s116_4_L_S2.jpg\n",
      "✅ Converted: s116_4_R_S2.jpg\n",
      "✅ Converted: s116_5_L_S2.jpg\n",
      "✅ Converted: s116_5_R_S2.jpg\n",
      "✅ Converted: s116_6_L_S2.jpg\n",
      "✅ Converted: s116_6_R_S2.jpg\n",
      "✅ Converted: s116_7_L_S2.jpg\n",
      "✅ Converted: s116_7_R_S2.jpg\n",
      "✅ Converted: s116_8_L_S2.jpg\n",
      "✅ Converted: s116_8_R_S2.jpg\n",
      "✅ Converted: s116_9_L_S2.jpg\n"
     ]
    },
    {
     "name": "stderr",
     "output_type": "stream",
     "text": [
      "Converting images:  12%|█▏        | 369/3200 [00:04<00:34, 81.41it/s]"
     ]
    },
    {
     "name": "stdout",
     "output_type": "stream",
     "text": [
      "✅ Converted: s116_9_R_S2.jpg\n",
      "✅ Converted: s117_10_L_S2.jpg\n",
      "✅ Converted: s117_10_R_S2.jpg\n",
      "✅ Converted: s117_1_L_S2.jpg\n",
      "✅ Converted: s117_1_R_S2.jpg\n",
      "✅ Converted: s117_2_L_S2.jpg\n",
      "✅ Converted: s117_2_R_S2.jpg\n",
      "✅ Converted: s117_3_L_S2.jpg\n",
      "✅ Converted: s117_3_R_S2.jpg\n",
      "✅ Converted: s117_4_L_S2.jpg\n",
      "✅ Converted: s117_4_R_S2.jpg\n",
      "✅ Converted: s117_5_L_S2.jpg\n",
      "✅ Converted: s117_5_R_S2.jpg\n",
      "✅ Converted: s117_6_L_S2.jpg\n",
      "✅ Converted: s117_6_R_S2.jpg\n",
      "✅ Converted: s117_7_L_S2.jpg\n",
      "✅ Converted: s117_7_R_S2.jpg\n"
     ]
    },
    {
     "name": "stderr",
     "output_type": "stream",
     "text": [
      "Converting images:  12%|█▏        | 387/3200 [00:04<00:35, 79.38it/s]"
     ]
    },
    {
     "name": "stdout",
     "output_type": "stream",
     "text": [
      "✅ Converted: s117_8_L_S2.jpg\n",
      "✅ Converted: s117_8_R_S2.jpg\n",
      "✅ Converted: s117_9_L_S2.jpg\n",
      "✅ Converted: s117_9_R_S2.jpg\n",
      "✅ Converted: s118_10_L_S2.jpg\n",
      "✅ Converted: s118_10_R_S2.jpg\n",
      "✅ Converted: s118_1_L_S2.jpg\n",
      "✅ Converted: s118_1_R_S2.jpg\n",
      "✅ Converted: s118_2_L_S2.jpg\n",
      "✅ Converted: s118_2_R_S2.jpg\n",
      "✅ Converted: s118_3_L_S2.jpg\n",
      "✅ Converted: s118_3_R_S2.jpg\n",
      "✅ Converted: s118_4_L_S2.jpg\n",
      "✅ Converted: s118_4_R_S2.jpg\n",
      "✅ Converted: s118_5_L_S2.jpg\n",
      "✅ Converted: s118_5_R_S2.jpg\n",
      "✅ Converted: s118_6_L_S2.jpg\n"
     ]
    },
    {
     "name": "stderr",
     "output_type": "stream",
     "text": [
      "Converting images:  13%|█▎        | 406/3200 [00:05<00:32, 85.12it/s]"
     ]
    },
    {
     "name": "stdout",
     "output_type": "stream",
     "text": [
      "✅ Converted: s118_6_R_S2.jpg\n",
      "✅ Converted: s118_7_L_S2.jpg\n",
      "✅ Converted: s118_7_R_S2.jpg\n",
      "✅ Converted: s118_8_L_S2.jpg\n",
      "✅ Converted: s118_8_R_S2.jpg\n",
      "✅ Converted: s118_9_L_S2.jpg\n",
      "✅ Converted: s118_9_R_S2.jpg\n",
      "✅ Converted: s119_10_L_S2.jpg\n",
      "✅ Converted: s119_10_R_S2.jpg\n",
      "✅ Converted: s119_1_L_S2.jpg\n",
      "✅ Converted: s119_1_R_S2.jpg\n",
      "✅ Converted: s119_2_L_S2.jpg\n",
      "✅ Converted: s119_2_R_S2.jpg\n",
      "✅ Converted: s119_3_L_S2.jpg\n",
      "✅ Converted: s119_3_R_S2.jpg\n",
      "✅ Converted: s119_4_L_S2.jpg\n",
      "✅ Converted: s119_4_R_S2.jpg\n",
      "✅ Converted: s119_5_L_S2.jpg\n",
      "✅ Converted: s119_5_R_S2.jpg\n",
      "✅ Converted: s119_6_L_S2.jpg\n"
     ]
    },
    {
     "name": "stderr",
     "output_type": "stream",
     "text": [
      "Converting images:  13%|█▎        | 424/3200 [00:05<00:32, 84.55it/s]"
     ]
    },
    {
     "name": "stdout",
     "output_type": "stream",
     "text": [
      "✅ Converted: s119_6_R_S2.jpg\n",
      "✅ Converted: s119_7_L_S2.jpg\n",
      "✅ Converted: s119_7_R_S2.jpg\n",
      "✅ Converted: s119_8_L_S2.jpg\n",
      "✅ Converted: s119_8_R_S2.jpg\n",
      "✅ Converted: s119_9_L_S2.jpg\n",
      "✅ Converted: s119_9_R_S2.jpg\n",
      "✅ Converted: s11_10_L_S2.jpg\n",
      "✅ Converted: s11_10_R_S2.jpg\n",
      "✅ Converted: s11_1_L_S2.jpg\n",
      "✅ Converted: s11_1_R_S2.jpg\n",
      "✅ Converted: s11_2_L_S2.jpg\n",
      "✅ Converted: s11_2_R_S2.jpg\n",
      "✅ Converted: s11_3_L_S2.jpg\n",
      "✅ Converted: s11_3_R_S2.jpg\n",
      "✅ Converted: s11_4_L_S2.jpg\n"
     ]
    },
    {
     "name": "stderr",
     "output_type": "stream",
     "text": [
      "Converting images:  14%|█▍        | 444/3200 [00:05<00:31, 88.77it/s]"
     ]
    },
    {
     "name": "stdout",
     "output_type": "stream",
     "text": [
      "✅ Converted: s11_4_R_S2.jpg\n",
      "✅ Converted: s11_5_L_S2.jpg\n",
      "✅ Converted: s11_5_R_S2.jpg\n",
      "✅ Converted: s11_6_L_S2.jpg\n",
      "✅ Converted: s11_6_R_S2.jpg\n",
      "✅ Converted: s11_7_L_S2.jpg\n",
      "✅ Converted: s11_7_R_S2.jpg\n",
      "✅ Converted: s11_8_L_S2.jpg\n",
      "✅ Converted: s11_8_R_S2.jpg\n",
      "✅ Converted: s11_9_L_S2.jpg\n",
      "✅ Converted: s11_9_R_S2.jpg\n",
      "✅ Converted: s120_10_L_S2.jpg\n",
      "✅ Converted: s120_10_R_S2.jpg\n",
      "✅ Converted: s120_1_L_S2.jpg\n",
      "✅ Converted: s120_1_R_S2.jpg\n",
      "✅ Converted: s120_2_L_S2.jpg\n",
      "✅ Converted: s120_2_R_S2.jpg\n",
      "✅ Converted: s120_3_L_S2.jpg\n",
      "✅ Converted: s120_3_R_S2.jpg\n",
      "✅ Converted: s120_4_L_S2.jpg\n",
      "✅ Converted: s120_4_R_S2.jpg\n"
     ]
    },
    {
     "name": "stderr",
     "output_type": "stream",
     "text": [
      "Converting images:  14%|█▍        | 464/3200 [00:05<00:29, 92.95it/s]"
     ]
    },
    {
     "name": "stdout",
     "output_type": "stream",
     "text": [
      "✅ Converted: s120_5_L_S2.jpg\n",
      "✅ Converted: s120_5_R_S2.jpg\n",
      "✅ Converted: s120_6_L_S2.jpg\n",
      "✅ Converted: s120_6_R_S2.jpg\n",
      "✅ Converted: s120_7_L_S2.jpg\n",
      "✅ Converted: s120_7_R_S2.jpg\n",
      "✅ Converted: s120_8_L_S2.jpg\n",
      "✅ Converted: s120_8_R_S2.jpg\n",
      "✅ Converted: s120_9_L_S2.jpg\n",
      "✅ Converted: s120_9_R_S2.jpg\n",
      "✅ Converted: s121_10_L_S2.jpg\n",
      "✅ Converted: s121_10_R_S2.jpg\n",
      "✅ Converted: s121_1_L_S2.jpg\n",
      "✅ Converted: s121_1_R_S2.jpg\n",
      "✅ Converted: s121_2_L_S2.jpg\n",
      "✅ Converted: s121_2_R_S2.jpg\n",
      "✅ Converted: s121_3_L_S2.jpg\n"
     ]
    },
    {
     "name": "stderr",
     "output_type": "stream",
     "text": [
      "Converting images:  15%|█▌        | 487/3200 [00:06<00:29, 92.04it/s]"
     ]
    },
    {
     "name": "stdout",
     "output_type": "stream",
     "text": [
      "✅ Converted: s121_3_R_S2.jpg\n",
      "✅ Converted: s121_4_L_S2.jpg\n",
      "✅ Converted: s121_4_R_S2.jpg\n",
      "✅ Converted: s121_5_L_S2.jpg\n",
      "✅ Converted: s121_5_R_S2.jpg\n",
      "✅ Converted: s121_6_L_S2.jpg\n",
      "✅ Converted: s121_6_R_S2.jpg\n",
      "✅ Converted: s121_7_L_S2.jpg\n",
      "✅ Converted: s121_7_R_S2.jpg\n",
      "✅ Converted: s121_8_L_S2.jpg\n",
      "✅ Converted: s121_8_R_S2.jpg\n",
      "✅ Converted: s121_9_L_S2.jpg\n",
      "✅ Converted: s121_9_R_S2.jpg\n",
      "✅ Converted: s122_10_L_S2.jpg\n",
      "✅ Converted: s122_10_R_S2.jpg\n",
      "✅ Converted: s122_1_L_S2.jpg\n",
      "✅ Converted: s122_1_R_S2.jpg\n",
      "✅ Converted: s122_2_L_S2.jpg\n",
      "✅ Converted: s122_2_R_S2.jpg\n",
      "✅ Converted: s122_3_L_S2.jpg\n"
     ]
    },
    {
     "name": "stderr",
     "output_type": "stream",
     "text": [
      "Converting images:  16%|█▌        | 497/3200 [00:06<00:28, 93.34it/s]"
     ]
    },
    {
     "name": "stdout",
     "output_type": "stream",
     "text": [
      "✅ Converted: s122_3_R_S2.jpg\n",
      "✅ Converted: s122_4_L_S2.jpg\n",
      "✅ Converted: s122_4_R_S2.jpg\n",
      "✅ Converted: s122_5_L_S2.jpg\n",
      "✅ Converted: s122_5_R_S2.jpg\n",
      "✅ Converted: s122_6_L_S2.jpg\n",
      "✅ Converted: s122_6_R_S2.jpg\n",
      "✅ Converted: s122_7_L_S2.jpg\n",
      "✅ Converted: s122_7_R_S2.jpg\n",
      "✅ Converted: s122_8_L_S2.jpg\n",
      "✅ Converted: s122_8_R_S2.jpg\n",
      "✅ Converted: s122_9_L_S2.jpg\n",
      "✅ Converted: s122_9_R_S2.jpg\n",
      "✅ Converted: s123_10_L_S2.jpg\n",
      "✅ Converted: s123_10_R_S2.jpg\n",
      "✅ Converted: s123_1_L_S2.jpg\n",
      "✅ Converted: s123_1_R_S2.jpg\n"
     ]
    },
    {
     "name": "stderr",
     "output_type": "stream",
     "text": [
      "Converting images:  16%|█▌        | 516/3200 [00:06<00:32, 83.55it/s]"
     ]
    },
    {
     "name": "stdout",
     "output_type": "stream",
     "text": [
      "✅ Converted: s123_2_L_S2.jpg\n",
      "✅ Converted: s123_2_R_S2.jpg\n",
      "✅ Converted: s123_3_L_S2.jpg\n",
      "✅ Converted: s123_3_R_S2.jpg\n",
      "✅ Converted: s123_4_L_S2.jpg\n",
      "✅ Converted: s123_4_R_S2.jpg\n",
      "✅ Converted: s123_5_L_S2.jpg\n",
      "✅ Converted: s123_5_R_S2.jpg\n",
      "✅ Converted: s123_6_L_S2.jpg\n",
      "✅ Converted: s123_6_R_S2.jpg\n",
      "✅ Converted: s123_7_L_S2.jpg\n",
      "✅ Converted: s123_7_R_S2.jpg\n",
      "✅ Converted: s123_8_L_S2.jpg\n",
      "✅ Converted: s123_8_R_S2.jpg\n",
      "✅ Converted: s123_9_L_S2.jpg\n",
      "✅ Converted: s123_9_R_S2.jpg\n"
     ]
    },
    {
     "name": "stderr",
     "output_type": "stream",
     "text": [
      "Converting images:  17%|█▋        | 537/3200 [00:06<00:30, 88.65it/s]"
     ]
    },
    {
     "name": "stdout",
     "output_type": "stream",
     "text": [
      "✅ Converted: s124_10_L_S2.jpg\n",
      "✅ Converted: s124_10_R_S2.jpg\n",
      "✅ Converted: s124_1_L_S2.jpg\n",
      "✅ Converted: s124_1_R_S2.jpg\n",
      "✅ Converted: s124_2_L_S2.jpg\n",
      "✅ Converted: s124_2_R_S2.jpg\n",
      "✅ Converted: s124_3_L_S2.jpg\n",
      "✅ Converted: s124_3_R_S2.jpg\n",
      "✅ Converted: s124_4_L_S2.jpg\n",
      "✅ Converted: s124_4_R_S2.jpg\n",
      "✅ Converted: s124_5_L_S2.jpg\n",
      "✅ Converted: s124_5_R_S2.jpg\n",
      "✅ Converted: s124_6_L_S2.jpg\n",
      "✅ Converted: s124_6_R_S2.jpg\n",
      "✅ Converted: s124_7_L_S2.jpg\n",
      "✅ Converted: s124_7_R_S2.jpg\n",
      "✅ Converted: s124_8_L_S2.jpg\n",
      "✅ Converted: s124_8_R_S2.jpg\n"
     ]
    },
    {
     "name": "stderr",
     "output_type": "stream",
     "text": [
      "Converting images:  17%|█▋        | 556/3200 [00:06<00:30, 87.72it/s]"
     ]
    },
    {
     "name": "stdout",
     "output_type": "stream",
     "text": [
      "✅ Converted: s124_9_L_S2.jpg\n",
      "✅ Converted: s124_9_R_S2.jpg\n",
      "✅ Converted: s125_10_L_S2.jpg\n",
      "✅ Converted: s125_10_R_S2.jpg\n",
      "✅ Converted: s125_1_L_S2.jpg\n",
      "✅ Converted: s125_1_R_S2.jpg\n",
      "✅ Converted: s125_2_L_S2.jpg\n",
      "✅ Converted: s125_2_R_S2.jpg\n",
      "✅ Converted: s125_3_L_S2.jpg\n",
      "✅ Converted: s125_3_R_S2.jpg\n",
      "✅ Converted: s125_4_L_S2.jpg\n",
      "✅ Converted: s125_4_R_S2.jpg\n",
      "✅ Converted: s125_5_L_S2.jpg\n",
      "✅ Converted: s125_5_R_S2.jpg\n",
      "✅ Converted: s125_6_L_S2.jpg\n",
      "✅ Converted: s125_6_R_S2.jpg\n",
      "✅ Converted: s125_7_L_S2.jpg\n",
      "✅ Converted: s125_7_R_S2.jpg\n"
     ]
    },
    {
     "name": "stderr",
     "output_type": "stream",
     "text": [
      "Converting images:  18%|█▊        | 565/3200 [00:06<00:32, 82.33it/s]"
     ]
    },
    {
     "name": "stdout",
     "output_type": "stream",
     "text": [
      "✅ Converted: s125_8_L_S2.jpg\n",
      "✅ Converted: s125_8_R_S2.jpg\n",
      "✅ Converted: s125_9_L_S2.jpg\n",
      "✅ Converted: s125_9_R_S2.jpg\n",
      "✅ Converted: s126_10_L_S2.jpg\n",
      "✅ Converted: s126_10_R_S2.jpg\n",
      "✅ Converted: s126_1_L_S2.jpg\n",
      "✅ Converted: s126_1_R_S2.jpg\n",
      "✅ Converted: s126_2_L_S2.jpg\n",
      "✅ Converted: s126_2_R_S2.jpg\n",
      "✅ Converted: s126_3_L_S2.jpg\n",
      "✅ Converted: s126_3_R_S2.jpg\n",
      "✅ Converted: s126_4_L_S2.jpg\n",
      "✅ Converted: s126_4_R_S2.jpg\n",
      "✅ Converted: s126_5_L_S2.jpg\n"
     ]
    },
    {
     "name": "stderr",
     "output_type": "stream",
     "text": [
      "Converting images:  18%|█▊        | 587/3200 [00:07<00:29, 87.57it/s]"
     ]
    },
    {
     "name": "stdout",
     "output_type": "stream",
     "text": [
      "✅ Converted: s126_5_R_S2.jpg\n",
      "✅ Converted: s126_6_L_S2.jpg\n",
      "✅ Converted: s126_6_R_S2.jpg\n",
      "✅ Converted: s126_7_L_S2.jpg\n",
      "✅ Converted: s126_7_R_S2.jpg\n",
      "✅ Converted: s126_8_L_S2.jpg\n",
      "✅ Converted: s126_8_R_S2.jpg\n",
      "✅ Converted: s126_9_L_S2.jpg\n",
      "✅ Converted: s126_9_R_S2.jpg\n",
      "✅ Converted: s127_10_L_S2.jpg\n",
      "✅ Converted: s127_10_R_S2.jpg\n",
      "✅ Converted: s127_1_L_S2.jpg\n",
      "✅ Converted: s127_1_R_S2.jpg\n",
      "✅ Converted: s127_2_L_S2.jpg\n",
      "✅ Converted: s127_2_R_S2.jpg\n",
      "✅ Converted: s127_3_L_S2.jpg\n",
      "✅ Converted: s127_3_R_S2.jpg\n",
      "✅ Converted: s127_4_L_S2.jpg\n",
      "✅ Converted: s127_4_R_S2.jpg\n"
     ]
    },
    {
     "name": "stderr",
     "output_type": "stream",
     "text": [
      "Converting images:  19%|█▉        | 605/3200 [00:07<00:31, 82.46it/s]"
     ]
    },
    {
     "name": "stdout",
     "output_type": "stream",
     "text": [
      "✅ Converted: s127_5_L_S2.jpg\n",
      "✅ Converted: s127_5_R_S2.jpg\n",
      "✅ Converted: s127_6_L_S2.jpg\n",
      "✅ Converted: s127_6_R_S2.jpg\n",
      "✅ Converted: s127_7_L_S2.jpg\n",
      "✅ Converted: s127_7_R_S2.jpg\n",
      "✅ Converted: s127_8_L_S2.jpg\n",
      "✅ Converted: s127_8_R_S2.jpg\n",
      "✅ Converted: s127_9_L_S2.jpg\n",
      "✅ Converted: s127_9_R_S2.jpg\n",
      "✅ Converted: s128_10_L_S2.jpg\n",
      "✅ Converted: s128_10_R_S2.jpg\n",
      "✅ Converted: s128_1_L_S2.jpg\n",
      "✅ Converted: s128_1_R_S2.jpg\n",
      "✅ Converted: s128_2_L_S2.jpg\n"
     ]
    },
    {
     "name": "stderr",
     "output_type": "stream",
     "text": [
      "Converting images:  19%|█▉        | 614/3200 [00:07<00:31, 82.14it/s]"
     ]
    },
    {
     "name": "stdout",
     "output_type": "stream",
     "text": [
      "✅ Converted: s128_2_R_S2.jpg\n",
      "✅ Converted: s128_3_L_S2.jpg\n",
      "✅ Converted: s128_3_R_S2.jpg\n",
      "✅ Converted: s128_4_L_S2.jpg\n",
      "✅ Converted: s128_4_R_S2.jpg\n",
      "✅ Converted: s128_5_L_S2.jpg\n",
      "✅ Converted: s128_5_R_S2.jpg\n",
      "✅ Converted: s128_6_L_S2.jpg\n",
      "✅ Converted: s128_6_R_S2.jpg\n",
      "✅ Converted: s128_7_L_S2.jpg\n",
      "✅ Converted: s128_7_R_S2.jpg\n",
      "✅ Converted: s128_8_L_S2.jpg\n",
      "✅ Converted: s128_8_R_S2.jpg\n",
      "✅ Converted: s128_9_L_S2.jpg\n",
      "✅ Converted: s128_9_R_S2.jpg\n",
      "✅ Converted: s129_10_L_S2.jpg\n"
     ]
    },
    {
     "name": "stderr",
     "output_type": "stream",
     "text": [
      "Converting images:  20%|█▉        | 632/3200 [00:07<00:32, 78.76it/s]"
     ]
    },
    {
     "name": "stdout",
     "output_type": "stream",
     "text": [
      "✅ Converted: s129_10_R_S2.jpg\n",
      "✅ Converted: s129_1_L_S2.jpg\n",
      "✅ Converted: s129_1_R_S2.jpg\n",
      "✅ Converted: s129_2_L_S2.jpg\n",
      "✅ Converted: s129_2_R_S2.jpg\n",
      "✅ Converted: s129_3_L_S2.jpg\n",
      "✅ Converted: s129_3_R_S2.jpg\n",
      "✅ Converted: s129_4_L_S2.jpg\n",
      "✅ Converted: s129_4_R_S2.jpg\n",
      "✅ Converted: s129_5_L_S2.jpg\n",
      "✅ Converted: s129_5_R_S2.jpg\n",
      "✅ Converted: s129_6_L_S2.jpg\n",
      "✅ Converted: s129_6_R_S2.jpg\n",
      "✅ Converted: s129_7_L_S2.jpg\n",
      "✅ Converted: s129_7_R_S2.jpg\n"
     ]
    },
    {
     "name": "stderr",
     "output_type": "stream",
     "text": [
      "Converting images:  20%|██        | 651/3200 [00:08<00:31, 81.88it/s]"
     ]
    },
    {
     "name": "stdout",
     "output_type": "stream",
     "text": [
      "✅ Converted: s129_8_L_S2.jpg\n",
      "✅ Converted: s129_8_R_S2.jpg\n",
      "✅ Converted: s129_9_L_S2.jpg\n",
      "✅ Converted: s129_9_R_S2.jpg\n",
      "✅ Converted: s12_10_L_S2.jpg\n",
      "✅ Converted: s12_10_R_S2.jpg\n",
      "✅ Converted: s12_1_L_S2.jpg\n",
      "✅ Converted: s12_1_R_S2.jpg\n",
      "✅ Converted: s12_2_L_S2.jpg\n",
      "✅ Converted: s12_2_R_S2.jpg\n",
      "✅ Converted: s12_3_L_S2.jpg\n",
      "✅ Converted: s12_3_R_S2.jpg\n",
      "✅ Converted: s12_4_L_S2.jpg\n",
      "✅ Converted: s12_4_R_S2.jpg\n",
      "✅ Converted: s12_5_L_S2.jpg\n",
      "✅ Converted: s12_5_R_S2.jpg\n",
      "✅ Converted: s12_6_L_S2.jpg\n"
     ]
    },
    {
     "name": "stderr",
     "output_type": "stream",
     "text": [
      "Converting images:  21%|██        | 669/3200 [00:08<00:30, 82.42it/s]"
     ]
    },
    {
     "name": "stdout",
     "output_type": "stream",
     "text": [
      "✅ Converted: s12_6_R_S2.jpg\n",
      "✅ Converted: s12_7_L_S2.jpg\n",
      "✅ Converted: s12_7_R_S2.jpg\n",
      "✅ Converted: s12_8_L_S2.jpg\n",
      "✅ Converted: s12_8_R_S2.jpg\n",
      "✅ Converted: s12_9_L_S2.jpg\n",
      "✅ Converted: s12_9_R_S2.jpg\n",
      "✅ Converted: s130_10_L_S2.jpg\n",
      "✅ Converted: s130_10_R_S2.jpg\n",
      "✅ Converted: s130_1_L_S2.jpg\n",
      "✅ Converted: s130_1_R_S2.jpg\n",
      "✅ Converted: s130_2_L_S2.jpg\n",
      "✅ Converted: s130_2_R_S2.jpg\n",
      "✅ Converted: s130_3_L_S2.jpg\n",
      "✅ Converted: s130_3_R_S2.jpg\n",
      "✅ Converted: s130_4_L_S2.jpg\n",
      "✅ Converted: s130_4_R_S2.jpg\n"
     ]
    },
    {
     "name": "stderr",
     "output_type": "stream",
     "text": [
      "Converting images:  21%|██        | 678/3200 [00:08<00:32, 78.70it/s]"
     ]
    },
    {
     "name": "stdout",
     "output_type": "stream",
     "text": [
      "✅ Converted: s130_5_L_S2.jpg\n",
      "✅ Converted: s130_5_R_S2.jpg\n",
      "✅ Converted: s130_6_L_S2.jpg\n",
      "✅ Converted: s130_6_R_S2.jpg\n",
      "✅ Converted: s130_7_L_S2.jpg\n",
      "✅ Converted: s130_7_R_S2.jpg\n",
      "✅ Converted: s130_8_L_S2.jpg\n",
      "✅ Converted: s130_8_R_S2.jpg\n",
      "✅ Converted: s130_9_L_S2.jpg\n",
      "✅ Converted: s130_9_R_S2.jpg\n",
      "✅ Converted: s131_10_L_S2.jpg\n",
      "✅ Converted: s131_10_R_S2.jpg\n",
      "✅ Converted: s131_1_L_S2.jpg\n",
      "✅ Converted: s131_1_R_S2.jpg\n",
      "✅ Converted: s131_2_L_S2.jpg\n",
      "✅ Converted: s131_2_R_S2.jpg\n"
     ]
    },
    {
     "name": "stderr",
     "output_type": "stream",
     "text": [
      "Converting images:  22%|██▏       | 695/3200 [00:08<00:33, 74.37it/s]"
     ]
    },
    {
     "name": "stdout",
     "output_type": "stream",
     "text": [
      "✅ Converted: s131_3_L_S2.jpg\n",
      "✅ Converted: s131_3_R_S2.jpg\n",
      "✅ Converted: s131_4_L_S2.jpg\n",
      "✅ Converted: s131_4_R_S2.jpg\n",
      "✅ Converted: s131_5_L_S2.jpg\n",
      "✅ Converted: s131_5_R_S2.jpg\n",
      "✅ Converted: s131_6_L_S2.jpg\n",
      "✅ Converted: s131_6_R_S2.jpg\n",
      "✅ Converted: s131_7_L_S2.jpg\n",
      "✅ Converted: s131_7_R_S2.jpg\n",
      "✅ Converted: s131_8_L_S2.jpg\n",
      "✅ Converted: s131_8_R_S2.jpg\n",
      "✅ Converted: s131_9_L_S2.jpg\n",
      "✅ Converted: s131_9_R_S2.jpg\n",
      "✅ Converted: s132_10_L_S2.jpg\n"
     ]
    },
    {
     "name": "stderr",
     "output_type": "stream",
     "text": [
      "Converting images:  22%|██▏       | 713/3200 [00:08<00:31, 78.08it/s]"
     ]
    },
    {
     "name": "stdout",
     "output_type": "stream",
     "text": [
      "✅ Converted: s132_10_R_S2.jpg\n",
      "✅ Converted: s132_1_L_S2.jpg\n",
      "✅ Converted: s132_1_R_S2.jpg\n",
      "✅ Converted: s132_2_L_S2.jpg\n",
      "✅ Converted: s132_2_R_S2.jpg\n",
      "✅ Converted: s132_3_L_S2.jpg\n",
      "✅ Converted: s132_3_R_S2.jpg\n",
      "✅ Converted: s132_4_L_S2.jpg\n",
      "✅ Converted: s132_4_R_S2.jpg\n",
      "✅ Converted: s132_5_L_S2.jpg\n",
      "✅ Converted: s132_5_R_S2.jpg\n",
      "✅ Converted: s132_6_L_S2.jpg\n",
      "✅ Converted: s132_6_R_S2.jpg\n",
      "✅ Converted: s132_7_L_S2.jpg\n",
      "✅ Converted: s132_7_R_S2.jpg\n",
      "✅ Converted: s132_8_L_S2.jpg\n"
     ]
    },
    {
     "name": "stderr",
     "output_type": "stream",
     "text": [
      "Converting images:  23%|██▎       | 729/3200 [00:09<00:32, 75.21it/s]"
     ]
    },
    {
     "name": "stdout",
     "output_type": "stream",
     "text": [
      "✅ Converted: s132_8_R_S2.jpg\n",
      "✅ Converted: s132_9_L_S2.jpg\n",
      "✅ Converted: s132_9_R_S2.jpg\n",
      "✅ Converted: s133_10_L_S2.jpg\n",
      "✅ Converted: s133_10_R_S2.jpg\n",
      "✅ Converted: s133_1_L_S2.jpg\n",
      "✅ Converted: s133_1_R_S2.jpg\n",
      "✅ Converted: s133_2_L_S2.jpg\n",
      "✅ Converted: s133_2_R_S2.jpg\n",
      "✅ Converted: s133_3_L_S2.jpg\n",
      "✅ Converted: s133_3_R_S2.jpg\n",
      "✅ Converted: s133_4_L_S2.jpg\n",
      "✅ Converted: s133_4_R_S2.jpg\n",
      "✅ Converted: s133_5_L_S2.jpg\n"
     ]
    },
    {
     "name": "stderr",
     "output_type": "stream",
     "text": [
      "Converting images:  23%|██▎       | 737/3200 [00:09<00:45, 54.08it/s]"
     ]
    },
    {
     "name": "stdout",
     "output_type": "stream",
     "text": [
      "✅ Converted: s133_5_R_S2.jpg\n",
      "✅ Converted: s133_6_L_S2.jpg\n",
      "✅ Converted: s133_6_R_S2.jpg\n",
      "✅ Converted: s133_7_L_S2.jpg\n",
      "✅ Converted: s133_7_R_S2.jpg\n",
      "✅ Converted: s133_8_L_S2.jpg\n",
      "✅ Converted: s133_8_R_S2.jpg\n"
     ]
    },
    {
     "name": "stderr",
     "output_type": "stream",
     "text": [
      "Converting images:  23%|██▎       | 745/3200 [00:09<00:42, 58.32it/s]"
     ]
    },
    {
     "name": "stdout",
     "output_type": "stream",
     "text": [
      "✅ Converted: s133_9_L_S2.jpg\n",
      "✅ Converted: s133_9_R_S2.jpg\n",
      "✅ Converted: s134_10_L_S2.jpg\n",
      "✅ Converted: s134_10_R_S2.jpg\n",
      "✅ Converted: s134_1_L_S2.jpg\n",
      "✅ Converted: s134_1_R_S2.jpg\n",
      "✅ Converted: s134_2_L_S2.jpg\n",
      "✅ Converted: s134_2_R_S2.jpg\n",
      "✅ Converted: s134_3_L_S2.jpg\n",
      "✅ Converted: s134_3_R_S2.jpg\n",
      "✅ Converted: s134_4_L_S2.jpg\n",
      "✅ Converted: s134_4_R_S2.jpg\n",
      "✅ Converted: s134_5_L_S2.jpg\n",
      "✅ Converted: s134_5_R_S2.jpg\n",
      "✅ Converted: s134_6_L_S2.jpg\n"
     ]
    },
    {
     "name": "stderr",
     "output_type": "stream",
     "text": [
      "Converting images:  24%|██▍       | 763/3200 [00:09<00:35, 69.04it/s]"
     ]
    },
    {
     "name": "stdout",
     "output_type": "stream",
     "text": [
      "✅ Converted: s134_6_R_S2.jpg\n",
      "✅ Converted: s134_7_L_S2.jpg\n",
      "✅ Converted: s134_7_R_S2.jpg\n",
      "✅ Converted: s134_8_L_S2.jpg\n",
      "✅ Converted: s134_8_R_S2.jpg\n",
      "✅ Converted: s134_9_L_S2.jpg\n",
      "✅ Converted: s134_9_R_S2.jpg\n",
      "✅ Converted: s135_10_L_S2.jpg\n",
      "✅ Converted: s135_10_R_S2.jpg\n",
      "✅ Converted: s135_1_L_S2.jpg\n",
      "✅ Converted: s135_1_R_S2.jpg\n",
      "✅ Converted: s135_2_L_S2.jpg\n",
      "✅ Converted: s135_2_R_S2.jpg\n",
      "✅ Converted: s135_3_L_S2.jpg\n",
      "✅ Converted: s135_3_R_S2.jpg\n",
      "✅ Converted: s135_4_L_S2.jpg\n",
      "✅ Converted: s135_4_R_S2.jpg\n",
      "✅ Converted: s135_5_L_S2.jpg\n"
     ]
    },
    {
     "name": "stderr",
     "output_type": "stream",
     "text": [
      "Converting images:  25%|██▍       | 787/3200 [00:09<00:27, 88.92it/s]"
     ]
    },
    {
     "name": "stdout",
     "output_type": "stream",
     "text": [
      "✅ Converted: s135_5_R_S2.jpg\n",
      "✅ Converted: s135_6_L_S2.jpg\n",
      "✅ Converted: s135_6_R_S2.jpg\n",
      "✅ Converted: s135_7_L_S2.jpg\n",
      "✅ Converted: s135_7_R_S2.jpg\n",
      "✅ Converted: s135_8_L_S2.jpg\n",
      "✅ Converted: s135_8_R_S2.jpg\n",
      "✅ Converted: s135_9_L_S2.jpg\n",
      "✅ Converted: s135_9_R_S2.jpg\n",
      "✅ Converted: s136_10_L_S2.jpg\n",
      "✅ Converted: s136_10_R_S2.jpg\n",
      "✅ Converted: s136_1_L_S2.jpg\n",
      "✅ Converted: s136_1_R_S2.jpg\n",
      "✅ Converted: s136_2_L_S2.jpg\n",
      "✅ Converted: s136_2_R_S2.jpg\n",
      "✅ Converted: s136_3_L_S2.jpg\n",
      "✅ Converted: s136_3_R_S2.jpg\n",
      "✅ Converted: s136_4_L_S2.jpg\n",
      "✅ Converted: s136_4_R_S2.jpg\n",
      "✅ Converted: s136_5_L_S2.jpg\n",
      "✅ Converted: s136_5_R_S2.jpg\n",
      "✅ Converted: s136_6_L_S2.jpg\n",
      "✅ Converted: s136_6_R_S2.jpg\n"
     ]
    },
    {
     "name": "stderr",
     "output_type": "stream",
     "text": [
      "Converting images:  25%|██▌       | 807/3200 [00:10<00:28, 85.24it/s]"
     ]
    },
    {
     "name": "stdout",
     "output_type": "stream",
     "text": [
      "✅ Converted: s136_7_L_S2.jpg\n",
      "✅ Converted: s136_7_R_S2.jpg\n",
      "✅ Converted: s136_8_L_S2.jpg\n",
      "✅ Converted: s136_8_R_S2.jpg\n",
      "✅ Converted: s136_9_L_S2.jpg\n",
      "✅ Converted: s136_9_R_S2.jpg\n",
      "✅ Converted: s137_10_L_S2.jpg\n",
      "✅ Converted: s137_10_R_S2.jpg\n",
      "✅ Converted: s137_1_L_S2.jpg\n",
      "✅ Converted: s137_1_R_S2.jpg\n",
      "✅ Converted: s137_2_L_S2.jpg\n",
      "✅ Converted: s137_2_R_S2.jpg\n",
      "✅ Converted: s137_3_L_S2.jpg\n",
      "✅ Converted: s137_3_R_S2.jpg\n",
      "✅ Converted: s137_4_L_S2.jpg\n",
      "✅ Converted: s137_4_R_S2.jpg\n",
      "✅ Converted: s137_5_L_S2.jpg\n",
      "✅ Converted: s137_5_R_S2.jpg\n"
     ]
    },
    {
     "name": "stderr",
     "output_type": "stream",
     "text": [
      "Converting images:  26%|██▌       | 829/3200 [00:10<00:26, 88.68it/s]"
     ]
    },
    {
     "name": "stdout",
     "output_type": "stream",
     "text": [
      "✅ Converted: s137_6_L_S2.jpg\n",
      "✅ Converted: s137_6_R_S2.jpg\n",
      "✅ Converted: s137_7_L_S2.jpg\n",
      "✅ Converted: s137_7_R_S2.jpg\n",
      "✅ Converted: s137_8_L_S2.jpg\n",
      "✅ Converted: s137_8_R_S2.jpg\n",
      "✅ Converted: s137_9_L_S2.jpg\n",
      "✅ Converted: s137_9_R_S2.jpg\n",
      "✅ Converted: s138_10_L_S2.jpg\n",
      "✅ Converted: s138_10_R_S2.jpg\n",
      "✅ Converted: s138_1_L_S2.jpg\n",
      "✅ Converted: s138_1_R_S2.jpg\n",
      "✅ Converted: s138_2_L_S2.jpg\n",
      "✅ Converted: s138_2_R_S2.jpg\n",
      "✅ Converted: s138_3_L_S2.jpg\n",
      "✅ Converted: s138_3_R_S2.jpg\n",
      "✅ Converted: s138_4_L_S2.jpg\n",
      "✅ Converted: s138_4_R_S2.jpg\n"
     ]
    },
    {
     "name": "stderr",
     "output_type": "stream",
     "text": [
      "Converting images:  26%|██▌       | 839/3200 [00:10<00:28, 82.49it/s]"
     ]
    },
    {
     "name": "stdout",
     "output_type": "stream",
     "text": [
      "✅ Converted: s138_5_L_S2.jpg\n",
      "✅ Converted: s138_5_R_S2.jpg\n",
      "✅ Converted: s138_6_L_S2.jpg\n",
      "✅ Converted: s138_6_R_S2.jpg\n",
      "✅ Converted: s138_7_L_S2.jpg\n",
      "✅ Converted: s138_7_R_S2.jpg\n",
      "✅ Converted: s138_8_L_S2.jpg\n",
      "✅ Converted: s138_8_R_S2.jpg\n",
      "✅ Converted: s138_9_L_S2.jpg\n",
      "✅ Converted: s138_9_R_S2.jpg\n",
      "✅ Converted: s139_10_L_S2.jpg\n",
      "✅ Converted: s139_10_R_S2.jpg\n",
      "✅ Converted: s139_1_L_S2.jpg\n",
      "✅ Converted: s139_1_R_S2.jpg\n",
      "✅ Converted: s139_2_L_S2.jpg\n",
      "✅ Converted: s139_2_R_S2.jpg\n"
     ]
    },
    {
     "name": "stderr",
     "output_type": "stream",
     "text": [
      "Converting images:  27%|██▋       | 858/3200 [00:10<00:27, 84.95it/s]"
     ]
    },
    {
     "name": "stdout",
     "output_type": "stream",
     "text": [
      "✅ Converted: s139_3_L_S2.jpg\n",
      "✅ Converted: s139_3_R_S2.jpg\n",
      "✅ Converted: s139_4_L_S2.jpg\n",
      "✅ Converted: s139_4_R_S2.jpg\n",
      "✅ Converted: s139_5_L_S2.jpg\n",
      "✅ Converted: s139_5_R_S2.jpg\n",
      "✅ Converted: s139_6_L_S2.jpg\n",
      "✅ Converted: s139_6_R_S2.jpg\n",
      "✅ Converted: s139_7_L_S2.jpg\n",
      "✅ Converted: s139_7_R_S2.jpg\n",
      "✅ Converted: s139_8_L_S2.jpg\n",
      "✅ Converted: s139_8_R_S2.jpg\n",
      "✅ Converted: s139_9_L_S2.jpg\n",
      "✅ Converted: s139_9_R_S2.jpg\n",
      "✅ Converted: s13_10_L_S2.jpg\n",
      "✅ Converted: s13_10_R_S2.jpg\n",
      "✅ Converted: s13_1_L_S2.jpg\n"
     ]
    },
    {
     "name": "stderr",
     "output_type": "stream",
     "text": [
      "Converting images:  27%|██▋       | 876/3200 [00:10<00:27, 83.59it/s]"
     ]
    },
    {
     "name": "stdout",
     "output_type": "stream",
     "text": [
      "✅ Converted: s13_1_R_S2.jpg\n",
      "✅ Converted: s13_2_L_S2.jpg\n",
      "✅ Converted: s13_2_R_S2.jpg\n",
      "✅ Converted: s13_3_L_S2.jpg\n",
      "✅ Converted: s13_3_R_S2.jpg\n",
      "✅ Converted: s13_4_L_S2.jpg\n",
      "✅ Converted: s13_4_R_S2.jpg\n",
      "✅ Converted: s13_5_L_S2.jpg\n",
      "✅ Converted: s13_5_R_S2.jpg\n",
      "✅ Converted: s13_6_L_S2.jpg\n",
      "✅ Converted: s13_6_R_S2.jpg\n",
      "✅ Converted: s13_7_L_S2.jpg\n",
      "✅ Converted: s13_7_R_S2.jpg\n",
      "✅ Converted: s13_8_L_S2.jpg\n",
      "✅ Converted: s13_8_R_S2.jpg\n",
      "✅ Converted: s13_9_L_S2.jpg\n",
      "✅ Converted: s13_9_R_S2.jpg\n"
     ]
    },
    {
     "name": "stderr",
     "output_type": "stream",
     "text": [
      "Converting images:  28%|██▊       | 896/3200 [00:11<00:26, 87.67it/s]"
     ]
    },
    {
     "name": "stdout",
     "output_type": "stream",
     "text": [
      "✅ Converted: s140_10_L_S2.jpg\n",
      "✅ Converted: s140_10_R_S2.jpg\n",
      "✅ Converted: s140_1_L_S2.jpg\n",
      "✅ Converted: s140_1_R_S2.jpg\n",
      "✅ Converted: s140_2_L_S2.jpg\n",
      "✅ Converted: s140_2_R_S2.jpg\n",
      "✅ Converted: s140_3_L_S2.jpg\n",
      "✅ Converted: s140_3_R_S2.jpg\n",
      "✅ Converted: s140_4_L_S2.jpg\n",
      "✅ Converted: s140_4_R_S2.jpg\n",
      "✅ Converted: s140_5_L_S2.jpg\n",
      "✅ Converted: s140_5_R_S2.jpg\n",
      "✅ Converted: s140_6_L_S2.jpg\n",
      "✅ Converted: s140_6_R_S2.jpg\n",
      "✅ Converted: s140_7_L_S2.jpg\n",
      "✅ Converted: s140_7_R_S2.jpg\n",
      "✅ Converted: s140_8_L_S2.jpg\n",
      "✅ Converted: s140_8_R_S2.jpg\n",
      "✅ Converted: s140_9_L_S2.jpg\n",
      "✅ Converted: s140_9_R_S2.jpg\n",
      "✅ Converted: s141_10_L_S2.jpg\n",
      "✅ Converted: s141_10_R_S2.jpg\n",
      "✅ Converted: s141_1_L_S2.jpg\n"
     ]
    },
    {
     "name": "stderr",
     "output_type": "stream",
     "text": [
      "Converting images:  29%|██▊       | 918/3200 [00:11<00:25, 88.96it/s]"
     ]
    },
    {
     "name": "stdout",
     "output_type": "stream",
     "text": [
      "✅ Converted: s141_1_R_S2.jpg\n",
      "✅ Converted: s141_2_L_S2.jpg\n",
      "✅ Converted: s141_2_R_S2.jpg\n",
      "✅ Converted: s141_3_L_S2.jpg\n",
      "✅ Converted: s141_3_R_S2.jpg\n",
      "✅ Converted: s141_4_L_S2.jpg\n",
      "✅ Converted: s141_4_R_S2.jpg\n",
      "✅ Converted: s141_5_L_S2.jpg\n",
      "✅ Converted: s141_5_R_S2.jpg\n",
      "✅ Converted: s141_6_L_S2.jpg\n",
      "✅ Converted: s141_6_R_S2.jpg\n",
      "✅ Converted: s141_7_L_S2.jpg\n",
      "✅ Converted: s141_7_R_S2.jpg\n",
      "✅ Converted: s141_8_L_S2.jpg\n",
      "✅ Converted: s141_8_R_S2.jpg\n",
      "✅ Converted: s141_9_L_S2.jpg\n"
     ]
    },
    {
     "name": "stderr",
     "output_type": "stream",
     "text": [
      "Converting images:  29%|██▉       | 927/3200 [00:11<00:26, 87.30it/s]"
     ]
    },
    {
     "name": "stdout",
     "output_type": "stream",
     "text": [
      "✅ Converted: s141_9_R_S2.jpg\n",
      "✅ Converted: s142_10_L_S2.jpg\n",
      "✅ Converted: s142_10_R_S2.jpg\n",
      "✅ Converted: s142_1_L_S2.jpg\n",
      "✅ Converted: s142_1_R_S2.jpg\n",
      "✅ Converted: s142_2_L_S2.jpg\n",
      "✅ Converted: s142_2_R_S2.jpg\n",
      "✅ Converted: s142_3_L_S2.jpg\n",
      "✅ Converted: s142_3_R_S2.jpg\n",
      "✅ Converted: s142_4_L_S2.jpg\n",
      "✅ Converted: s142_4_R_S2.jpg\n",
      "✅ Converted: s142_5_L_S2.jpg\n",
      "✅ Converted: s142_5_R_S2.jpg\n",
      "✅ Converted: s142_6_L_S2.jpg\n",
      "✅ Converted: s142_6_R_S2.jpg\n",
      "✅ Converted: s142_7_L_S2.jpg\n"
     ]
    },
    {
     "name": "stderr",
     "output_type": "stream",
     "text": [
      "Converting images:  30%|██▉       | 945/3200 [00:11<00:27, 82.26it/s]"
     ]
    },
    {
     "name": "stdout",
     "output_type": "stream",
     "text": [
      "✅ Converted: s142_7_R_S2.jpg\n",
      "✅ Converted: s142_8_L_S2.jpg\n",
      "✅ Converted: s142_8_R_S2.jpg\n",
      "✅ Converted: s142_9_L_S2.jpg\n",
      "✅ Converted: s142_9_R_S2.jpg\n",
      "✅ Converted: s143_10_L_S2.jpg\n",
      "✅ Converted: s143_10_R_S2.jpg\n",
      "✅ Converted: s143_1_L_S2.jpg\n",
      "✅ Converted: s143_1_R_S2.jpg\n",
      "✅ Converted: s143_2_L_S2.jpg\n",
      "✅ Converted: s143_2_R_S2.jpg\n",
      "✅ Converted: s143_3_L_S2.jpg\n",
      "✅ Converted: s143_3_R_S2.jpg\n",
      "✅ Converted: s143_4_L_S2.jpg\n",
      "✅ Converted: s143_4_R_S2.jpg\n",
      "✅ Converted: s143_5_L_S2.jpg\n"
     ]
    },
    {
     "name": "stderr",
     "output_type": "stream",
     "text": [
      "Converting images:  30%|███       | 963/3200 [00:11<00:28, 79.76it/s]"
     ]
    },
    {
     "name": "stdout",
     "output_type": "stream",
     "text": [
      "✅ Converted: s143_5_R_S2.jpg\n",
      "✅ Converted: s143_6_L_S2.jpg\n",
      "✅ Converted: s143_6_R_S2.jpg\n",
      "✅ Converted: s143_7_L_S2.jpg\n",
      "✅ Converted: s143_7_R_S2.jpg\n",
      "✅ Converted: s143_8_L_S2.jpg\n",
      "✅ Converted: s143_8_R_S2.jpg\n",
      "✅ Converted: s143_9_L_S2.jpg\n",
      "✅ Converted: s143_9_R_S2.jpg\n",
      "✅ Converted: s144_10_L_S2.jpg\n",
      "✅ Converted: s144_10_R_S2.jpg\n",
      "✅ Converted: s144_1_L_S2.jpg\n",
      "✅ Converted: s144_1_R_S2.jpg\n",
      "✅ Converted: s144_2_L_S2.jpg\n",
      "✅ Converted: s144_2_R_S2.jpg\n",
      "✅ Converted: s144_3_L_S2.jpg\n",
      "✅ Converted: s144_3_R_S2.jpg\n"
     ]
    },
    {
     "name": "stderr",
     "output_type": "stream",
     "text": [
      "Converting images:  31%|███       | 984/3200 [00:12<00:25, 87.42it/s]"
     ]
    },
    {
     "name": "stdout",
     "output_type": "stream",
     "text": [
      "✅ Converted: s144_4_L_S2.jpg\n",
      "✅ Converted: s144_4_R_S2.jpg\n",
      "✅ Converted: s144_5_L_S2.jpg\n",
      "✅ Converted: s144_5_R_S2.jpg\n",
      "✅ Converted: s144_6_L_S2.jpg\n",
      "✅ Converted: s144_6_R_S2.jpg\n",
      "✅ Converted: s144_7_L_S2.jpg\n",
      "✅ Converted: s144_7_R_S2.jpg\n",
      "✅ Converted: s144_8_L_S2.jpg\n",
      "✅ Converted: s144_8_R_S2.jpg\n",
      "✅ Converted: s144_9_L_S2.jpg\n",
      "✅ Converted: s144_9_R_S2.jpg\n",
      "✅ Converted: s145_10_L_S2.jpg\n",
      "✅ Converted: s145_10_R_S2.jpg\n",
      "✅ Converted: s145_1_L_S2.jpg\n",
      "✅ Converted: s145_1_R_S2.jpg\n",
      "✅ Converted: s145_2_L_S2.jpg\n",
      "✅ Converted: s145_2_R_S2.jpg\n"
     ]
    },
    {
     "name": "stderr",
     "output_type": "stream",
     "text": [
      "Converting images:  31%|███       | 993/3200 [00:12<00:26, 82.28it/s]"
     ]
    },
    {
     "name": "stdout",
     "output_type": "stream",
     "text": [
      "✅ Converted: s145_3_L_S2.jpg\n",
      "✅ Converted: s145_3_R_S2.jpg\n",
      "✅ Converted: s145_4_L_S2.jpg\n",
      "✅ Converted: s145_4_R_S2.jpg\n",
      "✅ Converted: s145_5_L_S2.jpg\n",
      "✅ Converted: s145_5_R_S2.jpg\n",
      "✅ Converted: s145_6_L_S2.jpg\n",
      "✅ Converted: s145_6_R_S2.jpg\n",
      "✅ Converted: s145_7_L_S2.jpg\n",
      "✅ Converted: s145_7_R_S2.jpg\n",
      "✅ Converted: s145_8_L_S2.jpg\n",
      "✅ Converted: s145_8_R_S2.jpg\n",
      "✅ Converted: s145_9_L_S2.jpg\n",
      "✅ Converted: s145_9_R_S2.jpg\n",
      "✅ Converted: s146_10_L_S2.jpg\n",
      "✅ Converted: s146_10_R_S2.jpg\n",
      "✅ Converted: s146_1_L_S2.jpg\n"
     ]
    },
    {
     "name": "stderr",
     "output_type": "stream",
     "text": [
      "Converting images:  32%|███▏      | 1014/3200 [00:12<00:24, 89.17it/s]"
     ]
    },
    {
     "name": "stdout",
     "output_type": "stream",
     "text": [
      "✅ Converted: s146_1_R_S2.jpg\n",
      "✅ Converted: s146_2_L_S2.jpg\n",
      "✅ Converted: s146_2_R_S2.jpg\n",
      "✅ Converted: s146_3_L_S2.jpg\n",
      "✅ Converted: s146_3_R_S2.jpg\n",
      "✅ Converted: s146_4_L_S2.jpg\n",
      "✅ Converted: s146_4_R_S2.jpg\n",
      "✅ Converted: s146_5_L_S2.jpg\n",
      "✅ Converted: s146_5_R_S2.jpg\n",
      "✅ Converted: s146_6_L_S2.jpg\n",
      "✅ Converted: s146_6_R_S2.jpg\n",
      "✅ Converted: s146_7_L_S2.jpg\n",
      "✅ Converted: s146_7_R_S2.jpg\n",
      "✅ Converted: s146_8_L_S2.jpg\n",
      "✅ Converted: s146_8_R_S2.jpg\n",
      "✅ Converted: s146_9_L_S2.jpg\n",
      "✅ Converted: s146_9_R_S2.jpg\n",
      "✅ Converted: s147_10_L_S2.jpg\n",
      "✅ Converted: s147_10_R_S2.jpg\n",
      "✅ Converted: s147_1_L_S2.jpg\n",
      "✅ Converted: s147_1_R_S2.jpg\n",
      "✅ Converted: s147_2_L_S2.jpg\n",
      "✅ Converted: s147_2_R_S2.jpg\n",
      "✅ Converted: s147_3_L_S2.jpg\n"
     ]
    },
    {
     "name": "stderr",
     "output_type": "stream",
     "text": [
      "Converting images:  32%|███▏      | 1038/3200 [00:12<00:23, 92.75it/s]"
     ]
    },
    {
     "name": "stdout",
     "output_type": "stream",
     "text": [
      "✅ Converted: s147_3_R_S2.jpg\n",
      "✅ Converted: s147_4_L_S2.jpg\n",
      "✅ Converted: s147_4_R_S2.jpg\n",
      "✅ Converted: s147_5_L_S2.jpg\n",
      "✅ Converted: s147_5_R_S2.jpg\n",
      "✅ Converted: s147_6_L_S2.jpg\n",
      "✅ Converted: s147_6_R_S2.jpg\n",
      "✅ Converted: s147_7_L_S2.jpg\n",
      "✅ Converted: s147_7_R_S2.jpg\n",
      "✅ Converted: s147_8_L_S2.jpg\n",
      "✅ Converted: s147_8_R_S2.jpg\n",
      "✅ Converted: s147_9_L_S2.jpg\n",
      "✅ Converted: s147_9_R_S2.jpg\n",
      "✅ Converted: s148_10_L_S2.jpg\n",
      "✅ Converted: s148_10_R_S2.jpg\n",
      "✅ Converted: s148_1_L_S2.jpg\n",
      "✅ Converted: s148_1_R_S2.jpg\n"
     ]
    },
    {
     "name": "stderr",
     "output_type": "stream",
     "text": [
      "Converting images:  33%|███▎      | 1057/3200 [00:13<00:24, 86.62it/s]"
     ]
    },
    {
     "name": "stdout",
     "output_type": "stream",
     "text": [
      "✅ Converted: s148_2_L_S2.jpg\n",
      "✅ Converted: s148_2_R_S2.jpg\n",
      "✅ Converted: s148_3_L_S2.jpg\n",
      "✅ Converted: s148_3_R_S2.jpg\n",
      "✅ Converted: s148_4_L_S2.jpg\n",
      "✅ Converted: s148_4_R_S2.jpg\n",
      "✅ Converted: s148_5_L_S2.jpg\n",
      "✅ Converted: s148_5_R_S2.jpg\n",
      "✅ Converted: s148_6_L_S2.jpg\n",
      "✅ Converted: s148_6_R_S2.jpg\n",
      "✅ Converted: s148_7_L_S2.jpg\n",
      "✅ Converted: s148_7_R_S2.jpg\n",
      "✅ Converted: s148_8_L_S2.jpg\n",
      "✅ Converted: s148_8_R_S2.jpg\n",
      "✅ Converted: s148_9_L_S2.jpg\n",
      "✅ Converted: s148_9_R_S2.jpg\n"
     ]
    },
    {
     "name": "stderr",
     "output_type": "stream",
     "text": [
      "Converting images:  34%|███▎      | 1075/3200 [00:13<00:25, 83.10it/s]"
     ]
    },
    {
     "name": "stdout",
     "output_type": "stream",
     "text": [
      "✅ Converted: s149_10_L_S2.jpg\n",
      "✅ Converted: s149_10_R_S2.jpg\n",
      "✅ Converted: s149_1_L_S2.jpg\n",
      "✅ Converted: s149_1_R_S2.jpg\n",
      "✅ Converted: s149_2_L_S2.jpg\n",
      "✅ Converted: s149_2_R_S2.jpg\n",
      "✅ Converted: s149_3_L_S2.jpg\n",
      "✅ Converted: s149_3_R_S2.jpg\n",
      "✅ Converted: s149_4_L_S2.jpg\n",
      "✅ Converted: s149_4_R_S2.jpg\n",
      "✅ Converted: s149_5_L_S2.jpg\n",
      "✅ Converted: s149_5_R_S2.jpg\n",
      "✅ Converted: s149_6_L_S2.jpg\n",
      "✅ Converted: s149_6_R_S2.jpg\n",
      "✅ Converted: s149_7_L_S2.jpg\n",
      "✅ Converted: s149_7_R_S2.jpg\n",
      "✅ Converted: s149_8_L_S2.jpg\n",
      "✅ Converted: s149_8_R_S2.jpg\n"
     ]
    },
    {
     "name": "stderr",
     "output_type": "stream",
     "text": [
      "Converting images:  34%|███▍      | 1094/3200 [00:13<00:25, 82.14it/s]"
     ]
    },
    {
     "name": "stdout",
     "output_type": "stream",
     "text": [
      "✅ Converted: s149_9_L_S2.jpg\n",
      "✅ Converted: s149_9_R_S2.jpg\n",
      "✅ Converted: s14_10_L_S2.jpg\n",
      "✅ Converted: s14_10_R_S2.jpg\n",
      "✅ Converted: s14_1_L_S2.jpg\n",
      "✅ Converted: s14_1_R_S2.jpg\n",
      "✅ Converted: s14_2_L_S2.jpg\n",
      "✅ Converted: s14_2_R_S2.jpg\n",
      "✅ Converted: s14_3_L_S2.jpg\n",
      "✅ Converted: s14_3_R_S2.jpg\n",
      "✅ Converted: s14_4_L_S2.jpg\n",
      "✅ Converted: s14_4_R_S2.jpg\n",
      "✅ Converted: s14_5_L_S2.jpg\n",
      "✅ Converted: s14_5_R_S2.jpg\n",
      "✅ Converted: s14_6_L_S2.jpg\n",
      "✅ Converted: s14_6_R_S2.jpg\n"
     ]
    },
    {
     "name": "stderr",
     "output_type": "stream",
     "text": [
      "Converting images:  34%|███▍      | 1103/3200 [00:13<00:25, 83.54it/s]"
     ]
    },
    {
     "name": "stdout",
     "output_type": "stream",
     "text": [
      "✅ Converted: s14_7_L_S2.jpg\n",
      "✅ Converted: s14_7_R_S2.jpg\n",
      "✅ Converted: s14_8_L_S2.jpg\n",
      "✅ Converted: s14_8_R_S2.jpg\n",
      "✅ Converted: s14_9_L_S2.jpg\n",
      "✅ Converted: s14_9_R_S2.jpg\n",
      "✅ Converted: s150_10_L_S2.jpg\n",
      "✅ Converted: s150_10_R_S2.jpg\n",
      "✅ Converted: s150_1_L_S2.jpg\n",
      "✅ Converted: s150_1_R_S2.jpg\n",
      "✅ Converted: s150_2_L_S2.jpg\n",
      "✅ Converted: s150_2_R_S2.jpg\n",
      "✅ Converted: s150_3_L_S2.jpg\n",
      "✅ Converted: s150_3_R_S2.jpg\n",
      "✅ Converted: s150_4_L_S2.jpg\n",
      "✅ Converted: s150_4_R_S2.jpg\n",
      "✅ Converted: s150_5_L_S2.jpg\n",
      "✅ Converted: s150_5_R_S2.jpg\n"
     ]
    },
    {
     "name": "stderr",
     "output_type": "stream",
     "text": [
      "Converting images:  35%|███▌      | 1125/3200 [00:13<00:22, 93.87it/s]"
     ]
    },
    {
     "name": "stdout",
     "output_type": "stream",
     "text": [
      "✅ Converted: s150_6_L_S2.jpg\n",
      "✅ Converted: s150_6_R_S2.jpg\n",
      "✅ Converted: s150_7_L_S2.jpg\n",
      "✅ Converted: s150_7_R_S2.jpg\n",
      "✅ Converted: s150_8_L_S2.jpg\n",
      "✅ Converted: s150_8_R_S2.jpg\n",
      "✅ Converted: s150_9_L_S2.jpg\n",
      "✅ Converted: s150_9_R_S2.jpg\n",
      "✅ Converted: s151_10_L_S2.jpg\n",
      "✅ Converted: s151_10_R_S2.jpg\n",
      "✅ Converted: s151_1_L_S2.jpg\n",
      "✅ Converted: s151_1_R_S2.jpg\n",
      "✅ Converted: s151_2_L_S2.jpg\n",
      "✅ Converted: s151_2_R_S2.jpg\n",
      "✅ Converted: s151_3_L_S2.jpg\n",
      "✅ Converted: s151_3_R_S2.jpg\n",
      "✅ Converted: s151_4_L_S2.jpg\n",
      "✅ Converted: s151_4_R_S2.jpg\n",
      "✅ Converted: s151_5_L_S2.jpg\n",
      "✅ Converted: s151_5_R_S2.jpg\n",
      "✅ Converted: s151_6_L_S2.jpg\n"
     ]
    },
    {
     "name": "stderr",
     "output_type": "stream",
     "text": [
      "Converting images:  36%|███▌      | 1145/3200 [00:13<00:21, 94.08it/s]"
     ]
    },
    {
     "name": "stdout",
     "output_type": "stream",
     "text": [
      "✅ Converted: s151_6_R_S2.jpg\n",
      "✅ Converted: s151_7_L_S2.jpg\n",
      "✅ Converted: s151_7_R_S2.jpg\n",
      "✅ Converted: s151_8_L_S2.jpg\n",
      "✅ Converted: s151_8_R_S2.jpg\n",
      "✅ Converted: s151_9_L_S2.jpg\n",
      "✅ Converted: s151_9_R_S2.jpg\n",
      "✅ Converted: s152_10_L_S2.jpg\n",
      "✅ Converted: s152_10_R_S2.jpg\n",
      "✅ Converted: s152_1_L_S2.jpg\n",
      "✅ Converted: s152_1_R_S2.jpg\n",
      "✅ Converted: s152_2_L_S2.jpg\n",
      "✅ Converted: s152_2_R_S2.jpg\n",
      "✅ Converted: s152_3_L_S2.jpg\n",
      "✅ Converted: s152_3_R_S2.jpg\n",
      "✅ Converted: s152_4_L_S2.jpg\n",
      "✅ Converted: s152_4_R_S2.jpg\n"
     ]
    },
    {
     "name": "stderr",
     "output_type": "stream",
     "text": [
      "Converting images:  36%|███▋      | 1164/3200 [00:14<00:26, 77.93it/s]"
     ]
    },
    {
     "name": "stdout",
     "output_type": "stream",
     "text": [
      "✅ Converted: s152_5_L_S2.jpg\n",
      "✅ Converted: s152_5_R_S2.jpg\n",
      "✅ Converted: s152_6_L_S2.jpg\n",
      "✅ Converted: s152_6_R_S2.jpg\n",
      "✅ Converted: s152_7_L_S2.jpg\n",
      "✅ Converted: s152_7_R_S2.jpg\n",
      "✅ Converted: s152_8_L_S2.jpg\n",
      "✅ Converted: s152_8_R_S2.jpg\n",
      "✅ Converted: s152_9_L_S2.jpg\n",
      "✅ Converted: s152_9_R_S2.jpg\n",
      "✅ Converted: s153_10_L_S2.jpg\n",
      "✅ Converted: s153_10_R_S2.jpg\n",
      "✅ Converted: s153_1_L_S2.jpg\n",
      "✅ Converted: s153_1_R_S2.jpg\n"
     ]
    },
    {
     "name": "stderr",
     "output_type": "stream",
     "text": [
      "Converting images:  37%|███▋      | 1174/3200 [00:14<00:24, 82.05it/s]"
     ]
    },
    {
     "name": "stdout",
     "output_type": "stream",
     "text": [
      "✅ Converted: s153_2_L_S2.jpg\n",
      "✅ Converted: s153_2_R_S2.jpg\n",
      "✅ Converted: s153_3_L_S2.jpg\n",
      "✅ Converted: s153_3_R_S2.jpg\n",
      "✅ Converted: s153_4_L_S2.jpg\n",
      "✅ Converted: s153_4_R_S2.jpg\n",
      "✅ Converted: s153_5_L_S2.jpg\n",
      "✅ Converted: s153_5_R_S2.jpg\n",
      "✅ Converted: s153_6_L_S2.jpg\n",
      "✅ Converted: s153_6_R_S2.jpg\n",
      "✅ Converted: s153_7_L_S2.jpg\n",
      "✅ Converted: s153_7_R_S2.jpg\n",
      "✅ Converted: s153_8_L_S2.jpg\n",
      "✅ Converted: s153_8_R_S2.jpg\n",
      "✅ Converted: s153_9_L_S2.jpg\n",
      "✅ Converted: s153_9_R_S2.jpg\n",
      "✅ Converted: s154_10_L_S2.jpg\n"
     ]
    },
    {
     "name": "stderr",
     "output_type": "stream",
     "text": [
      "Converting images:  37%|███▋      | 1192/3200 [00:14<00:25, 77.55it/s]"
     ]
    },
    {
     "name": "stdout",
     "output_type": "stream",
     "text": [
      "✅ Converted: s154_10_R_S2.jpg\n",
      "✅ Converted: s154_1_L_S2.jpg\n",
      "✅ Converted: s154_1_R_S2.jpg\n",
      "✅ Converted: s154_2_L_S2.jpg\n",
      "✅ Converted: s154_2_R_S2.jpg\n",
      "✅ Converted: s154_3_L_S2.jpg\n",
      "✅ Converted: s154_3_R_S2.jpg\n",
      "✅ Converted: s154_4_L_S2.jpg\n",
      "✅ Converted: s154_4_R_S2.jpg\n",
      "✅ Converted: s154_5_L_S2.jpg\n",
      "✅ Converted: s154_5_R_S2.jpg\n",
      "✅ Converted: s154_6_L_S2.jpg\n",
      "✅ Converted: s154_6_R_S2.jpg\n",
      "✅ Converted: s154_7_L_S2.jpg\n",
      "✅ Converted: s154_7_R_S2.jpg\n"
     ]
    },
    {
     "name": "stderr",
     "output_type": "stream",
     "text": [
      "Converting images:  38%|███▊      | 1210/3200 [00:14<00:25, 77.40it/s]"
     ]
    },
    {
     "name": "stdout",
     "output_type": "stream",
     "text": [
      "✅ Converted: s154_8_L_S2.jpg\n",
      "✅ Converted: s154_8_R_S2.jpg\n",
      "✅ Converted: s154_9_L_S2.jpg\n",
      "✅ Converted: s154_9_R_S2.jpg\n",
      "✅ Converted: s155_10_L_S2.jpg\n",
      "✅ Converted: s155_10_R_S2.jpg\n",
      "✅ Converted: s155_1_L_S2.jpg\n",
      "✅ Converted: s155_1_R_S2.jpg\n",
      "✅ Converted: s155_2_L_S2.jpg\n",
      "✅ Converted: s155_2_R_S2.jpg\n",
      "✅ Converted: s155_3_L_S2.jpg\n",
      "✅ Converted: s155_3_R_S2.jpg\n",
      "✅ Converted: s155_4_L_S2.jpg\n",
      "✅ Converted: s155_4_R_S2.jpg\n",
      "✅ Converted: s155_5_L_S2.jpg\n",
      "✅ Converted: s155_5_R_S2.jpg\n"
     ]
    },
    {
     "name": "stderr",
     "output_type": "stream",
     "text": [
      "Converting images:  38%|███▊      | 1231/3200 [00:15<00:23, 82.41it/s]"
     ]
    },
    {
     "name": "stdout",
     "output_type": "stream",
     "text": [
      "✅ Converted: s155_6_L_S2.jpg\n",
      "✅ Converted: s155_6_R_S2.jpg\n",
      "✅ Converted: s155_7_L_S2.jpg\n",
      "✅ Converted: s155_7_R_S2.jpg\n",
      "✅ Converted: s155_8_L_S2.jpg\n",
      "✅ Converted: s155_8_R_S2.jpg\n",
      "✅ Converted: s155_9_L_S2.jpg\n",
      "✅ Converted: s155_9_R_S2.jpg\n",
      "✅ Converted: s156_10_L_S2.jpg\n",
      "✅ Converted: s156_10_R_S2.jpg\n",
      "✅ Converted: s156_1_L_S2.jpg\n",
      "✅ Converted: s156_1_R_S2.jpg\n",
      "✅ Converted: s156_2_L_S2.jpg\n",
      "✅ Converted: s156_2_R_S2.jpg\n",
      "✅ Converted: s156_3_L_S2.jpg\n",
      "✅ Converted: s156_3_R_S2.jpg\n",
      "✅ Converted: s156_4_L_S2.jpg\n",
      "✅ Converted: s156_4_R_S2.jpg\n",
      "✅ Converted: s156_5_L_S2.jpg\n"
     ]
    },
    {
     "name": "stderr",
     "output_type": "stream",
     "text": [
      "Converting images:  39%|███▉      | 1242/3200 [00:15<00:22, 87.11it/s]"
     ]
    },
    {
     "name": "stdout",
     "output_type": "stream",
     "text": [
      "✅ Converted: s156_5_R_S2.jpg\n",
      "✅ Converted: s156_6_L_S2.jpg\n",
      "✅ Converted: s156_6_R_S2.jpg\n",
      "✅ Converted: s156_7_L_S2.jpg\n",
      "✅ Converted: s156_7_R_S2.jpg\n",
      "✅ Converted: s156_8_L_S2.jpg\n",
      "✅ Converted: s156_8_R_S2.jpg\n",
      "✅ Converted: s156_9_L_S2.jpg\n",
      "✅ Converted: s156_9_R_S2.jpg\n",
      "✅ Converted: s157_10_L_S2.jpg\n",
      "✅ Converted: s157_10_R_S2.jpg\n",
      "✅ Converted: s157_1_L_S2.jpg\n",
      "✅ Converted: s157_1_R_S2.jpg\n",
      "✅ Converted: s157_2_L_S2.jpg\n",
      "✅ Converted: s157_2_R_S2.jpg\n",
      "✅ Converted: s157_3_L_S2.jpg\n"
     ]
    },
    {
     "name": "stderr",
     "output_type": "stream",
     "text": [
      "Converting images:  39%|███▉      | 1260/3200 [00:15<00:24, 79.18it/s]"
     ]
    },
    {
     "name": "stdout",
     "output_type": "stream",
     "text": [
      "✅ Converted: s157_3_R_S2.jpg\n",
      "✅ Converted: s157_4_L_S2.jpg\n",
      "✅ Converted: s157_4_R_S2.jpg\n",
      "✅ Converted: s157_5_L_S2.jpg\n",
      "✅ Converted: s157_5_R_S2.jpg\n",
      "✅ Converted: s157_6_L_S2.jpg\n",
      "✅ Converted: s157_6_R_S2.jpg\n",
      "✅ Converted: s157_7_L_S2.jpg\n",
      "✅ Converted: s157_7_R_S2.jpg\n",
      "✅ Converted: s157_8_L_S2.jpg\n",
      "✅ Converted: s157_8_R_S2.jpg\n",
      "✅ Converted: s157_9_L_S2.jpg\n",
      "✅ Converted: s157_9_R_S2.jpg\n",
      "✅ Converted: s158_10_L_S2.jpg\n",
      "✅ Converted: s158_10_R_S2.jpg\n"
     ]
    },
    {
     "name": "stderr",
     "output_type": "stream",
     "text": [
      "Converting images:  40%|███▉      | 1278/3200 [00:15<00:25, 76.71it/s]"
     ]
    },
    {
     "name": "stdout",
     "output_type": "stream",
     "text": [
      "✅ Converted: s158_1_L_S2.jpg\n",
      "✅ Converted: s158_1_R_S2.jpg\n",
      "✅ Converted: s158_2_L_S2.jpg\n",
      "✅ Converted: s158_2_R_S2.jpg\n",
      "✅ Converted: s158_3_L_S2.jpg\n",
      "✅ Converted: s158_3_R_S2.jpg\n",
      "✅ Converted: s158_4_L_S2.jpg\n",
      "✅ Converted: s158_4_R_S2.jpg\n",
      "✅ Converted: s158_5_L_S2.jpg\n",
      "✅ Converted: s158_5_R_S2.jpg\n",
      "✅ Converted: s158_6_L_S2.jpg\n",
      "✅ Converted: s158_6_R_S2.jpg\n",
      "✅ Converted: s158_7_L_S2.jpg\n",
      "✅ Converted: s158_7_R_S2.jpg\n",
      "✅ Converted: s158_8_L_S2.jpg\n",
      "✅ Converted: s158_8_R_S2.jpg\n"
     ]
    },
    {
     "name": "stderr",
     "output_type": "stream",
     "text": [
      "Converting images:  40%|████      | 1286/3200 [00:15<00:24, 76.95it/s]"
     ]
    },
    {
     "name": "stdout",
     "output_type": "stream",
     "text": [
      "✅ Converted: s158_9_L_S2.jpg\n",
      "✅ Converted: s158_9_R_S2.jpg\n",
      "✅ Converted: s159_10_L_S2.jpg\n",
      "✅ Converted: s159_10_R_S2.jpg\n",
      "✅ Converted: s159_1_L_S2.jpg\n",
      "✅ Converted: s159_1_R_S2.jpg\n",
      "✅ Converted: s159_2_L_S2.jpg\n",
      "✅ Converted: s159_2_R_S2.jpg\n",
      "✅ Converted: s159_3_L_S2.jpg\n",
      "✅ Converted: s159_3_R_S2.jpg\n",
      "✅ Converted: s159_4_L_S2.jpg\n",
      "✅ Converted: s159_4_R_S2.jpg\n",
      "✅ Converted: s159_5_L_S2.jpg\n"
     ]
    },
    {
     "name": "stderr",
     "output_type": "stream",
     "text": [
      "Converting images:  41%|████      | 1302/3200 [00:16<00:26, 72.45it/s]"
     ]
    },
    {
     "name": "stdout",
     "output_type": "stream",
     "text": [
      "✅ Converted: s159_5_R_S2.jpg\n",
      "✅ Converted: s159_6_L_S2.jpg\n",
      "✅ Converted: s159_6_R_S2.jpg\n",
      "✅ Converted: s159_7_L_S2.jpg\n",
      "✅ Converted: s159_7_R_S2.jpg\n",
      "✅ Converted: s159_8_L_S2.jpg\n",
      "✅ Converted: s159_8_R_S2.jpg\n",
      "✅ Converted: s159_9_L_S2.jpg\n",
      "✅ Converted: s159_9_R_S2.jpg\n",
      "✅ Converted: s15_10_L_S2.jpg\n",
      "✅ Converted: s15_10_R_S2.jpg\n",
      "✅ Converted: s15_1_L_S2.jpg\n",
      "✅ Converted: s15_1_R_S2.jpg\n",
      "✅ Converted: s15_2_L_S2.jpg\n",
      "✅ Converted: s15_2_R_S2.jpg\n",
      "✅ Converted: s15_3_L_S2.jpg\n"
     ]
    },
    {
     "name": "stderr",
     "output_type": "stream",
     "text": [
      "Converting images:  41%|████▏     | 1322/3200 [00:16<00:22, 83.78it/s]"
     ]
    },
    {
     "name": "stdout",
     "output_type": "stream",
     "text": [
      "✅ Converted: s15_3_R_S2.jpg\n",
      "✅ Converted: s15_4_L_S2.jpg\n",
      "✅ Converted: s15_4_R_S2.jpg\n",
      "✅ Converted: s15_5_L_S2.jpg\n",
      "✅ Converted: s15_5_R_S2.jpg\n",
      "✅ Converted: s15_6_L_S2.jpg\n",
      "✅ Converted: s15_6_R_S2.jpg\n",
      "✅ Converted: s15_7_L_S2.jpg\n",
      "✅ Converted: s15_7_R_S2.jpg\n",
      "✅ Converted: s15_8_L_S2.jpg\n",
      "✅ Converted: s15_8_R_S2.jpg\n",
      "✅ Converted: s15_9_L_S2.jpg\n",
      "✅ Converted: s15_9_R_S2.jpg\n",
      "✅ Converted: s160_10_L_S2.jpg\n",
      "✅ Converted: s160_10_R_S2.jpg\n",
      "✅ Converted: s160_1_L_S2.jpg\n",
      "✅ Converted: s160_1_R_S2.jpg\n",
      "✅ Converted: s160_2_L_S2.jpg\n",
      "✅ Converted: s160_2_R_S2.jpg\n",
      "✅ Converted: s160_3_L_S2.jpg\n"
     ]
    },
    {
     "name": "stderr",
     "output_type": "stream",
     "text": [
      "Converting images:  42%|████▏     | 1339/3200 [00:16<00:25, 72.26it/s]"
     ]
    },
    {
     "name": "stdout",
     "output_type": "stream",
     "text": [
      "✅ Converted: s160_3_R_S2.jpg\n",
      "✅ Converted: s160_4_L_S2.jpg\n",
      "✅ Converted: s160_4_R_S2.jpg\n",
      "✅ Converted: s160_5_L_S2.jpg\n",
      "✅ Converted: s160_5_R_S2.jpg\n",
      "✅ Converted: s160_6_L_S2.jpg\n",
      "✅ Converted: s160_6_R_S2.jpg\n",
      "✅ Converted: s160_7_L_S2.jpg\n",
      "✅ Converted: s160_7_R_S2.jpg\n",
      "✅ Converted: s160_8_L_S2.jpg\n",
      "✅ Converted: s160_8_R_S2.jpg\n",
      "✅ Converted: s160_9_L_S2.jpg\n"
     ]
    },
    {
     "name": "stderr",
     "output_type": "stream",
     "text": [
      "Converting images:  42%|████▏     | 1347/3200 [00:16<00:25, 73.48it/s]"
     ]
    },
    {
     "name": "stdout",
     "output_type": "stream",
     "text": [
      "✅ Converted: s160_9_R_S2.jpg\n",
      "✅ Converted: s16_10_L_S2.jpg\n",
      "✅ Converted: s16_10_R_S2.jpg\n",
      "✅ Converted: s16_1_L_S2.jpg\n",
      "✅ Converted: s16_1_R_S2.jpg\n",
      "✅ Converted: s16_2_L_S2.jpg\n",
      "✅ Converted: s16_2_R_S2.jpg\n",
      "✅ Converted: s16_3_L_S2.jpg\n",
      "✅ Converted: s16_3_R_S2.jpg\n",
      "✅ Converted: s16_4_L_S2.jpg\n",
      "✅ Converted: s16_4_R_S2.jpg\n",
      "✅ Converted: s16_5_L_S2.jpg\n",
      "✅ Converted: s16_5_R_S2.jpg\n",
      "✅ Converted: s16_6_L_S2.jpg\n",
      "✅ Converted: s16_6_R_S2.jpg\n"
     ]
    },
    {
     "name": "stderr",
     "output_type": "stream",
     "text": [
      "Converting images:  43%|████▎     | 1364/3200 [00:16<00:24, 73.46it/s]"
     ]
    },
    {
     "name": "stdout",
     "output_type": "stream",
     "text": [
      "✅ Converted: s16_7_L_S2.jpg\n",
      "✅ Converted: s16_7_R_S2.jpg\n",
      "✅ Converted: s16_8_L_S2.jpg\n",
      "✅ Converted: s16_8_R_S2.jpg\n",
      "✅ Converted: s16_9_L_S2.jpg\n",
      "✅ Converted: s16_9_R_S2.jpg\n",
      "✅ Converted: s17_10_L_S2.jpg\n",
      "✅ Converted: s17_10_R_S2.jpg\n",
      "✅ Converted: s17_1_L_S2.jpg\n",
      "✅ Converted: s17_1_R_S2.jpg\n",
      "✅ Converted: s17_2_L_S2.jpg\n",
      "✅ Converted: s17_2_R_S2.jpg\n",
      "✅ Converted: s17_3_L_S2.jpg\n",
      "✅ Converted: s17_3_R_S2.jpg\n",
      "✅ Converted: s17_4_L_S2.jpg\n",
      "✅ Converted: s17_4_R_S2.jpg\n",
      "✅ Converted: s17_5_L_S2.jpg\n"
     ]
    },
    {
     "name": "stderr",
     "output_type": "stream",
     "text": [
      "Converting images:  43%|████▎     | 1380/3200 [00:17<00:24, 74.38it/s]"
     ]
    },
    {
     "name": "stdout",
     "output_type": "stream",
     "text": [
      "✅ Converted: s17_5_R_S2.jpg\n",
      "✅ Converted: s17_6_L_S2.jpg\n",
      "✅ Converted: s17_6_R_S2.jpg\n",
      "✅ Converted: s17_7_L_S2.jpg\n",
      "✅ Converted: s17_7_R_S2.jpg\n",
      "✅ Converted: s17_8_L_S2.jpg\n",
      "✅ Converted: s17_8_R_S2.jpg\n",
      "✅ Converted: s17_9_L_S2.jpg\n",
      "✅ Converted: s17_9_R_S2.jpg\n",
      "✅ Converted: s18_10_L_S2.jpg\n",
      "✅ Converted: s18_10_R_S2.jpg\n",
      "✅ Converted: s18_1_L_S2.jpg\n",
      "✅ Converted: s18_1_R_S2.jpg\n",
      "✅ Converted: s18_2_L_S2.jpg\n",
      "✅ Converted: s18_2_R_S2.jpg\n",
      "✅ Converted: s18_3_L_S2.jpg\n",
      "✅ Converted: s18_3_R_S2.jpg\n"
     ]
    },
    {
     "name": "stderr",
     "output_type": "stream",
     "text": [
      "Converting images:  44%|████▎     | 1399/3200 [00:17<00:22, 79.13it/s]"
     ]
    },
    {
     "name": "stdout",
     "output_type": "stream",
     "text": [
      "✅ Converted: s18_4_L_S2.jpg\n",
      "✅ Converted: s18_4_R_S2.jpg\n",
      "✅ Converted: s18_5_L_S2.jpg\n",
      "✅ Converted: s18_5_R_S2.jpg\n",
      "✅ Converted: s18_6_L_S2.jpg\n",
      "✅ Converted: s18_6_R_S2.jpg\n",
      "✅ Converted: s18_7_L_S2.jpg\n",
      "✅ Converted: s18_7_R_S2.jpg\n",
      "✅ Converted: s18_8_L_S2.jpg\n",
      "✅ Converted: s18_8_R_S2.jpg\n",
      "✅ Converted: s18_9_L_S2.jpg\n",
      "✅ Converted: s18_9_R_S2.jpg\n",
      "✅ Converted: s19_10_L_S2.jpg\n",
      "✅ Converted: s19_10_R_S2.jpg\n",
      "✅ Converted: s19_1_L_S2.jpg\n",
      "✅ Converted: s19_1_R_S2.jpg\n"
     ]
    },
    {
     "name": "stderr",
     "output_type": "stream",
     "text": [
      "Converting images:  44%|████▍     | 1415/3200 [00:17<00:24, 72.61it/s]"
     ]
    },
    {
     "name": "stdout",
     "output_type": "stream",
     "text": [
      "✅ Converted: s19_2_L_S2.jpg\n",
      "✅ Converted: s19_2_R_S2.jpg\n",
      "✅ Converted: s19_3_L_S2.jpg\n",
      "✅ Converted: s19_3_R_S2.jpg\n",
      "✅ Converted: s19_4_L_S2.jpg\n",
      "✅ Converted: s19_4_R_S2.jpg\n",
      "✅ Converted: s19_5_L_S2.jpg\n",
      "✅ Converted: s19_5_R_S2.jpg\n",
      "✅ Converted: s19_6_L_S2.jpg\n",
      "✅ Converted: s19_6_R_S2.jpg\n",
      "✅ Converted: s19_7_L_S2.jpg\n",
      "✅ Converted: s19_7_R_S2.jpg\n",
      "✅ Converted: s19_8_L_S2.jpg\n",
      "✅ Converted: s19_8_R_S2.jpg\n"
     ]
    },
    {
     "name": "stderr",
     "output_type": "stream",
     "text": [
      "Converting images:  45%|████▍     | 1432/3200 [00:17<00:23, 76.59it/s]"
     ]
    },
    {
     "name": "stdout",
     "output_type": "stream",
     "text": [
      "✅ Converted: s19_9_L_S2.jpg\n",
      "✅ Converted: s19_9_R_S2.jpg\n",
      "✅ Converted: s1_10_L_S2.jpg\n",
      "✅ Converted: s1_10_R_S2.jpg\n",
      "✅ Converted: s1_1_L_S2.jpg\n",
      "✅ Converted: s1_1_R_S2.jpg\n",
      "✅ Converted: s1_2_L_S2.jpg\n",
      "✅ Converted: s1_2_R_S2.jpg\n",
      "✅ Converted: s1_3_L_S2.jpg\n",
      "✅ Converted: s1_3_R_S2.jpg\n",
      "✅ Converted: s1_4_L_S2.jpg\n",
      "✅ Converted: s1_4_R_S2.jpg\n",
      "✅ Converted: s1_5_L_S2.jpg\n",
      "✅ Converted: s1_5_R_S2.jpg\n",
      "✅ Converted: s1_6_L_S2.jpg\n",
      "✅ Converted: s1_6_R_S2.jpg\n",
      "✅ Converted: s1_7_L_S2.jpg\n"
     ]
    },
    {
     "name": "stderr",
     "output_type": "stream",
     "text": [
      "Converting images:  45%|████▌     | 1449/3200 [00:17<00:22, 77.04it/s]"
     ]
    },
    {
     "name": "stdout",
     "output_type": "stream",
     "text": [
      "✅ Converted: s1_7_R_S2.jpg\n",
      "✅ Converted: s1_8_L_S2.jpg\n",
      "✅ Converted: s1_8_R_S2.jpg\n",
      "✅ Converted: s1_9_L_S2.jpg\n",
      "✅ Converted: s1_9_R_S2.jpg\n",
      "✅ Converted: s20_10_L_S2.jpg\n",
      "✅ Converted: s20_10_R_S2.jpg\n",
      "✅ Converted: s20_1_L_S2.jpg\n",
      "✅ Converted: s20_1_R_S2.jpg\n",
      "✅ Converted: s20_2_L_S2.jpg\n",
      "✅ Converted: s20_2_R_S2.jpg\n",
      "✅ Converted: s20_3_L_S2.jpg\n",
      "✅ Converted: s20_3_R_S2.jpg\n",
      "✅ Converted: s20_4_L_S2.jpg\n",
      "✅ Converted: s20_4_R_S2.jpg\n",
      "✅ Converted: s20_5_L_S2.jpg\n",
      "✅ Converted: s20_5_R_S2.jpg\n"
     ]
    },
    {
     "name": "stderr",
     "output_type": "stream",
     "text": [
      "Converting images:  46%|████▌     | 1467/3200 [00:18<00:21, 78.99it/s]"
     ]
    },
    {
     "name": "stdout",
     "output_type": "stream",
     "text": [
      "✅ Converted: s20_6_L_S2.jpg\n",
      "✅ Converted: s20_6_R_S2.jpg\n",
      "✅ Converted: s20_7_L_S2.jpg\n",
      "✅ Converted: s20_7_R_S2.jpg\n",
      "✅ Converted: s20_8_L_S2.jpg\n",
      "✅ Converted: s20_8_R_S2.jpg\n",
      "✅ Converted: s20_9_L_S2.jpg\n",
      "✅ Converted: s20_9_R_S2.jpg\n",
      "✅ Converted: s21_10_L_S2.jpg\n",
      "✅ Converted: s21_10_R_S2.jpg\n",
      "✅ Converted: s21_1_L_S2.jpg\n",
      "✅ Converted: s21_1_R_S2.jpg\n",
      "✅ Converted: s21_2_L_S2.jpg\n",
      "✅ Converted: s21_2_R_S2.jpg\n",
      "✅ Converted: s21_3_L_S2.jpg\n"
     ]
    },
    {
     "name": "stderr",
     "output_type": "stream",
     "text": [
      "Converting images:  46%|████▌     | 1477/3200 [00:18<00:20, 82.29it/s]"
     ]
    },
    {
     "name": "stdout",
     "output_type": "stream",
     "text": [
      "✅ Converted: s21_3_R_S2.jpg\n",
      "✅ Converted: s21_4_L_S2.jpg\n",
      "✅ Converted: s21_4_R_S2.jpg\n",
      "✅ Converted: s21_5_L_S2.jpg\n",
      "✅ Converted: s21_5_R_S2.jpg\n",
      "✅ Converted: s21_6_L_S2.jpg\n",
      "✅ Converted: s21_6_R_S2.jpg\n",
      "✅ Converted: s21_7_L_S2.jpg\n",
      "✅ Converted: s21_7_R_S2.jpg\n",
      "✅ Converted: s21_8_L_S2.jpg\n",
      "✅ Converted: s21_8_R_S2.jpg\n",
      "✅ Converted: s21_9_L_S2.jpg\n",
      "✅ Converted: s21_9_R_S2.jpg\n",
      "✅ Converted: s22_10_L_S2.jpg\n",
      "✅ Converted: s22_10_R_S2.jpg\n",
      "✅ Converted: s22_1_L_S2.jpg\n",
      "✅ Converted: s22_1_R_S2.jpg\n",
      "✅ Converted: s22_2_L_S2.jpg\n",
      "✅ Converted: s22_2_R_S2.jpg\n",
      "✅ Converted: s22_3_L_S2.jpg\n"
     ]
    },
    {
     "name": "stderr",
     "output_type": "stream",
     "text": [
      "Converting images:  47%|████▋     | 1500/3200 [00:18<00:17, 94.77it/s]"
     ]
    },
    {
     "name": "stdout",
     "output_type": "stream",
     "text": [
      "✅ Converted: s22_3_R_S2.jpg\n",
      "✅ Converted: s22_4_L_S2.jpg\n",
      "✅ Converted: s22_4_R_S2.jpg\n",
      "✅ Converted: s22_5_L_S2.jpg\n",
      "✅ Converted: s22_5_R_S2.jpg\n",
      "✅ Converted: s22_6_L_S2.jpg\n",
      "✅ Converted: s22_6_R_S2.jpg\n",
      "✅ Converted: s22_7_L_S2.jpg\n",
      "✅ Converted: s22_7_R_S2.jpg\n",
      "✅ Converted: s22_8_L_S2.jpg\n",
      "✅ Converted: s22_8_R_S2.jpg\n",
      "✅ Converted: s22_9_L_S2.jpg\n",
      "✅ Converted: s22_9_R_S2.jpg\n",
      "✅ Converted: s23_10_L_S2.jpg\n",
      "✅ Converted: s23_10_R_S2.jpg\n",
      "✅ Converted: s23_1_L_S2.jpg\n",
      "✅ Converted: s23_1_R_S2.jpg\n",
      "✅ Converted: s23_2_L_S2.jpg\n",
      "✅ Converted: s23_2_R_S2.jpg\n",
      "✅ Converted: s23_3_L_S2.jpg\n"
     ]
    },
    {
     "name": "stderr",
     "output_type": "stream",
     "text": [
      "Converting images:  48%|████▊     | 1520/3200 [00:18<00:19, 84.00it/s]"
     ]
    },
    {
     "name": "stdout",
     "output_type": "stream",
     "text": [
      "✅ Converted: s23_3_R_S2.jpg\n",
      "✅ Converted: s23_4_L_S2.jpg\n",
      "✅ Converted: s23_4_R_S2.jpg\n",
      "✅ Converted: s23_5_L_S2.jpg\n",
      "✅ Converted: s23_5_R_S2.jpg\n",
      "✅ Converted: s23_6_L_S2.jpg\n",
      "✅ Converted: s23_6_R_S2.jpg\n",
      "✅ Converted: s23_7_L_S2.jpg\n",
      "✅ Converted: s23_7_R_S2.jpg\n",
      "✅ Converted: s23_8_L_S2.jpg\n",
      "✅ Converted: s23_8_R_S2.jpg\n",
      "✅ Converted: s23_9_L_S2.jpg\n",
      "✅ Converted: s23_9_R_S2.jpg\n",
      "✅ Converted: s24_10_L_S2.jpg\n",
      "✅ Converted: s24_10_R_S2.jpg\n",
      "✅ Converted: s24_1_L_S2.jpg\n",
      "✅ Converted: s24_1_R_S2.jpg\n"
     ]
    },
    {
     "name": "stderr",
     "output_type": "stream",
     "text": [
      "Converting images:  48%|████▊     | 1538/3200 [00:19<00:21, 78.17it/s]"
     ]
    },
    {
     "name": "stdout",
     "output_type": "stream",
     "text": [
      "✅ Converted: s24_2_L_S2.jpg\n",
      "✅ Converted: s24_2_R_S2.jpg\n",
      "✅ Converted: s24_3_L_S2.jpg\n",
      "✅ Converted: s24_3_R_S2.jpg\n",
      "✅ Converted: s24_4_L_S2.jpg\n",
      "✅ Converted: s24_4_R_S2.jpg\n",
      "✅ Converted: s24_5_L_S2.jpg\n",
      "✅ Converted: s24_5_R_S2.jpg\n",
      "✅ Converted: s24_6_L_S2.jpg\n",
      "✅ Converted: s24_6_R_S2.jpg\n",
      "✅ Converted: s24_7_L_S2.jpg\n",
      "✅ Converted: s24_7_R_S2.jpg\n",
      "✅ Converted: s24_8_L_S2.jpg\n",
      "✅ Converted: s24_8_R_S2.jpg\n"
     ]
    },
    {
     "name": "stderr",
     "output_type": "stream",
     "text": [
      "Converting images:  48%|████▊     | 1548/3200 [00:19<00:20, 80.52it/s]"
     ]
    },
    {
     "name": "stdout",
     "output_type": "stream",
     "text": [
      "✅ Converted: s24_9_L_S2.jpg\n",
      "✅ Converted: s24_9_R_S2.jpg\n",
      "✅ Converted: s25_10_L_S2.jpg\n",
      "✅ Converted: s25_10_R_S2.jpg\n",
      "✅ Converted: s25_1_L_S2.jpg\n",
      "✅ Converted: s25_1_R_S2.jpg\n",
      "✅ Converted: s25_2_L_S2.jpg\n",
      "✅ Converted: s25_2_R_S2.jpg\n",
      "✅ Converted: s25_3_L_S2.jpg\n",
      "✅ Converted: s25_3_R_S2.jpg\n",
      "✅ Converted: s25_4_L_S2.jpg\n",
      "✅ Converted: s25_4_R_S2.jpg\n",
      "✅ Converted: s25_5_L_S2.jpg\n",
      "✅ Converted: s25_5_R_S2.jpg\n",
      "✅ Converted: s25_6_L_S2.jpg\n",
      "✅ Converted: s25_6_R_S2.jpg\n"
     ]
    },
    {
     "name": "stderr",
     "output_type": "stream",
     "text": [
      "Converting images:  49%|████▉     | 1565/3200 [00:19<00:21, 77.33it/s]"
     ]
    },
    {
     "name": "stdout",
     "output_type": "stream",
     "text": [
      "✅ Converted: s25_7_L_S2.jpg\n",
      "✅ Converted: s25_7_R_S2.jpg\n",
      "✅ Converted: s25_8_L_S2.jpg\n",
      "✅ Converted: s25_8_R_S2.jpg\n",
      "✅ Converted: s25_9_L_S2.jpg\n",
      "✅ Converted: s25_9_R_S2.jpg\n",
      "✅ Converted: s26_10_L_S2.jpg\n",
      "✅ Converted: s26_10_R_S2.jpg\n",
      "✅ Converted: s26_1_L_S2.jpg\n",
      "✅ Converted: s26_1_R_S2.jpg\n",
      "✅ Converted: s26_2_L_S2.jpg\n",
      "✅ Converted: s26_2_R_S2.jpg\n",
      "✅ Converted: s26_3_L_S2.jpg\n",
      "✅ Converted: s26_3_R_S2.jpg\n",
      "✅ Converted: s26_4_L_S2.jpg\n"
     ]
    },
    {
     "name": "stderr",
     "output_type": "stream",
     "text": [
      "Converting images:  49%|████▉     | 1583/3200 [00:19<00:20, 80.66it/s]"
     ]
    },
    {
     "name": "stdout",
     "output_type": "stream",
     "text": [
      "✅ Converted: s26_4_R_S2.jpg\n",
      "✅ Converted: s26_5_L_S2.jpg\n",
      "✅ Converted: s26_5_R_S2.jpg\n",
      "✅ Converted: s26_6_L_S2.jpg\n",
      "✅ Converted: s26_6_R_S2.jpg\n",
      "✅ Converted: s26_7_L_S2.jpg\n",
      "✅ Converted: s26_7_R_S2.jpg\n",
      "✅ Converted: s26_8_L_S2.jpg\n",
      "✅ Converted: s26_8_R_S2.jpg\n",
      "✅ Converted: s26_9_L_S2.jpg\n",
      "✅ Converted: s26_9_R_S2.jpg\n",
      "✅ Converted: s27_10_L_S2.jpg\n",
      "✅ Converted: s27_10_R_S2.jpg\n",
      "✅ Converted: s27_1_L_S2.jpg\n",
      "✅ Converted: s27_1_R_S2.jpg\n",
      "✅ Converted: s27_2_L_S2.jpg\n",
      "✅ Converted: s27_2_R_S2.jpg\n"
     ]
    },
    {
     "name": "stderr",
     "output_type": "stream",
     "text": [
      "Converting images:  50%|█████     | 1603/3200 [00:19<00:18, 85.89it/s]"
     ]
    },
    {
     "name": "stdout",
     "output_type": "stream",
     "text": [
      "✅ Converted: s27_3_L_S2.jpg\n",
      "✅ Converted: s27_3_R_S2.jpg\n",
      "✅ Converted: s27_4_L_S2.jpg\n",
      "✅ Converted: s27_4_R_S2.jpg\n",
      "✅ Converted: s27_5_L_S2.jpg\n",
      "✅ Converted: s27_5_R_S2.jpg\n",
      "✅ Converted: s27_6_L_S2.jpg\n",
      "✅ Converted: s27_6_R_S2.jpg\n",
      "✅ Converted: s27_7_L_S2.jpg\n",
      "✅ Converted: s27_7_R_S2.jpg\n",
      "✅ Converted: s27_8_L_S2.jpg\n",
      "✅ Converted: s27_8_R_S2.jpg\n",
      "✅ Converted: s27_9_L_S2.jpg\n",
      "✅ Converted: s27_9_R_S2.jpg\n",
      "✅ Converted: s28_10_L_S2.jpg\n",
      "✅ Converted: s28_10_R_S2.jpg\n",
      "✅ Converted: s28_1_L_S2.jpg\n",
      "✅ Converted: s28_1_R_S2.jpg\n",
      "✅ Converted: s28_2_L_S2.jpg\n"
     ]
    },
    {
     "name": "stderr",
     "output_type": "stream",
     "text": [
      "Converting images:  51%|█████     | 1622/3200 [00:20<00:17, 87.92it/s]"
     ]
    },
    {
     "name": "stdout",
     "output_type": "stream",
     "text": [
      "✅ Converted: s28_2_R_S2.jpg\n",
      "✅ Converted: s28_3_L_S2.jpg\n",
      "✅ Converted: s28_3_R_S2.jpg\n",
      "✅ Converted: s28_4_L_S2.jpg\n",
      "✅ Converted: s28_4_R_S2.jpg\n",
      "✅ Converted: s28_5_L_S2.jpg\n",
      "✅ Converted: s28_5_R_S2.jpg\n",
      "✅ Converted: s28_6_L_S2.jpg\n",
      "✅ Converted: s28_6_R_S2.jpg\n",
      "✅ Converted: s28_7_L_S2.jpg\n",
      "✅ Converted: s28_7_R_S2.jpg\n",
      "✅ Converted: s28_8_L_S2.jpg\n",
      "✅ Converted: s28_8_R_S2.jpg\n",
      "✅ Converted: s28_9_L_S2.jpg\n",
      "✅ Converted: s28_9_R_S2.jpg\n",
      "✅ Converted: s29_10_L_S2.jpg\n",
      "✅ Converted: s29_10_R_S2.jpg\n",
      "✅ Converted: s29_1_L_S2.jpg\n",
      "✅ Converted: s29_1_R_S2.jpg\n"
     ]
    },
    {
     "name": "stderr",
     "output_type": "stream",
     "text": [
      "Converting images:  51%|█████▏    | 1641/3200 [00:20<00:18, 85.39it/s]"
     ]
    },
    {
     "name": "stdout",
     "output_type": "stream",
     "text": [
      "✅ Converted: s29_2_L_S2.jpg\n",
      "✅ Converted: s29_2_R_S2.jpg\n",
      "✅ Converted: s29_3_L_S2.jpg\n",
      "✅ Converted: s29_3_R_S2.jpg\n",
      "✅ Converted: s29_4_L_S2.jpg\n",
      "✅ Converted: s29_4_R_S2.jpg\n",
      "✅ Converted: s29_5_L_S2.jpg\n",
      "✅ Converted: s29_5_R_S2.jpg\n",
      "✅ Converted: s29_6_L_S2.jpg\n",
      "✅ Converted: s29_6_R_S2.jpg\n",
      "✅ Converted: s29_7_L_S2.jpg\n",
      "✅ Converted: s29_7_R_S2.jpg\n",
      "✅ Converted: s29_8_L_S2.jpg\n",
      "✅ Converted: s29_8_R_S2.jpg\n",
      "✅ Converted: s29_9_L_S2.jpg\n",
      "✅ Converted: s29_9_R_S2.jpg\n",
      "✅ Converted: s2_10_L_S2.jpg\n",
      "✅ Converted: s2_10_R_S2.jpg\n",
      "✅ Converted: s2_1_L_S2.jpg\n"
     ]
    },
    {
     "name": "stderr",
     "output_type": "stream",
     "text": [
      "Converting images:  52%|█████▏    | 1650/3200 [00:20<00:18, 83.11it/s]"
     ]
    },
    {
     "name": "stdout",
     "output_type": "stream",
     "text": [
      "✅ Converted: s2_1_R_S2.jpg\n",
      "✅ Converted: s2_2_L_S2.jpg\n",
      "✅ Converted: s2_2_R_S2.jpg\n",
      "✅ Converted: s2_3_L_S2.jpg\n",
      "✅ Converted: s2_3_R_S2.jpg\n",
      "✅ Converted: s2_4_L_S2.jpg\n",
      "✅ Converted: s2_4_R_S2.jpg\n",
      "✅ Converted: s2_5_L_S2.jpg\n",
      "✅ Converted: s2_5_R_S2.jpg\n",
      "✅ Converted: s2_6_L_S2.jpg\n",
      "✅ Converted: s2_6_R_S2.jpg\n",
      "✅ Converted: s2_7_L_S2.jpg\n",
      "✅ Converted: s2_7_R_S2.jpg\n",
      "✅ Converted: s2_8_L_S2.jpg\n",
      "✅ Converted: s2_8_R_S2.jpg\n"
     ]
    },
    {
     "name": "stderr",
     "output_type": "stream",
     "text": [
      "Converting images:  52%|█████▏    | 1667/3200 [00:20<00:20, 75.77it/s]"
     ]
    },
    {
     "name": "stdout",
     "output_type": "stream",
     "text": [
      "✅ Converted: s2_9_L_S2.jpg\n",
      "✅ Converted: s2_9_R_S2.jpg\n",
      "✅ Converted: s30_10_L_S2.jpg\n",
      "✅ Converted: s30_10_R_S2.jpg\n",
      "✅ Converted: s30_1_L_S2.jpg\n",
      "✅ Converted: s30_1_R_S2.jpg\n",
      "✅ Converted: s30_2_L_S2.jpg\n",
      "✅ Converted: s30_2_R_S2.jpg\n",
      "✅ Converted: s30_3_L_S2.jpg\n",
      "✅ Converted: s30_3_R_S2.jpg\n",
      "✅ Converted: s30_4_L_S2.jpg\n",
      "✅ Converted: s30_4_R_S2.jpg\n",
      "✅ Converted: s30_5_L_S2.jpg\n",
      "✅ Converted: s30_5_R_S2.jpg\n",
      "✅ Converted: s30_6_L_S2.jpg\n"
     ]
    },
    {
     "name": "stderr",
     "output_type": "stream",
     "text": [
      "Converting images:  53%|█████▎    | 1684/3200 [00:20<00:20, 75.31it/s]"
     ]
    },
    {
     "name": "stdout",
     "output_type": "stream",
     "text": [
      "✅ Converted: s30_6_R_S2.jpg\n",
      "✅ Converted: s30_7_L_S2.jpg\n",
      "✅ Converted: s30_7_R_S2.jpg\n",
      "✅ Converted: s30_8_L_S2.jpg\n",
      "✅ Converted: s30_8_R_S2.jpg\n",
      "✅ Converted: s30_9_L_S2.jpg\n",
      "✅ Converted: s30_9_R_S2.jpg\n",
      "✅ Converted: s31_10_L_S2.jpg\n",
      "✅ Converted: s31_10_R_S2.jpg\n",
      "✅ Converted: s31_1_L_S2.jpg\n",
      "✅ Converted: s31_1_R_S2.jpg\n",
      "✅ Converted: s31_2_L_S2.jpg\n",
      "✅ Converted: s31_2_R_S2.jpg\n",
      "✅ Converted: s31_3_L_S2.jpg\n",
      "✅ Converted: s31_3_R_S2.jpg\n"
     ]
    },
    {
     "name": "stderr",
     "output_type": "stream",
     "text": [
      "Converting images:  53%|█████▎    | 1702/3200 [00:21<00:18, 80.69it/s]"
     ]
    },
    {
     "name": "stdout",
     "output_type": "stream",
     "text": [
      "✅ Converted: s31_4_L_S2.jpg\n",
      "✅ Converted: s31_4_R_S2.jpg\n",
      "✅ Converted: s31_5_L_S2.jpg\n",
      "✅ Converted: s31_5_R_S2.jpg\n",
      "✅ Converted: s31_6_L_S2.jpg\n",
      "✅ Converted: s31_6_R_S2.jpg\n",
      "✅ Converted: s31_7_L_S2.jpg\n",
      "✅ Converted: s31_7_R_S2.jpg\n",
      "✅ Converted: s31_8_L_S2.jpg\n",
      "✅ Converted: s31_8_R_S2.jpg\n",
      "✅ Converted: s31_9_L_S2.jpg\n",
      "✅ Converted: s31_9_R_S2.jpg\n",
      "✅ Converted: s32_10_L_S2.jpg\n",
      "✅ Converted: s32_10_R_S2.jpg\n",
      "✅ Converted: s32_1_L_S2.jpg\n",
      "✅ Converted: s32_1_R_S2.jpg\n",
      "✅ Converted: s32_2_L_S2.jpg\n",
      "✅ Converted: s32_2_R_S2.jpg\n",
      "✅ Converted: s32_3_L_S2.jpg\n",
      "✅ Converted: s32_3_R_S2.jpg\n"
     ]
    },
    {
     "name": "stderr",
     "output_type": "stream",
     "text": [
      "Converting images:  54%|█████▍    | 1722/3200 [00:21<00:17, 85.29it/s]"
     ]
    },
    {
     "name": "stdout",
     "output_type": "stream",
     "text": [
      "✅ Converted: s32_4_L_S2.jpg\n",
      "✅ Converted: s32_4_R_S2.jpg\n",
      "✅ Converted: s32_5_L_S2.jpg\n",
      "✅ Converted: s32_5_R_S2.jpg\n",
      "✅ Converted: s32_6_L_S2.jpg\n",
      "✅ Converted: s32_6_R_S2.jpg\n",
      "✅ Converted: s32_7_L_S2.jpg\n",
      "✅ Converted: s32_7_R_S2.jpg\n",
      "✅ Converted: s32_8_L_S2.jpg\n",
      "✅ Converted: s32_8_R_S2.jpg\n",
      "✅ Converted: s32_9_L_S2.jpg\n",
      "✅ Converted: s32_9_R_S2.jpg\n",
      "✅ Converted: s33_10_L_S2.jpg\n",
      "✅ Converted: s33_10_R_S2.jpg\n",
      "✅ Converted: s33_1_L_S2.jpg\n",
      "✅ Converted: s33_1_R_S2.jpg\n",
      "✅ Converted: s33_2_L_S2.jpg\n",
      "✅ Converted: s33_2_R_S2.jpg\n"
     ]
    },
    {
     "name": "stderr",
     "output_type": "stream",
     "text": [
      "Converting images:  54%|█████▍    | 1740/3200 [00:21<00:17, 82.00it/s]"
     ]
    },
    {
     "name": "stdout",
     "output_type": "stream",
     "text": [
      "✅ Converted: s33_3_L_S2.jpg\n",
      "✅ Converted: s33_3_R_S2.jpg\n",
      "✅ Converted: s33_4_L_S2.jpg\n",
      "✅ Converted: s33_4_R_S2.jpg\n",
      "✅ Converted: s33_5_L_S2.jpg\n",
      "✅ Converted: s33_5_R_S2.jpg\n",
      "✅ Converted: s33_6_L_S2.jpg\n",
      "✅ Converted: s33_6_R_S2.jpg\n",
      "✅ Converted: s33_7_L_S2.jpg\n",
      "✅ Converted: s33_7_R_S2.jpg\n",
      "✅ Converted: s33_8_L_S2.jpg\n",
      "✅ Converted: s33_8_R_S2.jpg\n",
      "✅ Converted: s33_9_L_S2.jpg\n",
      "✅ Converted: s33_9_R_S2.jpg\n",
      "✅ Converted: s34_10_L_S2.jpg\n",
      "✅ Converted: s34_10_R_S2.jpg\n",
      "✅ Converted: s34_1_L_S2.jpg\n"
     ]
    },
    {
     "name": "stderr",
     "output_type": "stream",
     "text": [
      "Converting images:  55%|█████▍    | 1757/3200 [00:21<00:19, 74.30it/s]"
     ]
    },
    {
     "name": "stdout",
     "output_type": "stream",
     "text": [
      "✅ Converted: s34_1_R_S2.jpg\n",
      "✅ Converted: s34_2_L_S2.jpg\n",
      "✅ Converted: s34_2_R_S2.jpg\n",
      "✅ Converted: s34_3_L_S2.jpg\n",
      "✅ Converted: s34_3_R_S2.jpg\n",
      "✅ Converted: s34_4_L_S2.jpg\n",
      "✅ Converted: s34_4_R_S2.jpg\n",
      "✅ Converted: s34_5_L_S2.jpg\n",
      "✅ Converted: s34_5_R_S2.jpg\n",
      "✅ Converted: s34_6_L_S2.jpg\n",
      "✅ Converted: s34_6_R_S2.jpg\n",
      "✅ Converted: s34_7_L_S2.jpg\n",
      "✅ Converted: s34_7_R_S2.jpg\n",
      "✅ Converted: s34_8_L_S2.jpg\n"
     ]
    },
    {
     "name": "stderr",
     "output_type": "stream",
     "text": [
      "Converting images:  55%|█████▌    | 1765/3200 [00:21<00:19, 72.25it/s]"
     ]
    },
    {
     "name": "stdout",
     "output_type": "stream",
     "text": [
      "✅ Converted: s34_8_R_S2.jpg\n",
      "✅ Converted: s34_9_L_S2.jpg\n",
      "✅ Converted: s34_9_R_S2.jpg\n",
      "✅ Converted: s35_10_L_S2.jpg\n",
      "✅ Converted: s35_10_R_S2.jpg\n",
      "✅ Converted: s35_1_L_S2.jpg\n",
      "✅ Converted: s35_1_R_S2.jpg\n",
      "✅ Converted: s35_2_L_S2.jpg\n",
      "✅ Converted: s35_2_R_S2.jpg\n",
      "✅ Converted: s35_3_L_S2.jpg\n",
      "✅ Converted: s35_3_R_S2.jpg\n",
      "✅ Converted: s35_4_L_S2.jpg\n",
      "✅ Converted: s35_4_R_S2.jpg\n",
      "✅ Converted: s35_5_L_S2.jpg\n"
     ]
    },
    {
     "name": "stderr",
     "output_type": "stream",
     "text": [
      "Converting images:  56%|█████▌    | 1782/3200 [00:22<00:19, 72.36it/s]"
     ]
    },
    {
     "name": "stdout",
     "output_type": "stream",
     "text": [
      "✅ Converted: s35_5_R_S2.jpg\n",
      "✅ Converted: s35_6_L_S2.jpg\n",
      "✅ Converted: s35_6_R_S2.jpg\n",
      "✅ Converted: s35_7_L_S2.jpg\n",
      "✅ Converted: s35_7_R_S2.jpg\n",
      "✅ Converted: s35_8_L_S2.jpg\n",
      "✅ Converted: s35_8_R_S2.jpg\n",
      "✅ Converted: s35_9_L_S2.jpg\n",
      "✅ Converted: s35_9_R_S2.jpg\n",
      "✅ Converted: s36_10_L_S2.jpg\n",
      "✅ Converted: s36_10_R_S2.jpg\n",
      "✅ Converted: s36_1_L_S2.jpg\n",
      "✅ Converted: s36_1_R_S2.jpg\n"
     ]
    },
    {
     "name": "stderr",
     "output_type": "stream",
     "text": [
      "Converting images:  56%|█████▌    | 1798/3200 [00:22<00:18, 74.42it/s]"
     ]
    },
    {
     "name": "stdout",
     "output_type": "stream",
     "text": [
      "✅ Converted: s36_2_L_S2.jpg\n",
      "✅ Converted: s36_2_R_S2.jpg\n",
      "✅ Converted: s36_3_L_S2.jpg\n",
      "✅ Converted: s36_3_R_S2.jpg\n",
      "✅ Converted: s36_4_L_S2.jpg\n",
      "✅ Converted: s36_4_R_S2.jpg\n",
      "✅ Converted: s36_5_L_S2.jpg\n",
      "✅ Converted: s36_5_R_S2.jpg\n",
      "✅ Converted: s36_6_L_S2.jpg\n",
      "✅ Converted: s36_6_R_S2.jpg\n",
      "✅ Converted: s36_7_L_S2.jpg\n",
      "✅ Converted: s36_7_R_S2.jpg\n",
      "✅ Converted: s36_8_L_S2.jpg\n",
      "✅ Converted: s36_8_R_S2.jpg\n",
      "✅ Converted: s36_9_L_S2.jpg\n",
      "✅ Converted: s36_9_R_S2.jpg\n",
      "✅ Converted: s37_10_L_S2.jpg\n",
      "✅ Converted: s37_10_R_S2.jpg\n"
     ]
    },
    {
     "name": "stderr",
     "output_type": "stream",
     "text": [
      "Converting images:  57%|█████▋    | 1814/3200 [00:22<00:18, 75.55it/s]"
     ]
    },
    {
     "name": "stdout",
     "output_type": "stream",
     "text": [
      "✅ Converted: s37_1_L_S2.jpg\n",
      "✅ Converted: s37_1_R_S2.jpg\n",
      "✅ Converted: s37_2_L_S2.jpg\n",
      "✅ Converted: s37_2_R_S2.jpg\n",
      "✅ Converted: s37_3_L_S2.jpg\n",
      "✅ Converted: s37_3_R_S2.jpg\n",
      "✅ Converted: s37_4_L_S2.jpg\n",
      "✅ Converted: s37_4_R_S2.jpg\n",
      "✅ Converted: s37_5_L_S2.jpg\n",
      "✅ Converted: s37_5_R_S2.jpg\n",
      "✅ Converted: s37_6_L_S2.jpg\n",
      "✅ Converted: s37_6_R_S2.jpg\n",
      "✅ Converted: s37_7_L_S2.jpg\n",
      "✅ Converted: s37_7_R_S2.jpg\n"
     ]
    },
    {
     "name": "stderr",
     "output_type": "stream",
     "text": [
      "Converting images:  57%|█████▋    | 1831/3200 [00:22<00:18, 74.19it/s]"
     ]
    },
    {
     "name": "stdout",
     "output_type": "stream",
     "text": [
      "✅ Converted: s37_8_L_S2.jpg\n",
      "✅ Converted: s37_8_R_S2.jpg\n",
      "✅ Converted: s37_9_L_S2.jpg\n",
      "✅ Converted: s37_9_R_S2.jpg\n",
      "✅ Converted: s38_10_L_S2.jpg\n",
      "✅ Converted: s38_10_R_S2.jpg\n",
      "✅ Converted: s38_1_L_S2.jpg\n",
      "✅ Converted: s38_1_R_S2.jpg\n",
      "✅ Converted: s38_2_L_S2.jpg\n",
      "✅ Converted: s38_2_R_S2.jpg\n",
      "✅ Converted: s38_3_L_S2.jpg\n",
      "✅ Converted: s38_3_R_S2.jpg\n",
      "✅ Converted: s38_4_L_S2.jpg\n",
      "✅ Converted: s38_4_R_S2.jpg\n",
      "✅ Converted: s38_5_L_S2.jpg\n",
      "✅ Converted: s38_5_R_S2.jpg\n",
      "✅ Converted: s38_6_L_S2.jpg\n",
      "✅ Converted: s38_6_R_S2.jpg\n"
     ]
    },
    {
     "name": "stderr",
     "output_type": "stream",
     "text": [
      "Converting images:  58%|█████▊    | 1841/3200 [00:22<00:17, 79.50it/s]"
     ]
    },
    {
     "name": "stdout",
     "output_type": "stream",
     "text": [
      "✅ Converted: s38_7_L_S2.jpg\n",
      "✅ Converted: s38_7_R_S2.jpg\n",
      "✅ Converted: s38_8_L_S2.jpg\n",
      "✅ Converted: s38_8_R_S2.jpg\n",
      "✅ Converted: s38_9_L_S2.jpg\n",
      "✅ Converted: s38_9_R_S2.jpg\n",
      "✅ Converted: s39_10_L_S2.jpg\n",
      "✅ Converted: s39_10_R_S2.jpg\n",
      "✅ Converted: s39_1_L_S2.jpg\n",
      "✅ Converted: s39_1_R_S2.jpg\n",
      "✅ Converted: s39_2_L_S2.jpg\n",
      "✅ Converted: s39_2_R_S2.jpg\n",
      "✅ Converted: s39_3_L_S2.jpg\n",
      "✅ Converted: s39_3_R_S2.jpg\n",
      "✅ Converted: s39_4_L_S2.jpg\n"
     ]
    },
    {
     "name": "stderr",
     "output_type": "stream",
     "text": [
      "Converting images:  58%|█████▊    | 1858/3200 [00:23<00:18, 73.12it/s]"
     ]
    },
    {
     "name": "stdout",
     "output_type": "stream",
     "text": [
      "✅ Converted: s39_4_R_S2.jpg\n",
      "✅ Converted: s39_5_L_S2.jpg\n",
      "✅ Converted: s39_5_R_S2.jpg\n",
      "✅ Converted: s39_6_L_S2.jpg\n",
      "✅ Converted: s39_6_R_S2.jpg\n",
      "✅ Converted: s39_7_L_S2.jpg\n",
      "✅ Converted: s39_7_R_S2.jpg\n",
      "✅ Converted: s39_8_L_S2.jpg\n",
      "✅ Converted: s39_8_R_S2.jpg\n",
      "✅ Converted: s39_9_L_S2.jpg\n",
      "✅ Converted: s39_9_R_S2.jpg\n",
      "✅ Converted: s3_10_L_S2.jpg\n",
      "✅ Converted: s3_10_R_S2.jpg\n"
     ]
    },
    {
     "name": "stderr",
     "output_type": "stream",
     "text": [
      "Converting images:  59%|█████▊    | 1874/3200 [00:23<00:17, 74.02it/s]"
     ]
    },
    {
     "name": "stdout",
     "output_type": "stream",
     "text": [
      "✅ Converted: s3_1_L_S2.jpg\n",
      "✅ Converted: s3_1_R_S2.jpg\n",
      "✅ Converted: s3_2_L_S2.jpg\n",
      "✅ Converted: s3_2_R_S2.jpg\n",
      "✅ Converted: s3_3_L_S2.jpg\n",
      "✅ Converted: s3_3_R_S2.jpg\n",
      "✅ Converted: s3_4_L_S2.jpg\n",
      "✅ Converted: s3_4_R_S2.jpg\n",
      "✅ Converted: s3_5_L_S2.jpg\n",
      "✅ Converted: s3_5_R_S2.jpg\n",
      "✅ Converted: s3_6_L_S2.jpg\n",
      "✅ Converted: s3_6_R_S2.jpg\n",
      "✅ Converted: s3_7_L_S2.jpg\n",
      "✅ Converted: s3_7_R_S2.jpg\n",
      "✅ Converted: s3_8_L_S2.jpg\n",
      "✅ Converted: s3_8_R_S2.jpg\n",
      "✅ Converted: s3_9_L_S2.jpg\n"
     ]
    },
    {
     "name": "stderr",
     "output_type": "stream",
     "text": [
      "Converting images:  59%|█████▉    | 1891/3200 [00:23<00:16, 78.09it/s]"
     ]
    },
    {
     "name": "stdout",
     "output_type": "stream",
     "text": [
      "✅ Converted: s3_9_R_S2.jpg\n",
      "✅ Converted: s40_10_L_S2.jpg\n",
      "✅ Converted: s40_10_R_S2.jpg\n",
      "✅ Converted: s40_1_L_S2.jpg\n",
      "✅ Converted: s40_1_R_S2.jpg\n",
      "✅ Converted: s40_2_L_S2.jpg\n",
      "✅ Converted: s40_2_R_S2.jpg\n",
      "✅ Converted: s40_3_L_S2.jpg\n",
      "✅ Converted: s40_3_R_S2.jpg\n",
      "✅ Converted: s40_4_L_S2.jpg\n",
      "✅ Converted: s40_4_R_S2.jpg\n",
      "✅ Converted: s40_5_L_S2.jpg\n",
      "✅ Converted: s40_5_R_S2.jpg\n",
      "✅ Converted: s40_6_L_S2.jpg\n",
      "✅ Converted: s40_6_R_S2.jpg\n",
      "✅ Converted: s40_7_L_S2.jpg\n",
      "✅ Converted: s40_7_R_S2.jpg\n",
      "✅ Converted: s40_8_L_S2.jpg\n",
      "✅ Converted: s40_8_R_S2.jpg\n"
     ]
    },
    {
     "name": "stderr",
     "output_type": "stream",
     "text": [
      "Converting images:  60%|█████▉    | 1909/3200 [00:23<00:15, 82.12it/s]"
     ]
    },
    {
     "name": "stdout",
     "output_type": "stream",
     "text": [
      "✅ Converted: s40_9_L_S2.jpg\n",
      "✅ Converted: s40_9_R_S2.jpg\n",
      "✅ Converted: s41_10_L_S2.jpg\n",
      "✅ Converted: s41_10_R_S2.jpg\n",
      "✅ Converted: s41_1_L_S2.jpg\n",
      "✅ Converted: s41_1_R_S2.jpg\n",
      "✅ Converted: s41_2_L_S2.jpg\n",
      "✅ Converted: s41_2_R_S2.jpg\n",
      "✅ Converted: s41_3_L_S2.jpg\n",
      "✅ Converted: s41_3_R_S2.jpg\n",
      "✅ Converted: s41_4_L_S2.jpg\n",
      "✅ Converted: s41_4_R_S2.jpg\n",
      "✅ Converted: s41_5_L_S2.jpg\n",
      "✅ Converted: s41_5_R_S2.jpg\n",
      "✅ Converted: s41_6_L_S2.jpg\n"
     ]
    },
    {
     "name": "stderr",
     "output_type": "stream",
     "text": [
      "Converting images:  60%|██████    | 1926/3200 [00:24<00:17, 72.40it/s]"
     ]
    },
    {
     "name": "stdout",
     "output_type": "stream",
     "text": [
      "✅ Converted: s41_6_R_S2.jpg\n",
      "✅ Converted: s41_7_L_S2.jpg\n",
      "✅ Converted: s41_7_R_S2.jpg\n",
      "✅ Converted: s41_8_L_S2.jpg\n",
      "✅ Converted: s41_8_R_S2.jpg\n",
      "✅ Converted: s41_9_L_S2.jpg\n",
      "✅ Converted: s41_9_R_S2.jpg\n",
      "✅ Converted: s42_10_L_S2.jpg\n",
      "✅ Converted: s42_10_R_S2.jpg\n",
      "✅ Converted: s42_1_L_S2.jpg\n",
      "✅ Converted: s42_1_R_S2.jpg\n",
      "✅ Converted: s42_2_L_S2.jpg\n",
      "✅ Converted: s42_2_R_S2.jpg\n",
      "✅ Converted: s42_3_L_S2.jpg\n",
      "✅ Converted: s42_3_R_S2.jpg\n"
     ]
    },
    {
     "name": "stderr",
     "output_type": "stream",
     "text": [
      "Converting images:  60%|██████    | 1934/3200 [00:24<00:22, 56.59it/s]"
     ]
    },
    {
     "name": "stdout",
     "output_type": "stream",
     "text": [
      "✅ Converted: s42_4_L_S2.jpg\n",
      "✅ Converted: s42_4_R_S2.jpg\n",
      "✅ Converted: s42_5_L_S2.jpg\n",
      "✅ Converted: s42_5_R_S2.jpg\n",
      "✅ Converted: s42_6_L_S2.jpg\n",
      "✅ Converted: s42_6_R_S2.jpg\n",
      "✅ Converted: s42_7_L_S2.jpg\n",
      "✅ Converted: s42_7_R_S2.jpg\n",
      "✅ Converted: s42_8_L_S2.jpg\n"
     ]
    },
    {
     "name": "stderr",
     "output_type": "stream",
     "text": [
      "Converting images:  61%|██████    | 1951/3200 [00:24<00:18, 66.79it/s]"
     ]
    },
    {
     "name": "stdout",
     "output_type": "stream",
     "text": [
      "✅ Converted: s42_8_R_S2.jpg\n",
      "✅ Converted: s42_9_L_S2.jpg\n",
      "✅ Converted: s42_9_R_S2.jpg\n",
      "✅ Converted: s43_10_L_S2.jpg\n",
      "✅ Converted: s43_10_R_S2.jpg\n",
      "✅ Converted: s43_1_L_S2.jpg\n",
      "✅ Converted: s43_1_R_S2.jpg\n",
      "✅ Converted: s43_2_L_S2.jpg\n",
      "✅ Converted: s43_2_R_S2.jpg\n",
      "✅ Converted: s43_3_L_S2.jpg\n",
      "✅ Converted: s43_3_R_S2.jpg\n",
      "✅ Converted: s43_4_L_S2.jpg\n",
      "✅ Converted: s43_4_R_S2.jpg\n",
      "✅ Converted: s43_5_L_S2.jpg\n",
      "✅ Converted: s43_5_R_S2.jpg\n",
      "✅ Converted: s43_6_L_S2.jpg\n",
      "✅ Converted: s43_6_R_S2.jpg\n"
     ]
    },
    {
     "name": "stderr",
     "output_type": "stream",
     "text": [
      "Converting images:  62%|██████▏   | 1970/3200 [00:24<00:16, 75.17it/s]"
     ]
    },
    {
     "name": "stdout",
     "output_type": "stream",
     "text": [
      "✅ Converted: s43_7_L_S2.jpg\n",
      "✅ Converted: s43_7_R_S2.jpg\n",
      "✅ Converted: s43_8_L_S2.jpg\n",
      "✅ Converted: s43_8_R_S2.jpg\n",
      "✅ Converted: s43_9_L_S2.jpg\n",
      "✅ Converted: s43_9_R_S2.jpg\n",
      "✅ Converted: s44_10_L_S2.jpg\n",
      "✅ Converted: s44_10_R_S2.jpg\n",
      "✅ Converted: s44_1_L_S2.jpg\n",
      "✅ Converted: s44_1_R_S2.jpg\n",
      "✅ Converted: s44_2_L_S2.jpg\n",
      "✅ Converted: s44_2_R_S2.jpg\n",
      "✅ Converted: s44_3_L_S2.jpg\n",
      "✅ Converted: s44_3_R_S2.jpg\n",
      "✅ Converted: s44_4_L_S2.jpg\n",
      "✅ Converted: s44_4_R_S2.jpg\n",
      "✅ Converted: s44_5_L_S2.jpg\n",
      "✅ Converted: s44_5_R_S2.jpg\n",
      "✅ Converted: s44_6_L_S2.jpg\n",
      "✅ Converted: s44_6_R_S2.jpg\n"
     ]
    },
    {
     "name": "stderr",
     "output_type": "stream",
     "text": [
      "Converting images:  62%|██████▏   | 1990/3200 [00:24<00:14, 82.48it/s]"
     ]
    },
    {
     "name": "stdout",
     "output_type": "stream",
     "text": [
      "✅ Converted: s44_7_L_S2.jpg\n",
      "✅ Converted: s44_7_R_S2.jpg\n",
      "✅ Converted: s44_8_L_S2.jpg\n",
      "✅ Converted: s44_8_R_S2.jpg\n",
      "✅ Converted: s44_9_L_S2.jpg\n",
      "✅ Converted: s44_9_R_S2.jpg\n",
      "✅ Converted: s45_10_L_S2.jpg\n",
      "✅ Converted: s45_10_R_S2.jpg\n",
      "✅ Converted: s45_1_L_S2.jpg\n",
      "✅ Converted: s45_1_R_S2.jpg\n",
      "✅ Converted: s45_2_L_S2.jpg\n",
      "✅ Converted: s45_2_R_S2.jpg\n",
      "✅ Converted: s45_3_L_S2.jpg\n",
      "✅ Converted: s45_3_R_S2.jpg\n",
      "✅ Converted: s45_4_L_S2.jpg\n",
      "✅ Converted: s45_4_R_S2.jpg\n"
     ]
    },
    {
     "name": "stderr",
     "output_type": "stream",
     "text": [
      "Converting images:  62%|██████▎   | 2000/3200 [00:25<00:14, 83.15it/s]"
     ]
    },
    {
     "name": "stdout",
     "output_type": "stream",
     "text": [
      "✅ Converted: s45_5_L_S2.jpg\n",
      "✅ Converted: s45_5_R_S2.jpg\n",
      "✅ Converted: s45_6_L_S2.jpg\n",
      "✅ Converted: s45_6_R_S2.jpg\n",
      "✅ Converted: s45_7_L_S2.jpg\n",
      "✅ Converted: s45_7_R_S2.jpg\n",
      "✅ Converted: s45_8_L_S2.jpg\n",
      "✅ Converted: s45_8_R_S2.jpg\n",
      "✅ Converted: s45_9_L_S2.jpg\n",
      "✅ Converted: s45_9_R_S2.jpg\n",
      "✅ Converted: s46_10_L_S2.jpg\n",
      "✅ Converted: s46_10_R_S2.jpg\n",
      "✅ Converted: s46_1_L_S2.jpg\n",
      "✅ Converted: s46_1_R_S2.jpg\n",
      "✅ Converted: s46_2_L_S2.jpg\n",
      "✅ Converted: s46_2_R_S2.jpg\n",
      "✅ Converted: s46_3_L_S2.jpg\n",
      "✅ Converted: s46_3_R_S2.jpg\n",
      "✅ Converted: s46_4_L_S2.jpg\n"
     ]
    },
    {
     "name": "stderr",
     "output_type": "stream",
     "text": [
      "Converting images:  63%|██████▎   | 2019/3200 [00:25<00:14, 83.65it/s]"
     ]
    },
    {
     "name": "stdout",
     "output_type": "stream",
     "text": [
      "✅ Converted: s46_4_R_S2.jpg\n",
      "✅ Converted: s46_5_L_S2.jpg\n",
      "✅ Converted: s46_5_R_S2.jpg\n",
      "✅ Converted: s46_6_L_S2.jpg\n",
      "✅ Converted: s46_6_R_S2.jpg\n",
      "✅ Converted: s46_7_L_S2.jpg\n",
      "✅ Converted: s46_7_R_S2.jpg\n",
      "✅ Converted: s46_8_L_S2.jpg\n",
      "✅ Converted: s46_8_R_S2.jpg\n",
      "✅ Converted: s46_9_L_S2.jpg\n",
      "✅ Converted: s46_9_R_S2.jpg\n",
      "✅ Converted: s47_10_L_S2.jpg\n",
      "✅ Converted: s47_10_R_S2.jpg\n",
      "✅ Converted: s47_1_L_S2.jpg\n"
     ]
    },
    {
     "name": "stderr",
     "output_type": "stream",
     "text": [
      "Converting images:  64%|██████▎   | 2036/3200 [00:25<00:16, 70.58it/s]"
     ]
    },
    {
     "name": "stdout",
     "output_type": "stream",
     "text": [
      "✅ Converted: s47_1_R_S2.jpg\n",
      "✅ Converted: s47_2_L_S2.jpg\n",
      "✅ Converted: s47_2_R_S2.jpg\n",
      "✅ Converted: s47_3_L_S2.jpg\n",
      "✅ Converted: s47_3_R_S2.jpg\n",
      "✅ Converted: s47_4_L_S2.jpg\n",
      "✅ Converted: s47_4_R_S2.jpg\n",
      "✅ Converted: s47_5_L_S2.jpg\n",
      "✅ Converted: s47_5_R_S2.jpg\n",
      "✅ Converted: s47_6_L_S2.jpg\n",
      "✅ Converted: s47_6_R_S2.jpg\n",
      "✅ Converted: s47_7_L_S2.jpg\n",
      "✅ Converted: s47_7_R_S2.jpg\n"
     ]
    },
    {
     "name": "stderr",
     "output_type": "stream",
     "text": [
      "Converting images:  64%|██████▍   | 2045/3200 [00:25<00:15, 73.47it/s]"
     ]
    },
    {
     "name": "stdout",
     "output_type": "stream",
     "text": [
      "✅ Converted: s47_8_L_S2.jpg\n",
      "✅ Converted: s47_8_R_S2.jpg\n",
      "✅ Converted: s47_9_L_S2.jpg\n",
      "✅ Converted: s47_9_R_S2.jpg\n",
      "✅ Converted: s48_10_L_S2.jpg\n",
      "✅ Converted: s48_10_R_S2.jpg\n",
      "✅ Converted: s48_1_L_S2.jpg\n",
      "✅ Converted: s48_1_R_S2.jpg\n",
      "✅ Converted: s48_2_L_S2.jpg\n",
      "✅ Converted: s48_2_R_S2.jpg\n",
      "✅ Converted: s48_3_L_S2.jpg\n",
      "✅ Converted: s48_3_R_S2.jpg\n",
      "✅ Converted: s48_4_L_S2.jpg\n",
      "✅ Converted: s48_4_R_S2.jpg\n",
      "✅ Converted: s48_5_L_S2.jpg\n",
      "✅ Converted: s48_5_R_S2.jpg\n"
     ]
    },
    {
     "name": "stderr",
     "output_type": "stream",
     "text": [
      "Converting images:  64%|██████▍   | 2063/3200 [00:25<00:14, 76.96it/s]"
     ]
    },
    {
     "name": "stdout",
     "output_type": "stream",
     "text": [
      "✅ Converted: s48_6_L_S2.jpg\n",
      "✅ Converted: s48_6_R_S2.jpg\n",
      "✅ Converted: s48_7_L_S2.jpg\n",
      "✅ Converted: s48_7_R_S2.jpg\n",
      "✅ Converted: s48_8_L_S2.jpg\n",
      "✅ Converted: s48_8_R_S2.jpg\n",
      "✅ Converted: s48_9_L_S2.jpg\n",
      "✅ Converted: s48_9_R_S2.jpg\n",
      "✅ Converted: s49_10_L_S2.jpg\n",
      "✅ Converted: s49_10_R_S2.jpg\n",
      "✅ Converted: s49_1_L_S2.jpg\n",
      "✅ Converted: s49_1_R_S2.jpg\n",
      "✅ Converted: s49_2_L_S2.jpg\n",
      "✅ Converted: s49_2_R_S2.jpg\n",
      "✅ Converted: s49_3_L_S2.jpg\n",
      "✅ Converted: s49_3_R_S2.jpg\n",
      "✅ Converted: s49_4_L_S2.jpg\n",
      "✅ Converted: s49_4_R_S2.jpg\n"
     ]
    },
    {
     "name": "stderr",
     "output_type": "stream",
     "text": [
      "Converting images:  65%|██████▌   | 2082/3200 [00:26<00:13, 81.35it/s]"
     ]
    },
    {
     "name": "stdout",
     "output_type": "stream",
     "text": [
      "✅ Converted: s49_5_L_S2.jpg\n",
      "✅ Converted: s49_5_R_S2.jpg\n",
      "✅ Converted: s49_6_L_S2.jpg\n",
      "✅ Converted: s49_6_R_S2.jpg\n",
      "✅ Converted: s49_7_L_S2.jpg\n",
      "✅ Converted: s49_7_R_S2.jpg\n",
      "✅ Converted: s49_8_L_S2.jpg\n",
      "✅ Converted: s49_8_R_S2.jpg\n",
      "✅ Converted: s49_9_L_S2.jpg\n",
      "✅ Converted: s49_9_R_S2.jpg\n",
      "✅ Converted: s4_10_L_S2.jpg\n",
      "✅ Converted: s4_10_R_S2.jpg\n",
      "✅ Converted: s4_1_L_S2.jpg\n",
      "✅ Converted: s4_1_R_S2.jpg\n",
      "✅ Converted: s4_2_L_S2.jpg\n",
      "✅ Converted: s4_2_R_S2.jpg\n"
     ]
    },
    {
     "name": "stderr",
     "output_type": "stream",
     "text": [
      "Converting images:  66%|██████▌   | 2101/3200 [00:26<00:13, 80.09it/s]"
     ]
    },
    {
     "name": "stdout",
     "output_type": "stream",
     "text": [
      "✅ Converted: s4_3_L_S2.jpg\n",
      "✅ Converted: s4_3_R_S2.jpg\n",
      "✅ Converted: s4_4_L_S2.jpg\n",
      "✅ Converted: s4_4_R_S2.jpg\n",
      "✅ Converted: s4_5_L_S2.jpg\n",
      "✅ Converted: s4_5_R_S2.jpg\n",
      "✅ Converted: s4_6_L_S2.jpg\n",
      "✅ Converted: s4_6_R_S2.jpg\n",
      "✅ Converted: s4_7_L_S2.jpg\n",
      "✅ Converted: s4_7_R_S2.jpg\n",
      "✅ Converted: s4_8_L_S2.jpg\n",
      "✅ Converted: s4_8_R_S2.jpg\n",
      "✅ Converted: s4_9_L_S2.jpg\n",
      "✅ Converted: s4_9_R_S2.jpg\n",
      "✅ Converted: s50_10_L_S2.jpg\n"
     ]
    },
    {
     "name": "stderr",
     "output_type": "stream",
     "text": [
      "Converting images:  66%|██████▌   | 2110/3200 [00:26<00:13, 79.51it/s]"
     ]
    },
    {
     "name": "stdout",
     "output_type": "stream",
     "text": [
      "✅ Converted: s50_10_R_S2.jpg\n",
      "✅ Converted: s50_1_L_S2.jpg\n",
      "✅ Converted: s50_1_R_S2.jpg\n",
      "✅ Converted: s50_2_L_S2.jpg\n",
      "✅ Converted: s50_2_R_S2.jpg\n",
      "✅ Converted: s50_3_L_S2.jpg\n",
      "✅ Converted: s50_3_R_S2.jpg\n",
      "✅ Converted: s50_4_L_S2.jpg\n",
      "✅ Converted: s50_4_R_S2.jpg\n",
      "✅ Converted: s50_5_L_S2.jpg\n",
      "✅ Converted: s50_5_R_S2.jpg\n",
      "✅ Converted: s50_6_L_S2.jpg\n",
      "✅ Converted: s50_6_R_S2.jpg\n",
      "✅ Converted: s50_7_L_S2.jpg\n",
      "✅ Converted: s50_7_R_S2.jpg\n",
      "✅ Converted: s50_8_L_S2.jpg\n",
      "✅ Converted: s50_8_R_S2.jpg\n",
      "✅ Converted: s50_9_L_S2.jpg\n"
     ]
    },
    {
     "name": "stderr",
     "output_type": "stream",
     "text": [
      "Converting images:  67%|██████▋   | 2129/3200 [00:26<00:13, 80.00it/s]"
     ]
    },
    {
     "name": "stdout",
     "output_type": "stream",
     "text": [
      "✅ Converted: s50_9_R_S2.jpg\n",
      "✅ Converted: s51_10_L_S2.jpg\n",
      "✅ Converted: s51_10_R_S2.jpg\n",
      "✅ Converted: s51_1_L_S2.jpg\n",
      "✅ Converted: s51_1_R_S2.jpg\n",
      "✅ Converted: s51_2_L_S2.jpg\n",
      "✅ Converted: s51_2_R_S2.jpg\n",
      "✅ Converted: s51_3_L_S2.jpg\n",
      "✅ Converted: s51_3_R_S2.jpg\n",
      "✅ Converted: s51_4_L_S2.jpg\n",
      "✅ Converted: s51_4_R_S2.jpg\n",
      "✅ Converted: s51_5_L_S2.jpg\n",
      "✅ Converted: s51_5_R_S2.jpg\n",
      "✅ Converted: s51_6_L_S2.jpg\n",
      "✅ Converted: s51_6_R_S2.jpg\n"
     ]
    },
    {
     "name": "stderr",
     "output_type": "stream",
     "text": [
      "Converting images:  67%|██████▋   | 2148/3200 [00:26<00:12, 83.57it/s]"
     ]
    },
    {
     "name": "stdout",
     "output_type": "stream",
     "text": [
      "✅ Converted: s51_7_L_S2.jpg\n",
      "✅ Converted: s51_7_R_S2.jpg\n",
      "✅ Converted: s51_8_L_S2.jpg\n",
      "✅ Converted: s51_8_R_S2.jpg\n",
      "✅ Converted: s51_9_L_S2.jpg\n",
      "✅ Converted: s51_9_R_S2.jpg\n",
      "✅ Converted: s52_10_L_S2.jpg\n",
      "✅ Converted: s52_10_R_S2.jpg\n",
      "✅ Converted: s52_1_L_S2.jpg\n",
      "✅ Converted: s52_1_R_S2.jpg\n",
      "✅ Converted: s52_2_L_S2.jpg\n",
      "✅ Converted: s52_2_R_S2.jpg\n",
      "✅ Converted: s52_3_L_S2.jpg\n",
      "✅ Converted: s52_3_R_S2.jpg\n",
      "✅ Converted: s52_4_L_S2.jpg\n",
      "✅ Converted: s52_4_R_S2.jpg\n",
      "✅ Converted: s52_5_L_S2.jpg\n"
     ]
    },
    {
     "name": "stderr",
     "output_type": "stream",
     "text": [
      "Converting images:  67%|██████▋   | 2157/3200 [00:27<00:13, 79.70it/s]"
     ]
    },
    {
     "name": "stdout",
     "output_type": "stream",
     "text": [
      "✅ Converted: s52_5_R_S2.jpg\n",
      "✅ Converted: s52_6_L_S2.jpg\n",
      "✅ Converted: s52_6_R_S2.jpg\n",
      "✅ Converted: s52_7_L_S2.jpg\n",
      "✅ Converted: s52_7_R_S2.jpg\n",
      "✅ Converted: s52_8_L_S2.jpg\n",
      "✅ Converted: s52_8_R_S2.jpg\n",
      "✅ Converted: s52_9_L_S2.jpg\n",
      "✅ Converted: s52_9_R_S2.jpg\n",
      "✅ Converted: s53_10_L_S2.jpg\n",
      "✅ Converted: s53_10_R_S2.jpg\n",
      "✅ Converted: s53_1_L_S2.jpg\n",
      "✅ Converted: s53_1_R_S2.jpg\n",
      "✅ Converted: s53_2_L_S2.jpg\n"
     ]
    },
    {
     "name": "stderr",
     "output_type": "stream",
     "text": [
      "Converting images:  68%|██████▊   | 2174/3200 [00:27<00:13, 74.02it/s]"
     ]
    },
    {
     "name": "stdout",
     "output_type": "stream",
     "text": [
      "✅ Converted: s53_2_R_S2.jpg\n",
      "✅ Converted: s53_3_L_S2.jpg\n",
      "✅ Converted: s53_3_R_S2.jpg\n",
      "✅ Converted: s53_4_L_S2.jpg\n",
      "✅ Converted: s53_4_R_S2.jpg\n",
      "✅ Converted: s53_5_L_S2.jpg\n",
      "✅ Converted: s53_5_R_S2.jpg\n",
      "✅ Converted: s53_6_L_S2.jpg\n",
      "✅ Converted: s53_6_R_S2.jpg\n",
      "✅ Converted: s53_7_L_S2.jpg\n",
      "✅ Converted: s53_7_R_S2.jpg\n",
      "✅ Converted: s53_8_L_S2.jpg\n",
      "✅ Converted: s53_8_R_S2.jpg\n",
      "✅ Converted: s53_9_L_S2.jpg\n"
     ]
    },
    {
     "name": "stderr",
     "output_type": "stream",
     "text": [
      "Converting images:  68%|██████▊   | 2190/3200 [00:27<00:13, 73.38it/s]"
     ]
    },
    {
     "name": "stdout",
     "output_type": "stream",
     "text": [
      "✅ Converted: s53_9_R_S2.jpg\n",
      "✅ Converted: s54_10_L_S2.jpg\n",
      "✅ Converted: s54_10_R_S2.jpg\n",
      "✅ Converted: s54_1_L_S2.jpg\n",
      "✅ Converted: s54_1_R_S2.jpg\n",
      "✅ Converted: s54_2_L_S2.jpg\n",
      "✅ Converted: s54_2_R_S2.jpg\n",
      "✅ Converted: s54_3_L_S2.jpg\n",
      "✅ Converted: s54_3_R_S2.jpg\n",
      "✅ Converted: s54_4_L_S2.jpg\n",
      "✅ Converted: s54_4_R_S2.jpg\n",
      "✅ Converted: s54_5_L_S2.jpg\n",
      "✅ Converted: s54_5_R_S2.jpg\n",
      "✅ Converted: s54_6_L_S2.jpg\n",
      "✅ Converted: s54_6_R_S2.jpg\n",
      "✅ Converted: s54_7_L_S2.jpg\n",
      "✅ Converted: s54_7_R_S2.jpg\n",
      "✅ Converted: s54_8_L_S2.jpg\n",
      "✅ Converted: s54_8_R_S2.jpg\n",
      "✅ Converted: s54_9_L_S2.jpg\n"
     ]
    },
    {
     "name": "stderr",
     "output_type": "stream",
     "text": [
      "Converting images:  69%|██████▉   | 2211/3200 [00:27<00:11, 82.63it/s]"
     ]
    },
    {
     "name": "stdout",
     "output_type": "stream",
     "text": [
      "✅ Converted: s54_9_R_S2.jpg\n",
      "✅ Converted: s55_10_L_S2.jpg\n",
      "✅ Converted: s55_10_R_S2.jpg\n",
      "✅ Converted: s55_1_L_S2.jpg\n",
      "✅ Converted: s55_1_R_S2.jpg\n",
      "✅ Converted: s55_2_L_S2.jpg\n",
      "✅ Converted: s55_2_R_S2.jpg\n",
      "✅ Converted: s55_3_L_S2.jpg\n",
      "✅ Converted: s55_3_R_S2.jpg\n",
      "✅ Converted: s55_4_L_S2.jpg\n",
      "✅ Converted: s55_4_R_S2.jpg\n",
      "✅ Converted: s55_5_L_S2.jpg\n",
      "✅ Converted: s55_5_R_S2.jpg\n",
      "✅ Converted: s55_6_L_S2.jpg\n",
      "✅ Converted: s55_6_R_S2.jpg\n",
      "✅ Converted: s55_7_L_S2.jpg\n"
     ]
    },
    {
     "name": "stderr",
     "output_type": "stream",
     "text": [
      "Converting images:  70%|██████▉   | 2229/3200 [00:27<00:12, 79.07it/s]"
     ]
    },
    {
     "name": "stdout",
     "output_type": "stream",
     "text": [
      "✅ Converted: s55_7_R_S2.jpg\n",
      "✅ Converted: s55_8_L_S2.jpg\n",
      "✅ Converted: s55_8_R_S2.jpg\n",
      "✅ Converted: s55_9_L_S2.jpg\n",
      "✅ Converted: s55_9_R_S2.jpg\n",
      "✅ Converted: s56_10_L_S2.jpg\n",
      "✅ Converted: s56_10_R_S2.jpg\n",
      "✅ Converted: s56_1_L_S2.jpg\n",
      "✅ Converted: s56_1_R_S2.jpg\n",
      "✅ Converted: s56_2_L_S2.jpg\n",
      "✅ Converted: s56_2_R_S2.jpg\n",
      "✅ Converted: s56_3_L_S2.jpg\n",
      "✅ Converted: s56_3_R_S2.jpg\n",
      "✅ Converted: s56_4_L_S2.jpg\n",
      "✅ Converted: s56_4_R_S2.jpg\n",
      "✅ Converted: s56_5_L_S2.jpg\n",
      "✅ Converted: s56_5_R_S2.jpg\n"
     ]
    },
    {
     "name": "stderr",
     "output_type": "stream",
     "text": [
      "Converting images:  70%|███████   | 2246/3200 [00:28<00:12, 79.41it/s]"
     ]
    },
    {
     "name": "stdout",
     "output_type": "stream",
     "text": [
      "✅ Converted: s56_6_L_S2.jpg\n",
      "✅ Converted: s56_6_R_S2.jpg\n",
      "✅ Converted: s56_7_L_S2.jpg\n",
      "✅ Converted: s56_7_R_S2.jpg\n",
      "✅ Converted: s56_8_L_S2.jpg\n",
      "✅ Converted: s56_8_R_S2.jpg\n",
      "✅ Converted: s56_9_L_S2.jpg\n",
      "✅ Converted: s56_9_R_S2.jpg\n",
      "✅ Converted: s57_10_L_S2.jpg\n",
      "✅ Converted: s57_10_R_S2.jpg\n",
      "✅ Converted: s57_1_L_S2.jpg\n",
      "✅ Converted: s57_1_R_S2.jpg\n",
      "✅ Converted: s57_2_L_S2.jpg\n",
      "✅ Converted: s57_2_R_S2.jpg\n"
     ]
    },
    {
     "name": "stderr",
     "output_type": "stream",
     "text": [
      "Converting images:  70%|███████   | 2255/3200 [00:28<00:12, 77.63it/s]"
     ]
    },
    {
     "name": "stdout",
     "output_type": "stream",
     "text": [
      "✅ Converted: s57_3_L_S2.jpg\n",
      "✅ Converted: s57_3_R_S2.jpg\n",
      "✅ Converted: s57_4_L_S2.jpg\n",
      "✅ Converted: s57_4_R_S2.jpg\n",
      "✅ Converted: s57_5_L_S2.jpg\n",
      "✅ Converted: s57_5_R_S2.jpg\n",
      "✅ Converted: s57_6_L_S2.jpg\n",
      "✅ Converted: s57_6_R_S2.jpg\n",
      "✅ Converted: s57_7_L_S2.jpg\n",
      "✅ Converted: s57_7_R_S2.jpg\n",
      "✅ Converted: s57_8_L_S2.jpg\n",
      "✅ Converted: s57_8_R_S2.jpg\n",
      "✅ Converted: s57_9_L_S2.jpg\n",
      "✅ Converted: s57_9_R_S2.jpg\n",
      "✅ Converted: s58_10_L_S2.jpg\n",
      "✅ Converted: s58_10_R_S2.jpg\n",
      "✅ Converted: s58_1_L_S2.jpg\n"
     ]
    },
    {
     "name": "stderr",
     "output_type": "stream",
     "text": [
      "Converting images:  71%|███████   | 2274/3200 [00:28<00:11, 80.65it/s]"
     ]
    },
    {
     "name": "stdout",
     "output_type": "stream",
     "text": [
      "✅ Converted: s58_1_R_S2.jpg\n",
      "✅ Converted: s58_2_L_S2.jpg\n",
      "✅ Converted: s58_2_R_S2.jpg\n",
      "✅ Converted: s58_3_L_S2.jpg\n",
      "✅ Converted: s58_3_R_S2.jpg\n",
      "✅ Converted: s58_4_L_S2.jpg\n",
      "✅ Converted: s58_4_R_S2.jpg\n",
      "✅ Converted: s58_5_L_S2.jpg\n",
      "✅ Converted: s58_5_R_S2.jpg\n",
      "✅ Converted: s58_6_L_S2.jpg\n",
      "✅ Converted: s58_6_R_S2.jpg\n",
      "✅ Converted: s58_7_L_S2.jpg\n",
      "✅ Converted: s58_7_R_S2.jpg\n",
      "✅ Converted: s58_8_L_S2.jpg\n",
      "✅ Converted: s58_8_R_S2.jpg\n",
      "✅ Converted: s58_9_L_S2.jpg\n"
     ]
    },
    {
     "name": "stderr",
     "output_type": "stream",
     "text": [
      "Converting images:  72%|███████▏  | 2292/3200 [00:28<00:11, 77.80it/s]"
     ]
    },
    {
     "name": "stdout",
     "output_type": "stream",
     "text": [
      "✅ Converted: s58_9_R_S2.jpg\n",
      "✅ Converted: s59_10_L_S2.jpg\n",
      "✅ Converted: s59_10_R_S2.jpg\n",
      "✅ Converted: s59_1_L_S2.jpg\n",
      "✅ Converted: s59_1_R_S2.jpg\n",
      "✅ Converted: s59_2_L_S2.jpg\n",
      "✅ Converted: s59_2_R_S2.jpg\n",
      "✅ Converted: s59_3_L_S2.jpg\n",
      "✅ Converted: s59_3_R_S2.jpg\n",
      "✅ Converted: s59_4_L_S2.jpg\n",
      "✅ Converted: s59_4_R_S2.jpg\n",
      "✅ Converted: s59_5_L_S2.jpg\n",
      "✅ Converted: s59_5_R_S2.jpg\n",
      "✅ Converted: s59_6_L_S2.jpg\n"
     ]
    },
    {
     "name": "stderr",
     "output_type": "stream",
     "text": [
      "Converting images:  72%|███████▏  | 2309/3200 [00:28<00:11, 78.23it/s]"
     ]
    },
    {
     "name": "stdout",
     "output_type": "stream",
     "text": [
      "✅ Converted: s59_6_R_S2.jpg\n",
      "✅ Converted: s59_7_L_S2.jpg\n",
      "✅ Converted: s59_7_R_S2.jpg\n",
      "✅ Converted: s59_8_L_S2.jpg\n",
      "✅ Converted: s59_8_R_S2.jpg\n",
      "✅ Converted: s59_9_L_S2.jpg\n",
      "✅ Converted: s59_9_R_S2.jpg\n",
      "✅ Converted: s5_10_L_S2.jpg\n",
      "✅ Converted: s5_10_R_S2.jpg\n",
      "✅ Converted: s5_1_L_S2.jpg\n",
      "✅ Converted: s5_1_R_S2.jpg\n",
      "✅ Converted: s5_2_L_S2.jpg\n",
      "✅ Converted: s5_2_R_S2.jpg\n",
      "✅ Converted: s5_3_L_S2.jpg\n",
      "✅ Converted: s5_3_R_S2.jpg\n",
      "✅ Converted: s5_4_L_S2.jpg\n",
      "✅ Converted: s5_4_R_S2.jpg\n",
      "✅ Converted: s5_5_L_S2.jpg\n",
      "✅ Converted: s5_5_R_S2.jpg\n",
      "✅ Converted: s5_6_L_S2.jpg\n"
     ]
    },
    {
     "name": "stderr",
     "output_type": "stream",
     "text": [
      "Converting images:  73%|███████▎  | 2328/3200 [00:29<00:10, 83.32it/s]"
     ]
    },
    {
     "name": "stdout",
     "output_type": "stream",
     "text": [
      "✅ Converted: s5_6_R_S2.jpg\n",
      "✅ Converted: s5_7_L_S2.jpg\n",
      "✅ Converted: s5_7_R_S2.jpg\n",
      "✅ Converted: s5_8_L_S2.jpg\n",
      "✅ Converted: s5_8_R_S2.jpg\n",
      "✅ Converted: s5_9_L_S2.jpg\n",
      "✅ Converted: s5_9_R_S2.jpg\n",
      "✅ Converted: s60_10_L_S2.jpg\n",
      "✅ Converted: s60_10_R_S2.jpg\n",
      "✅ Converted: s60_1_L_S2.jpg\n",
      "✅ Converted: s60_1_R_S2.jpg\n",
      "✅ Converted: s60_2_L_S2.jpg\n",
      "✅ Converted: s60_2_R_S2.jpg\n",
      "✅ Converted: s60_3_L_S2.jpg\n",
      "✅ Converted: s60_3_R_S2.jpg\n",
      "✅ Converted: s60_4_L_S2.jpg\n"
     ]
    },
    {
     "name": "stderr",
     "output_type": "stream",
     "text": [
      "Converting images:  73%|███████▎  | 2337/3200 [00:29<00:10, 79.32it/s]"
     ]
    },
    {
     "name": "stdout",
     "output_type": "stream",
     "text": [
      "✅ Converted: s60_4_R_S2.jpg\n",
      "✅ Converted: s60_5_L_S2.jpg\n",
      "✅ Converted: s60_5_R_S2.jpg\n",
      "✅ Converted: s60_6_L_S2.jpg\n",
      "✅ Converted: s60_6_R_S2.jpg\n",
      "✅ Converted: s60_7_L_S2.jpg\n",
      "✅ Converted: s60_7_R_S2.jpg\n",
      "✅ Converted: s60_8_L_S2.jpg\n",
      "✅ Converted: s60_8_R_S2.jpg\n",
      "✅ Converted: s60_9_L_S2.jpg\n",
      "✅ Converted: s60_9_R_S2.jpg\n",
      "✅ Converted: s61_10_L_S2.jpg\n",
      "✅ Converted: s61_10_R_S2.jpg\n",
      "✅ Converted: s61_1_L_S2.jpg\n",
      "✅ Converted: s61_1_R_S2.jpg\n"
     ]
    },
    {
     "name": "stderr",
     "output_type": "stream",
     "text": [
      "Converting images:  74%|███████▎  | 2353/3200 [00:29<00:11, 76.02it/s]"
     ]
    },
    {
     "name": "stdout",
     "output_type": "stream",
     "text": [
      "✅ Converted: s61_2_L_S2.jpg\n",
      "✅ Converted: s61_2_R_S2.jpg\n",
      "✅ Converted: s61_3_L_S2.jpg\n",
      "✅ Converted: s61_3_R_S2.jpg\n",
      "✅ Converted: s61_4_L_S2.jpg\n",
      "✅ Converted: s61_4_R_S2.jpg\n",
      "✅ Converted: s61_5_L_S2.jpg\n",
      "✅ Converted: s61_5_R_S2.jpg\n",
      "✅ Converted: s61_6_L_S2.jpg\n",
      "✅ Converted: s61_6_R_S2.jpg\n",
      "✅ Converted: s61_7_L_S2.jpg\n",
      "✅ Converted: s61_7_R_S2.jpg\n",
      "✅ Converted: s61_8_L_S2.jpg\n",
      "✅ Converted: s61_8_R_S2.jpg\n",
      "✅ Converted: s61_9_L_S2.jpg\n"
     ]
    },
    {
     "name": "stderr",
     "output_type": "stream",
     "text": [
      "Converting images:  74%|███████▍  | 2369/3200 [00:29<00:11, 74.57it/s]"
     ]
    },
    {
     "name": "stdout",
     "output_type": "stream",
     "text": [
      "✅ Converted: s61_9_R_S2.jpg\n",
      "✅ Converted: s62_10_L_S2.jpg\n",
      "✅ Converted: s62_10_R_S2.jpg\n",
      "✅ Converted: s62_1_L_S2.jpg\n",
      "✅ Converted: s62_1_R_S2.jpg\n",
      "✅ Converted: s62_2_L_S2.jpg\n",
      "✅ Converted: s62_2_R_S2.jpg\n",
      "✅ Converted: s62_3_L_S2.jpg\n",
      "✅ Converted: s62_3_R_S2.jpg\n",
      "✅ Converted: s62_4_L_S2.jpg\n",
      "✅ Converted: s62_4_R_S2.jpg\n",
      "✅ Converted: s62_5_L_S2.jpg\n",
      "✅ Converted: s62_5_R_S2.jpg\n",
      "✅ Converted: s62_6_L_S2.jpg\n",
      "✅ Converted: s62_6_R_S2.jpg\n"
     ]
    },
    {
     "name": "stderr",
     "output_type": "stream",
     "text": [
      "Converting images:  75%|███████▍  | 2387/3200 [00:29<00:10, 78.63it/s]"
     ]
    },
    {
     "name": "stdout",
     "output_type": "stream",
     "text": [
      "✅ Converted: s62_7_L_S2.jpg\n",
      "✅ Converted: s62_7_R_S2.jpg\n",
      "✅ Converted: s62_8_L_S2.jpg\n",
      "✅ Converted: s62_8_R_S2.jpg\n",
      "✅ Converted: s62_9_L_S2.jpg\n",
      "✅ Converted: s62_9_R_S2.jpg\n",
      "✅ Converted: s63_10_L_S2.jpg\n",
      "✅ Converted: s63_10_R_S2.jpg\n",
      "✅ Converted: s63_1_L_S2.jpg\n",
      "✅ Converted: s63_1_R_S2.jpg\n",
      "✅ Converted: s63_2_L_S2.jpg\n",
      "✅ Converted: s63_2_R_S2.jpg\n",
      "✅ Converted: s63_3_L_S2.jpg\n",
      "✅ Converted: s63_3_R_S2.jpg\n",
      "✅ Converted: s63_4_L_S2.jpg\n",
      "✅ Converted: s63_4_R_S2.jpg\n",
      "✅ Converted: s63_5_L_S2.jpg\n"
     ]
    },
    {
     "name": "stderr",
     "output_type": "stream",
     "text": [
      "Converting images:  75%|███████▌  | 2405/3200 [00:30<00:10, 75.33it/s]"
     ]
    },
    {
     "name": "stdout",
     "output_type": "stream",
     "text": [
      "✅ Converted: s63_5_R_S2.jpg\n",
      "✅ Converted: s63_6_L_S2.jpg\n",
      "✅ Converted: s63_6_R_S2.jpg\n",
      "✅ Converted: s63_7_L_S2.jpg\n",
      "✅ Converted: s63_7_R_S2.jpg\n",
      "✅ Converted: s63_8_L_S2.jpg\n",
      "✅ Converted: s63_8_R_S2.jpg\n",
      "✅ Converted: s63_9_L_S2.jpg\n",
      "✅ Converted: s63_9_R_S2.jpg\n",
      "✅ Converted: s64_10_L_S2.jpg\n",
      "✅ Converted: s64_10_R_S2.jpg\n",
      "✅ Converted: s64_1_L_S2.jpg\n",
      "✅ Converted: s64_1_R_S2.jpg\n",
      "✅ Converted: s64_2_L_S2.jpg\n",
      "✅ Converted: s64_2_R_S2.jpg\n",
      "✅ Converted: s64_3_L_S2.jpg\n"
     ]
    },
    {
     "name": "stderr",
     "output_type": "stream",
     "text": [
      "Converting images:  76%|███████▌  | 2423/3200 [00:30<00:09, 80.04it/s]"
     ]
    },
    {
     "name": "stdout",
     "output_type": "stream",
     "text": [
      "✅ Converted: s64_3_R_S2.jpg\n",
      "✅ Converted: s64_4_L_S2.jpg\n",
      "✅ Converted: s64_4_R_S2.jpg\n",
      "✅ Converted: s64_5_L_S2.jpg\n",
      "✅ Converted: s64_5_R_S2.jpg\n",
      "✅ Converted: s64_6_L_S2.jpg\n",
      "✅ Converted: s64_6_R_S2.jpg\n",
      "✅ Converted: s64_7_L_S2.jpg\n",
      "✅ Converted: s64_7_R_S2.jpg\n",
      "✅ Converted: s64_8_L_S2.jpg\n",
      "✅ Converted: s64_8_R_S2.jpg\n",
      "✅ Converted: s64_9_L_S2.jpg\n",
      "✅ Converted: s64_9_R_S2.jpg\n",
      "✅ Converted: s65_10_L_S2.jpg\n",
      "✅ Converted: s65_10_R_S2.jpg\n",
      "✅ Converted: s65_1_L_S2.jpg\n",
      "✅ Converted: s65_1_R_S2.jpg\n",
      "✅ Converted: s65_2_L_S2.jpg\n"
     ]
    },
    {
     "name": "stderr",
     "output_type": "stream",
     "text": [
      "Converting images:  76%|███████▋  | 2441/3200 [00:30<00:09, 80.65it/s]"
     ]
    },
    {
     "name": "stdout",
     "output_type": "stream",
     "text": [
      "✅ Converted: s65_2_R_S2.jpg\n",
      "✅ Converted: s65_3_L_S2.jpg\n",
      "✅ Converted: s65_3_R_S2.jpg\n",
      "✅ Converted: s65_4_L_S2.jpg\n",
      "✅ Converted: s65_4_R_S2.jpg\n",
      "✅ Converted: s65_5_L_S2.jpg\n",
      "✅ Converted: s65_5_R_S2.jpg\n",
      "✅ Converted: s65_6_L_S2.jpg\n",
      "✅ Converted: s65_6_R_S2.jpg\n",
      "✅ Converted: s65_7_L_S2.jpg\n",
      "✅ Converted: s65_7_R_S2.jpg\n",
      "✅ Converted: s65_8_L_S2.jpg\n",
      "✅ Converted: s65_8_R_S2.jpg\n",
      "✅ Converted: s65_9_L_S2.jpg\n",
      "✅ Converted: s65_9_R_S2.jpg\n",
      "✅ Converted: s66_10_L_S2.jpg\n"
     ]
    },
    {
     "name": "stderr",
     "output_type": "stream",
     "text": [
      "Converting images:  77%|███████▋  | 2454/3200 [00:30<00:08, 91.73it/s]"
     ]
    },
    {
     "name": "stdout",
     "output_type": "stream",
     "text": [
      "✅ Converted: s66_10_R_S2.jpg\n",
      "✅ Converted: s66_1_L_S2.jpg\n",
      "✅ Converted: s66_1_R_S2.jpg\n",
      "✅ Converted: s66_2_L_S2.jpg\n",
      "✅ Converted: s66_2_R_S2.jpg\n",
      "✅ Converted: s66_3_L_S2.jpg\n",
      "✅ Converted: s66_3_R_S2.jpg\n",
      "✅ Converted: s66_4_L_S2.jpg\n",
      "✅ Converted: s66_4_R_S2.jpg\n",
      "✅ Converted: s66_5_L_S2.jpg\n",
      "✅ Converted: s66_5_R_S2.jpg\n",
      "✅ Converted: s66_6_L_S2.jpg\n",
      "✅ Converted: s66_6_R_S2.jpg\n",
      "✅ Converted: s66_7_L_S2.jpg\n",
      "✅ Converted: s66_7_R_S2.jpg\n",
      "✅ Converted: s66_8_L_S2.jpg\n",
      "✅ Converted: s66_8_R_S2.jpg\n",
      "✅ Converted: s66_9_L_S2.jpg\n",
      "✅ Converted: s66_9_R_S2.jpg\n",
      "✅ Converted: s67_10_L_S2.jpg\n",
      "✅ Converted: s67_10_R_S2.jpg\n",
      "✅ Converted: s67_1_L_S2.jpg\n"
     ]
    },
    {
     "name": "stderr",
     "output_type": "stream",
     "text": [
      "Converting images:  77%|███████▋  | 2475/3200 [00:30<00:07, 93.34it/s]"
     ]
    },
    {
     "name": "stdout",
     "output_type": "stream",
     "text": [
      "✅ Converted: s67_1_R_S2.jpg\n",
      "✅ Converted: s67_2_L_S2.jpg\n",
      "✅ Converted: s67_2_R_S2.jpg\n",
      "✅ Converted: s67_3_L_S2.jpg\n",
      "✅ Converted: s67_3_R_S2.jpg\n",
      "✅ Converted: s67_4_L_S2.jpg\n",
      "✅ Converted: s67_4_R_S2.jpg\n",
      "✅ Converted: s67_5_L_S2.jpg\n",
      "✅ Converted: s67_5_R_S2.jpg\n",
      "✅ Converted: s67_6_L_S2.jpg\n",
      "✅ Converted: s67_6_R_S2.jpg\n",
      "✅ Converted: s67_7_L_S2.jpg\n",
      "✅ Converted: s67_7_R_S2.jpg\n",
      "✅ Converted: s67_8_L_S2.jpg\n",
      "✅ Converted: s67_8_R_S2.jpg\n",
      "✅ Converted: s67_9_L_S2.jpg\n"
     ]
    },
    {
     "name": "stderr",
     "output_type": "stream",
     "text": [
      "Converting images:  78%|███████▊  | 2495/3200 [00:31<00:08, 86.78it/s]"
     ]
    },
    {
     "name": "stdout",
     "output_type": "stream",
     "text": [
      "✅ Converted: s67_9_R_S2.jpg\n",
      "✅ Converted: s68_10_L_S2.jpg\n",
      "✅ Converted: s68_10_R_S2.jpg\n",
      "✅ Converted: s68_1_L_S2.jpg\n",
      "✅ Converted: s68_1_R_S2.jpg\n",
      "✅ Converted: s68_2_L_S2.jpg\n",
      "✅ Converted: s68_2_R_S2.jpg\n",
      "✅ Converted: s68_3_L_S2.jpg\n",
      "✅ Converted: s68_3_R_S2.jpg\n",
      "✅ Converted: s68_4_L_S2.jpg\n",
      "✅ Converted: s68_4_R_S2.jpg\n",
      "✅ Converted: s68_5_L_S2.jpg\n",
      "✅ Converted: s68_5_R_S2.jpg\n",
      "✅ Converted: s68_6_L_S2.jpg\n",
      "✅ Converted: s68_6_R_S2.jpg\n",
      "✅ Converted: s68_7_L_S2.jpg\n",
      "✅ Converted: s68_7_R_S2.jpg\n"
     ]
    },
    {
     "name": "stderr",
     "output_type": "stream",
     "text": [
      "Converting images:  78%|███████▊  | 2504/3200 [00:31<00:08, 84.93it/s]"
     ]
    },
    {
     "name": "stdout",
     "output_type": "stream",
     "text": [
      "✅ Converted: s68_8_L_S2.jpg\n",
      "✅ Converted: s68_8_R_S2.jpg\n",
      "✅ Converted: s68_9_L_S2.jpg\n",
      "✅ Converted: s68_9_R_S2.jpg\n",
      "✅ Converted: s69_10_L_S2.jpg\n",
      "✅ Converted: s69_10_R_S2.jpg\n",
      "✅ Converted: s69_1_L_S2.jpg\n",
      "✅ Converted: s69_1_R_S2.jpg\n",
      "✅ Converted: s69_2_L_S2.jpg\n",
      "✅ Converted: s69_2_R_S2.jpg\n",
      "✅ Converted: s69_3_L_S2.jpg\n",
      "✅ Converted: s69_3_R_S2.jpg\n",
      "✅ Converted: s69_4_L_S2.jpg\n",
      "✅ Converted: s69_4_R_S2.jpg\n",
      "✅ Converted: s69_5_L_S2.jpg\n",
      "✅ Converted: s69_5_R_S2.jpg\n",
      "✅ Converted: s69_6_L_S2.jpg\n"
     ]
    },
    {
     "name": "stderr",
     "output_type": "stream",
     "text": [
      "Converting images:  79%|███████▉  | 2524/3200 [00:31<00:07, 87.19it/s]"
     ]
    },
    {
     "name": "stdout",
     "output_type": "stream",
     "text": [
      "✅ Converted: s69_6_R_S2.jpg\n",
      "✅ Converted: s69_7_L_S2.jpg\n",
      "✅ Converted: s69_7_R_S2.jpg\n",
      "✅ Converted: s69_8_L_S2.jpg\n",
      "✅ Converted: s69_8_R_S2.jpg\n",
      "✅ Converted: s69_9_L_S2.jpg\n",
      "✅ Converted: s69_9_R_S2.jpg\n",
      "✅ Converted: s6_10_L_S2.jpg\n",
      "✅ Converted: s6_10_R_S2.jpg\n",
      "✅ Converted: s6_1_L_S2.jpg\n",
      "✅ Converted: s6_1_R_S2.jpg\n",
      "✅ Converted: s6_2_L_S2.jpg\n",
      "✅ Converted: s6_2_R_S2.jpg\n",
      "✅ Converted: s6_3_L_S2.jpg\n",
      "✅ Converted: s6_3_R_S2.jpg\n",
      "✅ Converted: s6_4_L_S2.jpg\n",
      "✅ Converted: s6_4_R_S2.jpg\n"
     ]
    },
    {
     "name": "stderr",
     "output_type": "stream",
     "text": [
      "Converting images:  79%|███████▉  | 2543/3200 [00:31<00:07, 86.87it/s]"
     ]
    },
    {
     "name": "stdout",
     "output_type": "stream",
     "text": [
      "✅ Converted: s6_5_L_S2.jpg\n",
      "✅ Converted: s6_5_R_S2.jpg\n",
      "✅ Converted: s6_6_L_S2.jpg\n",
      "✅ Converted: s6_6_R_S2.jpg\n",
      "✅ Converted: s6_7_L_S2.jpg\n",
      "✅ Converted: s6_7_R_S2.jpg\n",
      "✅ Converted: s6_8_L_S2.jpg\n",
      "✅ Converted: s6_8_R_S2.jpg\n",
      "✅ Converted: s6_9_L_S2.jpg\n",
      "✅ Converted: s6_9_R_S2.jpg\n",
      "✅ Converted: s70_10_L_S2.jpg\n",
      "✅ Converted: s70_10_R_S2.jpg\n",
      "✅ Converted: s70_1_L_S2.jpg\n",
      "✅ Converted: s70_1_R_S2.jpg\n",
      "✅ Converted: s70_2_L_S2.jpg\n",
      "✅ Converted: s70_2_R_S2.jpg\n"
     ]
    },
    {
     "name": "stderr",
     "output_type": "stream",
     "text": [
      "Converting images:  80%|████████  | 2561/3200 [00:32<00:07, 81.73it/s]"
     ]
    },
    {
     "name": "stdout",
     "output_type": "stream",
     "text": [
      "✅ Converted: s70_3_L_S2.jpg\n",
      "✅ Converted: s70_3_R_S2.jpg\n",
      "✅ Converted: s70_4_L_S2.jpg\n",
      "✅ Converted: s70_4_R_S2.jpg\n",
      "✅ Converted: s70_5_L_S2.jpg\n",
      "✅ Converted: s70_5_R_S2.jpg\n",
      "✅ Converted: s70_6_L_S2.jpg\n",
      "✅ Converted: s70_6_R_S2.jpg\n",
      "✅ Converted: s70_7_L_S2.jpg\n",
      "✅ Converted: s70_7_R_S2.jpg\n",
      "✅ Converted: s70_8_L_S2.jpg\n",
      "✅ Converted: s70_8_R_S2.jpg\n",
      "✅ Converted: s70_9_L_S2.jpg\n",
      "✅ Converted: s70_9_R_S2.jpg\n",
      "✅ Converted: s71_10_L_S2.jpg\n",
      "✅ Converted: s71_10_R_S2.jpg\n"
     ]
    },
    {
     "name": "stderr",
     "output_type": "stream",
     "text": [
      "Converting images:  81%|████████  | 2580/3200 [00:32<00:07, 83.52it/s]"
     ]
    },
    {
     "name": "stdout",
     "output_type": "stream",
     "text": [
      "✅ Converted: s71_1_L_S2.jpg\n",
      "✅ Converted: s71_1_R_S2.jpg\n",
      "✅ Converted: s71_2_L_S2.jpg\n",
      "✅ Converted: s71_2_R_S2.jpg\n",
      "✅ Converted: s71_3_L_S2.jpg\n",
      "✅ Converted: s71_3_R_S2.jpg\n",
      "✅ Converted: s71_4_L_S2.jpg\n",
      "✅ Converted: s71_4_R_S2.jpg\n",
      "✅ Converted: s71_5_L_S2.jpg\n",
      "✅ Converted: s71_5_R_S2.jpg\n",
      "✅ Converted: s71_6_L_S2.jpg\n",
      "✅ Converted: s71_6_R_S2.jpg\n",
      "✅ Converted: s71_7_L_S2.jpg\n",
      "✅ Converted: s71_7_R_S2.jpg\n",
      "✅ Converted: s71_8_L_S2.jpg\n",
      "✅ Converted: s71_8_R_S2.jpg\n",
      "✅ Converted: s71_9_L_S2.jpg\n",
      "✅ Converted: s71_9_R_S2.jpg\n"
     ]
    },
    {
     "name": "stderr",
     "output_type": "stream",
     "text": [
      "Converting images:  81%|████████  | 2590/3200 [00:32<00:07, 85.56it/s]"
     ]
    },
    {
     "name": "stdout",
     "output_type": "stream",
     "text": [
      "✅ Converted: s72_10_L_S2.jpg\n",
      "✅ Converted: s72_10_R_S2.jpg\n",
      "✅ Converted: s72_1_L_S2.jpg\n",
      "✅ Converted: s72_1_R_S2.jpg\n",
      "✅ Converted: s72_2_L_S2.jpg\n",
      "✅ Converted: s72_2_R_S2.jpg\n",
      "✅ Converted: s72_3_L_S2.jpg\n",
      "✅ Converted: s72_3_R_S2.jpg\n",
      "✅ Converted: s72_4_L_S2.jpg\n",
      "✅ Converted: s72_4_R_S2.jpg\n",
      "✅ Converted: s72_5_L_S2.jpg\n",
      "✅ Converted: s72_5_R_S2.jpg\n",
      "✅ Converted: s72_6_L_S2.jpg\n",
      "✅ Converted: s72_6_R_S2.jpg\n",
      "✅ Converted: s72_7_L_S2.jpg\n",
      "✅ Converted: s72_7_R_S2.jpg\n"
     ]
    },
    {
     "name": "stderr",
     "output_type": "stream",
     "text": [
      "Converting images:  82%|████████▏ | 2608/3200 [00:32<00:07, 78.11it/s]"
     ]
    },
    {
     "name": "stdout",
     "output_type": "stream",
     "text": [
      "✅ Converted: s72_8_L_S2.jpg\n",
      "✅ Converted: s72_8_R_S2.jpg\n",
      "✅ Converted: s72_9_L_S2.jpg\n",
      "✅ Converted: s72_9_R_S2.jpg\n",
      "✅ Converted: s73_10_L_S2.jpg\n",
      "✅ Converted: s73_10_R_S2.jpg\n",
      "✅ Converted: s73_1_L_S2.jpg\n",
      "✅ Converted: s73_1_R_S2.jpg\n",
      "✅ Converted: s73_2_L_S2.jpg\n",
      "✅ Converted: s73_2_R_S2.jpg\n",
      "✅ Converted: s73_3_L_S2.jpg\n",
      "✅ Converted: s73_3_R_S2.jpg\n",
      "✅ Converted: s73_4_L_S2.jpg\n",
      "✅ Converted: s73_4_R_S2.jpg\n",
      "✅ Converted: s73_5_L_S2.jpg\n"
     ]
    },
    {
     "name": "stderr",
     "output_type": "stream",
     "text": [
      "Converting images:  82%|████████▏ | 2624/3200 [00:32<00:07, 75.55it/s]"
     ]
    },
    {
     "name": "stdout",
     "output_type": "stream",
     "text": [
      "✅ Converted: s73_5_R_S2.jpg\n",
      "✅ Converted: s73_6_L_S2.jpg\n",
      "✅ Converted: s73_6_R_S2.jpg\n",
      "✅ Converted: s73_7_L_S2.jpg\n",
      "✅ Converted: s73_7_R_S2.jpg\n",
      "✅ Converted: s73_8_L_S2.jpg\n",
      "✅ Converted: s73_8_R_S2.jpg\n",
      "✅ Converted: s73_9_L_S2.jpg\n",
      "✅ Converted: s73_9_R_S2.jpg\n",
      "✅ Converted: s74_10_L_S2.jpg\n",
      "✅ Converted: s74_10_R_S2.jpg\n",
      "✅ Converted: s74_1_L_S2.jpg\n",
      "✅ Converted: s74_1_R_S2.jpg\n",
      "✅ Converted: s74_2_L_S2.jpg\n",
      "✅ Converted: s74_2_R_S2.jpg\n"
     ]
    },
    {
     "name": "stderr",
     "output_type": "stream",
     "text": [
      "Converting images:  83%|████████▎ | 2642/3200 [00:33<00:07, 78.73it/s]"
     ]
    },
    {
     "name": "stdout",
     "output_type": "stream",
     "text": [
      "✅ Converted: s74_3_L_S2.jpg\n",
      "✅ Converted: s74_3_R_S2.jpg\n",
      "✅ Converted: s74_4_L_S2.jpg\n",
      "✅ Converted: s74_4_R_S2.jpg\n",
      "✅ Converted: s74_5_L_S2.jpg\n",
      "✅ Converted: s74_5_R_S2.jpg\n",
      "✅ Converted: s74_6_L_S2.jpg\n",
      "✅ Converted: s74_6_R_S2.jpg\n",
      "✅ Converted: s74_7_L_S2.jpg\n",
      "✅ Converted: s74_7_R_S2.jpg\n",
      "✅ Converted: s74_8_L_S2.jpg\n",
      "✅ Converted: s74_8_R_S2.jpg\n",
      "✅ Converted: s74_9_L_S2.jpg\n",
      "✅ Converted: s74_9_R_S2.jpg\n",
      "✅ Converted: s75_10_L_S2.jpg\n",
      "✅ Converted: s75_10_R_S2.jpg\n"
     ]
    },
    {
     "name": "stderr",
     "output_type": "stream",
     "text": [
      "Converting images:  83%|████████▎ | 2650/3200 [00:33<00:07, 76.58it/s]"
     ]
    },
    {
     "name": "stdout",
     "output_type": "stream",
     "text": [
      "✅ Converted: s75_1_L_S2.jpg\n",
      "✅ Converted: s75_1_R_S2.jpg\n",
      "✅ Converted: s75_2_L_S2.jpg\n",
      "✅ Converted: s75_2_R_S2.jpg\n",
      "✅ Converted: s75_3_L_S2.jpg\n",
      "✅ Converted: s75_3_R_S2.jpg\n",
      "✅ Converted: s75_4_L_S2.jpg\n",
      "✅ Converted: s75_4_R_S2.jpg\n",
      "✅ Converted: s75_5_L_S2.jpg\n",
      "✅ Converted: s75_5_R_S2.jpg\n",
      "✅ Converted: s75_6_L_S2.jpg\n",
      "✅ Converted: s75_6_R_S2.jpg\n",
      "✅ Converted: s75_7_L_S2.jpg\n"
     ]
    },
    {
     "name": "stderr",
     "output_type": "stream",
     "text": [
      "Converting images:  83%|████████▎ | 2667/3200 [00:33<00:06, 77.28it/s]"
     ]
    },
    {
     "name": "stdout",
     "output_type": "stream",
     "text": [
      "✅ Converted: s75_7_R_S2.jpg\n",
      "✅ Converted: s75_8_L_S2.jpg\n",
      "✅ Converted: s75_8_R_S2.jpg\n",
      "✅ Converted: s75_9_L_S2.jpg\n",
      "✅ Converted: s75_9_R_S2.jpg\n",
      "✅ Converted: s76_10_L_S2.jpg\n",
      "✅ Converted: s76_10_R_S2.jpg\n",
      "✅ Converted: s76_1_L_S2.jpg\n",
      "✅ Converted: s76_1_R_S2.jpg\n",
      "✅ Converted: s76_2_L_S2.jpg\n",
      "✅ Converted: s76_2_R_S2.jpg\n",
      "✅ Converted: s76_3_L_S2.jpg\n",
      "✅ Converted: s76_3_R_S2.jpg\n",
      "✅ Converted: s76_4_L_S2.jpg\n",
      "✅ Converted: s76_4_R_S2.jpg\n",
      "✅ Converted: s76_5_L_S2.jpg\n",
      "✅ Converted: s76_5_R_S2.jpg\n"
     ]
    },
    {
     "name": "stderr",
     "output_type": "stream",
     "text": [
      "Converting images:  84%|████████▍ | 2692/3200 [00:33<00:05, 95.99it/s]"
     ]
    },
    {
     "name": "stdout",
     "output_type": "stream",
     "text": [
      "✅ Converted: s76_6_L_S2.jpg\n",
      "✅ Converted: s76_6_R_S2.jpg\n",
      "✅ Converted: s76_7_L_S2.jpg\n",
      "✅ Converted: s76_7_R_S2.jpg\n",
      "✅ Converted: s76_8_L_S2.jpg\n",
      "✅ Converted: s76_8_R_S2.jpg\n",
      "✅ Converted: s76_9_L_S2.jpg\n",
      "✅ Converted: s76_9_R_S2.jpg\n",
      "✅ Converted: s77_10_L_S2.jpg\n",
      "✅ Converted: s77_10_R_S2.jpg\n",
      "✅ Converted: s77_1_L_S2.jpg\n",
      "✅ Converted: s77_1_R_S2.jpg\n",
      "✅ Converted: s77_2_L_S2.jpg\n",
      "✅ Converted: s77_2_R_S2.jpg\n",
      "✅ Converted: s77_3_L_S2.jpg\n",
      "✅ Converted: s77_3_R_S2.jpg\n",
      "✅ Converted: s77_4_L_S2.jpg\n",
      "✅ Converted: s77_4_R_S2.jpg\n",
      "✅ Converted: s77_5_L_S2.jpg\n",
      "✅ Converted: s77_5_R_S2.jpg\n",
      "✅ Converted: s77_6_L_S2.jpg\n",
      "✅ Converted: s77_6_R_S2.jpg\n",
      "✅ Converted: s77_7_L_S2.jpg\n",
      "✅ Converted: s77_7_R_S2.jpg\n",
      "✅ Converted: s77_8_L_S2.jpg\n",
      "✅ Converted: s77_8_R_S2.jpg\n"
     ]
    },
    {
     "name": "stderr",
     "output_type": "stream",
     "text": [
      "Converting images:  85%|████████▍ | 2713/3200 [00:33<00:05, 91.70it/s]"
     ]
    },
    {
     "name": "stdout",
     "output_type": "stream",
     "text": [
      "✅ Converted: s77_9_L_S2.jpg\n",
      "✅ Converted: s77_9_R_S2.jpg\n",
      "✅ Converted: s78_10_L_S2.jpg\n",
      "✅ Converted: s78_10_R_S2.jpg\n",
      "✅ Converted: s78_1_L_S2.jpg\n",
      "✅ Converted: s78_1_R_S2.jpg\n",
      "✅ Converted: s78_2_L_S2.jpg\n",
      "✅ Converted: s78_2_R_S2.jpg\n",
      "✅ Converted: s78_3_L_S2.jpg\n",
      "✅ Converted: s78_3_R_S2.jpg\n",
      "✅ Converted: s78_4_L_S2.jpg\n",
      "✅ Converted: s78_4_R_S2.jpg\n",
      "✅ Converted: s78_5_L_S2.jpg\n",
      "✅ Converted: s78_5_R_S2.jpg\n",
      "✅ Converted: s78_6_L_S2.jpg\n",
      "✅ Converted: s78_6_R_S2.jpg\n",
      "✅ Converted: s78_7_L_S2.jpg\n"
     ]
    },
    {
     "name": "stderr",
     "output_type": "stream",
     "text": [
      "Converting images:  86%|████████▌ | 2736/3200 [00:34<00:04, 97.89it/s]"
     ]
    },
    {
     "name": "stdout",
     "output_type": "stream",
     "text": [
      "✅ Converted: s78_7_R_S2.jpg\n",
      "✅ Converted: s78_8_L_S2.jpg\n",
      "✅ Converted: s78_8_R_S2.jpg\n",
      "✅ Converted: s78_9_L_S2.jpg\n",
      "✅ Converted: s78_9_R_S2.jpg\n",
      "✅ Converted: s79_10_L_S2.jpg\n",
      "✅ Converted: s79_10_R_S2.jpg\n",
      "✅ Converted: s79_1_L_S2.jpg\n",
      "✅ Converted: s79_1_R_S2.jpg\n",
      "✅ Converted: s79_2_L_S2.jpg\n",
      "✅ Converted: s79_2_R_S2.jpg\n",
      "✅ Converted: s79_3_L_S2.jpg\n",
      "✅ Converted: s79_3_R_S2.jpg\n",
      "✅ Converted: s79_4_L_S2.jpg\n",
      "✅ Converted: s79_4_R_S2.jpg\n",
      "✅ Converted: s79_5_L_S2.jpg\n",
      "✅ Converted: s79_5_R_S2.jpg\n",
      "✅ Converted: s79_6_L_S2.jpg\n",
      "✅ Converted: s79_6_R_S2.jpg\n",
      "✅ Converted: s79_7_L_S2.jpg\n",
      "✅ Converted: s79_7_R_S2.jpg\n"
     ]
    },
    {
     "name": "stderr",
     "output_type": "stream",
     "text": [
      "Converting images:  86%|████████▌ | 2748/3200 [00:34<00:04, 100.72it/s]"
     ]
    },
    {
     "name": "stdout",
     "output_type": "stream",
     "text": [
      "✅ Converted: s79_8_L_S2.jpg\n",
      "✅ Converted: s79_8_R_S2.jpg\n",
      "✅ Converted: s79_9_L_S2.jpg\n",
      "✅ Converted: s79_9_R_S2.jpg\n",
      "✅ Converted: s7_10_L_S2.jpg\n",
      "✅ Converted: s7_10_R_S2.jpg\n",
      "✅ Converted: s7_1_L_S2.jpg\n",
      "✅ Converted: s7_1_R_S2.jpg\n",
      "✅ Converted: s7_2_L_S2.jpg\n",
      "✅ Converted: s7_2_R_S2.jpg\n",
      "✅ Converted: s7_3_L_S2.jpg\n",
      "✅ Converted: s7_3_R_S2.jpg\n",
      "✅ Converted: s7_4_L_S2.jpg\n",
      "✅ Converted: s7_4_R_S2.jpg\n",
      "✅ Converted: s7_5_L_S2.jpg\n",
      "✅ Converted: s7_5_R_S2.jpg\n",
      "✅ Converted: s7_6_L_S2.jpg\n",
      "✅ Converted: s7_6_R_S2.jpg\n",
      "✅ Converted: s7_7_L_S2.jpg\n",
      "✅ Converted: s7_7_R_S2.jpg\n",
      "✅ Converted: s7_8_L_S2.jpg\n"
     ]
    },
    {
     "name": "stderr",
     "output_type": "stream",
     "text": [
      "Converting images:  87%|████████▋ | 2770/3200 [00:34<00:04, 92.46it/s] "
     ]
    },
    {
     "name": "stdout",
     "output_type": "stream",
     "text": [
      "✅ Converted: s7_8_R_S2.jpg\n",
      "✅ Converted: s7_9_L_S2.jpg\n",
      "✅ Converted: s7_9_R_S2.jpg\n",
      "✅ Converted: s80_10_L_S2.jpg\n",
      "✅ Converted: s80_10_R_S2.jpg\n",
      "✅ Converted: s80_1_L_S2.jpg\n",
      "✅ Converted: s80_1_R_S2.jpg\n",
      "✅ Converted: s80_2_L_S2.jpg\n",
      "✅ Converted: s80_2_R_S2.jpg\n",
      "✅ Converted: s80_3_L_S2.jpg\n",
      "✅ Converted: s80_3_R_S2.jpg\n",
      "✅ Converted: s80_4_L_S2.jpg\n",
      "✅ Converted: s80_4_R_S2.jpg\n",
      "✅ Converted: s80_5_L_S2.jpg\n",
      "✅ Converted: s80_5_R_S2.jpg\n",
      "✅ Converted: s80_6_L_S2.jpg\n",
      "✅ Converted: s80_6_R_S2.jpg\n"
     ]
    },
    {
     "name": "stderr",
     "output_type": "stream",
     "text": [
      "Converting images:  87%|████████▋ | 2791/3200 [00:34<00:04, 93.43it/s]"
     ]
    },
    {
     "name": "stdout",
     "output_type": "stream",
     "text": [
      "✅ Converted: s80_7_L_S2.jpg\n",
      "✅ Converted: s80_7_R_S2.jpg\n",
      "✅ Converted: s80_8_L_S2.jpg\n",
      "✅ Converted: s80_8_R_S2.jpg\n",
      "✅ Converted: s80_9_L_S2.jpg\n",
      "✅ Converted: s80_9_R_S2.jpg\n",
      "✅ Converted: s81_10_L_S2.jpg\n",
      "✅ Converted: s81_10_R_S2.jpg\n",
      "✅ Converted: s81_1_L_S2.jpg\n",
      "✅ Converted: s81_1_R_S2.jpg\n",
      "✅ Converted: s81_2_L_S2.jpg\n",
      "✅ Converted: s81_2_R_S2.jpg\n",
      "✅ Converted: s81_3_L_S2.jpg\n",
      "✅ Converted: s81_3_R_S2.jpg\n",
      "✅ Converted: s81_4_L_S2.jpg\n",
      "✅ Converted: s81_4_R_S2.jpg\n",
      "✅ Converted: s81_5_L_S2.jpg\n",
      "✅ Converted: s81_5_R_S2.jpg\n",
      "✅ Converted: s81_6_L_S2.jpg\n",
      "✅ Converted: s81_6_R_S2.jpg\n"
     ]
    },
    {
     "name": "stderr",
     "output_type": "stream",
     "text": [
      "Converting images:  88%|████████▊ | 2811/3200 [00:34<00:04, 92.07it/s]"
     ]
    },
    {
     "name": "stdout",
     "output_type": "stream",
     "text": [
      "✅ Converted: s81_7_L_S2.jpg\n",
      "✅ Converted: s81_7_R_S2.jpg\n",
      "✅ Converted: s81_8_L_S2.jpg\n",
      "✅ Converted: s81_8_R_S2.jpg\n",
      "✅ Converted: s81_9_L_S2.jpg\n",
      "✅ Converted: s81_9_R_S2.jpg\n",
      "✅ Converted: s82_10_L_S2.jpg\n",
      "✅ Converted: s82_10_R_S2.jpg\n",
      "✅ Converted: s82_1_L_S2.jpg\n",
      "✅ Converted: s82_1_R_S2.jpg\n",
      "✅ Converted: s82_2_L_S2.jpg\n",
      "✅ Converted: s82_2_R_S2.jpg\n",
      "✅ Converted: s82_3_L_S2.jpg\n",
      "✅ Converted: s82_3_R_S2.jpg\n",
      "✅ Converted: s82_4_L_S2.jpg\n",
      "✅ Converted: s82_4_R_S2.jpg\n",
      "✅ Converted: s82_5_L_S2.jpg\n"
     ]
    },
    {
     "name": "stderr",
     "output_type": "stream",
     "text": [
      "Converting images:  88%|████████▊ | 2823/3200 [00:34<00:03, 96.96it/s]"
     ]
    },
    {
     "name": "stdout",
     "output_type": "stream",
     "text": [
      "✅ Converted: s82_5_R_S2.jpg\n",
      "✅ Converted: s82_6_L_S2.jpg\n",
      "✅ Converted: s82_6_R_S2.jpg\n",
      "✅ Converted: s82_7_L_S2.jpg\n",
      "✅ Converted: s82_7_R_S2.jpg\n",
      "✅ Converted: s82_8_L_S2.jpg\n",
      "✅ Converted: s82_8_R_S2.jpg\n",
      "✅ Converted: s82_9_L_S2.jpg\n",
      "✅ Converted: s82_9_R_S2.jpg\n",
      "✅ Converted: s83_10_L_S2.jpg\n",
      "✅ Converted: s83_10_R_S2.jpg\n",
      "✅ Converted: s83_1_L_S2.jpg\n",
      "✅ Converted: s83_1_R_S2.jpg\n",
      "✅ Converted: s83_2_L_S2.jpg\n",
      "✅ Converted: s83_2_R_S2.jpg\n",
      "✅ Converted: s83_3_L_S2.jpg\n",
      "✅ Converted: s83_3_R_S2.jpg\n",
      "✅ Converted: s83_4_L_S2.jpg\n",
      "✅ Converted: s83_4_R_S2.jpg\n",
      "✅ Converted: s83_5_L_S2.jpg\n",
      "✅ Converted: s83_5_R_S2.jpg\n"
     ]
    },
    {
     "name": "stderr",
     "output_type": "stream",
     "text": [
      "Converting images:  89%|████████▉ | 2844/3200 [00:35<00:03, 95.74it/s]"
     ]
    },
    {
     "name": "stdout",
     "output_type": "stream",
     "text": [
      "✅ Converted: s83_6_L_S2.jpg\n",
      "✅ Converted: s83_6_R_S2.jpg\n",
      "✅ Converted: s83_7_L_S2.jpg\n",
      "✅ Converted: s83_7_R_S2.jpg\n",
      "✅ Converted: s83_8_L_S2.jpg\n",
      "✅ Converted: s83_8_R_S2.jpg\n",
      "✅ Converted: s83_9_L_S2.jpg\n",
      "✅ Converted: s83_9_R_S2.jpg\n",
      "✅ Converted: s84_10_L_S2.jpg\n",
      "✅ Converted: s84_10_R_S2.jpg\n",
      "✅ Converted: s84_1_L_S2.jpg\n",
      "✅ Converted: s84_1_R_S2.jpg\n",
      "✅ Converted: s84_2_L_S2.jpg\n",
      "✅ Converted: s84_2_R_S2.jpg\n",
      "✅ Converted: s84_3_L_S2.jpg\n",
      "✅ Converted: s84_3_R_S2.jpg\n",
      "✅ Converted: s84_4_L_S2.jpg\n"
     ]
    },
    {
     "name": "stderr",
     "output_type": "stream",
     "text": [
      "Converting images:  89%|████████▉ | 2863/3200 [00:35<00:04, 82.36it/s]"
     ]
    },
    {
     "name": "stdout",
     "output_type": "stream",
     "text": [
      "✅ Converted: s84_4_R_S2.jpg\n",
      "✅ Converted: s84_5_L_S2.jpg\n",
      "✅ Converted: s84_5_R_S2.jpg\n",
      "✅ Converted: s84_6_L_S2.jpg\n",
      "✅ Converted: s84_6_R_S2.jpg\n",
      "✅ Converted: s84_7_L_S2.jpg\n",
      "✅ Converted: s84_7_R_S2.jpg\n",
      "✅ Converted: s84_8_L_S2.jpg\n",
      "✅ Converted: s84_8_R_S2.jpg\n",
      "✅ Converted: s84_9_L_S2.jpg\n",
      "✅ Converted: s84_9_R_S2.jpg\n",
      "✅ Converted: s85_10_L_S2.jpg\n",
      "✅ Converted: s85_10_R_S2.jpg\n",
      "✅ Converted: s85_1_L_S2.jpg\n"
     ]
    },
    {
     "name": "stderr",
     "output_type": "stream",
     "text": [
      "Converting images:  90%|████████▉ | 2872/3200 [00:35<00:04, 78.39it/s]"
     ]
    },
    {
     "name": "stdout",
     "output_type": "stream",
     "text": [
      "✅ Converted: s85_1_R_S2.jpg\n",
      "✅ Converted: s85_2_L_S2.jpg\n",
      "✅ Converted: s85_2_R_S2.jpg\n",
      "✅ Converted: s85_3_L_S2.jpg\n",
      "✅ Converted: s85_3_R_S2.jpg\n",
      "✅ Converted: s85_4_L_S2.jpg\n",
      "✅ Converted: s85_4_R_S2.jpg\n",
      "✅ Converted: s85_5_L_S2.jpg\n",
      "✅ Converted: s85_5_R_S2.jpg\n",
      "✅ Converted: s85_6_L_S2.jpg\n",
      "✅ Converted: s85_6_R_S2.jpg\n",
      "✅ Converted: s85_7_L_S2.jpg\n",
      "✅ Converted: s85_7_R_S2.jpg\n",
      "✅ Converted: s85_8_L_S2.jpg\n",
      "✅ Converted: s85_8_R_S2.jpg\n"
     ]
    },
    {
     "name": "stderr",
     "output_type": "stream",
     "text": [
      "Converting images:  90%|█████████ | 2888/3200 [00:35<00:04, 75.50it/s]"
     ]
    },
    {
     "name": "stdout",
     "output_type": "stream",
     "text": [
      "✅ Converted: s85_9_L_S2.jpg\n",
      "✅ Converted: s85_9_R_S2.jpg\n",
      "✅ Converted: s86_10_L_S2.jpg\n",
      "✅ Converted: s86_10_R_S2.jpg\n",
      "✅ Converted: s86_1_L_S2.jpg\n",
      "✅ Converted: s86_1_R_S2.jpg\n",
      "✅ Converted: s86_2_L_S2.jpg\n",
      "✅ Converted: s86_2_R_S2.jpg\n",
      "✅ Converted: s86_3_L_S2.jpg\n",
      "✅ Converted: s86_3_R_S2.jpg\n",
      "✅ Converted: s86_4_L_S2.jpg\n",
      "✅ Converted: s86_4_R_S2.jpg\n",
      "✅ Converted: s86_5_L_S2.jpg\n",
      "✅ Converted: s86_5_R_S2.jpg\n",
      "✅ Converted: s86_6_L_S2.jpg\n"
     ]
    },
    {
     "name": "stderr",
     "output_type": "stream",
     "text": [
      "Converting images:  91%|█████████ | 2906/3200 [00:36<00:03, 78.54it/s]"
     ]
    },
    {
     "name": "stdout",
     "output_type": "stream",
     "text": [
      "✅ Converted: s86_6_R_S2.jpg\n",
      "✅ Converted: s86_7_L_S2.jpg\n",
      "✅ Converted: s86_7_R_S2.jpg\n",
      "✅ Converted: s86_8_L_S2.jpg\n",
      "✅ Converted: s86_8_R_S2.jpg\n",
      "✅ Converted: s86_9_L_S2.jpg\n",
      "✅ Converted: s86_9_R_S2.jpg\n",
      "✅ Converted: s87_10_L_S2.jpg\n",
      "✅ Converted: s87_10_R_S2.jpg\n",
      "✅ Converted: s87_1_L_S2.jpg\n",
      "✅ Converted: s87_1_R_S2.jpg\n",
      "✅ Converted: s87_2_L_S2.jpg\n",
      "✅ Converted: s87_2_R_S2.jpg\n",
      "✅ Converted: s87_3_L_S2.jpg\n",
      "✅ Converted: s87_3_R_S2.jpg\n",
      "✅ Converted: s87_4_L_S2.jpg\n",
      "✅ Converted: s87_4_R_S2.jpg\n",
      "✅ Converted: s87_5_L_S2.jpg\n"
     ]
    },
    {
     "name": "stderr",
     "output_type": "stream",
     "text": [
      "Converting images:  91%|█████████▏| 2927/3200 [00:36<00:03, 87.64it/s]"
     ]
    },
    {
     "name": "stdout",
     "output_type": "stream",
     "text": [
      "✅ Converted: s87_5_R_S2.jpg\n",
      "✅ Converted: s87_6_L_S2.jpg\n",
      "✅ Converted: s87_6_R_S2.jpg\n",
      "✅ Converted: s87_7_L_S2.jpg\n",
      "✅ Converted: s87_7_R_S2.jpg\n",
      "✅ Converted: s87_8_L_S2.jpg\n",
      "✅ Converted: s87_8_R_S2.jpg\n",
      "✅ Converted: s87_9_L_S2.jpg\n",
      "✅ Converted: s87_9_R_S2.jpg\n",
      "✅ Converted: s88_10_L_S2.jpg\n",
      "✅ Converted: s88_10_R_S2.jpg\n",
      "✅ Converted: s88_1_L_S2.jpg\n",
      "✅ Converted: s88_1_R_S2.jpg\n",
      "✅ Converted: s88_2_L_S2.jpg\n",
      "✅ Converted: s88_2_R_S2.jpg\n",
      "✅ Converted: s88_3_L_S2.jpg\n",
      "✅ Converted: s88_3_R_S2.jpg\n",
      "✅ Converted: s88_4_L_S2.jpg\n",
      "✅ Converted: s88_4_R_S2.jpg\n",
      "✅ Converted: s88_5_L_S2.jpg\n"
     ]
    },
    {
     "name": "stderr",
     "output_type": "stream",
     "text": [
      "Converting images:  92%|█████████▏| 2948/3200 [00:36<00:02, 87.38it/s]"
     ]
    },
    {
     "name": "stdout",
     "output_type": "stream",
     "text": [
      "✅ Converted: s88_5_R_S2.jpg\n",
      "✅ Converted: s88_6_L_S2.jpg\n",
      "✅ Converted: s88_6_R_S2.jpg\n",
      "✅ Converted: s88_7_L_S2.jpg\n",
      "✅ Converted: s88_7_R_S2.jpg\n",
      "✅ Converted: s88_8_L_S2.jpg\n",
      "✅ Converted: s88_8_R_S2.jpg\n",
      "✅ Converted: s88_9_L_S2.jpg\n",
      "✅ Converted: s88_9_R_S2.jpg\n",
      "✅ Converted: s89_10_L_S2.jpg\n",
      "✅ Converted: s89_10_R_S2.jpg\n",
      "✅ Converted: s89_1_L_S2.jpg\n",
      "✅ Converted: s89_1_R_S2.jpg\n",
      "✅ Converted: s89_2_L_S2.jpg\n",
      "✅ Converted: s89_2_R_S2.jpg\n",
      "✅ Converted: s89_3_L_S2.jpg\n",
      "✅ Converted: s89_3_R_S2.jpg\n"
     ]
    },
    {
     "name": "stderr",
     "output_type": "stream",
     "text": [
      "Converting images:  92%|█████████▏| 2957/3200 [00:36<00:02, 85.47it/s]"
     ]
    },
    {
     "name": "stdout",
     "output_type": "stream",
     "text": [
      "✅ Converted: s89_4_L_S2.jpg\n",
      "✅ Converted: s89_4_R_S2.jpg\n",
      "✅ Converted: s89_5_L_S2.jpg\n",
      "✅ Converted: s89_5_R_S2.jpg\n",
      "✅ Converted: s89_6_L_S2.jpg\n",
      "✅ Converted: s89_6_R_S2.jpg\n",
      "✅ Converted: s89_7_L_S2.jpg\n",
      "✅ Converted: s89_7_R_S2.jpg\n",
      "✅ Converted: s89_8_L_S2.jpg\n",
      "✅ Converted: s89_8_R_S2.jpg\n",
      "✅ Converted: s89_9_L_S2.jpg\n",
      "✅ Converted: s89_9_R_S2.jpg\n",
      "✅ Converted: s8_10_L_S2.jpg\n",
      "✅ Converted: s8_10_R_S2.jpg\n",
      "✅ Converted: s8_1_L_S2.jpg\n"
     ]
    },
    {
     "name": "stderr",
     "output_type": "stream",
     "text": [
      "Converting images:  93%|█████████▎| 2977/3200 [00:36<00:02, 88.22it/s]"
     ]
    },
    {
     "name": "stdout",
     "output_type": "stream",
     "text": [
      "✅ Converted: s8_1_R_S2.jpg\n",
      "✅ Converted: s8_2_L_S2.jpg\n",
      "✅ Converted: s8_2_R_S2.jpg\n",
      "✅ Converted: s8_3_L_S2.jpg\n",
      "✅ Converted: s8_3_R_S2.jpg\n",
      "✅ Converted: s8_4_L_S2.jpg\n",
      "✅ Converted: s8_4_R_S2.jpg\n",
      "✅ Converted: s8_5_L_S2.jpg\n",
      "✅ Converted: s8_5_R_S2.jpg\n",
      "✅ Converted: s8_6_L_S2.jpg\n",
      "✅ Converted: s8_6_R_S2.jpg\n",
      "✅ Converted: s8_7_L_S2.jpg\n",
      "✅ Converted: s8_7_R_S2.jpg\n",
      "✅ Converted: s8_8_L_S2.jpg\n",
      "✅ Converted: s8_8_R_S2.jpg\n",
      "✅ Converted: s8_9_L_S2.jpg\n",
      "✅ Converted: s8_9_R_S2.jpg\n",
      "✅ Converted: s90_10_L_S2.jpg\n"
     ]
    },
    {
     "name": "stderr",
     "output_type": "stream",
     "text": [
      "Converting images:  94%|█████████▎| 2995/3200 [00:37<00:02, 81.65it/s]"
     ]
    },
    {
     "name": "stdout",
     "output_type": "stream",
     "text": [
      "✅ Converted: s90_10_R_S2.jpg\n",
      "✅ Converted: s90_1_L_S2.jpg\n",
      "✅ Converted: s90_1_R_S2.jpg\n",
      "✅ Converted: s90_2_L_S2.jpg\n",
      "✅ Converted: s90_2_R_S2.jpg\n",
      "✅ Converted: s90_3_L_S2.jpg\n",
      "✅ Converted: s90_3_R_S2.jpg\n",
      "✅ Converted: s90_4_L_S2.jpg\n",
      "✅ Converted: s90_4_R_S2.jpg\n",
      "✅ Converted: s90_5_L_S2.jpg\n",
      "✅ Converted: s90_5_R_S2.jpg\n",
      "✅ Converted: s90_6_L_S2.jpg\n",
      "✅ Converted: s90_6_R_S2.jpg\n",
      "✅ Converted: s90_7_L_S2.jpg\n",
      "✅ Converted: s90_7_R_S2.jpg\n",
      "✅ Converted: s90_8_L_S2.jpg\n"
     ]
    },
    {
     "name": "stderr",
     "output_type": "stream",
     "text": [
      "Converting images:  94%|█████████▍| 3014/3200 [00:37<00:02, 84.46it/s]"
     ]
    },
    {
     "name": "stdout",
     "output_type": "stream",
     "text": [
      "✅ Converted: s90_8_R_S2.jpg\n",
      "✅ Converted: s90_9_L_S2.jpg\n",
      "✅ Converted: s90_9_R_S2.jpg\n",
      "✅ Converted: s91_10_L_S2.jpg\n",
      "✅ Converted: s91_10_R_S2.jpg\n",
      "✅ Converted: s91_1_L_S2.jpg\n",
      "✅ Converted: s91_1_R_S2.jpg\n",
      "✅ Converted: s91_2_L_S2.jpg\n",
      "✅ Converted: s91_2_R_S2.jpg\n",
      "✅ Converted: s91_3_L_S2.jpg\n",
      "✅ Converted: s91_3_R_S2.jpg\n",
      "✅ Converted: s91_4_L_S2.jpg\n",
      "✅ Converted: s91_4_R_S2.jpg\n",
      "✅ Converted: s91_5_L_S2.jpg\n",
      "✅ Converted: s91_5_R_S2.jpg\n",
      "✅ Converted: s91_6_L_S2.jpg\n",
      "✅ Converted: s91_6_R_S2.jpg\n"
     ]
    },
    {
     "name": "stderr",
     "output_type": "stream",
     "text": [
      "Converting images:  95%|█████████▍| 3026/3200 [00:37<00:01, 91.86it/s]"
     ]
    },
    {
     "name": "stdout",
     "output_type": "stream",
     "text": [
      "✅ Converted: s91_7_L_S2.jpg\n",
      "✅ Converted: s91_7_R_S2.jpg\n",
      "✅ Converted: s91_8_L_S2.jpg\n",
      "✅ Converted: s91_8_R_S2.jpg\n",
      "✅ Converted: s91_9_L_S2.jpg\n",
      "✅ Converted: s91_9_R_S2.jpg\n",
      "✅ Converted: s92_10_L_S2.jpg\n",
      "✅ Converted: s92_10_R_S2.jpg\n",
      "✅ Converted: s92_1_L_S2.jpg\n",
      "✅ Converted: s92_1_R_S2.jpg\n",
      "✅ Converted: s92_2_L_S2.jpg\n",
      "✅ Converted: s92_2_R_S2.jpg\n",
      "✅ Converted: s92_3_L_S2.jpg\n",
      "✅ Converted: s92_3_R_S2.jpg\n",
      "✅ Converted: s92_4_L_S2.jpg\n",
      "✅ Converted: s92_4_R_S2.jpg\n",
      "✅ Converted: s92_5_L_S2.jpg\n",
      "✅ Converted: s92_5_R_S2.jpg\n",
      "✅ Converted: s92_6_L_S2.jpg\n"
     ]
    },
    {
     "name": "stderr",
     "output_type": "stream",
     "text": [
      "Converting images:  95%|█████████▌| 3045/3200 [00:37<00:01, 84.20it/s]"
     ]
    },
    {
     "name": "stdout",
     "output_type": "stream",
     "text": [
      "✅ Converted: s92_6_R_S2.jpg\n",
      "✅ Converted: s92_7_L_S2.jpg\n",
      "✅ Converted: s92_7_R_S2.jpg\n",
      "✅ Converted: s92_8_L_S2.jpg\n",
      "✅ Converted: s92_8_R_S2.jpg\n",
      "✅ Converted: s92_9_L_S2.jpg\n",
      "✅ Converted: s92_9_R_S2.jpg\n",
      "✅ Converted: s93_10_L_S2.jpg\n",
      "✅ Converted: s93_10_R_S2.jpg\n",
      "✅ Converted: s93_1_L_S2.jpg\n",
      "✅ Converted: s93_1_R_S2.jpg\n",
      "✅ Converted: s93_2_L_S2.jpg\n",
      "✅ Converted: s93_2_R_S2.jpg\n",
      "✅ Converted: s93_3_L_S2.jpg\n",
      "✅ Converted: s93_3_R_S2.jpg\n",
      "✅ Converted: s93_4_L_S2.jpg\n"
     ]
    },
    {
     "name": "stderr",
     "output_type": "stream",
     "text": [
      "Converting images:  96%|█████████▌| 3063/3200 [00:37<00:01, 78.80it/s]"
     ]
    },
    {
     "name": "stdout",
     "output_type": "stream",
     "text": [
      "✅ Converted: s93_4_R_S2.jpg\n",
      "✅ Converted: s93_5_L_S2.jpg\n",
      "✅ Converted: s93_5_R_S2.jpg\n",
      "✅ Converted: s93_6_L_S2.jpg\n",
      "✅ Converted: s93_6_R_S2.jpg\n",
      "✅ Converted: s93_7_L_S2.jpg\n",
      "✅ Converted: s93_7_R_S2.jpg\n",
      "✅ Converted: s93_8_L_S2.jpg\n",
      "✅ Converted: s93_8_R_S2.jpg\n",
      "✅ Converted: s93_9_L_S2.jpg\n",
      "✅ Converted: s93_9_R_S2.jpg\n",
      "✅ Converted: s94_10_L_S2.jpg\n",
      "✅ Converted: s94_10_R_S2.jpg\n",
      "✅ Converted: s94_1_L_S2.jpg\n",
      "✅ Converted: s94_1_R_S2.jpg\n",
      "✅ Converted: s94_2_L_S2.jpg\n"
     ]
    },
    {
     "name": "stderr",
     "output_type": "stream",
     "text": [
      "Converting images:  96%|█████████▋| 3080/3200 [00:38<00:01, 78.60it/s]"
     ]
    },
    {
     "name": "stdout",
     "output_type": "stream",
     "text": [
      "✅ Converted: s94_2_R_S2.jpg\n",
      "✅ Converted: s94_3_L_S2.jpg\n",
      "✅ Converted: s94_3_R_S2.jpg\n",
      "✅ Converted: s94_4_L_S2.jpg\n",
      "✅ Converted: s94_4_R_S2.jpg\n",
      "✅ Converted: s94_5_L_S2.jpg\n",
      "✅ Converted: s94_5_R_S2.jpg\n",
      "✅ Converted: s94_6_L_S2.jpg\n",
      "✅ Converted: s94_6_R_S2.jpg\n",
      "✅ Converted: s94_7_L_S2.jpg\n",
      "✅ Converted: s94_7_R_S2.jpg\n",
      "✅ Converted: s94_8_L_S2.jpg\n",
      "✅ Converted: s94_8_R_S2.jpg\n",
      "✅ Converted: s94_9_L_S2.jpg\n",
      "✅ Converted: s94_9_R_S2.jpg\n"
     ]
    },
    {
     "name": "stderr",
     "output_type": "stream",
     "text": [
      "Converting images:  97%|█████████▋| 3091/3200 [00:38<00:01, 84.96it/s]"
     ]
    },
    {
     "name": "stdout",
     "output_type": "stream",
     "text": [
      "✅ Converted: s95_10_L_S2.jpg\n",
      "✅ Converted: s95_10_R_S2.jpg\n",
      "✅ Converted: s95_1_L_S2.jpg\n",
      "✅ Converted: s95_1_R_S2.jpg\n",
      "✅ Converted: s95_2_L_S2.jpg\n",
      "✅ Converted: s95_2_R_S2.jpg\n",
      "✅ Converted: s95_3_L_S2.jpg\n",
      "✅ Converted: s95_3_R_S2.jpg\n",
      "✅ Converted: s95_4_L_S2.jpg\n",
      "✅ Converted: s95_4_R_S2.jpg\n",
      "✅ Converted: s95_5_L_S2.jpg\n",
      "✅ Converted: s95_5_R_S2.jpg\n",
      "✅ Converted: s95_6_L_S2.jpg\n",
      "✅ Converted: s95_6_R_S2.jpg\n",
      "✅ Converted: s95_7_L_S2.jpg\n",
      "✅ Converted: s95_7_R_S2.jpg\n",
      "✅ Converted: s95_8_L_S2.jpg\n",
      "✅ Converted: s95_8_R_S2.jpg\n",
      "✅ Converted: s95_9_L_S2.jpg\n"
     ]
    },
    {
     "name": "stderr",
     "output_type": "stream",
     "text": [
      "Converting images:  97%|█████████▋| 3112/3200 [00:38<00:00, 90.91it/s]"
     ]
    },
    {
     "name": "stdout",
     "output_type": "stream",
     "text": [
      "✅ Converted: s95_9_R_S2.jpg\n",
      "✅ Converted: s96_10_L_S2.jpg\n",
      "✅ Converted: s96_10_R_S2.jpg\n",
      "✅ Converted: s96_1_L_S2.jpg\n",
      "✅ Converted: s96_1_R_S2.jpg\n",
      "✅ Converted: s96_2_L_S2.jpg\n",
      "✅ Converted: s96_2_R_S2.jpg\n",
      "✅ Converted: s96_3_L_S2.jpg\n",
      "✅ Converted: s96_3_R_S2.jpg\n",
      "✅ Converted: s96_4_L_S2.jpg\n",
      "✅ Converted: s96_4_R_S2.jpg\n",
      "✅ Converted: s96_5_L_S2.jpg\n",
      "✅ Converted: s96_5_R_S2.jpg\n",
      "✅ Converted: s96_6_L_S2.jpg\n",
      "✅ Converted: s96_6_R_S2.jpg\n",
      "✅ Converted: s96_7_L_S2.jpg\n",
      "✅ Converted: s96_7_R_S2.jpg\n",
      "✅ Converted: s96_8_L_S2.jpg\n",
      "✅ Converted: s96_8_R_S2.jpg\n",
      "✅ Converted: s96_9_L_S2.jpg\n",
      "✅ Converted: s96_9_R_S2.jpg\n",
      "✅ Converted: s97_10_L_S2.jpg\n"
     ]
    },
    {
     "name": "stderr",
     "output_type": "stream",
     "text": [
      "Converting images:  98%|█████████▊| 3138/3200 [00:38<00:00, 104.73it/s]"
     ]
    },
    {
     "name": "stdout",
     "output_type": "stream",
     "text": [
      "✅ Converted: s97_10_R_S2.jpg\n",
      "✅ Converted: s97_1_L_S2.jpg\n",
      "✅ Converted: s97_1_R_S2.jpg\n",
      "✅ Converted: s97_2_L_S2.jpg\n",
      "✅ Converted: s97_2_R_S2.jpg\n",
      "✅ Converted: s97_3_L_S2.jpg\n",
      "✅ Converted: s97_3_R_S2.jpg\n",
      "✅ Converted: s97_4_L_S2.jpg\n",
      "✅ Converted: s97_4_R_S2.jpg\n",
      "✅ Converted: s97_5_L_S2.jpg\n",
      "✅ Converted: s97_5_R_S2.jpg\n",
      "✅ Converted: s97_6_L_S2.jpg\n",
      "✅ Converted: s97_6_R_S2.jpg\n",
      "✅ Converted: s97_7_L_S2.jpg\n",
      "✅ Converted: s97_7_R_S2.jpg\n",
      "✅ Converted: s97_8_L_S2.jpg\n",
      "✅ Converted: s97_8_R_S2.jpg\n",
      "✅ Converted: s97_9_L_S2.jpg\n",
      "✅ Converted: s97_9_R_S2.jpg\n",
      "✅ Converted: s98_10_L_S2.jpg\n",
      "✅ Converted: s98_10_R_S2.jpg\n"
     ]
    },
    {
     "name": "stderr",
     "output_type": "stream",
     "text": [
      "Converting images:  98%|█████████▊| 3149/3200 [00:38<00:00, 99.29it/s] "
     ]
    },
    {
     "name": "stdout",
     "output_type": "stream",
     "text": [
      "✅ Converted: s98_1_L_S2.jpg\n",
      "✅ Converted: s98_1_R_S2.jpg\n",
      "✅ Converted: s98_2_L_S2.jpg\n",
      "✅ Converted: s98_2_R_S2.jpg\n",
      "✅ Converted: s98_3_L_S2.jpg\n",
      "✅ Converted: s98_3_R_S2.jpg\n",
      "✅ Converted: s98_4_L_S2.jpg\n",
      "✅ Converted: s98_4_R_S2.jpg\n",
      "✅ Converted: s98_5_L_S2.jpg\n",
      "✅ Converted: s98_5_R_S2.jpg\n",
      "✅ Converted: s98_6_L_S2.jpg\n",
      "✅ Converted: s98_6_R_S2.jpg\n",
      "✅ Converted: s98_7_L_S2.jpg\n",
      "✅ Converted: s98_7_R_S2.jpg\n",
      "✅ Converted: s98_8_L_S2.jpg\n",
      "✅ Converted: s98_8_R_S2.jpg\n",
      "✅ Converted: s98_9_L_S2.jpg\n"
     ]
    },
    {
     "name": "stderr",
     "output_type": "stream",
     "text": [
      "Converting images:  99%|█████████▉| 3172/3200 [00:38<00:00, 97.63it/s]"
     ]
    },
    {
     "name": "stdout",
     "output_type": "stream",
     "text": [
      "✅ Converted: s98_9_R_S2.jpg\n",
      "✅ Converted: s99_10_L_S2.jpg\n",
      "✅ Converted: s99_10_R_S2.jpg\n",
      "✅ Converted: s99_1_L_S2.jpg\n",
      "✅ Converted: s99_1_R_S2.jpg\n",
      "✅ Converted: s99_2_L_S2.jpg\n",
      "✅ Converted: s99_2_R_S2.jpg\n",
      "✅ Converted: s99_3_L_S2.jpg\n",
      "✅ Converted: s99_3_R_S2.jpg\n",
      "✅ Converted: s99_4_L_S2.jpg\n",
      "✅ Converted: s99_4_R_S2.jpg\n",
      "✅ Converted: s99_5_L_S2.jpg\n",
      "✅ Converted: s99_5_R_S2.jpg\n",
      "✅ Converted: s99_6_L_S2.jpg\n",
      "✅ Converted: s99_6_R_S2.jpg\n",
      "✅ Converted: s99_7_L_S2.jpg\n",
      "✅ Converted: s99_7_R_S2.jpg\n",
      "✅ Converted: s99_8_L_S2.jpg\n",
      "✅ Converted: s99_8_R_S2.jpg\n",
      "✅ Converted: s99_9_L_S2.jpg\n",
      "✅ Converted: s99_9_R_S2.jpg\n",
      "✅ Converted: s9_10_L_S2.jpg\n",
      "✅ Converted: s9_10_R_S2.jpg\n"
     ]
    },
    {
     "name": "stderr",
     "output_type": "stream",
     "text": [
      "Converting images: 100%|█████████▉| 3193/3200 [00:39<00:00, 90.12it/s]"
     ]
    },
    {
     "name": "stdout",
     "output_type": "stream",
     "text": [
      "✅ Converted: s9_1_L_S2.jpg\n",
      "✅ Converted: s9_1_R_S2.jpg\n",
      "✅ Converted: s9_2_L_S2.jpg\n",
      "✅ Converted: s9_2_R_S2.jpg\n",
      "✅ Converted: s9_3_L_S2.jpg\n",
      "✅ Converted: s9_3_R_S2.jpg\n",
      "✅ Converted: s9_4_L_S2.jpg\n",
      "✅ Converted: s9_4_R_S2.jpg\n",
      "✅ Converted: s9_5_L_S2.jpg\n",
      "✅ Converted: s9_5_R_S2.jpg\n",
      "✅ Converted: s9_6_L_S2.jpg\n",
      "✅ Converted: s9_6_R_S2.jpg\n",
      "✅ Converted: s9_7_L_S2.jpg\n",
      "✅ Converted: s9_7_R_S2.jpg\n",
      "✅ Converted: s9_8_L_S2.jpg\n",
      "✅ Converted: s9_8_R_S2.jpg\n",
      "✅ Converted: s9_9_L_S2.jpg\n"
     ]
    },
    {
     "name": "stderr",
     "output_type": "stream",
     "text": [
      "Converting images: 100%|██████████| 3200/3200 [00:39<00:00, 81.38it/s]"
     ]
    },
    {
     "name": "stdout",
     "output_type": "stream",
     "text": [
      "✅ Converted: s9_9_R_S2.jpg\n",
      "✅ All images successfully converted to grayscale!\n"
     ]
    },
    {
     "name": "stderr",
     "output_type": "stream",
     "text": [
      "\n"
     ]
    }
   ],
   "source": [
    "import os\n",
    "import cv2\n",
    "from tqdm import tqdm  # Progress bar\n",
    "\n",
    "# Define dataset path (where all images are stored)\n",
    "dataset_path = r\"C:\\Users\\hp\\Documents\\dataset\\PalmDataset\\Palm\"\n",
    "\n",
    "# Function to convert all images in the folder to grayscale\n",
    "def convert_all_to_grayscale(directory):\n",
    "    if not os.path.exists(directory):\n",
    "        print(f\"❌ Directory does not exist: {directory}\")\n",
    "        return  # Skip processing\n",
    "\n",
    "    for file in tqdm(os.listdir(directory), desc=\"Converting images\"):\n",
    "        if file.lower().endswith(('.png', '.jpg', '.jpeg', '.bmp')):  # Process only image files\n",
    "            img_path = os.path.join(directory, file)\n",
    "            img = cv2.imread(img_path)  # Read the image\n",
    "            \n",
    "            if img is None:\n",
    "                print(f\"⚠️ Skipping corrupted image: {img_path}\")\n",
    "                continue\n",
    "            \n",
    "            gray_img = cv2.cvtColor(img, cv2.COLOR_BGR2GRAY)  # Convert to grayscale\n",
    "            cv2.imwrite(img_path, gray_img)  # Overwrite original image with grayscale version\n",
    "            print(f\"✅ Converted: {file}\")\n",
    "\n",
    "# Convert all images in the dataset folder\n",
    "convert_all_to_grayscale(dataset_path)\n",
    "\n",
    "print(\"✅ All images successfully converted to grayscale!\")\n"
   ]
  },
  {
   "cell_type": "code",
   "execution_count": 14,
   "id": "5aa33317-2c57-4aeb-b2b3-700111074efd",
   "metadata": {},
   "outputs": [
    {
     "name": "stderr",
     "output_type": "stream",
     "text": [
      "Processing images:   0%|          | 4/3200 [00:00<01:32, 34.66it/s]"
     ]
    },
    {
     "name": "stdout",
     "output_type": "stream",
     "text": [
      "✅ Processed: s100_10_L_S2.jpg\n",
      "✅ Processed: s100_10_R_S2.jpg\n",
      "✅ Processed: s100_1_L_S2.jpg\n",
      "✅ Processed: s100_1_R_S2.jpg\n",
      "✅ Processed: s100_2_L_S2.jpg\n",
      "✅ Processed: s100_2_R_S2.jpg\n",
      "✅ Processed: s100_3_L_S2.jpg\n",
      "✅ Processed: s100_3_R_S2.jpg\n",
      "✅ Processed: s100_4_L_S2.jpg\n",
      "✅ Processed: s100_4_R_S2.jpg\n",
      "✅ Processed: s100_5_L_S2.jpg\n",
      "✅ Processed: s100_5_R_S2.jpg\n",
      "✅ Processed: s100_6_L_S2.jpg\n",
      "✅ Processed: s100_6_R_S2.jpg\n"
     ]
    },
    {
     "name": "stderr",
     "output_type": "stream",
     "text": [
      "Processing images:   1%|          | 26/3200 [00:00<00:37, 84.25it/s]"
     ]
    },
    {
     "name": "stdout",
     "output_type": "stream",
     "text": [
      "✅ Processed: s100_7_L_S2.jpg\n",
      "✅ Processed: s100_7_R_S2.jpg\n",
      "✅ Processed: s100_8_L_S2.jpg\n",
      "✅ Processed: s100_8_R_S2.jpg\n",
      "✅ Processed: s100_9_L_S2.jpg\n",
      "✅ Processed: s100_9_R_S2.jpg\n",
      "✅ Processed: s101_10_L_S2.jpg\n",
      "✅ Processed: s101_10_R_S2.jpg\n",
      "✅ Processed: s101_1_L_S2.jpg\n",
      "✅ Processed: s101_1_R_S2.jpg\n",
      "✅ Processed: s101_2_L_S2.jpg\n",
      "✅ Processed: s101_2_R_S2.jpg\n",
      "✅ Processed: s101_3_L_S2.jpg\n",
      "✅ Processed: s101_3_R_S2.jpg\n",
      "✅ Processed: s101_4_L_S2.jpg\n",
      "✅ Processed: s101_4_R_S2.jpg\n",
      "✅ Processed: s101_5_L_S2.jpg\n",
      "✅ Processed: s101_5_R_S2.jpg\n",
      "✅ Processed: s101_6_L_S2.jpg\n"
     ]
    },
    {
     "name": "stderr",
     "output_type": "stream",
     "text": [
      "Processing images:   1%|▏         | 44/3200 [00:00<00:41, 76.37it/s]"
     ]
    },
    {
     "name": "stdout",
     "output_type": "stream",
     "text": [
      "✅ Processed: s101_6_R_S2.jpg\n",
      "✅ Processed: s101_7_L_S2.jpg\n",
      "✅ Processed: s101_7_R_S2.jpg\n",
      "✅ Processed: s101_8_L_S2.jpg\n",
      "✅ Processed: s101_8_R_S2.jpg\n",
      "✅ Processed: s101_9_L_S2.jpg\n",
      "✅ Processed: s101_9_R_S2.jpg\n",
      "✅ Processed: s102_10_L_S2.jpg\n",
      "✅ Processed: s102_10_R_S2.jpg\n",
      "✅ Processed: s102_1_L_S2.jpg\n",
      "✅ Processed: s102_1_R_S2.jpg\n",
      "✅ Processed: s102_2_L_S2.jpg\n",
      "✅ Processed: s102_2_R_S2.jpg\n",
      "✅ Processed: s102_3_L_S2.jpg\n",
      "✅ Processed: s102_3_R_S2.jpg\n"
     ]
    },
    {
     "name": "stderr",
     "output_type": "stream",
     "text": [
      "Processing images:   2%|▏         | 60/3200 [00:00<00:42, 73.18it/s]"
     ]
    },
    {
     "name": "stdout",
     "output_type": "stream",
     "text": [
      "✅ Processed: s102_4_L_S2.jpg\n",
      "✅ Processed: s102_4_R_S2.jpg\n",
      "✅ Processed: s102_5_L_S2.jpg\n",
      "✅ Processed: s102_5_R_S2.jpg\n",
      "✅ Processed: s102_6_L_S2.jpg\n",
      "✅ Processed: s102_6_R_S2.jpg\n",
      "✅ Processed: s102_7_L_S2.jpg\n",
      "✅ Processed: s102_7_R_S2.jpg\n",
      "✅ Processed: s102_8_L_S2.jpg\n",
      "✅ Processed: s102_8_R_S2.jpg\n",
      "✅ Processed: s102_9_L_S2.jpg\n",
      "✅ Processed: s102_9_R_S2.jpg\n",
      "✅ Processed: s103_10_L_S2.jpg\n",
      "✅ Processed: s103_10_R_S2.jpg\n",
      "✅ Processed: s103_1_L_S2.jpg\n"
     ]
    },
    {
     "name": "stderr",
     "output_type": "stream",
     "text": [
      "Processing images:   2%|▏         | 77/3200 [00:01<00:40, 76.78it/s]"
     ]
    },
    {
     "name": "stdout",
     "output_type": "stream",
     "text": [
      "✅ Processed: s103_1_R_S2.jpg\n",
      "✅ Processed: s103_2_L_S2.jpg\n",
      "✅ Processed: s103_2_R_S2.jpg\n",
      "✅ Processed: s103_3_L_S2.jpg\n",
      "✅ Processed: s103_3_R_S2.jpg\n",
      "✅ Processed: s103_4_L_S2.jpg\n",
      "✅ Processed: s103_4_R_S2.jpg\n",
      "✅ Processed: s103_5_L_S2.jpg\n",
      "✅ Processed: s103_5_R_S2.jpg\n",
      "✅ Processed: s103_6_L_S2.jpg\n",
      "✅ Processed: s103_6_R_S2.jpg\n",
      "✅ Processed: s103_7_L_S2.jpg\n",
      "✅ Processed: s103_7_R_S2.jpg\n",
      "✅ Processed: s103_8_L_S2.jpg\n",
      "✅ Processed: s103_8_R_S2.jpg\n",
      "✅ Processed: s103_9_L_S2.jpg\n",
      "✅ Processed: s103_9_R_S2.jpg\n"
     ]
    },
    {
     "name": "stderr",
     "output_type": "stream",
     "text": [
      "Processing images:   3%|▎         | 94/3200 [00:01<00:39, 79.17it/s]"
     ]
    },
    {
     "name": "stdout",
     "output_type": "stream",
     "text": [
      "✅ Processed: s104_10_L_S2.jpg\n",
      "✅ Processed: s104_10_R_S2.jpg\n",
      "✅ Processed: s104_1_L_S2.jpg\n",
      "✅ Processed: s104_1_R_S2.jpg\n",
      "✅ Processed: s104_2_L_S2.jpg\n",
      "✅ Processed: s104_2_R_S2.jpg\n",
      "✅ Processed: s104_3_L_S2.jpg\n",
      "✅ Processed: s104_3_R_S2.jpg\n",
      "✅ Processed: s104_4_L_S2.jpg\n",
      "✅ Processed: s104_4_R_S2.jpg\n",
      "✅ Processed: s104_5_L_S2.jpg\n",
      "✅ Processed: s104_5_R_S2.jpg\n",
      "✅ Processed: s104_6_L_S2.jpg\n",
      "✅ Processed: s104_6_R_S2.jpg\n",
      "✅ Processed: s104_7_L_S2.jpg\n",
      "✅ Processed: s104_7_R_S2.jpg\n"
     ]
    },
    {
     "name": "stderr",
     "output_type": "stream",
     "text": [
      "Processing images:   4%|▎         | 113/3200 [00:01<00:37, 82.99it/s]"
     ]
    },
    {
     "name": "stdout",
     "output_type": "stream",
     "text": [
      "✅ Processed: s104_8_L_S2.jpg\n",
      "✅ Processed: s104_8_R_S2.jpg\n",
      "✅ Processed: s104_9_L_S2.jpg\n",
      "✅ Processed: s104_9_R_S2.jpg\n",
      "✅ Processed: s105_10_L_S2.jpg\n",
      "✅ Processed: s105_10_R_S2.jpg\n",
      "✅ Processed: s105_1_L_S2.jpg\n",
      "✅ Processed: s105_1_R_S2.jpg\n",
      "✅ Processed: s105_2_L_S2.jpg\n",
      "✅ Processed: s105_2_R_S2.jpg\n",
      "✅ Processed: s105_3_L_S2.jpg\n",
      "✅ Processed: s105_3_R_S2.jpg\n",
      "✅ Processed: s105_4_L_S2.jpg\n",
      "✅ Processed: s105_4_R_S2.jpg\n",
      "✅ Processed: s105_5_L_S2.jpg\n",
      "✅ Processed: s105_5_R_S2.jpg\n",
      "✅ Processed: s105_6_L_S2.jpg\n",
      "✅ Processed: s105_6_R_S2.jpg\n",
      "✅ Processed: s105_7_L_S2.jpg\n",
      "✅ Processed: s105_7_R_S2.jpg\n"
     ]
    },
    {
     "name": "stderr",
     "output_type": "stream",
     "text": [
      "Processing images:   4%|▍         | 133/3200 [00:01<00:35, 85.36it/s]"
     ]
    },
    {
     "name": "stdout",
     "output_type": "stream",
     "text": [
      "✅ Processed: s105_8_L_S2.jpg\n",
      "✅ Processed: s105_8_R_S2.jpg\n",
      "✅ Processed: s105_9_L_S2.jpg\n",
      "✅ Processed: s105_9_R_S2.jpg\n",
      "✅ Processed: s106_10_L_S2.jpg\n",
      "✅ Processed: s106_10_R_S2.jpg\n",
      "✅ Processed: s106_1_L_S2.jpg\n",
      "✅ Processed: s106_1_R_S2.jpg\n",
      "✅ Processed: s106_2_L_S2.jpg\n",
      "✅ Processed: s106_2_R_S2.jpg\n",
      "✅ Processed: s106_3_L_S2.jpg\n",
      "✅ Processed: s106_3_R_S2.jpg\n",
      "✅ Processed: s106_4_L_S2.jpg\n",
      "✅ Processed: s106_4_R_S2.jpg\n",
      "✅ Processed: s106_5_L_S2.jpg\n",
      "✅ Processed: s106_5_R_S2.jpg\n",
      "✅ Processed: s106_6_L_S2.jpg\n"
     ]
    },
    {
     "name": "stderr",
     "output_type": "stream",
     "text": [
      "Processing images:   4%|▍         | 142/3200 [00:01<00:37, 82.27it/s]"
     ]
    },
    {
     "name": "stdout",
     "output_type": "stream",
     "text": [
      "✅ Processed: s106_6_R_S2.jpg\n",
      "✅ Processed: s106_7_L_S2.jpg\n",
      "✅ Processed: s106_7_R_S2.jpg\n",
      "✅ Processed: s106_8_L_S2.jpg\n",
      "✅ Processed: s106_8_R_S2.jpg\n",
      "✅ Processed: s106_9_L_S2.jpg\n",
      "✅ Processed: s106_9_R_S2.jpg\n",
      "✅ Processed: s107_10_L_S2.jpg\n",
      "✅ Processed: s107_10_R_S2.jpg\n",
      "✅ Processed: s107_1_L_S2.jpg\n",
      "✅ Processed: s107_1_R_S2.jpg\n",
      "✅ Processed: s107_2_L_S2.jpg\n",
      "✅ Processed: s107_2_R_S2.jpg\n",
      "✅ Processed: s107_3_L_S2.jpg\n",
      "✅ Processed: s107_3_R_S2.jpg\n"
     ]
    },
    {
     "name": "stderr",
     "output_type": "stream",
     "text": [
      "Processing images:   5%|▍         | 159/3200 [00:02<00:40, 75.19it/s]"
     ]
    },
    {
     "name": "stdout",
     "output_type": "stream",
     "text": [
      "✅ Processed: s107_4_L_S2.jpg\n",
      "✅ Processed: s107_4_R_S2.jpg\n",
      "✅ Processed: s107_5_L_S2.jpg\n",
      "✅ Processed: s107_5_R_S2.jpg\n",
      "✅ Processed: s107_6_L_S2.jpg\n",
      "✅ Processed: s107_6_R_S2.jpg\n",
      "✅ Processed: s107_7_L_S2.jpg\n",
      "✅ Processed: s107_7_R_S2.jpg\n",
      "✅ Processed: s107_8_L_S2.jpg\n",
      "✅ Processed: s107_8_R_S2.jpg\n",
      "✅ Processed: s107_9_L_S2.jpg\n",
      "✅ Processed: s107_9_R_S2.jpg\n",
      "✅ Processed: s108_10_L_S2.jpg\n",
      "✅ Processed: s108_10_R_S2.jpg\n",
      "✅ Processed: s108_1_L_S2.jpg\n"
     ]
    },
    {
     "name": "stderr",
     "output_type": "stream",
     "text": [
      "Processing images:   6%|▌         | 176/3200 [00:02<00:39, 76.04it/s]"
     ]
    },
    {
     "name": "stdout",
     "output_type": "stream",
     "text": [
      "✅ Processed: s108_1_R_S2.jpg\n",
      "✅ Processed: s108_2_L_S2.jpg\n",
      "✅ Processed: s108_2_R_S2.jpg\n",
      "✅ Processed: s108_3_L_S2.jpg\n",
      "✅ Processed: s108_3_R_S2.jpg\n",
      "✅ Processed: s108_4_L_S2.jpg\n",
      "✅ Processed: s108_4_R_S2.jpg\n",
      "✅ Processed: s108_5_L_S2.jpg\n",
      "✅ Processed: s108_5_R_S2.jpg\n",
      "✅ Processed: s108_6_L_S2.jpg\n",
      "✅ Processed: s108_6_R_S2.jpg\n",
      "✅ Processed: s108_7_L_S2.jpg\n",
      "✅ Processed: s108_7_R_S2.jpg\n",
      "✅ Processed: s108_8_L_S2.jpg\n",
      "✅ Processed: s108_8_R_S2.jpg\n",
      "✅ Processed: s108_9_L_S2.jpg\n",
      "✅ Processed: s108_9_R_S2.jpg\n"
     ]
    },
    {
     "name": "stderr",
     "output_type": "stream",
     "text": [
      "Processing images:   6%|▌         | 195/3200 [00:02<00:37, 80.61it/s]"
     ]
    },
    {
     "name": "stdout",
     "output_type": "stream",
     "text": [
      "✅ Processed: s109_10_L_S2.jpg\n",
      "✅ Processed: s109_10_R_S2.jpg\n",
      "✅ Processed: s109_1_L_S2.jpg\n",
      "✅ Processed: s109_1_R_S2.jpg\n",
      "✅ Processed: s109_2_L_S2.jpg\n",
      "✅ Processed: s109_2_R_S2.jpg\n",
      "✅ Processed: s109_3_L_S2.jpg\n",
      "✅ Processed: s109_3_R_S2.jpg\n",
      "✅ Processed: s109_4_L_S2.jpg\n",
      "✅ Processed: s109_4_R_S2.jpg\n",
      "✅ Processed: s109_5_L_S2.jpg\n",
      "✅ Processed: s109_5_R_S2.jpg\n",
      "✅ Processed: s109_6_L_S2.jpg\n",
      "✅ Processed: s109_6_R_S2.jpg\n",
      "✅ Processed: s109_7_L_S2.jpg\n",
      "✅ Processed: s109_7_R_S2.jpg\n"
     ]
    },
    {
     "name": "stderr",
     "output_type": "stream",
     "text": [
      "Processing images:   7%|▋         | 213/3200 [00:02<00:36, 82.35it/s]"
     ]
    },
    {
     "name": "stdout",
     "output_type": "stream",
     "text": [
      "✅ Processed: s109_8_L_S2.jpg\n",
      "✅ Processed: s109_8_R_S2.jpg\n",
      "✅ Processed: s109_9_L_S2.jpg\n",
      "✅ Processed: s109_9_R_S2.jpg\n",
      "✅ Processed: s10_10_L_S2.jpg\n",
      "✅ Processed: s10_10_R_S2.jpg\n",
      "✅ Processed: s10_1_L_S2.jpg\n",
      "✅ Processed: s10_1_R_S2.jpg\n",
      "✅ Processed: s10_2_L_S2.jpg\n",
      "✅ Processed: s10_2_R_S2.jpg\n",
      "✅ Processed: s10_3_L_S2.jpg\n",
      "✅ Processed: s10_3_R_S2.jpg\n",
      "✅ Processed: s10_4_L_S2.jpg\n",
      "✅ Processed: s10_4_R_S2.jpg\n",
      "✅ Processed: s10_5_L_S2.jpg\n",
      "✅ Processed: s10_5_R_S2.jpg\n",
      "✅ Processed: s10_6_L_S2.jpg\n",
      "✅ Processed: s10_6_R_S2.jpg\n",
      "✅ Processed: s10_7_L_S2.jpg\n"
     ]
    },
    {
     "name": "stderr",
     "output_type": "stream",
     "text": [
      "Processing images:   7%|▋         | 233/3200 [00:02<00:35, 84.17it/s]"
     ]
    },
    {
     "name": "stdout",
     "output_type": "stream",
     "text": [
      "✅ Processed: s10_7_R_S2.jpg\n",
      "✅ Processed: s10_8_L_S2.jpg\n",
      "✅ Processed: s10_8_R_S2.jpg\n",
      "✅ Processed: s10_9_L_S2.jpg\n",
      "✅ Processed: s10_9_R_S2.jpg\n",
      "✅ Processed: s110_10_L_S2.jpg\n",
      "✅ Processed: s110_10_R_S2.jpg\n",
      "✅ Processed: s110_1_L_S2.jpg\n",
      "✅ Processed: s110_1_R_S2.jpg\n",
      "✅ Processed: s110_2_L_S2.jpg\n",
      "✅ Processed: s110_2_R_S2.jpg\n",
      "✅ Processed: s110_3_L_S2.jpg\n",
      "✅ Processed: s110_3_R_S2.jpg\n",
      "✅ Processed: s110_4_L_S2.jpg\n",
      "✅ Processed: s110_4_R_S2.jpg\n",
      "✅ Processed: s110_5_L_S2.jpg\n",
      "✅ Processed: s110_5_R_S2.jpg\n",
      "✅ Processed: s110_6_L_S2.jpg\n"
     ]
    },
    {
     "name": "stderr",
     "output_type": "stream",
     "text": [
      "Processing images:   8%|▊         | 243/3200 [00:03<00:34, 84.75it/s]"
     ]
    },
    {
     "name": "stdout",
     "output_type": "stream",
     "text": [
      "✅ Processed: s110_6_R_S2.jpg\n",
      "✅ Processed: s110_7_L_S2.jpg\n",
      "✅ Processed: s110_7_R_S2.jpg\n",
      "✅ Processed: s110_8_L_S2.jpg\n",
      "✅ Processed: s110_8_R_S2.jpg\n",
      "✅ Processed: s110_9_L_S2.jpg\n",
      "✅ Processed: s110_9_R_S2.jpg\n",
      "✅ Processed: s111_10_L_S2.jpg\n",
      "✅ Processed: s111_10_R_S2.jpg\n",
      "✅ Processed: s111_1_L_S2.jpg\n",
      "✅ Processed: s111_1_R_S2.jpg\n",
      "✅ Processed: s111_2_L_S2.jpg\n",
      "✅ Processed: s111_2_R_S2.jpg\n",
      "✅ Processed: s111_3_L_S2.jpg\n",
      "✅ Processed: s111_3_R_S2.jpg\n",
      "✅ Processed: s111_4_L_S2.jpg\n",
      "✅ Processed: s111_4_R_S2.jpg\n",
      "✅ Processed: s111_5_L_S2.jpg\n"
     ]
    },
    {
     "name": "stderr",
     "output_type": "stream",
     "text": [
      "Processing images:   8%|▊         | 263/3200 [00:03<00:32, 89.23it/s]"
     ]
    },
    {
     "name": "stdout",
     "output_type": "stream",
     "text": [
      "✅ Processed: s111_5_R_S2.jpg\n",
      "✅ Processed: s111_6_L_S2.jpg\n",
      "✅ Processed: s111_6_R_S2.jpg\n",
      "✅ Processed: s111_7_L_S2.jpg\n",
      "✅ Processed: s111_7_R_S2.jpg\n",
      "✅ Processed: s111_8_L_S2.jpg\n",
      "✅ Processed: s111_8_R_S2.jpg\n",
      "✅ Processed: s111_9_L_S2.jpg\n",
      "✅ Processed: s111_9_R_S2.jpg\n",
      "✅ Processed: s112_10_L_S2.jpg\n",
      "✅ Processed: s112_10_R_S2.jpg\n",
      "✅ Processed: s112_1_L_S2.jpg\n",
      "✅ Processed: s112_1_R_S2.jpg\n",
      "✅ Processed: s112_2_L_S2.jpg\n",
      "✅ Processed: s112_2_R_S2.jpg\n",
      "✅ Processed: s112_3_L_S2.jpg\n",
      "✅ Processed: s112_3_R_S2.jpg\n",
      "✅ Processed: s112_4_L_S2.jpg\n",
      "✅ Processed: s112_4_R_S2.jpg\n",
      "✅ Processed: s112_5_L_S2.jpg\n",
      "✅ Processed: s112_5_R_S2.jpg\n",
      "✅ Processed: s112_6_L_S2.jpg\n",
      "✅ Processed: s112_6_R_S2.jpg\n",
      "✅ Processed: s112_7_L_S2.jpg\n"
     ]
    },
    {
     "name": "stderr",
     "output_type": "stream",
     "text": [
      "Processing images:   9%|▉         | 287/3200 [00:03<00:29, 99.63it/s]"
     ]
    },
    {
     "name": "stdout",
     "output_type": "stream",
     "text": [
      "✅ Processed: s112_7_R_S2.jpg\n",
      "✅ Processed: s112_8_L_S2.jpg\n",
      "✅ Processed: s112_8_R_S2.jpg\n",
      "✅ Processed: s112_9_L_S2.jpg\n",
      "✅ Processed: s112_9_R_S2.jpg\n",
      "✅ Processed: s113_10_L_S2.jpg\n",
      "✅ Processed: s113_10_R_S2.jpg\n",
      "✅ Processed: s113_1_L_S2.jpg\n",
      "✅ Processed: s113_1_R_S2.jpg\n",
      "✅ Processed: s113_2_L_S2.jpg\n",
      "✅ Processed: s113_2_R_S2.jpg\n",
      "✅ Processed: s113_3_L_S2.jpg\n",
      "✅ Processed: s113_3_R_S2.jpg\n",
      "✅ Processed: s113_4_L_S2.jpg\n",
      "✅ Processed: s113_4_R_S2.jpg\n",
      "✅ Processed: s113_5_L_S2.jpg\n",
      "✅ Processed: s113_5_R_S2.jpg\n",
      "✅ Processed: s113_6_L_S2.jpg\n",
      "✅ Processed: s113_6_R_S2.jpg\n",
      "✅ Processed: s113_7_L_S2.jpg\n",
      "✅ Processed: s113_7_R_S2.jpg\n",
      "✅ Processed: s113_8_L_S2.jpg\n"
     ]
    },
    {
     "name": "stderr",
     "output_type": "stream",
     "text": [
      "Processing images:  10%|▉         | 311/3200 [00:03<00:28, 102.23it/s]"
     ]
    },
    {
     "name": "stdout",
     "output_type": "stream",
     "text": [
      "✅ Processed: s113_8_R_S2.jpg\n",
      "✅ Processed: s113_9_L_S2.jpg\n",
      "✅ Processed: s113_9_R_S2.jpg\n",
      "✅ Processed: s114_10_L_S2.jpg\n",
      "✅ Processed: s114_10_R_S2.jpg\n",
      "✅ Processed: s114_1_L_S2.jpg\n",
      "✅ Processed: s114_1_R_S2.jpg\n",
      "✅ Processed: s114_2_L_S2.jpg\n",
      "✅ Processed: s114_2_R_S2.jpg\n",
      "✅ Processed: s114_3_L_S2.jpg\n",
      "✅ Processed: s114_3_R_S2.jpg\n",
      "✅ Processed: s114_4_L_S2.jpg\n",
      "✅ Processed: s114_4_R_S2.jpg\n",
      "✅ Processed: s114_5_L_S2.jpg\n",
      "✅ Processed: s114_5_R_S2.jpg\n",
      "✅ Processed: s114_6_L_S2.jpg\n",
      "✅ Processed: s114_6_R_S2.jpg\n",
      "✅ Processed: s114_7_L_S2.jpg\n",
      "✅ Processed: s114_7_R_S2.jpg\n",
      "✅ Processed: s114_8_L_S2.jpg\n",
      "✅ Processed: s114_8_R_S2.jpg\n",
      "✅ Processed: s114_9_L_S2.jpg\n",
      "✅ Processed: s114_9_R_S2.jpg\n"
     ]
    },
    {
     "name": "stderr",
     "output_type": "stream",
     "text": [
      "Processing images:  10%|█         | 333/3200 [00:03<00:28, 100.34it/s]"
     ]
    },
    {
     "name": "stdout",
     "output_type": "stream",
     "text": [
      "✅ Processed: s115_10_L_S2.jpg\n",
      "✅ Processed: s115_10_R_S2.jpg\n",
      "✅ Processed: s115_1_L_S2.jpg\n",
      "✅ Processed: s115_1_R_S2.jpg\n",
      "✅ Processed: s115_2_L_S2.jpg\n",
      "✅ Processed: s115_2_R_S2.jpg\n",
      "✅ Processed: s115_3_L_S2.jpg\n",
      "✅ Processed: s115_3_R_S2.jpg\n",
      "✅ Processed: s115_4_L_S2.jpg\n",
      "✅ Processed: s115_4_R_S2.jpg\n",
      "✅ Processed: s115_5_L_S2.jpg\n",
      "✅ Processed: s115_5_R_S2.jpg\n",
      "✅ Processed: s115_6_L_S2.jpg\n",
      "✅ Processed: s115_6_R_S2.jpg\n",
      "✅ Processed: s115_7_L_S2.jpg\n",
      "✅ Processed: s115_7_R_S2.jpg\n",
      "✅ Processed: s115_8_L_S2.jpg\n",
      "✅ Processed: s115_8_R_S2.jpg\n",
      "✅ Processed: s115_9_L_S2.jpg\n",
      "✅ Processed: s115_9_R_S2.jpg\n",
      "✅ Processed: s116_10_L_S2.jpg\n"
     ]
    },
    {
     "name": "stderr",
     "output_type": "stream",
     "text": [
      "Processing images:  11%|█         | 355/3200 [00:04<00:29, 97.95it/s] "
     ]
    },
    {
     "name": "stdout",
     "output_type": "stream",
     "text": [
      "✅ Processed: s116_10_R_S2.jpg\n",
      "✅ Processed: s116_1_L_S2.jpg\n",
      "✅ Processed: s116_1_R_S2.jpg\n",
      "✅ Processed: s116_2_L_S2.jpg\n",
      "✅ Processed: s116_2_R_S2.jpg\n",
      "✅ Processed: s116_3_L_S2.jpg\n",
      "✅ Processed: s116_3_R_S2.jpg\n",
      "✅ Processed: s116_4_L_S2.jpg\n",
      "✅ Processed: s116_4_R_S2.jpg\n",
      "✅ Processed: s116_5_L_S2.jpg\n",
      "✅ Processed: s116_5_R_S2.jpg\n",
      "✅ Processed: s116_6_L_S2.jpg\n",
      "✅ Processed: s116_6_R_S2.jpg\n",
      "✅ Processed: s116_7_L_S2.jpg\n",
      "✅ Processed: s116_7_R_S2.jpg\n",
      "✅ Processed: s116_8_L_S2.jpg\n",
      "✅ Processed: s116_8_R_S2.jpg\n",
      "✅ Processed: s116_9_L_S2.jpg\n",
      "✅ Processed: s116_9_R_S2.jpg\n",
      "✅ Processed: s117_10_L_S2.jpg\n"
     ]
    },
    {
     "name": "stderr",
     "output_type": "stream",
     "text": [
      "Processing images:  12%|█▏        | 378/3200 [00:04<00:27, 103.56it/s]"
     ]
    },
    {
     "name": "stdout",
     "output_type": "stream",
     "text": [
      "✅ Processed: s117_10_R_S2.jpg\n",
      "✅ Processed: s117_1_L_S2.jpg\n",
      "✅ Processed: s117_1_R_S2.jpg\n",
      "✅ Processed: s117_2_L_S2.jpg\n",
      "✅ Processed: s117_2_R_S2.jpg\n",
      "✅ Processed: s117_3_L_S2.jpg\n",
      "✅ Processed: s117_3_R_S2.jpg\n",
      "✅ Processed: s117_4_L_S2.jpg\n",
      "✅ Processed: s117_4_R_S2.jpg\n",
      "✅ Processed: s117_5_L_S2.jpg\n",
      "✅ Processed: s117_5_R_S2.jpg\n",
      "✅ Processed: s117_6_L_S2.jpg\n",
      "✅ Processed: s117_6_R_S2.jpg\n",
      "✅ Processed: s117_7_L_S2.jpg\n",
      "✅ Processed: s117_7_R_S2.jpg\n",
      "✅ Processed: s117_8_L_S2.jpg\n",
      "✅ Processed: s117_8_R_S2.jpg\n",
      "✅ Processed: s117_9_L_S2.jpg\n",
      "✅ Processed: s117_9_R_S2.jpg\n",
      "✅ Processed: s118_10_L_S2.jpg\n",
      "✅ Processed: s118_10_R_S2.jpg\n",
      "✅ Processed: s118_1_L_S2.jpg\n",
      "✅ Processed: s118_1_R_S2.jpg\n",
      "✅ Processed: s118_2_L_S2.jpg\n",
      "✅ Processed: s118_2_R_S2.jpg\n",
      "✅ Processed: s118_3_L_S2.jpg\n",
      "✅ Processed: s118_3_R_S2.jpg\n"
     ]
    },
    {
     "name": "stderr",
     "output_type": "stream",
     "text": [
      "Processing images:  13%|█▎        | 401/3200 [00:04<00:25, 108.52it/s]"
     ]
    },
    {
     "name": "stdout",
     "output_type": "stream",
     "text": [
      "✅ Processed: s118_4_L_S2.jpg\n",
      "✅ Processed: s118_4_R_S2.jpg\n",
      "✅ Processed: s118_5_L_S2.jpg\n",
      "✅ Processed: s118_5_R_S2.jpg\n",
      "✅ Processed: s118_6_L_S2.jpg\n",
      "✅ Processed: s118_6_R_S2.jpg\n",
      "✅ Processed: s118_7_L_S2.jpg\n",
      "✅ Processed: s118_7_R_S2.jpg\n",
      "✅ Processed: s118_8_L_S2.jpg\n",
      "✅ Processed: s118_8_R_S2.jpg\n",
      "✅ Processed: s118_9_L_S2.jpg\n",
      "✅ Processed: s118_9_R_S2.jpg\n",
      "✅ Processed: s119_10_L_S2.jpg\n",
      "✅ Processed: s119_10_R_S2.jpg\n",
      "✅ Processed: s119_1_L_S2.jpg\n",
      "✅ Processed: s119_1_R_S2.jpg\n",
      "✅ Processed: s119_2_L_S2.jpg\n",
      "✅ Processed: s119_2_R_S2.jpg\n",
      "✅ Processed: s119_3_L_S2.jpg\n",
      "✅ Processed: s119_3_R_S2.jpg\n",
      "✅ Processed: s119_4_L_S2.jpg\n"
     ]
    },
    {
     "name": "stderr",
     "output_type": "stream",
     "text": [
      "Processing images:  13%|█▎        | 424/3200 [00:04<00:25, 107.26it/s]"
     ]
    },
    {
     "name": "stdout",
     "output_type": "stream",
     "text": [
      "✅ Processed: s119_4_R_S2.jpg\n",
      "✅ Processed: s119_5_L_S2.jpg\n",
      "✅ Processed: s119_5_R_S2.jpg\n",
      "✅ Processed: s119_6_L_S2.jpg\n",
      "✅ Processed: s119_6_R_S2.jpg\n",
      "✅ Processed: s119_7_L_S2.jpg\n",
      "✅ Processed: s119_7_R_S2.jpg\n",
      "✅ Processed: s119_8_L_S2.jpg\n",
      "✅ Processed: s119_8_R_S2.jpg\n",
      "✅ Processed: s119_9_L_S2.jpg\n",
      "✅ Processed: s119_9_R_S2.jpg\n",
      "✅ Processed: s11_10_L_S2.jpg\n",
      "✅ Processed: s11_10_R_S2.jpg\n",
      "✅ Processed: s11_1_L_S2.jpg\n",
      "✅ Processed: s11_1_R_S2.jpg\n",
      "✅ Processed: s11_2_L_S2.jpg\n",
      "✅ Processed: s11_2_R_S2.jpg\n",
      "✅ Processed: s11_3_L_S2.jpg\n",
      "✅ Processed: s11_3_R_S2.jpg\n",
      "✅ Processed: s11_4_L_S2.jpg\n",
      "✅ Processed: s11_4_R_S2.jpg\n",
      "✅ Processed: s11_5_L_S2.jpg\n",
      "✅ Processed: s11_5_R_S2.jpg\n",
      "✅ Processed: s11_6_L_S2.jpg\n"
     ]
    },
    {
     "name": "stderr",
     "output_type": "stream",
     "text": [
      "Processing images:  14%|█▍        | 446/3200 [00:05<00:28, 97.92it/s] "
     ]
    },
    {
     "name": "stdout",
     "output_type": "stream",
     "text": [
      "✅ Processed: s11_6_R_S2.jpg\n",
      "✅ Processed: s11_7_L_S2.jpg\n",
      "✅ Processed: s11_7_R_S2.jpg\n",
      "✅ Processed: s11_8_L_S2.jpg\n",
      "✅ Processed: s11_8_R_S2.jpg\n",
      "✅ Processed: s11_9_L_S2.jpg\n",
      "✅ Processed: s11_9_R_S2.jpg\n",
      "✅ Processed: s120_10_L_S2.jpg\n",
      "✅ Processed: s120_10_R_S2.jpg\n",
      "✅ Processed: s120_1_L_S2.jpg\n",
      "✅ Processed: s120_1_R_S2.jpg\n",
      "✅ Processed: s120_2_L_S2.jpg\n",
      "✅ Processed: s120_2_R_S2.jpg\n",
      "✅ Processed: s120_3_L_S2.jpg\n",
      "✅ Processed: s120_3_R_S2.jpg\n",
      "✅ Processed: s120_4_L_S2.jpg\n",
      "✅ Processed: s120_4_R_S2.jpg\n"
     ]
    },
    {
     "name": "stderr",
     "output_type": "stream",
     "text": [
      "Processing images:  15%|█▍        | 471/3200 [00:05<00:25, 106.22it/s]"
     ]
    },
    {
     "name": "stdout",
     "output_type": "stream",
     "text": [
      "✅ Processed: s120_5_L_S2.jpg\n",
      "✅ Processed: s120_5_R_S2.jpg\n",
      "✅ Processed: s120_6_L_S2.jpg\n",
      "✅ Processed: s120_6_R_S2.jpg\n",
      "✅ Processed: s120_7_L_S2.jpg\n",
      "✅ Processed: s120_7_R_S2.jpg\n",
      "✅ Processed: s120_8_L_S2.jpg\n",
      "✅ Processed: s120_8_R_S2.jpg\n",
      "✅ Processed: s120_9_L_S2.jpg\n",
      "✅ Processed: s120_9_R_S2.jpg\n",
      "✅ Processed: s121_10_L_S2.jpg\n",
      "✅ Processed: s121_10_R_S2.jpg\n",
      "✅ Processed: s121_1_L_S2.jpg\n",
      "✅ Processed: s121_1_R_S2.jpg\n",
      "✅ Processed: s121_2_L_S2.jpg\n",
      "✅ Processed: s121_2_R_S2.jpg\n",
      "✅ Processed: s121_3_L_S2.jpg\n",
      "✅ Processed: s121_3_R_S2.jpg\n",
      "✅ Processed: s121_4_L_S2.jpg\n",
      "✅ Processed: s121_4_R_S2.jpg\n",
      "✅ Processed: s121_5_L_S2.jpg\n",
      "✅ Processed: s121_5_R_S2.jpg\n",
      "✅ Processed: s121_6_L_S2.jpg\n"
     ]
    },
    {
     "name": "stderr",
     "output_type": "stream",
     "text": [
      "Processing images:  15%|█▌        | 493/3200 [00:05<00:26, 103.49it/s]"
     ]
    },
    {
     "name": "stdout",
     "output_type": "stream",
     "text": [
      "✅ Processed: s121_6_R_S2.jpg\n",
      "✅ Processed: s121_7_L_S2.jpg\n",
      "✅ Processed: s121_7_R_S2.jpg\n",
      "✅ Processed: s121_8_L_S2.jpg\n",
      "✅ Processed: s121_8_R_S2.jpg\n",
      "✅ Processed: s121_9_L_S2.jpg\n",
      "✅ Processed: s121_9_R_S2.jpg\n",
      "✅ Processed: s122_10_L_S2.jpg\n",
      "✅ Processed: s122_10_R_S2.jpg\n",
      "✅ Processed: s122_1_L_S2.jpg\n",
      "✅ Processed: s122_1_R_S2.jpg\n",
      "✅ Processed: s122_2_L_S2.jpg\n",
      "✅ Processed: s122_2_R_S2.jpg\n",
      "✅ Processed: s122_3_L_S2.jpg\n",
      "✅ Processed: s122_3_R_S2.jpg\n",
      "✅ Processed: s122_4_L_S2.jpg\n",
      "✅ Processed: s122_4_R_S2.jpg\n",
      "✅ Processed: s122_5_L_S2.jpg\n",
      "✅ Processed: s122_5_R_S2.jpg\n",
      "✅ Processed: s122_6_L_S2.jpg\n"
     ]
    },
    {
     "name": "stderr",
     "output_type": "stream",
     "text": [
      "Processing images:  16%|█▌        | 504/3200 [00:05<00:28, 93.92it/s] "
     ]
    },
    {
     "name": "stdout",
     "output_type": "stream",
     "text": [
      "✅ Processed: s122_6_R_S2.jpg\n",
      "✅ Processed: s122_7_L_S2.jpg\n",
      "✅ Processed: s122_7_R_S2.jpg\n",
      "✅ Processed: s122_8_L_S2.jpg\n",
      "✅ Processed: s122_8_R_S2.jpg\n",
      "✅ Processed: s122_9_L_S2.jpg\n",
      "✅ Processed: s122_9_R_S2.jpg\n",
      "✅ Processed: s123_10_L_S2.jpg\n",
      "✅ Processed: s123_10_R_S2.jpg\n",
      "✅ Processed: s123_1_L_S2.jpg\n",
      "✅ Processed: s123_1_R_S2.jpg\n",
      "✅ Processed: s123_2_L_S2.jpg\n",
      "✅ Processed: s123_2_R_S2.jpg\n",
      "✅ Processed: s123_3_L_S2.jpg\n",
      "✅ Processed: s123_3_R_S2.jpg\n",
      "✅ Processed: s123_4_L_S2.jpg\n",
      "✅ Processed: s123_4_R_S2.jpg\n"
     ]
    },
    {
     "name": "stderr",
     "output_type": "stream",
     "text": [
      "Processing images:  16%|█▋        | 524/3200 [00:05<00:29, 89.45it/s]"
     ]
    },
    {
     "name": "stdout",
     "output_type": "stream",
     "text": [
      "✅ Processed: s123_5_L_S2.jpg\n",
      "✅ Processed: s123_5_R_S2.jpg\n",
      "✅ Processed: s123_6_L_S2.jpg\n",
      "✅ Processed: s123_6_R_S2.jpg\n",
      "✅ Processed: s123_7_L_S2.jpg\n",
      "✅ Processed: s123_7_R_S2.jpg\n",
      "✅ Processed: s123_8_L_S2.jpg\n",
      "✅ Processed: s123_8_R_S2.jpg\n",
      "✅ Processed: s123_9_L_S2.jpg\n",
      "✅ Processed: s123_9_R_S2.jpg\n",
      "✅ Processed: s124_10_L_S2.jpg\n",
      "✅ Processed: s124_10_R_S2.jpg\n",
      "✅ Processed: s124_1_L_S2.jpg\n",
      "✅ Processed: s124_1_R_S2.jpg\n",
      "✅ Processed: s124_2_L_S2.jpg\n",
      "✅ Processed: s124_2_R_S2.jpg\n",
      "✅ Processed: s124_3_L_S2.jpg\n"
     ]
    },
    {
     "name": "stderr",
     "output_type": "stream",
     "text": [
      "Processing images:  17%|█▋        | 547/3200 [00:06<00:27, 96.08it/s]"
     ]
    },
    {
     "name": "stdout",
     "output_type": "stream",
     "text": [
      "✅ Processed: s124_3_R_S2.jpg\n",
      "✅ Processed: s124_4_L_S2.jpg\n",
      "✅ Processed: s124_4_R_S2.jpg\n",
      "✅ Processed: s124_5_L_S2.jpg\n",
      "✅ Processed: s124_5_R_S2.jpg\n",
      "✅ Processed: s124_6_L_S2.jpg\n",
      "✅ Processed: s124_6_R_S2.jpg\n",
      "✅ Processed: s124_7_L_S2.jpg\n",
      "✅ Processed: s124_7_R_S2.jpg\n",
      "✅ Processed: s124_8_L_S2.jpg\n",
      "✅ Processed: s124_8_R_S2.jpg\n",
      "✅ Processed: s124_9_L_S2.jpg\n",
      "✅ Processed: s124_9_R_S2.jpg\n",
      "✅ Processed: s125_10_L_S2.jpg\n",
      "✅ Processed: s125_10_R_S2.jpg\n",
      "✅ Processed: s125_1_L_S2.jpg\n",
      "✅ Processed: s125_1_R_S2.jpg\n",
      "✅ Processed: s125_2_L_S2.jpg\n",
      "✅ Processed: s125_2_R_S2.jpg\n",
      "✅ Processed: s125_3_L_S2.jpg\n"
     ]
    },
    {
     "name": "stderr",
     "output_type": "stream",
     "text": [
      "Processing images:  17%|█▋        | 557/3200 [00:06<00:28, 93.22it/s]"
     ]
    },
    {
     "name": "stdout",
     "output_type": "stream",
     "text": [
      "✅ Processed: s125_3_R_S2.jpg\n",
      "✅ Processed: s125_4_L_S2.jpg\n",
      "✅ Processed: s125_4_R_S2.jpg\n",
      "✅ Processed: s125_5_L_S2.jpg\n",
      "✅ Processed: s125_5_R_S2.jpg\n",
      "✅ Processed: s125_6_L_S2.jpg\n",
      "✅ Processed: s125_6_R_S2.jpg\n",
      "✅ Processed: s125_7_L_S2.jpg\n",
      "✅ Processed: s125_7_R_S2.jpg\n",
      "✅ Processed: s125_8_L_S2.jpg\n",
      "✅ Processed: s125_8_R_S2.jpg\n",
      "✅ Processed: s125_9_L_S2.jpg\n",
      "✅ Processed: s125_9_R_S2.jpg\n",
      "✅ Processed: s126_10_L_S2.jpg\n",
      "✅ Processed: s126_10_R_S2.jpg\n",
      "✅ Processed: s126_1_L_S2.jpg\n",
      "✅ Processed: s126_1_R_S2.jpg\n",
      "✅ Processed: s126_2_L_S2.jpg\n"
     ]
    },
    {
     "name": "stderr",
     "output_type": "stream",
     "text": [
      "Processing images:  18%|█▊        | 578/3200 [00:06<00:27, 94.82it/s]"
     ]
    },
    {
     "name": "stdout",
     "output_type": "stream",
     "text": [
      "✅ Processed: s126_2_R_S2.jpg\n",
      "✅ Processed: s126_3_L_S2.jpg\n",
      "✅ Processed: s126_3_R_S2.jpg\n",
      "✅ Processed: s126_4_L_S2.jpg\n",
      "✅ Processed: s126_4_R_S2.jpg\n",
      "✅ Processed: s126_5_L_S2.jpg\n",
      "✅ Processed: s126_5_R_S2.jpg\n",
      "✅ Processed: s126_6_L_S2.jpg\n",
      "✅ Processed: s126_6_R_S2.jpg\n",
      "✅ Processed: s126_7_L_S2.jpg\n",
      "✅ Processed: s126_7_R_S2.jpg\n",
      "✅ Processed: s126_8_L_S2.jpg\n",
      "✅ Processed: s126_8_R_S2.jpg\n",
      "✅ Processed: s126_9_L_S2.jpg\n",
      "✅ Processed: s126_9_R_S2.jpg\n",
      "✅ Processed: s127_10_L_S2.jpg\n",
      "✅ Processed: s127_10_R_S2.jpg\n",
      "✅ Processed: s127_1_L_S2.jpg\n",
      "✅ Processed: s127_1_R_S2.jpg\n",
      "✅ Processed: s127_2_L_S2.jpg\n",
      "✅ Processed: s127_2_R_S2.jpg\n"
     ]
    },
    {
     "name": "stderr",
     "output_type": "stream",
     "text": [
      "Processing images:  19%|█▊        | 598/3200 [00:06<00:28, 90.04it/s]"
     ]
    },
    {
     "name": "stdout",
     "output_type": "stream",
     "text": [
      "✅ Processed: s127_3_L_S2.jpg\n",
      "✅ Processed: s127_3_R_S2.jpg\n",
      "✅ Processed: s127_4_L_S2.jpg\n",
      "✅ Processed: s127_4_R_S2.jpg\n",
      "✅ Processed: s127_5_L_S2.jpg\n",
      "✅ Processed: s127_5_R_S2.jpg\n",
      "✅ Processed: s127_6_L_S2.jpg\n",
      "✅ Processed: s127_6_R_S2.jpg\n",
      "✅ Processed: s127_7_L_S2.jpg\n",
      "✅ Processed: s127_7_R_S2.jpg\n",
      "✅ Processed: s127_8_L_S2.jpg\n",
      "✅ Processed: s127_8_R_S2.jpg\n",
      "✅ Processed: s127_9_L_S2.jpg\n",
      "✅ Processed: s127_9_R_S2.jpg\n",
      "✅ Processed: s128_10_L_S2.jpg\n",
      "✅ Processed: s128_10_R_S2.jpg\n",
      "✅ Processed: s128_1_L_S2.jpg\n",
      "✅ Processed: s128_1_R_S2.jpg\n",
      "✅ Processed: s128_2_L_S2.jpg\n"
     ]
    },
    {
     "name": "stderr",
     "output_type": "stream",
     "text": [
      "Processing images:  19%|█▉        | 622/3200 [00:06<00:26, 98.27it/s]"
     ]
    },
    {
     "name": "stdout",
     "output_type": "stream",
     "text": [
      "✅ Processed: s128_2_R_S2.jpg\n",
      "✅ Processed: s128_3_L_S2.jpg\n",
      "✅ Processed: s128_3_R_S2.jpg\n",
      "✅ Processed: s128_4_L_S2.jpg\n",
      "✅ Processed: s128_4_R_S2.jpg\n",
      "✅ Processed: s128_5_L_S2.jpg\n",
      "✅ Processed: s128_5_R_S2.jpg\n",
      "✅ Processed: s128_6_L_S2.jpg\n",
      "✅ Processed: s128_6_R_S2.jpg\n",
      "✅ Processed: s128_7_L_S2.jpg\n",
      "✅ Processed: s128_7_R_S2.jpg\n",
      "✅ Processed: s128_8_L_S2.jpg\n",
      "✅ Processed: s128_8_R_S2.jpg\n",
      "✅ Processed: s128_9_L_S2.jpg\n",
      "✅ Processed: s128_9_R_S2.jpg\n",
      "✅ Processed: s129_10_L_S2.jpg\n",
      "✅ Processed: s129_10_R_S2.jpg\n",
      "✅ Processed: s129_1_L_S2.jpg\n",
      "✅ Processed: s129_1_R_S2.jpg\n",
      "✅ Processed: s129_2_L_S2.jpg\n",
      "✅ Processed: s129_2_R_S2.jpg\n"
     ]
    },
    {
     "name": "stderr",
     "output_type": "stream",
     "text": [
      "Processing images:  20%|██        | 642/3200 [00:07<00:27, 93.11it/s]"
     ]
    },
    {
     "name": "stdout",
     "output_type": "stream",
     "text": [
      "✅ Processed: s129_3_L_S2.jpg\n",
      "✅ Processed: s129_3_R_S2.jpg\n",
      "✅ Processed: s129_4_L_S2.jpg\n",
      "✅ Processed: s129_4_R_S2.jpg\n",
      "✅ Processed: s129_5_L_S2.jpg\n",
      "✅ Processed: s129_5_R_S2.jpg\n",
      "✅ Processed: s129_6_L_S2.jpg\n",
      "✅ Processed: s129_6_R_S2.jpg\n",
      "✅ Processed: s129_7_L_S2.jpg\n",
      "✅ Processed: s129_7_R_S2.jpg\n",
      "✅ Processed: s129_8_L_S2.jpg\n",
      "✅ Processed: s129_8_R_S2.jpg\n",
      "✅ Processed: s129_9_L_S2.jpg\n",
      "✅ Processed: s129_9_R_S2.jpg\n",
      "✅ Processed: s12_10_L_S2.jpg\n",
      "✅ Processed: s12_10_R_S2.jpg\n",
      "✅ Processed: s12_1_L_S2.jpg\n",
      "✅ Processed: s12_1_R_S2.jpg\n"
     ]
    },
    {
     "name": "stderr",
     "output_type": "stream",
     "text": [
      "Processing images:  20%|██        | 652/3200 [00:07<00:29, 86.63it/s]"
     ]
    },
    {
     "name": "stdout",
     "output_type": "stream",
     "text": [
      "✅ Processed: s12_2_L_S2.jpg\n",
      "✅ Processed: s12_2_R_S2.jpg\n",
      "✅ Processed: s12_3_L_S2.jpg\n",
      "✅ Processed: s12_3_R_S2.jpg\n",
      "✅ Processed: s12_4_L_S2.jpg\n",
      "✅ Processed: s12_4_R_S2.jpg\n",
      "✅ Processed: s12_5_L_S2.jpg\n",
      "✅ Processed: s12_5_R_S2.jpg\n",
      "✅ Processed: s12_6_L_S2.jpg\n",
      "✅ Processed: s12_6_R_S2.jpg\n",
      "✅ Processed: s12_7_L_S2.jpg\n",
      "✅ Processed: s12_7_R_S2.jpg\n",
      "✅ Processed: s12_8_L_S2.jpg\n",
      "✅ Processed: s12_8_R_S2.jpg\n",
      "✅ Processed: s12_9_L_S2.jpg\n",
      "✅ Processed: s12_9_R_S2.jpg\n",
      "✅ Processed: s130_10_L_S2.jpg\n"
     ]
    },
    {
     "name": "stderr",
     "output_type": "stream",
     "text": [
      "Processing images:  21%|██        | 672/3200 [00:07<00:28, 89.69it/s]"
     ]
    },
    {
     "name": "stdout",
     "output_type": "stream",
     "text": [
      "✅ Processed: s130_10_R_S2.jpg\n",
      "✅ Processed: s130_1_L_S2.jpg\n",
      "✅ Processed: s130_1_R_S2.jpg\n",
      "✅ Processed: s130_2_L_S2.jpg\n",
      "✅ Processed: s130_2_R_S2.jpg\n",
      "✅ Processed: s130_3_L_S2.jpg\n",
      "✅ Processed: s130_3_R_S2.jpg\n",
      "✅ Processed: s130_4_L_S2.jpg\n",
      "✅ Processed: s130_4_R_S2.jpg\n",
      "✅ Processed: s130_5_L_S2.jpg\n",
      "✅ Processed: s130_5_R_S2.jpg\n",
      "✅ Processed: s130_6_L_S2.jpg\n",
      "✅ Processed: s130_6_R_S2.jpg\n",
      "✅ Processed: s130_7_L_S2.jpg\n",
      "✅ Processed: s130_7_R_S2.jpg\n",
      "✅ Processed: s130_8_L_S2.jpg\n",
      "✅ Processed: s130_8_R_S2.jpg\n",
      "✅ Processed: s130_9_L_S2.jpg\n",
      "✅ Processed: s130_9_R_S2.jpg\n"
     ]
    },
    {
     "name": "stderr",
     "output_type": "stream",
     "text": [
      "Processing images:  22%|██▏       | 693/3200 [00:07<00:27, 90.74it/s]"
     ]
    },
    {
     "name": "stdout",
     "output_type": "stream",
     "text": [
      "✅ Processed: s131_10_L_S2.jpg\n",
      "✅ Processed: s131_10_R_S2.jpg\n",
      "✅ Processed: s131_1_L_S2.jpg\n",
      "✅ Processed: s131_1_R_S2.jpg\n",
      "✅ Processed: s131_2_L_S2.jpg\n",
      "✅ Processed: s131_2_R_S2.jpg\n",
      "✅ Processed: s131_3_L_S2.jpg\n",
      "✅ Processed: s131_3_R_S2.jpg\n",
      "✅ Processed: s131_4_L_S2.jpg\n",
      "✅ Processed: s131_4_R_S2.jpg\n",
      "✅ Processed: s131_5_L_S2.jpg\n",
      "✅ Processed: s131_5_R_S2.jpg\n",
      "✅ Processed: s131_6_L_S2.jpg\n",
      "✅ Processed: s131_6_R_S2.jpg\n",
      "✅ Processed: s131_7_L_S2.jpg\n",
      "✅ Processed: s131_7_R_S2.jpg\n",
      "✅ Processed: s131_8_L_S2.jpg\n",
      "✅ Processed: s131_8_R_S2.jpg\n",
      "✅ Processed: s131_9_L_S2.jpg\n"
     ]
    },
    {
     "name": "stderr",
     "output_type": "stream",
     "text": [
      "Processing images:  22%|██▏       | 713/3200 [00:07<00:28, 87.83it/s]"
     ]
    },
    {
     "name": "stdout",
     "output_type": "stream",
     "text": [
      "✅ Processed: s131_9_R_S2.jpg\n",
      "✅ Processed: s132_10_L_S2.jpg\n",
      "✅ Processed: s132_10_R_S2.jpg\n",
      "✅ Processed: s132_1_L_S2.jpg\n",
      "✅ Processed: s132_1_R_S2.jpg\n",
      "✅ Processed: s132_2_L_S2.jpg\n",
      "✅ Processed: s132_2_R_S2.jpg\n",
      "✅ Processed: s132_3_L_S2.jpg\n",
      "✅ Processed: s132_3_R_S2.jpg\n",
      "✅ Processed: s132_4_L_S2.jpg\n",
      "✅ Processed: s132_4_R_S2.jpg\n",
      "✅ Processed: s132_5_L_S2.jpg\n",
      "✅ Processed: s132_5_R_S2.jpg\n",
      "✅ Processed: s132_6_L_S2.jpg\n",
      "✅ Processed: s132_6_R_S2.jpg\n",
      "✅ Processed: s132_7_L_S2.jpg\n",
      "✅ Processed: s132_7_R_S2.jpg\n",
      "✅ Processed: s132_8_L_S2.jpg\n",
      "✅ Processed: s132_8_R_S2.jpg\n"
     ]
    },
    {
     "name": "stderr",
     "output_type": "stream",
     "text": [
      "Processing images:  23%|██▎       | 733/3200 [00:08<00:26, 93.14it/s]"
     ]
    },
    {
     "name": "stdout",
     "output_type": "stream",
     "text": [
      "✅ Processed: s132_9_L_S2.jpg\n",
      "✅ Processed: s132_9_R_S2.jpg\n",
      "✅ Processed: s133_10_L_S2.jpg\n",
      "✅ Processed: s133_10_R_S2.jpg\n",
      "✅ Processed: s133_1_L_S2.jpg\n",
      "✅ Processed: s133_1_R_S2.jpg\n",
      "✅ Processed: s133_2_L_S2.jpg\n",
      "✅ Processed: s133_2_R_S2.jpg\n",
      "✅ Processed: s133_3_L_S2.jpg\n",
      "✅ Processed: s133_3_R_S2.jpg\n",
      "✅ Processed: s133_4_L_S2.jpg\n",
      "✅ Processed: s133_4_R_S2.jpg\n",
      "✅ Processed: s133_5_L_S2.jpg\n",
      "✅ Processed: s133_5_R_S2.jpg\n",
      "✅ Processed: s133_6_L_S2.jpg\n",
      "✅ Processed: s133_6_R_S2.jpg\n",
      "✅ Processed: s133_7_L_S2.jpg\n",
      "✅ Processed: s133_7_R_S2.jpg\n",
      "✅ Processed: s133_8_L_S2.jpg\n",
      "✅ Processed: s133_8_R_S2.jpg\n",
      "✅ Processed: s133_9_L_S2.jpg\n",
      "✅ Processed: s133_9_R_S2.jpg\n",
      "✅ Processed: s134_10_L_S2.jpg\n",
      "✅ Processed: s134_10_R_S2.jpg\n"
     ]
    },
    {
     "name": "stderr",
     "output_type": "stream",
     "text": [
      "Processing images:  24%|██▎       | 755/3200 [00:08<00:26, 92.52it/s]"
     ]
    },
    {
     "name": "stdout",
     "output_type": "stream",
     "text": [
      "✅ Processed: s134_1_L_S2.jpg\n",
      "✅ Processed: s134_1_R_S2.jpg\n",
      "✅ Processed: s134_2_L_S2.jpg\n",
      "✅ Processed: s134_2_R_S2.jpg\n",
      "✅ Processed: s134_3_L_S2.jpg\n",
      "✅ Processed: s134_3_R_S2.jpg\n",
      "✅ Processed: s134_4_L_S2.jpg\n",
      "✅ Processed: s134_4_R_S2.jpg\n",
      "✅ Processed: s134_5_L_S2.jpg\n",
      "✅ Processed: s134_5_R_S2.jpg\n",
      "✅ Processed: s134_6_L_S2.jpg\n",
      "✅ Processed: s134_6_R_S2.jpg\n",
      "✅ Processed: s134_7_L_S2.jpg\n",
      "✅ Processed: s134_7_R_S2.jpg\n",
      "✅ Processed: s134_8_L_S2.jpg\n",
      "✅ Processed: s134_8_R_S2.jpg\n",
      "✅ Processed: s134_9_L_S2.jpg\n"
     ]
    },
    {
     "name": "stderr",
     "output_type": "stream",
     "text": [
      "Processing images:  24%|██▍       | 777/3200 [00:08<00:25, 94.09it/s]"
     ]
    },
    {
     "name": "stdout",
     "output_type": "stream",
     "text": [
      "✅ Processed: s134_9_R_S2.jpg\n",
      "✅ Processed: s135_10_L_S2.jpg\n",
      "✅ Processed: s135_10_R_S2.jpg\n",
      "✅ Processed: s135_1_L_S2.jpg\n",
      "✅ Processed: s135_1_R_S2.jpg\n",
      "✅ Processed: s135_2_L_S2.jpg\n",
      "✅ Processed: s135_2_R_S2.jpg\n",
      "✅ Processed: s135_3_L_S2.jpg\n",
      "✅ Processed: s135_3_R_S2.jpg\n",
      "✅ Processed: s135_4_L_S2.jpg\n",
      "✅ Processed: s135_4_R_S2.jpg\n",
      "✅ Processed: s135_5_L_S2.jpg\n",
      "✅ Processed: s135_5_R_S2.jpg\n",
      "✅ Processed: s135_6_L_S2.jpg\n",
      "✅ Processed: s135_6_R_S2.jpg\n",
      "✅ Processed: s135_7_L_S2.jpg\n",
      "✅ Processed: s135_7_R_S2.jpg\n",
      "✅ Processed: s135_8_L_S2.jpg\n",
      "✅ Processed: s135_8_R_S2.jpg\n",
      "✅ Processed: s135_9_L_S2.jpg\n",
      "✅ Processed: s135_9_R_S2.jpg\n",
      "✅ Processed: s136_10_L_S2.jpg\n"
     ]
    },
    {
     "name": "stderr",
     "output_type": "stream",
     "text": [
      "Processing images:  25%|██▍       | 790/3200 [00:08<00:23, 103.20it/s]"
     ]
    },
    {
     "name": "stdout",
     "output_type": "stream",
     "text": [
      "✅ Processed: s136_10_R_S2.jpg\n",
      "✅ Processed: s136_1_L_S2.jpg\n",
      "✅ Processed: s136_1_R_S2.jpg\n",
      "✅ Processed: s136_2_L_S2.jpg\n",
      "✅ Processed: s136_2_R_S2.jpg\n",
      "✅ Processed: s136_3_L_S2.jpg\n",
      "✅ Processed: s136_3_R_S2.jpg\n",
      "✅ Processed: s136_4_L_S2.jpg\n",
      "✅ Processed: s136_4_R_S2.jpg\n",
      "✅ Processed: s136_5_L_S2.jpg\n",
      "✅ Processed: s136_5_R_S2.jpg\n",
      "✅ Processed: s136_6_L_S2.jpg\n",
      "✅ Processed: s136_6_R_S2.jpg\n",
      "✅ Processed: s136_7_L_S2.jpg\n",
      "✅ Processed: s136_7_R_S2.jpg\n",
      "✅ Processed: s136_8_L_S2.jpg\n",
      "✅ Processed: s136_8_R_S2.jpg\n",
      "✅ Processed: s136_9_L_S2.jpg\n",
      "✅ Processed: s136_9_R_S2.jpg\n",
      "✅ Processed: s137_10_L_S2.jpg\n",
      "✅ Processed: s137_10_R_S2.jpg\n"
     ]
    },
    {
     "name": "stderr",
     "output_type": "stream",
     "text": [
      "Processing images:  25%|██▌       | 814/3200 [00:08<00:24, 97.58it/s] "
     ]
    },
    {
     "name": "stdout",
     "output_type": "stream",
     "text": [
      "✅ Processed: s137_1_L_S2.jpg\n",
      "✅ Processed: s137_1_R_S2.jpg\n",
      "✅ Processed: s137_2_L_S2.jpg\n",
      "✅ Processed: s137_2_R_S2.jpg\n",
      "✅ Processed: s137_3_L_S2.jpg\n",
      "✅ Processed: s137_3_R_S2.jpg\n",
      "✅ Processed: s137_4_L_S2.jpg\n",
      "✅ Processed: s137_4_R_S2.jpg\n",
      "✅ Processed: s137_5_L_S2.jpg\n",
      "✅ Processed: s137_5_R_S2.jpg\n",
      "✅ Processed: s137_6_L_S2.jpg\n",
      "✅ Processed: s137_6_R_S2.jpg\n",
      "✅ Processed: s137_7_L_S2.jpg\n",
      "✅ Processed: s137_7_R_S2.jpg\n",
      "✅ Processed: s137_8_L_S2.jpg\n",
      "✅ Processed: s137_8_R_S2.jpg\n",
      "✅ Processed: s137_9_L_S2.jpg\n",
      "✅ Processed: s137_9_R_S2.jpg\n",
      "✅ Processed: s138_10_L_S2.jpg\n",
      "✅ Processed: s138_10_R_S2.jpg\n",
      "✅ Processed: s138_1_L_S2.jpg\n",
      "✅ Processed: s138_1_R_S2.jpg\n",
      "✅ Processed: s138_2_L_S2.jpg\n"
     ]
    },
    {
     "name": "stderr",
     "output_type": "stream",
     "text": [
      "Processing images:  26%|██▌       | 838/3200 [00:09<00:23, 98.42it/s] "
     ]
    },
    {
     "name": "stdout",
     "output_type": "stream",
     "text": [
      "✅ Processed: s138_2_R_S2.jpg\n",
      "✅ Processed: s138_3_L_S2.jpg\n",
      "✅ Processed: s138_3_R_S2.jpg\n",
      "✅ Processed: s138_4_L_S2.jpg\n",
      "✅ Processed: s138_4_R_S2.jpg\n",
      "✅ Processed: s138_5_L_S2.jpg\n",
      "✅ Processed: s138_5_R_S2.jpg\n",
      "✅ Processed: s138_6_L_S2.jpg\n",
      "✅ Processed: s138_6_R_S2.jpg\n",
      "✅ Processed: s138_7_L_S2.jpg\n",
      "✅ Processed: s138_7_R_S2.jpg\n",
      "✅ Processed: s138_8_L_S2.jpg\n",
      "✅ Processed: s138_8_R_S2.jpg\n",
      "✅ Processed: s138_9_L_S2.jpg\n",
      "✅ Processed: s138_9_R_S2.jpg\n",
      "✅ Processed: s139_10_L_S2.jpg\n",
      "✅ Processed: s139_10_R_S2.jpg\n",
      "✅ Processed: s139_1_L_S2.jpg\n",
      "✅ Processed: s139_1_R_S2.jpg\n"
     ]
    },
    {
     "name": "stderr",
     "output_type": "stream",
     "text": [
      "Processing images:  27%|██▋       | 862/3200 [00:09<00:22, 104.56it/s]"
     ]
    },
    {
     "name": "stdout",
     "output_type": "stream",
     "text": [
      "✅ Processed: s139_2_L_S2.jpg\n",
      "✅ Processed: s139_2_R_S2.jpg\n",
      "✅ Processed: s139_3_L_S2.jpg\n",
      "✅ Processed: s139_3_R_S2.jpg\n",
      "✅ Processed: s139_4_L_S2.jpg\n",
      "✅ Processed: s139_4_R_S2.jpg\n",
      "✅ Processed: s139_5_L_S2.jpg\n",
      "✅ Processed: s139_5_R_S2.jpg\n",
      "✅ Processed: s139_6_L_S2.jpg\n",
      "✅ Processed: s139_6_R_S2.jpg\n",
      "✅ Processed: s139_7_L_S2.jpg\n",
      "✅ Processed: s139_7_R_S2.jpg\n",
      "✅ Processed: s139_8_L_S2.jpg\n",
      "✅ Processed: s139_8_R_S2.jpg\n",
      "✅ Processed: s139_9_L_S2.jpg\n",
      "✅ Processed: s139_9_R_S2.jpg\n",
      "✅ Processed: s13_10_L_S2.jpg\n",
      "✅ Processed: s13_10_R_S2.jpg\n",
      "✅ Processed: s13_1_L_S2.jpg\n",
      "✅ Processed: s13_1_R_S2.jpg\n",
      "✅ Processed: s13_2_L_S2.jpg\n",
      "✅ Processed: s13_2_R_S2.jpg\n",
      "✅ Processed: s13_3_L_S2.jpg\n",
      "✅ Processed: s13_3_R_S2.jpg\n"
     ]
    },
    {
     "name": "stderr",
     "output_type": "stream",
     "text": [
      "Processing images:  28%|██▊       | 885/3200 [00:09<00:23, 97.68it/s] "
     ]
    },
    {
     "name": "stdout",
     "output_type": "stream",
     "text": [
      "✅ Processed: s13_4_L_S2.jpg\n",
      "✅ Processed: s13_4_R_S2.jpg\n",
      "✅ Processed: s13_5_L_S2.jpg\n",
      "✅ Processed: s13_5_R_S2.jpg\n",
      "✅ Processed: s13_6_L_S2.jpg\n",
      "✅ Processed: s13_6_R_S2.jpg\n",
      "✅ Processed: s13_7_L_S2.jpg\n",
      "✅ Processed: s13_7_R_S2.jpg\n",
      "✅ Processed: s13_8_L_S2.jpg\n",
      "✅ Processed: s13_8_R_S2.jpg\n",
      "✅ Processed: s13_9_L_S2.jpg\n",
      "✅ Processed: s13_9_R_S2.jpg\n",
      "✅ Processed: s140_10_L_S2.jpg\n",
      "✅ Processed: s140_10_R_S2.jpg\n",
      "✅ Processed: s140_1_L_S2.jpg\n",
      "✅ Processed: s140_1_R_S2.jpg\n",
      "✅ Processed: s140_2_L_S2.jpg\n",
      "✅ Processed: s140_2_R_S2.jpg\n",
      "✅ Processed: s140_3_L_S2.jpg\n"
     ]
    },
    {
     "name": "stderr",
     "output_type": "stream",
     "text": [
      "Processing images:  28%|██▊       | 908/3200 [00:09<00:22, 101.78it/s]"
     ]
    },
    {
     "name": "stdout",
     "output_type": "stream",
     "text": [
      "✅ Processed: s140_3_R_S2.jpg\n",
      "✅ Processed: s140_4_L_S2.jpg\n",
      "✅ Processed: s140_4_R_S2.jpg\n",
      "✅ Processed: s140_5_L_S2.jpg\n",
      "✅ Processed: s140_5_R_S2.jpg\n",
      "✅ Processed: s140_6_L_S2.jpg\n",
      "✅ Processed: s140_6_R_S2.jpg\n",
      "✅ Processed: s140_7_L_S2.jpg\n",
      "✅ Processed: s140_7_R_S2.jpg\n",
      "✅ Processed: s140_8_L_S2.jpg\n",
      "✅ Processed: s140_8_R_S2.jpg\n",
      "✅ Processed: s140_9_L_S2.jpg\n",
      "✅ Processed: s140_9_R_S2.jpg\n",
      "✅ Processed: s141_10_L_S2.jpg\n",
      "✅ Processed: s141_10_R_S2.jpg\n",
      "✅ Processed: s141_1_L_S2.jpg\n",
      "✅ Processed: s141_1_R_S2.jpg\n",
      "✅ Processed: s141_2_L_S2.jpg\n",
      "✅ Processed: s141_2_R_S2.jpg\n",
      "✅ Processed: s141_3_L_S2.jpg\n",
      "✅ Processed: s141_3_R_S2.jpg\n"
     ]
    },
    {
     "name": "stderr",
     "output_type": "stream",
     "text": [
      "Processing images:  29%|██▊       | 919/3200 [00:10<00:24, 94.42it/s] "
     ]
    },
    {
     "name": "stdout",
     "output_type": "stream",
     "text": [
      "✅ Processed: s141_4_L_S2.jpg\n",
      "✅ Processed: s141_4_R_S2.jpg\n",
      "✅ Processed: s141_5_L_S2.jpg\n",
      "✅ Processed: s141_5_R_S2.jpg\n",
      "✅ Processed: s141_6_L_S2.jpg\n",
      "✅ Processed: s141_6_R_S2.jpg\n",
      "✅ Processed: s141_7_L_S2.jpg\n",
      "✅ Processed: s141_7_R_S2.jpg\n",
      "✅ Processed: s141_8_L_S2.jpg\n",
      "✅ Processed: s141_8_R_S2.jpg\n",
      "✅ Processed: s141_9_L_S2.jpg\n",
      "✅ Processed: s141_9_R_S2.jpg\n",
      "✅ Processed: s142_10_L_S2.jpg\n",
      "✅ Processed: s142_10_R_S2.jpg\n",
      "✅ Processed: s142_1_L_S2.jpg\n",
      "✅ Processed: s142_1_R_S2.jpg\n",
      "✅ Processed: s142_2_L_S2.jpg\n",
      "✅ Processed: s142_2_R_S2.jpg\n",
      "✅ Processed: s142_3_L_S2.jpg\n",
      "✅ Processed: s142_3_R_S2.jpg\n"
     ]
    },
    {
     "name": "stderr",
     "output_type": "stream",
     "text": [
      "Processing images:  29%|██▉       | 939/3200 [00:10<00:24, 92.61it/s]"
     ]
    },
    {
     "name": "stdout",
     "output_type": "stream",
     "text": [
      "✅ Processed: s142_4_L_S2.jpg\n",
      "✅ Processed: s142_4_R_S2.jpg\n",
      "✅ Processed: s142_5_L_S2.jpg\n",
      "✅ Processed: s142_5_R_S2.jpg\n",
      "✅ Processed: s142_6_L_S2.jpg\n",
      "✅ Processed: s142_6_R_S2.jpg\n",
      "✅ Processed: s142_7_L_S2.jpg\n",
      "✅ Processed: s142_7_R_S2.jpg\n",
      "✅ Processed: s142_8_L_S2.jpg\n",
      "✅ Processed: s142_8_R_S2.jpg\n",
      "✅ Processed: s142_9_L_S2.jpg\n",
      "✅ Processed: s142_9_R_S2.jpg\n",
      "✅ Processed: s143_10_L_S2.jpg\n",
      "✅ Processed: s143_10_R_S2.jpg\n",
      "✅ Processed: s143_1_L_S2.jpg\n",
      "✅ Processed: s143_1_R_S2.jpg\n",
      "✅ Processed: s143_2_L_S2.jpg\n",
      "✅ Processed: s143_2_R_S2.jpg\n",
      "✅ Processed: s143_3_L_S2.jpg\n",
      "✅ Processed: s143_3_R_S2.jpg\n"
     ]
    },
    {
     "name": "stderr",
     "output_type": "stream",
     "text": [
      "Processing images:  30%|███       | 964/3200 [00:10<00:23, 96.16it/s] "
     ]
    },
    {
     "name": "stdout",
     "output_type": "stream",
     "text": [
      "✅ Processed: s143_4_L_S2.jpg\n",
      "✅ Processed: s143_4_R_S2.jpg\n",
      "✅ Processed: s143_5_L_S2.jpg\n",
      "✅ Processed: s143_5_R_S2.jpg\n",
      "✅ Processed: s143_6_L_S2.jpg\n",
      "✅ Processed: s143_6_R_S2.jpg\n",
      "✅ Processed: s143_7_L_S2.jpg\n",
      "✅ Processed: s143_7_R_S2.jpg\n",
      "✅ Processed: s143_8_L_S2.jpg\n",
      "✅ Processed: s143_8_R_S2.jpg\n",
      "✅ Processed: s143_9_L_S2.jpg\n",
      "✅ Processed: s143_9_R_S2.jpg\n",
      "✅ Processed: s144_10_L_S2.jpg\n",
      "✅ Processed: s144_10_R_S2.jpg\n",
      "✅ Processed: s144_1_L_S2.jpg\n",
      "✅ Processed: s144_1_R_S2.jpg\n",
      "✅ Processed: s144_2_L_S2.jpg\n",
      "✅ Processed: s144_2_R_S2.jpg\n",
      "✅ Processed: s144_3_L_S2.jpg\n"
     ]
    },
    {
     "name": "stderr",
     "output_type": "stream",
     "text": [
      "Processing images:  30%|███       | 974/3200 [00:10<00:24, 91.50it/s]"
     ]
    },
    {
     "name": "stdout",
     "output_type": "stream",
     "text": [
      "✅ Processed: s144_3_R_S2.jpg\n",
      "✅ Processed: s144_4_L_S2.jpg\n",
      "✅ Processed: s144_4_R_S2.jpg\n",
      "✅ Processed: s144_5_L_S2.jpg\n",
      "✅ Processed: s144_5_R_S2.jpg\n",
      "✅ Processed: s144_6_L_S2.jpg\n",
      "✅ Processed: s144_6_R_S2.jpg\n",
      "✅ Processed: s144_7_L_S2.jpg\n",
      "✅ Processed: s144_7_R_S2.jpg\n",
      "✅ Processed: s144_8_L_S2.jpg\n",
      "✅ Processed: s144_8_R_S2.jpg\n",
      "✅ Processed: s144_9_L_S2.jpg\n",
      "✅ Processed: s144_9_R_S2.jpg\n",
      "✅ Processed: s145_10_L_S2.jpg\n",
      "✅ Processed: s145_10_R_S2.jpg\n",
      "✅ Processed: s145_1_L_S2.jpg\n",
      "✅ Processed: s145_1_R_S2.jpg\n",
      "✅ Processed: s145_2_L_S2.jpg\n",
      "✅ Processed: s145_2_R_S2.jpg\n"
     ]
    },
    {
     "name": "stderr",
     "output_type": "stream",
     "text": [
      "Processing images:  31%|███       | 997/3200 [00:10<00:23, 95.10it/s]"
     ]
    },
    {
     "name": "stdout",
     "output_type": "stream",
     "text": [
      "✅ Processed: s145_3_L_S2.jpg\n",
      "✅ Processed: s145_3_R_S2.jpg\n",
      "✅ Processed: s145_4_L_S2.jpg\n",
      "✅ Processed: s145_4_R_S2.jpg\n",
      "✅ Processed: s145_5_L_S2.jpg\n",
      "✅ Processed: s145_5_R_S2.jpg\n",
      "✅ Processed: s145_6_L_S2.jpg\n",
      "✅ Processed: s145_6_R_S2.jpg\n",
      "✅ Processed: s145_7_L_S2.jpg\n",
      "✅ Processed: s145_7_R_S2.jpg\n",
      "✅ Processed: s145_8_L_S2.jpg\n",
      "✅ Processed: s145_8_R_S2.jpg\n",
      "✅ Processed: s145_9_L_S2.jpg\n",
      "✅ Processed: s145_9_R_S2.jpg\n",
      "✅ Processed: s146_10_L_S2.jpg\n",
      "✅ Processed: s146_10_R_S2.jpg\n",
      "✅ Processed: s146_1_L_S2.jpg\n",
      "✅ Processed: s146_1_R_S2.jpg\n",
      "✅ Processed: s146_2_L_S2.jpg\n",
      "✅ Processed: s146_2_R_S2.jpg\n"
     ]
    },
    {
     "name": "stderr",
     "output_type": "stream",
     "text": [
      "Processing images:  32%|███▏      | 1017/3200 [00:11<00:23, 92.27it/s]"
     ]
    },
    {
     "name": "stdout",
     "output_type": "stream",
     "text": [
      "✅ Processed: s146_3_L_S2.jpg\n",
      "✅ Processed: s146_3_R_S2.jpg\n",
      "✅ Processed: s146_4_L_S2.jpg\n",
      "✅ Processed: s146_4_R_S2.jpg\n",
      "✅ Processed: s146_5_L_S2.jpg\n",
      "✅ Processed: s146_5_R_S2.jpg\n",
      "✅ Processed: s146_6_L_S2.jpg\n",
      "✅ Processed: s146_6_R_S2.jpg\n",
      "✅ Processed: s146_7_L_S2.jpg\n",
      "✅ Processed: s146_7_R_S2.jpg\n",
      "✅ Processed: s146_8_L_S2.jpg\n",
      "✅ Processed: s146_8_R_S2.jpg\n",
      "✅ Processed: s146_9_L_S2.jpg\n",
      "✅ Processed: s146_9_R_S2.jpg\n",
      "✅ Processed: s147_10_L_S2.jpg\n",
      "✅ Processed: s147_10_R_S2.jpg\n",
      "✅ Processed: s147_1_L_S2.jpg\n",
      "✅ Processed: s147_1_R_S2.jpg\n",
      "✅ Processed: s147_2_L_S2.jpg\n",
      "✅ Processed: s147_2_R_S2.jpg\n"
     ]
    },
    {
     "name": "stderr",
     "output_type": "stream",
     "text": [
      "Processing images:  32%|███▏      | 1038/3200 [00:11<00:23, 93.07it/s]"
     ]
    },
    {
     "name": "stdout",
     "output_type": "stream",
     "text": [
      "✅ Processed: s147_3_L_S2.jpg\n",
      "✅ Processed: s147_3_R_S2.jpg\n",
      "✅ Processed: s147_4_L_S2.jpg\n",
      "✅ Processed: s147_4_R_S2.jpg\n",
      "✅ Processed: s147_5_L_S2.jpg\n",
      "✅ Processed: s147_5_R_S2.jpg\n",
      "✅ Processed: s147_6_L_S2.jpg\n",
      "✅ Processed: s147_6_R_S2.jpg\n",
      "✅ Processed: s147_7_L_S2.jpg\n",
      "✅ Processed: s147_7_R_S2.jpg\n",
      "✅ Processed: s147_8_L_S2.jpg\n",
      "✅ Processed: s147_8_R_S2.jpg\n",
      "✅ Processed: s147_9_L_S2.jpg\n",
      "✅ Processed: s147_9_R_S2.jpg\n",
      "✅ Processed: s148_10_L_S2.jpg\n",
      "✅ Processed: s148_10_R_S2.jpg\n",
      "✅ Processed: s148_1_L_S2.jpg\n",
      "✅ Processed: s148_1_R_S2.jpg\n",
      "✅ Processed: s148_2_L_S2.jpg\n"
     ]
    },
    {
     "name": "stderr",
     "output_type": "stream",
     "text": [
      "Processing images:  33%|███▎      | 1057/3200 [00:11<00:24, 85.79it/s]"
     ]
    },
    {
     "name": "stdout",
     "output_type": "stream",
     "text": [
      "✅ Processed: s148_2_R_S2.jpg\n",
      "✅ Processed: s148_3_L_S2.jpg\n",
      "✅ Processed: s148_3_R_S2.jpg\n",
      "✅ Processed: s148_4_L_S2.jpg\n",
      "✅ Processed: s148_4_R_S2.jpg\n",
      "✅ Processed: s148_5_L_S2.jpg\n",
      "✅ Processed: s148_5_R_S2.jpg\n",
      "✅ Processed: s148_6_L_S2.jpg\n",
      "✅ Processed: s148_6_R_S2.jpg\n",
      "✅ Processed: s148_7_L_S2.jpg\n",
      "✅ Processed: s148_7_R_S2.jpg\n",
      "✅ Processed: s148_8_L_S2.jpg\n",
      "✅ Processed: s148_8_R_S2.jpg\n",
      "✅ Processed: s148_9_L_S2.jpg\n",
      "✅ Processed: s148_9_R_S2.jpg\n",
      "✅ Processed: s149_10_L_S2.jpg\n",
      "✅ Processed: s149_10_R_S2.jpg\n",
      "✅ Processed: s149_1_L_S2.jpg\n"
     ]
    },
    {
     "name": "stderr",
     "output_type": "stream",
     "text": [
      "Processing images:  34%|███▎      | 1076/3200 [00:11<00:25, 84.89it/s]"
     ]
    },
    {
     "name": "stdout",
     "output_type": "stream",
     "text": [
      "✅ Processed: s149_1_R_S2.jpg\n",
      "✅ Processed: s149_2_L_S2.jpg\n",
      "✅ Processed: s149_2_R_S2.jpg\n",
      "✅ Processed: s149_3_L_S2.jpg\n",
      "✅ Processed: s149_3_R_S2.jpg\n",
      "✅ Processed: s149_4_L_S2.jpg\n",
      "✅ Processed: s149_4_R_S2.jpg\n",
      "✅ Processed: s149_5_L_S2.jpg\n",
      "✅ Processed: s149_5_R_S2.jpg\n",
      "✅ Processed: s149_6_L_S2.jpg\n",
      "✅ Processed: s149_6_R_S2.jpg\n",
      "✅ Processed: s149_7_L_S2.jpg\n",
      "✅ Processed: s149_7_R_S2.jpg\n",
      "✅ Processed: s149_8_L_S2.jpg\n",
      "✅ Processed: s149_8_R_S2.jpg\n",
      "✅ Processed: s149_9_L_S2.jpg\n",
      "✅ Processed: s149_9_R_S2.jpg\n",
      "✅ Processed: s14_10_L_S2.jpg\n",
      "✅ Processed: s14_10_R_S2.jpg\n",
      "✅ Processed: s14_1_L_S2.jpg\n"
     ]
    },
    {
     "name": "stderr",
     "output_type": "stream",
     "text": [
      "Processing images:  34%|███▍      | 1096/3200 [00:11<00:23, 89.06it/s]"
     ]
    },
    {
     "name": "stdout",
     "output_type": "stream",
     "text": [
      "✅ Processed: s14_1_R_S2.jpg\n",
      "✅ Processed: s14_2_L_S2.jpg\n",
      "✅ Processed: s14_2_R_S2.jpg\n",
      "✅ Processed: s14_3_L_S2.jpg\n",
      "✅ Processed: s14_3_R_S2.jpg\n",
      "✅ Processed: s14_4_L_S2.jpg\n",
      "✅ Processed: s14_4_R_S2.jpg\n",
      "✅ Processed: s14_5_L_S2.jpg\n",
      "✅ Processed: s14_5_R_S2.jpg\n",
      "✅ Processed: s14_6_L_S2.jpg\n",
      "✅ Processed: s14_6_R_S2.jpg\n",
      "✅ Processed: s14_7_L_S2.jpg\n",
      "✅ Processed: s14_7_R_S2.jpg\n",
      "✅ Processed: s14_8_L_S2.jpg\n",
      "✅ Processed: s14_8_R_S2.jpg\n",
      "✅ Processed: s14_9_L_S2.jpg\n",
      "✅ Processed: s14_9_R_S2.jpg\n",
      "✅ Processed: s150_10_L_S2.jpg\n"
     ]
    },
    {
     "name": "stderr",
     "output_type": "stream",
     "text": [
      "Processing images:  35%|███▍      | 1114/3200 [00:12<00:23, 88.19it/s]"
     ]
    },
    {
     "name": "stdout",
     "output_type": "stream",
     "text": [
      "✅ Processed: s150_10_R_S2.jpg\n",
      "✅ Processed: s150_1_L_S2.jpg\n",
      "✅ Processed: s150_1_R_S2.jpg\n",
      "✅ Processed: s150_2_L_S2.jpg\n",
      "✅ Processed: s150_2_R_S2.jpg\n",
      "✅ Processed: s150_3_L_S2.jpg\n",
      "✅ Processed: s150_3_R_S2.jpg\n",
      "✅ Processed: s150_4_L_S2.jpg\n",
      "✅ Processed: s150_4_R_S2.jpg\n",
      "✅ Processed: s150_5_L_S2.jpg\n",
      "✅ Processed: s150_5_R_S2.jpg\n",
      "✅ Processed: s150_6_L_S2.jpg\n",
      "✅ Processed: s150_6_R_S2.jpg\n",
      "✅ Processed: s150_7_L_S2.jpg\n",
      "✅ Processed: s150_7_R_S2.jpg\n",
      "✅ Processed: s150_8_L_S2.jpg\n",
      "✅ Processed: s150_8_R_S2.jpg\n",
      "✅ Processed: s150_9_L_S2.jpg\n",
      "✅ Processed: s150_9_R_S2.jpg\n",
      "✅ Processed: s151_10_L_S2.jpg\n"
     ]
    },
    {
     "name": "stderr",
     "output_type": "stream",
     "text": [
      "Processing images:  35%|███▌      | 1135/3200 [00:12<00:23, 88.97it/s]"
     ]
    },
    {
     "name": "stdout",
     "output_type": "stream",
     "text": [
      "✅ Processed: s151_10_R_S2.jpg\n",
      "✅ Processed: s151_1_L_S2.jpg\n",
      "✅ Processed: s151_1_R_S2.jpg\n",
      "✅ Processed: s151_2_L_S2.jpg\n",
      "✅ Processed: s151_2_R_S2.jpg\n",
      "✅ Processed: s151_3_L_S2.jpg\n",
      "✅ Processed: s151_3_R_S2.jpg\n",
      "✅ Processed: s151_4_L_S2.jpg\n",
      "✅ Processed: s151_4_R_S2.jpg\n",
      "✅ Processed: s151_5_L_S2.jpg\n",
      "✅ Processed: s151_5_R_S2.jpg\n",
      "✅ Processed: s151_6_L_S2.jpg\n",
      "✅ Processed: s151_6_R_S2.jpg\n",
      "✅ Processed: s151_7_L_S2.jpg\n",
      "✅ Processed: s151_7_R_S2.jpg\n",
      "✅ Processed: s151_8_L_S2.jpg\n",
      "✅ Processed: s151_8_R_S2.jpg\n",
      "✅ Processed: s151_9_L_S2.jpg\n"
     ]
    },
    {
     "name": "stderr",
     "output_type": "stream",
     "text": [
      "Processing images:  36%|███▌      | 1153/3200 [00:12<00:23, 86.29it/s]"
     ]
    },
    {
     "name": "stdout",
     "output_type": "stream",
     "text": [
      "✅ Processed: s151_9_R_S2.jpg\n",
      "✅ Processed: s152_10_L_S2.jpg\n",
      "✅ Processed: s152_10_R_S2.jpg\n",
      "✅ Processed: s152_1_L_S2.jpg\n",
      "✅ Processed: s152_1_R_S2.jpg\n",
      "✅ Processed: s152_2_L_S2.jpg\n",
      "✅ Processed: s152_2_R_S2.jpg\n",
      "✅ Processed: s152_3_L_S2.jpg\n",
      "✅ Processed: s152_3_R_S2.jpg\n",
      "✅ Processed: s152_4_L_S2.jpg\n",
      "✅ Processed: s152_4_R_S2.jpg\n",
      "✅ Processed: s152_5_L_S2.jpg\n",
      "✅ Processed: s152_5_R_S2.jpg\n",
      "✅ Processed: s152_6_L_S2.jpg\n",
      "✅ Processed: s152_6_R_S2.jpg\n",
      "✅ Processed: s152_7_L_S2.jpg\n",
      "✅ Processed: s152_7_R_S2.jpg\n",
      "✅ Processed: s152_8_L_S2.jpg\n"
     ]
    },
    {
     "name": "stderr",
     "output_type": "stream",
     "text": [
      "Processing images:  37%|███▋      | 1171/3200 [00:12<00:23, 85.54it/s]"
     ]
    },
    {
     "name": "stdout",
     "output_type": "stream",
     "text": [
      "✅ Processed: s152_8_R_S2.jpg\n",
      "✅ Processed: s152_9_L_S2.jpg\n",
      "✅ Processed: s152_9_R_S2.jpg\n",
      "✅ Processed: s153_10_L_S2.jpg\n",
      "✅ Processed: s153_10_R_S2.jpg\n",
      "✅ Processed: s153_1_L_S2.jpg\n",
      "✅ Processed: s153_1_R_S2.jpg\n",
      "✅ Processed: s153_2_L_S2.jpg\n",
      "✅ Processed: s153_2_R_S2.jpg\n",
      "✅ Processed: s153_3_L_S2.jpg\n",
      "✅ Processed: s153_3_R_S2.jpg\n",
      "✅ Processed: s153_4_L_S2.jpg\n",
      "✅ Processed: s153_4_R_S2.jpg\n",
      "✅ Processed: s153_5_L_S2.jpg\n",
      "✅ Processed: s153_5_R_S2.jpg\n",
      "✅ Processed: s153_6_L_S2.jpg\n"
     ]
    },
    {
     "name": "stderr",
     "output_type": "stream",
     "text": [
      "Processing images:  37%|███▋      | 1189/3200 [00:13<00:23, 83.96it/s]"
     ]
    },
    {
     "name": "stdout",
     "output_type": "stream",
     "text": [
      "✅ Processed: s153_6_R_S2.jpg\n",
      "✅ Processed: s153_7_L_S2.jpg\n",
      "✅ Processed: s153_7_R_S2.jpg\n",
      "✅ Processed: s153_8_L_S2.jpg\n",
      "✅ Processed: s153_8_R_S2.jpg\n",
      "✅ Processed: s153_9_L_S2.jpg\n",
      "✅ Processed: s153_9_R_S2.jpg\n",
      "✅ Processed: s154_10_L_S2.jpg\n",
      "✅ Processed: s154_10_R_S2.jpg\n",
      "✅ Processed: s154_1_L_S2.jpg\n",
      "✅ Processed: s154_1_R_S2.jpg\n",
      "✅ Processed: s154_2_L_S2.jpg\n",
      "✅ Processed: s154_2_R_S2.jpg\n",
      "✅ Processed: s154_3_L_S2.jpg\n",
      "✅ Processed: s154_3_R_S2.jpg\n",
      "✅ Processed: s154_4_L_S2.jpg\n",
      "✅ Processed: s154_4_R_S2.jpg\n",
      "✅ Processed: s154_5_L_S2.jpg\n"
     ]
    },
    {
     "name": "stderr",
     "output_type": "stream",
     "text": [
      "Processing images:  38%|███▊      | 1211/3200 [00:13<00:21, 93.82it/s]"
     ]
    },
    {
     "name": "stdout",
     "output_type": "stream",
     "text": [
      "✅ Processed: s154_5_R_S2.jpg\n",
      "✅ Processed: s154_6_L_S2.jpg\n",
      "✅ Processed: s154_6_R_S2.jpg\n",
      "✅ Processed: s154_7_L_S2.jpg\n",
      "✅ Processed: s154_7_R_S2.jpg\n",
      "✅ Processed: s154_8_L_S2.jpg\n",
      "✅ Processed: s154_8_R_S2.jpg\n",
      "✅ Processed: s154_9_L_S2.jpg\n",
      "✅ Processed: s154_9_R_S2.jpg\n",
      "✅ Processed: s155_10_L_S2.jpg\n",
      "✅ Processed: s155_10_R_S2.jpg\n",
      "✅ Processed: s155_1_L_S2.jpg\n",
      "✅ Processed: s155_1_R_S2.jpg\n",
      "✅ Processed: s155_2_L_S2.jpg\n",
      "✅ Processed: s155_2_R_S2.jpg\n",
      "✅ Processed: s155_3_L_S2.jpg\n",
      "✅ Processed: s155_3_R_S2.jpg\n",
      "✅ Processed: s155_4_L_S2.jpg\n",
      "✅ Processed: s155_4_R_S2.jpg\n",
      "✅ Processed: s155_5_L_S2.jpg\n"
     ]
    },
    {
     "name": "stderr",
     "output_type": "stream",
     "text": [
      "Processing images:  38%|███▊      | 1221/3200 [00:13<00:20, 94.74it/s]"
     ]
    },
    {
     "name": "stdout",
     "output_type": "stream",
     "text": [
      "✅ Processed: s155_5_R_S2.jpg\n",
      "✅ Processed: s155_6_L_S2.jpg\n",
      "✅ Processed: s155_6_R_S2.jpg\n",
      "✅ Processed: s155_7_L_S2.jpg\n",
      "✅ Processed: s155_7_R_S2.jpg\n",
      "✅ Processed: s155_8_L_S2.jpg\n",
      "✅ Processed: s155_8_R_S2.jpg\n",
      "✅ Processed: s155_9_L_S2.jpg\n",
      "✅ Processed: s155_9_R_S2.jpg\n",
      "✅ Processed: s156_10_L_S2.jpg\n",
      "✅ Processed: s156_10_R_S2.jpg\n",
      "✅ Processed: s156_1_L_S2.jpg\n",
      "✅ Processed: s156_1_R_S2.jpg\n",
      "✅ Processed: s156_2_L_S2.jpg\n",
      "✅ Processed: s156_2_R_S2.jpg\n",
      "✅ Processed: s156_3_L_S2.jpg\n",
      "✅ Processed: s156_3_R_S2.jpg\n"
     ]
    },
    {
     "name": "stderr",
     "output_type": "stream",
     "text": [
      "Processing images:  39%|███▉      | 1243/3200 [00:13<00:21, 93.09it/s]"
     ]
    },
    {
     "name": "stdout",
     "output_type": "stream",
     "text": [
      "✅ Processed: s156_4_L_S2.jpg\n",
      "✅ Processed: s156_4_R_S2.jpg\n",
      "✅ Processed: s156_5_L_S2.jpg\n",
      "✅ Processed: s156_5_R_S2.jpg\n",
      "✅ Processed: s156_6_L_S2.jpg\n",
      "✅ Processed: s156_6_R_S2.jpg\n",
      "✅ Processed: s156_7_L_S2.jpg\n",
      "✅ Processed: s156_7_R_S2.jpg\n",
      "✅ Processed: s156_8_L_S2.jpg\n",
      "✅ Processed: s156_8_R_S2.jpg\n",
      "✅ Processed: s156_9_L_S2.jpg\n",
      "✅ Processed: s156_9_R_S2.jpg\n",
      "✅ Processed: s157_10_L_S2.jpg\n",
      "✅ Processed: s157_10_R_S2.jpg\n",
      "✅ Processed: s157_1_L_S2.jpg\n",
      "✅ Processed: s157_1_R_S2.jpg\n",
      "✅ Processed: s157_2_L_S2.jpg\n",
      "✅ Processed: s157_2_R_S2.jpg\n",
      "✅ Processed: s157_3_L_S2.jpg\n",
      "✅ Processed: s157_3_R_S2.jpg\n",
      "✅ Processed: s157_4_L_S2.jpg\n"
     ]
    },
    {
     "name": "stderr",
     "output_type": "stream",
     "text": [
      "Processing images:  40%|███▉      | 1264/3200 [00:13<00:20, 95.23it/s]"
     ]
    },
    {
     "name": "stdout",
     "output_type": "stream",
     "text": [
      "✅ Processed: s157_4_R_S2.jpg\n",
      "✅ Processed: s157_5_L_S2.jpg\n",
      "✅ Processed: s157_5_R_S2.jpg\n",
      "✅ Processed: s157_6_L_S2.jpg\n",
      "✅ Processed: s157_6_R_S2.jpg\n",
      "✅ Processed: s157_7_L_S2.jpg\n",
      "✅ Processed: s157_7_R_S2.jpg\n",
      "✅ Processed: s157_8_L_S2.jpg\n",
      "✅ Processed: s157_8_R_S2.jpg\n",
      "✅ Processed: s157_9_L_S2.jpg\n",
      "✅ Processed: s157_9_R_S2.jpg\n",
      "✅ Processed: s158_10_L_S2.jpg\n",
      "✅ Processed: s158_10_R_S2.jpg\n",
      "✅ Processed: s158_1_L_S2.jpg\n",
      "✅ Processed: s158_1_R_S2.jpg\n",
      "✅ Processed: s158_2_L_S2.jpg\n",
      "✅ Processed: s158_2_R_S2.jpg\n"
     ]
    },
    {
     "name": "stderr",
     "output_type": "stream",
     "text": [
      "Processing images:  40%|███▉      | 1274/3200 [00:13<00:21, 89.19it/s]"
     ]
    },
    {
     "name": "stdout",
     "output_type": "stream",
     "text": [
      "✅ Processed: s158_3_L_S2.jpg\n",
      "✅ Processed: s158_3_R_S2.jpg\n",
      "✅ Processed: s158_4_L_S2.jpg\n",
      "✅ Processed: s158_4_R_S2.jpg\n",
      "✅ Processed: s158_5_L_S2.jpg\n",
      "✅ Processed: s158_5_R_S2.jpg\n",
      "✅ Processed: s158_6_L_S2.jpg\n",
      "✅ Processed: s158_6_R_S2.jpg\n",
      "✅ Processed: s158_7_L_S2.jpg\n",
      "✅ Processed: s158_7_R_S2.jpg\n",
      "✅ Processed: s158_8_L_S2.jpg\n",
      "✅ Processed: s158_8_R_S2.jpg\n",
      "✅ Processed: s158_9_L_S2.jpg\n",
      "✅ Processed: s158_9_R_S2.jpg\n",
      "✅ Processed: s159_10_L_S2.jpg\n"
     ]
    },
    {
     "name": "stderr",
     "output_type": "stream",
     "text": [
      "Processing images:  40%|████      | 1294/3200 [00:14<00:21, 88.25it/s]"
     ]
    },
    {
     "name": "stdout",
     "output_type": "stream",
     "text": [
      "✅ Processed: s159_10_R_S2.jpg\n",
      "✅ Processed: s159_1_L_S2.jpg\n",
      "✅ Processed: s159_1_R_S2.jpg\n",
      "✅ Processed: s159_2_L_S2.jpg\n",
      "✅ Processed: s159_2_R_S2.jpg\n",
      "✅ Processed: s159_3_L_S2.jpg\n",
      "✅ Processed: s159_3_R_S2.jpg\n",
      "✅ Processed: s159_4_L_S2.jpg\n",
      "✅ Processed: s159_4_R_S2.jpg\n",
      "✅ Processed: s159_5_L_S2.jpg\n",
      "✅ Processed: s159_5_R_S2.jpg\n",
      "✅ Processed: s159_6_L_S2.jpg\n",
      "✅ Processed: s159_6_R_S2.jpg\n",
      "✅ Processed: s159_7_L_S2.jpg\n",
      "✅ Processed: s159_7_R_S2.jpg\n",
      "✅ Processed: s159_8_L_S2.jpg\n",
      "✅ Processed: s159_8_R_S2.jpg\n",
      "✅ Processed: s159_9_L_S2.jpg\n",
      "✅ Processed: s159_9_R_S2.jpg\n",
      "✅ Processed: s15_10_L_S2.jpg\n"
     ]
    },
    {
     "name": "stderr",
     "output_type": "stream",
     "text": [
      "Processing images:  41%|████      | 1314/3200 [00:14<00:21, 89.08it/s]"
     ]
    },
    {
     "name": "stdout",
     "output_type": "stream",
     "text": [
      "✅ Processed: s15_10_R_S2.jpg\n",
      "✅ Processed: s15_1_L_S2.jpg\n",
      "✅ Processed: s15_1_R_S2.jpg\n",
      "✅ Processed: s15_2_L_S2.jpg\n",
      "✅ Processed: s15_2_R_S2.jpg\n",
      "✅ Processed: s15_3_L_S2.jpg\n",
      "✅ Processed: s15_3_R_S2.jpg\n",
      "✅ Processed: s15_4_L_S2.jpg\n",
      "✅ Processed: s15_4_R_S2.jpg\n",
      "✅ Processed: s15_5_L_S2.jpg\n",
      "✅ Processed: s15_5_R_S2.jpg\n",
      "✅ Processed: s15_6_L_S2.jpg\n",
      "✅ Processed: s15_6_R_S2.jpg\n",
      "✅ Processed: s15_7_L_S2.jpg\n",
      "✅ Processed: s15_7_R_S2.jpg\n",
      "✅ Processed: s15_8_L_S2.jpg\n",
      "✅ Processed: s15_8_R_S2.jpg\n",
      "✅ Processed: s15_9_L_S2.jpg\n",
      "✅ Processed: s15_9_R_S2.jpg\n"
     ]
    },
    {
     "name": "stderr",
     "output_type": "stream",
     "text": [
      "Processing images:  42%|████▏     | 1332/3200 [00:14<00:21, 86.18it/s]"
     ]
    },
    {
     "name": "stdout",
     "output_type": "stream",
     "text": [
      "✅ Processed: s160_10_L_S2.jpg\n",
      "✅ Processed: s160_10_R_S2.jpg\n",
      "✅ Processed: s160_1_L_S2.jpg\n",
      "✅ Processed: s160_1_R_S2.jpg\n",
      "✅ Processed: s160_2_L_S2.jpg\n",
      "✅ Processed: s160_2_R_S2.jpg\n",
      "✅ Processed: s160_3_L_S2.jpg\n",
      "✅ Processed: s160_3_R_S2.jpg\n",
      "✅ Processed: s160_4_L_S2.jpg\n",
      "✅ Processed: s160_4_R_S2.jpg\n",
      "✅ Processed: s160_5_L_S2.jpg\n",
      "✅ Processed: s160_5_R_S2.jpg\n",
      "✅ Processed: s160_6_L_S2.jpg\n",
      "✅ Processed: s160_6_R_S2.jpg\n",
      "✅ Processed: s160_7_L_S2.jpg\n",
      "✅ Processed: s160_7_R_S2.jpg\n",
      "✅ Processed: s160_8_L_S2.jpg\n",
      "✅ Processed: s160_8_R_S2.jpg\n",
      "✅ Processed: s160_9_L_S2.jpg\n"
     ]
    },
    {
     "name": "stderr",
     "output_type": "stream",
     "text": [
      "Processing images:  42%|████▏     | 1354/3200 [00:14<00:19, 95.12it/s]"
     ]
    },
    {
     "name": "stdout",
     "output_type": "stream",
     "text": [
      "✅ Processed: s160_9_R_S2.jpg\n",
      "✅ Processed: s16_10_L_S2.jpg\n",
      "✅ Processed: s16_10_R_S2.jpg\n",
      "✅ Processed: s16_1_L_S2.jpg\n",
      "✅ Processed: s16_1_R_S2.jpg\n",
      "✅ Processed: s16_2_L_S2.jpg\n",
      "✅ Processed: s16_2_R_S2.jpg\n",
      "✅ Processed: s16_3_L_S2.jpg\n",
      "✅ Processed: s16_3_R_S2.jpg\n",
      "✅ Processed: s16_4_L_S2.jpg\n",
      "✅ Processed: s16_4_R_S2.jpg\n",
      "✅ Processed: s16_5_L_S2.jpg\n",
      "✅ Processed: s16_5_R_S2.jpg\n",
      "✅ Processed: s16_6_L_S2.jpg\n",
      "✅ Processed: s16_6_R_S2.jpg\n",
      "✅ Processed: s16_7_L_S2.jpg\n",
      "✅ Processed: s16_7_R_S2.jpg\n",
      "✅ Processed: s16_8_L_S2.jpg\n",
      "✅ Processed: s16_8_R_S2.jpg\n",
      "✅ Processed: s16_9_L_S2.jpg\n"
     ]
    },
    {
     "name": "stderr",
     "output_type": "stream",
     "text": [
      "Processing images:  43%|████▎     | 1374/3200 [00:15<00:19, 91.78it/s]"
     ]
    },
    {
     "name": "stdout",
     "output_type": "stream",
     "text": [
      "✅ Processed: s16_9_R_S2.jpg\n",
      "✅ Processed: s17_10_L_S2.jpg\n",
      "✅ Processed: s17_10_R_S2.jpg\n",
      "✅ Processed: s17_1_L_S2.jpg\n",
      "✅ Processed: s17_1_R_S2.jpg\n",
      "✅ Processed: s17_2_L_S2.jpg\n",
      "✅ Processed: s17_2_R_S2.jpg\n",
      "✅ Processed: s17_3_L_S2.jpg\n",
      "✅ Processed: s17_3_R_S2.jpg\n",
      "✅ Processed: s17_4_L_S2.jpg\n",
      "✅ Processed: s17_4_R_S2.jpg\n",
      "✅ Processed: s17_5_L_S2.jpg\n",
      "✅ Processed: s17_5_R_S2.jpg\n",
      "✅ Processed: s17_6_L_S2.jpg\n",
      "✅ Processed: s17_6_R_S2.jpg\n",
      "✅ Processed: s17_7_L_S2.jpg\n",
      "✅ Processed: s17_7_R_S2.jpg\n",
      "✅ Processed: s17_8_L_S2.jpg\n",
      "✅ Processed: s17_8_R_S2.jpg\n"
     ]
    },
    {
     "name": "stderr",
     "output_type": "stream",
     "text": [
      "Processing images:  44%|████▎     | 1396/3200 [00:15<00:18, 97.44it/s]"
     ]
    },
    {
     "name": "stdout",
     "output_type": "stream",
     "text": [
      "✅ Processed: s17_9_L_S2.jpg\n",
      "✅ Processed: s17_9_R_S2.jpg\n",
      "✅ Processed: s18_10_L_S2.jpg\n",
      "✅ Processed: s18_10_R_S2.jpg\n",
      "✅ Processed: s18_1_L_S2.jpg\n",
      "✅ Processed: s18_1_R_S2.jpg\n",
      "✅ Processed: s18_2_L_S2.jpg\n",
      "✅ Processed: s18_2_R_S2.jpg\n",
      "✅ Processed: s18_3_L_S2.jpg\n",
      "✅ Processed: s18_3_R_S2.jpg\n",
      "✅ Processed: s18_4_L_S2.jpg\n",
      "✅ Processed: s18_4_R_S2.jpg\n",
      "✅ Processed: s18_5_L_S2.jpg\n",
      "✅ Processed: s18_5_R_S2.jpg\n",
      "✅ Processed: s18_6_L_S2.jpg\n",
      "✅ Processed: s18_6_R_S2.jpg\n",
      "✅ Processed: s18_7_L_S2.jpg\n",
      "✅ Processed: s18_7_R_S2.jpg\n",
      "✅ Processed: s18_8_L_S2.jpg\n",
      "✅ Processed: s18_8_R_S2.jpg\n",
      "✅ Processed: s18_9_L_S2.jpg\n"
     ]
    },
    {
     "name": "stderr",
     "output_type": "stream",
     "text": [
      "Processing images:  44%|████▍     | 1417/3200 [00:15<00:18, 97.96it/s]"
     ]
    },
    {
     "name": "stdout",
     "output_type": "stream",
     "text": [
      "✅ Processed: s18_9_R_S2.jpg\n",
      "✅ Processed: s19_10_L_S2.jpg\n",
      "✅ Processed: s19_10_R_S2.jpg\n",
      "✅ Processed: s19_1_L_S2.jpg\n",
      "✅ Processed: s19_1_R_S2.jpg\n",
      "✅ Processed: s19_2_L_S2.jpg\n",
      "✅ Processed: s19_2_R_S2.jpg\n",
      "✅ Processed: s19_3_L_S2.jpg\n",
      "✅ Processed: s19_3_R_S2.jpg\n",
      "✅ Processed: s19_4_L_S2.jpg\n",
      "✅ Processed: s19_4_R_S2.jpg\n",
      "✅ Processed: s19_5_L_S2.jpg\n",
      "✅ Processed: s19_5_R_S2.jpg\n",
      "✅ Processed: s19_6_L_S2.jpg\n",
      "✅ Processed: s19_6_R_S2.jpg\n",
      "✅ Processed: s19_7_L_S2.jpg\n",
      "✅ Processed: s19_7_R_S2.jpg\n",
      "✅ Processed: s19_8_L_S2.jpg\n"
     ]
    },
    {
     "name": "stderr",
     "output_type": "stream",
     "text": [
      "Processing images:  45%|████▌     | 1442/3200 [00:15<00:16, 106.54it/s]"
     ]
    },
    {
     "name": "stdout",
     "output_type": "stream",
     "text": [
      "✅ Processed: s19_8_R_S2.jpg\n",
      "✅ Processed: s19_9_L_S2.jpg\n",
      "✅ Processed: s19_9_R_S2.jpg\n",
      "✅ Processed: s1_10_L_S2.jpg\n",
      "✅ Processed: s1_10_R_S2.jpg\n",
      "✅ Processed: s1_1_L_S2.jpg\n",
      "✅ Processed: s1_1_R_S2.jpg\n",
      "✅ Processed: s1_2_L_S2.jpg\n",
      "✅ Processed: s1_2_R_S2.jpg\n",
      "✅ Processed: s1_3_L_S2.jpg\n",
      "✅ Processed: s1_3_R_S2.jpg\n",
      "✅ Processed: s1_4_L_S2.jpg\n",
      "✅ Processed: s1_4_R_S2.jpg\n",
      "✅ Processed: s1_5_L_S2.jpg\n",
      "✅ Processed: s1_5_R_S2.jpg\n",
      "✅ Processed: s1_6_L_S2.jpg\n",
      "✅ Processed: s1_6_R_S2.jpg\n",
      "✅ Processed: s1_7_L_S2.jpg\n",
      "✅ Processed: s1_7_R_S2.jpg\n",
      "✅ Processed: s1_8_L_S2.jpg\n",
      "✅ Processed: s1_8_R_S2.jpg\n",
      "✅ Processed: s1_9_L_S2.jpg\n",
      "✅ Processed: s1_9_R_S2.jpg\n",
      "✅ Processed: s20_10_L_S2.jpg\n",
      "✅ Processed: s20_10_R_S2.jpg\n"
     ]
    },
    {
     "name": "stderr",
     "output_type": "stream",
     "text": [
      "Processing images:  45%|████▌     | 1453/3200 [00:15<00:17, 101.83it/s]"
     ]
    },
    {
     "name": "stdout",
     "output_type": "stream",
     "text": [
      "✅ Processed: s20_1_L_S2.jpg\n",
      "✅ Processed: s20_1_R_S2.jpg\n",
      "✅ Processed: s20_2_L_S2.jpg\n",
      "✅ Processed: s20_2_R_S2.jpg\n",
      "✅ Processed: s20_3_L_S2.jpg\n",
      "✅ Processed: s20_3_R_S2.jpg\n",
      "✅ Processed: s20_4_L_S2.jpg\n",
      "✅ Processed: s20_4_R_S2.jpg\n",
      "✅ Processed: s20_5_L_S2.jpg\n",
      "✅ Processed: s20_5_R_S2.jpg\n",
      "✅ Processed: s20_6_L_S2.jpg\n",
      "✅ Processed: s20_6_R_S2.jpg\n",
      "✅ Processed: s20_7_L_S2.jpg\n",
      "✅ Processed: s20_7_R_S2.jpg\n",
      "✅ Processed: s20_8_L_S2.jpg\n",
      "✅ Processed: s20_8_R_S2.jpg\n",
      "✅ Processed: s20_9_L_S2.jpg\n",
      "✅ Processed: s20_9_R_S2.jpg\n",
      "✅ Processed: s21_10_L_S2.jpg\n",
      "✅ Processed: s21_10_R_S2.jpg\n"
     ]
    },
    {
     "name": "stderr",
     "output_type": "stream",
     "text": [
      "Processing images:  46%|████▌     | 1474/3200 [00:16<00:17, 96.42it/s] "
     ]
    },
    {
     "name": "stdout",
     "output_type": "stream",
     "text": [
      "✅ Processed: s21_1_L_S2.jpg\n",
      "✅ Processed: s21_1_R_S2.jpg\n",
      "✅ Processed: s21_2_L_S2.jpg\n",
      "✅ Processed: s21_2_R_S2.jpg\n",
      "✅ Processed: s21_3_L_S2.jpg\n",
      "✅ Processed: s21_3_R_S2.jpg\n",
      "✅ Processed: s21_4_L_S2.jpg\n",
      "✅ Processed: s21_4_R_S2.jpg\n",
      "✅ Processed: s21_5_L_S2.jpg\n",
      "✅ Processed: s21_5_R_S2.jpg\n",
      "✅ Processed: s21_6_L_S2.jpg\n",
      "✅ Processed: s21_6_R_S2.jpg\n",
      "✅ Processed: s21_7_L_S2.jpg\n",
      "✅ Processed: s21_7_R_S2.jpg\n",
      "✅ Processed: s21_8_L_S2.jpg\n",
      "✅ Processed: s21_8_R_S2.jpg\n",
      "✅ Processed: s21_9_L_S2.jpg\n",
      "✅ Processed: s21_9_R_S2.jpg\n",
      "✅ Processed: s22_10_L_S2.jpg\n"
     ]
    },
    {
     "name": "stderr",
     "output_type": "stream",
     "text": [
      "Processing images:  47%|████▋     | 1494/3200 [00:16<00:18, 92.61it/s]"
     ]
    },
    {
     "name": "stdout",
     "output_type": "stream",
     "text": [
      "✅ Processed: s22_10_R_S2.jpg\n",
      "✅ Processed: s22_1_L_S2.jpg\n",
      "✅ Processed: s22_1_R_S2.jpg\n",
      "✅ Processed: s22_2_L_S2.jpg\n",
      "✅ Processed: s22_2_R_S2.jpg\n",
      "✅ Processed: s22_3_L_S2.jpg\n",
      "✅ Processed: s22_3_R_S2.jpg\n",
      "✅ Processed: s22_4_L_S2.jpg\n",
      "✅ Processed: s22_4_R_S2.jpg\n",
      "✅ Processed: s22_5_L_S2.jpg\n",
      "✅ Processed: s22_5_R_S2.jpg\n",
      "✅ Processed: s22_6_L_S2.jpg\n",
      "✅ Processed: s22_6_R_S2.jpg\n",
      "✅ Processed: s22_7_L_S2.jpg\n",
      "✅ Processed: s22_7_R_S2.jpg\n",
      "✅ Processed: s22_8_L_S2.jpg\n",
      "✅ Processed: s22_8_R_S2.jpg\n",
      "✅ Processed: s22_9_L_S2.jpg\n",
      "✅ Processed: s22_9_R_S2.jpg\n"
     ]
    },
    {
     "name": "stderr",
     "output_type": "stream",
     "text": [
      "Processing images:  47%|████▋     | 1517/3200 [00:16<00:17, 97.45it/s]"
     ]
    },
    {
     "name": "stdout",
     "output_type": "stream",
     "text": [
      "✅ Processed: s23_10_L_S2.jpg\n",
      "✅ Processed: s23_10_R_S2.jpg\n",
      "✅ Processed: s23_1_L_S2.jpg\n",
      "✅ Processed: s23_1_R_S2.jpg\n",
      "✅ Processed: s23_2_L_S2.jpg\n",
      "✅ Processed: s23_2_R_S2.jpg\n",
      "✅ Processed: s23_3_L_S2.jpg\n",
      "✅ Processed: s23_3_R_S2.jpg\n",
      "✅ Processed: s23_4_L_S2.jpg\n",
      "✅ Processed: s23_4_R_S2.jpg\n",
      "✅ Processed: s23_5_L_S2.jpg\n",
      "✅ Processed: s23_5_R_S2.jpg\n",
      "✅ Processed: s23_6_L_S2.jpg\n",
      "✅ Processed: s23_6_R_S2.jpg\n",
      "✅ Processed: s23_7_L_S2.jpg\n",
      "✅ Processed: s23_7_R_S2.jpg\n",
      "✅ Processed: s23_8_L_S2.jpg\n",
      "✅ Processed: s23_8_R_S2.jpg\n",
      "✅ Processed: s23_9_L_S2.jpg\n",
      "✅ Processed: s23_9_R_S2.jpg\n"
     ]
    },
    {
     "name": "stderr",
     "output_type": "stream",
     "text": [
      "Processing images:  48%|████▊     | 1539/3200 [00:16<00:16, 98.84it/s] "
     ]
    },
    {
     "name": "stdout",
     "output_type": "stream",
     "text": [
      "✅ Processed: s24_10_L_S2.jpg\n",
      "✅ Processed: s24_10_R_S2.jpg\n",
      "✅ Processed: s24_1_L_S2.jpg\n",
      "✅ Processed: s24_1_R_S2.jpg\n",
      "✅ Processed: s24_2_L_S2.jpg\n",
      "✅ Processed: s24_2_R_S2.jpg\n",
      "✅ Processed: s24_3_L_S2.jpg\n",
      "✅ Processed: s24_3_R_S2.jpg\n",
      "✅ Processed: s24_4_L_S2.jpg\n",
      "✅ Processed: s24_4_R_S2.jpg\n",
      "✅ Processed: s24_5_L_S2.jpg\n",
      "✅ Processed: s24_5_R_S2.jpg\n",
      "✅ Processed: s24_6_L_S2.jpg\n",
      "✅ Processed: s24_6_R_S2.jpg\n",
      "✅ Processed: s24_7_L_S2.jpg\n",
      "✅ Processed: s24_7_R_S2.jpg\n",
      "✅ Processed: s24_8_L_S2.jpg\n",
      "✅ Processed: s24_8_R_S2.jpg\n",
      "✅ Processed: s24_9_L_S2.jpg\n",
      "✅ Processed: s24_9_R_S2.jpg\n",
      "✅ Processed: s25_10_L_S2.jpg\n"
     ]
    },
    {
     "name": "stderr",
     "output_type": "stream",
     "text": [
      "Processing images:  49%|████▉     | 1560/3200 [00:16<00:16, 97.51it/s]"
     ]
    },
    {
     "name": "stdout",
     "output_type": "stream",
     "text": [
      "✅ Processed: s25_10_R_S2.jpg\n",
      "✅ Processed: s25_1_L_S2.jpg\n",
      "✅ Processed: s25_1_R_S2.jpg\n",
      "✅ Processed: s25_2_L_S2.jpg\n",
      "✅ Processed: s25_2_R_S2.jpg\n",
      "✅ Processed: s25_3_L_S2.jpg\n",
      "✅ Processed: s25_3_R_S2.jpg\n",
      "✅ Processed: s25_4_L_S2.jpg\n",
      "✅ Processed: s25_4_R_S2.jpg\n",
      "✅ Processed: s25_5_L_S2.jpg\n",
      "✅ Processed: s25_5_R_S2.jpg\n",
      "✅ Processed: s25_6_L_S2.jpg\n",
      "✅ Processed: s25_6_R_S2.jpg\n",
      "✅ Processed: s25_7_L_S2.jpg\n",
      "✅ Processed: s25_7_R_S2.jpg\n",
      "✅ Processed: s25_8_L_S2.jpg\n",
      "✅ Processed: s25_8_R_S2.jpg\n",
      "✅ Processed: s25_9_L_S2.jpg\n",
      "✅ Processed: s25_9_R_S2.jpg\n",
      "✅ Processed: s26_10_L_S2.jpg\n",
      "✅ Processed: s26_10_R_S2.jpg\n"
     ]
    },
    {
     "name": "stderr",
     "output_type": "stream",
     "text": [
      "Processing images:  49%|████▉     | 1570/3200 [00:17<00:18, 89.68it/s]"
     ]
    },
    {
     "name": "stdout",
     "output_type": "stream",
     "text": [
      "✅ Processed: s26_1_L_S2.jpg\n",
      "✅ Processed: s26_1_R_S2.jpg\n",
      "✅ Processed: s26_2_L_S2.jpg\n",
      "✅ Processed: s26_2_R_S2.jpg\n",
      "✅ Processed: s26_3_L_S2.jpg\n",
      "✅ Processed: s26_3_R_S2.jpg\n",
      "✅ Processed: s26_4_L_S2.jpg\n",
      "✅ Processed: s26_4_R_S2.jpg\n",
      "✅ Processed: s26_5_L_S2.jpg\n",
      "✅ Processed: s26_5_R_S2.jpg\n",
      "✅ Processed: s26_6_L_S2.jpg\n",
      "✅ Processed: s26_6_R_S2.jpg\n",
      "✅ Processed: s26_7_L_S2.jpg\n",
      "✅ Processed: s26_7_R_S2.jpg\n",
      "✅ Processed: s26_8_L_S2.jpg\n",
      "✅ Processed: s26_8_R_S2.jpg\n",
      "✅ Processed: s26_9_L_S2.jpg\n"
     ]
    },
    {
     "name": "stderr",
     "output_type": "stream",
     "text": [
      "Processing images:  50%|████▉     | 1589/3200 [00:17<00:18, 87.54it/s]"
     ]
    },
    {
     "name": "stdout",
     "output_type": "stream",
     "text": [
      "✅ Processed: s26_9_R_S2.jpg\n",
      "✅ Processed: s27_10_L_S2.jpg\n",
      "✅ Processed: s27_10_R_S2.jpg\n",
      "✅ Processed: s27_1_L_S2.jpg\n",
      "✅ Processed: s27_1_R_S2.jpg\n",
      "✅ Processed: s27_2_L_S2.jpg\n",
      "✅ Processed: s27_2_R_S2.jpg\n",
      "✅ Processed: s27_3_L_S2.jpg\n",
      "✅ Processed: s27_3_R_S2.jpg\n",
      "✅ Processed: s27_4_L_S2.jpg\n",
      "✅ Processed: s27_4_R_S2.jpg\n",
      "✅ Processed: s27_5_L_S2.jpg\n",
      "✅ Processed: s27_5_R_S2.jpg\n",
      "✅ Processed: s27_6_L_S2.jpg\n",
      "✅ Processed: s27_6_R_S2.jpg\n",
      "✅ Processed: s27_7_L_S2.jpg\n",
      "✅ Processed: s27_7_R_S2.jpg\n"
     ]
    },
    {
     "name": "stderr",
     "output_type": "stream",
     "text": [
      "Processing images:  50%|█████     | 1608/3200 [00:17<00:18, 85.82it/s]"
     ]
    },
    {
     "name": "stdout",
     "output_type": "stream",
     "text": [
      "✅ Processed: s27_8_L_S2.jpg\n",
      "✅ Processed: s27_8_R_S2.jpg\n",
      "✅ Processed: s27_9_L_S2.jpg\n",
      "✅ Processed: s27_9_R_S2.jpg\n",
      "✅ Processed: s28_10_L_S2.jpg\n",
      "✅ Processed: s28_10_R_S2.jpg\n",
      "✅ Processed: s28_1_L_S2.jpg\n",
      "✅ Processed: s28_1_R_S2.jpg\n",
      "✅ Processed: s28_2_L_S2.jpg\n",
      "✅ Processed: s28_2_R_S2.jpg\n",
      "✅ Processed: s28_3_L_S2.jpg\n",
      "✅ Processed: s28_3_R_S2.jpg\n",
      "✅ Processed: s28_4_L_S2.jpg\n",
      "✅ Processed: s28_4_R_S2.jpg\n",
      "✅ Processed: s28_5_L_S2.jpg\n",
      "✅ Processed: s28_5_R_S2.jpg\n",
      "✅ Processed: s28_6_L_S2.jpg\n",
      "✅ Processed: s28_6_R_S2.jpg\n",
      "✅ Processed: s28_7_L_S2.jpg\n"
     ]
    },
    {
     "name": "stderr",
     "output_type": "stream",
     "text": [
      "Processing images:  51%|█████     | 1629/3200 [00:17<00:17, 91.93it/s]"
     ]
    },
    {
     "name": "stdout",
     "output_type": "stream",
     "text": [
      "✅ Processed: s28_7_R_S2.jpg\n",
      "✅ Processed: s28_8_L_S2.jpg\n",
      "✅ Processed: s28_8_R_S2.jpg\n",
      "✅ Processed: s28_9_L_S2.jpg\n",
      "✅ Processed: s28_9_R_S2.jpg\n",
      "✅ Processed: s29_10_L_S2.jpg\n",
      "✅ Processed: s29_10_R_S2.jpg\n",
      "✅ Processed: s29_1_L_S2.jpg\n",
      "✅ Processed: s29_1_R_S2.jpg\n",
      "✅ Processed: s29_2_L_S2.jpg\n",
      "✅ Processed: s29_2_R_S2.jpg\n",
      "✅ Processed: s29_3_L_S2.jpg\n",
      "✅ Processed: s29_3_R_S2.jpg\n",
      "✅ Processed: s29_4_L_S2.jpg\n",
      "✅ Processed: s29_4_R_S2.jpg\n",
      "✅ Processed: s29_5_L_S2.jpg\n",
      "✅ Processed: s29_5_R_S2.jpg\n",
      "✅ Processed: s29_6_L_S2.jpg\n",
      "✅ Processed: s29_6_R_S2.jpg\n",
      "✅ Processed: s29_7_L_S2.jpg\n"
     ]
    },
    {
     "name": "stderr",
     "output_type": "stream",
     "text": [
      "Processing images:  52%|█████▏    | 1649/3200 [00:17<00:16, 91.39it/s]"
     ]
    },
    {
     "name": "stdout",
     "output_type": "stream",
     "text": [
      "✅ Processed: s29_7_R_S2.jpg\n",
      "✅ Processed: s29_8_L_S2.jpg\n",
      "✅ Processed: s29_8_R_S2.jpg\n",
      "✅ Processed: s29_9_L_S2.jpg\n",
      "✅ Processed: s29_9_R_S2.jpg\n",
      "✅ Processed: s2_10_L_S2.jpg\n",
      "✅ Processed: s2_10_R_S2.jpg\n",
      "✅ Processed: s2_1_L_S2.jpg\n",
      "✅ Processed: s2_1_R_S2.jpg\n",
      "✅ Processed: s2_2_L_S2.jpg\n",
      "✅ Processed: s2_2_R_S2.jpg\n",
      "✅ Processed: s2_3_L_S2.jpg\n",
      "✅ Processed: s2_3_R_S2.jpg\n",
      "✅ Processed: s2_4_L_S2.jpg\n",
      "✅ Processed: s2_4_R_S2.jpg\n",
      "✅ Processed: s2_5_L_S2.jpg\n",
      "✅ Processed: s2_5_R_S2.jpg\n",
      "✅ Processed: s2_6_L_S2.jpg\n",
      "✅ Processed: s2_6_R_S2.jpg\n",
      "✅ Processed: s2_7_L_S2.jpg\n"
     ]
    },
    {
     "name": "stderr",
     "output_type": "stream",
     "text": [
      "Processing images:  52%|█████▏    | 1669/3200 [00:18<00:17, 89.08it/s]"
     ]
    },
    {
     "name": "stdout",
     "output_type": "stream",
     "text": [
      "✅ Processed: s2_7_R_S2.jpg\n",
      "✅ Processed: s2_8_L_S2.jpg\n",
      "✅ Processed: s2_8_R_S2.jpg\n",
      "✅ Processed: s2_9_L_S2.jpg\n",
      "✅ Processed: s2_9_R_S2.jpg\n",
      "✅ Processed: s30_10_L_S2.jpg\n",
      "✅ Processed: s30_10_R_S2.jpg\n",
      "✅ Processed: s30_1_L_S2.jpg\n",
      "✅ Processed: s30_1_R_S2.jpg\n",
      "✅ Processed: s30_2_L_S2.jpg\n",
      "✅ Processed: s30_2_R_S2.jpg\n",
      "✅ Processed: s30_3_L_S2.jpg\n",
      "✅ Processed: s30_3_R_S2.jpg\n",
      "✅ Processed: s30_4_L_S2.jpg\n",
      "✅ Processed: s30_4_R_S2.jpg\n",
      "✅ Processed: s30_5_L_S2.jpg\n",
      "✅ Processed: s30_5_R_S2.jpg\n",
      "✅ Processed: s30_6_L_S2.jpg\n",
      "✅ Processed: s30_6_R_S2.jpg\n",
      "✅ Processed: s30_7_L_S2.jpg\n",
      "✅ Processed: s30_7_R_S2.jpg\n"
     ]
    },
    {
     "name": "stderr",
     "output_type": "stream",
     "text": [
      "Processing images:  53%|█████▎    | 1692/3200 [00:18<00:15, 98.56it/s]"
     ]
    },
    {
     "name": "stdout",
     "output_type": "stream",
     "text": [
      "✅ Processed: s30_8_L_S2.jpg\n",
      "✅ Processed: s30_8_R_S2.jpg\n",
      "✅ Processed: s30_9_L_S2.jpg\n",
      "✅ Processed: s30_9_R_S2.jpg\n",
      "✅ Processed: s31_10_L_S2.jpg\n",
      "✅ Processed: s31_10_R_S2.jpg\n",
      "✅ Processed: s31_1_L_S2.jpg\n",
      "✅ Processed: s31_1_R_S2.jpg\n",
      "✅ Processed: s31_2_L_S2.jpg\n",
      "✅ Processed: s31_2_R_S2.jpg\n",
      "✅ Processed: s31_3_L_S2.jpg\n",
      "✅ Processed: s31_3_R_S2.jpg\n",
      "✅ Processed: s31_4_L_S2.jpg\n",
      "✅ Processed: s31_4_R_S2.jpg\n",
      "✅ Processed: s31_5_L_S2.jpg\n",
      "✅ Processed: s31_5_R_S2.jpg\n",
      "✅ Processed: s31_6_L_S2.jpg\n",
      "✅ Processed: s31_6_R_S2.jpg\n",
      "✅ Processed: s31_7_L_S2.jpg\n",
      "✅ Processed: s31_7_R_S2.jpg\n"
     ]
    },
    {
     "name": "stderr",
     "output_type": "stream",
     "text": [
      "Processing images:  54%|█████▎    | 1712/3200 [00:18<00:16, 91.01it/s]"
     ]
    },
    {
     "name": "stdout",
     "output_type": "stream",
     "text": [
      "✅ Processed: s31_8_L_S2.jpg\n",
      "✅ Processed: s31_8_R_S2.jpg\n",
      "✅ Processed: s31_9_L_S2.jpg\n",
      "✅ Processed: s31_9_R_S2.jpg\n",
      "✅ Processed: s32_10_L_S2.jpg\n",
      "✅ Processed: s32_10_R_S2.jpg\n",
      "✅ Processed: s32_1_L_S2.jpg\n",
      "✅ Processed: s32_1_R_S2.jpg\n",
      "✅ Processed: s32_2_L_S2.jpg\n",
      "✅ Processed: s32_2_R_S2.jpg\n",
      "✅ Processed: s32_3_L_S2.jpg\n",
      "✅ Processed: s32_3_R_S2.jpg\n",
      "✅ Processed: s32_4_L_S2.jpg\n",
      "✅ Processed: s32_4_R_S2.jpg\n",
      "✅ Processed: s32_5_L_S2.jpg\n",
      "✅ Processed: s32_5_R_S2.jpg\n"
     ]
    },
    {
     "name": "stderr",
     "output_type": "stream",
     "text": [
      "Processing images:  54%|█████▍    | 1723/3200 [00:18<00:15, 93.03it/s]"
     ]
    },
    {
     "name": "stdout",
     "output_type": "stream",
     "text": [
      "✅ Processed: s32_6_L_S2.jpg\n",
      "✅ Processed: s32_6_R_S2.jpg\n",
      "✅ Processed: s32_7_L_S2.jpg\n",
      "✅ Processed: s32_7_R_S2.jpg\n",
      "✅ Processed: s32_8_L_S2.jpg\n",
      "✅ Processed: s32_8_R_S2.jpg\n",
      "✅ Processed: s32_9_L_S2.jpg\n",
      "✅ Processed: s32_9_R_S2.jpg\n",
      "✅ Processed: s33_10_L_S2.jpg\n",
      "✅ Processed: s33_10_R_S2.jpg\n",
      "✅ Processed: s33_1_L_S2.jpg\n",
      "✅ Processed: s33_1_R_S2.jpg\n",
      "✅ Processed: s33_2_L_S2.jpg\n",
      "✅ Processed: s33_2_R_S2.jpg\n",
      "✅ Processed: s33_3_L_S2.jpg\n",
      "✅ Processed: s33_3_R_S2.jpg\n",
      "✅ Processed: s33_4_L_S2.jpg\n",
      "✅ Processed: s33_4_R_S2.jpg\n"
     ]
    },
    {
     "name": "stderr",
     "output_type": "stream",
     "text": [
      "Processing images:  54%|█████▍    | 1743/3200 [00:19<00:17, 82.10it/s]"
     ]
    },
    {
     "name": "stdout",
     "output_type": "stream",
     "text": [
      "✅ Processed: s33_5_L_S2.jpg\n",
      "✅ Processed: s33_5_R_S2.jpg\n",
      "✅ Processed: s33_6_L_S2.jpg\n",
      "✅ Processed: s33_6_R_S2.jpg\n",
      "✅ Processed: s33_7_L_S2.jpg\n",
      "✅ Processed: s33_7_R_S2.jpg\n",
      "✅ Processed: s33_8_L_S2.jpg\n",
      "✅ Processed: s33_8_R_S2.jpg\n",
      "✅ Processed: s33_9_L_S2.jpg\n",
      "✅ Processed: s33_9_R_S2.jpg\n",
      "✅ Processed: s34_10_L_S2.jpg\n",
      "✅ Processed: s34_10_R_S2.jpg\n",
      "✅ Processed: s34_1_L_S2.jpg\n",
      "✅ Processed: s34_1_R_S2.jpg\n",
      "✅ Processed: s34_2_L_S2.jpg\n",
      "✅ Processed: s34_2_R_S2.jpg\n"
     ]
    },
    {
     "name": "stderr",
     "output_type": "stream",
     "text": [
      "Processing images:  55%|█████▌    | 1764/3200 [00:19<00:16, 88.65it/s]"
     ]
    },
    {
     "name": "stdout",
     "output_type": "stream",
     "text": [
      "✅ Processed: s34_3_L_S2.jpg\n",
      "✅ Processed: s34_3_R_S2.jpg\n",
      "✅ Processed: s34_4_L_S2.jpg\n",
      "✅ Processed: s34_4_R_S2.jpg\n",
      "✅ Processed: s34_5_L_S2.jpg\n",
      "✅ Processed: s34_5_R_S2.jpg\n",
      "✅ Processed: s34_6_L_S2.jpg\n",
      "✅ Processed: s34_6_R_S2.jpg\n",
      "✅ Processed: s34_7_L_S2.jpg\n",
      "✅ Processed: s34_7_R_S2.jpg\n",
      "✅ Processed: s34_8_L_S2.jpg\n",
      "✅ Processed: s34_8_R_S2.jpg\n",
      "✅ Processed: s34_9_L_S2.jpg\n",
      "✅ Processed: s34_9_R_S2.jpg\n",
      "✅ Processed: s35_10_L_S2.jpg\n",
      "✅ Processed: s35_10_R_S2.jpg\n",
      "✅ Processed: s35_1_L_S2.jpg\n",
      "✅ Processed: s35_1_R_S2.jpg\n"
     ]
    },
    {
     "name": "stderr",
     "output_type": "stream",
     "text": [
      "Processing images:  56%|█████▌    | 1776/3200 [00:19<00:15, 93.15it/s]"
     ]
    },
    {
     "name": "stdout",
     "output_type": "stream",
     "text": [
      "✅ Processed: s35_2_L_S2.jpg\n",
      "✅ Processed: s35_2_R_S2.jpg\n",
      "✅ Processed: s35_3_L_S2.jpg\n",
      "✅ Processed: s35_3_R_S2.jpg\n",
      "✅ Processed: s35_4_L_S2.jpg\n",
      "✅ Processed: s35_4_R_S2.jpg\n",
      "✅ Processed: s35_5_L_S2.jpg\n",
      "✅ Processed: s35_5_R_S2.jpg\n",
      "✅ Processed: s35_6_L_S2.jpg\n",
      "✅ Processed: s35_6_R_S2.jpg\n",
      "✅ Processed: s35_7_L_S2.jpg\n",
      "✅ Processed: s35_7_R_S2.jpg\n",
      "✅ Processed: s35_8_L_S2.jpg\n",
      "✅ Processed: s35_8_R_S2.jpg\n",
      "✅ Processed: s35_9_L_S2.jpg\n",
      "✅ Processed: s35_9_R_S2.jpg\n",
      "✅ Processed: s36_10_L_S2.jpg\n",
      "✅ Processed: s36_10_R_S2.jpg\n",
      "✅ Processed: s36_1_L_S2.jpg\n",
      "✅ Processed: s36_1_R_S2.jpg\n",
      "✅ Processed: s36_2_L_S2.jpg\n",
      "✅ Processed: s36_2_R_S2.jpg\n",
      "✅ Processed: s36_3_L_S2.jpg\n",
      "✅ Processed: s36_3_R_S2.jpg\n"
     ]
    },
    {
     "name": "stderr",
     "output_type": "stream",
     "text": [
      "Processing images:  56%|█████▋    | 1800/3200 [00:19<00:14, 96.66it/s] "
     ]
    },
    {
     "name": "stdout",
     "output_type": "stream",
     "text": [
      "✅ Processed: s36_4_L_S2.jpg\n",
      "✅ Processed: s36_4_R_S2.jpg\n",
      "✅ Processed: s36_5_L_S2.jpg\n",
      "✅ Processed: s36_5_R_S2.jpg\n",
      "✅ Processed: s36_6_L_S2.jpg\n",
      "✅ Processed: s36_6_R_S2.jpg\n",
      "✅ Processed: s36_7_L_S2.jpg\n",
      "✅ Processed: s36_7_R_S2.jpg\n",
      "✅ Processed: s36_8_L_S2.jpg\n",
      "✅ Processed: s36_8_R_S2.jpg\n",
      "✅ Processed: s36_9_L_S2.jpg\n",
      "✅ Processed: s36_9_R_S2.jpg\n",
      "✅ Processed: s37_10_L_S2.jpg\n",
      "✅ Processed: s37_10_R_S2.jpg\n",
      "✅ Processed: s37_1_L_S2.jpg\n",
      "✅ Processed: s37_1_R_S2.jpg\n",
      "✅ Processed: s37_2_L_S2.jpg\n"
     ]
    },
    {
     "name": "stderr",
     "output_type": "stream",
     "text": [
      "Processing images:  57%|█████▋    | 1821/3200 [00:19<00:14, 96.79it/s]"
     ]
    },
    {
     "name": "stdout",
     "output_type": "stream",
     "text": [
      "✅ Processed: s37_2_R_S2.jpg\n",
      "✅ Processed: s37_3_L_S2.jpg\n",
      "✅ Processed: s37_3_R_S2.jpg\n",
      "✅ Processed: s37_4_L_S2.jpg\n",
      "✅ Processed: s37_4_R_S2.jpg\n",
      "✅ Processed: s37_5_L_S2.jpg\n",
      "✅ Processed: s37_5_R_S2.jpg\n",
      "✅ Processed: s37_6_L_S2.jpg\n",
      "✅ Processed: s37_6_R_S2.jpg\n",
      "✅ Processed: s37_7_L_S2.jpg\n",
      "✅ Processed: s37_7_R_S2.jpg\n",
      "✅ Processed: s37_8_L_S2.jpg\n",
      "✅ Processed: s37_8_R_S2.jpg\n",
      "✅ Processed: s37_9_L_S2.jpg\n",
      "✅ Processed: s37_9_R_S2.jpg\n",
      "✅ Processed: s38_10_L_S2.jpg\n",
      "✅ Processed: s38_10_R_S2.jpg\n",
      "✅ Processed: s38_1_L_S2.jpg\n",
      "✅ Processed: s38_1_R_S2.jpg\n",
      "✅ Processed: s38_2_L_S2.jpg\n",
      "✅ Processed: s38_2_R_S2.jpg\n"
     ]
    },
    {
     "name": "stderr",
     "output_type": "stream",
     "text": [
      "Processing images:  58%|█████▊    | 1841/3200 [00:20<00:14, 94.34it/s]"
     ]
    },
    {
     "name": "stdout",
     "output_type": "stream",
     "text": [
      "✅ Processed: s38_3_L_S2.jpg\n",
      "✅ Processed: s38_3_R_S2.jpg\n",
      "✅ Processed: s38_4_L_S2.jpg\n",
      "✅ Processed: s38_4_R_S2.jpg\n",
      "✅ Processed: s38_5_L_S2.jpg\n",
      "✅ Processed: s38_5_R_S2.jpg\n",
      "✅ Processed: s38_6_L_S2.jpg\n",
      "✅ Processed: s38_6_R_S2.jpg\n",
      "✅ Processed: s38_7_L_S2.jpg\n",
      "✅ Processed: s38_7_R_S2.jpg\n",
      "✅ Processed: s38_8_L_S2.jpg\n",
      "✅ Processed: s38_8_R_S2.jpg\n",
      "✅ Processed: s38_9_L_S2.jpg\n",
      "✅ Processed: s38_9_R_S2.jpg\n",
      "✅ Processed: s39_10_L_S2.jpg\n",
      "✅ Processed: s39_10_R_S2.jpg\n",
      "✅ Processed: s39_1_L_S2.jpg\n",
      "✅ Processed: s39_1_R_S2.jpg\n",
      "✅ Processed: s39_2_L_S2.jpg\n"
     ]
    },
    {
     "name": "stderr",
     "output_type": "stream",
     "text": [
      "Processing images:  58%|█████▊    | 1861/3200 [00:20<00:14, 89.29it/s]"
     ]
    },
    {
     "name": "stdout",
     "output_type": "stream",
     "text": [
      "✅ Processed: s39_2_R_S2.jpg\n",
      "✅ Processed: s39_3_L_S2.jpg\n",
      "✅ Processed: s39_3_R_S2.jpg\n",
      "✅ Processed: s39_4_L_S2.jpg\n",
      "✅ Processed: s39_4_R_S2.jpg\n",
      "✅ Processed: s39_5_L_S2.jpg\n",
      "✅ Processed: s39_5_R_S2.jpg\n",
      "✅ Processed: s39_6_L_S2.jpg\n",
      "✅ Processed: s39_6_R_S2.jpg\n",
      "✅ Processed: s39_7_L_S2.jpg\n",
      "✅ Processed: s39_7_R_S2.jpg\n",
      "✅ Processed: s39_8_L_S2.jpg\n",
      "✅ Processed: s39_8_R_S2.jpg\n",
      "✅ Processed: s39_9_L_S2.jpg\n",
      "✅ Processed: s39_9_R_S2.jpg\n",
      "✅ Processed: s3_10_L_S2.jpg\n",
      "✅ Processed: s3_10_R_S2.jpg\n",
      "✅ Processed: s3_1_L_S2.jpg\n"
     ]
    },
    {
     "name": "stderr",
     "output_type": "stream",
     "text": [
      "Processing images:  59%|█████▉    | 1882/3200 [00:20<00:14, 89.84it/s]"
     ]
    },
    {
     "name": "stdout",
     "output_type": "stream",
     "text": [
      "✅ Processed: s3_1_R_S2.jpg\n",
      "✅ Processed: s3_2_L_S2.jpg\n",
      "✅ Processed: s3_2_R_S2.jpg\n",
      "✅ Processed: s3_3_L_S2.jpg\n",
      "✅ Processed: s3_3_R_S2.jpg\n",
      "✅ Processed: s3_4_L_S2.jpg\n",
      "✅ Processed: s3_4_R_S2.jpg\n",
      "✅ Processed: s3_5_L_S2.jpg\n",
      "✅ Processed: s3_5_R_S2.jpg\n",
      "✅ Processed: s3_6_L_S2.jpg\n",
      "✅ Processed: s3_6_R_S2.jpg\n",
      "✅ Processed: s3_7_L_S2.jpg\n",
      "✅ Processed: s3_7_R_S2.jpg\n",
      "✅ Processed: s3_8_L_S2.jpg\n",
      "✅ Processed: s3_8_R_S2.jpg\n",
      "✅ Processed: s3_9_L_S2.jpg\n",
      "✅ Processed: s3_9_R_S2.jpg\n",
      "✅ Processed: s40_10_L_S2.jpg\n",
      "✅ Processed: s40_10_R_S2.jpg\n"
     ]
    },
    {
     "name": "stderr",
     "output_type": "stream",
     "text": [
      "Processing images:  59%|█████▉    | 1892/3200 [00:20<00:14, 91.55it/s]"
     ]
    },
    {
     "name": "stdout",
     "output_type": "stream",
     "text": [
      "✅ Processed: s40_1_L_S2.jpg\n",
      "✅ Processed: s40_1_R_S2.jpg\n",
      "✅ Processed: s40_2_L_S2.jpg\n",
      "✅ Processed: s40_2_R_S2.jpg\n",
      "✅ Processed: s40_3_L_S2.jpg\n",
      "✅ Processed: s40_3_R_S2.jpg\n",
      "✅ Processed: s40_4_L_S2.jpg\n",
      "✅ Processed: s40_4_R_S2.jpg\n",
      "✅ Processed: s40_5_L_S2.jpg\n",
      "✅ Processed: s40_5_R_S2.jpg\n",
      "✅ Processed: s40_6_L_S2.jpg\n",
      "✅ Processed: s40_6_R_S2.jpg\n",
      "✅ Processed: s40_7_L_S2.jpg\n",
      "✅ Processed: s40_7_R_S2.jpg\n",
      "✅ Processed: s40_8_L_S2.jpg\n",
      "✅ Processed: s40_8_R_S2.jpg\n",
      "✅ Processed: s40_9_L_S2.jpg\n",
      "✅ Processed: s40_9_R_S2.jpg\n",
      "✅ Processed: s41_10_L_S2.jpg\n"
     ]
    },
    {
     "name": "stderr",
     "output_type": "stream",
     "text": [
      "Processing images:  60%|█████▉    | 1913/3200 [00:20<00:13, 95.54it/s]"
     ]
    },
    {
     "name": "stdout",
     "output_type": "stream",
     "text": [
      "✅ Processed: s41_10_R_S2.jpg\n",
      "✅ Processed: s41_1_L_S2.jpg\n",
      "✅ Processed: s41_1_R_S2.jpg\n",
      "✅ Processed: s41_2_L_S2.jpg\n",
      "✅ Processed: s41_2_R_S2.jpg\n",
      "✅ Processed: s41_3_L_S2.jpg\n",
      "✅ Processed: s41_3_R_S2.jpg\n",
      "✅ Processed: s41_4_L_S2.jpg\n",
      "✅ Processed: s41_4_R_S2.jpg\n",
      "✅ Processed: s41_5_L_S2.jpg\n",
      "✅ Processed: s41_5_R_S2.jpg\n",
      "✅ Processed: s41_6_L_S2.jpg\n",
      "✅ Processed: s41_6_R_S2.jpg\n",
      "✅ Processed: s41_7_L_S2.jpg\n",
      "✅ Processed: s41_7_R_S2.jpg\n",
      "✅ Processed: s41_8_L_S2.jpg\n",
      "✅ Processed: s41_8_R_S2.jpg\n",
      "✅ Processed: s41_9_L_S2.jpg\n",
      "✅ Processed: s41_9_R_S2.jpg\n",
      "✅ Processed: s42_10_L_S2.jpg\n",
      "✅ Processed: s42_10_R_S2.jpg\n"
     ]
    },
    {
     "name": "stderr",
     "output_type": "stream",
     "text": [
      "Processing images:  60%|██████    | 1934/3200 [00:21<00:12, 98.00it/s]"
     ]
    },
    {
     "name": "stdout",
     "output_type": "stream",
     "text": [
      "✅ Processed: s42_1_L_S2.jpg\n",
      "✅ Processed: s42_1_R_S2.jpg\n",
      "✅ Processed: s42_2_L_S2.jpg\n",
      "✅ Processed: s42_2_R_S2.jpg\n",
      "✅ Processed: s42_3_L_S2.jpg\n",
      "✅ Processed: s42_3_R_S2.jpg\n",
      "✅ Processed: s42_4_L_S2.jpg\n",
      "✅ Processed: s42_4_R_S2.jpg\n",
      "✅ Processed: s42_5_L_S2.jpg\n",
      "✅ Processed: s42_5_R_S2.jpg\n",
      "✅ Processed: s42_6_L_S2.jpg\n",
      "✅ Processed: s42_6_R_S2.jpg\n",
      "✅ Processed: s42_7_L_S2.jpg\n",
      "✅ Processed: s42_7_R_S2.jpg\n",
      "✅ Processed: s42_8_L_S2.jpg\n",
      "✅ Processed: s42_8_R_S2.jpg\n",
      "✅ Processed: s42_9_L_S2.jpg\n",
      "✅ Processed: s42_9_R_S2.jpg\n",
      "✅ Processed: s43_10_L_S2.jpg\n"
     ]
    },
    {
     "name": "stderr",
     "output_type": "stream",
     "text": [
      "Processing images:  61%|██████    | 1954/3200 [00:21<00:13, 89.18it/s]"
     ]
    },
    {
     "name": "stdout",
     "output_type": "stream",
     "text": [
      "✅ Processed: s43_10_R_S2.jpg\n",
      "✅ Processed: s43_1_L_S2.jpg\n",
      "✅ Processed: s43_1_R_S2.jpg\n",
      "✅ Processed: s43_2_L_S2.jpg\n",
      "✅ Processed: s43_2_R_S2.jpg\n",
      "✅ Processed: s43_3_L_S2.jpg\n",
      "✅ Processed: s43_3_R_S2.jpg\n",
      "✅ Processed: s43_4_L_S2.jpg\n",
      "✅ Processed: s43_4_R_S2.jpg\n",
      "✅ Processed: s43_5_L_S2.jpg\n",
      "✅ Processed: s43_5_R_S2.jpg\n",
      "✅ Processed: s43_6_L_S2.jpg\n",
      "✅ Processed: s43_6_R_S2.jpg\n",
      "✅ Processed: s43_7_L_S2.jpg\n",
      "✅ Processed: s43_7_R_S2.jpg\n",
      "✅ Processed: s43_8_L_S2.jpg\n",
      "✅ Processed: s43_8_R_S2.jpg\n",
      "✅ Processed: s43_9_L_S2.jpg\n"
     ]
    },
    {
     "name": "stderr",
     "output_type": "stream",
     "text": [
      "Processing images:  62%|██████▏   | 1973/3200 [00:21<00:14, 87.39it/s]"
     ]
    },
    {
     "name": "stdout",
     "output_type": "stream",
     "text": [
      "✅ Processed: s43_9_R_S2.jpg\n",
      "✅ Processed: s44_10_L_S2.jpg\n",
      "✅ Processed: s44_10_R_S2.jpg\n",
      "✅ Processed: s44_1_L_S2.jpg\n",
      "✅ Processed: s44_1_R_S2.jpg\n",
      "✅ Processed: s44_2_L_S2.jpg\n",
      "✅ Processed: s44_2_R_S2.jpg\n",
      "✅ Processed: s44_3_L_S2.jpg\n",
      "✅ Processed: s44_3_R_S2.jpg\n",
      "✅ Processed: s44_4_L_S2.jpg\n",
      "✅ Processed: s44_4_R_S2.jpg\n",
      "✅ Processed: s44_5_L_S2.jpg\n",
      "✅ Processed: s44_5_R_S2.jpg\n",
      "✅ Processed: s44_6_L_S2.jpg\n",
      "✅ Processed: s44_6_R_S2.jpg\n",
      "✅ Processed: s44_7_L_S2.jpg\n",
      "✅ Processed: s44_7_R_S2.jpg\n",
      "✅ Processed: s44_8_L_S2.jpg\n"
     ]
    },
    {
     "name": "stderr",
     "output_type": "stream",
     "text": [
      "Processing images:  62%|██████▏   | 1995/3200 [00:21<00:13, 91.67it/s]"
     ]
    },
    {
     "name": "stdout",
     "output_type": "stream",
     "text": [
      "✅ Processed: s44_8_R_S2.jpg\n",
      "✅ Processed: s44_9_L_S2.jpg\n",
      "✅ Processed: s44_9_R_S2.jpg\n",
      "✅ Processed: s45_10_L_S2.jpg\n",
      "✅ Processed: s45_10_R_S2.jpg\n",
      "✅ Processed: s45_1_L_S2.jpg\n",
      "✅ Processed: s45_1_R_S2.jpg\n",
      "✅ Processed: s45_2_L_S2.jpg\n",
      "✅ Processed: s45_2_R_S2.jpg\n",
      "✅ Processed: s45_3_L_S2.jpg\n",
      "✅ Processed: s45_3_R_S2.jpg\n",
      "✅ Processed: s45_4_L_S2.jpg\n",
      "✅ Processed: s45_4_R_S2.jpg\n",
      "✅ Processed: s45_5_L_S2.jpg\n",
      "✅ Processed: s45_5_R_S2.jpg\n",
      "✅ Processed: s45_6_L_S2.jpg\n",
      "✅ Processed: s45_6_R_S2.jpg\n",
      "✅ Processed: s45_7_L_S2.jpg\n"
     ]
    },
    {
     "name": "stderr",
     "output_type": "stream",
     "text": [
      "Processing images:  63%|██████▎   | 2005/3200 [00:21<00:13, 90.23it/s]"
     ]
    },
    {
     "name": "stdout",
     "output_type": "stream",
     "text": [
      "✅ Processed: s45_7_R_S2.jpg\n",
      "✅ Processed: s45_8_L_S2.jpg\n",
      "✅ Processed: s45_8_R_S2.jpg\n",
      "✅ Processed: s45_9_L_S2.jpg\n",
      "✅ Processed: s45_9_R_S2.jpg\n",
      "✅ Processed: s46_10_L_S2.jpg\n",
      "✅ Processed: s46_10_R_S2.jpg\n",
      "✅ Processed: s46_1_L_S2.jpg\n",
      "✅ Processed: s46_1_R_S2.jpg\n",
      "✅ Processed: s46_2_L_S2.jpg\n",
      "✅ Processed: s46_2_R_S2.jpg\n",
      "✅ Processed: s46_3_L_S2.jpg\n",
      "✅ Processed: s46_3_R_S2.jpg\n",
      "✅ Processed: s46_4_L_S2.jpg\n",
      "✅ Processed: s46_4_R_S2.jpg\n",
      "✅ Processed: s46_5_L_S2.jpg\n",
      "✅ Processed: s46_5_R_S2.jpg\n"
     ]
    },
    {
     "name": "stderr",
     "output_type": "stream",
     "text": [
      "Processing images:  63%|██████▎   | 2024/3200 [00:22<00:14, 81.76it/s]"
     ]
    },
    {
     "name": "stdout",
     "output_type": "stream",
     "text": [
      "✅ Processed: s46_6_L_S2.jpg\n",
      "✅ Processed: s46_6_R_S2.jpg\n",
      "✅ Processed: s46_7_L_S2.jpg\n",
      "✅ Processed: s46_7_R_S2.jpg\n",
      "✅ Processed: s46_8_L_S2.jpg\n",
      "✅ Processed: s46_8_R_S2.jpg\n",
      "✅ Processed: s46_9_L_S2.jpg\n",
      "✅ Processed: s46_9_R_S2.jpg\n",
      "✅ Processed: s47_10_L_S2.jpg\n",
      "✅ Processed: s47_10_R_S2.jpg\n",
      "✅ Processed: s47_1_L_S2.jpg\n",
      "✅ Processed: s47_1_R_S2.jpg\n",
      "✅ Processed: s47_2_L_S2.jpg\n",
      "✅ Processed: s47_2_R_S2.jpg\n"
     ]
    },
    {
     "name": "stderr",
     "output_type": "stream",
     "text": [
      "Processing images:  64%|██████▍   | 2041/3200 [00:22<00:14, 78.06it/s]"
     ]
    },
    {
     "name": "stdout",
     "output_type": "stream",
     "text": [
      "✅ Processed: s47_3_L_S2.jpg\n",
      "✅ Processed: s47_3_R_S2.jpg\n",
      "✅ Processed: s47_4_L_S2.jpg\n",
      "✅ Processed: s47_4_R_S2.jpg\n",
      "✅ Processed: s47_5_L_S2.jpg\n",
      "✅ Processed: s47_5_R_S2.jpg\n",
      "✅ Processed: s47_6_L_S2.jpg\n",
      "✅ Processed: s47_6_R_S2.jpg\n",
      "✅ Processed: s47_7_L_S2.jpg\n",
      "✅ Processed: s47_7_R_S2.jpg\n",
      "✅ Processed: s47_8_L_S2.jpg\n",
      "✅ Processed: s47_8_R_S2.jpg\n",
      "✅ Processed: s47_9_L_S2.jpg\n",
      "✅ Processed: s47_9_R_S2.jpg\n",
      "✅ Processed: s48_10_L_S2.jpg\n"
     ]
    },
    {
     "name": "stderr",
     "output_type": "stream",
     "text": [
      "Processing images:  64%|██████▍   | 2052/3200 [00:22<00:13, 86.61it/s]"
     ]
    },
    {
     "name": "stdout",
     "output_type": "stream",
     "text": [
      "✅ Processed: s48_10_R_S2.jpg\n",
      "✅ Processed: s48_1_L_S2.jpg\n",
      "✅ Processed: s48_1_R_S2.jpg\n",
      "✅ Processed: s48_2_L_S2.jpg\n",
      "✅ Processed: s48_2_R_S2.jpg\n",
      "✅ Processed: s48_3_L_S2.jpg\n",
      "✅ Processed: s48_3_R_S2.jpg\n",
      "✅ Processed: s48_4_L_S2.jpg\n",
      "✅ Processed: s48_4_R_S2.jpg\n",
      "✅ Processed: s48_5_L_S2.jpg\n",
      "✅ Processed: s48_5_R_S2.jpg\n",
      "✅ Processed: s48_6_L_S2.jpg\n",
      "✅ Processed: s48_6_R_S2.jpg\n",
      "✅ Processed: s48_7_L_S2.jpg\n",
      "✅ Processed: s48_7_R_S2.jpg\n",
      "✅ Processed: s48_8_L_S2.jpg\n",
      "✅ Processed: s48_8_R_S2.jpg\n",
      "✅ Processed: s48_9_L_S2.jpg\n",
      "✅ Processed: s48_9_R_S2.jpg\n",
      "✅ Processed: s49_10_L_S2.jpg\n",
      "✅ Processed: s49_10_R_S2.jpg\n"
     ]
    },
    {
     "name": "stderr",
     "output_type": "stream",
     "text": [
      "Processing images:  65%|██████▍   | 2073/3200 [00:22<00:15, 74.57it/s]"
     ]
    },
    {
     "name": "stdout",
     "output_type": "stream",
     "text": [
      "✅ Processed: s49_1_L_S2.jpg\n",
      "✅ Processed: s49_1_R_S2.jpg\n",
      "✅ Processed: s49_2_L_S2.jpg\n",
      "✅ Processed: s49_2_R_S2.jpg\n",
      "✅ Processed: s49_3_L_S2.jpg\n",
      "✅ Processed: s49_3_R_S2.jpg\n",
      "✅ Processed: s49_4_L_S2.jpg\n",
      "✅ Processed: s49_4_R_S2.jpg\n",
      "✅ Processed: s49_5_L_S2.jpg\n",
      "✅ Processed: s49_5_R_S2.jpg\n",
      "✅ Processed: s49_6_L_S2.jpg\n"
     ]
    },
    {
     "name": "stderr",
     "output_type": "stream",
     "text": [
      "Processing images:  65%|██████▌   | 2081/3200 [00:22<00:15, 72.83it/s]"
     ]
    },
    {
     "name": "stdout",
     "output_type": "stream",
     "text": [
      "✅ Processed: s49_6_R_S2.jpg\n",
      "✅ Processed: s49_7_L_S2.jpg\n",
      "✅ Processed: s49_7_R_S2.jpg\n",
      "✅ Processed: s49_8_L_S2.jpg\n",
      "✅ Processed: s49_8_R_S2.jpg\n",
      "✅ Processed: s49_9_L_S2.jpg\n",
      "✅ Processed: s49_9_R_S2.jpg\n",
      "✅ Processed: s4_10_L_S2.jpg\n",
      "✅ Processed: s4_10_R_S2.jpg\n",
      "✅ Processed: s4_1_L_S2.jpg\n",
      "✅ Processed: s4_1_R_S2.jpg\n",
      "✅ Processed: s4_2_L_S2.jpg\n",
      "✅ Processed: s4_2_R_S2.jpg\n"
     ]
    },
    {
     "name": "stderr",
     "output_type": "stream",
     "text": [
      "Processing images:  66%|██████▌   | 2097/3200 [00:23<00:15, 72.05it/s]"
     ]
    },
    {
     "name": "stdout",
     "output_type": "stream",
     "text": [
      "✅ Processed: s4_3_L_S2.jpg\n",
      "✅ Processed: s4_3_R_S2.jpg\n",
      "✅ Processed: s4_4_L_S2.jpg\n",
      "✅ Processed: s4_4_R_S2.jpg\n",
      "✅ Processed: s4_5_L_S2.jpg\n",
      "✅ Processed: s4_5_R_S2.jpg\n",
      "✅ Processed: s4_6_L_S2.jpg\n",
      "✅ Processed: s4_6_R_S2.jpg\n",
      "✅ Processed: s4_7_L_S2.jpg\n",
      "✅ Processed: s4_7_R_S2.jpg\n",
      "✅ Processed: s4_8_L_S2.jpg\n",
      "✅ Processed: s4_8_R_S2.jpg\n",
      "✅ Processed: s4_9_L_S2.jpg\n"
     ]
    },
    {
     "name": "stderr",
     "output_type": "stream",
     "text": [
      "Processing images:  66%|██████▌   | 2105/3200 [00:23<00:16, 67.03it/s]"
     ]
    },
    {
     "name": "stdout",
     "output_type": "stream",
     "text": [
      "✅ Processed: s4_9_R_S2.jpg\n",
      "✅ Processed: s50_10_L_S2.jpg\n",
      "✅ Processed: s50_10_R_S2.jpg\n",
      "✅ Processed: s50_1_L_S2.jpg\n",
      "✅ Processed: s50_1_R_S2.jpg\n",
      "✅ Processed: s50_2_L_S2.jpg\n",
      "✅ Processed: s50_2_R_S2.jpg\n",
      "✅ Processed: s50_3_L_S2.jpg\n",
      "✅ Processed: s50_3_R_S2.jpg\n",
      "✅ Processed: s50_4_L_S2.jpg\n"
     ]
    },
    {
     "name": "stderr",
     "output_type": "stream",
     "text": [
      "Processing images:  66%|██████▌   | 2118/3200 [00:23<00:20, 52.31it/s]"
     ]
    },
    {
     "name": "stdout",
     "output_type": "stream",
     "text": [
      "✅ Processed: s50_4_R_S2.jpg\n",
      "✅ Processed: s50_5_L_S2.jpg\n",
      "✅ Processed: s50_5_R_S2.jpg\n",
      "✅ Processed: s50_6_L_S2.jpg\n",
      "✅ Processed: s50_6_R_S2.jpg\n",
      "✅ Processed: s50_7_L_S2.jpg\n",
      "✅ Processed: s50_7_R_S2.jpg\n",
      "✅ Processed: s50_8_L_S2.jpg\n",
      "✅ Processed: s50_8_R_S2.jpg\n",
      "✅ Processed: s50_9_L_S2.jpg\n"
     ]
    },
    {
     "name": "stderr",
     "output_type": "stream",
     "text": [
      "Processing images:  67%|██████▋   | 2131/3200 [00:23<00:18, 58.01it/s]"
     ]
    },
    {
     "name": "stdout",
     "output_type": "stream",
     "text": [
      "✅ Processed: s50_9_R_S2.jpg\n",
      "✅ Processed: s51_10_L_S2.jpg\n",
      "✅ Processed: s51_10_R_S2.jpg\n",
      "✅ Processed: s51_1_L_S2.jpg\n",
      "✅ Processed: s51_1_R_S2.jpg\n",
      "✅ Processed: s51_2_L_S2.jpg\n",
      "✅ Processed: s51_2_R_S2.jpg\n",
      "✅ Processed: s51_3_L_S2.jpg\n",
      "✅ Processed: s51_3_R_S2.jpg\n",
      "✅ Processed: s51_4_L_S2.jpg\n",
      "✅ Processed: s51_4_R_S2.jpg\n",
      "✅ Processed: s51_5_L_S2.jpg\n",
      "✅ Processed: s51_5_R_S2.jpg\n"
     ]
    },
    {
     "name": "stderr",
     "output_type": "stream",
     "text": [
      "Processing images:  67%|██████▋   | 2138/3200 [00:23<00:17, 59.70it/s]"
     ]
    },
    {
     "name": "stdout",
     "output_type": "stream",
     "text": [
      "✅ Processed: s51_6_L_S2.jpg\n",
      "✅ Processed: s51_6_R_S2.jpg\n",
      "✅ Processed: s51_7_L_S2.jpg\n",
      "✅ Processed: s51_7_R_S2.jpg\n",
      "✅ Processed: s51_8_L_S2.jpg\n",
      "✅ Processed: s51_8_R_S2.jpg\n",
      "✅ Processed: s51_9_L_S2.jpg\n",
      "✅ Processed: s51_9_R_S2.jpg\n",
      "✅ Processed: s52_10_L_S2.jpg\n",
      "✅ Processed: s52_10_R_S2.jpg\n",
      "✅ Processed: s52_1_L_S2.jpg\n",
      "✅ Processed: s52_1_R_S2.jpg\n",
      "✅ Processed: s52_2_L_S2.jpg\n"
     ]
    },
    {
     "name": "stderr",
     "output_type": "stream",
     "text": [
      "Processing images:  67%|██████▋   | 2155/3200 [00:24<00:16, 62.40it/s]"
     ]
    },
    {
     "name": "stdout",
     "output_type": "stream",
     "text": [
      "✅ Processed: s52_2_R_S2.jpg\n",
      "✅ Processed: s52_3_L_S2.jpg\n",
      "✅ Processed: s52_3_R_S2.jpg\n",
      "✅ Processed: s52_4_L_S2.jpg\n",
      "✅ Processed: s52_4_R_S2.jpg\n",
      "✅ Processed: s52_5_L_S2.jpg\n",
      "✅ Processed: s52_5_R_S2.jpg\n",
      "✅ Processed: s52_6_L_S2.jpg\n",
      "✅ Processed: s52_6_R_S2.jpg\n",
      "✅ Processed: s52_7_L_S2.jpg\n",
      "✅ Processed: s52_7_R_S2.jpg\n",
      "✅ Processed: s52_8_L_S2.jpg\n",
      "✅ Processed: s52_8_R_S2.jpg\n",
      "✅ Processed: s52_9_L_S2.jpg\n",
      "✅ Processed: s52_9_R_S2.jpg\n",
      "✅ Processed: s53_10_L_S2.jpg\n",
      "✅ Processed: s53_10_R_S2.jpg\n"
     ]
    },
    {
     "name": "stderr",
     "output_type": "stream",
     "text": [
      "Processing images:  68%|██████▊   | 2173/3200 [00:24<00:15, 66.03it/s]"
     ]
    },
    {
     "name": "stdout",
     "output_type": "stream",
     "text": [
      "✅ Processed: s53_1_L_S2.jpg\n",
      "✅ Processed: s53_1_R_S2.jpg\n",
      "✅ Processed: s53_2_L_S2.jpg\n",
      "✅ Processed: s53_2_R_S2.jpg\n",
      "✅ Processed: s53_3_L_S2.jpg\n",
      "✅ Processed: s53_3_R_S2.jpg\n",
      "✅ Processed: s53_4_L_S2.jpg\n",
      "✅ Processed: s53_4_R_S2.jpg\n",
      "✅ Processed: s53_5_L_S2.jpg\n",
      "✅ Processed: s53_5_R_S2.jpg\n",
      "✅ Processed: s53_6_L_S2.jpg\n",
      "✅ Processed: s53_6_R_S2.jpg\n",
      "✅ Processed: s53_7_L_S2.jpg\n"
     ]
    },
    {
     "name": "stderr",
     "output_type": "stream",
     "text": [
      "Processing images:  68%|██████▊   | 2182/3200 [00:24<00:14, 71.66it/s]"
     ]
    },
    {
     "name": "stdout",
     "output_type": "stream",
     "text": [
      "✅ Processed: s53_7_R_S2.jpg\n",
      "✅ Processed: s53_8_L_S2.jpg\n",
      "✅ Processed: s53_8_R_S2.jpg\n",
      "✅ Processed: s53_9_L_S2.jpg\n",
      "✅ Processed: s53_9_R_S2.jpg\n",
      "✅ Processed: s54_10_L_S2.jpg\n",
      "✅ Processed: s54_10_R_S2.jpg\n",
      "✅ Processed: s54_1_L_S2.jpg\n",
      "✅ Processed: s54_1_R_S2.jpg\n",
      "✅ Processed: s54_2_L_S2.jpg\n",
      "✅ Processed: s54_2_R_S2.jpg\n",
      "✅ Processed: s54_3_L_S2.jpg\n",
      "✅ Processed: s54_3_R_S2.jpg\n"
     ]
    },
    {
     "name": "stderr",
     "output_type": "stream",
     "text": [
      "Processing images:  69%|██████▊   | 2199/3200 [00:24<00:13, 71.60it/s]"
     ]
    },
    {
     "name": "stdout",
     "output_type": "stream",
     "text": [
      "✅ Processed: s54_4_L_S2.jpg\n",
      "✅ Processed: s54_4_R_S2.jpg\n",
      "✅ Processed: s54_5_L_S2.jpg\n",
      "✅ Processed: s54_5_R_S2.jpg\n",
      "✅ Processed: s54_6_L_S2.jpg\n",
      "✅ Processed: s54_6_R_S2.jpg\n",
      "✅ Processed: s54_7_L_S2.jpg\n",
      "✅ Processed: s54_7_R_S2.jpg\n",
      "✅ Processed: s54_8_L_S2.jpg\n",
      "✅ Processed: s54_8_R_S2.jpg\n",
      "✅ Processed: s54_9_L_S2.jpg\n",
      "✅ Processed: s54_9_R_S2.jpg\n",
      "✅ Processed: s55_10_L_S2.jpg\n",
      "✅ Processed: s55_10_R_S2.jpg\n",
      "✅ Processed: s55_1_L_S2.jpg\n",
      "✅ Processed: s55_1_R_S2.jpg\n",
      "✅ Processed: s55_2_L_S2.jpg\n",
      "✅ Processed: s55_2_R_S2.jpg\n"
     ]
    },
    {
     "name": "stderr",
     "output_type": "stream",
     "text": [
      "Processing images:  69%|██████▉   | 2220/3200 [00:24<00:11, 85.14it/s]"
     ]
    },
    {
     "name": "stdout",
     "output_type": "stream",
     "text": [
      "✅ Processed: s55_3_L_S2.jpg\n",
      "✅ Processed: s55_3_R_S2.jpg\n",
      "✅ Processed: s55_4_L_S2.jpg\n",
      "✅ Processed: s55_4_R_S2.jpg\n",
      "✅ Processed: s55_5_L_S2.jpg\n",
      "✅ Processed: s55_5_R_S2.jpg\n",
      "✅ Processed: s55_6_L_S2.jpg\n",
      "✅ Processed: s55_6_R_S2.jpg\n",
      "✅ Processed: s55_7_L_S2.jpg\n",
      "✅ Processed: s55_7_R_S2.jpg\n",
      "✅ Processed: s55_8_L_S2.jpg\n",
      "✅ Processed: s55_8_R_S2.jpg\n",
      "✅ Processed: s55_9_L_S2.jpg\n",
      "✅ Processed: s55_9_R_S2.jpg\n",
      "✅ Processed: s56_10_L_S2.jpg\n",
      "✅ Processed: s56_10_R_S2.jpg\n",
      "✅ Processed: s56_1_L_S2.jpg\n",
      "✅ Processed: s56_1_R_S2.jpg\n",
      "✅ Processed: s56_2_L_S2.jpg\n"
     ]
    },
    {
     "name": "stderr",
     "output_type": "stream",
     "text": [
      "Processing images:  70%|███████   | 2240/3200 [00:25<00:11, 86.94it/s]"
     ]
    },
    {
     "name": "stdout",
     "output_type": "stream",
     "text": [
      "✅ Processed: s56_2_R_S2.jpg\n",
      "✅ Processed: s56_3_L_S2.jpg\n",
      "✅ Processed: s56_3_R_S2.jpg\n",
      "✅ Processed: s56_4_L_S2.jpg\n",
      "✅ Processed: s56_4_R_S2.jpg\n",
      "✅ Processed: s56_5_L_S2.jpg\n",
      "✅ Processed: s56_5_R_S2.jpg\n",
      "✅ Processed: s56_6_L_S2.jpg\n",
      "✅ Processed: s56_6_R_S2.jpg\n",
      "✅ Processed: s56_7_L_S2.jpg\n",
      "✅ Processed: s56_7_R_S2.jpg\n",
      "✅ Processed: s56_8_L_S2.jpg\n",
      "✅ Processed: s56_8_R_S2.jpg\n",
      "✅ Processed: s56_9_L_S2.jpg\n",
      "✅ Processed: s56_9_R_S2.jpg\n",
      "✅ Processed: s57_10_L_S2.jpg\n",
      "✅ Processed: s57_10_R_S2.jpg\n",
      "✅ Processed: s57_1_L_S2.jpg\n",
      "✅ Processed: s57_1_R_S2.jpg\n"
     ]
    },
    {
     "name": "stderr",
     "output_type": "stream",
     "text": [
      "Processing images:  71%|███████   | 2259/3200 [00:25<00:11, 82.51it/s]"
     ]
    },
    {
     "name": "stdout",
     "output_type": "stream",
     "text": [
      "✅ Processed: s57_2_L_S2.jpg\n",
      "✅ Processed: s57_2_R_S2.jpg\n",
      "✅ Processed: s57_3_L_S2.jpg\n",
      "✅ Processed: s57_3_R_S2.jpg\n",
      "✅ Processed: s57_4_L_S2.jpg\n",
      "✅ Processed: s57_4_R_S2.jpg\n",
      "✅ Processed: s57_5_L_S2.jpg\n",
      "✅ Processed: s57_5_R_S2.jpg\n",
      "✅ Processed: s57_6_L_S2.jpg\n",
      "✅ Processed: s57_6_R_S2.jpg\n",
      "✅ Processed: s57_7_L_S2.jpg\n",
      "✅ Processed: s57_7_R_S2.jpg\n",
      "✅ Processed: s57_8_L_S2.jpg\n",
      "✅ Processed: s57_8_R_S2.jpg\n",
      "✅ Processed: s57_9_L_S2.jpg\n"
     ]
    },
    {
     "name": "stderr",
     "output_type": "stream",
     "text": [
      "Processing images:  71%|███████   | 2273/3200 [00:25<00:09, 96.97it/s]"
     ]
    },
    {
     "name": "stdout",
     "output_type": "stream",
     "text": [
      "✅ Processed: s57_9_R_S2.jpg\n",
      "✅ Processed: s58_10_L_S2.jpg\n",
      "✅ Processed: s58_10_R_S2.jpg\n",
      "✅ Processed: s58_1_L_S2.jpg\n",
      "✅ Processed: s58_1_R_S2.jpg\n",
      "✅ Processed: s58_2_L_S2.jpg\n",
      "✅ Processed: s58_2_R_S2.jpg\n",
      "✅ Processed: s58_3_L_S2.jpg\n",
      "✅ Processed: s58_3_R_S2.jpg\n",
      "✅ Processed: s58_4_L_S2.jpg\n",
      "✅ Processed: s58_4_R_S2.jpg\n",
      "✅ Processed: s58_5_L_S2.jpg\n",
      "✅ Processed: s58_5_R_S2.jpg\n",
      "✅ Processed: s58_6_L_S2.jpg\n",
      "✅ Processed: s58_6_R_S2.jpg\n",
      "✅ Processed: s58_7_L_S2.jpg\n",
      "✅ Processed: s58_7_R_S2.jpg\n",
      "✅ Processed: s58_8_L_S2.jpg\n",
      "✅ Processed: s58_8_R_S2.jpg\n",
      "✅ Processed: s58_9_L_S2.jpg\n",
      "✅ Processed: s58_9_R_S2.jpg\n"
     ]
    },
    {
     "name": "stderr",
     "output_type": "stream",
     "text": [
      "Processing images:  72%|███████▏  | 2294/3200 [00:25<00:09, 95.54it/s]"
     ]
    },
    {
     "name": "stdout",
     "output_type": "stream",
     "text": [
      "✅ Processed: s59_10_L_S2.jpg\n",
      "✅ Processed: s59_10_R_S2.jpg\n",
      "✅ Processed: s59_1_L_S2.jpg\n",
      "✅ Processed: s59_1_R_S2.jpg\n",
      "✅ Processed: s59_2_L_S2.jpg\n",
      "✅ Processed: s59_2_R_S2.jpg\n",
      "✅ Processed: s59_3_L_S2.jpg\n",
      "✅ Processed: s59_3_R_S2.jpg\n",
      "✅ Processed: s59_4_L_S2.jpg\n",
      "✅ Processed: s59_4_R_S2.jpg\n",
      "✅ Processed: s59_5_L_S2.jpg\n",
      "✅ Processed: s59_5_R_S2.jpg\n",
      "✅ Processed: s59_6_L_S2.jpg\n",
      "✅ Processed: s59_6_R_S2.jpg\n",
      "✅ Processed: s59_7_L_S2.jpg\n",
      "✅ Processed: s59_7_R_S2.jpg\n",
      "✅ Processed: s59_8_L_S2.jpg\n"
     ]
    },
    {
     "name": "stderr",
     "output_type": "stream",
     "text": [
      "Processing images:  72%|███████▏  | 2313/3200 [00:26<00:10, 83.30it/s]"
     ]
    },
    {
     "name": "stdout",
     "output_type": "stream",
     "text": [
      "✅ Processed: s59_8_R_S2.jpg\n",
      "✅ Processed: s59_9_L_S2.jpg\n",
      "✅ Processed: s59_9_R_S2.jpg\n",
      "✅ Processed: s5_10_L_S2.jpg\n",
      "✅ Processed: s5_10_R_S2.jpg\n",
      "✅ Processed: s5_1_L_S2.jpg\n",
      "✅ Processed: s5_1_R_S2.jpg\n",
      "✅ Processed: s5_2_L_S2.jpg\n",
      "✅ Processed: s5_2_R_S2.jpg\n",
      "✅ Processed: s5_3_L_S2.jpg\n",
      "✅ Processed: s5_3_R_S2.jpg\n",
      "✅ Processed: s5_4_L_S2.jpg\n",
      "✅ Processed: s5_4_R_S2.jpg\n",
      "✅ Processed: s5_5_L_S2.jpg\n",
      "✅ Processed: s5_5_R_S2.jpg\n",
      "✅ Processed: s5_6_L_S2.jpg\n",
      "✅ Processed: s5_6_R_S2.jpg\n"
     ]
    },
    {
     "name": "stderr",
     "output_type": "stream",
     "text": [
      "Processing images:  73%|███████▎  | 2335/3200 [00:26<00:09, 90.87it/s]"
     ]
    },
    {
     "name": "stdout",
     "output_type": "stream",
     "text": [
      "✅ Processed: s5_7_L_S2.jpg\n",
      "✅ Processed: s5_7_R_S2.jpg\n",
      "✅ Processed: s5_8_L_S2.jpg\n",
      "✅ Processed: s5_8_R_S2.jpg\n",
      "✅ Processed: s5_9_L_S2.jpg\n",
      "✅ Processed: s5_9_R_S2.jpg\n",
      "✅ Processed: s60_10_L_S2.jpg\n",
      "✅ Processed: s60_10_R_S2.jpg\n",
      "✅ Processed: s60_1_L_S2.jpg\n",
      "✅ Processed: s60_1_R_S2.jpg\n",
      "✅ Processed: s60_2_L_S2.jpg\n",
      "✅ Processed: s60_2_R_S2.jpg\n",
      "✅ Processed: s60_3_L_S2.jpg\n",
      "✅ Processed: s60_3_R_S2.jpg\n",
      "✅ Processed: s60_4_L_S2.jpg\n",
      "✅ Processed: s60_4_R_S2.jpg\n",
      "✅ Processed: s60_5_L_S2.jpg\n",
      "✅ Processed: s60_5_R_S2.jpg\n",
      "✅ Processed: s60_6_L_S2.jpg\n",
      "✅ Processed: s60_6_R_S2.jpg\n",
      "✅ Processed: s60_7_L_S2.jpg\n"
     ]
    },
    {
     "name": "stderr",
     "output_type": "stream",
     "text": [
      "Processing images:  73%|███████▎  | 2345/3200 [00:26<00:09, 86.91it/s]"
     ]
    },
    {
     "name": "stdout",
     "output_type": "stream",
     "text": [
      "✅ Processed: s60_7_R_S2.jpg\n",
      "✅ Processed: s60_8_L_S2.jpg\n",
      "✅ Processed: s60_8_R_S2.jpg\n",
      "✅ Processed: s60_9_L_S2.jpg\n",
      "✅ Processed: s60_9_R_S2.jpg\n",
      "✅ Processed: s61_10_L_S2.jpg\n",
      "✅ Processed: s61_10_R_S2.jpg\n",
      "✅ Processed: s61_1_L_S2.jpg\n",
      "✅ Processed: s61_1_R_S2.jpg\n",
      "✅ Processed: s61_2_L_S2.jpg\n",
      "✅ Processed: s61_2_R_S2.jpg\n",
      "✅ Processed: s61_3_L_S2.jpg\n",
      "✅ Processed: s61_3_R_S2.jpg\n",
      "✅ Processed: s61_4_L_S2.jpg\n"
     ]
    },
    {
     "name": "stderr",
     "output_type": "stream",
     "text": [
      "Processing images:  74%|███████▎  | 2354/3200 [00:26<00:13, 60.67it/s]"
     ]
    },
    {
     "name": "stdout",
     "output_type": "stream",
     "text": [
      "✅ Processed: s61_4_R_S2.jpg\n",
      "✅ Processed: s61_5_L_S2.jpg\n",
      "✅ Processed: s61_5_R_S2.jpg\n",
      "✅ Processed: s61_6_L_S2.jpg\n",
      "✅ Processed: s61_6_R_S2.jpg\n",
      "✅ Processed: s61_7_L_S2.jpg\n",
      "✅ Processed: s61_7_R_S2.jpg\n",
      "✅ Processed: s61_8_L_S2.jpg\n",
      "✅ Processed: s61_8_R_S2.jpg\n",
      "✅ Processed: s61_9_L_S2.jpg\n"
     ]
    },
    {
     "name": "stderr",
     "output_type": "stream",
     "text": [
      "Processing images:  74%|███████▍  | 2377/3200 [00:26<00:10, 79.68it/s]"
     ]
    },
    {
     "name": "stdout",
     "output_type": "stream",
     "text": [
      "✅ Processed: s61_9_R_S2.jpg\n",
      "✅ Processed: s62_10_L_S2.jpg\n",
      "✅ Processed: s62_10_R_S2.jpg\n",
      "✅ Processed: s62_1_L_S2.jpg\n",
      "✅ Processed: s62_1_R_S2.jpg\n",
      "✅ Processed: s62_2_L_S2.jpg\n",
      "✅ Processed: s62_2_R_S2.jpg\n",
      "✅ Processed: s62_3_L_S2.jpg\n",
      "✅ Processed: s62_3_R_S2.jpg\n",
      "✅ Processed: s62_4_L_S2.jpg\n",
      "✅ Processed: s62_4_R_S2.jpg\n",
      "✅ Processed: s62_5_L_S2.jpg\n",
      "✅ Processed: s62_5_R_S2.jpg\n",
      "✅ Processed: s62_6_L_S2.jpg\n",
      "✅ Processed: s62_6_R_S2.jpg\n",
      "✅ Processed: s62_7_L_S2.jpg\n",
      "✅ Processed: s62_7_R_S2.jpg\n",
      "✅ Processed: s62_8_L_S2.jpg\n",
      "✅ Processed: s62_8_R_S2.jpg\n",
      "✅ Processed: s62_9_L_S2.jpg\n",
      "✅ Processed: s62_9_R_S2.jpg\n",
      "✅ Processed: s63_10_L_S2.jpg\n",
      "✅ Processed: s63_10_R_S2.jpg\n",
      "✅ Processed: s63_1_L_S2.jpg\n"
     ]
    },
    {
     "name": "stderr",
     "output_type": "stream",
     "text": [
      "Processing images:  75%|███████▍  | 2399/3200 [00:27<00:09, 87.47it/s]"
     ]
    },
    {
     "name": "stdout",
     "output_type": "stream",
     "text": [
      "✅ Processed: s63_1_R_S2.jpg\n",
      "✅ Processed: s63_2_L_S2.jpg\n",
      "✅ Processed: s63_2_R_S2.jpg\n",
      "✅ Processed: s63_3_L_S2.jpg\n",
      "✅ Processed: s63_3_R_S2.jpg\n",
      "✅ Processed: s63_4_L_S2.jpg\n",
      "✅ Processed: s63_4_R_S2.jpg\n",
      "✅ Processed: s63_5_L_S2.jpg\n",
      "✅ Processed: s63_5_R_S2.jpg\n",
      "✅ Processed: s63_6_L_S2.jpg\n",
      "✅ Processed: s63_6_R_S2.jpg\n",
      "✅ Processed: s63_7_L_S2.jpg\n",
      "✅ Processed: s63_7_R_S2.jpg\n",
      "✅ Processed: s63_8_L_S2.jpg\n",
      "✅ Processed: s63_8_R_S2.jpg\n",
      "✅ Processed: s63_9_L_S2.jpg\n",
      "✅ Processed: s63_9_R_S2.jpg\n"
     ]
    },
    {
     "name": "stderr",
     "output_type": "stream",
     "text": [
      "Processing images:  76%|███████▌  | 2419/3200 [00:27<00:08, 90.57it/s]"
     ]
    },
    {
     "name": "stdout",
     "output_type": "stream",
     "text": [
      "✅ Processed: s64_10_L_S2.jpg\n",
      "✅ Processed: s64_10_R_S2.jpg\n",
      "✅ Processed: s64_1_L_S2.jpg\n",
      "✅ Processed: s64_1_R_S2.jpg\n",
      "✅ Processed: s64_2_L_S2.jpg\n",
      "✅ Processed: s64_2_R_S2.jpg\n",
      "✅ Processed: s64_3_L_S2.jpg\n",
      "✅ Processed: s64_3_R_S2.jpg\n",
      "✅ Processed: s64_4_L_S2.jpg\n",
      "✅ Processed: s64_4_R_S2.jpg\n",
      "✅ Processed: s64_5_L_S2.jpg\n",
      "✅ Processed: s64_5_R_S2.jpg\n",
      "✅ Processed: s64_6_L_S2.jpg\n",
      "✅ Processed: s64_6_R_S2.jpg\n",
      "✅ Processed: s64_7_L_S2.jpg\n",
      "✅ Processed: s64_7_R_S2.jpg\n",
      "✅ Processed: s64_8_L_S2.jpg\n",
      "✅ Processed: s64_8_R_S2.jpg\n",
      "✅ Processed: s64_9_L_S2.jpg\n"
     ]
    },
    {
     "name": "stderr",
     "output_type": "stream",
     "text": [
      "Processing images:  76%|███████▌  | 2431/3200 [00:27<00:08, 94.66it/s]"
     ]
    },
    {
     "name": "stdout",
     "output_type": "stream",
     "text": [
      "✅ Processed: s64_9_R_S2.jpg\n",
      "✅ Processed: s65_10_L_S2.jpg\n",
      "✅ Processed: s65_10_R_S2.jpg\n",
      "✅ Processed: s65_1_L_S2.jpg\n",
      "✅ Processed: s65_1_R_S2.jpg\n",
      "✅ Processed: s65_2_L_S2.jpg\n",
      "✅ Processed: s65_2_R_S2.jpg\n",
      "✅ Processed: s65_3_L_S2.jpg\n",
      "✅ Processed: s65_3_R_S2.jpg\n",
      "✅ Processed: s65_4_L_S2.jpg\n",
      "✅ Processed: s65_4_R_S2.jpg\n",
      "✅ Processed: s65_5_L_S2.jpg\n",
      "✅ Processed: s65_5_R_S2.jpg\n",
      "✅ Processed: s65_6_L_S2.jpg\n",
      "✅ Processed: s65_6_R_S2.jpg\n",
      "✅ Processed: s65_7_L_S2.jpg\n",
      "✅ Processed: s65_7_R_S2.jpg\n",
      "✅ Processed: s65_8_L_S2.jpg\n",
      "✅ Processed: s65_8_R_S2.jpg\n",
      "✅ Processed: s65_9_L_S2.jpg\n",
      "✅ Processed: s65_9_R_S2.jpg\n",
      "✅ Processed: s66_10_L_S2.jpg\n",
      "✅ Processed: s66_10_R_S2.jpg\n",
      "✅ Processed: s66_1_L_S2.jpg\n"
     ]
    },
    {
     "name": "stderr",
     "output_type": "stream",
     "text": [
      "Processing images:  77%|███████▋  | 2455/3200 [00:27<00:07, 96.56it/s] "
     ]
    },
    {
     "name": "stdout",
     "output_type": "stream",
     "text": [
      "✅ Processed: s66_1_R_S2.jpg\n",
      "✅ Processed: s66_2_L_S2.jpg\n",
      "✅ Processed: s66_2_R_S2.jpg\n",
      "✅ Processed: s66_3_L_S2.jpg\n",
      "✅ Processed: s66_3_R_S2.jpg\n",
      "✅ Processed: s66_4_L_S2.jpg\n",
      "✅ Processed: s66_4_R_S2.jpg\n",
      "✅ Processed: s66_5_L_S2.jpg\n",
      "✅ Processed: s66_5_R_S2.jpg\n",
      "✅ Processed: s66_6_L_S2.jpg\n",
      "✅ Processed: s66_6_R_S2.jpg\n",
      "✅ Processed: s66_7_L_S2.jpg\n",
      "✅ Processed: s66_7_R_S2.jpg\n",
      "✅ Processed: s66_8_L_S2.jpg\n",
      "✅ Processed: s66_8_R_S2.jpg\n",
      "✅ Processed: s66_9_L_S2.jpg\n",
      "✅ Processed: s66_9_R_S2.jpg\n"
     ]
    },
    {
     "name": "stderr",
     "output_type": "stream",
     "text": [
      "Processing images:  77%|███████▋  | 2475/3200 [00:27<00:08, 87.75it/s]"
     ]
    },
    {
     "name": "stdout",
     "output_type": "stream",
     "text": [
      "✅ Processed: s67_10_L_S2.jpg\n",
      "✅ Processed: s67_10_R_S2.jpg\n",
      "✅ Processed: s67_1_L_S2.jpg\n",
      "✅ Processed: s67_1_R_S2.jpg\n",
      "✅ Processed: s67_2_L_S2.jpg\n",
      "✅ Processed: s67_2_R_S2.jpg\n",
      "✅ Processed: s67_3_L_S2.jpg\n",
      "✅ Processed: s67_3_R_S2.jpg\n",
      "✅ Processed: s67_4_L_S2.jpg\n",
      "✅ Processed: s67_4_R_S2.jpg\n",
      "✅ Processed: s67_5_L_S2.jpg\n",
      "✅ Processed: s67_5_R_S2.jpg\n",
      "✅ Processed: s67_6_L_S2.jpg\n",
      "✅ Processed: s67_6_R_S2.jpg\n",
      "✅ Processed: s67_7_L_S2.jpg\n",
      "✅ Processed: s67_7_R_S2.jpg\n"
     ]
    },
    {
     "name": "stderr",
     "output_type": "stream",
     "text": [
      "Processing images:  78%|███████▊  | 2484/3200 [00:27<00:08, 88.22it/s]"
     ]
    },
    {
     "name": "stdout",
     "output_type": "stream",
     "text": [
      "✅ Processed: s67_8_L_S2.jpg\n",
      "✅ Processed: s67_8_R_S2.jpg\n",
      "✅ Processed: s67_9_L_S2.jpg\n",
      "✅ Processed: s67_9_R_S2.jpg\n",
      "✅ Processed: s68_10_L_S2.jpg\n",
      "✅ Processed: s68_10_R_S2.jpg\n",
      "✅ Processed: s68_1_L_S2.jpg\n",
      "✅ Processed: s68_1_R_S2.jpg\n",
      "✅ Processed: s68_2_L_S2.jpg\n",
      "✅ Processed: s68_2_R_S2.jpg\n",
      "✅ Processed: s68_3_L_S2.jpg\n",
      "✅ Processed: s68_3_R_S2.jpg\n",
      "✅ Processed: s68_4_L_S2.jpg\n",
      "✅ Processed: s68_4_R_S2.jpg\n",
      "✅ Processed: s68_5_L_S2.jpg\n",
      "✅ Processed: s68_5_R_S2.jpg\n"
     ]
    },
    {
     "name": "stderr",
     "output_type": "stream",
     "text": [
      "Processing images:  78%|███████▊  | 2502/3200 [00:28<00:09, 76.16it/s]"
     ]
    },
    {
     "name": "stdout",
     "output_type": "stream",
     "text": [
      "✅ Processed: s68_6_L_S2.jpg\n",
      "✅ Processed: s68_6_R_S2.jpg\n",
      "✅ Processed: s68_7_L_S2.jpg\n",
      "✅ Processed: s68_7_R_S2.jpg\n",
      "✅ Processed: s68_8_L_S2.jpg\n",
      "✅ Processed: s68_8_R_S2.jpg\n",
      "✅ Processed: s68_9_L_S2.jpg\n",
      "✅ Processed: s68_9_R_S2.jpg\n",
      "✅ Processed: s69_10_L_S2.jpg\n",
      "✅ Processed: s69_10_R_S2.jpg\n",
      "✅ Processed: s69_1_L_S2.jpg\n",
      "✅ Processed: s69_1_R_S2.jpg\n",
      "✅ Processed: s69_2_L_S2.jpg\n",
      "✅ Processed: s69_2_R_S2.jpg\n",
      "✅ Processed: s69_3_L_S2.jpg\n"
     ]
    },
    {
     "name": "stderr",
     "output_type": "stream",
     "text": [
      "Processing images:  79%|███████▊  | 2519/3200 [00:28<00:08, 77.84it/s]"
     ]
    },
    {
     "name": "stdout",
     "output_type": "stream",
     "text": [
      "✅ Processed: s69_3_R_S2.jpg\n",
      "✅ Processed: s69_4_L_S2.jpg\n",
      "✅ Processed: s69_4_R_S2.jpg\n",
      "✅ Processed: s69_5_L_S2.jpg\n",
      "✅ Processed: s69_5_R_S2.jpg\n",
      "✅ Processed: s69_6_L_S2.jpg\n",
      "✅ Processed: s69_6_R_S2.jpg\n",
      "✅ Processed: s69_7_L_S2.jpg\n",
      "✅ Processed: s69_7_R_S2.jpg\n",
      "✅ Processed: s69_8_L_S2.jpg\n",
      "✅ Processed: s69_8_R_S2.jpg\n",
      "✅ Processed: s69_9_L_S2.jpg\n",
      "✅ Processed: s69_9_R_S2.jpg\n",
      "✅ Processed: s6_10_L_S2.jpg\n"
     ]
    },
    {
     "name": "stderr",
     "output_type": "stream",
     "text": [
      "Processing images:  79%|███████▉  | 2536/3200 [00:28<00:08, 80.13it/s]"
     ]
    },
    {
     "name": "stdout",
     "output_type": "stream",
     "text": [
      "✅ Processed: s6_10_R_S2.jpg\n",
      "✅ Processed: s6_1_L_S2.jpg\n",
      "✅ Processed: s6_1_R_S2.jpg\n",
      "✅ Processed: s6_2_L_S2.jpg\n",
      "✅ Processed: s6_2_R_S2.jpg\n",
      "✅ Processed: s6_3_L_S2.jpg\n",
      "✅ Processed: s6_3_R_S2.jpg\n",
      "✅ Processed: s6_4_L_S2.jpg\n",
      "✅ Processed: s6_4_R_S2.jpg\n",
      "✅ Processed: s6_5_L_S2.jpg\n",
      "✅ Processed: s6_5_R_S2.jpg\n",
      "✅ Processed: s6_6_L_S2.jpg\n",
      "✅ Processed: s6_6_R_S2.jpg\n",
      "✅ Processed: s6_7_L_S2.jpg\n",
      "✅ Processed: s6_7_R_S2.jpg\n",
      "✅ Processed: s6_8_L_S2.jpg\n",
      "✅ Processed: s6_8_R_S2.jpg\n",
      "✅ Processed: s6_9_L_S2.jpg\n"
     ]
    },
    {
     "name": "stderr",
     "output_type": "stream",
     "text": [
      "Processing images:  80%|███████▉  | 2555/3200 [00:28<00:07, 82.43it/s]"
     ]
    },
    {
     "name": "stdout",
     "output_type": "stream",
     "text": [
      "✅ Processed: s6_9_R_S2.jpg\n",
      "✅ Processed: s70_10_L_S2.jpg\n",
      "✅ Processed: s70_10_R_S2.jpg\n",
      "✅ Processed: s70_1_L_S2.jpg\n",
      "✅ Processed: s70_1_R_S2.jpg\n",
      "✅ Processed: s70_2_L_S2.jpg\n",
      "✅ Processed: s70_2_R_S2.jpg\n",
      "✅ Processed: s70_3_L_S2.jpg\n",
      "✅ Processed: s70_3_R_S2.jpg\n",
      "✅ Processed: s70_4_L_S2.jpg\n",
      "✅ Processed: s70_4_R_S2.jpg\n",
      "✅ Processed: s70_5_L_S2.jpg\n",
      "✅ Processed: s70_5_R_S2.jpg\n",
      "✅ Processed: s70_6_L_S2.jpg\n",
      "✅ Processed: s70_6_R_S2.jpg\n",
      "✅ Processed: s70_7_L_S2.jpg\n",
      "✅ Processed: s70_7_R_S2.jpg\n",
      "✅ Processed: s70_8_L_S2.jpg\n",
      "✅ Processed: s70_8_R_S2.jpg\n"
     ]
    },
    {
     "name": "stderr",
     "output_type": "stream",
     "text": [
      "Processing images:  80%|████████  | 2574/3200 [00:29<00:07, 81.85it/s]"
     ]
    },
    {
     "name": "stdout",
     "output_type": "stream",
     "text": [
      "✅ Processed: s70_9_L_S2.jpg\n",
      "✅ Processed: s70_9_R_S2.jpg\n",
      "✅ Processed: s71_10_L_S2.jpg\n",
      "✅ Processed: s71_10_R_S2.jpg\n",
      "✅ Processed: s71_1_L_S2.jpg\n",
      "✅ Processed: s71_1_R_S2.jpg\n",
      "✅ Processed: s71_2_L_S2.jpg\n",
      "✅ Processed: s71_2_R_S2.jpg\n",
      "✅ Processed: s71_3_L_S2.jpg\n",
      "✅ Processed: s71_3_R_S2.jpg\n",
      "✅ Processed: s71_4_L_S2.jpg\n",
      "✅ Processed: s71_4_R_S2.jpg\n",
      "✅ Processed: s71_5_L_S2.jpg\n",
      "✅ Processed: s71_5_R_S2.jpg\n",
      "✅ Processed: s71_6_L_S2.jpg\n",
      "✅ Processed: s71_6_R_S2.jpg\n"
     ]
    },
    {
     "name": "stderr",
     "output_type": "stream",
     "text": [
      "Processing images:  81%|████████  | 2583/3200 [00:29<00:07, 78.16it/s]"
     ]
    },
    {
     "name": "stdout",
     "output_type": "stream",
     "text": [
      "✅ Processed: s71_7_L_S2.jpg\n",
      "✅ Processed: s71_7_R_S2.jpg\n",
      "✅ Processed: s71_8_L_S2.jpg\n",
      "✅ Processed: s71_8_R_S2.jpg\n",
      "✅ Processed: s71_9_L_S2.jpg\n",
      "✅ Processed: s71_9_R_S2.jpg\n",
      "✅ Processed: s72_10_L_S2.jpg\n",
      "✅ Processed: s72_10_R_S2.jpg\n",
      "✅ Processed: s72_1_L_S2.jpg\n",
      "✅ Processed: s72_1_R_S2.jpg\n",
      "✅ Processed: s72_2_L_S2.jpg\n",
      "✅ Processed: s72_2_R_S2.jpg\n",
      "✅ Processed: s72_3_L_S2.jpg\n"
     ]
    },
    {
     "name": "stderr",
     "output_type": "stream",
     "text": [
      "Processing images:  81%|████████  | 2599/3200 [00:29<00:07, 78.68it/s]"
     ]
    },
    {
     "name": "stdout",
     "output_type": "stream",
     "text": [
      "✅ Processed: s72_3_R_S2.jpg\n",
      "✅ Processed: s72_4_L_S2.jpg\n",
      "✅ Processed: s72_4_R_S2.jpg\n",
      "✅ Processed: s72_5_L_S2.jpg\n",
      "✅ Processed: s72_5_R_S2.jpg\n",
      "✅ Processed: s72_6_L_S2.jpg\n",
      "✅ Processed: s72_6_R_S2.jpg\n",
      "✅ Processed: s72_7_L_S2.jpg\n",
      "✅ Processed: s72_7_R_S2.jpg\n",
      "✅ Processed: s72_8_L_S2.jpg\n",
      "✅ Processed: s72_8_R_S2.jpg\n",
      "✅ Processed: s72_9_L_S2.jpg\n",
      "✅ Processed: s72_9_R_S2.jpg\n",
      "✅ Processed: s73_10_L_S2.jpg\n",
      "✅ Processed: s73_10_R_S2.jpg\n"
     ]
    },
    {
     "name": "stderr",
     "output_type": "stream",
     "text": [
      "Processing images:  82%|████████▏ | 2616/3200 [00:29<00:07, 73.56it/s]"
     ]
    },
    {
     "name": "stdout",
     "output_type": "stream",
     "text": [
      "✅ Processed: s73_1_L_S2.jpg\n",
      "✅ Processed: s73_1_R_S2.jpg\n",
      "✅ Processed: s73_2_L_S2.jpg\n",
      "✅ Processed: s73_2_R_S2.jpg\n",
      "✅ Processed: s73_3_L_S2.jpg\n",
      "✅ Processed: s73_3_R_S2.jpg\n",
      "✅ Processed: s73_4_L_S2.jpg\n",
      "✅ Processed: s73_4_R_S2.jpg\n",
      "✅ Processed: s73_5_L_S2.jpg\n",
      "✅ Processed: s73_5_R_S2.jpg\n",
      "✅ Processed: s73_6_L_S2.jpg\n",
      "✅ Processed: s73_6_R_S2.jpg\n",
      "✅ Processed: s73_7_L_S2.jpg\n",
      "✅ Processed: s73_7_R_S2.jpg\n",
      "✅ Processed: s73_8_L_S2.jpg\n",
      "✅ Processed: s73_8_R_S2.jpg\n"
     ]
    },
    {
     "name": "stderr",
     "output_type": "stream",
     "text": [
      "Processing images:  82%|████████▏ | 2637/3200 [00:29<00:06, 82.99it/s]"
     ]
    },
    {
     "name": "stdout",
     "output_type": "stream",
     "text": [
      "✅ Processed: s73_9_L_S2.jpg\n",
      "✅ Processed: s73_9_R_S2.jpg\n",
      "✅ Processed: s74_10_L_S2.jpg\n",
      "✅ Processed: s74_10_R_S2.jpg\n",
      "✅ Processed: s74_1_L_S2.jpg\n",
      "✅ Processed: s74_1_R_S2.jpg\n",
      "✅ Processed: s74_2_L_S2.jpg\n",
      "✅ Processed: s74_2_R_S2.jpg\n",
      "✅ Processed: s74_3_L_S2.jpg\n",
      "✅ Processed: s74_3_R_S2.jpg\n",
      "✅ Processed: s74_4_L_S2.jpg\n",
      "✅ Processed: s74_4_R_S2.jpg\n",
      "✅ Processed: s74_5_L_S2.jpg\n",
      "✅ Processed: s74_5_R_S2.jpg\n",
      "✅ Processed: s74_6_L_S2.jpg\n",
      "✅ Processed: s74_6_R_S2.jpg\n",
      "✅ Processed: s74_7_L_S2.jpg\n",
      "✅ Processed: s74_7_R_S2.jpg\n",
      "✅ Processed: s74_8_L_S2.jpg\n"
     ]
    },
    {
     "name": "stderr",
     "output_type": "stream",
     "text": [
      "Processing images:  83%|████████▎ | 2649/3200 [00:30<00:05, 92.12it/s]"
     ]
    },
    {
     "name": "stdout",
     "output_type": "stream",
     "text": [
      "✅ Processed: s74_8_R_S2.jpg\n",
      "✅ Processed: s74_9_L_S2.jpg\n",
      "✅ Processed: s74_9_R_S2.jpg\n",
      "✅ Processed: s75_10_L_S2.jpg\n",
      "✅ Processed: s75_10_R_S2.jpg\n",
      "✅ Processed: s75_1_L_S2.jpg\n",
      "✅ Processed: s75_1_R_S2.jpg\n",
      "✅ Processed: s75_2_L_S2.jpg\n",
      "✅ Processed: s75_2_R_S2.jpg\n",
      "✅ Processed: s75_3_L_S2.jpg\n",
      "✅ Processed: s75_3_R_S2.jpg\n",
      "✅ Processed: s75_4_L_S2.jpg\n",
      "✅ Processed: s75_4_R_S2.jpg\n",
      "✅ Processed: s75_5_L_S2.jpg\n",
      "✅ Processed: s75_5_R_S2.jpg\n",
      "✅ Processed: s75_6_L_S2.jpg\n",
      "✅ Processed: s75_6_R_S2.jpg\n",
      "✅ Processed: s75_7_L_S2.jpg\n",
      "✅ Processed: s75_7_R_S2.jpg\n"
     ]
    },
    {
     "name": "stderr",
     "output_type": "stream",
     "text": [
      "Processing images:  83%|████████▎ | 2669/3200 [00:30<00:06, 86.19it/s]"
     ]
    },
    {
     "name": "stdout",
     "output_type": "stream",
     "text": [
      "✅ Processed: s75_8_L_S2.jpg\n",
      "✅ Processed: s75_8_R_S2.jpg\n",
      "✅ Processed: s75_9_L_S2.jpg\n",
      "✅ Processed: s75_9_R_S2.jpg\n",
      "✅ Processed: s76_10_L_S2.jpg\n",
      "✅ Processed: s76_10_R_S2.jpg\n",
      "✅ Processed: s76_1_L_S2.jpg\n",
      "✅ Processed: s76_1_R_S2.jpg\n",
      "✅ Processed: s76_2_L_S2.jpg\n",
      "✅ Processed: s76_2_R_S2.jpg\n",
      "✅ Processed: s76_3_L_S2.jpg\n",
      "✅ Processed: s76_3_R_S2.jpg\n",
      "✅ Processed: s76_4_L_S2.jpg\n",
      "✅ Processed: s76_4_R_S2.jpg\n",
      "✅ Processed: s76_5_L_S2.jpg\n",
      "✅ Processed: s76_5_R_S2.jpg\n",
      "✅ Processed: s76_6_L_S2.jpg\n"
     ]
    },
    {
     "name": "stderr",
     "output_type": "stream",
     "text": [
      "Processing images:  84%|████████▍ | 2688/3200 [00:30<00:05, 86.75it/s]"
     ]
    },
    {
     "name": "stdout",
     "output_type": "stream",
     "text": [
      "✅ Processed: s76_6_R_S2.jpg\n",
      "✅ Processed: s76_7_L_S2.jpg\n",
      "✅ Processed: s76_7_R_S2.jpg\n",
      "✅ Processed: s76_8_L_S2.jpg\n",
      "✅ Processed: s76_8_R_S2.jpg\n",
      "✅ Processed: s76_9_L_S2.jpg\n",
      "✅ Processed: s76_9_R_S2.jpg\n",
      "✅ Processed: s77_10_L_S2.jpg\n",
      "✅ Processed: s77_10_R_S2.jpg\n",
      "✅ Processed: s77_1_L_S2.jpg\n",
      "✅ Processed: s77_1_R_S2.jpg\n",
      "✅ Processed: s77_2_L_S2.jpg\n",
      "✅ Processed: s77_2_R_S2.jpg\n",
      "✅ Processed: s77_3_L_S2.jpg\n",
      "✅ Processed: s77_3_R_S2.jpg\n",
      "✅ Processed: s77_4_L_S2.jpg\n",
      "✅ Processed: s77_4_R_S2.jpg\n"
     ]
    },
    {
     "name": "stderr",
     "output_type": "stream",
     "text": [
      "Processing images:  85%|████████▍ | 2708/3200 [00:30<00:05, 88.50it/s]"
     ]
    },
    {
     "name": "stdout",
     "output_type": "stream",
     "text": [
      "✅ Processed: s77_5_L_S2.jpg\n",
      "✅ Processed: s77_5_R_S2.jpg\n",
      "✅ Processed: s77_6_L_S2.jpg\n",
      "✅ Processed: s77_6_R_S2.jpg\n",
      "✅ Processed: s77_7_L_S2.jpg\n",
      "✅ Processed: s77_7_R_S2.jpg\n",
      "✅ Processed: s77_8_L_S2.jpg\n",
      "✅ Processed: s77_8_R_S2.jpg\n",
      "✅ Processed: s77_9_L_S2.jpg\n",
      "✅ Processed: s77_9_R_S2.jpg\n",
      "✅ Processed: s78_10_L_S2.jpg\n",
      "✅ Processed: s78_10_R_S2.jpg\n",
      "✅ Processed: s78_1_L_S2.jpg\n",
      "✅ Processed: s78_1_R_S2.jpg\n",
      "✅ Processed: s78_2_L_S2.jpg\n",
      "✅ Processed: s78_2_R_S2.jpg\n",
      "✅ Processed: s78_3_L_S2.jpg\n",
      "✅ Processed: s78_3_R_S2.jpg\n",
      "✅ Processed: s78_4_L_S2.jpg\n",
      "✅ Processed: s78_4_R_S2.jpg\n"
     ]
    },
    {
     "name": "stderr",
     "output_type": "stream",
     "text": [
      "Processing images:  85%|████████▌ | 2727/3200 [00:30<00:05, 85.00it/s]"
     ]
    },
    {
     "name": "stdout",
     "output_type": "stream",
     "text": [
      "✅ Processed: s78_5_L_S2.jpg\n",
      "✅ Processed: s78_5_R_S2.jpg\n",
      "✅ Processed: s78_6_L_S2.jpg\n",
      "✅ Processed: s78_6_R_S2.jpg\n",
      "✅ Processed: s78_7_L_S2.jpg\n",
      "✅ Processed: s78_7_R_S2.jpg\n",
      "✅ Processed: s78_8_L_S2.jpg\n",
      "✅ Processed: s78_8_R_S2.jpg\n",
      "✅ Processed: s78_9_L_S2.jpg\n",
      "✅ Processed: s78_9_R_S2.jpg\n",
      "✅ Processed: s79_10_L_S2.jpg\n",
      "✅ Processed: s79_10_R_S2.jpg\n",
      "✅ Processed: s79_1_L_S2.jpg\n",
      "✅ Processed: s79_1_R_S2.jpg\n",
      "✅ Processed: s79_2_L_S2.jpg\n",
      "✅ Processed: s79_2_R_S2.jpg\n",
      "✅ Processed: s79_3_L_S2.jpg\n"
     ]
    },
    {
     "name": "stderr",
     "output_type": "stream",
     "text": [
      "Processing images:  86%|████████▌ | 2736/3200 [00:31<00:05, 86.11it/s]"
     ]
    },
    {
     "name": "stdout",
     "output_type": "stream",
     "text": [
      "✅ Processed: s79_3_R_S2.jpg\n",
      "✅ Processed: s79_4_L_S2.jpg\n",
      "✅ Processed: s79_4_R_S2.jpg\n",
      "✅ Processed: s79_5_L_S2.jpg\n",
      "✅ Processed: s79_5_R_S2.jpg\n",
      "✅ Processed: s79_6_L_S2.jpg\n",
      "✅ Processed: s79_6_R_S2.jpg\n",
      "✅ Processed: s79_7_L_S2.jpg\n",
      "✅ Processed: s79_7_R_S2.jpg\n",
      "✅ Processed: s79_8_L_S2.jpg\n",
      "✅ Processed: s79_8_R_S2.jpg\n",
      "✅ Processed: s79_9_L_S2.jpg\n",
      "✅ Processed: s79_9_R_S2.jpg\n",
      "✅ Processed: s7_10_L_S2.jpg\n",
      "✅ Processed: s7_10_R_S2.jpg\n",
      "✅ Processed: s7_1_L_S2.jpg\n",
      "✅ Processed: s7_1_R_S2.jpg\n"
     ]
    },
    {
     "name": "stderr",
     "output_type": "stream",
     "text": [
      "Processing images:  86%|████████▌ | 2756/3200 [00:31<00:04, 90.36it/s]"
     ]
    },
    {
     "name": "stdout",
     "output_type": "stream",
     "text": [
      "✅ Processed: s7_2_L_S2.jpg\n",
      "✅ Processed: s7_2_R_S2.jpg\n",
      "✅ Processed: s7_3_L_S2.jpg\n",
      "✅ Processed: s7_3_R_S2.jpg\n",
      "✅ Processed: s7_4_L_S2.jpg\n",
      "✅ Processed: s7_4_R_S2.jpg\n",
      "✅ Processed: s7_5_L_S2.jpg\n",
      "✅ Processed: s7_5_R_S2.jpg\n",
      "✅ Processed: s7_6_L_S2.jpg\n",
      "✅ Processed: s7_6_R_S2.jpg\n",
      "✅ Processed: s7_7_L_S2.jpg\n",
      "✅ Processed: s7_7_R_S2.jpg\n",
      "✅ Processed: s7_8_L_S2.jpg\n",
      "✅ Processed: s7_8_R_S2.jpg\n",
      "✅ Processed: s7_9_L_S2.jpg\n",
      "✅ Processed: s7_9_R_S2.jpg\n",
      "✅ Processed: s80_10_L_S2.jpg\n",
      "✅ Processed: s80_10_R_S2.jpg\n",
      "✅ Processed: s80_1_L_S2.jpg\n",
      "✅ Processed: s80_1_R_S2.jpg\n"
     ]
    },
    {
     "name": "stderr",
     "output_type": "stream",
     "text": [
      "Processing images:  87%|████████▋ | 2776/3200 [00:31<00:04, 90.91it/s]"
     ]
    },
    {
     "name": "stdout",
     "output_type": "stream",
     "text": [
      "✅ Processed: s80_2_L_S2.jpg\n",
      "✅ Processed: s80_2_R_S2.jpg\n",
      "✅ Processed: s80_3_L_S2.jpg\n",
      "✅ Processed: s80_3_R_S2.jpg\n",
      "✅ Processed: s80_4_L_S2.jpg\n",
      "✅ Processed: s80_4_R_S2.jpg\n",
      "✅ Processed: s80_5_L_S2.jpg\n",
      "✅ Processed: s80_5_R_S2.jpg\n",
      "✅ Processed: s80_6_L_S2.jpg\n",
      "✅ Processed: s80_6_R_S2.jpg\n",
      "✅ Processed: s80_7_L_S2.jpg\n",
      "✅ Processed: s80_7_R_S2.jpg\n",
      "✅ Processed: s80_8_L_S2.jpg\n",
      "✅ Processed: s80_8_R_S2.jpg\n",
      "✅ Processed: s80_9_L_S2.jpg\n",
      "✅ Processed: s80_9_R_S2.jpg\n",
      "✅ Processed: s81_10_L_S2.jpg\n",
      "✅ Processed: s81_10_R_S2.jpg\n",
      "✅ Processed: s81_1_L_S2.jpg\n"
     ]
    },
    {
     "name": "stderr",
     "output_type": "stream",
     "text": [
      "Processing images:  87%|████████▋ | 2795/3200 [00:31<00:04, 85.21it/s]"
     ]
    },
    {
     "name": "stdout",
     "output_type": "stream",
     "text": [
      "✅ Processed: s81_1_R_S2.jpg\n",
      "✅ Processed: s81_2_L_S2.jpg\n",
      "✅ Processed: s81_2_R_S2.jpg\n",
      "✅ Processed: s81_3_L_S2.jpg\n",
      "✅ Processed: s81_3_R_S2.jpg\n",
      "✅ Processed: s81_4_L_S2.jpg\n",
      "✅ Processed: s81_4_R_S2.jpg\n",
      "✅ Processed: s81_5_L_S2.jpg\n",
      "✅ Processed: s81_5_R_S2.jpg\n",
      "✅ Processed: s81_6_L_S2.jpg\n",
      "✅ Processed: s81_6_R_S2.jpg\n",
      "✅ Processed: s81_7_L_S2.jpg\n",
      "✅ Processed: s81_7_R_S2.jpg\n",
      "✅ Processed: s81_8_L_S2.jpg\n",
      "✅ Processed: s81_8_R_S2.jpg\n",
      "✅ Processed: s81_9_L_S2.jpg\n",
      "✅ Processed: s81_9_R_S2.jpg\n"
     ]
    },
    {
     "name": "stderr",
     "output_type": "stream",
     "text": [
      "Processing images:  88%|████████▊ | 2814/3200 [00:31<00:04, 84.94it/s]"
     ]
    },
    {
     "name": "stdout",
     "output_type": "stream",
     "text": [
      "✅ Processed: s82_10_L_S2.jpg\n",
      "✅ Processed: s82_10_R_S2.jpg\n",
      "✅ Processed: s82_1_L_S2.jpg\n",
      "✅ Processed: s82_1_R_S2.jpg\n",
      "✅ Processed: s82_2_L_S2.jpg\n",
      "✅ Processed: s82_2_R_S2.jpg\n",
      "✅ Processed: s82_3_L_S2.jpg\n",
      "✅ Processed: s82_3_R_S2.jpg\n",
      "✅ Processed: s82_4_L_S2.jpg\n",
      "✅ Processed: s82_4_R_S2.jpg\n",
      "✅ Processed: s82_5_L_S2.jpg\n",
      "✅ Processed: s82_5_R_S2.jpg\n",
      "✅ Processed: s82_6_L_S2.jpg\n",
      "✅ Processed: s82_6_R_S2.jpg\n",
      "✅ Processed: s82_7_L_S2.jpg\n",
      "✅ Processed: s82_7_R_S2.jpg\n",
      "✅ Processed: s82_8_L_S2.jpg\n",
      "✅ Processed: s82_8_R_S2.jpg\n",
      "✅ Processed: s82_9_L_S2.jpg\n"
     ]
    },
    {
     "name": "stderr",
     "output_type": "stream",
     "text": [
      "Processing images:  88%|████████▊ | 2832/3200 [00:32<00:04, 84.03it/s]"
     ]
    },
    {
     "name": "stdout",
     "output_type": "stream",
     "text": [
      "✅ Processed: s82_9_R_S2.jpg\n",
      "✅ Processed: s83_10_L_S2.jpg\n",
      "✅ Processed: s83_10_R_S2.jpg\n",
      "✅ Processed: s83_1_L_S2.jpg\n",
      "✅ Processed: s83_1_R_S2.jpg\n",
      "✅ Processed: s83_2_L_S2.jpg\n",
      "✅ Processed: s83_2_R_S2.jpg\n",
      "✅ Processed: s83_3_L_S2.jpg\n",
      "✅ Processed: s83_3_R_S2.jpg\n",
      "✅ Processed: s83_4_L_S2.jpg\n",
      "✅ Processed: s83_4_R_S2.jpg\n",
      "✅ Processed: s83_5_L_S2.jpg\n",
      "✅ Processed: s83_5_R_S2.jpg\n",
      "✅ Processed: s83_6_L_S2.jpg\n",
      "✅ Processed: s83_6_R_S2.jpg\n",
      "✅ Processed: s83_7_L_S2.jpg\n",
      "✅ Processed: s83_7_R_S2.jpg\n",
      "✅ Processed: s83_8_L_S2.jpg\n",
      "✅ Processed: s83_8_R_S2.jpg\n"
     ]
    },
    {
     "name": "stderr",
     "output_type": "stream",
     "text": [
      "Processing images:  89%|████████▉ | 2852/3200 [00:32<00:03, 87.49it/s]"
     ]
    },
    {
     "name": "stdout",
     "output_type": "stream",
     "text": [
      "✅ Processed: s83_9_L_S2.jpg\n",
      "✅ Processed: s83_9_R_S2.jpg\n",
      "✅ Processed: s84_10_L_S2.jpg\n",
      "✅ Processed: s84_10_R_S2.jpg\n",
      "✅ Processed: s84_1_L_S2.jpg\n",
      "✅ Processed: s84_1_R_S2.jpg\n",
      "✅ Processed: s84_2_L_S2.jpg\n",
      "✅ Processed: s84_2_R_S2.jpg\n",
      "✅ Processed: s84_3_L_S2.jpg\n",
      "✅ Processed: s84_3_R_S2.jpg\n",
      "✅ Processed: s84_4_L_S2.jpg\n",
      "✅ Processed: s84_4_R_S2.jpg\n",
      "✅ Processed: s84_5_L_S2.jpg\n",
      "✅ Processed: s84_5_R_S2.jpg\n",
      "✅ Processed: s84_6_L_S2.jpg\n",
      "✅ Processed: s84_6_R_S2.jpg\n",
      "✅ Processed: s84_7_L_S2.jpg\n"
     ]
    },
    {
     "name": "stderr",
     "output_type": "stream",
     "text": [
      "Processing images:  90%|████████▉ | 2871/3200 [00:32<00:03, 85.13it/s]"
     ]
    },
    {
     "name": "stdout",
     "output_type": "stream",
     "text": [
      "✅ Processed: s84_7_R_S2.jpg\n",
      "✅ Processed: s84_8_L_S2.jpg\n",
      "✅ Processed: s84_8_R_S2.jpg\n",
      "✅ Processed: s84_9_L_S2.jpg\n",
      "✅ Processed: s84_9_R_S2.jpg\n",
      "✅ Processed: s85_10_L_S2.jpg\n",
      "✅ Processed: s85_10_R_S2.jpg\n",
      "✅ Processed: s85_1_L_S2.jpg\n",
      "✅ Processed: s85_1_R_S2.jpg\n",
      "✅ Processed: s85_2_L_S2.jpg\n",
      "✅ Processed: s85_2_R_S2.jpg\n",
      "✅ Processed: s85_3_L_S2.jpg\n",
      "✅ Processed: s85_3_R_S2.jpg\n",
      "✅ Processed: s85_4_L_S2.jpg\n",
      "✅ Processed: s85_4_R_S2.jpg\n",
      "✅ Processed: s85_5_L_S2.jpg\n"
     ]
    },
    {
     "name": "stderr",
     "output_type": "stream",
     "text": [
      "Processing images:  90%|█████████ | 2880/3200 [00:32<00:03, 81.56it/s]"
     ]
    },
    {
     "name": "stdout",
     "output_type": "stream",
     "text": [
      "✅ Processed: s85_5_R_S2.jpg\n",
      "✅ Processed: s85_6_L_S2.jpg\n",
      "✅ Processed: s85_6_R_S2.jpg\n",
      "✅ Processed: s85_7_L_S2.jpg\n",
      "✅ Processed: s85_7_R_S2.jpg\n",
      "✅ Processed: s85_8_L_S2.jpg\n",
      "✅ Processed: s85_8_R_S2.jpg\n",
      "✅ Processed: s85_9_L_S2.jpg\n",
      "✅ Processed: s85_9_R_S2.jpg\n",
      "✅ Processed: s86_10_L_S2.jpg\n",
      "✅ Processed: s86_10_R_S2.jpg\n",
      "✅ Processed: s86_1_L_S2.jpg\n",
      "✅ Processed: s86_1_R_S2.jpg\n",
      "✅ Processed: s86_2_L_S2.jpg\n",
      "✅ Processed: s86_2_R_S2.jpg\n",
      "✅ Processed: s86_3_L_S2.jpg\n"
     ]
    },
    {
     "name": "stderr",
     "output_type": "stream",
     "text": [
      "Processing images:  91%|█████████ | 2899/3200 [00:32<00:03, 85.62it/s]"
     ]
    },
    {
     "name": "stdout",
     "output_type": "stream",
     "text": [
      "✅ Processed: s86_3_R_S2.jpg\n",
      "✅ Processed: s86_4_L_S2.jpg\n",
      "✅ Processed: s86_4_R_S2.jpg\n",
      "✅ Processed: s86_5_L_S2.jpg\n",
      "✅ Processed: s86_5_R_S2.jpg\n",
      "✅ Processed: s86_6_L_S2.jpg\n",
      "✅ Processed: s86_6_R_S2.jpg\n",
      "✅ Processed: s86_7_L_S2.jpg\n",
      "✅ Processed: s86_7_R_S2.jpg\n",
      "✅ Processed: s86_8_L_S2.jpg\n",
      "✅ Processed: s86_8_R_S2.jpg\n",
      "✅ Processed: s86_9_L_S2.jpg\n",
      "✅ Processed: s86_9_R_S2.jpg\n",
      "✅ Processed: s87_10_L_S2.jpg\n",
      "✅ Processed: s87_10_R_S2.jpg\n",
      "✅ Processed: s87_1_L_S2.jpg\n",
      "✅ Processed: s87_1_R_S2.jpg\n",
      "✅ Processed: s87_2_L_S2.jpg\n"
     ]
    },
    {
     "name": "stderr",
     "output_type": "stream",
     "text": [
      "Processing images:  91%|█████████ | 2917/3200 [00:33<00:03, 85.67it/s]"
     ]
    },
    {
     "name": "stdout",
     "output_type": "stream",
     "text": [
      "✅ Processed: s87_2_R_S2.jpg\n",
      "✅ Processed: s87_3_L_S2.jpg\n",
      "✅ Processed: s87_3_R_S2.jpg\n",
      "✅ Processed: s87_4_L_S2.jpg\n",
      "✅ Processed: s87_4_R_S2.jpg\n",
      "✅ Processed: s87_5_L_S2.jpg\n",
      "✅ Processed: s87_5_R_S2.jpg\n",
      "✅ Processed: s87_6_L_S2.jpg\n",
      "✅ Processed: s87_6_R_S2.jpg\n",
      "✅ Processed: s87_7_L_S2.jpg\n",
      "✅ Processed: s87_7_R_S2.jpg\n",
      "✅ Processed: s87_8_L_S2.jpg\n",
      "✅ Processed: s87_8_R_S2.jpg\n",
      "✅ Processed: s87_9_L_S2.jpg\n",
      "✅ Processed: s87_9_R_S2.jpg\n",
      "✅ Processed: s88_10_L_S2.jpg\n",
      "✅ Processed: s88_10_R_S2.jpg\n",
      "✅ Processed: s88_1_L_S2.jpg\n",
      "✅ Processed: s88_1_R_S2.jpg\n",
      "✅ Processed: s88_2_L_S2.jpg\n"
     ]
    },
    {
     "name": "stderr",
     "output_type": "stream",
     "text": [
      "Processing images:  92%|█████████▏| 2939/3200 [00:33<00:02, 93.07it/s]"
     ]
    },
    {
     "name": "stdout",
     "output_type": "stream",
     "text": [
      "✅ Processed: s88_2_R_S2.jpg\n",
      "✅ Processed: s88_3_L_S2.jpg\n",
      "✅ Processed: s88_3_R_S2.jpg\n",
      "✅ Processed: s88_4_L_S2.jpg\n",
      "✅ Processed: s88_4_R_S2.jpg\n",
      "✅ Processed: s88_5_L_S2.jpg\n",
      "✅ Processed: s88_5_R_S2.jpg\n",
      "✅ Processed: s88_6_L_S2.jpg\n",
      "✅ Processed: s88_6_R_S2.jpg\n",
      "✅ Processed: s88_7_L_S2.jpg\n",
      "✅ Processed: s88_7_R_S2.jpg\n",
      "✅ Processed: s88_8_L_S2.jpg\n",
      "✅ Processed: s88_8_R_S2.jpg\n",
      "✅ Processed: s88_9_L_S2.jpg\n",
      "✅ Processed: s88_9_R_S2.jpg\n",
      "✅ Processed: s89_10_L_S2.jpg\n",
      "✅ Processed: s89_10_R_S2.jpg\n",
      "✅ Processed: s89_1_L_S2.jpg\n",
      "✅ Processed: s89_1_R_S2.jpg\n",
      "✅ Processed: s89_2_L_S2.jpg\n",
      "✅ Processed: s89_2_R_S2.jpg\n"
     ]
    },
    {
     "name": "stderr",
     "output_type": "stream",
     "text": [
      "Processing images:  92%|█████████▏| 2959/3200 [00:33<00:02, 89.45it/s]"
     ]
    },
    {
     "name": "stdout",
     "output_type": "stream",
     "text": [
      "✅ Processed: s89_3_L_S2.jpg\n",
      "✅ Processed: s89_3_R_S2.jpg\n",
      "✅ Processed: s89_4_L_S2.jpg\n",
      "✅ Processed: s89_4_R_S2.jpg\n",
      "✅ Processed: s89_5_L_S2.jpg\n",
      "✅ Processed: s89_5_R_S2.jpg\n",
      "✅ Processed: s89_6_L_S2.jpg\n",
      "✅ Processed: s89_6_R_S2.jpg\n",
      "✅ Processed: s89_7_L_S2.jpg\n",
      "✅ Processed: s89_7_R_S2.jpg\n",
      "✅ Processed: s89_8_L_S2.jpg\n",
      "✅ Processed: s89_8_R_S2.jpg\n",
      "✅ Processed: s89_9_L_S2.jpg\n",
      "✅ Processed: s89_9_R_S2.jpg\n",
      "✅ Processed: s8_10_L_S2.jpg\n"
     ]
    },
    {
     "name": "stderr",
     "output_type": "stream",
     "text": [
      "Processing images:  93%|█████████▎| 2977/3200 [00:33<00:02, 89.11it/s]"
     ]
    },
    {
     "name": "stdout",
     "output_type": "stream",
     "text": [
      "✅ Processed: s8_10_R_S2.jpg\n",
      "✅ Processed: s8_1_L_S2.jpg\n",
      "✅ Processed: s8_1_R_S2.jpg\n",
      "✅ Processed: s8_2_L_S2.jpg\n",
      "✅ Processed: s8_2_R_S2.jpg\n",
      "✅ Processed: s8_3_L_S2.jpg\n",
      "✅ Processed: s8_3_R_S2.jpg\n",
      "✅ Processed: s8_4_L_S2.jpg\n",
      "✅ Processed: s8_4_R_S2.jpg\n",
      "✅ Processed: s8_5_L_S2.jpg\n",
      "✅ Processed: s8_5_R_S2.jpg\n",
      "✅ Processed: s8_6_L_S2.jpg\n",
      "✅ Processed: s8_6_R_S2.jpg\n",
      "✅ Processed: s8_7_L_S2.jpg\n",
      "✅ Processed: s8_7_R_S2.jpg\n",
      "✅ Processed: s8_8_L_S2.jpg\n",
      "✅ Processed: s8_8_R_S2.jpg\n",
      "✅ Processed: s8_9_L_S2.jpg\n",
      "✅ Processed: s8_9_R_S2.jpg\n"
     ]
    },
    {
     "name": "stderr",
     "output_type": "stream",
     "text": [
      "Processing images:  94%|█████████▍| 3001/3200 [00:34<00:01, 103.06it/s]"
     ]
    },
    {
     "name": "stdout",
     "output_type": "stream",
     "text": [
      "✅ Processed: s90_10_L_S2.jpg\n",
      "✅ Processed: s90_10_R_S2.jpg\n",
      "✅ Processed: s90_1_L_S2.jpg\n",
      "✅ Processed: s90_1_R_S2.jpg\n",
      "✅ Processed: s90_2_L_S2.jpg\n",
      "✅ Processed: s90_2_R_S2.jpg\n",
      "✅ Processed: s90_3_L_S2.jpg\n",
      "✅ Processed: s90_3_R_S2.jpg\n",
      "✅ Processed: s90_4_L_S2.jpg\n",
      "✅ Processed: s90_4_R_S2.jpg\n",
      "✅ Processed: s90_5_L_S2.jpg\n",
      "✅ Processed: s90_5_R_S2.jpg\n",
      "✅ Processed: s90_6_L_S2.jpg\n",
      "✅ Processed: s90_6_R_S2.jpg\n",
      "✅ Processed: s90_7_L_S2.jpg\n",
      "✅ Processed: s90_7_R_S2.jpg\n",
      "✅ Processed: s90_8_L_S2.jpg\n",
      "✅ Processed: s90_8_R_S2.jpg\n",
      "✅ Processed: s90_9_L_S2.jpg\n",
      "✅ Processed: s90_9_R_S2.jpg\n",
      "✅ Processed: s91_10_L_S2.jpg\n",
      "✅ Processed: s91_10_R_S2.jpg\n",
      "✅ Processed: s91_1_L_S2.jpg\n",
      "✅ Processed: s91_1_R_S2.jpg\n",
      "✅ Processed: s91_2_L_S2.jpg\n"
     ]
    },
    {
     "name": "stderr",
     "output_type": "stream",
     "text": [
      "Processing images:  94%|█████████▍| 3022/3200 [00:34<00:01, 94.81it/s] "
     ]
    },
    {
     "name": "stdout",
     "output_type": "stream",
     "text": [
      "✅ Processed: s91_2_R_S2.jpg\n",
      "✅ Processed: s91_3_L_S2.jpg\n",
      "✅ Processed: s91_3_R_S2.jpg\n",
      "✅ Processed: s91_4_L_S2.jpg\n",
      "✅ Processed: s91_4_R_S2.jpg\n",
      "✅ Processed: s91_5_L_S2.jpg\n",
      "✅ Processed: s91_5_R_S2.jpg\n",
      "✅ Processed: s91_6_L_S2.jpg\n",
      "✅ Processed: s91_6_R_S2.jpg\n",
      "✅ Processed: s91_7_L_S2.jpg\n",
      "✅ Processed: s91_7_R_S2.jpg\n",
      "✅ Processed: s91_8_L_S2.jpg\n",
      "✅ Processed: s91_8_R_S2.jpg\n",
      "✅ Processed: s91_9_L_S2.jpg\n",
      "✅ Processed: s91_9_R_S2.jpg\n",
      "✅ Processed: s92_10_L_S2.jpg\n",
      "✅ Processed: s92_10_R_S2.jpg\n"
     ]
    },
    {
     "name": "stderr",
     "output_type": "stream",
     "text": [
      "Processing images:  95%|█████████▍| 3032/3200 [00:34<00:01, 91.31it/s]"
     ]
    },
    {
     "name": "stdout",
     "output_type": "stream",
     "text": [
      "✅ Processed: s92_1_L_S2.jpg\n",
      "✅ Processed: s92_1_R_S2.jpg\n",
      "✅ Processed: s92_2_L_S2.jpg\n",
      "✅ Processed: s92_2_R_S2.jpg\n",
      "✅ Processed: s92_3_L_S2.jpg\n",
      "✅ Processed: s92_3_R_S2.jpg\n",
      "✅ Processed: s92_4_L_S2.jpg\n",
      "✅ Processed: s92_4_R_S2.jpg\n",
      "✅ Processed: s92_5_L_S2.jpg\n",
      "✅ Processed: s92_5_R_S2.jpg\n",
      "✅ Processed: s92_6_L_S2.jpg\n",
      "✅ Processed: s92_6_R_S2.jpg\n",
      "✅ Processed: s92_7_L_S2.jpg\n",
      "✅ Processed: s92_7_R_S2.jpg\n",
      "✅ Processed: s92_8_L_S2.jpg\n"
     ]
    },
    {
     "name": "stderr",
     "output_type": "stream",
     "text": [
      "Processing images:  95%|█████████▌| 3052/3200 [00:34<00:01, 83.88it/s]"
     ]
    },
    {
     "name": "stdout",
     "output_type": "stream",
     "text": [
      "✅ Processed: s92_8_R_S2.jpg\n",
      "✅ Processed: s92_9_L_S2.jpg\n",
      "✅ Processed: s92_9_R_S2.jpg\n",
      "✅ Processed: s93_10_L_S2.jpg\n",
      "✅ Processed: s93_10_R_S2.jpg\n",
      "✅ Processed: s93_1_L_S2.jpg\n",
      "✅ Processed: s93_1_R_S2.jpg\n",
      "✅ Processed: s93_2_L_S2.jpg\n",
      "✅ Processed: s93_2_R_S2.jpg\n",
      "✅ Processed: s93_3_L_S2.jpg\n",
      "✅ Processed: s93_3_R_S2.jpg\n",
      "✅ Processed: s93_4_L_S2.jpg\n",
      "✅ Processed: s93_4_R_S2.jpg\n",
      "✅ Processed: s93_5_L_S2.jpg\n",
      "✅ Processed: s93_5_R_S2.jpg\n",
      "✅ Processed: s93_6_L_S2.jpg\n",
      "✅ Processed: s93_6_R_S2.jpg\n",
      "✅ Processed: s93_7_L_S2.jpg\n"
     ]
    },
    {
     "name": "stderr",
     "output_type": "stream",
     "text": [
      "Processing images:  96%|█████████▌| 3070/3200 [00:34<00:01, 83.25it/s]"
     ]
    },
    {
     "name": "stdout",
     "output_type": "stream",
     "text": [
      "✅ Processed: s93_7_R_S2.jpg\n",
      "✅ Processed: s93_8_L_S2.jpg\n",
      "✅ Processed: s93_8_R_S2.jpg\n",
      "✅ Processed: s93_9_L_S2.jpg\n",
      "✅ Processed: s93_9_R_S2.jpg\n",
      "✅ Processed: s94_10_L_S2.jpg\n",
      "✅ Processed: s94_10_R_S2.jpg\n",
      "✅ Processed: s94_1_L_S2.jpg\n",
      "✅ Processed: s94_1_R_S2.jpg\n",
      "✅ Processed: s94_2_L_S2.jpg\n",
      "✅ Processed: s94_2_R_S2.jpg\n",
      "✅ Processed: s94_3_L_S2.jpg\n",
      "✅ Processed: s94_3_R_S2.jpg\n",
      "✅ Processed: s94_4_L_S2.jpg\n",
      "✅ Processed: s94_4_R_S2.jpg\n",
      "✅ Processed: s94_5_L_S2.jpg\n",
      "✅ Processed: s94_5_R_S2.jpg\n"
     ]
    },
    {
     "name": "stderr",
     "output_type": "stream",
     "text": [
      "Processing images:  97%|█████████▋| 3091/3200 [00:35<00:01, 88.81it/s]"
     ]
    },
    {
     "name": "stdout",
     "output_type": "stream",
     "text": [
      "✅ Processed: s94_6_L_S2.jpg\n",
      "✅ Processed: s94_6_R_S2.jpg\n",
      "✅ Processed: s94_7_L_S2.jpg\n",
      "✅ Processed: s94_7_R_S2.jpg\n",
      "✅ Processed: s94_8_L_S2.jpg\n",
      "✅ Processed: s94_8_R_S2.jpg\n",
      "✅ Processed: s94_9_L_S2.jpg\n",
      "✅ Processed: s94_9_R_S2.jpg\n",
      "✅ Processed: s95_10_L_S2.jpg\n",
      "✅ Processed: s95_10_R_S2.jpg\n",
      "✅ Processed: s95_1_L_S2.jpg\n",
      "✅ Processed: s95_1_R_S2.jpg\n",
      "✅ Processed: s95_2_L_S2.jpg\n",
      "✅ Processed: s95_2_R_S2.jpg\n",
      "✅ Processed: s95_3_L_S2.jpg\n",
      "✅ Processed: s95_3_R_S2.jpg\n",
      "✅ Processed: s95_4_L_S2.jpg\n",
      "✅ Processed: s95_4_R_S2.jpg\n",
      "✅ Processed: s95_5_L_S2.jpg\n"
     ]
    },
    {
     "name": "stderr",
     "output_type": "stream",
     "text": [
      "Processing images:  97%|█████████▋| 3101/3200 [00:35<00:01, 88.18it/s]"
     ]
    },
    {
     "name": "stdout",
     "output_type": "stream",
     "text": [
      "✅ Processed: s95_5_R_S2.jpg\n",
      "✅ Processed: s95_6_L_S2.jpg\n",
      "✅ Processed: s95_6_R_S2.jpg\n",
      "✅ Processed: s95_7_L_S2.jpg\n",
      "✅ Processed: s95_7_R_S2.jpg\n",
      "✅ Processed: s95_8_L_S2.jpg\n",
      "✅ Processed: s95_8_R_S2.jpg\n",
      "✅ Processed: s95_9_L_S2.jpg\n",
      "✅ Processed: s95_9_R_S2.jpg\n",
      "✅ Processed: s96_10_L_S2.jpg\n",
      "✅ Processed: s96_10_R_S2.jpg\n",
      "✅ Processed: s96_1_L_S2.jpg\n",
      "✅ Processed: s96_1_R_S2.jpg\n",
      "✅ Processed: s96_2_L_S2.jpg\n",
      "✅ Processed: s96_2_R_S2.jpg\n",
      "✅ Processed: s96_3_L_S2.jpg\n",
      "✅ Processed: s96_3_R_S2.jpg\n",
      "✅ Processed: s96_4_L_S2.jpg\n",
      "✅ Processed: s96_4_R_S2.jpg\n",
      "✅ Processed: s96_5_L_S2.jpg\n"
     ]
    },
    {
     "name": "stderr",
     "output_type": "stream",
     "text": [
      "Processing images:  98%|█████████▊| 3125/3200 [00:35<00:00, 99.82it/s]"
     ]
    },
    {
     "name": "stdout",
     "output_type": "stream",
     "text": [
      "✅ Processed: s96_5_R_S2.jpg\n",
      "✅ Processed: s96_6_L_S2.jpg\n",
      "✅ Processed: s96_6_R_S2.jpg\n",
      "✅ Processed: s96_7_L_S2.jpg\n",
      "✅ Processed: s96_7_R_S2.jpg\n",
      "✅ Processed: s96_8_L_S2.jpg\n",
      "✅ Processed: s96_8_R_S2.jpg\n",
      "✅ Processed: s96_9_L_S2.jpg\n",
      "✅ Processed: s96_9_R_S2.jpg\n",
      "✅ Processed: s97_10_L_S2.jpg\n",
      "✅ Processed: s97_10_R_S2.jpg\n",
      "✅ Processed: s97_1_L_S2.jpg\n",
      "✅ Processed: s97_1_R_S2.jpg\n",
      "✅ Processed: s97_2_L_S2.jpg\n",
      "✅ Processed: s97_2_R_S2.jpg\n",
      "✅ Processed: s97_3_L_S2.jpg\n",
      "✅ Processed: s97_3_R_S2.jpg\n",
      "✅ Processed: s97_4_L_S2.jpg\n",
      "✅ Processed: s97_4_R_S2.jpg\n",
      "✅ Processed: s97_5_L_S2.jpg\n",
      "✅ Processed: s97_5_R_S2.jpg\n"
     ]
    },
    {
     "name": "stderr",
     "output_type": "stream",
     "text": [
      "Processing images:  98%|█████████▊| 3146/3200 [00:35<00:00, 95.58it/s]"
     ]
    },
    {
     "name": "stdout",
     "output_type": "stream",
     "text": [
      "✅ Processed: s97_6_L_S2.jpg\n",
      "✅ Processed: s97_6_R_S2.jpg\n",
      "✅ Processed: s97_7_L_S2.jpg\n",
      "✅ Processed: s97_7_R_S2.jpg\n",
      "✅ Processed: s97_8_L_S2.jpg\n",
      "✅ Processed: s97_8_R_S2.jpg\n",
      "✅ Processed: s97_9_L_S2.jpg\n",
      "✅ Processed: s97_9_R_S2.jpg\n",
      "✅ Processed: s98_10_L_S2.jpg\n",
      "✅ Processed: s98_10_R_S2.jpg\n",
      "✅ Processed: s98_1_L_S2.jpg\n",
      "✅ Processed: s98_1_R_S2.jpg\n",
      "✅ Processed: s98_2_L_S2.jpg\n",
      "✅ Processed: s98_2_R_S2.jpg\n",
      "✅ Processed: s98_3_L_S2.jpg\n",
      "✅ Processed: s98_3_R_S2.jpg\n",
      "✅ Processed: s98_4_L_S2.jpg\n",
      "✅ Processed: s98_4_R_S2.jpg\n",
      "✅ Processed: s98_5_L_S2.jpg\n",
      "✅ Processed: s98_5_R_S2.jpg\n"
     ]
    },
    {
     "name": "stderr",
     "output_type": "stream",
     "text": [
      "Processing images:  99%|█████████▉| 3166/3200 [00:35<00:00, 94.20it/s]"
     ]
    },
    {
     "name": "stdout",
     "output_type": "stream",
     "text": [
      "✅ Processed: s98_6_L_S2.jpg\n",
      "✅ Processed: s98_6_R_S2.jpg\n",
      "✅ Processed: s98_7_L_S2.jpg\n",
      "✅ Processed: s98_7_R_S2.jpg\n",
      "✅ Processed: s98_8_L_S2.jpg\n",
      "✅ Processed: s98_8_R_S2.jpg\n",
      "✅ Processed: s98_9_L_S2.jpg\n",
      "✅ Processed: s98_9_R_S2.jpg\n",
      "✅ Processed: s99_10_L_S2.jpg\n",
      "✅ Processed: s99_10_R_S2.jpg\n",
      "✅ Processed: s99_1_L_S2.jpg\n",
      "✅ Processed: s99_1_R_S2.jpg\n",
      "✅ Processed: s99_2_L_S2.jpg\n",
      "✅ Processed: s99_2_R_S2.jpg\n",
      "✅ Processed: s99_3_L_S2.jpg\n",
      "✅ Processed: s99_3_R_S2.jpg\n",
      "✅ Processed: s99_4_L_S2.jpg\n",
      "✅ Processed: s99_4_R_S2.jpg\n"
     ]
    },
    {
     "name": "stderr",
     "output_type": "stream",
     "text": [
      "Processing images: 100%|█████████▉| 3186/3200 [00:36<00:00, 89.79it/s]"
     ]
    },
    {
     "name": "stdout",
     "output_type": "stream",
     "text": [
      "✅ Processed: s99_5_L_S2.jpg\n",
      "✅ Processed: s99_5_R_S2.jpg\n",
      "✅ Processed: s99_6_L_S2.jpg\n",
      "✅ Processed: s99_6_R_S2.jpg\n",
      "✅ Processed: s99_7_L_S2.jpg\n",
      "✅ Processed: s99_7_R_S2.jpg\n",
      "✅ Processed: s99_8_L_S2.jpg\n",
      "✅ Processed: s99_8_R_S2.jpg\n",
      "✅ Processed: s99_9_L_S2.jpg\n",
      "✅ Processed: s99_9_R_S2.jpg\n",
      "✅ Processed: s9_10_L_S2.jpg\n",
      "✅ Processed: s9_10_R_S2.jpg\n",
      "✅ Processed: s9_1_L_S2.jpg\n",
      "✅ Processed: s9_1_R_S2.jpg\n",
      "✅ Processed: s9_2_L_S2.jpg\n",
      "✅ Processed: s9_2_R_S2.jpg\n"
     ]
    },
    {
     "name": "stderr",
     "output_type": "stream",
     "text": [
      "Processing images: 100%|██████████| 3200/3200 [00:36<00:00, 88.22it/s]"
     ]
    },
    {
     "name": "stdout",
     "output_type": "stream",
     "text": [
      "✅ Processed: s9_3_L_S2.jpg\n",
      "✅ Processed: s9_3_R_S2.jpg\n",
      "✅ Processed: s9_4_L_S2.jpg\n",
      "✅ Processed: s9_4_R_S2.jpg\n",
      "✅ Processed: s9_5_L_S2.jpg\n",
      "✅ Processed: s9_5_R_S2.jpg\n",
      "✅ Processed: s9_6_L_S2.jpg\n",
      "✅ Processed: s9_6_R_S2.jpg\n",
      "✅ Processed: s9_7_L_S2.jpg\n",
      "✅ Processed: s9_7_R_S2.jpg\n",
      "✅ Processed: s9_8_L_S2.jpg\n",
      "✅ Processed: s9_8_R_S2.jpg\n",
      "✅ Processed: s9_9_L_S2.jpg\n",
      "✅ Processed: s9_9_R_S2.jpg\n",
      "✅ All images resized, normalized, and augmented successfully!\n"
     ]
    },
    {
     "name": "stderr",
     "output_type": "stream",
     "text": [
      "\n"
     ]
    }
   ],
   "source": [
    "import os\n",
    "import cv2\n",
    "import numpy as np\n",
    "from tqdm import tqdm  # Progress bar\n",
    "import albumentations as A  # For data augmentation\n",
    "\n",
    "# Define dataset path\n",
    "dataset_path = r\"C:\\Users\\hp\\Documents\\dataset\\PalmDataset\\Palm\"\n",
    "\n",
    "# Define the augmentation pipeline\n",
    "augmentations = A.Compose([\n",
    "    A.HorizontalFlip(p=0.5),  # 50% chance to flip images horizontally\n",
    "    A.Rotate(limit=15, p=0.5),  # Rotate images by ±15 degrees\n",
    "    A.RandomBrightnessContrast(p=0.2),  # Adjust brightness & contrast randomly\n",
    "])\n",
    "\n",
    "# Function to resize, normalize, and augment images\n",
    "def preprocess_images(directory, target_size=(128, 128)):\n",
    "    if not os.path.exists(directory):\n",
    "        print(f\"❌ Directory does not exist: {directory}\")\n",
    "        return  # Skip processing\n",
    "    \n",
    "    for file in tqdm(os.listdir(directory), desc=\"Processing images\"):\n",
    "        if file.lower().endswith(('.png', '.jpg', '.jpeg', '.bmp')):  # Process only image files\n",
    "            img_path = os.path.join(directory, file)\n",
    "            img = cv2.imread(img_path, cv2.IMREAD_GRAYSCALE)  # Read as grayscale\n",
    "            \n",
    "            if img is None:\n",
    "                print(f\"⚠️ Skipping corrupted image: {img_path}\")\n",
    "                continue\n",
    "            \n",
    "            # Resize the image\n",
    "            img_resized = cv2.resize(img, target_size)\n",
    "\n",
    "            # Normalize pixel values (0-1)\n",
    "            img_normalized = img_resized / 255.0\n",
    "\n",
    "            # Apply data augmentation\n",
    "            augmented = augmentations(image=img_normalized)\n",
    "            img_augmented = augmented[\"image\"]\n",
    "\n",
    "            # Convert back to 0-255 scale for saving\n",
    "            img_final = (img_augmented * 255).astype(np.uint8)\n",
    "\n",
    "            # Save the preprocessed image (overwrite original)\n",
    "            cv2.imwrite(img_path, img_final)\n",
    "            print(f\"✅ Processed: {file}\")\n",
    "\n",
    "# Apply preprocessing to all images in the dataset folder\n",
    "preprocess_images(dataset_path)\n",
    "\n",
    "print(\"✅ All images resized, normalized, and augmented successfully!\")\n"
   ]
  },
  {
   "cell_type": "code",
   "execution_count": 16,
   "id": "f717cbab-57f8-4d96-bb79-609b6c627f0e",
   "metadata": {},
   "outputs": [
    {
     "name": "stdout",
     "output_type": "stream",
     "text": [
      "✅ Successfully moved 2560 images to Train folder.\n",
      "✅ Successfully moved 640 images to Test folder.\n"
     ]
    }
   ],
   "source": [
    "import os\n",
    "import shutil\n",
    "import random\n",
    "\n",
    "# Define dataset path\n",
    "dataset_path = r\"C:\\Users\\hp\\Documents\\dataset\\PalmDataset\\Palm\"\n",
    "\n",
    "# Define train and test folder paths\n",
    "train_folder = os.path.join(dataset_path, \"Train\")\n",
    "test_folder = os.path.join(dataset_path, \"Test\")\n",
    "\n",
    "# Ensure folders exist (create if not)\n",
    "for folder in [train_folder, test_folder]:\n",
    "    os.makedirs(folder, exist_ok=True)\n",
    "\n",
    "# Get all images in the dataset folder\n",
    "all_images = [f for f in os.listdir(dataset_path) if f.lower().endswith(('.jpg', '.jpeg', '.png'))]\n",
    "\n",
    "# Shuffle images randomly\n",
    "random.shuffle(all_images)\n",
    "\n",
    "# Define split ratio\n",
    "split_index = int(0.8 * len(all_images))  # 80% for training\n",
    "\n",
    "# Split images into train and test\n",
    "train_images = all_images[:split_index]\n",
    "test_images = all_images[split_index:]\n",
    "\n",
    "# Move images to respective folders\n",
    "for img in train_images:\n",
    "    shutil.move(os.path.join(dataset_path, img), os.path.join(train_folder, img))\n",
    "\n",
    "for img in test_images:\n",
    "    shutil.move(os.path.join(dataset_path, img), os.path.join(test_folder, img))\n",
    "\n",
    "print(f\"✅ Successfully moved {len(train_images)} images to Train folder.\")\n",
    "print(f\"✅ Successfully moved {len(test_images)} images to Test folder.\")\n"
   ]
  },
  {
   "cell_type": "code",
   "execution_count": 48,
   "id": "9c945732-0de0-41cc-b338-f4e2c5ae6b67",
   "metadata": {},
   "outputs": [
    {
     "name": "stdout",
     "output_type": "stream",
     "text": [
      "Found 2560 images belonging to 2 classes.\n",
      "Found 640 images belonging to 2 classes.\n"
     ]
    },
    {
     "name": "stderr",
     "output_type": "stream",
     "text": [
      "C:\\Users\\hp\\anaconda3\\Lib\\site-packages\\keras\\src\\layers\\convolutional\\base_conv.py:107: UserWarning: Do not pass an `input_shape`/`input_dim` argument to a layer. When using Sequential models, prefer using an `Input(shape)` object as the first layer in the model instead.\n",
      "  super().__init__(activity_regularizer=activity_regularizer, **kwargs)\n",
      "C:\\Users\\hp\\anaconda3\\Lib\\site-packages\\keras\\src\\trainers\\data_adapters\\py_dataset_adapter.py:121: UserWarning: Your `PyDataset` class should call `super().__init__(**kwargs)` in its constructor. `**kwargs` can include `workers`, `use_multiprocessing`, `max_queue_size`. Do not pass these arguments to `fit()`, as they will be ignored.\n",
      "  self._warn_if_super_not_called()\n"
     ]
    },
    {
     "name": "stdout",
     "output_type": "stream",
     "text": [
      "Epoch 1/10\n",
      "\u001b[1m80/80\u001b[0m \u001b[32m━━━━━━━━━━━━━━━━━━━━\u001b[0m\u001b[37m\u001b[0m \u001b[1m23s\u001b[0m 247ms/step - accuracy: 0.4872 - loss: 0.6986 - val_accuracy: 0.4734 - val_loss: 0.6939\n",
      "Epoch 2/10\n",
      "\u001b[1m80/80\u001b[0m \u001b[32m━━━━━━━━━━━━━━━━━━━━\u001b[0m\u001b[37m\u001b[0m \u001b[1m20s\u001b[0m 252ms/step - accuracy: 0.4859 - loss: 0.6935 - val_accuracy: 0.4734 - val_loss: 0.6932\n",
      "Epoch 3/10\n",
      "\u001b[1m80/80\u001b[0m \u001b[32m━━━━━━━━━━━━━━━━━━━━\u001b[0m\u001b[37m\u001b[0m \u001b[1m21s\u001b[0m 260ms/step - accuracy: 0.4864 - loss: 0.6932 - val_accuracy: 0.4734 - val_loss: 0.6932\n",
      "Epoch 4/10\n",
      "\u001b[1m80/80\u001b[0m \u001b[32m━━━━━━━━━━━━━━━━━━━━\u001b[0m\u001b[37m\u001b[0m \u001b[1m21s\u001b[0m 258ms/step - accuracy: 0.5066 - loss: 0.6932 - val_accuracy: 0.5266 - val_loss: 0.6931\n",
      "Epoch 5/10\n",
      "\u001b[1m80/80\u001b[0m \u001b[32m━━━━━━━━━━━━━━━━━━━━\u001b[0m\u001b[37m\u001b[0m \u001b[1m22s\u001b[0m 268ms/step - accuracy: 0.5048 - loss: 0.6932 - val_accuracy: 0.4734 - val_loss: 0.6933\n",
      "Epoch 6/10\n",
      "\u001b[1m80/80\u001b[0m \u001b[32m━━━━━━━━━━━━━━━━━━━━\u001b[0m\u001b[37m\u001b[0m \u001b[1m23s\u001b[0m 291ms/step - accuracy: 0.5071 - loss: 0.6932 - val_accuracy: 0.4734 - val_loss: 0.6933\n",
      "Epoch 7/10\n",
      "\u001b[1m80/80\u001b[0m \u001b[32m━━━━━━━━━━━━━━━━━━━━\u001b[0m\u001b[37m\u001b[0m \u001b[1m21s\u001b[0m 260ms/step - accuracy: 0.5107 - loss: 0.6931 - val_accuracy: 0.4734 - val_loss: 0.6934\n",
      "Epoch 8/10\n",
      "\u001b[1m80/80\u001b[0m \u001b[32m━━━━━━━━━━━━━━━━━━━━\u001b[0m\u001b[37m\u001b[0m \u001b[1m21s\u001b[0m 267ms/step - accuracy: 0.5077 - loss: 0.6931 - val_accuracy: 0.4734 - val_loss: 0.6934\n",
      "Epoch 9/10\n",
      "\u001b[1m80/80\u001b[0m \u001b[32m━━━━━━━━━━━━━━━━━━━━\u001b[0m\u001b[37m\u001b[0m \u001b[1m21s\u001b[0m 265ms/step - accuracy: 0.5194 - loss: 0.6930 - val_accuracy: 0.4734 - val_loss: 0.6933\n",
      "Epoch 10/10\n",
      "\u001b[1m80/80\u001b[0m \u001b[32m━━━━━━━━━━━━━━━━━━━━\u001b[0m\u001b[37m\u001b[0m \u001b[1m22s\u001b[0m 274ms/step - accuracy: 0.5095 - loss: 0.6931 - val_accuracy: 0.4734 - val_loss: 0.6934\n",
      "\u001b[1m20/20\u001b[0m \u001b[32m━━━━━━━━━━━━━━━━━━━━\u001b[0m\u001b[37m\u001b[0m \u001b[1m2s\u001b[0m 74ms/step - accuracy: 0.4981 - loss: 0.6932\n"
     ]
    },
    {
     "name": "stderr",
     "output_type": "stream",
     "text": [
      "WARNING:absl:You are saving your model as an HDF5 file via `model.save()` or `keras.saving.save_model(model)`. This file format is considered legacy. We recommend using instead the native Keras format, e.g. `model.save('my_model.keras')` or `keras.saving.save_model(model, 'my_model.keras')`. \n"
     ]
    },
    {
     "name": "stdout",
     "output_type": "stream",
     "text": [
      "📊 Test Accuracy: 0.4734\n",
      "✅ Model saved successfully!\n"
     ]
    }
   ],
   "source": [
    "import tensorflow as tf\n",
    "from tensorflow import keras\n",
    "from tensorflow.keras import layers\n",
    "from tensorflow.keras.preprocessing.image import ImageDataGenerator\n",
    "\n",
    "# ✅ Define dataset paths\n",
    "train_dir = r\"C:\\Users\\hp\\Documents\\dataset\\PalmDataset\\Palm\\Train\"\n",
    "test_dir = r\"C:\\Users\\hp\\Documents\\dataset\\PalmDataset\\Palm\\Test\"\n",
    "\n",
    "# ✅ Image Preprocessing & Data Augmentation\n",
    "train_datagen = ImageDataGenerator(\n",
    "    rescale=1./255,  # Normalize pixel values (0-1)\n",
    "    rotation_range=20,  # Rotate images up to 20 degrees\n",
    "    width_shift_range=0.2,  # Shift width by 20%\n",
    "    height_shift_range=0.2,  # Shift height by 20%\n",
    "    shear_range=0.2,  # Shearing transformation\n",
    "    zoom_range=0.2,  # Zoom transformation\n",
    "    horizontal_flip=True,  # Random horizontal flip\n",
    "    fill_mode='nearest'  # Fill missing pixels\n",
    ")\n",
    "\n",
    "test_datagen = ImageDataGenerator(rescale=1./255)  # Only rescale, no augmentation\n",
    "\n",
    "# ✅ Load images from directories\n",
    "train_generator = train_datagen.flow_from_directory(\n",
    "    train_dir,\n",
    "    target_size=(128, 128),\n",
    "    color_mode='grayscale',  # Since we converted images to grayscale\n",
    "    batch_size=32,\n",
    "    class_mode='binary'  # Change to 'categorical' if more than 2 classes\n",
    ")\n",
    "\n",
    "test_generator = test_datagen.flow_from_directory(\n",
    "    test_dir,\n",
    "    target_size=(128, 128),\n",
    "    color_mode='grayscale',\n",
    "    batch_size=32,\n",
    "    class_mode='binary'\n",
    ")\n",
    "\n",
    "# ✅ Step 1: Build CNN Model\n",
    "model = keras.Sequential([\n",
    "    layers.Conv2D(32, (3,3), activation='relu', input_shape=(128, 128, 1)),\n",
    "    layers.MaxPooling2D(2,2),\n",
    "\n",
    "    layers.Conv2D(64, (3,3), activation='relu'),\n",
    "    layers.MaxPooling2D(2,2),\n",
    "\n",
    "    layers.Conv2D(128, (3,3), activation='relu'),\n",
    "    layers.MaxPooling2D(2,2),\n",
    "\n",
    "    layers.Flatten(),\n",
    "    layers.Dense(128, activation='relu'),\n",
    "    layers.Dropout(0.5),\n",
    "    layers.Dense(1, activation='sigmoid')  # Change to `softmax` if multi-class\n",
    "])\n",
    "\n",
    "# ✅ Step 2: Compile Model\n",
    "model.compile(optimizer='adam',\n",
    "              loss='binary_crossentropy',  # Change to `categorical_crossentropy` if multi-class\n",
    "              metrics=['accuracy'])\n",
    "\n",
    "# ✅ Step 3: Train Model\n",
    "history = model.fit(train_generator, \n",
    "                    validation_data=test_generator, \n",
    "                    epochs=10)  # Increase epochs for better accuracy\n",
    "\n",
    "# ✅ Step 4: Evaluate Model\n",
    "test_loss, test_acc = model.evaluate(test_generator)\n",
    "print(f\"📊 Test Accuracy: {test_acc:.4f}\")\n",
    "\n",
    "# ✅ Save Model for Future Use\n",
    "model.save(\"palmprint_cnn_model.h5\")\n",
    "print(\"✅ Model saved successfully!\")\n"
   ]
  },
  {
   "cell_type": "code",
   "execution_count": 72,
   "id": "6ce5c2f8-1b91-4ce2-a30a-1d3934e3fa2f",
   "metadata": {},
   "outputs": [
    {
     "name": "stdout",
     "output_type": "stream",
     "text": [
      "📉 Mean Squared Error (MSE): 0.0115\n",
      "📈 Peak Signal-to-Noise Ratio (PSNR): 20.00 dB\n",
      "🧠 Structural Similarity Index (SSIM): 0.4726\n"
     ]
    }
   ],
   "source": [
    "import os\n",
    "import numpy as np\n",
    "import cv2\n",
    "from skimage.metrics import peak_signal_noise_ratio as psnr, structural_similarity as ssim\n",
    "\n",
    "# ✅ Paths\n",
    "test_dir = r\"C:\\Users\\hp\\Documents\\dataset\\PalmDataset\\Palm\\Test\"\n",
    "\n",
    "mse_list, psnr_list, ssim_list = [], [], []\n",
    "\n",
    "# ✅ Loop through test images\n",
    "for folder in os.listdir(test_dir):\n",
    "    folder_path = os.path.join(test_dir, folder)\n",
    "    for img_name in os.listdir(folder_path):\n",
    "        img_path = os.path.join(folder_path, img_name)\n",
    "\n",
    "        # Read image (already preprocessed)\n",
    "        img = cv2.imread(img_path, cv2.IMREAD_GRAYSCALE)\n",
    "        img = cv2.resize(img, (128, 128)) / 255.0  # normalize if not already\n",
    "\n",
    "        # Reconstruct approximation \n",
    "        predicted_img = np.ones_like(img) * np.mean(img)\n",
    "\n",
    "        # Metrics\n",
    "        mse_val = np.mean((img - predicted_img) ** 2)\n",
    "        psnr_val = psnr(img, predicted_img, data_range=1.0)\n",
    "        ssim_val = ssim(img, predicted_img, data_range=1.0)\n",
    "\n",
    "        mse_list.append(mse_val)\n",
    "        psnr_list.append(psnr_val)\n",
    "        ssim_list.append(ssim_val)\n",
    "\n",
    "# ✅ Final Report\n",
    "print(f\"📉 Mean Squared Error (MSE): {np.mean(mse_list):.4f}\")\n",
    "print(f\"📈 Peak Signal-to-Noise Ratio (PSNR): {np.mean(psnr_list):.2f} dB\")\n",
    "print(f\"🧠 Structural Similarity Index (SSIM): {np.mean(ssim_list):.4f}\")"
   ]
  },
  {
   "cell_type": "code",
   "execution_count": 6,
   "id": "387cca44-78a7-4769-98b9-9b1d7e70f569",
   "metadata": {},
   "outputs": [
    {
     "name": "stdout",
     "output_type": "stream",
     "text": [
      "✅ Images sorted into class folders inside Train and Test.\n"
     ]
    }
   ],
   "source": [
    "import os\n",
    "import shutil\n",
    "import random\n",
    "\n",
    "# Define dataset path\n",
    "dataset_path = r\"C:\\Users\\hp\\Documents\\dataset\\PalmDataset\\Palm\"\n",
    "\n",
    "# Define train and test folder paths\n",
    "train_folder = os.path.join(dataset_path, \"Train\")\n",
    "test_folder = os.path.join(dataset_path, \"Test\")\n",
    "\n",
    "# Create class subfolders inside Train and Test\n",
    "class_names = [\"LeftPalm\", \"RightPalm\"]  # Modify based on your dataset\n",
    "\n",
    "for folder in [train_folder, test_folder]:\n",
    "    for class_name in class_names:\n",
    "        os.makedirs(os.path.join(folder, class_name), exist_ok=True)\n",
    "\n",
    "# Get all images\n",
    "all_images = [f for f in os.listdir(dataset_path) if f.lower().endswith(('.jpg', '.jpeg', '.png'))]\n",
    "random.shuffle(all_images)\n",
    "\n",
    "# Split 80% for training, 20% for testing\n",
    "split_index = int(0.8 * len(all_images))\n",
    "train_images = all_images[:split_index]\n",
    "test_images = all_images[split_index:]\n",
    "\n",
    "# Move images into class folders (Randomly assigning classes)\n",
    "for img in train_images:\n",
    "    class_folder = random.choice(class_names)  # Assign randomly to a class\n",
    "    shutil.move(os.path.join(dataset_path, img), os.path.join(train_folder, class_folder, img))\n",
    "\n",
    "for img in test_images:\n",
    "    class_folder = random.choice(class_names)\n",
    "    shutil.move(os.path.join(dataset_path, img), os.path.join(test_folder, class_folder, img))\n",
    "\n",
    "print(\"✅ Images sorted into class folders inside Train and Test.\")\n"
   ]
  },
  {
   "cell_type": "code",
   "execution_count": 8,
   "id": "a56b1175-dad8-48b7-9aa9-23e7541aaaaa",
   "metadata": {},
   "outputs": [
    {
     "name": "stdout",
     "output_type": "stream",
     "text": [
      "🔍 Found 2560 images in C:\\Users\\hp\\Documents\\dataset\\PalmDataset\\Palm\\Train\n",
      "✅ Moved s100_10_L_S2.jpg → C:\\Users\\hp\\Documents\\dataset\\PalmDataset\\Palm\\Train\\LeftPalm\\s100_10_L_S2.jpg\n",
      "✅ Moved s100_1_L_S2.jpg → C:\\Users\\hp\\Documents\\dataset\\PalmDataset\\Palm\\Train\\LeftPalm\\s100_1_L_S2.jpg\n",
      "✅ Moved s100_1_R_S2.jpg → C:\\Users\\hp\\Documents\\dataset\\PalmDataset\\Palm\\Train\\LeftPalm\\s100_1_R_S2.jpg\n",
      "✅ Moved s100_2_L_S2.jpg → C:\\Users\\hp\\Documents\\dataset\\PalmDataset\\Palm\\Train\\RightPalm\\s100_2_L_S2.jpg\n",
      "✅ Moved s100_2_R_S2.jpg → C:\\Users\\hp\\Documents\\dataset\\PalmDataset\\Palm\\Train\\LeftPalm\\s100_2_R_S2.jpg\n",
      "✅ Moved s100_3_L_S2.jpg → C:\\Users\\hp\\Documents\\dataset\\PalmDataset\\Palm\\Train\\RightPalm\\s100_3_L_S2.jpg\n",
      "✅ Moved s100_3_R_S2.jpg → C:\\Users\\hp\\Documents\\dataset\\PalmDataset\\Palm\\Train\\LeftPalm\\s100_3_R_S2.jpg\n",
      "✅ Moved s100_4_L_S2.jpg → C:\\Users\\hp\\Documents\\dataset\\PalmDataset\\Palm\\Train\\LeftPalm\\s100_4_L_S2.jpg\n",
      "✅ Moved s100_4_R_S2.jpg → C:\\Users\\hp\\Documents\\dataset\\PalmDataset\\Palm\\Train\\LeftPalm\\s100_4_R_S2.jpg\n",
      "✅ Moved s100_5_R_S2.jpg → C:\\Users\\hp\\Documents\\dataset\\PalmDataset\\Palm\\Train\\LeftPalm\\s100_5_R_S2.jpg\n",
      "✅ Moved s100_6_L_S2.jpg → C:\\Users\\hp\\Documents\\dataset\\PalmDataset\\Palm\\Train\\RightPalm\\s100_6_L_S2.jpg\n",
      "✅ Moved s100_6_R_S2.jpg → C:\\Users\\hp\\Documents\\dataset\\PalmDataset\\Palm\\Train\\RightPalm\\s100_6_R_S2.jpg\n",
      "✅ Moved s100_7_L_S2.jpg → C:\\Users\\hp\\Documents\\dataset\\PalmDataset\\Palm\\Train\\LeftPalm\\s100_7_L_S2.jpg\n",
      "✅ Moved s100_7_R_S2.jpg → C:\\Users\\hp\\Documents\\dataset\\PalmDataset\\Palm\\Train\\LeftPalm\\s100_7_R_S2.jpg\n",
      "✅ Moved s100_8_L_S2.jpg → C:\\Users\\hp\\Documents\\dataset\\PalmDataset\\Palm\\Train\\RightPalm\\s100_8_L_S2.jpg\n",
      "✅ Moved s100_9_L_S2.jpg → C:\\Users\\hp\\Documents\\dataset\\PalmDataset\\Palm\\Train\\LeftPalm\\s100_9_L_S2.jpg\n",
      "✅ Moved s101_10_L_S2.jpg → C:\\Users\\hp\\Documents\\dataset\\PalmDataset\\Palm\\Train\\LeftPalm\\s101_10_L_S2.jpg\n",
      "✅ Moved s101_10_R_S2.jpg → C:\\Users\\hp\\Documents\\dataset\\PalmDataset\\Palm\\Train\\RightPalm\\s101_10_R_S2.jpg\n",
      "✅ Moved s101_1_L_S2.jpg → C:\\Users\\hp\\Documents\\dataset\\PalmDataset\\Palm\\Train\\RightPalm\\s101_1_L_S2.jpg\n",
      "✅ Moved s101_1_R_S2.jpg → C:\\Users\\hp\\Documents\\dataset\\PalmDataset\\Palm\\Train\\RightPalm\\s101_1_R_S2.jpg\n",
      "✅ Moved s101_2_L_S2.jpg → C:\\Users\\hp\\Documents\\dataset\\PalmDataset\\Palm\\Train\\RightPalm\\s101_2_L_S2.jpg\n",
      "✅ Moved s101_3_R_S2.jpg → C:\\Users\\hp\\Documents\\dataset\\PalmDataset\\Palm\\Train\\RightPalm\\s101_3_R_S2.jpg\n",
      "✅ Moved s101_4_L_S2.jpg → C:\\Users\\hp\\Documents\\dataset\\PalmDataset\\Palm\\Train\\RightPalm\\s101_4_L_S2.jpg\n",
      "✅ Moved s101_5_L_S2.jpg → C:\\Users\\hp\\Documents\\dataset\\PalmDataset\\Palm\\Train\\LeftPalm\\s101_5_L_S2.jpg\n",
      "✅ Moved s101_5_R_S2.jpg → C:\\Users\\hp\\Documents\\dataset\\PalmDataset\\Palm\\Train\\RightPalm\\s101_5_R_S2.jpg\n",
      "✅ Moved s101_6_L_S2.jpg → C:\\Users\\hp\\Documents\\dataset\\PalmDataset\\Palm\\Train\\RightPalm\\s101_6_L_S2.jpg\n",
      "✅ Moved s101_6_R_S2.jpg → C:\\Users\\hp\\Documents\\dataset\\PalmDataset\\Palm\\Train\\LeftPalm\\s101_6_R_S2.jpg\n",
      "✅ Moved s101_7_L_S2.jpg → C:\\Users\\hp\\Documents\\dataset\\PalmDataset\\Palm\\Train\\LeftPalm\\s101_7_L_S2.jpg\n",
      "✅ Moved s101_8_L_S2.jpg → C:\\Users\\hp\\Documents\\dataset\\PalmDataset\\Palm\\Train\\RightPalm\\s101_8_L_S2.jpg\n",
      "✅ Moved s101_8_R_S2.jpg → C:\\Users\\hp\\Documents\\dataset\\PalmDataset\\Palm\\Train\\LeftPalm\\s101_8_R_S2.jpg\n",
      "✅ Moved s101_9_L_S2.jpg → C:\\Users\\hp\\Documents\\dataset\\PalmDataset\\Palm\\Train\\LeftPalm\\s101_9_L_S2.jpg\n",
      "✅ Moved s101_9_R_S2.jpg → C:\\Users\\hp\\Documents\\dataset\\PalmDataset\\Palm\\Train\\RightPalm\\s101_9_R_S2.jpg\n",
      "✅ Moved s102_10_L_S2.jpg → C:\\Users\\hp\\Documents\\dataset\\PalmDataset\\Palm\\Train\\RightPalm\\s102_10_L_S2.jpg\n",
      "✅ Moved s102_1_L_S2.jpg → C:\\Users\\hp\\Documents\\dataset\\PalmDataset\\Palm\\Train\\RightPalm\\s102_1_L_S2.jpg\n",
      "✅ Moved s102_2_L_S2.jpg → C:\\Users\\hp\\Documents\\dataset\\PalmDataset\\Palm\\Train\\LeftPalm\\s102_2_L_S2.jpg\n",
      "✅ Moved s102_2_R_S2.jpg → C:\\Users\\hp\\Documents\\dataset\\PalmDataset\\Palm\\Train\\RightPalm\\s102_2_R_S2.jpg\n",
      "✅ Moved s102_3_L_S2.jpg → C:\\Users\\hp\\Documents\\dataset\\PalmDataset\\Palm\\Train\\LeftPalm\\s102_3_L_S2.jpg\n",
      "✅ Moved s102_3_R_S2.jpg → C:\\Users\\hp\\Documents\\dataset\\PalmDataset\\Palm\\Train\\LeftPalm\\s102_3_R_S2.jpg\n",
      "✅ Moved s102_4_L_S2.jpg → C:\\Users\\hp\\Documents\\dataset\\PalmDataset\\Palm\\Train\\RightPalm\\s102_4_L_S2.jpg\n",
      "✅ Moved s102_4_R_S2.jpg → C:\\Users\\hp\\Documents\\dataset\\PalmDataset\\Palm\\Train\\LeftPalm\\s102_4_R_S2.jpg\n",
      "✅ Moved s102_5_L_S2.jpg → C:\\Users\\hp\\Documents\\dataset\\PalmDataset\\Palm\\Train\\LeftPalm\\s102_5_L_S2.jpg\n",
      "✅ Moved s102_5_R_S2.jpg → C:\\Users\\hp\\Documents\\dataset\\PalmDataset\\Palm\\Train\\RightPalm\\s102_5_R_S2.jpg\n",
      "✅ Moved s102_6_R_S2.jpg → C:\\Users\\hp\\Documents\\dataset\\PalmDataset\\Palm\\Train\\LeftPalm\\s102_6_R_S2.jpg\n",
      "✅ Moved s102_7_L_S2.jpg → C:\\Users\\hp\\Documents\\dataset\\PalmDataset\\Palm\\Train\\LeftPalm\\s102_7_L_S2.jpg\n",
      "✅ Moved s102_7_R_S2.jpg → C:\\Users\\hp\\Documents\\dataset\\PalmDataset\\Palm\\Train\\LeftPalm\\s102_7_R_S2.jpg\n",
      "✅ Moved s102_8_L_S2.jpg → C:\\Users\\hp\\Documents\\dataset\\PalmDataset\\Palm\\Train\\LeftPalm\\s102_8_L_S2.jpg\n",
      "✅ Moved s102_9_L_S2.jpg → C:\\Users\\hp\\Documents\\dataset\\PalmDataset\\Palm\\Train\\LeftPalm\\s102_9_L_S2.jpg\n",
      "✅ Moved s102_9_R_S2.jpg → C:\\Users\\hp\\Documents\\dataset\\PalmDataset\\Palm\\Train\\RightPalm\\s102_9_R_S2.jpg\n",
      "✅ Moved s103_10_L_S2.jpg → C:\\Users\\hp\\Documents\\dataset\\PalmDataset\\Palm\\Train\\LeftPalm\\s103_10_L_S2.jpg\n",
      "✅ Moved s103_1_L_S2.jpg → C:\\Users\\hp\\Documents\\dataset\\PalmDataset\\Palm\\Train\\RightPalm\\s103_1_L_S2.jpg\n",
      "✅ Moved s103_1_R_S2.jpg → C:\\Users\\hp\\Documents\\dataset\\PalmDataset\\Palm\\Train\\RightPalm\\s103_1_R_S2.jpg\n",
      "✅ Moved s103_2_L_S2.jpg → C:\\Users\\hp\\Documents\\dataset\\PalmDataset\\Palm\\Train\\RightPalm\\s103_2_L_S2.jpg\n",
      "✅ Moved s103_2_R_S2.jpg → C:\\Users\\hp\\Documents\\dataset\\PalmDataset\\Palm\\Train\\LeftPalm\\s103_2_R_S2.jpg\n",
      "✅ Moved s103_3_R_S2.jpg → C:\\Users\\hp\\Documents\\dataset\\PalmDataset\\Palm\\Train\\RightPalm\\s103_3_R_S2.jpg\n",
      "✅ Moved s103_4_L_S2.jpg → C:\\Users\\hp\\Documents\\dataset\\PalmDataset\\Palm\\Train\\LeftPalm\\s103_4_L_S2.jpg\n",
      "✅ Moved s103_4_R_S2.jpg → C:\\Users\\hp\\Documents\\dataset\\PalmDataset\\Palm\\Train\\LeftPalm\\s103_4_R_S2.jpg\n",
      "✅ Moved s103_5_L_S2.jpg → C:\\Users\\hp\\Documents\\dataset\\PalmDataset\\Palm\\Train\\LeftPalm\\s103_5_L_S2.jpg\n",
      "✅ Moved s103_5_R_S2.jpg → C:\\Users\\hp\\Documents\\dataset\\PalmDataset\\Palm\\Train\\LeftPalm\\s103_5_R_S2.jpg\n",
      "✅ Moved s103_6_L_S2.jpg → C:\\Users\\hp\\Documents\\dataset\\PalmDataset\\Palm\\Train\\RightPalm\\s103_6_L_S2.jpg\n",
      "✅ Moved s103_7_L_S2.jpg → C:\\Users\\hp\\Documents\\dataset\\PalmDataset\\Palm\\Train\\RightPalm\\s103_7_L_S2.jpg\n",
      "✅ Moved s103_7_R_S2.jpg → C:\\Users\\hp\\Documents\\dataset\\PalmDataset\\Palm\\Train\\RightPalm\\s103_7_R_S2.jpg\n",
      "✅ Moved s103_8_R_S2.jpg → C:\\Users\\hp\\Documents\\dataset\\PalmDataset\\Palm\\Train\\LeftPalm\\s103_8_R_S2.jpg\n",
      "✅ Moved s104_10_L_S2.jpg → C:\\Users\\hp\\Documents\\dataset\\PalmDataset\\Palm\\Train\\RightPalm\\s104_10_L_S2.jpg\n",
      "✅ Moved s104_10_R_S2.jpg → C:\\Users\\hp\\Documents\\dataset\\PalmDataset\\Palm\\Train\\RightPalm\\s104_10_R_S2.jpg\n",
      "✅ Moved s104_1_R_S2.jpg → C:\\Users\\hp\\Documents\\dataset\\PalmDataset\\Palm\\Train\\LeftPalm\\s104_1_R_S2.jpg\n",
      "✅ Moved s104_2_L_S2.jpg → C:\\Users\\hp\\Documents\\dataset\\PalmDataset\\Palm\\Train\\RightPalm\\s104_2_L_S2.jpg\n",
      "✅ Moved s104_2_R_S2.jpg → C:\\Users\\hp\\Documents\\dataset\\PalmDataset\\Palm\\Train\\RightPalm\\s104_2_R_S2.jpg\n",
      "✅ Moved s104_3_R_S2.jpg → C:\\Users\\hp\\Documents\\dataset\\PalmDataset\\Palm\\Train\\LeftPalm\\s104_3_R_S2.jpg\n",
      "✅ Moved s104_4_L_S2.jpg → C:\\Users\\hp\\Documents\\dataset\\PalmDataset\\Palm\\Train\\RightPalm\\s104_4_L_S2.jpg\n",
      "✅ Moved s104_4_R_S2.jpg → C:\\Users\\hp\\Documents\\dataset\\PalmDataset\\Palm\\Train\\RightPalm\\s104_4_R_S2.jpg\n",
      "✅ Moved s104_5_L_S2.jpg → C:\\Users\\hp\\Documents\\dataset\\PalmDataset\\Palm\\Train\\LeftPalm\\s104_5_L_S2.jpg\n",
      "✅ Moved s104_5_R_S2.jpg → C:\\Users\\hp\\Documents\\dataset\\PalmDataset\\Palm\\Train\\LeftPalm\\s104_5_R_S2.jpg\n",
      "✅ Moved s104_6_L_S2.jpg → C:\\Users\\hp\\Documents\\dataset\\PalmDataset\\Palm\\Train\\RightPalm\\s104_6_L_S2.jpg\n",
      "✅ Moved s104_6_R_S2.jpg → C:\\Users\\hp\\Documents\\dataset\\PalmDataset\\Palm\\Train\\RightPalm\\s104_6_R_S2.jpg\n",
      "✅ Moved s104_7_L_S2.jpg → C:\\Users\\hp\\Documents\\dataset\\PalmDataset\\Palm\\Train\\LeftPalm\\s104_7_L_S2.jpg\n",
      "✅ Moved s104_7_R_S2.jpg → C:\\Users\\hp\\Documents\\dataset\\PalmDataset\\Palm\\Train\\LeftPalm\\s104_7_R_S2.jpg\n",
      "✅ Moved s104_8_L_S2.jpg → C:\\Users\\hp\\Documents\\dataset\\PalmDataset\\Palm\\Train\\RightPalm\\s104_8_L_S2.jpg\n",
      "✅ Moved s104_8_R_S2.jpg → C:\\Users\\hp\\Documents\\dataset\\PalmDataset\\Palm\\Train\\LeftPalm\\s104_8_R_S2.jpg\n",
      "✅ Moved s104_9_L_S2.jpg → C:\\Users\\hp\\Documents\\dataset\\PalmDataset\\Palm\\Train\\LeftPalm\\s104_9_L_S2.jpg\n",
      "✅ Moved s104_9_R_S2.jpg → C:\\Users\\hp\\Documents\\dataset\\PalmDataset\\Palm\\Train\\RightPalm\\s104_9_R_S2.jpg\n",
      "✅ Moved s105_1_R_S2.jpg → C:\\Users\\hp\\Documents\\dataset\\PalmDataset\\Palm\\Train\\RightPalm\\s105_1_R_S2.jpg\n",
      "✅ Moved s105_2_L_S2.jpg → C:\\Users\\hp\\Documents\\dataset\\PalmDataset\\Palm\\Train\\RightPalm\\s105_2_L_S2.jpg\n",
      "✅ Moved s105_2_R_S2.jpg → C:\\Users\\hp\\Documents\\dataset\\PalmDataset\\Palm\\Train\\RightPalm\\s105_2_R_S2.jpg\n",
      "✅ Moved s105_3_L_S2.jpg → C:\\Users\\hp\\Documents\\dataset\\PalmDataset\\Palm\\Train\\LeftPalm\\s105_3_L_S2.jpg\n",
      "✅ Moved s105_4_R_S2.jpg → C:\\Users\\hp\\Documents\\dataset\\PalmDataset\\Palm\\Train\\LeftPalm\\s105_4_R_S2.jpg\n",
      "✅ Moved s105_5_L_S2.jpg → C:\\Users\\hp\\Documents\\dataset\\PalmDataset\\Palm\\Train\\RightPalm\\s105_5_L_S2.jpg\n",
      "✅ Moved s105_5_R_S2.jpg → C:\\Users\\hp\\Documents\\dataset\\PalmDataset\\Palm\\Train\\RightPalm\\s105_5_R_S2.jpg\n",
      "✅ Moved s105_6_L_S2.jpg → C:\\Users\\hp\\Documents\\dataset\\PalmDataset\\Palm\\Train\\RightPalm\\s105_6_L_S2.jpg\n",
      "✅ Moved s105_6_R_S2.jpg → C:\\Users\\hp\\Documents\\dataset\\PalmDataset\\Palm\\Train\\RightPalm\\s105_6_R_S2.jpg\n",
      "✅ Moved s105_7_R_S2.jpg → C:\\Users\\hp\\Documents\\dataset\\PalmDataset\\Palm\\Train\\LeftPalm\\s105_7_R_S2.jpg\n",
      "✅ Moved s105_8_L_S2.jpg → C:\\Users\\hp\\Documents\\dataset\\PalmDataset\\Palm\\Train\\LeftPalm\\s105_8_L_S2.jpg\n",
      "✅ Moved s105_9_R_S2.jpg → C:\\Users\\hp\\Documents\\dataset\\PalmDataset\\Palm\\Train\\RightPalm\\s105_9_R_S2.jpg\n",
      "✅ Moved s106_10_R_S2.jpg → C:\\Users\\hp\\Documents\\dataset\\PalmDataset\\Palm\\Train\\LeftPalm\\s106_10_R_S2.jpg\n",
      "✅ Moved s106_1_L_S2.jpg → C:\\Users\\hp\\Documents\\dataset\\PalmDataset\\Palm\\Train\\RightPalm\\s106_1_L_S2.jpg\n",
      "✅ Moved s106_1_R_S2.jpg → C:\\Users\\hp\\Documents\\dataset\\PalmDataset\\Palm\\Train\\RightPalm\\s106_1_R_S2.jpg\n",
      "✅ Moved s106_2_L_S2.jpg → C:\\Users\\hp\\Documents\\dataset\\PalmDataset\\Palm\\Train\\RightPalm\\s106_2_L_S2.jpg\n",
      "✅ Moved s106_2_R_S2.jpg → C:\\Users\\hp\\Documents\\dataset\\PalmDataset\\Palm\\Train\\RightPalm\\s106_2_R_S2.jpg\n",
      "✅ Moved s106_3_L_S2.jpg → C:\\Users\\hp\\Documents\\dataset\\PalmDataset\\Palm\\Train\\LeftPalm\\s106_3_L_S2.jpg\n",
      "✅ Moved s106_3_R_S2.jpg → C:\\Users\\hp\\Documents\\dataset\\PalmDataset\\Palm\\Train\\LeftPalm\\s106_3_R_S2.jpg\n",
      "✅ Moved s106_4_L_S2.jpg → C:\\Users\\hp\\Documents\\dataset\\PalmDataset\\Palm\\Train\\RightPalm\\s106_4_L_S2.jpg\n",
      "✅ Moved s106_4_R_S2.jpg → C:\\Users\\hp\\Documents\\dataset\\PalmDataset\\Palm\\Train\\LeftPalm\\s106_4_R_S2.jpg\n",
      "✅ Moved s106_5_L_S2.jpg → C:\\Users\\hp\\Documents\\dataset\\PalmDataset\\Palm\\Train\\LeftPalm\\s106_5_L_S2.jpg\n",
      "✅ Moved s106_6_L_S2.jpg → C:\\Users\\hp\\Documents\\dataset\\PalmDataset\\Palm\\Train\\RightPalm\\s106_6_L_S2.jpg\n",
      "✅ Moved s106_6_R_S2.jpg → C:\\Users\\hp\\Documents\\dataset\\PalmDataset\\Palm\\Train\\RightPalm\\s106_6_R_S2.jpg\n",
      "✅ Moved s106_7_L_S2.jpg → C:\\Users\\hp\\Documents\\dataset\\PalmDataset\\Palm\\Train\\LeftPalm\\s106_7_L_S2.jpg\n",
      "✅ Moved s106_7_R_S2.jpg → C:\\Users\\hp\\Documents\\dataset\\PalmDataset\\Palm\\Train\\LeftPalm\\s106_7_R_S2.jpg\n",
      "✅ Moved s106_8_L_S2.jpg → C:\\Users\\hp\\Documents\\dataset\\PalmDataset\\Palm\\Train\\LeftPalm\\s106_8_L_S2.jpg\n",
      "✅ Moved s106_8_R_S2.jpg → C:\\Users\\hp\\Documents\\dataset\\PalmDataset\\Palm\\Train\\RightPalm\\s106_8_R_S2.jpg\n",
      "✅ Moved s106_9_L_S2.jpg → C:\\Users\\hp\\Documents\\dataset\\PalmDataset\\Palm\\Train\\LeftPalm\\s106_9_L_S2.jpg\n",
      "✅ Moved s106_9_R_S2.jpg → C:\\Users\\hp\\Documents\\dataset\\PalmDataset\\Palm\\Train\\RightPalm\\s106_9_R_S2.jpg\n",
      "✅ Moved s107_10_L_S2.jpg → C:\\Users\\hp\\Documents\\dataset\\PalmDataset\\Palm\\Train\\LeftPalm\\s107_10_L_S2.jpg\n",
      "✅ Moved s107_10_R_S2.jpg → C:\\Users\\hp\\Documents\\dataset\\PalmDataset\\Palm\\Train\\LeftPalm\\s107_10_R_S2.jpg\n",
      "✅ Moved s107_1_L_S2.jpg → C:\\Users\\hp\\Documents\\dataset\\PalmDataset\\Palm\\Train\\RightPalm\\s107_1_L_S2.jpg\n",
      "✅ Moved s107_1_R_S2.jpg → C:\\Users\\hp\\Documents\\dataset\\PalmDataset\\Palm\\Train\\RightPalm\\s107_1_R_S2.jpg\n",
      "✅ Moved s107_2_R_S2.jpg → C:\\Users\\hp\\Documents\\dataset\\PalmDataset\\Palm\\Train\\LeftPalm\\s107_2_R_S2.jpg\n",
      "✅ Moved s107_3_L_S2.jpg → C:\\Users\\hp\\Documents\\dataset\\PalmDataset\\Palm\\Train\\RightPalm\\s107_3_L_S2.jpg\n",
      "✅ Moved s107_3_R_S2.jpg → C:\\Users\\hp\\Documents\\dataset\\PalmDataset\\Palm\\Train\\RightPalm\\s107_3_R_S2.jpg\n",
      "✅ Moved s107_4_L_S2.jpg → C:\\Users\\hp\\Documents\\dataset\\PalmDataset\\Palm\\Train\\LeftPalm\\s107_4_L_S2.jpg\n",
      "✅ Moved s107_4_R_S2.jpg → C:\\Users\\hp\\Documents\\dataset\\PalmDataset\\Palm\\Train\\RightPalm\\s107_4_R_S2.jpg\n",
      "✅ Moved s107_5_R_S2.jpg → C:\\Users\\hp\\Documents\\dataset\\PalmDataset\\Palm\\Train\\LeftPalm\\s107_5_R_S2.jpg\n",
      "✅ Moved s107_6_R_S2.jpg → C:\\Users\\hp\\Documents\\dataset\\PalmDataset\\Palm\\Train\\LeftPalm\\s107_6_R_S2.jpg\n",
      "✅ Moved s107_7_L_S2.jpg → C:\\Users\\hp\\Documents\\dataset\\PalmDataset\\Palm\\Train\\RightPalm\\s107_7_L_S2.jpg\n",
      "✅ Moved s107_8_R_S2.jpg → C:\\Users\\hp\\Documents\\dataset\\PalmDataset\\Palm\\Train\\LeftPalm\\s107_8_R_S2.jpg\n",
      "✅ Moved s107_9_L_S2.jpg → C:\\Users\\hp\\Documents\\dataset\\PalmDataset\\Palm\\Train\\RightPalm\\s107_9_L_S2.jpg\n",
      "✅ Moved s107_9_R_S2.jpg → C:\\Users\\hp\\Documents\\dataset\\PalmDataset\\Palm\\Train\\LeftPalm\\s107_9_R_S2.jpg\n",
      "✅ Moved s108_10_L_S2.jpg → C:\\Users\\hp\\Documents\\dataset\\PalmDataset\\Palm\\Train\\LeftPalm\\s108_10_L_S2.jpg\n",
      "✅ Moved s108_1_L_S2.jpg → C:\\Users\\hp\\Documents\\dataset\\PalmDataset\\Palm\\Train\\RightPalm\\s108_1_L_S2.jpg\n",
      "✅ Moved s108_1_R_S2.jpg → C:\\Users\\hp\\Documents\\dataset\\PalmDataset\\Palm\\Train\\RightPalm\\s108_1_R_S2.jpg\n",
      "✅ Moved s108_2_L_S2.jpg → C:\\Users\\hp\\Documents\\dataset\\PalmDataset\\Palm\\Train\\RightPalm\\s108_2_L_S2.jpg\n",
      "✅ Moved s108_2_R_S2.jpg → C:\\Users\\hp\\Documents\\dataset\\PalmDataset\\Palm\\Train\\LeftPalm\\s108_2_R_S2.jpg\n",
      "✅ Moved s108_3_L_S2.jpg → C:\\Users\\hp\\Documents\\dataset\\PalmDataset\\Palm\\Train\\RightPalm\\s108_3_L_S2.jpg\n",
      "✅ Moved s108_3_R_S2.jpg → C:\\Users\\hp\\Documents\\dataset\\PalmDataset\\Palm\\Train\\LeftPalm\\s108_3_R_S2.jpg\n",
      "✅ Moved s108_4_L_S2.jpg → C:\\Users\\hp\\Documents\\dataset\\PalmDataset\\Palm\\Train\\LeftPalm\\s108_4_L_S2.jpg\n",
      "✅ Moved s108_5_L_S2.jpg → C:\\Users\\hp\\Documents\\dataset\\PalmDataset\\Palm\\Train\\LeftPalm\\s108_5_L_S2.jpg\n",
      "✅ Moved s108_5_R_S2.jpg → C:\\Users\\hp\\Documents\\dataset\\PalmDataset\\Palm\\Train\\RightPalm\\s108_5_R_S2.jpg\n",
      "✅ Moved s108_6_L_S2.jpg → C:\\Users\\hp\\Documents\\dataset\\PalmDataset\\Palm\\Train\\LeftPalm\\s108_6_L_S2.jpg\n",
      "✅ Moved s108_7_L_S2.jpg → C:\\Users\\hp\\Documents\\dataset\\PalmDataset\\Palm\\Train\\RightPalm\\s108_7_L_S2.jpg\n",
      "✅ Moved s108_8_L_S2.jpg → C:\\Users\\hp\\Documents\\dataset\\PalmDataset\\Palm\\Train\\RightPalm\\s108_8_L_S2.jpg\n",
      "✅ Moved s108_9_R_S2.jpg → C:\\Users\\hp\\Documents\\dataset\\PalmDataset\\Palm\\Train\\LeftPalm\\s108_9_R_S2.jpg\n",
      "✅ Moved s109_10_R_S2.jpg → C:\\Users\\hp\\Documents\\dataset\\PalmDataset\\Palm\\Train\\RightPalm\\s109_10_R_S2.jpg\n",
      "✅ Moved s109_1_L_S2.jpg → C:\\Users\\hp\\Documents\\dataset\\PalmDataset\\Palm\\Train\\LeftPalm\\s109_1_L_S2.jpg\n",
      "✅ Moved s109_1_R_S2.jpg → C:\\Users\\hp\\Documents\\dataset\\PalmDataset\\Palm\\Train\\RightPalm\\s109_1_R_S2.jpg\n",
      "✅ Moved s109_2_L_S2.jpg → C:\\Users\\hp\\Documents\\dataset\\PalmDataset\\Palm\\Train\\LeftPalm\\s109_2_L_S2.jpg\n",
      "✅ Moved s109_2_R_S2.jpg → C:\\Users\\hp\\Documents\\dataset\\PalmDataset\\Palm\\Train\\LeftPalm\\s109_2_R_S2.jpg\n",
      "✅ Moved s109_3_L_S2.jpg → C:\\Users\\hp\\Documents\\dataset\\PalmDataset\\Palm\\Train\\LeftPalm\\s109_3_L_S2.jpg\n",
      "✅ Moved s109_3_R_S2.jpg → C:\\Users\\hp\\Documents\\dataset\\PalmDataset\\Palm\\Train\\LeftPalm\\s109_3_R_S2.jpg\n",
      "✅ Moved s109_4_L_S2.jpg → C:\\Users\\hp\\Documents\\dataset\\PalmDataset\\Palm\\Train\\LeftPalm\\s109_4_L_S2.jpg\n",
      "✅ Moved s109_4_R_S2.jpg → C:\\Users\\hp\\Documents\\dataset\\PalmDataset\\Palm\\Train\\RightPalm\\s109_4_R_S2.jpg\n",
      "✅ Moved s109_5_L_S2.jpg → C:\\Users\\hp\\Documents\\dataset\\PalmDataset\\Palm\\Train\\RightPalm\\s109_5_L_S2.jpg\n",
      "✅ Moved s109_5_R_S2.jpg → C:\\Users\\hp\\Documents\\dataset\\PalmDataset\\Palm\\Train\\RightPalm\\s109_5_R_S2.jpg\n",
      "✅ Moved s109_6_L_S2.jpg → C:\\Users\\hp\\Documents\\dataset\\PalmDataset\\Palm\\Train\\LeftPalm\\s109_6_L_S2.jpg\n",
      "✅ Moved s109_6_R_S2.jpg → C:\\Users\\hp\\Documents\\dataset\\PalmDataset\\Palm\\Train\\LeftPalm\\s109_6_R_S2.jpg\n",
      "✅ Moved s109_7_L_S2.jpg → C:\\Users\\hp\\Documents\\dataset\\PalmDataset\\Palm\\Train\\LeftPalm\\s109_7_L_S2.jpg\n",
      "✅ Moved s109_8_L_S2.jpg → C:\\Users\\hp\\Documents\\dataset\\PalmDataset\\Palm\\Train\\RightPalm\\s109_8_L_S2.jpg\n",
      "✅ Moved s109_8_R_S2.jpg → C:\\Users\\hp\\Documents\\dataset\\PalmDataset\\Palm\\Train\\RightPalm\\s109_8_R_S2.jpg\n",
      "✅ Moved s109_9_L_S2.jpg → C:\\Users\\hp\\Documents\\dataset\\PalmDataset\\Palm\\Train\\LeftPalm\\s109_9_L_S2.jpg\n",
      "✅ Moved s109_9_R_S2.jpg → C:\\Users\\hp\\Documents\\dataset\\PalmDataset\\Palm\\Train\\RightPalm\\s109_9_R_S2.jpg\n",
      "✅ Moved s10_10_L_S2.jpg → C:\\Users\\hp\\Documents\\dataset\\PalmDataset\\Palm\\Train\\RightPalm\\s10_10_L_S2.jpg\n",
      "✅ Moved s10_10_R_S2.jpg → C:\\Users\\hp\\Documents\\dataset\\PalmDataset\\Palm\\Train\\LeftPalm\\s10_10_R_S2.jpg\n",
      "✅ Moved s10_1_L_S2.jpg → C:\\Users\\hp\\Documents\\dataset\\PalmDataset\\Palm\\Train\\RightPalm\\s10_1_L_S2.jpg\n",
      "✅ Moved s10_1_R_S2.jpg → C:\\Users\\hp\\Documents\\dataset\\PalmDataset\\Palm\\Train\\RightPalm\\s10_1_R_S2.jpg\n",
      "✅ Moved s10_2_L_S2.jpg → C:\\Users\\hp\\Documents\\dataset\\PalmDataset\\Palm\\Train\\RightPalm\\s10_2_L_S2.jpg\n",
      "✅ Moved s10_2_R_S2.jpg → C:\\Users\\hp\\Documents\\dataset\\PalmDataset\\Palm\\Train\\LeftPalm\\s10_2_R_S2.jpg\n",
      "✅ Moved s10_3_L_S2.jpg → C:\\Users\\hp\\Documents\\dataset\\PalmDataset\\Palm\\Train\\RightPalm\\s10_3_L_S2.jpg\n",
      "✅ Moved s10_4_L_S2.jpg → C:\\Users\\hp\\Documents\\dataset\\PalmDataset\\Palm\\Train\\LeftPalm\\s10_4_L_S2.jpg\n",
      "✅ Moved s10_4_R_S2.jpg → C:\\Users\\hp\\Documents\\dataset\\PalmDataset\\Palm\\Train\\RightPalm\\s10_4_R_S2.jpg\n",
      "✅ Moved s10_6_L_S2.jpg → C:\\Users\\hp\\Documents\\dataset\\PalmDataset\\Palm\\Train\\LeftPalm\\s10_6_L_S2.jpg\n",
      "✅ Moved s10_6_R_S2.jpg → C:\\Users\\hp\\Documents\\dataset\\PalmDataset\\Palm\\Train\\RightPalm\\s10_6_R_S2.jpg\n",
      "✅ Moved s10_7_L_S2.jpg → C:\\Users\\hp\\Documents\\dataset\\PalmDataset\\Palm\\Train\\RightPalm\\s10_7_L_S2.jpg\n",
      "✅ Moved s10_8_L_S2.jpg → C:\\Users\\hp\\Documents\\dataset\\PalmDataset\\Palm\\Train\\RightPalm\\s10_8_L_S2.jpg\n",
      "✅ Moved s10_8_R_S2.jpg → C:\\Users\\hp\\Documents\\dataset\\PalmDataset\\Palm\\Train\\LeftPalm\\s10_8_R_S2.jpg\n",
      "✅ Moved s10_9_L_S2.jpg → C:\\Users\\hp\\Documents\\dataset\\PalmDataset\\Palm\\Train\\RightPalm\\s10_9_L_S2.jpg\n",
      "✅ Moved s10_9_R_S2.jpg → C:\\Users\\hp\\Documents\\dataset\\PalmDataset\\Palm\\Train\\LeftPalm\\s10_9_R_S2.jpg\n",
      "✅ Moved s110_10_L_S2.jpg → C:\\Users\\hp\\Documents\\dataset\\PalmDataset\\Palm\\Train\\LeftPalm\\s110_10_L_S2.jpg\n",
      "✅ Moved s110_10_R_S2.jpg → C:\\Users\\hp\\Documents\\dataset\\PalmDataset\\Palm\\Train\\RightPalm\\s110_10_R_S2.jpg\n",
      "✅ Moved s110_1_L_S2.jpg → C:\\Users\\hp\\Documents\\dataset\\PalmDataset\\Palm\\Train\\RightPalm\\s110_1_L_S2.jpg\n",
      "✅ Moved s110_1_R_S2.jpg → C:\\Users\\hp\\Documents\\dataset\\PalmDataset\\Palm\\Train\\RightPalm\\s110_1_R_S2.jpg\n",
      "✅ Moved s110_2_L_S2.jpg → C:\\Users\\hp\\Documents\\dataset\\PalmDataset\\Palm\\Train\\LeftPalm\\s110_2_L_S2.jpg\n",
      "✅ Moved s110_2_R_S2.jpg → C:\\Users\\hp\\Documents\\dataset\\PalmDataset\\Palm\\Train\\RightPalm\\s110_2_R_S2.jpg\n",
      "✅ Moved s110_3_L_S2.jpg → C:\\Users\\hp\\Documents\\dataset\\PalmDataset\\Palm\\Train\\LeftPalm\\s110_3_L_S2.jpg\n",
      "✅ Moved s110_3_R_S2.jpg → C:\\Users\\hp\\Documents\\dataset\\PalmDataset\\Palm\\Train\\RightPalm\\s110_3_R_S2.jpg\n",
      "✅ Moved s110_4_R_S2.jpg → C:\\Users\\hp\\Documents\\dataset\\PalmDataset\\Palm\\Train\\LeftPalm\\s110_4_R_S2.jpg\n",
      "✅ Moved s110_6_L_S2.jpg → C:\\Users\\hp\\Documents\\dataset\\PalmDataset\\Palm\\Train\\LeftPalm\\s110_6_L_S2.jpg\n",
      "✅ Moved s110_6_R_S2.jpg → C:\\Users\\hp\\Documents\\dataset\\PalmDataset\\Palm\\Train\\LeftPalm\\s110_6_R_S2.jpg\n",
      "✅ Moved s110_7_L_S2.jpg → C:\\Users\\hp\\Documents\\dataset\\PalmDataset\\Palm\\Train\\RightPalm\\s110_7_L_S2.jpg\n",
      "✅ Moved s110_7_R_S2.jpg → C:\\Users\\hp\\Documents\\dataset\\PalmDataset\\Palm\\Train\\LeftPalm\\s110_7_R_S2.jpg\n",
      "✅ Moved s110_8_L_S2.jpg → C:\\Users\\hp\\Documents\\dataset\\PalmDataset\\Palm\\Train\\RightPalm\\s110_8_L_S2.jpg\n",
      "✅ Moved s110_8_R_S2.jpg → C:\\Users\\hp\\Documents\\dataset\\PalmDataset\\Palm\\Train\\LeftPalm\\s110_8_R_S2.jpg\n",
      "✅ Moved s110_9_L_S2.jpg → C:\\Users\\hp\\Documents\\dataset\\PalmDataset\\Palm\\Train\\LeftPalm\\s110_9_L_S2.jpg\n",
      "✅ Moved s110_9_R_S2.jpg → C:\\Users\\hp\\Documents\\dataset\\PalmDataset\\Palm\\Train\\RightPalm\\s110_9_R_S2.jpg\n",
      "✅ Moved s111_10_L_S2.jpg → C:\\Users\\hp\\Documents\\dataset\\PalmDataset\\Palm\\Train\\LeftPalm\\s111_10_L_S2.jpg\n",
      "✅ Moved s111_1_L_S2.jpg → C:\\Users\\hp\\Documents\\dataset\\PalmDataset\\Palm\\Train\\RightPalm\\s111_1_L_S2.jpg\n",
      "✅ Moved s111_1_R_S2.jpg → C:\\Users\\hp\\Documents\\dataset\\PalmDataset\\Palm\\Train\\RightPalm\\s111_1_R_S2.jpg\n",
      "✅ Moved s111_2_L_S2.jpg → C:\\Users\\hp\\Documents\\dataset\\PalmDataset\\Palm\\Train\\RightPalm\\s111_2_L_S2.jpg\n",
      "✅ Moved s111_2_R_S2.jpg → C:\\Users\\hp\\Documents\\dataset\\PalmDataset\\Palm\\Train\\LeftPalm\\s111_2_R_S2.jpg\n",
      "✅ Moved s111_3_L_S2.jpg → C:\\Users\\hp\\Documents\\dataset\\PalmDataset\\Palm\\Train\\RightPalm\\s111_3_L_S2.jpg\n",
      "✅ Moved s111_4_L_S2.jpg → C:\\Users\\hp\\Documents\\dataset\\PalmDataset\\Palm\\Train\\RightPalm\\s111_4_L_S2.jpg\n",
      "✅ Moved s111_4_R_S2.jpg → C:\\Users\\hp\\Documents\\dataset\\PalmDataset\\Palm\\Train\\LeftPalm\\s111_4_R_S2.jpg\n",
      "✅ Moved s111_5_L_S2.jpg → C:\\Users\\hp\\Documents\\dataset\\PalmDataset\\Palm\\Train\\LeftPalm\\s111_5_L_S2.jpg\n",
      "✅ Moved s111_5_R_S2.jpg → C:\\Users\\hp\\Documents\\dataset\\PalmDataset\\Palm\\Train\\LeftPalm\\s111_5_R_S2.jpg\n",
      "✅ Moved s111_6_R_S2.jpg → C:\\Users\\hp\\Documents\\dataset\\PalmDataset\\Palm\\Train\\LeftPalm\\s111_6_R_S2.jpg\n",
      "✅ Moved s111_7_R_S2.jpg → C:\\Users\\hp\\Documents\\dataset\\PalmDataset\\Palm\\Train\\RightPalm\\s111_7_R_S2.jpg\n",
      "✅ Moved s111_8_R_S2.jpg → C:\\Users\\hp\\Documents\\dataset\\PalmDataset\\Palm\\Train\\RightPalm\\s111_8_R_S2.jpg\n",
      "✅ Moved s111_9_R_S2.jpg → C:\\Users\\hp\\Documents\\dataset\\PalmDataset\\Palm\\Train\\LeftPalm\\s111_9_R_S2.jpg\n",
      "✅ Moved s112_10_L_S2.jpg → C:\\Users\\hp\\Documents\\dataset\\PalmDataset\\Palm\\Train\\LeftPalm\\s112_10_L_S2.jpg\n",
      "✅ Moved s112_10_R_S2.jpg → C:\\Users\\hp\\Documents\\dataset\\PalmDataset\\Palm\\Train\\LeftPalm\\s112_10_R_S2.jpg\n",
      "✅ Moved s112_1_L_S2.jpg → C:\\Users\\hp\\Documents\\dataset\\PalmDataset\\Palm\\Train\\RightPalm\\s112_1_L_S2.jpg\n",
      "✅ Moved s112_1_R_S2.jpg → C:\\Users\\hp\\Documents\\dataset\\PalmDataset\\Palm\\Train\\LeftPalm\\s112_1_R_S2.jpg\n",
      "✅ Moved s112_2_L_S2.jpg → C:\\Users\\hp\\Documents\\dataset\\PalmDataset\\Palm\\Train\\LeftPalm\\s112_2_L_S2.jpg\n",
      "✅ Moved s112_3_L_S2.jpg → C:\\Users\\hp\\Documents\\dataset\\PalmDataset\\Palm\\Train\\LeftPalm\\s112_3_L_S2.jpg\n",
      "✅ Moved s112_3_R_S2.jpg → C:\\Users\\hp\\Documents\\dataset\\PalmDataset\\Palm\\Train\\LeftPalm\\s112_3_R_S2.jpg\n",
      "✅ Moved s112_4_L_S2.jpg → C:\\Users\\hp\\Documents\\dataset\\PalmDataset\\Palm\\Train\\LeftPalm\\s112_4_L_S2.jpg\n",
      "✅ Moved s112_4_R_S2.jpg → C:\\Users\\hp\\Documents\\dataset\\PalmDataset\\Palm\\Train\\RightPalm\\s112_4_R_S2.jpg\n",
      "✅ Moved s112_5_L_S2.jpg → C:\\Users\\hp\\Documents\\dataset\\PalmDataset\\Palm\\Train\\LeftPalm\\s112_5_L_S2.jpg\n",
      "✅ Moved s112_5_R_S2.jpg → C:\\Users\\hp\\Documents\\dataset\\PalmDataset\\Palm\\Train\\RightPalm\\s112_5_R_S2.jpg\n",
      "✅ Moved s112_6_R_S2.jpg → C:\\Users\\hp\\Documents\\dataset\\PalmDataset\\Palm\\Train\\RightPalm\\s112_6_R_S2.jpg\n",
      "✅ Moved s112_7_L_S2.jpg → C:\\Users\\hp\\Documents\\dataset\\PalmDataset\\Palm\\Train\\RightPalm\\s112_7_L_S2.jpg\n",
      "✅ Moved s112_7_R_S2.jpg → C:\\Users\\hp\\Documents\\dataset\\PalmDataset\\Palm\\Train\\LeftPalm\\s112_7_R_S2.jpg\n",
      "✅ Moved s112_8_L_S2.jpg → C:\\Users\\hp\\Documents\\dataset\\PalmDataset\\Palm\\Train\\LeftPalm\\s112_8_L_S2.jpg\n",
      "✅ Moved s112_8_R_S2.jpg → C:\\Users\\hp\\Documents\\dataset\\PalmDataset\\Palm\\Train\\LeftPalm\\s112_8_R_S2.jpg\n",
      "✅ Moved s112_9_L_S2.jpg → C:\\Users\\hp\\Documents\\dataset\\PalmDataset\\Palm\\Train\\LeftPalm\\s112_9_L_S2.jpg\n",
      "✅ Moved s112_9_R_S2.jpg → C:\\Users\\hp\\Documents\\dataset\\PalmDataset\\Palm\\Train\\LeftPalm\\s112_9_R_S2.jpg\n",
      "✅ Moved s113_10_L_S2.jpg → C:\\Users\\hp\\Documents\\dataset\\PalmDataset\\Palm\\Train\\LeftPalm\\s113_10_L_S2.jpg\n",
      "✅ Moved s113_10_R_S2.jpg → C:\\Users\\hp\\Documents\\dataset\\PalmDataset\\Palm\\Train\\LeftPalm\\s113_10_R_S2.jpg\n",
      "✅ Moved s113_1_L_S2.jpg → C:\\Users\\hp\\Documents\\dataset\\PalmDataset\\Palm\\Train\\RightPalm\\s113_1_L_S2.jpg\n",
      "✅ Moved s113_1_R_S2.jpg → C:\\Users\\hp\\Documents\\dataset\\PalmDataset\\Palm\\Train\\RightPalm\\s113_1_R_S2.jpg\n",
      "✅ Moved s113_2_L_S2.jpg → C:\\Users\\hp\\Documents\\dataset\\PalmDataset\\Palm\\Train\\LeftPalm\\s113_2_L_S2.jpg\n",
      "✅ Moved s113_2_R_S2.jpg → C:\\Users\\hp\\Documents\\dataset\\PalmDataset\\Palm\\Train\\LeftPalm\\s113_2_R_S2.jpg\n",
      "✅ Moved s113_3_L_S2.jpg → C:\\Users\\hp\\Documents\\dataset\\PalmDataset\\Palm\\Train\\RightPalm\\s113_3_L_S2.jpg\n",
      "✅ Moved s113_3_R_S2.jpg → C:\\Users\\hp\\Documents\\dataset\\PalmDataset\\Palm\\Train\\LeftPalm\\s113_3_R_S2.jpg\n",
      "✅ Moved s113_4_L_S2.jpg → C:\\Users\\hp\\Documents\\dataset\\PalmDataset\\Palm\\Train\\RightPalm\\s113_4_L_S2.jpg\n",
      "✅ Moved s113_5_L_S2.jpg → C:\\Users\\hp\\Documents\\dataset\\PalmDataset\\Palm\\Train\\LeftPalm\\s113_5_L_S2.jpg\n",
      "✅ Moved s113_5_R_S2.jpg → C:\\Users\\hp\\Documents\\dataset\\PalmDataset\\Palm\\Train\\LeftPalm\\s113_5_R_S2.jpg\n",
      "✅ Moved s113_6_L_S2.jpg → C:\\Users\\hp\\Documents\\dataset\\PalmDataset\\Palm\\Train\\RightPalm\\s113_6_L_S2.jpg\n",
      "✅ Moved s113_6_R_S2.jpg → C:\\Users\\hp\\Documents\\dataset\\PalmDataset\\Palm\\Train\\RightPalm\\s113_6_R_S2.jpg\n",
      "✅ Moved s113_7_L_S2.jpg → C:\\Users\\hp\\Documents\\dataset\\PalmDataset\\Palm\\Train\\LeftPalm\\s113_7_L_S2.jpg\n",
      "✅ Moved s113_7_R_S2.jpg → C:\\Users\\hp\\Documents\\dataset\\PalmDataset\\Palm\\Train\\RightPalm\\s113_7_R_S2.jpg\n",
      "✅ Moved s114_10_L_S2.jpg → C:\\Users\\hp\\Documents\\dataset\\PalmDataset\\Palm\\Train\\LeftPalm\\s114_10_L_S2.jpg\n",
      "✅ Moved s114_10_R_S2.jpg → C:\\Users\\hp\\Documents\\dataset\\PalmDataset\\Palm\\Train\\LeftPalm\\s114_10_R_S2.jpg\n",
      "✅ Moved s114_1_R_S2.jpg → C:\\Users\\hp\\Documents\\dataset\\PalmDataset\\Palm\\Train\\LeftPalm\\s114_1_R_S2.jpg\n",
      "✅ Moved s114_2_L_S2.jpg → C:\\Users\\hp\\Documents\\dataset\\PalmDataset\\Palm\\Train\\RightPalm\\s114_2_L_S2.jpg\n",
      "✅ Moved s114_2_R_S2.jpg → C:\\Users\\hp\\Documents\\dataset\\PalmDataset\\Palm\\Train\\LeftPalm\\s114_2_R_S2.jpg\n",
      "✅ Moved s114_3_L_S2.jpg → C:\\Users\\hp\\Documents\\dataset\\PalmDataset\\Palm\\Train\\LeftPalm\\s114_3_L_S2.jpg\n",
      "✅ Moved s114_3_R_S2.jpg → C:\\Users\\hp\\Documents\\dataset\\PalmDataset\\Palm\\Train\\LeftPalm\\s114_3_R_S2.jpg\n",
      "✅ Moved s114_4_R_S2.jpg → C:\\Users\\hp\\Documents\\dataset\\PalmDataset\\Palm\\Train\\RightPalm\\s114_4_R_S2.jpg\n",
      "✅ Moved s114_5_L_S2.jpg → C:\\Users\\hp\\Documents\\dataset\\PalmDataset\\Palm\\Train\\LeftPalm\\s114_5_L_S2.jpg\n",
      "✅ Moved s114_6_L_S2.jpg → C:\\Users\\hp\\Documents\\dataset\\PalmDataset\\Palm\\Train\\RightPalm\\s114_6_L_S2.jpg\n",
      "✅ Moved s114_6_R_S2.jpg → C:\\Users\\hp\\Documents\\dataset\\PalmDataset\\Palm\\Train\\RightPalm\\s114_6_R_S2.jpg\n",
      "✅ Moved s114_7_L_S2.jpg → C:\\Users\\hp\\Documents\\dataset\\PalmDataset\\Palm\\Train\\RightPalm\\s114_7_L_S2.jpg\n",
      "✅ Moved s114_7_R_S2.jpg → C:\\Users\\hp\\Documents\\dataset\\PalmDataset\\Palm\\Train\\LeftPalm\\s114_7_R_S2.jpg\n",
      "✅ Moved s114_8_L_S2.jpg → C:\\Users\\hp\\Documents\\dataset\\PalmDataset\\Palm\\Train\\RightPalm\\s114_8_L_S2.jpg\n",
      "✅ Moved s114_8_R_S2.jpg → C:\\Users\\hp\\Documents\\dataset\\PalmDataset\\Palm\\Train\\LeftPalm\\s114_8_R_S2.jpg\n",
      "✅ Moved s114_9_R_S2.jpg → C:\\Users\\hp\\Documents\\dataset\\PalmDataset\\Palm\\Train\\RightPalm\\s114_9_R_S2.jpg\n",
      "✅ Moved s115_10_L_S2.jpg → C:\\Users\\hp\\Documents\\dataset\\PalmDataset\\Palm\\Train\\RightPalm\\s115_10_L_S2.jpg\n",
      "✅ Moved s115_1_R_S2.jpg → C:\\Users\\hp\\Documents\\dataset\\PalmDataset\\Palm\\Train\\RightPalm\\s115_1_R_S2.jpg\n",
      "✅ Moved s115_2_L_S2.jpg → C:\\Users\\hp\\Documents\\dataset\\PalmDataset\\Palm\\Train\\LeftPalm\\s115_2_L_S2.jpg\n",
      "✅ Moved s115_2_R_S2.jpg → C:\\Users\\hp\\Documents\\dataset\\PalmDataset\\Palm\\Train\\LeftPalm\\s115_2_R_S2.jpg\n",
      "✅ Moved s115_3_L_S2.jpg → C:\\Users\\hp\\Documents\\dataset\\PalmDataset\\Palm\\Train\\RightPalm\\s115_3_L_S2.jpg\n",
      "✅ Moved s115_3_R_S2.jpg → C:\\Users\\hp\\Documents\\dataset\\PalmDataset\\Palm\\Train\\LeftPalm\\s115_3_R_S2.jpg\n",
      "✅ Moved s115_4_L_S2.jpg → C:\\Users\\hp\\Documents\\dataset\\PalmDataset\\Palm\\Train\\LeftPalm\\s115_4_L_S2.jpg\n",
      "✅ Moved s115_4_R_S2.jpg → C:\\Users\\hp\\Documents\\dataset\\PalmDataset\\Palm\\Train\\LeftPalm\\s115_4_R_S2.jpg\n",
      "✅ Moved s115_5_L_S2.jpg → C:\\Users\\hp\\Documents\\dataset\\PalmDataset\\Palm\\Train\\LeftPalm\\s115_5_L_S2.jpg\n",
      "✅ Moved s115_5_R_S2.jpg → C:\\Users\\hp\\Documents\\dataset\\PalmDataset\\Palm\\Train\\LeftPalm\\s115_5_R_S2.jpg\n",
      "✅ Moved s115_6_L_S2.jpg → C:\\Users\\hp\\Documents\\dataset\\PalmDataset\\Palm\\Train\\LeftPalm\\s115_6_L_S2.jpg\n",
      "✅ Moved s115_6_R_S2.jpg → C:\\Users\\hp\\Documents\\dataset\\PalmDataset\\Palm\\Train\\LeftPalm\\s115_6_R_S2.jpg\n",
      "✅ Moved s115_7_L_S2.jpg → C:\\Users\\hp\\Documents\\dataset\\PalmDataset\\Palm\\Train\\RightPalm\\s115_7_L_S2.jpg\n",
      "✅ Moved s115_7_R_S2.jpg → C:\\Users\\hp\\Documents\\dataset\\PalmDataset\\Palm\\Train\\LeftPalm\\s115_7_R_S2.jpg\n",
      "✅ Moved s115_8_R_S2.jpg → C:\\Users\\hp\\Documents\\dataset\\PalmDataset\\Palm\\Train\\RightPalm\\s115_8_R_S2.jpg\n",
      "✅ Moved s115_9_L_S2.jpg → C:\\Users\\hp\\Documents\\dataset\\PalmDataset\\Palm\\Train\\LeftPalm\\s115_9_L_S2.jpg\n",
      "✅ Moved s115_9_R_S2.jpg → C:\\Users\\hp\\Documents\\dataset\\PalmDataset\\Palm\\Train\\RightPalm\\s115_9_R_S2.jpg\n",
      "✅ Moved s116_10_R_S2.jpg → C:\\Users\\hp\\Documents\\dataset\\PalmDataset\\Palm\\Train\\RightPalm\\s116_10_R_S2.jpg\n",
      "✅ Moved s116_1_L_S2.jpg → C:\\Users\\hp\\Documents\\dataset\\PalmDataset\\Palm\\Train\\LeftPalm\\s116_1_L_S2.jpg\n",
      "✅ Moved s116_1_R_S2.jpg → C:\\Users\\hp\\Documents\\dataset\\PalmDataset\\Palm\\Train\\RightPalm\\s116_1_R_S2.jpg\n",
      "✅ Moved s116_2_R_S2.jpg → C:\\Users\\hp\\Documents\\dataset\\PalmDataset\\Palm\\Train\\LeftPalm\\s116_2_R_S2.jpg\n",
      "✅ Moved s116_3_L_S2.jpg → C:\\Users\\hp\\Documents\\dataset\\PalmDataset\\Palm\\Train\\LeftPalm\\s116_3_L_S2.jpg\n",
      "✅ Moved s116_3_R_S2.jpg → C:\\Users\\hp\\Documents\\dataset\\PalmDataset\\Palm\\Train\\LeftPalm\\s116_3_R_S2.jpg\n",
      "✅ Moved s116_4_L_S2.jpg → C:\\Users\\hp\\Documents\\dataset\\PalmDataset\\Palm\\Train\\RightPalm\\s116_4_L_S2.jpg\n",
      "✅ Moved s116_4_R_S2.jpg → C:\\Users\\hp\\Documents\\dataset\\PalmDataset\\Palm\\Train\\RightPalm\\s116_4_R_S2.jpg\n",
      "✅ Moved s116_5_L_S2.jpg → C:\\Users\\hp\\Documents\\dataset\\PalmDataset\\Palm\\Train\\LeftPalm\\s116_5_L_S2.jpg\n",
      "✅ Moved s116_6_L_S2.jpg → C:\\Users\\hp\\Documents\\dataset\\PalmDataset\\Palm\\Train\\LeftPalm\\s116_6_L_S2.jpg\n",
      "✅ Moved s116_6_R_S2.jpg → C:\\Users\\hp\\Documents\\dataset\\PalmDataset\\Palm\\Train\\LeftPalm\\s116_6_R_S2.jpg\n",
      "✅ Moved s116_7_L_S2.jpg → C:\\Users\\hp\\Documents\\dataset\\PalmDataset\\Palm\\Train\\LeftPalm\\s116_7_L_S2.jpg\n",
      "✅ Moved s116_7_R_S2.jpg → C:\\Users\\hp\\Documents\\dataset\\PalmDataset\\Palm\\Train\\LeftPalm\\s116_7_R_S2.jpg\n",
      "✅ Moved s116_8_L_S2.jpg → C:\\Users\\hp\\Documents\\dataset\\PalmDataset\\Palm\\Train\\LeftPalm\\s116_8_L_S2.jpg\n",
      "✅ Moved s116_8_R_S2.jpg → C:\\Users\\hp\\Documents\\dataset\\PalmDataset\\Palm\\Train\\RightPalm\\s116_8_R_S2.jpg\n",
      "✅ Moved s116_9_R_S2.jpg → C:\\Users\\hp\\Documents\\dataset\\PalmDataset\\Palm\\Train\\RightPalm\\s116_9_R_S2.jpg\n",
      "✅ Moved s117_10_L_S2.jpg → C:\\Users\\hp\\Documents\\dataset\\PalmDataset\\Palm\\Train\\LeftPalm\\s117_10_L_S2.jpg\n",
      "✅ Moved s117_10_R_S2.jpg → C:\\Users\\hp\\Documents\\dataset\\PalmDataset\\Palm\\Train\\RightPalm\\s117_10_R_S2.jpg\n",
      "✅ Moved s117_1_L_S2.jpg → C:\\Users\\hp\\Documents\\dataset\\PalmDataset\\Palm\\Train\\LeftPalm\\s117_1_L_S2.jpg\n",
      "✅ Moved s117_2_L_S2.jpg → C:\\Users\\hp\\Documents\\dataset\\PalmDataset\\Palm\\Train\\LeftPalm\\s117_2_L_S2.jpg\n",
      "✅ Moved s117_2_R_S2.jpg → C:\\Users\\hp\\Documents\\dataset\\PalmDataset\\Palm\\Train\\RightPalm\\s117_2_R_S2.jpg\n",
      "✅ Moved s117_3_L_S2.jpg → C:\\Users\\hp\\Documents\\dataset\\PalmDataset\\Palm\\Train\\RightPalm\\s117_3_L_S2.jpg\n",
      "✅ Moved s117_3_R_S2.jpg → C:\\Users\\hp\\Documents\\dataset\\PalmDataset\\Palm\\Train\\RightPalm\\s117_3_R_S2.jpg\n",
      "✅ Moved s117_4_R_S2.jpg → C:\\Users\\hp\\Documents\\dataset\\PalmDataset\\Palm\\Train\\LeftPalm\\s117_4_R_S2.jpg\n",
      "✅ Moved s117_5_L_S2.jpg → C:\\Users\\hp\\Documents\\dataset\\PalmDataset\\Palm\\Train\\LeftPalm\\s117_5_L_S2.jpg\n",
      "✅ Moved s117_5_R_S2.jpg → C:\\Users\\hp\\Documents\\dataset\\PalmDataset\\Palm\\Train\\RightPalm\\s117_5_R_S2.jpg\n",
      "✅ Moved s117_6_L_S2.jpg → C:\\Users\\hp\\Documents\\dataset\\PalmDataset\\Palm\\Train\\LeftPalm\\s117_6_L_S2.jpg\n",
      "✅ Moved s117_6_R_S2.jpg → C:\\Users\\hp\\Documents\\dataset\\PalmDataset\\Palm\\Train\\LeftPalm\\s117_6_R_S2.jpg\n",
      "✅ Moved s117_7_R_S2.jpg → C:\\Users\\hp\\Documents\\dataset\\PalmDataset\\Palm\\Train\\RightPalm\\s117_7_R_S2.jpg\n",
      "✅ Moved s117_8_L_S2.jpg → C:\\Users\\hp\\Documents\\dataset\\PalmDataset\\Palm\\Train\\RightPalm\\s117_8_L_S2.jpg\n",
      "✅ Moved s117_8_R_S2.jpg → C:\\Users\\hp\\Documents\\dataset\\PalmDataset\\Palm\\Train\\RightPalm\\s117_8_R_S2.jpg\n",
      "✅ Moved s117_9_L_S2.jpg → C:\\Users\\hp\\Documents\\dataset\\PalmDataset\\Palm\\Train\\RightPalm\\s117_9_L_S2.jpg\n",
      "✅ Moved s118_10_L_S2.jpg → C:\\Users\\hp\\Documents\\dataset\\PalmDataset\\Palm\\Train\\LeftPalm\\s118_10_L_S2.jpg\n",
      "✅ Moved s118_1_L_S2.jpg → C:\\Users\\hp\\Documents\\dataset\\PalmDataset\\Palm\\Train\\RightPalm\\s118_1_L_S2.jpg\n",
      "✅ Moved s118_1_R_S2.jpg → C:\\Users\\hp\\Documents\\dataset\\PalmDataset\\Palm\\Train\\RightPalm\\s118_1_R_S2.jpg\n",
      "✅ Moved s118_2_L_S2.jpg → C:\\Users\\hp\\Documents\\dataset\\PalmDataset\\Palm\\Train\\RightPalm\\s118_2_L_S2.jpg\n",
      "✅ Moved s118_2_R_S2.jpg → C:\\Users\\hp\\Documents\\dataset\\PalmDataset\\Palm\\Train\\RightPalm\\s118_2_R_S2.jpg\n",
      "✅ Moved s118_3_L_S2.jpg → C:\\Users\\hp\\Documents\\dataset\\PalmDataset\\Palm\\Train\\RightPalm\\s118_3_L_S2.jpg\n",
      "✅ Moved s118_3_R_S2.jpg → C:\\Users\\hp\\Documents\\dataset\\PalmDataset\\Palm\\Train\\RightPalm\\s118_3_R_S2.jpg\n",
      "✅ Moved s118_4_L_S2.jpg → C:\\Users\\hp\\Documents\\dataset\\PalmDataset\\Palm\\Train\\LeftPalm\\s118_4_L_S2.jpg\n",
      "✅ Moved s118_4_R_S2.jpg → C:\\Users\\hp\\Documents\\dataset\\PalmDataset\\Palm\\Train\\RightPalm\\s118_4_R_S2.jpg\n",
      "✅ Moved s118_5_L_S2.jpg → C:\\Users\\hp\\Documents\\dataset\\PalmDataset\\Palm\\Train\\LeftPalm\\s118_5_L_S2.jpg\n",
      "✅ Moved s118_5_R_S2.jpg → C:\\Users\\hp\\Documents\\dataset\\PalmDataset\\Palm\\Train\\RightPalm\\s118_5_R_S2.jpg\n",
      "✅ Moved s118_6_L_S2.jpg → C:\\Users\\hp\\Documents\\dataset\\PalmDataset\\Palm\\Train\\LeftPalm\\s118_6_L_S2.jpg\n",
      "✅ Moved s118_6_R_S2.jpg → C:\\Users\\hp\\Documents\\dataset\\PalmDataset\\Palm\\Train\\LeftPalm\\s118_6_R_S2.jpg\n",
      "✅ Moved s118_7_L_S2.jpg → C:\\Users\\hp\\Documents\\dataset\\PalmDataset\\Palm\\Train\\LeftPalm\\s118_7_L_S2.jpg\n",
      "✅ Moved s118_8_L_S2.jpg → C:\\Users\\hp\\Documents\\dataset\\PalmDataset\\Palm\\Train\\LeftPalm\\s118_8_L_S2.jpg\n",
      "✅ Moved s118_8_R_S2.jpg → C:\\Users\\hp\\Documents\\dataset\\PalmDataset\\Palm\\Train\\RightPalm\\s118_8_R_S2.jpg\n",
      "✅ Moved s119_10_L_S2.jpg → C:\\Users\\hp\\Documents\\dataset\\PalmDataset\\Palm\\Train\\RightPalm\\s119_10_L_S2.jpg\n",
      "✅ Moved s119_10_R_S2.jpg → C:\\Users\\hp\\Documents\\dataset\\PalmDataset\\Palm\\Train\\LeftPalm\\s119_10_R_S2.jpg\n",
      "✅ Moved s119_1_R_S2.jpg → C:\\Users\\hp\\Documents\\dataset\\PalmDataset\\Palm\\Train\\LeftPalm\\s119_1_R_S2.jpg\n",
      "✅ Moved s119_2_L_S2.jpg → C:\\Users\\hp\\Documents\\dataset\\PalmDataset\\Palm\\Train\\RightPalm\\s119_2_L_S2.jpg\n",
      "✅ Moved s119_2_R_S2.jpg → C:\\Users\\hp\\Documents\\dataset\\PalmDataset\\Palm\\Train\\RightPalm\\s119_2_R_S2.jpg\n",
      "✅ Moved s119_3_L_S2.jpg → C:\\Users\\hp\\Documents\\dataset\\PalmDataset\\Palm\\Train\\RightPalm\\s119_3_L_S2.jpg\n",
      "✅ Moved s119_4_R_S2.jpg → C:\\Users\\hp\\Documents\\dataset\\PalmDataset\\Palm\\Train\\RightPalm\\s119_4_R_S2.jpg\n",
      "✅ Moved s119_5_L_S2.jpg → C:\\Users\\hp\\Documents\\dataset\\PalmDataset\\Palm\\Train\\RightPalm\\s119_5_L_S2.jpg\n",
      "✅ Moved s119_5_R_S2.jpg → C:\\Users\\hp\\Documents\\dataset\\PalmDataset\\Palm\\Train\\RightPalm\\s119_5_R_S2.jpg\n",
      "✅ Moved s119_6_L_S2.jpg → C:\\Users\\hp\\Documents\\dataset\\PalmDataset\\Palm\\Train\\RightPalm\\s119_6_L_S2.jpg\n",
      "✅ Moved s119_6_R_S2.jpg → C:\\Users\\hp\\Documents\\dataset\\PalmDataset\\Palm\\Train\\RightPalm\\s119_6_R_S2.jpg\n",
      "✅ Moved s119_7_L_S2.jpg → C:\\Users\\hp\\Documents\\dataset\\PalmDataset\\Palm\\Train\\RightPalm\\s119_7_L_S2.jpg\n",
      "✅ Moved s119_7_R_S2.jpg → C:\\Users\\hp\\Documents\\dataset\\PalmDataset\\Palm\\Train\\LeftPalm\\s119_7_R_S2.jpg\n",
      "✅ Moved s119_8_L_S2.jpg → C:\\Users\\hp\\Documents\\dataset\\PalmDataset\\Palm\\Train\\LeftPalm\\s119_8_L_S2.jpg\n",
      "✅ Moved s119_8_R_S2.jpg → C:\\Users\\hp\\Documents\\dataset\\PalmDataset\\Palm\\Train\\LeftPalm\\s119_8_R_S2.jpg\n",
      "✅ Moved s119_9_L_S2.jpg → C:\\Users\\hp\\Documents\\dataset\\PalmDataset\\Palm\\Train\\LeftPalm\\s119_9_L_S2.jpg\n",
      "✅ Moved s119_9_R_S2.jpg → C:\\Users\\hp\\Documents\\dataset\\PalmDataset\\Palm\\Train\\LeftPalm\\s119_9_R_S2.jpg\n",
      "✅ Moved s11_10_R_S2.jpg → C:\\Users\\hp\\Documents\\dataset\\PalmDataset\\Palm\\Train\\RightPalm\\s11_10_R_S2.jpg\n",
      "✅ Moved s11_1_L_S2.jpg → C:\\Users\\hp\\Documents\\dataset\\PalmDataset\\Palm\\Train\\RightPalm\\s11_1_L_S2.jpg\n",
      "✅ Moved s11_1_R_S2.jpg → C:\\Users\\hp\\Documents\\dataset\\PalmDataset\\Palm\\Train\\RightPalm\\s11_1_R_S2.jpg\n",
      "✅ Moved s11_2_L_S2.jpg → C:\\Users\\hp\\Documents\\dataset\\PalmDataset\\Palm\\Train\\LeftPalm\\s11_2_L_S2.jpg\n",
      "✅ Moved s11_2_R_S2.jpg → C:\\Users\\hp\\Documents\\dataset\\PalmDataset\\Palm\\Train\\LeftPalm\\s11_2_R_S2.jpg\n",
      "✅ Moved s11_3_L_S2.jpg → C:\\Users\\hp\\Documents\\dataset\\PalmDataset\\Palm\\Train\\LeftPalm\\s11_3_L_S2.jpg\n",
      "✅ Moved s11_3_R_S2.jpg → C:\\Users\\hp\\Documents\\dataset\\PalmDataset\\Palm\\Train\\RightPalm\\s11_3_R_S2.jpg\n",
      "✅ Moved s11_4_L_S2.jpg → C:\\Users\\hp\\Documents\\dataset\\PalmDataset\\Palm\\Train\\RightPalm\\s11_4_L_S2.jpg\n",
      "✅ Moved s11_4_R_S2.jpg → C:\\Users\\hp\\Documents\\dataset\\PalmDataset\\Palm\\Train\\LeftPalm\\s11_4_R_S2.jpg\n",
      "✅ Moved s11_5_L_S2.jpg → C:\\Users\\hp\\Documents\\dataset\\PalmDataset\\Palm\\Train\\RightPalm\\s11_5_L_S2.jpg\n",
      "✅ Moved s11_5_R_S2.jpg → C:\\Users\\hp\\Documents\\dataset\\PalmDataset\\Palm\\Train\\LeftPalm\\s11_5_R_S2.jpg\n",
      "✅ Moved s11_6_L_S2.jpg → C:\\Users\\hp\\Documents\\dataset\\PalmDataset\\Palm\\Train\\RightPalm\\s11_6_L_S2.jpg\n",
      "✅ Moved s11_6_R_S2.jpg → C:\\Users\\hp\\Documents\\dataset\\PalmDataset\\Palm\\Train\\RightPalm\\s11_6_R_S2.jpg\n",
      "✅ Moved s11_7_L_S2.jpg → C:\\Users\\hp\\Documents\\dataset\\PalmDataset\\Palm\\Train\\RightPalm\\s11_7_L_S2.jpg\n",
      "✅ Moved s11_8_L_S2.jpg → C:\\Users\\hp\\Documents\\dataset\\PalmDataset\\Palm\\Train\\RightPalm\\s11_8_L_S2.jpg\n",
      "✅ Moved s11_8_R_S2.jpg → C:\\Users\\hp\\Documents\\dataset\\PalmDataset\\Palm\\Train\\LeftPalm\\s11_8_R_S2.jpg\n",
      "✅ Moved s11_9_L_S2.jpg → C:\\Users\\hp\\Documents\\dataset\\PalmDataset\\Palm\\Train\\LeftPalm\\s11_9_L_S2.jpg\n",
      "✅ Moved s11_9_R_S2.jpg → C:\\Users\\hp\\Documents\\dataset\\PalmDataset\\Palm\\Train\\LeftPalm\\s11_9_R_S2.jpg\n",
      "✅ Moved s120_10_L_S2.jpg → C:\\Users\\hp\\Documents\\dataset\\PalmDataset\\Palm\\Train\\LeftPalm\\s120_10_L_S2.jpg\n",
      "✅ Moved s120_10_R_S2.jpg → C:\\Users\\hp\\Documents\\dataset\\PalmDataset\\Palm\\Train\\LeftPalm\\s120_10_R_S2.jpg\n",
      "✅ Moved s120_1_L_S2.jpg → C:\\Users\\hp\\Documents\\dataset\\PalmDataset\\Palm\\Train\\LeftPalm\\s120_1_L_S2.jpg\n",
      "✅ Moved s120_1_R_S2.jpg → C:\\Users\\hp\\Documents\\dataset\\PalmDataset\\Palm\\Train\\RightPalm\\s120_1_R_S2.jpg\n",
      "✅ Moved s120_2_L_S2.jpg → C:\\Users\\hp\\Documents\\dataset\\PalmDataset\\Palm\\Train\\RightPalm\\s120_2_L_S2.jpg\n",
      "✅ Moved s120_2_R_S2.jpg → C:\\Users\\hp\\Documents\\dataset\\PalmDataset\\Palm\\Train\\RightPalm\\s120_2_R_S2.jpg\n",
      "✅ Moved s120_3_L_S2.jpg → C:\\Users\\hp\\Documents\\dataset\\PalmDataset\\Palm\\Train\\LeftPalm\\s120_3_L_S2.jpg\n",
      "✅ Moved s120_3_R_S2.jpg → C:\\Users\\hp\\Documents\\dataset\\PalmDataset\\Palm\\Train\\LeftPalm\\s120_3_R_S2.jpg\n",
      "✅ Moved s120_4_L_S2.jpg → C:\\Users\\hp\\Documents\\dataset\\PalmDataset\\Palm\\Train\\LeftPalm\\s120_4_L_S2.jpg\n",
      "✅ Moved s120_5_R_S2.jpg → C:\\Users\\hp\\Documents\\dataset\\PalmDataset\\Palm\\Train\\RightPalm\\s120_5_R_S2.jpg\n",
      "✅ Moved s120_6_L_S2.jpg → C:\\Users\\hp\\Documents\\dataset\\PalmDataset\\Palm\\Train\\LeftPalm\\s120_6_L_S2.jpg\n",
      "✅ Moved s120_6_R_S2.jpg → C:\\Users\\hp\\Documents\\dataset\\PalmDataset\\Palm\\Train\\LeftPalm\\s120_6_R_S2.jpg\n",
      "✅ Moved s120_7_L_S2.jpg → C:\\Users\\hp\\Documents\\dataset\\PalmDataset\\Palm\\Train\\RightPalm\\s120_7_L_S2.jpg\n",
      "✅ Moved s120_7_R_S2.jpg → C:\\Users\\hp\\Documents\\dataset\\PalmDataset\\Palm\\Train\\LeftPalm\\s120_7_R_S2.jpg\n",
      "✅ Moved s120_8_L_S2.jpg → C:\\Users\\hp\\Documents\\dataset\\PalmDataset\\Palm\\Train\\RightPalm\\s120_8_L_S2.jpg\n",
      "✅ Moved s120_8_R_S2.jpg → C:\\Users\\hp\\Documents\\dataset\\PalmDataset\\Palm\\Train\\LeftPalm\\s120_8_R_S2.jpg\n",
      "✅ Moved s120_9_L_S2.jpg → C:\\Users\\hp\\Documents\\dataset\\PalmDataset\\Palm\\Train\\LeftPalm\\s120_9_L_S2.jpg\n",
      "✅ Moved s121_10_L_S2.jpg → C:\\Users\\hp\\Documents\\dataset\\PalmDataset\\Palm\\Train\\RightPalm\\s121_10_L_S2.jpg\n",
      "✅ Moved s121_1_L_S2.jpg → C:\\Users\\hp\\Documents\\dataset\\PalmDataset\\Palm\\Train\\LeftPalm\\s121_1_L_S2.jpg\n",
      "✅ Moved s121_1_R_S2.jpg → C:\\Users\\hp\\Documents\\dataset\\PalmDataset\\Palm\\Train\\LeftPalm\\s121_1_R_S2.jpg\n",
      "✅ Moved s121_2_L_S2.jpg → C:\\Users\\hp\\Documents\\dataset\\PalmDataset\\Palm\\Train\\LeftPalm\\s121_2_L_S2.jpg\n",
      "✅ Moved s121_2_R_S2.jpg → C:\\Users\\hp\\Documents\\dataset\\PalmDataset\\Palm\\Train\\RightPalm\\s121_2_R_S2.jpg\n",
      "✅ Moved s121_3_R_S2.jpg → C:\\Users\\hp\\Documents\\dataset\\PalmDataset\\Palm\\Train\\LeftPalm\\s121_3_R_S2.jpg\n",
      "✅ Moved s121_4_L_S2.jpg → C:\\Users\\hp\\Documents\\dataset\\PalmDataset\\Palm\\Train\\LeftPalm\\s121_4_L_S2.jpg\n",
      "✅ Moved s121_4_R_S2.jpg → C:\\Users\\hp\\Documents\\dataset\\PalmDataset\\Palm\\Train\\LeftPalm\\s121_4_R_S2.jpg\n",
      "✅ Moved s121_5_L_S2.jpg → C:\\Users\\hp\\Documents\\dataset\\PalmDataset\\Palm\\Train\\RightPalm\\s121_5_L_S2.jpg\n",
      "✅ Moved s121_5_R_S2.jpg → C:\\Users\\hp\\Documents\\dataset\\PalmDataset\\Palm\\Train\\RightPalm\\s121_5_R_S2.jpg\n",
      "✅ Moved s121_6_L_S2.jpg → C:\\Users\\hp\\Documents\\dataset\\PalmDataset\\Palm\\Train\\RightPalm\\s121_6_L_S2.jpg\n",
      "✅ Moved s121_6_R_S2.jpg → C:\\Users\\hp\\Documents\\dataset\\PalmDataset\\Palm\\Train\\RightPalm\\s121_6_R_S2.jpg\n",
      "✅ Moved s121_7_R_S2.jpg → C:\\Users\\hp\\Documents\\dataset\\PalmDataset\\Palm\\Train\\RightPalm\\s121_7_R_S2.jpg\n",
      "✅ Moved s121_8_R_S2.jpg → C:\\Users\\hp\\Documents\\dataset\\PalmDataset\\Palm\\Train\\RightPalm\\s121_8_R_S2.jpg\n",
      "✅ Moved s121_9_L_S2.jpg → C:\\Users\\hp\\Documents\\dataset\\PalmDataset\\Palm\\Train\\RightPalm\\s121_9_L_S2.jpg\n",
      "✅ Moved s121_9_R_S2.jpg → C:\\Users\\hp\\Documents\\dataset\\PalmDataset\\Palm\\Train\\LeftPalm\\s121_9_R_S2.jpg\n",
      "✅ Moved s122_10_R_S2.jpg → C:\\Users\\hp\\Documents\\dataset\\PalmDataset\\Palm\\Train\\LeftPalm\\s122_10_R_S2.jpg\n",
      "✅ Moved s122_2_R_S2.jpg → C:\\Users\\hp\\Documents\\dataset\\PalmDataset\\Palm\\Train\\LeftPalm\\s122_2_R_S2.jpg\n",
      "✅ Moved s122_3_L_S2.jpg → C:\\Users\\hp\\Documents\\dataset\\PalmDataset\\Palm\\Train\\LeftPalm\\s122_3_L_S2.jpg\n",
      "✅ Moved s122_3_R_S2.jpg → C:\\Users\\hp\\Documents\\dataset\\PalmDataset\\Palm\\Train\\LeftPalm\\s122_3_R_S2.jpg\n",
      "✅ Moved s122_4_R_S2.jpg → C:\\Users\\hp\\Documents\\dataset\\PalmDataset\\Palm\\Train\\RightPalm\\s122_4_R_S2.jpg\n",
      "✅ Moved s122_5_L_S2.jpg → C:\\Users\\hp\\Documents\\dataset\\PalmDataset\\Palm\\Train\\LeftPalm\\s122_5_L_S2.jpg\n",
      "✅ Moved s122_5_R_S2.jpg → C:\\Users\\hp\\Documents\\dataset\\PalmDataset\\Palm\\Train\\LeftPalm\\s122_5_R_S2.jpg\n",
      "✅ Moved s122_6_L_S2.jpg → C:\\Users\\hp\\Documents\\dataset\\PalmDataset\\Palm\\Train\\RightPalm\\s122_6_L_S2.jpg\n",
      "✅ Moved s122_6_R_S2.jpg → C:\\Users\\hp\\Documents\\dataset\\PalmDataset\\Palm\\Train\\RightPalm\\s122_6_R_S2.jpg\n",
      "✅ Moved s122_7_L_S2.jpg → C:\\Users\\hp\\Documents\\dataset\\PalmDataset\\Palm\\Train\\LeftPalm\\s122_7_L_S2.jpg\n",
      "✅ Moved s122_7_R_S2.jpg → C:\\Users\\hp\\Documents\\dataset\\PalmDataset\\Palm\\Train\\LeftPalm\\s122_7_R_S2.jpg\n",
      "✅ Moved s122_8_R_S2.jpg → C:\\Users\\hp\\Documents\\dataset\\PalmDataset\\Palm\\Train\\RightPalm\\s122_8_R_S2.jpg\n",
      "✅ Moved s122_9_L_S2.jpg → C:\\Users\\hp\\Documents\\dataset\\PalmDataset\\Palm\\Train\\LeftPalm\\s122_9_L_S2.jpg\n",
      "✅ Moved s122_9_R_S2.jpg → C:\\Users\\hp\\Documents\\dataset\\PalmDataset\\Palm\\Train\\RightPalm\\s122_9_R_S2.jpg\n",
      "✅ Moved s123_10_L_S2.jpg → C:\\Users\\hp\\Documents\\dataset\\PalmDataset\\Palm\\Train\\LeftPalm\\s123_10_L_S2.jpg\n",
      "✅ Moved s123_10_R_S2.jpg → C:\\Users\\hp\\Documents\\dataset\\PalmDataset\\Palm\\Train\\LeftPalm\\s123_10_R_S2.jpg\n",
      "✅ Moved s123_1_L_S2.jpg → C:\\Users\\hp\\Documents\\dataset\\PalmDataset\\Palm\\Train\\RightPalm\\s123_1_L_S2.jpg\n",
      "✅ Moved s123_1_R_S2.jpg → C:\\Users\\hp\\Documents\\dataset\\PalmDataset\\Palm\\Train\\RightPalm\\s123_1_R_S2.jpg\n",
      "✅ Moved s123_2_L_S2.jpg → C:\\Users\\hp\\Documents\\dataset\\PalmDataset\\Palm\\Train\\LeftPalm\\s123_2_L_S2.jpg\n",
      "✅ Moved s123_2_R_S2.jpg → C:\\Users\\hp\\Documents\\dataset\\PalmDataset\\Palm\\Train\\RightPalm\\s123_2_R_S2.jpg\n",
      "✅ Moved s123_3_L_S2.jpg → C:\\Users\\hp\\Documents\\dataset\\PalmDataset\\Palm\\Train\\LeftPalm\\s123_3_L_S2.jpg\n",
      "✅ Moved s123_3_R_S2.jpg → C:\\Users\\hp\\Documents\\dataset\\PalmDataset\\Palm\\Train\\RightPalm\\s123_3_R_S2.jpg\n",
      "✅ Moved s123_4_L_S2.jpg → C:\\Users\\hp\\Documents\\dataset\\PalmDataset\\Palm\\Train\\LeftPalm\\s123_4_L_S2.jpg\n",
      "✅ Moved s123_4_R_S2.jpg → C:\\Users\\hp\\Documents\\dataset\\PalmDataset\\Palm\\Train\\RightPalm\\s123_4_R_S2.jpg\n",
      "✅ Moved s123_5_R_S2.jpg → C:\\Users\\hp\\Documents\\dataset\\PalmDataset\\Palm\\Train\\RightPalm\\s123_5_R_S2.jpg\n",
      "✅ Moved s123_6_L_S2.jpg → C:\\Users\\hp\\Documents\\dataset\\PalmDataset\\Palm\\Train\\LeftPalm\\s123_6_L_S2.jpg\n",
      "✅ Moved s123_8_R_S2.jpg → C:\\Users\\hp\\Documents\\dataset\\PalmDataset\\Palm\\Train\\RightPalm\\s123_8_R_S2.jpg\n",
      "✅ Moved s123_9_L_S2.jpg → C:\\Users\\hp\\Documents\\dataset\\PalmDataset\\Palm\\Train\\RightPalm\\s123_9_L_S2.jpg\n",
      "✅ Moved s123_9_R_S2.jpg → C:\\Users\\hp\\Documents\\dataset\\PalmDataset\\Palm\\Train\\LeftPalm\\s123_9_R_S2.jpg\n",
      "✅ Moved s124_10_L_S2.jpg → C:\\Users\\hp\\Documents\\dataset\\PalmDataset\\Palm\\Train\\RightPalm\\s124_10_L_S2.jpg\n",
      "✅ Moved s124_1_L_S2.jpg → C:\\Users\\hp\\Documents\\dataset\\PalmDataset\\Palm\\Train\\LeftPalm\\s124_1_L_S2.jpg\n",
      "✅ Moved s124_2_L_S2.jpg → C:\\Users\\hp\\Documents\\dataset\\PalmDataset\\Palm\\Train\\LeftPalm\\s124_2_L_S2.jpg\n",
      "✅ Moved s124_2_R_S2.jpg → C:\\Users\\hp\\Documents\\dataset\\PalmDataset\\Palm\\Train\\LeftPalm\\s124_2_R_S2.jpg\n",
      "✅ Moved s124_3_R_S2.jpg → C:\\Users\\hp\\Documents\\dataset\\PalmDataset\\Palm\\Train\\RightPalm\\s124_3_R_S2.jpg\n",
      "✅ Moved s124_4_L_S2.jpg → C:\\Users\\hp\\Documents\\dataset\\PalmDataset\\Palm\\Train\\LeftPalm\\s124_4_L_S2.jpg\n",
      "✅ Moved s124_4_R_S2.jpg → C:\\Users\\hp\\Documents\\dataset\\PalmDataset\\Palm\\Train\\RightPalm\\s124_4_R_S2.jpg\n",
      "✅ Moved s124_5_L_S2.jpg → C:\\Users\\hp\\Documents\\dataset\\PalmDataset\\Palm\\Train\\LeftPalm\\s124_5_L_S2.jpg\n",
      "✅ Moved s124_5_R_S2.jpg → C:\\Users\\hp\\Documents\\dataset\\PalmDataset\\Palm\\Train\\RightPalm\\s124_5_R_S2.jpg\n",
      "✅ Moved s124_6_R_S2.jpg → C:\\Users\\hp\\Documents\\dataset\\PalmDataset\\Palm\\Train\\RightPalm\\s124_6_R_S2.jpg\n",
      "✅ Moved s124_7_L_S2.jpg → C:\\Users\\hp\\Documents\\dataset\\PalmDataset\\Palm\\Train\\LeftPalm\\s124_7_L_S2.jpg\n",
      "✅ Moved s124_7_R_S2.jpg → C:\\Users\\hp\\Documents\\dataset\\PalmDataset\\Palm\\Train\\RightPalm\\s124_7_R_S2.jpg\n",
      "✅ Moved s124_8_L_S2.jpg → C:\\Users\\hp\\Documents\\dataset\\PalmDataset\\Palm\\Train\\RightPalm\\s124_8_L_S2.jpg\n",
      "✅ Moved s124_8_R_S2.jpg → C:\\Users\\hp\\Documents\\dataset\\PalmDataset\\Palm\\Train\\LeftPalm\\s124_8_R_S2.jpg\n",
      "✅ Moved s124_9_L_S2.jpg → C:\\Users\\hp\\Documents\\dataset\\PalmDataset\\Palm\\Train\\RightPalm\\s124_9_L_S2.jpg\n",
      "✅ Moved s124_9_R_S2.jpg → C:\\Users\\hp\\Documents\\dataset\\PalmDataset\\Palm\\Train\\LeftPalm\\s124_9_R_S2.jpg\n",
      "✅ Moved s125_10_L_S2.jpg → C:\\Users\\hp\\Documents\\dataset\\PalmDataset\\Palm\\Train\\LeftPalm\\s125_10_L_S2.jpg\n",
      "✅ Moved s125_10_R_S2.jpg → C:\\Users\\hp\\Documents\\dataset\\PalmDataset\\Palm\\Train\\LeftPalm\\s125_10_R_S2.jpg\n",
      "✅ Moved s125_1_L_S2.jpg → C:\\Users\\hp\\Documents\\dataset\\PalmDataset\\Palm\\Train\\LeftPalm\\s125_1_L_S2.jpg\n",
      "✅ Moved s125_1_R_S2.jpg → C:\\Users\\hp\\Documents\\dataset\\PalmDataset\\Palm\\Train\\LeftPalm\\s125_1_R_S2.jpg\n",
      "✅ Moved s125_2_L_S2.jpg → C:\\Users\\hp\\Documents\\dataset\\PalmDataset\\Palm\\Train\\LeftPalm\\s125_2_L_S2.jpg\n",
      "✅ Moved s125_3_L_S2.jpg → C:\\Users\\hp\\Documents\\dataset\\PalmDataset\\Palm\\Train\\LeftPalm\\s125_3_L_S2.jpg\n",
      "✅ Moved s125_3_R_S2.jpg → C:\\Users\\hp\\Documents\\dataset\\PalmDataset\\Palm\\Train\\RightPalm\\s125_3_R_S2.jpg\n",
      "✅ Moved s125_5_R_S2.jpg → C:\\Users\\hp\\Documents\\dataset\\PalmDataset\\Palm\\Train\\LeftPalm\\s125_5_R_S2.jpg\n",
      "✅ Moved s125_6_L_S2.jpg → C:\\Users\\hp\\Documents\\dataset\\PalmDataset\\Palm\\Train\\LeftPalm\\s125_6_L_S2.jpg\n",
      "✅ Moved s125_6_R_S2.jpg → C:\\Users\\hp\\Documents\\dataset\\PalmDataset\\Palm\\Train\\RightPalm\\s125_6_R_S2.jpg\n",
      "✅ Moved s125_7_L_S2.jpg → C:\\Users\\hp\\Documents\\dataset\\PalmDataset\\Palm\\Train\\LeftPalm\\s125_7_L_S2.jpg\n",
      "✅ Moved s125_7_R_S2.jpg → C:\\Users\\hp\\Documents\\dataset\\PalmDataset\\Palm\\Train\\LeftPalm\\s125_7_R_S2.jpg\n",
      "✅ Moved s125_8_L_S2.jpg → C:\\Users\\hp\\Documents\\dataset\\PalmDataset\\Palm\\Train\\RightPalm\\s125_8_L_S2.jpg\n",
      "✅ Moved s125_9_L_S2.jpg → C:\\Users\\hp\\Documents\\dataset\\PalmDataset\\Palm\\Train\\LeftPalm\\s125_9_L_S2.jpg\n",
      "✅ Moved s125_9_R_S2.jpg → C:\\Users\\hp\\Documents\\dataset\\PalmDataset\\Palm\\Train\\LeftPalm\\s125_9_R_S2.jpg\n",
      "✅ Moved s126_10_L_S2.jpg → C:\\Users\\hp\\Documents\\dataset\\PalmDataset\\Palm\\Train\\LeftPalm\\s126_10_L_S2.jpg\n",
      "✅ Moved s126_10_R_S2.jpg → C:\\Users\\hp\\Documents\\dataset\\PalmDataset\\Palm\\Train\\RightPalm\\s126_10_R_S2.jpg\n",
      "✅ Moved s126_1_L_S2.jpg → C:\\Users\\hp\\Documents\\dataset\\PalmDataset\\Palm\\Train\\RightPalm\\s126_1_L_S2.jpg\n",
      "✅ Moved s126_1_R_S2.jpg → C:\\Users\\hp\\Documents\\dataset\\PalmDataset\\Palm\\Train\\LeftPalm\\s126_1_R_S2.jpg\n",
      "✅ Moved s126_2_L_S2.jpg → C:\\Users\\hp\\Documents\\dataset\\PalmDataset\\Palm\\Train\\LeftPalm\\s126_2_L_S2.jpg\n",
      "✅ Moved s126_2_R_S2.jpg → C:\\Users\\hp\\Documents\\dataset\\PalmDataset\\Palm\\Train\\LeftPalm\\s126_2_R_S2.jpg\n",
      "✅ Moved s126_3_R_S2.jpg → C:\\Users\\hp\\Documents\\dataset\\PalmDataset\\Palm\\Train\\RightPalm\\s126_3_R_S2.jpg\n",
      "✅ Moved s126_4_R_S2.jpg → C:\\Users\\hp\\Documents\\dataset\\PalmDataset\\Palm\\Train\\LeftPalm\\s126_4_R_S2.jpg\n",
      "✅ Moved s126_5_L_S2.jpg → C:\\Users\\hp\\Documents\\dataset\\PalmDataset\\Palm\\Train\\RightPalm\\s126_5_L_S2.jpg\n",
      "✅ Moved s126_5_R_S2.jpg → C:\\Users\\hp\\Documents\\dataset\\PalmDataset\\Palm\\Train\\LeftPalm\\s126_5_R_S2.jpg\n",
      "✅ Moved s126_6_L_S2.jpg → C:\\Users\\hp\\Documents\\dataset\\PalmDataset\\Palm\\Train\\LeftPalm\\s126_6_L_S2.jpg\n",
      "✅ Moved s126_6_R_S2.jpg → C:\\Users\\hp\\Documents\\dataset\\PalmDataset\\Palm\\Train\\RightPalm\\s126_6_R_S2.jpg\n",
      "✅ Moved s126_7_L_S2.jpg → C:\\Users\\hp\\Documents\\dataset\\PalmDataset\\Palm\\Train\\LeftPalm\\s126_7_L_S2.jpg\n",
      "✅ Moved s126_7_R_S2.jpg → C:\\Users\\hp\\Documents\\dataset\\PalmDataset\\Palm\\Train\\RightPalm\\s126_7_R_S2.jpg\n",
      "✅ Moved s126_8_R_S2.jpg → C:\\Users\\hp\\Documents\\dataset\\PalmDataset\\Palm\\Train\\RightPalm\\s126_8_R_S2.jpg\n",
      "✅ Moved s126_9_L_S2.jpg → C:\\Users\\hp\\Documents\\dataset\\PalmDataset\\Palm\\Train\\RightPalm\\s126_9_L_S2.jpg\n",
      "✅ Moved s126_9_R_S2.jpg → C:\\Users\\hp\\Documents\\dataset\\PalmDataset\\Palm\\Train\\RightPalm\\s126_9_R_S2.jpg\n",
      "✅ Moved s127_10_L_S2.jpg → C:\\Users\\hp\\Documents\\dataset\\PalmDataset\\Palm\\Train\\RightPalm\\s127_10_L_S2.jpg\n",
      "✅ Moved s127_1_L_S2.jpg → C:\\Users\\hp\\Documents\\dataset\\PalmDataset\\Palm\\Train\\LeftPalm\\s127_1_L_S2.jpg\n",
      "✅ Moved s127_1_R_S2.jpg → C:\\Users\\hp\\Documents\\dataset\\PalmDataset\\Palm\\Train\\LeftPalm\\s127_1_R_S2.jpg\n",
      "✅ Moved s127_2_L_S2.jpg → C:\\Users\\hp\\Documents\\dataset\\PalmDataset\\Palm\\Train\\LeftPalm\\s127_2_L_S2.jpg\n",
      "✅ Moved s127_2_R_S2.jpg → C:\\Users\\hp\\Documents\\dataset\\PalmDataset\\Palm\\Train\\RightPalm\\s127_2_R_S2.jpg\n",
      "✅ Moved s127_3_L_S2.jpg → C:\\Users\\hp\\Documents\\dataset\\PalmDataset\\Palm\\Train\\LeftPalm\\s127_3_L_S2.jpg\n",
      "✅ Moved s127_3_R_S2.jpg → C:\\Users\\hp\\Documents\\dataset\\PalmDataset\\Palm\\Train\\RightPalm\\s127_3_R_S2.jpg\n",
      "✅ Moved s127_4_L_S2.jpg → C:\\Users\\hp\\Documents\\dataset\\PalmDataset\\Palm\\Train\\LeftPalm\\s127_4_L_S2.jpg\n",
      "✅ Moved s127_4_R_S2.jpg → C:\\Users\\hp\\Documents\\dataset\\PalmDataset\\Palm\\Train\\LeftPalm\\s127_4_R_S2.jpg\n",
      "✅ Moved s127_5_L_S2.jpg → C:\\Users\\hp\\Documents\\dataset\\PalmDataset\\Palm\\Train\\RightPalm\\s127_5_L_S2.jpg\n",
      "✅ Moved s127_5_R_S2.jpg → C:\\Users\\hp\\Documents\\dataset\\PalmDataset\\Palm\\Train\\LeftPalm\\s127_5_R_S2.jpg\n",
      "✅ Moved s127_6_L_S2.jpg → C:\\Users\\hp\\Documents\\dataset\\PalmDataset\\Palm\\Train\\RightPalm\\s127_6_L_S2.jpg\n",
      "✅ Moved s127_6_R_S2.jpg → C:\\Users\\hp\\Documents\\dataset\\PalmDataset\\Palm\\Train\\LeftPalm\\s127_6_R_S2.jpg\n",
      "✅ Moved s127_7_L_S2.jpg → C:\\Users\\hp\\Documents\\dataset\\PalmDataset\\Palm\\Train\\LeftPalm\\s127_7_L_S2.jpg\n",
      "✅ Moved s127_7_R_S2.jpg → C:\\Users\\hp\\Documents\\dataset\\PalmDataset\\Palm\\Train\\LeftPalm\\s127_7_R_S2.jpg\n",
      "✅ Moved s127_8_L_S2.jpg → C:\\Users\\hp\\Documents\\dataset\\PalmDataset\\Palm\\Train\\LeftPalm\\s127_8_L_S2.jpg\n",
      "✅ Moved s127_8_R_S2.jpg → C:\\Users\\hp\\Documents\\dataset\\PalmDataset\\Palm\\Train\\LeftPalm\\s127_8_R_S2.jpg\n",
      "✅ Moved s127_9_L_S2.jpg → C:\\Users\\hp\\Documents\\dataset\\PalmDataset\\Palm\\Train\\RightPalm\\s127_9_L_S2.jpg\n",
      "✅ Moved s127_9_R_S2.jpg → C:\\Users\\hp\\Documents\\dataset\\PalmDataset\\Palm\\Train\\RightPalm\\s127_9_R_S2.jpg\n",
      "✅ Moved s128_10_R_S2.jpg → C:\\Users\\hp\\Documents\\dataset\\PalmDataset\\Palm\\Train\\RightPalm\\s128_10_R_S2.jpg\n",
      "✅ Moved s128_1_L_S2.jpg → C:\\Users\\hp\\Documents\\dataset\\PalmDataset\\Palm\\Train\\RightPalm\\s128_1_L_S2.jpg\n",
      "✅ Moved s128_1_R_S2.jpg → C:\\Users\\hp\\Documents\\dataset\\PalmDataset\\Palm\\Train\\LeftPalm\\s128_1_R_S2.jpg\n",
      "✅ Moved s128_2_L_S2.jpg → C:\\Users\\hp\\Documents\\dataset\\PalmDataset\\Palm\\Train\\RightPalm\\s128_2_L_S2.jpg\n",
      "✅ Moved s128_2_R_S2.jpg → C:\\Users\\hp\\Documents\\dataset\\PalmDataset\\Palm\\Train\\LeftPalm\\s128_2_R_S2.jpg\n",
      "✅ Moved s128_3_L_S2.jpg → C:\\Users\\hp\\Documents\\dataset\\PalmDataset\\Palm\\Train\\LeftPalm\\s128_3_L_S2.jpg\n",
      "✅ Moved s128_3_R_S2.jpg → C:\\Users\\hp\\Documents\\dataset\\PalmDataset\\Palm\\Train\\LeftPalm\\s128_3_R_S2.jpg\n",
      "✅ Moved s128_4_L_S2.jpg → C:\\Users\\hp\\Documents\\dataset\\PalmDataset\\Palm\\Train\\LeftPalm\\s128_4_L_S2.jpg\n",
      "✅ Moved s128_4_R_S2.jpg → C:\\Users\\hp\\Documents\\dataset\\PalmDataset\\Palm\\Train\\RightPalm\\s128_4_R_S2.jpg\n",
      "✅ Moved s128_5_L_S2.jpg → C:\\Users\\hp\\Documents\\dataset\\PalmDataset\\Palm\\Train\\LeftPalm\\s128_5_L_S2.jpg\n",
      "✅ Moved s128_5_R_S2.jpg → C:\\Users\\hp\\Documents\\dataset\\PalmDataset\\Palm\\Train\\LeftPalm\\s128_5_R_S2.jpg\n",
      "✅ Moved s128_6_L_S2.jpg → C:\\Users\\hp\\Documents\\dataset\\PalmDataset\\Palm\\Train\\RightPalm\\s128_6_L_S2.jpg\n",
      "✅ Moved s128_7_R_S2.jpg → C:\\Users\\hp\\Documents\\dataset\\PalmDataset\\Palm\\Train\\LeftPalm\\s128_7_R_S2.jpg\n",
      "✅ Moved s128_8_L_S2.jpg → C:\\Users\\hp\\Documents\\dataset\\PalmDataset\\Palm\\Train\\LeftPalm\\s128_8_L_S2.jpg\n",
      "✅ Moved s128_9_L_S2.jpg → C:\\Users\\hp\\Documents\\dataset\\PalmDataset\\Palm\\Train\\LeftPalm\\s128_9_L_S2.jpg\n",
      "✅ Moved s129_1_L_S2.jpg → C:\\Users\\hp\\Documents\\dataset\\PalmDataset\\Palm\\Train\\LeftPalm\\s129_1_L_S2.jpg\n",
      "✅ Moved s129_1_R_S2.jpg → C:\\Users\\hp\\Documents\\dataset\\PalmDataset\\Palm\\Train\\LeftPalm\\s129_1_R_S2.jpg\n",
      "✅ Moved s129_3_R_S2.jpg → C:\\Users\\hp\\Documents\\dataset\\PalmDataset\\Palm\\Train\\LeftPalm\\s129_3_R_S2.jpg\n",
      "✅ Moved s129_4_L_S2.jpg → C:\\Users\\hp\\Documents\\dataset\\PalmDataset\\Palm\\Train\\LeftPalm\\s129_4_L_S2.jpg\n",
      "✅ Moved s129_4_R_S2.jpg → C:\\Users\\hp\\Documents\\dataset\\PalmDataset\\Palm\\Train\\RightPalm\\s129_4_R_S2.jpg\n",
      "✅ Moved s129_5_L_S2.jpg → C:\\Users\\hp\\Documents\\dataset\\PalmDataset\\Palm\\Train\\LeftPalm\\s129_5_L_S2.jpg\n",
      "✅ Moved s129_5_R_S2.jpg → C:\\Users\\hp\\Documents\\dataset\\PalmDataset\\Palm\\Train\\LeftPalm\\s129_5_R_S2.jpg\n",
      "✅ Moved s129_6_L_S2.jpg → C:\\Users\\hp\\Documents\\dataset\\PalmDataset\\Palm\\Train\\RightPalm\\s129_6_L_S2.jpg\n",
      "✅ Moved s129_6_R_S2.jpg → C:\\Users\\hp\\Documents\\dataset\\PalmDataset\\Palm\\Train\\RightPalm\\s129_6_R_S2.jpg\n",
      "✅ Moved s129_7_L_S2.jpg → C:\\Users\\hp\\Documents\\dataset\\PalmDataset\\Palm\\Train\\LeftPalm\\s129_7_L_S2.jpg\n",
      "✅ Moved s129_7_R_S2.jpg → C:\\Users\\hp\\Documents\\dataset\\PalmDataset\\Palm\\Train\\LeftPalm\\s129_7_R_S2.jpg\n",
      "✅ Moved s129_9_L_S2.jpg → C:\\Users\\hp\\Documents\\dataset\\PalmDataset\\Palm\\Train\\LeftPalm\\s129_9_L_S2.jpg\n",
      "✅ Moved s129_9_R_S2.jpg → C:\\Users\\hp\\Documents\\dataset\\PalmDataset\\Palm\\Train\\RightPalm\\s129_9_R_S2.jpg\n",
      "✅ Moved s12_10_L_S2.jpg → C:\\Users\\hp\\Documents\\dataset\\PalmDataset\\Palm\\Train\\LeftPalm\\s12_10_L_S2.jpg\n",
      "✅ Moved s12_1_L_S2.jpg → C:\\Users\\hp\\Documents\\dataset\\PalmDataset\\Palm\\Train\\RightPalm\\s12_1_L_S2.jpg\n",
      "✅ Moved s12_2_L_S2.jpg → C:\\Users\\hp\\Documents\\dataset\\PalmDataset\\Palm\\Train\\RightPalm\\s12_2_L_S2.jpg\n",
      "✅ Moved s12_3_L_S2.jpg → C:\\Users\\hp\\Documents\\dataset\\PalmDataset\\Palm\\Train\\RightPalm\\s12_3_L_S2.jpg\n",
      "✅ Moved s12_4_L_S2.jpg → C:\\Users\\hp\\Documents\\dataset\\PalmDataset\\Palm\\Train\\RightPalm\\s12_4_L_S2.jpg\n",
      "✅ Moved s12_6_L_S2.jpg → C:\\Users\\hp\\Documents\\dataset\\PalmDataset\\Palm\\Train\\LeftPalm\\s12_6_L_S2.jpg\n",
      "✅ Moved s12_6_R_S2.jpg → C:\\Users\\hp\\Documents\\dataset\\PalmDataset\\Palm\\Train\\LeftPalm\\s12_6_R_S2.jpg\n",
      "✅ Moved s12_7_L_S2.jpg → C:\\Users\\hp\\Documents\\dataset\\PalmDataset\\Palm\\Train\\RightPalm\\s12_7_L_S2.jpg\n",
      "✅ Moved s12_8_R_S2.jpg → C:\\Users\\hp\\Documents\\dataset\\PalmDataset\\Palm\\Train\\LeftPalm\\s12_8_R_S2.jpg\n",
      "✅ Moved s12_9_R_S2.jpg → C:\\Users\\hp\\Documents\\dataset\\PalmDataset\\Palm\\Train\\RightPalm\\s12_9_R_S2.jpg\n",
      "✅ Moved s130_10_L_S2.jpg → C:\\Users\\hp\\Documents\\dataset\\PalmDataset\\Palm\\Train\\RightPalm\\s130_10_L_S2.jpg\n",
      "✅ Moved s130_10_R_S2.jpg → C:\\Users\\hp\\Documents\\dataset\\PalmDataset\\Palm\\Train\\LeftPalm\\s130_10_R_S2.jpg\n",
      "✅ Moved s130_1_L_S2.jpg → C:\\Users\\hp\\Documents\\dataset\\PalmDataset\\Palm\\Train\\RightPalm\\s130_1_L_S2.jpg\n",
      "✅ Moved s130_1_R_S2.jpg → C:\\Users\\hp\\Documents\\dataset\\PalmDataset\\Palm\\Train\\RightPalm\\s130_1_R_S2.jpg\n",
      "✅ Moved s130_2_L_S2.jpg → C:\\Users\\hp\\Documents\\dataset\\PalmDataset\\Palm\\Train\\RightPalm\\s130_2_L_S2.jpg\n",
      "✅ Moved s130_2_R_S2.jpg → C:\\Users\\hp\\Documents\\dataset\\PalmDataset\\Palm\\Train\\LeftPalm\\s130_2_R_S2.jpg\n",
      "✅ Moved s130_3_L_S2.jpg → C:\\Users\\hp\\Documents\\dataset\\PalmDataset\\Palm\\Train\\LeftPalm\\s130_3_L_S2.jpg\n",
      "✅ Moved s130_3_R_S2.jpg → C:\\Users\\hp\\Documents\\dataset\\PalmDataset\\Palm\\Train\\LeftPalm\\s130_3_R_S2.jpg\n",
      "✅ Moved s130_4_L_S2.jpg → C:\\Users\\hp\\Documents\\dataset\\PalmDataset\\Palm\\Train\\RightPalm\\s130_4_L_S2.jpg\n",
      "✅ Moved s130_4_R_S2.jpg → C:\\Users\\hp\\Documents\\dataset\\PalmDataset\\Palm\\Train\\RightPalm\\s130_4_R_S2.jpg\n",
      "✅ Moved s130_5_L_S2.jpg → C:\\Users\\hp\\Documents\\dataset\\PalmDataset\\Palm\\Train\\RightPalm\\s130_5_L_S2.jpg\n",
      "✅ Moved s130_6_R_S2.jpg → C:\\Users\\hp\\Documents\\dataset\\PalmDataset\\Palm\\Train\\RightPalm\\s130_6_R_S2.jpg\n",
      "✅ Moved s130_7_L_S2.jpg → C:\\Users\\hp\\Documents\\dataset\\PalmDataset\\Palm\\Train\\LeftPalm\\s130_7_L_S2.jpg\n",
      "✅ Moved s130_8_R_S2.jpg → C:\\Users\\hp\\Documents\\dataset\\PalmDataset\\Palm\\Train\\LeftPalm\\s130_8_R_S2.jpg\n",
      "✅ Moved s130_9_L_S2.jpg → C:\\Users\\hp\\Documents\\dataset\\PalmDataset\\Palm\\Train\\RightPalm\\s130_9_L_S2.jpg\n",
      "✅ Moved s130_9_R_S2.jpg → C:\\Users\\hp\\Documents\\dataset\\PalmDataset\\Palm\\Train\\LeftPalm\\s130_9_R_S2.jpg\n",
      "✅ Moved s131_1_L_S2.jpg → C:\\Users\\hp\\Documents\\dataset\\PalmDataset\\Palm\\Train\\LeftPalm\\s131_1_L_S2.jpg\n",
      "✅ Moved s131_2_L_S2.jpg → C:\\Users\\hp\\Documents\\dataset\\PalmDataset\\Palm\\Train\\RightPalm\\s131_2_L_S2.jpg\n",
      "✅ Moved s131_2_R_S2.jpg → C:\\Users\\hp\\Documents\\dataset\\PalmDataset\\Palm\\Train\\LeftPalm\\s131_2_R_S2.jpg\n",
      "✅ Moved s131_3_R_S2.jpg → C:\\Users\\hp\\Documents\\dataset\\PalmDataset\\Palm\\Train\\RightPalm\\s131_3_R_S2.jpg\n",
      "✅ Moved s131_4_R_S2.jpg → C:\\Users\\hp\\Documents\\dataset\\PalmDataset\\Palm\\Train\\RightPalm\\s131_4_R_S2.jpg\n",
      "✅ Moved s131_5_L_S2.jpg → C:\\Users\\hp\\Documents\\dataset\\PalmDataset\\Palm\\Train\\RightPalm\\s131_5_L_S2.jpg\n",
      "✅ Moved s131_5_R_S2.jpg → C:\\Users\\hp\\Documents\\dataset\\PalmDataset\\Palm\\Train\\LeftPalm\\s131_5_R_S2.jpg\n",
      "✅ Moved s131_6_L_S2.jpg → C:\\Users\\hp\\Documents\\dataset\\PalmDataset\\Palm\\Train\\LeftPalm\\s131_6_L_S2.jpg\n",
      "✅ Moved s131_7_L_S2.jpg → C:\\Users\\hp\\Documents\\dataset\\PalmDataset\\Palm\\Train\\RightPalm\\s131_7_L_S2.jpg\n",
      "✅ Moved s131_7_R_S2.jpg → C:\\Users\\hp\\Documents\\dataset\\PalmDataset\\Palm\\Train\\RightPalm\\s131_7_R_S2.jpg\n",
      "✅ Moved s131_8_L_S2.jpg → C:\\Users\\hp\\Documents\\dataset\\PalmDataset\\Palm\\Train\\RightPalm\\s131_8_L_S2.jpg\n",
      "✅ Moved s132_10_L_S2.jpg → C:\\Users\\hp\\Documents\\dataset\\PalmDataset\\Palm\\Train\\RightPalm\\s132_10_L_S2.jpg\n",
      "✅ Moved s132_10_R_S2.jpg → C:\\Users\\hp\\Documents\\dataset\\PalmDataset\\Palm\\Train\\LeftPalm\\s132_10_R_S2.jpg\n",
      "✅ Moved s132_1_R_S2.jpg → C:\\Users\\hp\\Documents\\dataset\\PalmDataset\\Palm\\Train\\LeftPalm\\s132_1_R_S2.jpg\n",
      "✅ Moved s132_2_L_S2.jpg → C:\\Users\\hp\\Documents\\dataset\\PalmDataset\\Palm\\Train\\RightPalm\\s132_2_L_S2.jpg\n",
      "✅ Moved s132_2_R_S2.jpg → C:\\Users\\hp\\Documents\\dataset\\PalmDataset\\Palm\\Train\\RightPalm\\s132_2_R_S2.jpg\n",
      "✅ Moved s132_3_L_S2.jpg → C:\\Users\\hp\\Documents\\dataset\\PalmDataset\\Palm\\Train\\LeftPalm\\s132_3_L_S2.jpg\n",
      "✅ Moved s132_3_R_S2.jpg → C:\\Users\\hp\\Documents\\dataset\\PalmDataset\\Palm\\Train\\LeftPalm\\s132_3_R_S2.jpg\n",
      "✅ Moved s132_4_L_S2.jpg → C:\\Users\\hp\\Documents\\dataset\\PalmDataset\\Palm\\Train\\LeftPalm\\s132_4_L_S2.jpg\n",
      "✅ Moved s132_4_R_S2.jpg → C:\\Users\\hp\\Documents\\dataset\\PalmDataset\\Palm\\Train\\RightPalm\\s132_4_R_S2.jpg\n",
      "✅ Moved s132_5_L_S2.jpg → C:\\Users\\hp\\Documents\\dataset\\PalmDataset\\Palm\\Train\\LeftPalm\\s132_5_L_S2.jpg\n",
      "✅ Moved s132_5_R_S2.jpg → C:\\Users\\hp\\Documents\\dataset\\PalmDataset\\Palm\\Train\\LeftPalm\\s132_5_R_S2.jpg\n",
      "✅ Moved s132_6_L_S2.jpg → C:\\Users\\hp\\Documents\\dataset\\PalmDataset\\Palm\\Train\\LeftPalm\\s132_6_L_S2.jpg\n",
      "✅ Moved s132_6_R_S2.jpg → C:\\Users\\hp\\Documents\\dataset\\PalmDataset\\Palm\\Train\\RightPalm\\s132_6_R_S2.jpg\n",
      "✅ Moved s132_7_L_S2.jpg → C:\\Users\\hp\\Documents\\dataset\\PalmDataset\\Palm\\Train\\RightPalm\\s132_7_L_S2.jpg\n",
      "✅ Moved s132_7_R_S2.jpg → C:\\Users\\hp\\Documents\\dataset\\PalmDataset\\Palm\\Train\\RightPalm\\s132_7_R_S2.jpg\n",
      "✅ Moved s132_8_L_S2.jpg → C:\\Users\\hp\\Documents\\dataset\\PalmDataset\\Palm\\Train\\RightPalm\\s132_8_L_S2.jpg\n",
      "✅ Moved s132_9_L_S2.jpg → C:\\Users\\hp\\Documents\\dataset\\PalmDataset\\Palm\\Train\\RightPalm\\s132_9_L_S2.jpg\n",
      "✅ Moved s133_10_L_S2.jpg → C:\\Users\\hp\\Documents\\dataset\\PalmDataset\\Palm\\Train\\RightPalm\\s133_10_L_S2.jpg\n",
      "✅ Moved s133_10_R_S2.jpg → C:\\Users\\hp\\Documents\\dataset\\PalmDataset\\Palm\\Train\\LeftPalm\\s133_10_R_S2.jpg\n",
      "✅ Moved s133_1_L_S2.jpg → C:\\Users\\hp\\Documents\\dataset\\PalmDataset\\Palm\\Train\\RightPalm\\s133_1_L_S2.jpg\n",
      "✅ Moved s133_2_L_S2.jpg → C:\\Users\\hp\\Documents\\dataset\\PalmDataset\\Palm\\Train\\RightPalm\\s133_2_L_S2.jpg\n",
      "✅ Moved s133_2_R_S2.jpg → C:\\Users\\hp\\Documents\\dataset\\PalmDataset\\Palm\\Train\\RightPalm\\s133_2_R_S2.jpg\n",
      "✅ Moved s133_3_L_S2.jpg → C:\\Users\\hp\\Documents\\dataset\\PalmDataset\\Palm\\Train\\RightPalm\\s133_3_L_S2.jpg\n",
      "✅ Moved s133_3_R_S2.jpg → C:\\Users\\hp\\Documents\\dataset\\PalmDataset\\Palm\\Train\\LeftPalm\\s133_3_R_S2.jpg\n",
      "✅ Moved s133_4_L_S2.jpg → C:\\Users\\hp\\Documents\\dataset\\PalmDataset\\Palm\\Train\\LeftPalm\\s133_4_L_S2.jpg\n",
      "✅ Moved s133_4_R_S2.jpg → C:\\Users\\hp\\Documents\\dataset\\PalmDataset\\Palm\\Train\\LeftPalm\\s133_4_R_S2.jpg\n",
      "✅ Moved s133_5_R_S2.jpg → C:\\Users\\hp\\Documents\\dataset\\PalmDataset\\Palm\\Train\\RightPalm\\s133_5_R_S2.jpg\n",
      "✅ Moved s133_6_L_S2.jpg → C:\\Users\\hp\\Documents\\dataset\\PalmDataset\\Palm\\Train\\RightPalm\\s133_6_L_S2.jpg\n",
      "✅ Moved s133_7_L_S2.jpg → C:\\Users\\hp\\Documents\\dataset\\PalmDataset\\Palm\\Train\\RightPalm\\s133_7_L_S2.jpg\n",
      "✅ Moved s133_7_R_S2.jpg → C:\\Users\\hp\\Documents\\dataset\\PalmDataset\\Palm\\Train\\RightPalm\\s133_7_R_S2.jpg\n",
      "✅ Moved s133_8_R_S2.jpg → C:\\Users\\hp\\Documents\\dataset\\PalmDataset\\Palm\\Train\\LeftPalm\\s133_8_R_S2.jpg\n",
      "✅ Moved s133_9_L_S2.jpg → C:\\Users\\hp\\Documents\\dataset\\PalmDataset\\Palm\\Train\\RightPalm\\s133_9_L_S2.jpg\n",
      "✅ Moved s134_10_L_S2.jpg → C:\\Users\\hp\\Documents\\dataset\\PalmDataset\\Palm\\Train\\RightPalm\\s134_10_L_S2.jpg\n",
      "✅ Moved s134_10_R_S2.jpg → C:\\Users\\hp\\Documents\\dataset\\PalmDataset\\Palm\\Train\\RightPalm\\s134_10_R_S2.jpg\n",
      "✅ Moved s134_1_L_S2.jpg → C:\\Users\\hp\\Documents\\dataset\\PalmDataset\\Palm\\Train\\LeftPalm\\s134_1_L_S2.jpg\n",
      "✅ Moved s134_1_R_S2.jpg → C:\\Users\\hp\\Documents\\dataset\\PalmDataset\\Palm\\Train\\RightPalm\\s134_1_R_S2.jpg\n",
      "✅ Moved s134_2_L_S2.jpg → C:\\Users\\hp\\Documents\\dataset\\PalmDataset\\Palm\\Train\\RightPalm\\s134_2_L_S2.jpg\n",
      "✅ Moved s134_2_R_S2.jpg → C:\\Users\\hp\\Documents\\dataset\\PalmDataset\\Palm\\Train\\LeftPalm\\s134_2_R_S2.jpg\n",
      "✅ Moved s134_3_L_S2.jpg → C:\\Users\\hp\\Documents\\dataset\\PalmDataset\\Palm\\Train\\LeftPalm\\s134_3_L_S2.jpg\n",
      "✅ Moved s134_3_R_S2.jpg → C:\\Users\\hp\\Documents\\dataset\\PalmDataset\\Palm\\Train\\RightPalm\\s134_3_R_S2.jpg\n",
      "✅ Moved s134_4_R_S2.jpg → C:\\Users\\hp\\Documents\\dataset\\PalmDataset\\Palm\\Train\\LeftPalm\\s134_4_R_S2.jpg\n",
      "✅ Moved s134_5_R_S2.jpg → C:\\Users\\hp\\Documents\\dataset\\PalmDataset\\Palm\\Train\\RightPalm\\s134_5_R_S2.jpg\n",
      "✅ Moved s134_6_L_S2.jpg → C:\\Users\\hp\\Documents\\dataset\\PalmDataset\\Palm\\Train\\RightPalm\\s134_6_L_S2.jpg\n",
      "✅ Moved s134_6_R_S2.jpg → C:\\Users\\hp\\Documents\\dataset\\PalmDataset\\Palm\\Train\\LeftPalm\\s134_6_R_S2.jpg\n",
      "✅ Moved s134_7_R_S2.jpg → C:\\Users\\hp\\Documents\\dataset\\PalmDataset\\Palm\\Train\\LeftPalm\\s134_7_R_S2.jpg\n",
      "✅ Moved s134_8_L_S2.jpg → C:\\Users\\hp\\Documents\\dataset\\PalmDataset\\Palm\\Train\\RightPalm\\s134_8_L_S2.jpg\n",
      "✅ Moved s134_8_R_S2.jpg → C:\\Users\\hp\\Documents\\dataset\\PalmDataset\\Palm\\Train\\LeftPalm\\s134_8_R_S2.jpg\n",
      "✅ Moved s134_9_L_S2.jpg → C:\\Users\\hp\\Documents\\dataset\\PalmDataset\\Palm\\Train\\LeftPalm\\s134_9_L_S2.jpg\n",
      "✅ Moved s134_9_R_S2.jpg → C:\\Users\\hp\\Documents\\dataset\\PalmDataset\\Palm\\Train\\RightPalm\\s134_9_R_S2.jpg\n",
      "✅ Moved s135_10_L_S2.jpg → C:\\Users\\hp\\Documents\\dataset\\PalmDataset\\Palm\\Train\\RightPalm\\s135_10_L_S2.jpg\n",
      "✅ Moved s135_10_R_S2.jpg → C:\\Users\\hp\\Documents\\dataset\\PalmDataset\\Palm\\Train\\LeftPalm\\s135_10_R_S2.jpg\n",
      "✅ Moved s135_1_L_S2.jpg → C:\\Users\\hp\\Documents\\dataset\\PalmDataset\\Palm\\Train\\LeftPalm\\s135_1_L_S2.jpg\n",
      "✅ Moved s135_1_R_S2.jpg → C:\\Users\\hp\\Documents\\dataset\\PalmDataset\\Palm\\Train\\LeftPalm\\s135_1_R_S2.jpg\n",
      "✅ Moved s135_2_L_S2.jpg → C:\\Users\\hp\\Documents\\dataset\\PalmDataset\\Palm\\Train\\RightPalm\\s135_2_L_S2.jpg\n",
      "✅ Moved s135_3_L_S2.jpg → C:\\Users\\hp\\Documents\\dataset\\PalmDataset\\Palm\\Train\\RightPalm\\s135_3_L_S2.jpg\n",
      "✅ Moved s135_3_R_S2.jpg → C:\\Users\\hp\\Documents\\dataset\\PalmDataset\\Palm\\Train\\RightPalm\\s135_3_R_S2.jpg\n",
      "✅ Moved s135_4_L_S2.jpg → C:\\Users\\hp\\Documents\\dataset\\PalmDataset\\Palm\\Train\\LeftPalm\\s135_4_L_S2.jpg\n",
      "✅ Moved s135_4_R_S2.jpg → C:\\Users\\hp\\Documents\\dataset\\PalmDataset\\Palm\\Train\\RightPalm\\s135_4_R_S2.jpg\n",
      "✅ Moved s135_5_L_S2.jpg → C:\\Users\\hp\\Documents\\dataset\\PalmDataset\\Palm\\Train\\RightPalm\\s135_5_L_S2.jpg\n",
      "✅ Moved s135_5_R_S2.jpg → C:\\Users\\hp\\Documents\\dataset\\PalmDataset\\Palm\\Train\\RightPalm\\s135_5_R_S2.jpg\n",
      "✅ Moved s135_6_L_S2.jpg → C:\\Users\\hp\\Documents\\dataset\\PalmDataset\\Palm\\Train\\LeftPalm\\s135_6_L_S2.jpg\n",
      "✅ Moved s135_6_R_S2.jpg → C:\\Users\\hp\\Documents\\dataset\\PalmDataset\\Palm\\Train\\RightPalm\\s135_6_R_S2.jpg\n",
      "✅ Moved s135_7_L_S2.jpg → C:\\Users\\hp\\Documents\\dataset\\PalmDataset\\Palm\\Train\\LeftPalm\\s135_7_L_S2.jpg\n",
      "✅ Moved s135_8_L_S2.jpg → C:\\Users\\hp\\Documents\\dataset\\PalmDataset\\Palm\\Train\\RightPalm\\s135_8_L_S2.jpg\n",
      "✅ Moved s135_8_R_S2.jpg → C:\\Users\\hp\\Documents\\dataset\\PalmDataset\\Palm\\Train\\RightPalm\\s135_8_R_S2.jpg\n",
      "✅ Moved s135_9_L_S2.jpg → C:\\Users\\hp\\Documents\\dataset\\PalmDataset\\Palm\\Train\\RightPalm\\s135_9_L_S2.jpg\n",
      "✅ Moved s135_9_R_S2.jpg → C:\\Users\\hp\\Documents\\dataset\\PalmDataset\\Palm\\Train\\LeftPalm\\s135_9_R_S2.jpg\n",
      "✅ Moved s136_10_L_S2.jpg → C:\\Users\\hp\\Documents\\dataset\\PalmDataset\\Palm\\Train\\RightPalm\\s136_10_L_S2.jpg\n",
      "✅ Moved s136_10_R_S2.jpg → C:\\Users\\hp\\Documents\\dataset\\PalmDataset\\Palm\\Train\\LeftPalm\\s136_10_R_S2.jpg\n",
      "✅ Moved s136_1_L_S2.jpg → C:\\Users\\hp\\Documents\\dataset\\PalmDataset\\Palm\\Train\\RightPalm\\s136_1_L_S2.jpg\n",
      "✅ Moved s136_1_R_S2.jpg → C:\\Users\\hp\\Documents\\dataset\\PalmDataset\\Palm\\Train\\LeftPalm\\s136_1_R_S2.jpg\n",
      "✅ Moved s136_2_L_S2.jpg → C:\\Users\\hp\\Documents\\dataset\\PalmDataset\\Palm\\Train\\LeftPalm\\s136_2_L_S2.jpg\n",
      "✅ Moved s136_2_R_S2.jpg → C:\\Users\\hp\\Documents\\dataset\\PalmDataset\\Palm\\Train\\LeftPalm\\s136_2_R_S2.jpg\n",
      "✅ Moved s136_3_L_S2.jpg → C:\\Users\\hp\\Documents\\dataset\\PalmDataset\\Palm\\Train\\RightPalm\\s136_3_L_S2.jpg\n",
      "✅ Moved s136_3_R_S2.jpg → C:\\Users\\hp\\Documents\\dataset\\PalmDataset\\Palm\\Train\\LeftPalm\\s136_3_R_S2.jpg\n",
      "✅ Moved s136_4_L_S2.jpg → C:\\Users\\hp\\Documents\\dataset\\PalmDataset\\Palm\\Train\\LeftPalm\\s136_4_L_S2.jpg\n",
      "✅ Moved s136_4_R_S2.jpg → C:\\Users\\hp\\Documents\\dataset\\PalmDataset\\Palm\\Train\\LeftPalm\\s136_4_R_S2.jpg\n",
      "✅ Moved s136_5_L_S2.jpg → C:\\Users\\hp\\Documents\\dataset\\PalmDataset\\Palm\\Train\\RightPalm\\s136_5_L_S2.jpg\n",
      "✅ Moved s136_5_R_S2.jpg → C:\\Users\\hp\\Documents\\dataset\\PalmDataset\\Palm\\Train\\LeftPalm\\s136_5_R_S2.jpg\n",
      "✅ Moved s136_6_L_S2.jpg → C:\\Users\\hp\\Documents\\dataset\\PalmDataset\\Palm\\Train\\LeftPalm\\s136_6_L_S2.jpg\n",
      "✅ Moved s136_6_R_S2.jpg → C:\\Users\\hp\\Documents\\dataset\\PalmDataset\\Palm\\Train\\RightPalm\\s136_6_R_S2.jpg\n",
      "✅ Moved s136_7_L_S2.jpg → C:\\Users\\hp\\Documents\\dataset\\PalmDataset\\Palm\\Train\\RightPalm\\s136_7_L_S2.jpg\n",
      "✅ Moved s136_7_R_S2.jpg → C:\\Users\\hp\\Documents\\dataset\\PalmDataset\\Palm\\Train\\LeftPalm\\s136_7_R_S2.jpg\n",
      "✅ Moved s136_8_L_S2.jpg → C:\\Users\\hp\\Documents\\dataset\\PalmDataset\\Palm\\Train\\LeftPalm\\s136_8_L_S2.jpg\n",
      "✅ Moved s136_8_R_S2.jpg → C:\\Users\\hp\\Documents\\dataset\\PalmDataset\\Palm\\Train\\LeftPalm\\s136_8_R_S2.jpg\n",
      "✅ Moved s136_9_L_S2.jpg → C:\\Users\\hp\\Documents\\dataset\\PalmDataset\\Palm\\Train\\LeftPalm\\s136_9_L_S2.jpg\n",
      "✅ Moved s136_9_R_S2.jpg → C:\\Users\\hp\\Documents\\dataset\\PalmDataset\\Palm\\Train\\RightPalm\\s136_9_R_S2.jpg\n",
      "✅ Moved s137_10_L_S2.jpg → C:\\Users\\hp\\Documents\\dataset\\PalmDataset\\Palm\\Train\\LeftPalm\\s137_10_L_S2.jpg\n",
      "✅ Moved s137_1_L_S2.jpg → C:\\Users\\hp\\Documents\\dataset\\PalmDataset\\Palm\\Train\\LeftPalm\\s137_1_L_S2.jpg\n",
      "✅ Moved s137_1_R_S2.jpg → C:\\Users\\hp\\Documents\\dataset\\PalmDataset\\Palm\\Train\\RightPalm\\s137_1_R_S2.jpg\n",
      "✅ Moved s137_2_R_S2.jpg → C:\\Users\\hp\\Documents\\dataset\\PalmDataset\\Palm\\Train\\RightPalm\\s137_2_R_S2.jpg\n",
      "✅ Moved s137_3_L_S2.jpg → C:\\Users\\hp\\Documents\\dataset\\PalmDataset\\Palm\\Train\\RightPalm\\s137_3_L_S2.jpg\n",
      "✅ Moved s137_3_R_S2.jpg → C:\\Users\\hp\\Documents\\dataset\\PalmDataset\\Palm\\Train\\LeftPalm\\s137_3_R_S2.jpg\n",
      "✅ Moved s137_4_L_S2.jpg → C:\\Users\\hp\\Documents\\dataset\\PalmDataset\\Palm\\Train\\RightPalm\\s137_4_L_S2.jpg\n",
      "✅ Moved s137_4_R_S2.jpg → C:\\Users\\hp\\Documents\\dataset\\PalmDataset\\Palm\\Train\\LeftPalm\\s137_4_R_S2.jpg\n",
      "✅ Moved s137_5_L_S2.jpg → C:\\Users\\hp\\Documents\\dataset\\PalmDataset\\Palm\\Train\\LeftPalm\\s137_5_L_S2.jpg\n",
      "✅ Moved s137_5_R_S2.jpg → C:\\Users\\hp\\Documents\\dataset\\PalmDataset\\Palm\\Train\\LeftPalm\\s137_5_R_S2.jpg\n",
      "✅ Moved s137_6_L_S2.jpg → C:\\Users\\hp\\Documents\\dataset\\PalmDataset\\Palm\\Train\\RightPalm\\s137_6_L_S2.jpg\n",
      "✅ Moved s137_7_L_S2.jpg → C:\\Users\\hp\\Documents\\dataset\\PalmDataset\\Palm\\Train\\LeftPalm\\s137_7_L_S2.jpg\n",
      "✅ Moved s137_7_R_S2.jpg → C:\\Users\\hp\\Documents\\dataset\\PalmDataset\\Palm\\Train\\RightPalm\\s137_7_R_S2.jpg\n",
      "✅ Moved s137_8_L_S2.jpg → C:\\Users\\hp\\Documents\\dataset\\PalmDataset\\Palm\\Train\\RightPalm\\s137_8_L_S2.jpg\n",
      "✅ Moved s137_8_R_S2.jpg → C:\\Users\\hp\\Documents\\dataset\\PalmDataset\\Palm\\Train\\LeftPalm\\s137_8_R_S2.jpg\n",
      "✅ Moved s137_9_R_S2.jpg → C:\\Users\\hp\\Documents\\dataset\\PalmDataset\\Palm\\Train\\RightPalm\\s137_9_R_S2.jpg\n",
      "✅ Moved s138_10_R_S2.jpg → C:\\Users\\hp\\Documents\\dataset\\PalmDataset\\Palm\\Train\\RightPalm\\s138_10_R_S2.jpg\n",
      "✅ Moved s138_1_L_S2.jpg → C:\\Users\\hp\\Documents\\dataset\\PalmDataset\\Palm\\Train\\LeftPalm\\s138_1_L_S2.jpg\n",
      "✅ Moved s138_1_R_S2.jpg → C:\\Users\\hp\\Documents\\dataset\\PalmDataset\\Palm\\Train\\RightPalm\\s138_1_R_S2.jpg\n",
      "✅ Moved s138_2_L_S2.jpg → C:\\Users\\hp\\Documents\\dataset\\PalmDataset\\Palm\\Train\\LeftPalm\\s138_2_L_S2.jpg\n",
      "✅ Moved s138_2_R_S2.jpg → C:\\Users\\hp\\Documents\\dataset\\PalmDataset\\Palm\\Train\\LeftPalm\\s138_2_R_S2.jpg\n",
      "✅ Moved s138_3_L_S2.jpg → C:\\Users\\hp\\Documents\\dataset\\PalmDataset\\Palm\\Train\\RightPalm\\s138_3_L_S2.jpg\n",
      "✅ Moved s138_3_R_S2.jpg → C:\\Users\\hp\\Documents\\dataset\\PalmDataset\\Palm\\Train\\LeftPalm\\s138_3_R_S2.jpg\n",
      "✅ Moved s138_4_L_S2.jpg → C:\\Users\\hp\\Documents\\dataset\\PalmDataset\\Palm\\Train\\RightPalm\\s138_4_L_S2.jpg\n",
      "✅ Moved s138_4_R_S2.jpg → C:\\Users\\hp\\Documents\\dataset\\PalmDataset\\Palm\\Train\\LeftPalm\\s138_4_R_S2.jpg\n",
      "✅ Moved s138_5_L_S2.jpg → C:\\Users\\hp\\Documents\\dataset\\PalmDataset\\Palm\\Train\\LeftPalm\\s138_5_L_S2.jpg\n",
      "✅ Moved s138_5_R_S2.jpg → C:\\Users\\hp\\Documents\\dataset\\PalmDataset\\Palm\\Train\\LeftPalm\\s138_5_R_S2.jpg\n",
      "✅ Moved s138_6_L_S2.jpg → C:\\Users\\hp\\Documents\\dataset\\PalmDataset\\Palm\\Train\\RightPalm\\s138_6_L_S2.jpg\n",
      "✅ Moved s138_6_R_S2.jpg → C:\\Users\\hp\\Documents\\dataset\\PalmDataset\\Palm\\Train\\LeftPalm\\s138_6_R_S2.jpg\n",
      "✅ Moved s138_7_L_S2.jpg → C:\\Users\\hp\\Documents\\dataset\\PalmDataset\\Palm\\Train\\LeftPalm\\s138_7_L_S2.jpg\n",
      "✅ Moved s138_8_L_S2.jpg → C:\\Users\\hp\\Documents\\dataset\\PalmDataset\\Palm\\Train\\RightPalm\\s138_8_L_S2.jpg\n",
      "✅ Moved s138_8_R_S2.jpg → C:\\Users\\hp\\Documents\\dataset\\PalmDataset\\Palm\\Train\\LeftPalm\\s138_8_R_S2.jpg\n",
      "✅ Moved s138_9_R_S2.jpg → C:\\Users\\hp\\Documents\\dataset\\PalmDataset\\Palm\\Train\\RightPalm\\s138_9_R_S2.jpg\n",
      "✅ Moved s139_10_R_S2.jpg → C:\\Users\\hp\\Documents\\dataset\\PalmDataset\\Palm\\Train\\LeftPalm\\s139_10_R_S2.jpg\n",
      "✅ Moved s139_1_L_S2.jpg → C:\\Users\\hp\\Documents\\dataset\\PalmDataset\\Palm\\Train\\LeftPalm\\s139_1_L_S2.jpg\n",
      "✅ Moved s139_1_R_S2.jpg → C:\\Users\\hp\\Documents\\dataset\\PalmDataset\\Palm\\Train\\LeftPalm\\s139_1_R_S2.jpg\n",
      "✅ Moved s139_2_L_S2.jpg → C:\\Users\\hp\\Documents\\dataset\\PalmDataset\\Palm\\Train\\RightPalm\\s139_2_L_S2.jpg\n",
      "✅ Moved s139_2_R_S2.jpg → C:\\Users\\hp\\Documents\\dataset\\PalmDataset\\Palm\\Train\\LeftPalm\\s139_2_R_S2.jpg\n",
      "✅ Moved s139_3_L_S2.jpg → C:\\Users\\hp\\Documents\\dataset\\PalmDataset\\Palm\\Train\\RightPalm\\s139_3_L_S2.jpg\n",
      "✅ Moved s139_4_L_S2.jpg → C:\\Users\\hp\\Documents\\dataset\\PalmDataset\\Palm\\Train\\RightPalm\\s139_4_L_S2.jpg\n",
      "✅ Moved s139_4_R_S2.jpg → C:\\Users\\hp\\Documents\\dataset\\PalmDataset\\Palm\\Train\\RightPalm\\s139_4_R_S2.jpg\n",
      "✅ Moved s139_5_L_S2.jpg → C:\\Users\\hp\\Documents\\dataset\\PalmDataset\\Palm\\Train\\LeftPalm\\s139_5_L_S2.jpg\n",
      "✅ Moved s139_5_R_S2.jpg → C:\\Users\\hp\\Documents\\dataset\\PalmDataset\\Palm\\Train\\LeftPalm\\s139_5_R_S2.jpg\n",
      "✅ Moved s139_6_R_S2.jpg → C:\\Users\\hp\\Documents\\dataset\\PalmDataset\\Palm\\Train\\RightPalm\\s139_6_R_S2.jpg\n",
      "✅ Moved s139_7_L_S2.jpg → C:\\Users\\hp\\Documents\\dataset\\PalmDataset\\Palm\\Train\\LeftPalm\\s139_7_L_S2.jpg\n",
      "✅ Moved s139_8_L_S2.jpg → C:\\Users\\hp\\Documents\\dataset\\PalmDataset\\Palm\\Train\\LeftPalm\\s139_8_L_S2.jpg\n",
      "✅ Moved s139_8_R_S2.jpg → C:\\Users\\hp\\Documents\\dataset\\PalmDataset\\Palm\\Train\\RightPalm\\s139_8_R_S2.jpg\n",
      "✅ Moved s139_9_L_S2.jpg → C:\\Users\\hp\\Documents\\dataset\\PalmDataset\\Palm\\Train\\LeftPalm\\s139_9_L_S2.jpg\n",
      "✅ Moved s139_9_R_S2.jpg → C:\\Users\\hp\\Documents\\dataset\\PalmDataset\\Palm\\Train\\RightPalm\\s139_9_R_S2.jpg\n",
      "✅ Moved s13_10_L_S2.jpg → C:\\Users\\hp\\Documents\\dataset\\PalmDataset\\Palm\\Train\\RightPalm\\s13_10_L_S2.jpg\n",
      "✅ Moved s13_10_R_S2.jpg → C:\\Users\\hp\\Documents\\dataset\\PalmDataset\\Palm\\Train\\LeftPalm\\s13_10_R_S2.jpg\n",
      "✅ Moved s13_1_L_S2.jpg → C:\\Users\\hp\\Documents\\dataset\\PalmDataset\\Palm\\Train\\LeftPalm\\s13_1_L_S2.jpg\n",
      "✅ Moved s13_1_R_S2.jpg → C:\\Users\\hp\\Documents\\dataset\\PalmDataset\\Palm\\Train\\RightPalm\\s13_1_R_S2.jpg\n",
      "✅ Moved s13_2_L_S2.jpg → C:\\Users\\hp\\Documents\\dataset\\PalmDataset\\Palm\\Train\\LeftPalm\\s13_2_L_S2.jpg\n",
      "✅ Moved s13_2_R_S2.jpg → C:\\Users\\hp\\Documents\\dataset\\PalmDataset\\Palm\\Train\\RightPalm\\s13_2_R_S2.jpg\n",
      "✅ Moved s13_3_L_S2.jpg → C:\\Users\\hp\\Documents\\dataset\\PalmDataset\\Palm\\Train\\RightPalm\\s13_3_L_S2.jpg\n",
      "✅ Moved s13_3_R_S2.jpg → C:\\Users\\hp\\Documents\\dataset\\PalmDataset\\Palm\\Train\\LeftPalm\\s13_3_R_S2.jpg\n",
      "✅ Moved s13_4_L_S2.jpg → C:\\Users\\hp\\Documents\\dataset\\PalmDataset\\Palm\\Train\\RightPalm\\s13_4_L_S2.jpg\n",
      "✅ Moved s13_4_R_S2.jpg → C:\\Users\\hp\\Documents\\dataset\\PalmDataset\\Palm\\Train\\RightPalm\\s13_4_R_S2.jpg\n",
      "✅ Moved s13_5_L_S2.jpg → C:\\Users\\hp\\Documents\\dataset\\PalmDataset\\Palm\\Train\\LeftPalm\\s13_5_L_S2.jpg\n",
      "✅ Moved s13_5_R_S2.jpg → C:\\Users\\hp\\Documents\\dataset\\PalmDataset\\Palm\\Train\\RightPalm\\s13_5_R_S2.jpg\n",
      "✅ Moved s13_6_L_S2.jpg → C:\\Users\\hp\\Documents\\dataset\\PalmDataset\\Palm\\Train\\RightPalm\\s13_6_L_S2.jpg\n",
      "✅ Moved s13_6_R_S2.jpg → C:\\Users\\hp\\Documents\\dataset\\PalmDataset\\Palm\\Train\\LeftPalm\\s13_6_R_S2.jpg\n",
      "✅ Moved s13_7_R_S2.jpg → C:\\Users\\hp\\Documents\\dataset\\PalmDataset\\Palm\\Train\\LeftPalm\\s13_7_R_S2.jpg\n",
      "✅ Moved s13_8_L_S2.jpg → C:\\Users\\hp\\Documents\\dataset\\PalmDataset\\Palm\\Train\\LeftPalm\\s13_8_L_S2.jpg\n",
      "✅ Moved s13_8_R_S2.jpg → C:\\Users\\hp\\Documents\\dataset\\PalmDataset\\Palm\\Train\\RightPalm\\s13_8_R_S2.jpg\n",
      "✅ Moved s13_9_L_S2.jpg → C:\\Users\\hp\\Documents\\dataset\\PalmDataset\\Palm\\Train\\RightPalm\\s13_9_L_S2.jpg\n",
      "✅ Moved s140_10_L_S2.jpg → C:\\Users\\hp\\Documents\\dataset\\PalmDataset\\Palm\\Train\\RightPalm\\s140_10_L_S2.jpg\n",
      "✅ Moved s140_10_R_S2.jpg → C:\\Users\\hp\\Documents\\dataset\\PalmDataset\\Palm\\Train\\LeftPalm\\s140_10_R_S2.jpg\n",
      "✅ Moved s140_1_L_S2.jpg → C:\\Users\\hp\\Documents\\dataset\\PalmDataset\\Palm\\Train\\RightPalm\\s140_1_L_S2.jpg\n",
      "✅ Moved s140_1_R_S2.jpg → C:\\Users\\hp\\Documents\\dataset\\PalmDataset\\Palm\\Train\\LeftPalm\\s140_1_R_S2.jpg\n",
      "✅ Moved s140_2_L_S2.jpg → C:\\Users\\hp\\Documents\\dataset\\PalmDataset\\Palm\\Train\\RightPalm\\s140_2_L_S2.jpg\n",
      "✅ Moved s140_2_R_S2.jpg → C:\\Users\\hp\\Documents\\dataset\\PalmDataset\\Palm\\Train\\LeftPalm\\s140_2_R_S2.jpg\n",
      "✅ Moved s140_3_L_S2.jpg → C:\\Users\\hp\\Documents\\dataset\\PalmDataset\\Palm\\Train\\RightPalm\\s140_3_L_S2.jpg\n",
      "✅ Moved s140_3_R_S2.jpg → C:\\Users\\hp\\Documents\\dataset\\PalmDataset\\Palm\\Train\\RightPalm\\s140_3_R_S2.jpg\n",
      "✅ Moved s140_5_L_S2.jpg → C:\\Users\\hp\\Documents\\dataset\\PalmDataset\\Palm\\Train\\RightPalm\\s140_5_L_S2.jpg\n",
      "✅ Moved s140_5_R_S2.jpg → C:\\Users\\hp\\Documents\\dataset\\PalmDataset\\Palm\\Train\\LeftPalm\\s140_5_R_S2.jpg\n",
      "✅ Moved s140_6_L_S2.jpg → C:\\Users\\hp\\Documents\\dataset\\PalmDataset\\Palm\\Train\\RightPalm\\s140_6_L_S2.jpg\n",
      "✅ Moved s140_7_L_S2.jpg → C:\\Users\\hp\\Documents\\dataset\\PalmDataset\\Palm\\Train\\RightPalm\\s140_7_L_S2.jpg\n",
      "✅ Moved s140_7_R_S2.jpg → C:\\Users\\hp\\Documents\\dataset\\PalmDataset\\Palm\\Train\\RightPalm\\s140_7_R_S2.jpg\n",
      "✅ Moved s140_8_L_S2.jpg → C:\\Users\\hp\\Documents\\dataset\\PalmDataset\\Palm\\Train\\RightPalm\\s140_8_L_S2.jpg\n",
      "✅ Moved s140_8_R_S2.jpg → C:\\Users\\hp\\Documents\\dataset\\PalmDataset\\Palm\\Train\\LeftPalm\\s140_8_R_S2.jpg\n",
      "✅ Moved s141_10_L_S2.jpg → C:\\Users\\hp\\Documents\\dataset\\PalmDataset\\Palm\\Train\\LeftPalm\\s141_10_L_S2.jpg\n",
      "✅ Moved s141_10_R_S2.jpg → C:\\Users\\hp\\Documents\\dataset\\PalmDataset\\Palm\\Train\\RightPalm\\s141_10_R_S2.jpg\n",
      "✅ Moved s141_2_R_S2.jpg → C:\\Users\\hp\\Documents\\dataset\\PalmDataset\\Palm\\Train\\RightPalm\\s141_2_R_S2.jpg\n",
      "✅ Moved s141_3_L_S2.jpg → C:\\Users\\hp\\Documents\\dataset\\PalmDataset\\Palm\\Train\\RightPalm\\s141_3_L_S2.jpg\n",
      "✅ Moved s141_4_L_S2.jpg → C:\\Users\\hp\\Documents\\dataset\\PalmDataset\\Palm\\Train\\LeftPalm\\s141_4_L_S2.jpg\n",
      "✅ Moved s141_5_L_S2.jpg → C:\\Users\\hp\\Documents\\dataset\\PalmDataset\\Palm\\Train\\LeftPalm\\s141_5_L_S2.jpg\n",
      "✅ Moved s141_5_R_S2.jpg → C:\\Users\\hp\\Documents\\dataset\\PalmDataset\\Palm\\Train\\LeftPalm\\s141_5_R_S2.jpg\n",
      "✅ Moved s141_6_L_S2.jpg → C:\\Users\\hp\\Documents\\dataset\\PalmDataset\\Palm\\Train\\LeftPalm\\s141_6_L_S2.jpg\n",
      "✅ Moved s141_6_R_S2.jpg → C:\\Users\\hp\\Documents\\dataset\\PalmDataset\\Palm\\Train\\LeftPalm\\s141_6_R_S2.jpg\n",
      "✅ Moved s141_7_R_S2.jpg → C:\\Users\\hp\\Documents\\dataset\\PalmDataset\\Palm\\Train\\RightPalm\\s141_7_R_S2.jpg\n",
      "✅ Moved s141_8_L_S2.jpg → C:\\Users\\hp\\Documents\\dataset\\PalmDataset\\Palm\\Train\\RightPalm\\s141_8_L_S2.jpg\n",
      "✅ Moved s141_8_R_S2.jpg → C:\\Users\\hp\\Documents\\dataset\\PalmDataset\\Palm\\Train\\RightPalm\\s141_8_R_S2.jpg\n",
      "✅ Moved s141_9_L_S2.jpg → C:\\Users\\hp\\Documents\\dataset\\PalmDataset\\Palm\\Train\\LeftPalm\\s141_9_L_S2.jpg\n",
      "✅ Moved s142_10_L_S2.jpg → C:\\Users\\hp\\Documents\\dataset\\PalmDataset\\Palm\\Train\\LeftPalm\\s142_10_L_S2.jpg\n",
      "✅ Moved s142_1_R_S2.jpg → C:\\Users\\hp\\Documents\\dataset\\PalmDataset\\Palm\\Train\\LeftPalm\\s142_1_R_S2.jpg\n",
      "✅ Moved s142_2_L_S2.jpg → C:\\Users\\hp\\Documents\\dataset\\PalmDataset\\Palm\\Train\\RightPalm\\s142_2_L_S2.jpg\n",
      "✅ Moved s142_2_R_S2.jpg → C:\\Users\\hp\\Documents\\dataset\\PalmDataset\\Palm\\Train\\LeftPalm\\s142_2_R_S2.jpg\n",
      "✅ Moved s142_3_R_S2.jpg → C:\\Users\\hp\\Documents\\dataset\\PalmDataset\\Palm\\Train\\LeftPalm\\s142_3_R_S2.jpg\n",
      "✅ Moved s142_4_R_S2.jpg → C:\\Users\\hp\\Documents\\dataset\\PalmDataset\\Palm\\Train\\RightPalm\\s142_4_R_S2.jpg\n",
      "✅ Moved s142_5_L_S2.jpg → C:\\Users\\hp\\Documents\\dataset\\PalmDataset\\Palm\\Train\\LeftPalm\\s142_5_L_S2.jpg\n",
      "✅ Moved s142_5_R_S2.jpg → C:\\Users\\hp\\Documents\\dataset\\PalmDataset\\Palm\\Train\\LeftPalm\\s142_5_R_S2.jpg\n",
      "✅ Moved s142_6_R_S2.jpg → C:\\Users\\hp\\Documents\\dataset\\PalmDataset\\Palm\\Train\\RightPalm\\s142_6_R_S2.jpg\n",
      "✅ Moved s142_7_L_S2.jpg → C:\\Users\\hp\\Documents\\dataset\\PalmDataset\\Palm\\Train\\LeftPalm\\s142_7_L_S2.jpg\n",
      "✅ Moved s142_7_R_S2.jpg → C:\\Users\\hp\\Documents\\dataset\\PalmDataset\\Palm\\Train\\RightPalm\\s142_7_R_S2.jpg\n",
      "✅ Moved s142_8_R_S2.jpg → C:\\Users\\hp\\Documents\\dataset\\PalmDataset\\Palm\\Train\\RightPalm\\s142_8_R_S2.jpg\n",
      "✅ Moved s142_9_L_S2.jpg → C:\\Users\\hp\\Documents\\dataset\\PalmDataset\\Palm\\Train\\RightPalm\\s142_9_L_S2.jpg\n",
      "✅ Moved s142_9_R_S2.jpg → C:\\Users\\hp\\Documents\\dataset\\PalmDataset\\Palm\\Train\\LeftPalm\\s142_9_R_S2.jpg\n",
      "✅ Moved s143_10_L_S2.jpg → C:\\Users\\hp\\Documents\\dataset\\PalmDataset\\Palm\\Train\\RightPalm\\s143_10_L_S2.jpg\n",
      "✅ Moved s143_1_L_S2.jpg → C:\\Users\\hp\\Documents\\dataset\\PalmDataset\\Palm\\Train\\LeftPalm\\s143_1_L_S2.jpg\n",
      "✅ Moved s143_1_R_S2.jpg → C:\\Users\\hp\\Documents\\dataset\\PalmDataset\\Palm\\Train\\RightPalm\\s143_1_R_S2.jpg\n",
      "✅ Moved s143_2_L_S2.jpg → C:\\Users\\hp\\Documents\\dataset\\PalmDataset\\Palm\\Train\\RightPalm\\s143_2_L_S2.jpg\n",
      "✅ Moved s143_2_R_S2.jpg → C:\\Users\\hp\\Documents\\dataset\\PalmDataset\\Palm\\Train\\RightPalm\\s143_2_R_S2.jpg\n",
      "✅ Moved s143_3_L_S2.jpg → C:\\Users\\hp\\Documents\\dataset\\PalmDataset\\Palm\\Train\\LeftPalm\\s143_3_L_S2.jpg\n",
      "✅ Moved s143_4_R_S2.jpg → C:\\Users\\hp\\Documents\\dataset\\PalmDataset\\Palm\\Train\\RightPalm\\s143_4_R_S2.jpg\n",
      "✅ Moved s143_5_L_S2.jpg → C:\\Users\\hp\\Documents\\dataset\\PalmDataset\\Palm\\Train\\RightPalm\\s143_5_L_S2.jpg\n",
      "✅ Moved s143_5_R_S2.jpg → C:\\Users\\hp\\Documents\\dataset\\PalmDataset\\Palm\\Train\\RightPalm\\s143_5_R_S2.jpg\n",
      "✅ Moved s143_6_R_S2.jpg → C:\\Users\\hp\\Documents\\dataset\\PalmDataset\\Palm\\Train\\RightPalm\\s143_6_R_S2.jpg\n",
      "✅ Moved s143_7_L_S2.jpg → C:\\Users\\hp\\Documents\\dataset\\PalmDataset\\Palm\\Train\\RightPalm\\s143_7_L_S2.jpg\n",
      "✅ Moved s143_7_R_S2.jpg → C:\\Users\\hp\\Documents\\dataset\\PalmDataset\\Palm\\Train\\LeftPalm\\s143_7_R_S2.jpg\n",
      "✅ Moved s143_8_L_S2.jpg → C:\\Users\\hp\\Documents\\dataset\\PalmDataset\\Palm\\Train\\RightPalm\\s143_8_L_S2.jpg\n",
      "✅ Moved s143_8_R_S2.jpg → C:\\Users\\hp\\Documents\\dataset\\PalmDataset\\Palm\\Train\\RightPalm\\s143_8_R_S2.jpg\n",
      "✅ Moved s143_9_L_S2.jpg → C:\\Users\\hp\\Documents\\dataset\\PalmDataset\\Palm\\Train\\RightPalm\\s143_9_L_S2.jpg\n",
      "✅ Moved s143_9_R_S2.jpg → C:\\Users\\hp\\Documents\\dataset\\PalmDataset\\Palm\\Train\\LeftPalm\\s143_9_R_S2.jpg\n",
      "✅ Moved s144_10_L_S2.jpg → C:\\Users\\hp\\Documents\\dataset\\PalmDataset\\Palm\\Train\\LeftPalm\\s144_10_L_S2.jpg\n",
      "✅ Moved s144_10_R_S2.jpg → C:\\Users\\hp\\Documents\\dataset\\PalmDataset\\Palm\\Train\\RightPalm\\s144_10_R_S2.jpg\n",
      "✅ Moved s144_1_L_S2.jpg → C:\\Users\\hp\\Documents\\dataset\\PalmDataset\\Palm\\Train\\RightPalm\\s144_1_L_S2.jpg\n",
      "✅ Moved s144_1_R_S2.jpg → C:\\Users\\hp\\Documents\\dataset\\PalmDataset\\Palm\\Train\\LeftPalm\\s144_1_R_S2.jpg\n",
      "✅ Moved s144_2_L_S2.jpg → C:\\Users\\hp\\Documents\\dataset\\PalmDataset\\Palm\\Train\\RightPalm\\s144_2_L_S2.jpg\n",
      "✅ Moved s144_2_R_S2.jpg → C:\\Users\\hp\\Documents\\dataset\\PalmDataset\\Palm\\Train\\RightPalm\\s144_2_R_S2.jpg\n",
      "✅ Moved s144_3_L_S2.jpg → C:\\Users\\hp\\Documents\\dataset\\PalmDataset\\Palm\\Train\\RightPalm\\s144_3_L_S2.jpg\n",
      "✅ Moved s144_3_R_S2.jpg → C:\\Users\\hp\\Documents\\dataset\\PalmDataset\\Palm\\Train\\RightPalm\\s144_3_R_S2.jpg\n",
      "✅ Moved s144_4_L_S2.jpg → C:\\Users\\hp\\Documents\\dataset\\PalmDataset\\Palm\\Train\\LeftPalm\\s144_4_L_S2.jpg\n",
      "✅ Moved s144_4_R_S2.jpg → C:\\Users\\hp\\Documents\\dataset\\PalmDataset\\Palm\\Train\\RightPalm\\s144_4_R_S2.jpg\n",
      "✅ Moved s144_6_R_S2.jpg → C:\\Users\\hp\\Documents\\dataset\\PalmDataset\\Palm\\Train\\LeftPalm\\s144_6_R_S2.jpg\n",
      "✅ Moved s144_8_R_S2.jpg → C:\\Users\\hp\\Documents\\dataset\\PalmDataset\\Palm\\Train\\LeftPalm\\s144_8_R_S2.jpg\n",
      "✅ Moved s144_9_L_S2.jpg → C:\\Users\\hp\\Documents\\dataset\\PalmDataset\\Palm\\Train\\RightPalm\\s144_9_L_S2.jpg\n",
      "✅ Moved s145_10_L_S2.jpg → C:\\Users\\hp\\Documents\\dataset\\PalmDataset\\Palm\\Train\\LeftPalm\\s145_10_L_S2.jpg\n",
      "✅ Moved s145_10_R_S2.jpg → C:\\Users\\hp\\Documents\\dataset\\PalmDataset\\Palm\\Train\\LeftPalm\\s145_10_R_S2.jpg\n",
      "✅ Moved s145_1_L_S2.jpg → C:\\Users\\hp\\Documents\\dataset\\PalmDataset\\Palm\\Train\\LeftPalm\\s145_1_L_S2.jpg\n",
      "✅ Moved s145_1_R_S2.jpg → C:\\Users\\hp\\Documents\\dataset\\PalmDataset\\Palm\\Train\\RightPalm\\s145_1_R_S2.jpg\n",
      "✅ Moved s145_2_L_S2.jpg → C:\\Users\\hp\\Documents\\dataset\\PalmDataset\\Palm\\Train\\LeftPalm\\s145_2_L_S2.jpg\n",
      "✅ Moved s145_3_L_S2.jpg → C:\\Users\\hp\\Documents\\dataset\\PalmDataset\\Palm\\Train\\RightPalm\\s145_3_L_S2.jpg\n",
      "✅ Moved s145_3_R_S2.jpg → C:\\Users\\hp\\Documents\\dataset\\PalmDataset\\Palm\\Train\\LeftPalm\\s145_3_R_S2.jpg\n",
      "✅ Moved s145_4_L_S2.jpg → C:\\Users\\hp\\Documents\\dataset\\PalmDataset\\Palm\\Train\\LeftPalm\\s145_4_L_S2.jpg\n",
      "✅ Moved s145_4_R_S2.jpg → C:\\Users\\hp\\Documents\\dataset\\PalmDataset\\Palm\\Train\\LeftPalm\\s145_4_R_S2.jpg\n",
      "✅ Moved s145_5_L_S2.jpg → C:\\Users\\hp\\Documents\\dataset\\PalmDataset\\Palm\\Train\\LeftPalm\\s145_5_L_S2.jpg\n",
      "✅ Moved s145_5_R_S2.jpg → C:\\Users\\hp\\Documents\\dataset\\PalmDataset\\Palm\\Train\\RightPalm\\s145_5_R_S2.jpg\n",
      "✅ Moved s145_6_L_S2.jpg → C:\\Users\\hp\\Documents\\dataset\\PalmDataset\\Palm\\Train\\RightPalm\\s145_6_L_S2.jpg\n",
      "✅ Moved s145_6_R_S2.jpg → C:\\Users\\hp\\Documents\\dataset\\PalmDataset\\Palm\\Train\\LeftPalm\\s145_6_R_S2.jpg\n",
      "✅ Moved s145_7_L_S2.jpg → C:\\Users\\hp\\Documents\\dataset\\PalmDataset\\Palm\\Train\\LeftPalm\\s145_7_L_S2.jpg\n",
      "✅ Moved s145_7_R_S2.jpg → C:\\Users\\hp\\Documents\\dataset\\PalmDataset\\Palm\\Train\\RightPalm\\s145_7_R_S2.jpg\n",
      "✅ Moved s145_8_L_S2.jpg → C:\\Users\\hp\\Documents\\dataset\\PalmDataset\\Palm\\Train\\RightPalm\\s145_8_L_S2.jpg\n",
      "✅ Moved s145_8_R_S2.jpg → C:\\Users\\hp\\Documents\\dataset\\PalmDataset\\Palm\\Train\\RightPalm\\s145_8_R_S2.jpg\n",
      "✅ Moved s145_9_L_S2.jpg → C:\\Users\\hp\\Documents\\dataset\\PalmDataset\\Palm\\Train\\LeftPalm\\s145_9_L_S2.jpg\n",
      "✅ Moved s145_9_R_S2.jpg → C:\\Users\\hp\\Documents\\dataset\\PalmDataset\\Palm\\Train\\RightPalm\\s145_9_R_S2.jpg\n",
      "✅ Moved s146_10_R_S2.jpg → C:\\Users\\hp\\Documents\\dataset\\PalmDataset\\Palm\\Train\\RightPalm\\s146_10_R_S2.jpg\n",
      "✅ Moved s146_1_L_S2.jpg → C:\\Users\\hp\\Documents\\dataset\\PalmDataset\\Palm\\Train\\RightPalm\\s146_1_L_S2.jpg\n",
      "✅ Moved s146_2_L_S2.jpg → C:\\Users\\hp\\Documents\\dataset\\PalmDataset\\Palm\\Train\\LeftPalm\\s146_2_L_S2.jpg\n",
      "✅ Moved s146_2_R_S2.jpg → C:\\Users\\hp\\Documents\\dataset\\PalmDataset\\Palm\\Train\\LeftPalm\\s146_2_R_S2.jpg\n",
      "✅ Moved s146_3_L_S2.jpg → C:\\Users\\hp\\Documents\\dataset\\PalmDataset\\Palm\\Train\\RightPalm\\s146_3_L_S2.jpg\n",
      "✅ Moved s146_3_R_S2.jpg → C:\\Users\\hp\\Documents\\dataset\\PalmDataset\\Palm\\Train\\LeftPalm\\s146_3_R_S2.jpg\n",
      "✅ Moved s146_4_L_S2.jpg → C:\\Users\\hp\\Documents\\dataset\\PalmDataset\\Palm\\Train\\LeftPalm\\s146_4_L_S2.jpg\n",
      "✅ Moved s146_4_R_S2.jpg → C:\\Users\\hp\\Documents\\dataset\\PalmDataset\\Palm\\Train\\RightPalm\\s146_4_R_S2.jpg\n",
      "✅ Moved s146_5_L_S2.jpg → C:\\Users\\hp\\Documents\\dataset\\PalmDataset\\Palm\\Train\\RightPalm\\s146_5_L_S2.jpg\n",
      "✅ Moved s146_5_R_S2.jpg → C:\\Users\\hp\\Documents\\dataset\\PalmDataset\\Palm\\Train\\LeftPalm\\s146_5_R_S2.jpg\n",
      "✅ Moved s146_6_L_S2.jpg → C:\\Users\\hp\\Documents\\dataset\\PalmDataset\\Palm\\Train\\RightPalm\\s146_6_L_S2.jpg\n",
      "✅ Moved s146_6_R_S2.jpg → C:\\Users\\hp\\Documents\\dataset\\PalmDataset\\Palm\\Train\\LeftPalm\\s146_6_R_S2.jpg\n",
      "✅ Moved s146_7_L_S2.jpg → C:\\Users\\hp\\Documents\\dataset\\PalmDataset\\Palm\\Train\\LeftPalm\\s146_7_L_S2.jpg\n",
      "✅ Moved s146_7_R_S2.jpg → C:\\Users\\hp\\Documents\\dataset\\PalmDataset\\Palm\\Train\\LeftPalm\\s146_7_R_S2.jpg\n",
      "✅ Moved s146_8_L_S2.jpg → C:\\Users\\hp\\Documents\\dataset\\PalmDataset\\Palm\\Train\\LeftPalm\\s146_8_L_S2.jpg\n",
      "✅ Moved s146_8_R_S2.jpg → C:\\Users\\hp\\Documents\\dataset\\PalmDataset\\Palm\\Train\\LeftPalm\\s146_8_R_S2.jpg\n",
      "✅ Moved s146_9_L_S2.jpg → C:\\Users\\hp\\Documents\\dataset\\PalmDataset\\Palm\\Train\\RightPalm\\s146_9_L_S2.jpg\n",
      "✅ Moved s146_9_R_S2.jpg → C:\\Users\\hp\\Documents\\dataset\\PalmDataset\\Palm\\Train\\RightPalm\\s146_9_R_S2.jpg\n",
      "✅ Moved s147_10_R_S2.jpg → C:\\Users\\hp\\Documents\\dataset\\PalmDataset\\Palm\\Train\\LeftPalm\\s147_10_R_S2.jpg\n",
      "✅ Moved s147_1_L_S2.jpg → C:\\Users\\hp\\Documents\\dataset\\PalmDataset\\Palm\\Train\\LeftPalm\\s147_1_L_S2.jpg\n",
      "✅ Moved s147_1_R_S2.jpg → C:\\Users\\hp\\Documents\\dataset\\PalmDataset\\Palm\\Train\\LeftPalm\\s147_1_R_S2.jpg\n",
      "✅ Moved s147_2_L_S2.jpg → C:\\Users\\hp\\Documents\\dataset\\PalmDataset\\Palm\\Train\\LeftPalm\\s147_2_L_S2.jpg\n",
      "✅ Moved s147_2_R_S2.jpg → C:\\Users\\hp\\Documents\\dataset\\PalmDataset\\Palm\\Train\\RightPalm\\s147_2_R_S2.jpg\n",
      "✅ Moved s147_3_L_S2.jpg → C:\\Users\\hp\\Documents\\dataset\\PalmDataset\\Palm\\Train\\LeftPalm\\s147_3_L_S2.jpg\n",
      "✅ Moved s147_3_R_S2.jpg → C:\\Users\\hp\\Documents\\dataset\\PalmDataset\\Palm\\Train\\RightPalm\\s147_3_R_S2.jpg\n",
      "✅ Moved s147_4_L_S2.jpg → C:\\Users\\hp\\Documents\\dataset\\PalmDataset\\Palm\\Train\\LeftPalm\\s147_4_L_S2.jpg\n",
      "✅ Moved s147_4_R_S2.jpg → C:\\Users\\hp\\Documents\\dataset\\PalmDataset\\Palm\\Train\\LeftPalm\\s147_4_R_S2.jpg\n",
      "✅ Moved s147_5_L_S2.jpg → C:\\Users\\hp\\Documents\\dataset\\PalmDataset\\Palm\\Train\\RightPalm\\s147_5_L_S2.jpg\n",
      "✅ Moved s147_6_R_S2.jpg → C:\\Users\\hp\\Documents\\dataset\\PalmDataset\\Palm\\Train\\RightPalm\\s147_6_R_S2.jpg\n",
      "✅ Moved s147_7_L_S2.jpg → C:\\Users\\hp\\Documents\\dataset\\PalmDataset\\Palm\\Train\\RightPalm\\s147_7_L_S2.jpg\n",
      "✅ Moved s147_7_R_S2.jpg → C:\\Users\\hp\\Documents\\dataset\\PalmDataset\\Palm\\Train\\LeftPalm\\s147_7_R_S2.jpg\n",
      "✅ Moved s147_8_L_S2.jpg → C:\\Users\\hp\\Documents\\dataset\\PalmDataset\\Palm\\Train\\RightPalm\\s147_8_L_S2.jpg\n",
      "✅ Moved s147_8_R_S2.jpg → C:\\Users\\hp\\Documents\\dataset\\PalmDataset\\Palm\\Train\\LeftPalm\\s147_8_R_S2.jpg\n",
      "✅ Moved s147_9_L_S2.jpg → C:\\Users\\hp\\Documents\\dataset\\PalmDataset\\Palm\\Train\\RightPalm\\s147_9_L_S2.jpg\n",
      "✅ Moved s147_9_R_S2.jpg → C:\\Users\\hp\\Documents\\dataset\\PalmDataset\\Palm\\Train\\LeftPalm\\s147_9_R_S2.jpg\n",
      "✅ Moved s148_10_L_S2.jpg → C:\\Users\\hp\\Documents\\dataset\\PalmDataset\\Palm\\Train\\LeftPalm\\s148_10_L_S2.jpg\n",
      "✅ Moved s148_10_R_S2.jpg → C:\\Users\\hp\\Documents\\dataset\\PalmDataset\\Palm\\Train\\LeftPalm\\s148_10_R_S2.jpg\n",
      "✅ Moved s148_1_L_S2.jpg → C:\\Users\\hp\\Documents\\dataset\\PalmDataset\\Palm\\Train\\LeftPalm\\s148_1_L_S2.jpg\n",
      "✅ Moved s148_1_R_S2.jpg → C:\\Users\\hp\\Documents\\dataset\\PalmDataset\\Palm\\Train\\LeftPalm\\s148_1_R_S2.jpg\n",
      "✅ Moved s148_2_L_S2.jpg → C:\\Users\\hp\\Documents\\dataset\\PalmDataset\\Palm\\Train\\RightPalm\\s148_2_L_S2.jpg\n",
      "✅ Moved s148_2_R_S2.jpg → C:\\Users\\hp\\Documents\\dataset\\PalmDataset\\Palm\\Train\\LeftPalm\\s148_2_R_S2.jpg\n",
      "✅ Moved s148_3_R_S2.jpg → C:\\Users\\hp\\Documents\\dataset\\PalmDataset\\Palm\\Train\\LeftPalm\\s148_3_R_S2.jpg\n",
      "✅ Moved s148_4_L_S2.jpg → C:\\Users\\hp\\Documents\\dataset\\PalmDataset\\Palm\\Train\\RightPalm\\s148_4_L_S2.jpg\n",
      "✅ Moved s148_4_R_S2.jpg → C:\\Users\\hp\\Documents\\dataset\\PalmDataset\\Palm\\Train\\RightPalm\\s148_4_R_S2.jpg\n",
      "✅ Moved s148_5_L_S2.jpg → C:\\Users\\hp\\Documents\\dataset\\PalmDataset\\Palm\\Train\\LeftPalm\\s148_5_L_S2.jpg\n",
      "✅ Moved s148_6_L_S2.jpg → C:\\Users\\hp\\Documents\\dataset\\PalmDataset\\Palm\\Train\\RightPalm\\s148_6_L_S2.jpg\n",
      "✅ Moved s148_7_L_S2.jpg → C:\\Users\\hp\\Documents\\dataset\\PalmDataset\\Palm\\Train\\RightPalm\\s148_7_L_S2.jpg\n",
      "✅ Moved s148_8_L_S2.jpg → C:\\Users\\hp\\Documents\\dataset\\PalmDataset\\Palm\\Train\\LeftPalm\\s148_8_L_S2.jpg\n",
      "✅ Moved s148_8_R_S2.jpg → C:\\Users\\hp\\Documents\\dataset\\PalmDataset\\Palm\\Train\\RightPalm\\s148_8_R_S2.jpg\n",
      "✅ Moved s148_9_L_S2.jpg → C:\\Users\\hp\\Documents\\dataset\\PalmDataset\\Palm\\Train\\LeftPalm\\s148_9_L_S2.jpg\n",
      "✅ Moved s148_9_R_S2.jpg → C:\\Users\\hp\\Documents\\dataset\\PalmDataset\\Palm\\Train\\RightPalm\\s148_9_R_S2.jpg\n",
      "✅ Moved s149_10_L_S2.jpg → C:\\Users\\hp\\Documents\\dataset\\PalmDataset\\Palm\\Train\\LeftPalm\\s149_10_L_S2.jpg\n",
      "✅ Moved s149_10_R_S2.jpg → C:\\Users\\hp\\Documents\\dataset\\PalmDataset\\Palm\\Train\\LeftPalm\\s149_10_R_S2.jpg\n",
      "✅ Moved s149_1_L_S2.jpg → C:\\Users\\hp\\Documents\\dataset\\PalmDataset\\Palm\\Train\\RightPalm\\s149_1_L_S2.jpg\n",
      "✅ Moved s149_2_L_S2.jpg → C:\\Users\\hp\\Documents\\dataset\\PalmDataset\\Palm\\Train\\LeftPalm\\s149_2_L_S2.jpg\n",
      "✅ Moved s149_2_R_S2.jpg → C:\\Users\\hp\\Documents\\dataset\\PalmDataset\\Palm\\Train\\RightPalm\\s149_2_R_S2.jpg\n",
      "✅ Moved s149_3_L_S2.jpg → C:\\Users\\hp\\Documents\\dataset\\PalmDataset\\Palm\\Train\\RightPalm\\s149_3_L_S2.jpg\n",
      "✅ Moved s149_3_R_S2.jpg → C:\\Users\\hp\\Documents\\dataset\\PalmDataset\\Palm\\Train\\LeftPalm\\s149_3_R_S2.jpg\n",
      "✅ Moved s149_4_L_S2.jpg → C:\\Users\\hp\\Documents\\dataset\\PalmDataset\\Palm\\Train\\RightPalm\\s149_4_L_S2.jpg\n",
      "✅ Moved s149_4_R_S2.jpg → C:\\Users\\hp\\Documents\\dataset\\PalmDataset\\Palm\\Train\\RightPalm\\s149_4_R_S2.jpg\n",
      "✅ Moved s149_5_L_S2.jpg → C:\\Users\\hp\\Documents\\dataset\\PalmDataset\\Palm\\Train\\RightPalm\\s149_5_L_S2.jpg\n",
      "✅ Moved s149_5_R_S2.jpg → C:\\Users\\hp\\Documents\\dataset\\PalmDataset\\Palm\\Train\\RightPalm\\s149_5_R_S2.jpg\n",
      "✅ Moved s149_6_L_S2.jpg → C:\\Users\\hp\\Documents\\dataset\\PalmDataset\\Palm\\Train\\RightPalm\\s149_6_L_S2.jpg\n",
      "✅ Moved s149_6_R_S2.jpg → C:\\Users\\hp\\Documents\\dataset\\PalmDataset\\Palm\\Train\\RightPalm\\s149_6_R_S2.jpg\n",
      "✅ Moved s149_7_L_S2.jpg → C:\\Users\\hp\\Documents\\dataset\\PalmDataset\\Palm\\Train\\RightPalm\\s149_7_L_S2.jpg\n",
      "✅ Moved s149_7_R_S2.jpg → C:\\Users\\hp\\Documents\\dataset\\PalmDataset\\Palm\\Train\\RightPalm\\s149_7_R_S2.jpg\n",
      "✅ Moved s149_8_R_S2.jpg → C:\\Users\\hp\\Documents\\dataset\\PalmDataset\\Palm\\Train\\RightPalm\\s149_8_R_S2.jpg\n",
      "✅ Moved s149_9_L_S2.jpg → C:\\Users\\hp\\Documents\\dataset\\PalmDataset\\Palm\\Train\\RightPalm\\s149_9_L_S2.jpg\n",
      "✅ Moved s14_1_L_S2.jpg → C:\\Users\\hp\\Documents\\dataset\\PalmDataset\\Palm\\Train\\RightPalm\\s14_1_L_S2.jpg\n",
      "✅ Moved s14_1_R_S2.jpg → C:\\Users\\hp\\Documents\\dataset\\PalmDataset\\Palm\\Train\\LeftPalm\\s14_1_R_S2.jpg\n",
      "✅ Moved s14_2_L_S2.jpg → C:\\Users\\hp\\Documents\\dataset\\PalmDataset\\Palm\\Train\\RightPalm\\s14_2_L_S2.jpg\n",
      "✅ Moved s14_2_R_S2.jpg → C:\\Users\\hp\\Documents\\dataset\\PalmDataset\\Palm\\Train\\LeftPalm\\s14_2_R_S2.jpg\n",
      "✅ Moved s14_3_L_S2.jpg → C:\\Users\\hp\\Documents\\dataset\\PalmDataset\\Palm\\Train\\LeftPalm\\s14_3_L_S2.jpg\n",
      "✅ Moved s14_3_R_S2.jpg → C:\\Users\\hp\\Documents\\dataset\\PalmDataset\\Palm\\Train\\LeftPalm\\s14_3_R_S2.jpg\n",
      "✅ Moved s14_4_L_S2.jpg → C:\\Users\\hp\\Documents\\dataset\\PalmDataset\\Palm\\Train\\LeftPalm\\s14_4_L_S2.jpg\n",
      "✅ Moved s14_4_R_S2.jpg → C:\\Users\\hp\\Documents\\dataset\\PalmDataset\\Palm\\Train\\LeftPalm\\s14_4_R_S2.jpg\n",
      "✅ Moved s14_5_L_S2.jpg → C:\\Users\\hp\\Documents\\dataset\\PalmDataset\\Palm\\Train\\RightPalm\\s14_5_L_S2.jpg\n",
      "✅ Moved s14_5_R_S2.jpg → C:\\Users\\hp\\Documents\\dataset\\PalmDataset\\Palm\\Train\\LeftPalm\\s14_5_R_S2.jpg\n",
      "✅ Moved s14_6_L_S2.jpg → C:\\Users\\hp\\Documents\\dataset\\PalmDataset\\Palm\\Train\\RightPalm\\s14_6_L_S2.jpg\n",
      "✅ Moved s14_6_R_S2.jpg → C:\\Users\\hp\\Documents\\dataset\\PalmDataset\\Palm\\Train\\RightPalm\\s14_6_R_S2.jpg\n",
      "✅ Moved s14_7_L_S2.jpg → C:\\Users\\hp\\Documents\\dataset\\PalmDataset\\Palm\\Train\\LeftPalm\\s14_7_L_S2.jpg\n",
      "✅ Moved s14_7_R_S2.jpg → C:\\Users\\hp\\Documents\\dataset\\PalmDataset\\Palm\\Train\\RightPalm\\s14_7_R_S2.jpg\n",
      "✅ Moved s14_8_L_S2.jpg → C:\\Users\\hp\\Documents\\dataset\\PalmDataset\\Palm\\Train\\RightPalm\\s14_8_L_S2.jpg\n",
      "✅ Moved s14_8_R_S2.jpg → C:\\Users\\hp\\Documents\\dataset\\PalmDataset\\Palm\\Train\\LeftPalm\\s14_8_R_S2.jpg\n",
      "✅ Moved s14_9_L_S2.jpg → C:\\Users\\hp\\Documents\\dataset\\PalmDataset\\Palm\\Train\\RightPalm\\s14_9_L_S2.jpg\n",
      "✅ Moved s14_9_R_S2.jpg → C:\\Users\\hp\\Documents\\dataset\\PalmDataset\\Palm\\Train\\LeftPalm\\s14_9_R_S2.jpg\n",
      "✅ Moved s150_10_L_S2.jpg → C:\\Users\\hp\\Documents\\dataset\\PalmDataset\\Palm\\Train\\LeftPalm\\s150_10_L_S2.jpg\n",
      "✅ Moved s150_10_R_S2.jpg → C:\\Users\\hp\\Documents\\dataset\\PalmDataset\\Palm\\Train\\RightPalm\\s150_10_R_S2.jpg\n",
      "✅ Moved s150_1_L_S2.jpg → C:\\Users\\hp\\Documents\\dataset\\PalmDataset\\Palm\\Train\\LeftPalm\\s150_1_L_S2.jpg\n",
      "✅ Moved s150_1_R_S2.jpg → C:\\Users\\hp\\Documents\\dataset\\PalmDataset\\Palm\\Train\\LeftPalm\\s150_1_R_S2.jpg\n",
      "✅ Moved s150_2_L_S2.jpg → C:\\Users\\hp\\Documents\\dataset\\PalmDataset\\Palm\\Train\\LeftPalm\\s150_2_L_S2.jpg\n",
      "✅ Moved s150_2_R_S2.jpg → C:\\Users\\hp\\Documents\\dataset\\PalmDataset\\Palm\\Train\\RightPalm\\s150_2_R_S2.jpg\n",
      "✅ Moved s150_3_L_S2.jpg → C:\\Users\\hp\\Documents\\dataset\\PalmDataset\\Palm\\Train\\LeftPalm\\s150_3_L_S2.jpg\n",
      "✅ Moved s150_4_L_S2.jpg → C:\\Users\\hp\\Documents\\dataset\\PalmDataset\\Palm\\Train\\RightPalm\\s150_4_L_S2.jpg\n",
      "✅ Moved s150_4_R_S2.jpg → C:\\Users\\hp\\Documents\\dataset\\PalmDataset\\Palm\\Train\\RightPalm\\s150_4_R_S2.jpg\n",
      "✅ Moved s150_5_L_S2.jpg → C:\\Users\\hp\\Documents\\dataset\\PalmDataset\\Palm\\Train\\LeftPalm\\s150_5_L_S2.jpg\n",
      "✅ Moved s150_5_R_S2.jpg → C:\\Users\\hp\\Documents\\dataset\\PalmDataset\\Palm\\Train\\RightPalm\\s150_5_R_S2.jpg\n",
      "✅ Moved s150_6_L_S2.jpg → C:\\Users\\hp\\Documents\\dataset\\PalmDataset\\Palm\\Train\\RightPalm\\s150_6_L_S2.jpg\n",
      "✅ Moved s150_6_R_S2.jpg → C:\\Users\\hp\\Documents\\dataset\\PalmDataset\\Palm\\Train\\RightPalm\\s150_6_R_S2.jpg\n",
      "✅ Moved s150_7_L_S2.jpg → C:\\Users\\hp\\Documents\\dataset\\PalmDataset\\Palm\\Train\\RightPalm\\s150_7_L_S2.jpg\n",
      "✅ Moved s150_7_R_S2.jpg → C:\\Users\\hp\\Documents\\dataset\\PalmDataset\\Palm\\Train\\LeftPalm\\s150_7_R_S2.jpg\n",
      "✅ Moved s150_8_R_S2.jpg → C:\\Users\\hp\\Documents\\dataset\\PalmDataset\\Palm\\Train\\RightPalm\\s150_8_R_S2.jpg\n",
      "✅ Moved s150_9_L_S2.jpg → C:\\Users\\hp\\Documents\\dataset\\PalmDataset\\Palm\\Train\\RightPalm\\s150_9_L_S2.jpg\n",
      "✅ Moved s150_9_R_S2.jpg → C:\\Users\\hp\\Documents\\dataset\\PalmDataset\\Palm\\Train\\LeftPalm\\s150_9_R_S2.jpg\n",
      "✅ Moved s151_10_L_S2.jpg → C:\\Users\\hp\\Documents\\dataset\\PalmDataset\\Palm\\Train\\LeftPalm\\s151_10_L_S2.jpg\n",
      "✅ Moved s151_10_R_S2.jpg → C:\\Users\\hp\\Documents\\dataset\\PalmDataset\\Palm\\Train\\RightPalm\\s151_10_R_S2.jpg\n",
      "✅ Moved s151_1_L_S2.jpg → C:\\Users\\hp\\Documents\\dataset\\PalmDataset\\Palm\\Train\\RightPalm\\s151_1_L_S2.jpg\n",
      "✅ Moved s151_1_R_S2.jpg → C:\\Users\\hp\\Documents\\dataset\\PalmDataset\\Palm\\Train\\RightPalm\\s151_1_R_S2.jpg\n",
      "✅ Moved s151_2_L_S2.jpg → C:\\Users\\hp\\Documents\\dataset\\PalmDataset\\Palm\\Train\\RightPalm\\s151_2_L_S2.jpg\n",
      "✅ Moved s151_3_R_S2.jpg → C:\\Users\\hp\\Documents\\dataset\\PalmDataset\\Palm\\Train\\RightPalm\\s151_3_R_S2.jpg\n",
      "✅ Moved s151_4_L_S2.jpg → C:\\Users\\hp\\Documents\\dataset\\PalmDataset\\Palm\\Train\\RightPalm\\s151_4_L_S2.jpg\n",
      "✅ Moved s151_4_R_S2.jpg → C:\\Users\\hp\\Documents\\dataset\\PalmDataset\\Palm\\Train\\RightPalm\\s151_4_R_S2.jpg\n",
      "✅ Moved s151_5_L_S2.jpg → C:\\Users\\hp\\Documents\\dataset\\PalmDataset\\Palm\\Train\\RightPalm\\s151_5_L_S2.jpg\n",
      "✅ Moved s151_5_R_S2.jpg → C:\\Users\\hp\\Documents\\dataset\\PalmDataset\\Palm\\Train\\LeftPalm\\s151_5_R_S2.jpg\n",
      "✅ Moved s151_6_L_S2.jpg → C:\\Users\\hp\\Documents\\dataset\\PalmDataset\\Palm\\Train\\LeftPalm\\s151_6_L_S2.jpg\n",
      "✅ Moved s151_6_R_S2.jpg → C:\\Users\\hp\\Documents\\dataset\\PalmDataset\\Palm\\Train\\RightPalm\\s151_6_R_S2.jpg\n",
      "✅ Moved s151_7_L_S2.jpg → C:\\Users\\hp\\Documents\\dataset\\PalmDataset\\Palm\\Train\\LeftPalm\\s151_7_L_S2.jpg\n",
      "✅ Moved s151_8_L_S2.jpg → C:\\Users\\hp\\Documents\\dataset\\PalmDataset\\Palm\\Train\\LeftPalm\\s151_8_L_S2.jpg\n",
      "✅ Moved s151_8_R_S2.jpg → C:\\Users\\hp\\Documents\\dataset\\PalmDataset\\Palm\\Train\\LeftPalm\\s151_8_R_S2.jpg\n",
      "✅ Moved s151_9_R_S2.jpg → C:\\Users\\hp\\Documents\\dataset\\PalmDataset\\Palm\\Train\\RightPalm\\s151_9_R_S2.jpg\n",
      "✅ Moved s152_10_L_S2.jpg → C:\\Users\\hp\\Documents\\dataset\\PalmDataset\\Palm\\Train\\RightPalm\\s152_10_L_S2.jpg\n",
      "✅ Moved s152_10_R_S2.jpg → C:\\Users\\hp\\Documents\\dataset\\PalmDataset\\Palm\\Train\\RightPalm\\s152_10_R_S2.jpg\n",
      "✅ Moved s152_1_L_S2.jpg → C:\\Users\\hp\\Documents\\dataset\\PalmDataset\\Palm\\Train\\RightPalm\\s152_1_L_S2.jpg\n",
      "✅ Moved s152_1_R_S2.jpg → C:\\Users\\hp\\Documents\\dataset\\PalmDataset\\Palm\\Train\\RightPalm\\s152_1_R_S2.jpg\n",
      "✅ Moved s152_2_L_S2.jpg → C:\\Users\\hp\\Documents\\dataset\\PalmDataset\\Palm\\Train\\RightPalm\\s152_2_L_S2.jpg\n",
      "✅ Moved s152_2_R_S2.jpg → C:\\Users\\hp\\Documents\\dataset\\PalmDataset\\Palm\\Train\\LeftPalm\\s152_2_R_S2.jpg\n",
      "✅ Moved s152_3_R_S2.jpg → C:\\Users\\hp\\Documents\\dataset\\PalmDataset\\Palm\\Train\\LeftPalm\\s152_3_R_S2.jpg\n",
      "✅ Moved s152_4_L_S2.jpg → C:\\Users\\hp\\Documents\\dataset\\PalmDataset\\Palm\\Train\\LeftPalm\\s152_4_L_S2.jpg\n",
      "✅ Moved s152_5_L_S2.jpg → C:\\Users\\hp\\Documents\\dataset\\PalmDataset\\Palm\\Train\\LeftPalm\\s152_5_L_S2.jpg\n",
      "✅ Moved s152_5_R_S2.jpg → C:\\Users\\hp\\Documents\\dataset\\PalmDataset\\Palm\\Train\\LeftPalm\\s152_5_R_S2.jpg\n",
      "✅ Moved s152_6_L_S2.jpg → C:\\Users\\hp\\Documents\\dataset\\PalmDataset\\Palm\\Train\\RightPalm\\s152_6_L_S2.jpg\n",
      "✅ Moved s152_6_R_S2.jpg → C:\\Users\\hp\\Documents\\dataset\\PalmDataset\\Palm\\Train\\LeftPalm\\s152_6_R_S2.jpg\n",
      "✅ Moved s152_7_L_S2.jpg → C:\\Users\\hp\\Documents\\dataset\\PalmDataset\\Palm\\Train\\RightPalm\\s152_7_L_S2.jpg\n",
      "✅ Moved s152_7_R_S2.jpg → C:\\Users\\hp\\Documents\\dataset\\PalmDataset\\Palm\\Train\\RightPalm\\s152_7_R_S2.jpg\n",
      "✅ Moved s152_8_L_S2.jpg → C:\\Users\\hp\\Documents\\dataset\\PalmDataset\\Palm\\Train\\RightPalm\\s152_8_L_S2.jpg\n",
      "✅ Moved s152_9_L_S2.jpg → C:\\Users\\hp\\Documents\\dataset\\PalmDataset\\Palm\\Train\\LeftPalm\\s152_9_L_S2.jpg\n",
      "✅ Moved s153_10_L_S2.jpg → C:\\Users\\hp\\Documents\\dataset\\PalmDataset\\Palm\\Train\\RightPalm\\s153_10_L_S2.jpg\n",
      "✅ Moved s153_10_R_S2.jpg → C:\\Users\\hp\\Documents\\dataset\\PalmDataset\\Palm\\Train\\RightPalm\\s153_10_R_S2.jpg\n",
      "✅ Moved s153_1_L_S2.jpg → C:\\Users\\hp\\Documents\\dataset\\PalmDataset\\Palm\\Train\\LeftPalm\\s153_1_L_S2.jpg\n",
      "✅ Moved s153_1_R_S2.jpg → C:\\Users\\hp\\Documents\\dataset\\PalmDataset\\Palm\\Train\\LeftPalm\\s153_1_R_S2.jpg\n",
      "✅ Moved s153_2_L_S2.jpg → C:\\Users\\hp\\Documents\\dataset\\PalmDataset\\Palm\\Train\\RightPalm\\s153_2_L_S2.jpg\n",
      "✅ Moved s153_2_R_S2.jpg → C:\\Users\\hp\\Documents\\dataset\\PalmDataset\\Palm\\Train\\RightPalm\\s153_2_R_S2.jpg\n",
      "✅ Moved s153_3_L_S2.jpg → C:\\Users\\hp\\Documents\\dataset\\PalmDataset\\Palm\\Train\\LeftPalm\\s153_3_L_S2.jpg\n",
      "✅ Moved s153_4_L_S2.jpg → C:\\Users\\hp\\Documents\\dataset\\PalmDataset\\Palm\\Train\\LeftPalm\\s153_4_L_S2.jpg\n",
      "✅ Moved s153_4_R_S2.jpg → C:\\Users\\hp\\Documents\\dataset\\PalmDataset\\Palm\\Train\\RightPalm\\s153_4_R_S2.jpg\n",
      "✅ Moved s153_6_R_S2.jpg → C:\\Users\\hp\\Documents\\dataset\\PalmDataset\\Palm\\Train\\RightPalm\\s153_6_R_S2.jpg\n",
      "✅ Moved s153_7_L_S2.jpg → C:\\Users\\hp\\Documents\\dataset\\PalmDataset\\Palm\\Train\\LeftPalm\\s153_7_L_S2.jpg\n",
      "✅ Moved s153_7_R_S2.jpg → C:\\Users\\hp\\Documents\\dataset\\PalmDataset\\Palm\\Train\\RightPalm\\s153_7_R_S2.jpg\n",
      "✅ Moved s153_9_L_S2.jpg → C:\\Users\\hp\\Documents\\dataset\\PalmDataset\\Palm\\Train\\RightPalm\\s153_9_L_S2.jpg\n",
      "✅ Moved s153_9_R_S2.jpg → C:\\Users\\hp\\Documents\\dataset\\PalmDataset\\Palm\\Train\\RightPalm\\s153_9_R_S2.jpg\n",
      "✅ Moved s154_10_R_S2.jpg → C:\\Users\\hp\\Documents\\dataset\\PalmDataset\\Palm\\Train\\RightPalm\\s154_10_R_S2.jpg\n",
      "✅ Moved s154_1_L_S2.jpg → C:\\Users\\hp\\Documents\\dataset\\PalmDataset\\Palm\\Train\\LeftPalm\\s154_1_L_S2.jpg\n",
      "✅ Moved s154_1_R_S2.jpg → C:\\Users\\hp\\Documents\\dataset\\PalmDataset\\Palm\\Train\\LeftPalm\\s154_1_R_S2.jpg\n",
      "✅ Moved s154_2_L_S2.jpg → C:\\Users\\hp\\Documents\\dataset\\PalmDataset\\Palm\\Train\\RightPalm\\s154_2_L_S2.jpg\n",
      "✅ Moved s154_2_R_S2.jpg → C:\\Users\\hp\\Documents\\dataset\\PalmDataset\\Palm\\Train\\RightPalm\\s154_2_R_S2.jpg\n",
      "✅ Moved s154_3_R_S2.jpg → C:\\Users\\hp\\Documents\\dataset\\PalmDataset\\Palm\\Train\\LeftPalm\\s154_3_R_S2.jpg\n",
      "✅ Moved s154_4_L_S2.jpg → C:\\Users\\hp\\Documents\\dataset\\PalmDataset\\Palm\\Train\\LeftPalm\\s154_4_L_S2.jpg\n",
      "✅ Moved s154_5_L_S2.jpg → C:\\Users\\hp\\Documents\\dataset\\PalmDataset\\Palm\\Train\\RightPalm\\s154_5_L_S2.jpg\n",
      "✅ Moved s154_5_R_S2.jpg → C:\\Users\\hp\\Documents\\dataset\\PalmDataset\\Palm\\Train\\LeftPalm\\s154_5_R_S2.jpg\n",
      "✅ Moved s154_6_L_S2.jpg → C:\\Users\\hp\\Documents\\dataset\\PalmDataset\\Palm\\Train\\LeftPalm\\s154_6_L_S2.jpg\n",
      "✅ Moved s154_6_R_S2.jpg → C:\\Users\\hp\\Documents\\dataset\\PalmDataset\\Palm\\Train\\LeftPalm\\s154_6_R_S2.jpg\n",
      "✅ Moved s154_7_L_S2.jpg → C:\\Users\\hp\\Documents\\dataset\\PalmDataset\\Palm\\Train\\RightPalm\\s154_7_L_S2.jpg\n",
      "✅ Moved s154_8_L_S2.jpg → C:\\Users\\hp\\Documents\\dataset\\PalmDataset\\Palm\\Train\\RightPalm\\s154_8_L_S2.jpg\n",
      "✅ Moved s154_8_R_S2.jpg → C:\\Users\\hp\\Documents\\dataset\\PalmDataset\\Palm\\Train\\RightPalm\\s154_8_R_S2.jpg\n",
      "✅ Moved s155_10_L_S2.jpg → C:\\Users\\hp\\Documents\\dataset\\PalmDataset\\Palm\\Train\\LeftPalm\\s155_10_L_S2.jpg\n",
      "✅ Moved s155_10_R_S2.jpg → C:\\Users\\hp\\Documents\\dataset\\PalmDataset\\Palm\\Train\\RightPalm\\s155_10_R_S2.jpg\n",
      "✅ Moved s155_1_L_S2.jpg → C:\\Users\\hp\\Documents\\dataset\\PalmDataset\\Palm\\Train\\RightPalm\\s155_1_L_S2.jpg\n",
      "✅ Moved s155_1_R_S2.jpg → C:\\Users\\hp\\Documents\\dataset\\PalmDataset\\Palm\\Train\\LeftPalm\\s155_1_R_S2.jpg\n",
      "✅ Moved s155_2_L_S2.jpg → C:\\Users\\hp\\Documents\\dataset\\PalmDataset\\Palm\\Train\\RightPalm\\s155_2_L_S2.jpg\n",
      "✅ Moved s155_3_L_S2.jpg → C:\\Users\\hp\\Documents\\dataset\\PalmDataset\\Palm\\Train\\LeftPalm\\s155_3_L_S2.jpg\n",
      "✅ Moved s155_3_R_S2.jpg → C:\\Users\\hp\\Documents\\dataset\\PalmDataset\\Palm\\Train\\RightPalm\\s155_3_R_S2.jpg\n",
      "✅ Moved s155_4_L_S2.jpg → C:\\Users\\hp\\Documents\\dataset\\PalmDataset\\Palm\\Train\\RightPalm\\s155_4_L_S2.jpg\n",
      "✅ Moved s155_4_R_S2.jpg → C:\\Users\\hp\\Documents\\dataset\\PalmDataset\\Palm\\Train\\LeftPalm\\s155_4_R_S2.jpg\n",
      "✅ Moved s155_6_L_S2.jpg → C:\\Users\\hp\\Documents\\dataset\\PalmDataset\\Palm\\Train\\RightPalm\\s155_6_L_S2.jpg\n",
      "✅ Moved s155_6_R_S2.jpg → C:\\Users\\hp\\Documents\\dataset\\PalmDataset\\Palm\\Train\\RightPalm\\s155_6_R_S2.jpg\n",
      "✅ Moved s155_7_L_S2.jpg → C:\\Users\\hp\\Documents\\dataset\\PalmDataset\\Palm\\Train\\LeftPalm\\s155_7_L_S2.jpg\n",
      "✅ Moved s155_7_R_S2.jpg → C:\\Users\\hp\\Documents\\dataset\\PalmDataset\\Palm\\Train\\LeftPalm\\s155_7_R_S2.jpg\n",
      "✅ Moved s155_8_L_S2.jpg → C:\\Users\\hp\\Documents\\dataset\\PalmDataset\\Palm\\Train\\RightPalm\\s155_8_L_S2.jpg\n",
      "✅ Moved s155_9_L_S2.jpg → C:\\Users\\hp\\Documents\\dataset\\PalmDataset\\Palm\\Train\\LeftPalm\\s155_9_L_S2.jpg\n",
      "✅ Moved s155_9_R_S2.jpg → C:\\Users\\hp\\Documents\\dataset\\PalmDataset\\Palm\\Train\\RightPalm\\s155_9_R_S2.jpg\n",
      "✅ Moved s156_1_L_S2.jpg → C:\\Users\\hp\\Documents\\dataset\\PalmDataset\\Palm\\Train\\RightPalm\\s156_1_L_S2.jpg\n",
      "✅ Moved s156_1_R_S2.jpg → C:\\Users\\hp\\Documents\\dataset\\PalmDataset\\Palm\\Train\\LeftPalm\\s156_1_R_S2.jpg\n",
      "✅ Moved s156_2_L_S2.jpg → C:\\Users\\hp\\Documents\\dataset\\PalmDataset\\Palm\\Train\\RightPalm\\s156_2_L_S2.jpg\n",
      "✅ Moved s156_2_R_S2.jpg → C:\\Users\\hp\\Documents\\dataset\\PalmDataset\\Palm\\Train\\LeftPalm\\s156_2_R_S2.jpg\n",
      "✅ Moved s156_3_R_S2.jpg → C:\\Users\\hp\\Documents\\dataset\\PalmDataset\\Palm\\Train\\RightPalm\\s156_3_R_S2.jpg\n",
      "✅ Moved s156_4_L_S2.jpg → C:\\Users\\hp\\Documents\\dataset\\PalmDataset\\Palm\\Train\\LeftPalm\\s156_4_L_S2.jpg\n",
      "✅ Moved s156_4_R_S2.jpg → C:\\Users\\hp\\Documents\\dataset\\PalmDataset\\Palm\\Train\\LeftPalm\\s156_4_R_S2.jpg\n",
      "✅ Moved s156_5_R_S2.jpg → C:\\Users\\hp\\Documents\\dataset\\PalmDataset\\Palm\\Train\\LeftPalm\\s156_5_R_S2.jpg\n",
      "✅ Moved s156_6_R_S2.jpg → C:\\Users\\hp\\Documents\\dataset\\PalmDataset\\Palm\\Train\\RightPalm\\s156_6_R_S2.jpg\n",
      "✅ Moved s156_7_L_S2.jpg → C:\\Users\\hp\\Documents\\dataset\\PalmDataset\\Palm\\Train\\LeftPalm\\s156_7_L_S2.jpg\n",
      "✅ Moved s156_7_R_S2.jpg → C:\\Users\\hp\\Documents\\dataset\\PalmDataset\\Palm\\Train\\LeftPalm\\s156_7_R_S2.jpg\n",
      "✅ Moved s156_8_L_S2.jpg → C:\\Users\\hp\\Documents\\dataset\\PalmDataset\\Palm\\Train\\RightPalm\\s156_8_L_S2.jpg\n",
      "✅ Moved s156_8_R_S2.jpg → C:\\Users\\hp\\Documents\\dataset\\PalmDataset\\Palm\\Train\\LeftPalm\\s156_8_R_S2.jpg\n",
      "✅ Moved s156_9_L_S2.jpg → C:\\Users\\hp\\Documents\\dataset\\PalmDataset\\Palm\\Train\\LeftPalm\\s156_9_L_S2.jpg\n",
      "✅ Moved s156_9_R_S2.jpg → C:\\Users\\hp\\Documents\\dataset\\PalmDataset\\Palm\\Train\\LeftPalm\\s156_9_R_S2.jpg\n",
      "✅ Moved s157_10_L_S2.jpg → C:\\Users\\hp\\Documents\\dataset\\PalmDataset\\Palm\\Train\\LeftPalm\\s157_10_L_S2.jpg\n",
      "✅ Moved s157_1_L_S2.jpg → C:\\Users\\hp\\Documents\\dataset\\PalmDataset\\Palm\\Train\\RightPalm\\s157_1_L_S2.jpg\n",
      "✅ Moved s157_2_L_S2.jpg → C:\\Users\\hp\\Documents\\dataset\\PalmDataset\\Palm\\Train\\RightPalm\\s157_2_L_S2.jpg\n",
      "✅ Moved s157_2_R_S2.jpg → C:\\Users\\hp\\Documents\\dataset\\PalmDataset\\Palm\\Train\\RightPalm\\s157_2_R_S2.jpg\n",
      "✅ Moved s157_4_R_S2.jpg → C:\\Users\\hp\\Documents\\dataset\\PalmDataset\\Palm\\Train\\RightPalm\\s157_4_R_S2.jpg\n",
      "✅ Moved s157_5_L_S2.jpg → C:\\Users\\hp\\Documents\\dataset\\PalmDataset\\Palm\\Train\\LeftPalm\\s157_5_L_S2.jpg\n",
      "✅ Moved s157_6_L_S2.jpg → C:\\Users\\hp\\Documents\\dataset\\PalmDataset\\Palm\\Train\\LeftPalm\\s157_6_L_S2.jpg\n",
      "✅ Moved s157_6_R_S2.jpg → C:\\Users\\hp\\Documents\\dataset\\PalmDataset\\Palm\\Train\\LeftPalm\\s157_6_R_S2.jpg\n",
      "✅ Moved s157_7_R_S2.jpg → C:\\Users\\hp\\Documents\\dataset\\PalmDataset\\Palm\\Train\\RightPalm\\s157_7_R_S2.jpg\n",
      "✅ Moved s157_8_L_S2.jpg → C:\\Users\\hp\\Documents\\dataset\\PalmDataset\\Palm\\Train\\LeftPalm\\s157_8_L_S2.jpg\n",
      "✅ Moved s157_8_R_S2.jpg → C:\\Users\\hp\\Documents\\dataset\\PalmDataset\\Palm\\Train\\RightPalm\\s157_8_R_S2.jpg\n",
      "✅ Moved s157_9_L_S2.jpg → C:\\Users\\hp\\Documents\\dataset\\PalmDataset\\Palm\\Train\\LeftPalm\\s157_9_L_S2.jpg\n",
      "✅ Moved s157_9_R_S2.jpg → C:\\Users\\hp\\Documents\\dataset\\PalmDataset\\Palm\\Train\\RightPalm\\s157_9_R_S2.jpg\n",
      "✅ Moved s158_10_L_S2.jpg → C:\\Users\\hp\\Documents\\dataset\\PalmDataset\\Palm\\Train\\RightPalm\\s158_10_L_S2.jpg\n",
      "✅ Moved s158_10_R_S2.jpg → C:\\Users\\hp\\Documents\\dataset\\PalmDataset\\Palm\\Train\\LeftPalm\\s158_10_R_S2.jpg\n",
      "✅ Moved s158_1_L_S2.jpg → C:\\Users\\hp\\Documents\\dataset\\PalmDataset\\Palm\\Train\\LeftPalm\\s158_1_L_S2.jpg\n",
      "✅ Moved s158_1_R_S2.jpg → C:\\Users\\hp\\Documents\\dataset\\PalmDataset\\Palm\\Train\\RightPalm\\s158_1_R_S2.jpg\n",
      "✅ Moved s158_2_L_S2.jpg → C:\\Users\\hp\\Documents\\dataset\\PalmDataset\\Palm\\Train\\LeftPalm\\s158_2_L_S2.jpg\n",
      "✅ Moved s158_2_R_S2.jpg → C:\\Users\\hp\\Documents\\dataset\\PalmDataset\\Palm\\Train\\RightPalm\\s158_2_R_S2.jpg\n",
      "✅ Moved s158_3_L_S2.jpg → C:\\Users\\hp\\Documents\\dataset\\PalmDataset\\Palm\\Train\\LeftPalm\\s158_3_L_S2.jpg\n",
      "✅ Moved s158_4_L_S2.jpg → C:\\Users\\hp\\Documents\\dataset\\PalmDataset\\Palm\\Train\\LeftPalm\\s158_4_L_S2.jpg\n",
      "✅ Moved s158_4_R_S2.jpg → C:\\Users\\hp\\Documents\\dataset\\PalmDataset\\Palm\\Train\\LeftPalm\\s158_4_R_S2.jpg\n",
      "✅ Moved s158_5_L_S2.jpg → C:\\Users\\hp\\Documents\\dataset\\PalmDataset\\Palm\\Train\\LeftPalm\\s158_5_L_S2.jpg\n",
      "✅ Moved s158_5_R_S2.jpg → C:\\Users\\hp\\Documents\\dataset\\PalmDataset\\Palm\\Train\\RightPalm\\s158_5_R_S2.jpg\n",
      "✅ Moved s158_6_L_S2.jpg → C:\\Users\\hp\\Documents\\dataset\\PalmDataset\\Palm\\Train\\LeftPalm\\s158_6_L_S2.jpg\n",
      "✅ Moved s158_7_L_S2.jpg → C:\\Users\\hp\\Documents\\dataset\\PalmDataset\\Palm\\Train\\RightPalm\\s158_7_L_S2.jpg\n",
      "✅ Moved s158_7_R_S2.jpg → C:\\Users\\hp\\Documents\\dataset\\PalmDataset\\Palm\\Train\\LeftPalm\\s158_7_R_S2.jpg\n",
      "✅ Moved s158_8_L_S2.jpg → C:\\Users\\hp\\Documents\\dataset\\PalmDataset\\Palm\\Train\\LeftPalm\\s158_8_L_S2.jpg\n",
      "✅ Moved s158_8_R_S2.jpg → C:\\Users\\hp\\Documents\\dataset\\PalmDataset\\Palm\\Train\\LeftPalm\\s158_8_R_S2.jpg\n",
      "✅ Moved s158_9_L_S2.jpg → C:\\Users\\hp\\Documents\\dataset\\PalmDataset\\Palm\\Train\\LeftPalm\\s158_9_L_S2.jpg\n",
      "✅ Moved s158_9_R_S2.jpg → C:\\Users\\hp\\Documents\\dataset\\PalmDataset\\Palm\\Train\\RightPalm\\s158_9_R_S2.jpg\n",
      "✅ Moved s159_10_R_S2.jpg → C:\\Users\\hp\\Documents\\dataset\\PalmDataset\\Palm\\Train\\RightPalm\\s159_10_R_S2.jpg\n",
      "✅ Moved s159_1_L_S2.jpg → C:\\Users\\hp\\Documents\\dataset\\PalmDataset\\Palm\\Train\\RightPalm\\s159_1_L_S2.jpg\n",
      "✅ Moved s159_1_R_S2.jpg → C:\\Users\\hp\\Documents\\dataset\\PalmDataset\\Palm\\Train\\LeftPalm\\s159_1_R_S2.jpg\n",
      "✅ Moved s159_2_R_S2.jpg → C:\\Users\\hp\\Documents\\dataset\\PalmDataset\\Palm\\Train\\LeftPalm\\s159_2_R_S2.jpg\n",
      "✅ Moved s159_4_L_S2.jpg → C:\\Users\\hp\\Documents\\dataset\\PalmDataset\\Palm\\Train\\RightPalm\\s159_4_L_S2.jpg\n",
      "✅ Moved s159_5_R_S2.jpg → C:\\Users\\hp\\Documents\\dataset\\PalmDataset\\Palm\\Train\\LeftPalm\\s159_5_R_S2.jpg\n",
      "✅ Moved s159_6_R_S2.jpg → C:\\Users\\hp\\Documents\\dataset\\PalmDataset\\Palm\\Train\\RightPalm\\s159_6_R_S2.jpg\n",
      "✅ Moved s159_7_L_S2.jpg → C:\\Users\\hp\\Documents\\dataset\\PalmDataset\\Palm\\Train\\RightPalm\\s159_7_L_S2.jpg\n",
      "✅ Moved s159_7_R_S2.jpg → C:\\Users\\hp\\Documents\\dataset\\PalmDataset\\Palm\\Train\\RightPalm\\s159_7_R_S2.jpg\n",
      "✅ Moved s159_8_L_S2.jpg → C:\\Users\\hp\\Documents\\dataset\\PalmDataset\\Palm\\Train\\LeftPalm\\s159_8_L_S2.jpg\n",
      "✅ Moved s159_8_R_S2.jpg → C:\\Users\\hp\\Documents\\dataset\\PalmDataset\\Palm\\Train\\LeftPalm\\s159_8_R_S2.jpg\n",
      "✅ Moved s159_9_L_S2.jpg → C:\\Users\\hp\\Documents\\dataset\\PalmDataset\\Palm\\Train\\LeftPalm\\s159_9_L_S2.jpg\n",
      "✅ Moved s159_9_R_S2.jpg → C:\\Users\\hp\\Documents\\dataset\\PalmDataset\\Palm\\Train\\LeftPalm\\s159_9_R_S2.jpg\n",
      "✅ Moved s15_10_L_S2.jpg → C:\\Users\\hp\\Documents\\dataset\\PalmDataset\\Palm\\Train\\RightPalm\\s15_10_L_S2.jpg\n",
      "✅ Moved s15_10_R_S2.jpg → C:\\Users\\hp\\Documents\\dataset\\PalmDataset\\Palm\\Train\\RightPalm\\s15_10_R_S2.jpg\n",
      "✅ Moved s15_2_L_S2.jpg → C:\\Users\\hp\\Documents\\dataset\\PalmDataset\\Palm\\Train\\RightPalm\\s15_2_L_S2.jpg\n",
      "✅ Moved s15_2_R_S2.jpg → C:\\Users\\hp\\Documents\\dataset\\PalmDataset\\Palm\\Train\\LeftPalm\\s15_2_R_S2.jpg\n",
      "✅ Moved s15_4_L_S2.jpg → C:\\Users\\hp\\Documents\\dataset\\PalmDataset\\Palm\\Train\\RightPalm\\s15_4_L_S2.jpg\n",
      "✅ Moved s15_4_R_S2.jpg → C:\\Users\\hp\\Documents\\dataset\\PalmDataset\\Palm\\Train\\LeftPalm\\s15_4_R_S2.jpg\n",
      "✅ Moved s15_5_L_S2.jpg → C:\\Users\\hp\\Documents\\dataset\\PalmDataset\\Palm\\Train\\RightPalm\\s15_5_L_S2.jpg\n",
      "✅ Moved s15_6_L_S2.jpg → C:\\Users\\hp\\Documents\\dataset\\PalmDataset\\Palm\\Train\\LeftPalm\\s15_6_L_S2.jpg\n",
      "✅ Moved s15_6_R_S2.jpg → C:\\Users\\hp\\Documents\\dataset\\PalmDataset\\Palm\\Train\\LeftPalm\\s15_6_R_S2.jpg\n",
      "✅ Moved s15_8_L_S2.jpg → C:\\Users\\hp\\Documents\\dataset\\PalmDataset\\Palm\\Train\\LeftPalm\\s15_8_L_S2.jpg\n",
      "✅ Moved s15_8_R_S2.jpg → C:\\Users\\hp\\Documents\\dataset\\PalmDataset\\Palm\\Train\\LeftPalm\\s15_8_R_S2.jpg\n",
      "✅ Moved s15_9_L_S2.jpg → C:\\Users\\hp\\Documents\\dataset\\PalmDataset\\Palm\\Train\\LeftPalm\\s15_9_L_S2.jpg\n",
      "✅ Moved s160_10_L_S2.jpg → C:\\Users\\hp\\Documents\\dataset\\PalmDataset\\Palm\\Train\\RightPalm\\s160_10_L_S2.jpg\n",
      "✅ Moved s160_10_R_S2.jpg → C:\\Users\\hp\\Documents\\dataset\\PalmDataset\\Palm\\Train\\RightPalm\\s160_10_R_S2.jpg\n",
      "✅ Moved s160_1_L_S2.jpg → C:\\Users\\hp\\Documents\\dataset\\PalmDataset\\Palm\\Train\\RightPalm\\s160_1_L_S2.jpg\n",
      "✅ Moved s160_1_R_S2.jpg → C:\\Users\\hp\\Documents\\dataset\\PalmDataset\\Palm\\Train\\LeftPalm\\s160_1_R_S2.jpg\n",
      "✅ Moved s160_2_L_S2.jpg → C:\\Users\\hp\\Documents\\dataset\\PalmDataset\\Palm\\Train\\LeftPalm\\s160_2_L_S2.jpg\n",
      "✅ Moved s160_2_R_S2.jpg → C:\\Users\\hp\\Documents\\dataset\\PalmDataset\\Palm\\Train\\RightPalm\\s160_2_R_S2.jpg\n",
      "✅ Moved s160_3_L_S2.jpg → C:\\Users\\hp\\Documents\\dataset\\PalmDataset\\Palm\\Train\\LeftPalm\\s160_3_L_S2.jpg\n",
      "✅ Moved s160_4_L_S2.jpg → C:\\Users\\hp\\Documents\\dataset\\PalmDataset\\Palm\\Train\\RightPalm\\s160_4_L_S2.jpg\n",
      "✅ Moved s160_4_R_S2.jpg → C:\\Users\\hp\\Documents\\dataset\\PalmDataset\\Palm\\Train\\LeftPalm\\s160_4_R_S2.jpg\n",
      "✅ Moved s160_5_L_S2.jpg → C:\\Users\\hp\\Documents\\dataset\\PalmDataset\\Palm\\Train\\RightPalm\\s160_5_L_S2.jpg\n",
      "✅ Moved s160_5_R_S2.jpg → C:\\Users\\hp\\Documents\\dataset\\PalmDataset\\Palm\\Train\\LeftPalm\\s160_5_R_S2.jpg\n",
      "✅ Moved s160_7_L_S2.jpg → C:\\Users\\hp\\Documents\\dataset\\PalmDataset\\Palm\\Train\\RightPalm\\s160_7_L_S2.jpg\n",
      "✅ Moved s160_7_R_S2.jpg → C:\\Users\\hp\\Documents\\dataset\\PalmDataset\\Palm\\Train\\RightPalm\\s160_7_R_S2.jpg\n",
      "✅ Moved s160_8_L_S2.jpg → C:\\Users\\hp\\Documents\\dataset\\PalmDataset\\Palm\\Train\\LeftPalm\\s160_8_L_S2.jpg\n",
      "✅ Moved s160_8_R_S2.jpg → C:\\Users\\hp\\Documents\\dataset\\PalmDataset\\Palm\\Train\\LeftPalm\\s160_8_R_S2.jpg\n",
      "✅ Moved s160_9_L_S2.jpg → C:\\Users\\hp\\Documents\\dataset\\PalmDataset\\Palm\\Train\\RightPalm\\s160_9_L_S2.jpg\n",
      "✅ Moved s16_10_R_S2.jpg → C:\\Users\\hp\\Documents\\dataset\\PalmDataset\\Palm\\Train\\LeftPalm\\s16_10_R_S2.jpg\n",
      "✅ Moved s16_2_L_S2.jpg → C:\\Users\\hp\\Documents\\dataset\\PalmDataset\\Palm\\Train\\RightPalm\\s16_2_L_S2.jpg\n",
      "✅ Moved s16_2_R_S2.jpg → C:\\Users\\hp\\Documents\\dataset\\PalmDataset\\Palm\\Train\\RightPalm\\s16_2_R_S2.jpg\n",
      "✅ Moved s16_3_R_S2.jpg → C:\\Users\\hp\\Documents\\dataset\\PalmDataset\\Palm\\Train\\LeftPalm\\s16_3_R_S2.jpg\n",
      "✅ Moved s16_4_L_S2.jpg → C:\\Users\\hp\\Documents\\dataset\\PalmDataset\\Palm\\Train\\RightPalm\\s16_4_L_S2.jpg\n",
      "✅ Moved s16_4_R_S2.jpg → C:\\Users\\hp\\Documents\\dataset\\PalmDataset\\Palm\\Train\\RightPalm\\s16_4_R_S2.jpg\n",
      "✅ Moved s16_5_L_S2.jpg → C:\\Users\\hp\\Documents\\dataset\\PalmDataset\\Palm\\Train\\LeftPalm\\s16_5_L_S2.jpg\n",
      "✅ Moved s16_6_L_S2.jpg → C:\\Users\\hp\\Documents\\dataset\\PalmDataset\\Palm\\Train\\LeftPalm\\s16_6_L_S2.jpg\n",
      "✅ Moved s16_6_R_S2.jpg → C:\\Users\\hp\\Documents\\dataset\\PalmDataset\\Palm\\Train\\RightPalm\\s16_6_R_S2.jpg\n",
      "✅ Moved s16_7_L_S2.jpg → C:\\Users\\hp\\Documents\\dataset\\PalmDataset\\Palm\\Train\\LeftPalm\\s16_7_L_S2.jpg\n",
      "✅ Moved s16_7_R_S2.jpg → C:\\Users\\hp\\Documents\\dataset\\PalmDataset\\Palm\\Train\\LeftPalm\\s16_7_R_S2.jpg\n",
      "✅ Moved s16_8_R_S2.jpg → C:\\Users\\hp\\Documents\\dataset\\PalmDataset\\Palm\\Train\\LeftPalm\\s16_8_R_S2.jpg\n",
      "✅ Moved s16_9_L_S2.jpg → C:\\Users\\hp\\Documents\\dataset\\PalmDataset\\Palm\\Train\\RightPalm\\s16_9_L_S2.jpg\n",
      "✅ Moved s16_9_R_S2.jpg → C:\\Users\\hp\\Documents\\dataset\\PalmDataset\\Palm\\Train\\LeftPalm\\s16_9_R_S2.jpg\n",
      "✅ Moved s17_10_L_S2.jpg → C:\\Users\\hp\\Documents\\dataset\\PalmDataset\\Palm\\Train\\RightPalm\\s17_10_L_S2.jpg\n",
      "✅ Moved s17_10_R_S2.jpg → C:\\Users\\hp\\Documents\\dataset\\PalmDataset\\Palm\\Train\\RightPalm\\s17_10_R_S2.jpg\n",
      "✅ Moved s17_1_L_S2.jpg → C:\\Users\\hp\\Documents\\dataset\\PalmDataset\\Palm\\Train\\LeftPalm\\s17_1_L_S2.jpg\n",
      "✅ Moved s17_1_R_S2.jpg → C:\\Users\\hp\\Documents\\dataset\\PalmDataset\\Palm\\Train\\LeftPalm\\s17_1_R_S2.jpg\n",
      "✅ Moved s17_3_L_S2.jpg → C:\\Users\\hp\\Documents\\dataset\\PalmDataset\\Palm\\Train\\RightPalm\\s17_3_L_S2.jpg\n",
      "✅ Moved s17_3_R_S2.jpg → C:\\Users\\hp\\Documents\\dataset\\PalmDataset\\Palm\\Train\\LeftPalm\\s17_3_R_S2.jpg\n",
      "✅ Moved s17_4_R_S2.jpg → C:\\Users\\hp\\Documents\\dataset\\PalmDataset\\Palm\\Train\\RightPalm\\s17_4_R_S2.jpg\n",
      "✅ Moved s17_5_L_S2.jpg → C:\\Users\\hp\\Documents\\dataset\\PalmDataset\\Palm\\Train\\RightPalm\\s17_5_L_S2.jpg\n",
      "✅ Moved s17_5_R_S2.jpg → C:\\Users\\hp\\Documents\\dataset\\PalmDataset\\Palm\\Train\\RightPalm\\s17_5_R_S2.jpg\n",
      "✅ Moved s17_6_L_S2.jpg → C:\\Users\\hp\\Documents\\dataset\\PalmDataset\\Palm\\Train\\RightPalm\\s17_6_L_S2.jpg\n",
      "✅ Moved s17_6_R_S2.jpg → C:\\Users\\hp\\Documents\\dataset\\PalmDataset\\Palm\\Train\\LeftPalm\\s17_6_R_S2.jpg\n",
      "✅ Moved s17_7_L_S2.jpg → C:\\Users\\hp\\Documents\\dataset\\PalmDataset\\Palm\\Train\\LeftPalm\\s17_7_L_S2.jpg\n",
      "✅ Moved s17_7_R_S2.jpg → C:\\Users\\hp\\Documents\\dataset\\PalmDataset\\Palm\\Train\\RightPalm\\s17_7_R_S2.jpg\n",
      "✅ Moved s17_8_L_S2.jpg → C:\\Users\\hp\\Documents\\dataset\\PalmDataset\\Palm\\Train\\LeftPalm\\s17_8_L_S2.jpg\n",
      "✅ Moved s17_8_R_S2.jpg → C:\\Users\\hp\\Documents\\dataset\\PalmDataset\\Palm\\Train\\RightPalm\\s17_8_R_S2.jpg\n",
      "✅ Moved s17_9_R_S2.jpg → C:\\Users\\hp\\Documents\\dataset\\PalmDataset\\Palm\\Train\\RightPalm\\s17_9_R_S2.jpg\n",
      "✅ Moved s18_10_L_S2.jpg → C:\\Users\\hp\\Documents\\dataset\\PalmDataset\\Palm\\Train\\RightPalm\\s18_10_L_S2.jpg\n",
      "✅ Moved s18_10_R_S2.jpg → C:\\Users\\hp\\Documents\\dataset\\PalmDataset\\Palm\\Train\\RightPalm\\s18_10_R_S2.jpg\n",
      "✅ Moved s18_1_L_S2.jpg → C:\\Users\\hp\\Documents\\dataset\\PalmDataset\\Palm\\Train\\LeftPalm\\s18_1_L_S2.jpg\n",
      "✅ Moved s18_1_R_S2.jpg → C:\\Users\\hp\\Documents\\dataset\\PalmDataset\\Palm\\Train\\LeftPalm\\s18_1_R_S2.jpg\n",
      "✅ Moved s18_2_L_S2.jpg → C:\\Users\\hp\\Documents\\dataset\\PalmDataset\\Palm\\Train\\RightPalm\\s18_2_L_S2.jpg\n",
      "✅ Moved s18_2_R_S2.jpg → C:\\Users\\hp\\Documents\\dataset\\PalmDataset\\Palm\\Train\\LeftPalm\\s18_2_R_S2.jpg\n",
      "✅ Moved s18_4_L_S2.jpg → C:\\Users\\hp\\Documents\\dataset\\PalmDataset\\Palm\\Train\\LeftPalm\\s18_4_L_S2.jpg\n",
      "✅ Moved s18_4_R_S2.jpg → C:\\Users\\hp\\Documents\\dataset\\PalmDataset\\Palm\\Train\\LeftPalm\\s18_4_R_S2.jpg\n",
      "✅ Moved s18_5_L_S2.jpg → C:\\Users\\hp\\Documents\\dataset\\PalmDataset\\Palm\\Train\\LeftPalm\\s18_5_L_S2.jpg\n",
      "✅ Moved s18_6_L_S2.jpg → C:\\Users\\hp\\Documents\\dataset\\PalmDataset\\Palm\\Train\\LeftPalm\\s18_6_L_S2.jpg\n",
      "✅ Moved s18_6_R_S2.jpg → C:\\Users\\hp\\Documents\\dataset\\PalmDataset\\Palm\\Train\\LeftPalm\\s18_6_R_S2.jpg\n",
      "✅ Moved s18_7_R_S2.jpg → C:\\Users\\hp\\Documents\\dataset\\PalmDataset\\Palm\\Train\\LeftPalm\\s18_7_R_S2.jpg\n",
      "✅ Moved s18_8_L_S2.jpg → C:\\Users\\hp\\Documents\\dataset\\PalmDataset\\Palm\\Train\\RightPalm\\s18_8_L_S2.jpg\n",
      "✅ Moved s18_9_L_S2.jpg → C:\\Users\\hp\\Documents\\dataset\\PalmDataset\\Palm\\Train\\LeftPalm\\s18_9_L_S2.jpg\n",
      "✅ Moved s18_9_R_S2.jpg → C:\\Users\\hp\\Documents\\dataset\\PalmDataset\\Palm\\Train\\RightPalm\\s18_9_R_S2.jpg\n",
      "✅ Moved s19_10_L_S2.jpg → C:\\Users\\hp\\Documents\\dataset\\PalmDataset\\Palm\\Train\\RightPalm\\s19_10_L_S2.jpg\n",
      "✅ Moved s19_10_R_S2.jpg → C:\\Users\\hp\\Documents\\dataset\\PalmDataset\\Palm\\Train\\RightPalm\\s19_10_R_S2.jpg\n",
      "✅ Moved s19_1_L_S2.jpg → C:\\Users\\hp\\Documents\\dataset\\PalmDataset\\Palm\\Train\\LeftPalm\\s19_1_L_S2.jpg\n",
      "✅ Moved s19_1_R_S2.jpg → C:\\Users\\hp\\Documents\\dataset\\PalmDataset\\Palm\\Train\\RightPalm\\s19_1_R_S2.jpg\n",
      "✅ Moved s19_2_L_S2.jpg → C:\\Users\\hp\\Documents\\dataset\\PalmDataset\\Palm\\Train\\LeftPalm\\s19_2_L_S2.jpg\n",
      "✅ Moved s19_2_R_S2.jpg → C:\\Users\\hp\\Documents\\dataset\\PalmDataset\\Palm\\Train\\RightPalm\\s19_2_R_S2.jpg\n",
      "✅ Moved s19_3_L_S2.jpg → C:\\Users\\hp\\Documents\\dataset\\PalmDataset\\Palm\\Train\\RightPalm\\s19_3_L_S2.jpg\n",
      "✅ Moved s19_3_R_S2.jpg → C:\\Users\\hp\\Documents\\dataset\\PalmDataset\\Palm\\Train\\RightPalm\\s19_3_R_S2.jpg\n",
      "✅ Moved s19_4_R_S2.jpg → C:\\Users\\hp\\Documents\\dataset\\PalmDataset\\Palm\\Train\\RightPalm\\s19_4_R_S2.jpg\n",
      "✅ Moved s19_5_L_S2.jpg → C:\\Users\\hp\\Documents\\dataset\\PalmDataset\\Palm\\Train\\LeftPalm\\s19_5_L_S2.jpg\n",
      "✅ Moved s19_5_R_S2.jpg → C:\\Users\\hp\\Documents\\dataset\\PalmDataset\\Palm\\Train\\RightPalm\\s19_5_R_S2.jpg\n",
      "✅ Moved s19_6_R_S2.jpg → C:\\Users\\hp\\Documents\\dataset\\PalmDataset\\Palm\\Train\\RightPalm\\s19_6_R_S2.jpg\n",
      "✅ Moved s19_7_L_S2.jpg → C:\\Users\\hp\\Documents\\dataset\\PalmDataset\\Palm\\Train\\RightPalm\\s19_7_L_S2.jpg\n",
      "✅ Moved s19_7_R_S2.jpg → C:\\Users\\hp\\Documents\\dataset\\PalmDataset\\Palm\\Train\\RightPalm\\s19_7_R_S2.jpg\n",
      "✅ Moved s19_8_R_S2.jpg → C:\\Users\\hp\\Documents\\dataset\\PalmDataset\\Palm\\Train\\RightPalm\\s19_8_R_S2.jpg\n",
      "✅ Moved s19_9_L_S2.jpg → C:\\Users\\hp\\Documents\\dataset\\PalmDataset\\Palm\\Train\\RightPalm\\s19_9_L_S2.jpg\n",
      "✅ Moved s1_10_L_S2.jpg → C:\\Users\\hp\\Documents\\dataset\\PalmDataset\\Palm\\Train\\RightPalm\\s1_10_L_S2.jpg\n",
      "✅ Moved s1_10_R_S2.jpg → C:\\Users\\hp\\Documents\\dataset\\PalmDataset\\Palm\\Train\\LeftPalm\\s1_10_R_S2.jpg\n",
      "✅ Moved s1_1_L_S2.jpg → C:\\Users\\hp\\Documents\\dataset\\PalmDataset\\Palm\\Train\\RightPalm\\s1_1_L_S2.jpg\n",
      "✅ Moved s1_2_R_S2.jpg → C:\\Users\\hp\\Documents\\dataset\\PalmDataset\\Palm\\Train\\LeftPalm\\s1_2_R_S2.jpg\n",
      "✅ Moved s1_3_R_S2.jpg → C:\\Users\\hp\\Documents\\dataset\\PalmDataset\\Palm\\Train\\LeftPalm\\s1_3_R_S2.jpg\n",
      "✅ Moved s1_4_L_S2.jpg → C:\\Users\\hp\\Documents\\dataset\\PalmDataset\\Palm\\Train\\LeftPalm\\s1_4_L_S2.jpg\n",
      "✅ Moved s1_4_R_S2.jpg → C:\\Users\\hp\\Documents\\dataset\\PalmDataset\\Palm\\Train\\LeftPalm\\s1_4_R_S2.jpg\n",
      "✅ Moved s1_5_L_S2.jpg → C:\\Users\\hp\\Documents\\dataset\\PalmDataset\\Palm\\Train\\LeftPalm\\s1_5_L_S2.jpg\n",
      "✅ Moved s1_5_R_S2.jpg → C:\\Users\\hp\\Documents\\dataset\\PalmDataset\\Palm\\Train\\LeftPalm\\s1_5_R_S2.jpg\n",
      "✅ Moved s1_6_L_S2.jpg → C:\\Users\\hp\\Documents\\dataset\\PalmDataset\\Palm\\Train\\RightPalm\\s1_6_L_S2.jpg\n",
      "✅ Moved s1_6_R_S2.jpg → C:\\Users\\hp\\Documents\\dataset\\PalmDataset\\Palm\\Train\\LeftPalm\\s1_6_R_S2.jpg\n",
      "✅ Moved s1_7_L_S2.jpg → C:\\Users\\hp\\Documents\\dataset\\PalmDataset\\Palm\\Train\\RightPalm\\s1_7_L_S2.jpg\n",
      "✅ Moved s1_8_L_S2.jpg → C:\\Users\\hp\\Documents\\dataset\\PalmDataset\\Palm\\Train\\LeftPalm\\s1_8_L_S2.jpg\n",
      "✅ Moved s1_8_R_S2.jpg → C:\\Users\\hp\\Documents\\dataset\\PalmDataset\\Palm\\Train\\LeftPalm\\s1_8_R_S2.jpg\n",
      "✅ Moved s1_9_L_S2.jpg → C:\\Users\\hp\\Documents\\dataset\\PalmDataset\\Palm\\Train\\LeftPalm\\s1_9_L_S2.jpg\n",
      "✅ Moved s1_9_R_S2.jpg → C:\\Users\\hp\\Documents\\dataset\\PalmDataset\\Palm\\Train\\RightPalm\\s1_9_R_S2.jpg\n",
      "✅ Moved s20_10_L_S2.jpg → C:\\Users\\hp\\Documents\\dataset\\PalmDataset\\Palm\\Train\\RightPalm\\s20_10_L_S2.jpg\n",
      "✅ Moved s20_10_R_S2.jpg → C:\\Users\\hp\\Documents\\dataset\\PalmDataset\\Palm\\Train\\RightPalm\\s20_10_R_S2.jpg\n",
      "✅ Moved s20_1_L_S2.jpg → C:\\Users\\hp\\Documents\\dataset\\PalmDataset\\Palm\\Train\\RightPalm\\s20_1_L_S2.jpg\n",
      "✅ Moved s20_1_R_S2.jpg → C:\\Users\\hp\\Documents\\dataset\\PalmDataset\\Palm\\Train\\RightPalm\\s20_1_R_S2.jpg\n",
      "✅ Moved s20_2_L_S2.jpg → C:\\Users\\hp\\Documents\\dataset\\PalmDataset\\Palm\\Train\\RightPalm\\s20_2_L_S2.jpg\n",
      "✅ Moved s20_2_R_S2.jpg → C:\\Users\\hp\\Documents\\dataset\\PalmDataset\\Palm\\Train\\RightPalm\\s20_2_R_S2.jpg\n",
      "✅ Moved s20_3_L_S2.jpg → C:\\Users\\hp\\Documents\\dataset\\PalmDataset\\Palm\\Train\\RightPalm\\s20_3_L_S2.jpg\n",
      "✅ Moved s20_3_R_S2.jpg → C:\\Users\\hp\\Documents\\dataset\\PalmDataset\\Palm\\Train\\RightPalm\\s20_3_R_S2.jpg\n",
      "✅ Moved s20_4_L_S2.jpg → C:\\Users\\hp\\Documents\\dataset\\PalmDataset\\Palm\\Train\\RightPalm\\s20_4_L_S2.jpg\n",
      "✅ Moved s20_4_R_S2.jpg → C:\\Users\\hp\\Documents\\dataset\\PalmDataset\\Palm\\Train\\LeftPalm\\s20_4_R_S2.jpg\n",
      "✅ Moved s20_5_L_S2.jpg → C:\\Users\\hp\\Documents\\dataset\\PalmDataset\\Palm\\Train\\RightPalm\\s20_5_L_S2.jpg\n",
      "✅ Moved s20_6_L_S2.jpg → C:\\Users\\hp\\Documents\\dataset\\PalmDataset\\Palm\\Train\\LeftPalm\\s20_6_L_S2.jpg\n",
      "✅ Moved s20_6_R_S2.jpg → C:\\Users\\hp\\Documents\\dataset\\PalmDataset\\Palm\\Train\\RightPalm\\s20_6_R_S2.jpg\n",
      "✅ Moved s20_7_L_S2.jpg → C:\\Users\\hp\\Documents\\dataset\\PalmDataset\\Palm\\Train\\LeftPalm\\s20_7_L_S2.jpg\n",
      "✅ Moved s20_7_R_S2.jpg → C:\\Users\\hp\\Documents\\dataset\\PalmDataset\\Palm\\Train\\LeftPalm\\s20_7_R_S2.jpg\n",
      "✅ Moved s20_8_L_S2.jpg → C:\\Users\\hp\\Documents\\dataset\\PalmDataset\\Palm\\Train\\RightPalm\\s20_8_L_S2.jpg\n",
      "✅ Moved s20_8_R_S2.jpg → C:\\Users\\hp\\Documents\\dataset\\PalmDataset\\Palm\\Train\\LeftPalm\\s20_8_R_S2.jpg\n",
      "✅ Moved s20_9_L_S2.jpg → C:\\Users\\hp\\Documents\\dataset\\PalmDataset\\Palm\\Train\\LeftPalm\\s20_9_L_S2.jpg\n",
      "✅ Moved s20_9_R_S2.jpg → C:\\Users\\hp\\Documents\\dataset\\PalmDataset\\Palm\\Train\\RightPalm\\s20_9_R_S2.jpg\n",
      "✅ Moved s21_10_L_S2.jpg → C:\\Users\\hp\\Documents\\dataset\\PalmDataset\\Palm\\Train\\LeftPalm\\s21_10_L_S2.jpg\n",
      "✅ Moved s21_1_R_S2.jpg → C:\\Users\\hp\\Documents\\dataset\\PalmDataset\\Palm\\Train\\LeftPalm\\s21_1_R_S2.jpg\n",
      "✅ Moved s21_2_L_S2.jpg → C:\\Users\\hp\\Documents\\dataset\\PalmDataset\\Palm\\Train\\RightPalm\\s21_2_L_S2.jpg\n",
      "✅ Moved s21_3_L_S2.jpg → C:\\Users\\hp\\Documents\\dataset\\PalmDataset\\Palm\\Train\\RightPalm\\s21_3_L_S2.jpg\n",
      "✅ Moved s21_3_R_S2.jpg → C:\\Users\\hp\\Documents\\dataset\\PalmDataset\\Palm\\Train\\RightPalm\\s21_3_R_S2.jpg\n",
      "✅ Moved s21_4_R_S2.jpg → C:\\Users\\hp\\Documents\\dataset\\PalmDataset\\Palm\\Train\\LeftPalm\\s21_4_R_S2.jpg\n",
      "✅ Moved s21_5_L_S2.jpg → C:\\Users\\hp\\Documents\\dataset\\PalmDataset\\Palm\\Train\\LeftPalm\\s21_5_L_S2.jpg\n",
      "✅ Moved s21_5_R_S2.jpg → C:\\Users\\hp\\Documents\\dataset\\PalmDataset\\Palm\\Train\\RightPalm\\s21_5_R_S2.jpg\n",
      "✅ Moved s21_6_L_S2.jpg → C:\\Users\\hp\\Documents\\dataset\\PalmDataset\\Palm\\Train\\LeftPalm\\s21_6_L_S2.jpg\n",
      "✅ Moved s21_6_R_S2.jpg → C:\\Users\\hp\\Documents\\dataset\\PalmDataset\\Palm\\Train\\RightPalm\\s21_6_R_S2.jpg\n",
      "✅ Moved s21_7_R_S2.jpg → C:\\Users\\hp\\Documents\\dataset\\PalmDataset\\Palm\\Train\\RightPalm\\s21_7_R_S2.jpg\n",
      "✅ Moved s21_8_L_S2.jpg → C:\\Users\\hp\\Documents\\dataset\\PalmDataset\\Palm\\Train\\LeftPalm\\s21_8_L_S2.jpg\n",
      "✅ Moved s21_9_R_S2.jpg → C:\\Users\\hp\\Documents\\dataset\\PalmDataset\\Palm\\Train\\RightPalm\\s21_9_R_S2.jpg\n",
      "✅ Moved s22_10_L_S2.jpg → C:\\Users\\hp\\Documents\\dataset\\PalmDataset\\Palm\\Train\\LeftPalm\\s22_10_L_S2.jpg\n",
      "✅ Moved s22_1_L_S2.jpg → C:\\Users\\hp\\Documents\\dataset\\PalmDataset\\Palm\\Train\\RightPalm\\s22_1_L_S2.jpg\n",
      "✅ Moved s22_1_R_S2.jpg → C:\\Users\\hp\\Documents\\dataset\\PalmDataset\\Palm\\Train\\LeftPalm\\s22_1_R_S2.jpg\n",
      "✅ Moved s22_2_L_S2.jpg → C:\\Users\\hp\\Documents\\dataset\\PalmDataset\\Palm\\Train\\RightPalm\\s22_2_L_S2.jpg\n",
      "✅ Moved s22_2_R_S2.jpg → C:\\Users\\hp\\Documents\\dataset\\PalmDataset\\Palm\\Train\\RightPalm\\s22_2_R_S2.jpg\n",
      "✅ Moved s22_3_L_S2.jpg → C:\\Users\\hp\\Documents\\dataset\\PalmDataset\\Palm\\Train\\LeftPalm\\s22_3_L_S2.jpg\n",
      "✅ Moved s22_3_R_S2.jpg → C:\\Users\\hp\\Documents\\dataset\\PalmDataset\\Palm\\Train\\LeftPalm\\s22_3_R_S2.jpg\n",
      "✅ Moved s22_4_L_S2.jpg → C:\\Users\\hp\\Documents\\dataset\\PalmDataset\\Palm\\Train\\RightPalm\\s22_4_L_S2.jpg\n",
      "✅ Moved s22_4_R_S2.jpg → C:\\Users\\hp\\Documents\\dataset\\PalmDataset\\Palm\\Train\\LeftPalm\\s22_4_R_S2.jpg\n",
      "✅ Moved s22_5_L_S2.jpg → C:\\Users\\hp\\Documents\\dataset\\PalmDataset\\Palm\\Train\\LeftPalm\\s22_5_L_S2.jpg\n",
      "✅ Moved s22_6_L_S2.jpg → C:\\Users\\hp\\Documents\\dataset\\PalmDataset\\Palm\\Train\\RightPalm\\s22_6_L_S2.jpg\n",
      "✅ Moved s22_7_L_S2.jpg → C:\\Users\\hp\\Documents\\dataset\\PalmDataset\\Palm\\Train\\RightPalm\\s22_7_L_S2.jpg\n",
      "✅ Moved s22_7_R_S2.jpg → C:\\Users\\hp\\Documents\\dataset\\PalmDataset\\Palm\\Train\\LeftPalm\\s22_7_R_S2.jpg\n",
      "✅ Moved s22_8_L_S2.jpg → C:\\Users\\hp\\Documents\\dataset\\PalmDataset\\Palm\\Train\\LeftPalm\\s22_8_L_S2.jpg\n",
      "✅ Moved s22_8_R_S2.jpg → C:\\Users\\hp\\Documents\\dataset\\PalmDataset\\Palm\\Train\\LeftPalm\\s22_8_R_S2.jpg\n",
      "✅ Moved s22_9_L_S2.jpg → C:\\Users\\hp\\Documents\\dataset\\PalmDataset\\Palm\\Train\\RightPalm\\s22_9_L_S2.jpg\n",
      "✅ Moved s22_9_R_S2.jpg → C:\\Users\\hp\\Documents\\dataset\\PalmDataset\\Palm\\Train\\RightPalm\\s22_9_R_S2.jpg\n",
      "✅ Moved s23_10_L_S2.jpg → C:\\Users\\hp\\Documents\\dataset\\PalmDataset\\Palm\\Train\\LeftPalm\\s23_10_L_S2.jpg\n",
      "✅ Moved s23_10_R_S2.jpg → C:\\Users\\hp\\Documents\\dataset\\PalmDataset\\Palm\\Train\\LeftPalm\\s23_10_R_S2.jpg\n",
      "✅ Moved s23_1_L_S2.jpg → C:\\Users\\hp\\Documents\\dataset\\PalmDataset\\Palm\\Train\\RightPalm\\s23_1_L_S2.jpg\n",
      "✅ Moved s23_2_L_S2.jpg → C:\\Users\\hp\\Documents\\dataset\\PalmDataset\\Palm\\Train\\LeftPalm\\s23_2_L_S2.jpg\n",
      "✅ Moved s23_3_L_S2.jpg → C:\\Users\\hp\\Documents\\dataset\\PalmDataset\\Palm\\Train\\RightPalm\\s23_3_L_S2.jpg\n",
      "✅ Moved s23_3_R_S2.jpg → C:\\Users\\hp\\Documents\\dataset\\PalmDataset\\Palm\\Train\\RightPalm\\s23_3_R_S2.jpg\n",
      "✅ Moved s23_4_L_S2.jpg → C:\\Users\\hp\\Documents\\dataset\\PalmDataset\\Palm\\Train\\LeftPalm\\s23_4_L_S2.jpg\n",
      "✅ Moved s23_4_R_S2.jpg → C:\\Users\\hp\\Documents\\dataset\\PalmDataset\\Palm\\Train\\LeftPalm\\s23_4_R_S2.jpg\n",
      "✅ Moved s23_5_L_S2.jpg → C:\\Users\\hp\\Documents\\dataset\\PalmDataset\\Palm\\Train\\LeftPalm\\s23_5_L_S2.jpg\n",
      "✅ Moved s23_6_L_S2.jpg → C:\\Users\\hp\\Documents\\dataset\\PalmDataset\\Palm\\Train\\LeftPalm\\s23_6_L_S2.jpg\n",
      "✅ Moved s23_6_R_S2.jpg → C:\\Users\\hp\\Documents\\dataset\\PalmDataset\\Palm\\Train\\LeftPalm\\s23_6_R_S2.jpg\n",
      "✅ Moved s23_7_L_S2.jpg → C:\\Users\\hp\\Documents\\dataset\\PalmDataset\\Palm\\Train\\LeftPalm\\s23_7_L_S2.jpg\n",
      "✅ Moved s23_7_R_S2.jpg → C:\\Users\\hp\\Documents\\dataset\\PalmDataset\\Palm\\Train\\RightPalm\\s23_7_R_S2.jpg\n",
      "✅ Moved s23_8_R_S2.jpg → C:\\Users\\hp\\Documents\\dataset\\PalmDataset\\Palm\\Train\\LeftPalm\\s23_8_R_S2.jpg\n",
      "✅ Moved s24_10_L_S2.jpg → C:\\Users\\hp\\Documents\\dataset\\PalmDataset\\Palm\\Train\\RightPalm\\s24_10_L_S2.jpg\n",
      "✅ Moved s24_10_R_S2.jpg → C:\\Users\\hp\\Documents\\dataset\\PalmDataset\\Palm\\Train\\RightPalm\\s24_10_R_S2.jpg\n",
      "✅ Moved s24_2_L_S2.jpg → C:\\Users\\hp\\Documents\\dataset\\PalmDataset\\Palm\\Train\\LeftPalm\\s24_2_L_S2.jpg\n",
      "✅ Moved s24_2_R_S2.jpg → C:\\Users\\hp\\Documents\\dataset\\PalmDataset\\Palm\\Train\\LeftPalm\\s24_2_R_S2.jpg\n",
      "✅ Moved s24_3_L_S2.jpg → C:\\Users\\hp\\Documents\\dataset\\PalmDataset\\Palm\\Train\\LeftPalm\\s24_3_L_S2.jpg\n",
      "✅ Moved s24_3_R_S2.jpg → C:\\Users\\hp\\Documents\\dataset\\PalmDataset\\Palm\\Train\\LeftPalm\\s24_3_R_S2.jpg\n",
      "✅ Moved s24_4_L_S2.jpg → C:\\Users\\hp\\Documents\\dataset\\PalmDataset\\Palm\\Train\\RightPalm\\s24_4_L_S2.jpg\n",
      "✅ Moved s24_4_R_S2.jpg → C:\\Users\\hp\\Documents\\dataset\\PalmDataset\\Palm\\Train\\LeftPalm\\s24_4_R_S2.jpg\n",
      "✅ Moved s24_5_R_S2.jpg → C:\\Users\\hp\\Documents\\dataset\\PalmDataset\\Palm\\Train\\LeftPalm\\s24_5_R_S2.jpg\n",
      "✅ Moved s24_6_L_S2.jpg → C:\\Users\\hp\\Documents\\dataset\\PalmDataset\\Palm\\Train\\RightPalm\\s24_6_L_S2.jpg\n",
      "✅ Moved s24_6_R_S2.jpg → C:\\Users\\hp\\Documents\\dataset\\PalmDataset\\Palm\\Train\\LeftPalm\\s24_6_R_S2.jpg\n",
      "✅ Moved s24_7_L_S2.jpg → C:\\Users\\hp\\Documents\\dataset\\PalmDataset\\Palm\\Train\\RightPalm\\s24_7_L_S2.jpg\n",
      "✅ Moved s24_7_R_S2.jpg → C:\\Users\\hp\\Documents\\dataset\\PalmDataset\\Palm\\Train\\LeftPalm\\s24_7_R_S2.jpg\n",
      "✅ Moved s24_8_L_S2.jpg → C:\\Users\\hp\\Documents\\dataset\\PalmDataset\\Palm\\Train\\LeftPalm\\s24_8_L_S2.jpg\n",
      "✅ Moved s24_8_R_S2.jpg → C:\\Users\\hp\\Documents\\dataset\\PalmDataset\\Palm\\Train\\LeftPalm\\s24_8_R_S2.jpg\n",
      "✅ Moved s24_9_L_S2.jpg → C:\\Users\\hp\\Documents\\dataset\\PalmDataset\\Palm\\Train\\RightPalm\\s24_9_L_S2.jpg\n",
      "✅ Moved s24_9_R_S2.jpg → C:\\Users\\hp\\Documents\\dataset\\PalmDataset\\Palm\\Train\\RightPalm\\s24_9_R_S2.jpg\n",
      "✅ Moved s25_10_L_S2.jpg → C:\\Users\\hp\\Documents\\dataset\\PalmDataset\\Palm\\Train\\LeftPalm\\s25_10_L_S2.jpg\n",
      "✅ Moved s25_10_R_S2.jpg → C:\\Users\\hp\\Documents\\dataset\\PalmDataset\\Palm\\Train\\RightPalm\\s25_10_R_S2.jpg\n",
      "✅ Moved s25_1_L_S2.jpg → C:\\Users\\hp\\Documents\\dataset\\PalmDataset\\Palm\\Train\\LeftPalm\\s25_1_L_S2.jpg\n",
      "✅ Moved s25_1_R_S2.jpg → C:\\Users\\hp\\Documents\\dataset\\PalmDataset\\Palm\\Train\\LeftPalm\\s25_1_R_S2.jpg\n",
      "✅ Moved s25_2_L_S2.jpg → C:\\Users\\hp\\Documents\\dataset\\PalmDataset\\Palm\\Train\\LeftPalm\\s25_2_L_S2.jpg\n",
      "✅ Moved s25_2_R_S2.jpg → C:\\Users\\hp\\Documents\\dataset\\PalmDataset\\Palm\\Train\\RightPalm\\s25_2_R_S2.jpg\n",
      "✅ Moved s25_3_R_S2.jpg → C:\\Users\\hp\\Documents\\dataset\\PalmDataset\\Palm\\Train\\LeftPalm\\s25_3_R_S2.jpg\n",
      "✅ Moved s25_4_L_S2.jpg → C:\\Users\\hp\\Documents\\dataset\\PalmDataset\\Palm\\Train\\RightPalm\\s25_4_L_S2.jpg\n",
      "✅ Moved s25_4_R_S2.jpg → C:\\Users\\hp\\Documents\\dataset\\PalmDataset\\Palm\\Train\\RightPalm\\s25_4_R_S2.jpg\n",
      "✅ Moved s25_5_L_S2.jpg → C:\\Users\\hp\\Documents\\dataset\\PalmDataset\\Palm\\Train\\RightPalm\\s25_5_L_S2.jpg\n",
      "✅ Moved s25_5_R_S2.jpg → C:\\Users\\hp\\Documents\\dataset\\PalmDataset\\Palm\\Train\\LeftPalm\\s25_5_R_S2.jpg\n",
      "✅ Moved s25_6_L_S2.jpg → C:\\Users\\hp\\Documents\\dataset\\PalmDataset\\Palm\\Train\\LeftPalm\\s25_6_L_S2.jpg\n",
      "✅ Moved s25_6_R_S2.jpg → C:\\Users\\hp\\Documents\\dataset\\PalmDataset\\Palm\\Train\\LeftPalm\\s25_6_R_S2.jpg\n",
      "✅ Moved s25_7_L_S2.jpg → C:\\Users\\hp\\Documents\\dataset\\PalmDataset\\Palm\\Train\\RightPalm\\s25_7_L_S2.jpg\n",
      "✅ Moved s25_7_R_S2.jpg → C:\\Users\\hp\\Documents\\dataset\\PalmDataset\\Palm\\Train\\LeftPalm\\s25_7_R_S2.jpg\n",
      "✅ Moved s25_8_R_S2.jpg → C:\\Users\\hp\\Documents\\dataset\\PalmDataset\\Palm\\Train\\RightPalm\\s25_8_R_S2.jpg\n",
      "✅ Moved s25_9_L_S2.jpg → C:\\Users\\hp\\Documents\\dataset\\PalmDataset\\Palm\\Train\\RightPalm\\s25_9_L_S2.jpg\n",
      "✅ Moved s25_9_R_S2.jpg → C:\\Users\\hp\\Documents\\dataset\\PalmDataset\\Palm\\Train\\RightPalm\\s25_9_R_S2.jpg\n",
      "✅ Moved s26_10_L_S2.jpg → C:\\Users\\hp\\Documents\\dataset\\PalmDataset\\Palm\\Train\\LeftPalm\\s26_10_L_S2.jpg\n",
      "✅ Moved s26_10_R_S2.jpg → C:\\Users\\hp\\Documents\\dataset\\PalmDataset\\Palm\\Train\\RightPalm\\s26_10_R_S2.jpg\n",
      "✅ Moved s26_1_L_S2.jpg → C:\\Users\\hp\\Documents\\dataset\\PalmDataset\\Palm\\Train\\LeftPalm\\s26_1_L_S2.jpg\n",
      "✅ Moved s26_1_R_S2.jpg → C:\\Users\\hp\\Documents\\dataset\\PalmDataset\\Palm\\Train\\LeftPalm\\s26_1_R_S2.jpg\n",
      "✅ Moved s26_2_L_S2.jpg → C:\\Users\\hp\\Documents\\dataset\\PalmDataset\\Palm\\Train\\RightPalm\\s26_2_L_S2.jpg\n",
      "✅ Moved s26_2_R_S2.jpg → C:\\Users\\hp\\Documents\\dataset\\PalmDataset\\Palm\\Train\\RightPalm\\s26_2_R_S2.jpg\n",
      "✅ Moved s26_3_L_S2.jpg → C:\\Users\\hp\\Documents\\dataset\\PalmDataset\\Palm\\Train\\RightPalm\\s26_3_L_S2.jpg\n",
      "✅ Moved s26_3_R_S2.jpg → C:\\Users\\hp\\Documents\\dataset\\PalmDataset\\Palm\\Train\\LeftPalm\\s26_3_R_S2.jpg\n",
      "✅ Moved s26_4_L_S2.jpg → C:\\Users\\hp\\Documents\\dataset\\PalmDataset\\Palm\\Train\\LeftPalm\\s26_4_L_S2.jpg\n",
      "✅ Moved s26_4_R_S2.jpg → C:\\Users\\hp\\Documents\\dataset\\PalmDataset\\Palm\\Train\\LeftPalm\\s26_4_R_S2.jpg\n",
      "✅ Moved s26_5_L_S2.jpg → C:\\Users\\hp\\Documents\\dataset\\PalmDataset\\Palm\\Train\\LeftPalm\\s26_5_L_S2.jpg\n",
      "✅ Moved s26_5_R_S2.jpg → C:\\Users\\hp\\Documents\\dataset\\PalmDataset\\Palm\\Train\\LeftPalm\\s26_5_R_S2.jpg\n",
      "✅ Moved s26_6_L_S2.jpg → C:\\Users\\hp\\Documents\\dataset\\PalmDataset\\Palm\\Train\\LeftPalm\\s26_6_L_S2.jpg\n",
      "✅ Moved s26_6_R_S2.jpg → C:\\Users\\hp\\Documents\\dataset\\PalmDataset\\Palm\\Train\\RightPalm\\s26_6_R_S2.jpg\n",
      "✅ Moved s26_7_R_S2.jpg → C:\\Users\\hp\\Documents\\dataset\\PalmDataset\\Palm\\Train\\LeftPalm\\s26_7_R_S2.jpg\n",
      "✅ Moved s26_8_L_S2.jpg → C:\\Users\\hp\\Documents\\dataset\\PalmDataset\\Palm\\Train\\LeftPalm\\s26_8_L_S2.jpg\n",
      "✅ Moved s26_8_R_S2.jpg → C:\\Users\\hp\\Documents\\dataset\\PalmDataset\\Palm\\Train\\LeftPalm\\s26_8_R_S2.jpg\n",
      "✅ Moved s26_9_L_S2.jpg → C:\\Users\\hp\\Documents\\dataset\\PalmDataset\\Palm\\Train\\LeftPalm\\s26_9_L_S2.jpg\n",
      "✅ Moved s26_9_R_S2.jpg → C:\\Users\\hp\\Documents\\dataset\\PalmDataset\\Palm\\Train\\LeftPalm\\s26_9_R_S2.jpg\n",
      "✅ Moved s27_10_L_S2.jpg → C:\\Users\\hp\\Documents\\dataset\\PalmDataset\\Palm\\Train\\RightPalm\\s27_10_L_S2.jpg\n",
      "✅ Moved s27_10_R_S2.jpg → C:\\Users\\hp\\Documents\\dataset\\PalmDataset\\Palm\\Train\\RightPalm\\s27_10_R_S2.jpg\n",
      "✅ Moved s27_1_R_S2.jpg → C:\\Users\\hp\\Documents\\dataset\\PalmDataset\\Palm\\Train\\LeftPalm\\s27_1_R_S2.jpg\n",
      "✅ Moved s27_2_L_S2.jpg → C:\\Users\\hp\\Documents\\dataset\\PalmDataset\\Palm\\Train\\RightPalm\\s27_2_L_S2.jpg\n",
      "✅ Moved s27_3_L_S2.jpg → C:\\Users\\hp\\Documents\\dataset\\PalmDataset\\Palm\\Train\\RightPalm\\s27_3_L_S2.jpg\n",
      "✅ Moved s27_3_R_S2.jpg → C:\\Users\\hp\\Documents\\dataset\\PalmDataset\\Palm\\Train\\LeftPalm\\s27_3_R_S2.jpg\n",
      "✅ Moved s27_4_L_S2.jpg → C:\\Users\\hp\\Documents\\dataset\\PalmDataset\\Palm\\Train\\RightPalm\\s27_4_L_S2.jpg\n",
      "✅ Moved s27_4_R_S2.jpg → C:\\Users\\hp\\Documents\\dataset\\PalmDataset\\Palm\\Train\\LeftPalm\\s27_4_R_S2.jpg\n",
      "✅ Moved s27_5_R_S2.jpg → C:\\Users\\hp\\Documents\\dataset\\PalmDataset\\Palm\\Train\\RightPalm\\s27_5_R_S2.jpg\n",
      "✅ Moved s27_6_L_S2.jpg → C:\\Users\\hp\\Documents\\dataset\\PalmDataset\\Palm\\Train\\RightPalm\\s27_6_L_S2.jpg\n",
      "✅ Moved s27_6_R_S2.jpg → C:\\Users\\hp\\Documents\\dataset\\PalmDataset\\Palm\\Train\\RightPalm\\s27_6_R_S2.jpg\n",
      "✅ Moved s27_7_R_S2.jpg → C:\\Users\\hp\\Documents\\dataset\\PalmDataset\\Palm\\Train\\RightPalm\\s27_7_R_S2.jpg\n",
      "✅ Moved s27_8_L_S2.jpg → C:\\Users\\hp\\Documents\\dataset\\PalmDataset\\Palm\\Train\\RightPalm\\s27_8_L_S2.jpg\n",
      "✅ Moved s27_9_L_S2.jpg → C:\\Users\\hp\\Documents\\dataset\\PalmDataset\\Palm\\Train\\LeftPalm\\s27_9_L_S2.jpg\n",
      "✅ Moved s27_9_R_S2.jpg → C:\\Users\\hp\\Documents\\dataset\\PalmDataset\\Palm\\Train\\LeftPalm\\s27_9_R_S2.jpg\n",
      "✅ Moved s28_10_L_S2.jpg → C:\\Users\\hp\\Documents\\dataset\\PalmDataset\\Palm\\Train\\RightPalm\\s28_10_L_S2.jpg\n",
      "✅ Moved s28_10_R_S2.jpg → C:\\Users\\hp\\Documents\\dataset\\PalmDataset\\Palm\\Train\\LeftPalm\\s28_10_R_S2.jpg\n",
      "✅ Moved s28_1_L_S2.jpg → C:\\Users\\hp\\Documents\\dataset\\PalmDataset\\Palm\\Train\\LeftPalm\\s28_1_L_S2.jpg\n",
      "✅ Moved s28_1_R_S2.jpg → C:\\Users\\hp\\Documents\\dataset\\PalmDataset\\Palm\\Train\\LeftPalm\\s28_1_R_S2.jpg\n",
      "✅ Moved s28_2_R_S2.jpg → C:\\Users\\hp\\Documents\\dataset\\PalmDataset\\Palm\\Train\\LeftPalm\\s28_2_R_S2.jpg\n",
      "✅ Moved s28_3_R_S2.jpg → C:\\Users\\hp\\Documents\\dataset\\PalmDataset\\Palm\\Train\\LeftPalm\\s28_3_R_S2.jpg\n",
      "✅ Moved s28_4_L_S2.jpg → C:\\Users\\hp\\Documents\\dataset\\PalmDataset\\Palm\\Train\\LeftPalm\\s28_4_L_S2.jpg\n",
      "✅ Moved s28_4_R_S2.jpg → C:\\Users\\hp\\Documents\\dataset\\PalmDataset\\Palm\\Train\\RightPalm\\s28_4_R_S2.jpg\n",
      "✅ Moved s28_5_L_S2.jpg → C:\\Users\\hp\\Documents\\dataset\\PalmDataset\\Palm\\Train\\RightPalm\\s28_5_L_S2.jpg\n",
      "✅ Moved s28_5_R_S2.jpg → C:\\Users\\hp\\Documents\\dataset\\PalmDataset\\Palm\\Train\\RightPalm\\s28_5_R_S2.jpg\n",
      "✅ Moved s28_6_R_S2.jpg → C:\\Users\\hp\\Documents\\dataset\\PalmDataset\\Palm\\Train\\LeftPalm\\s28_6_R_S2.jpg\n",
      "✅ Moved s28_7_L_S2.jpg → C:\\Users\\hp\\Documents\\dataset\\PalmDataset\\Palm\\Train\\LeftPalm\\s28_7_L_S2.jpg\n",
      "✅ Moved s28_7_R_S2.jpg → C:\\Users\\hp\\Documents\\dataset\\PalmDataset\\Palm\\Train\\LeftPalm\\s28_7_R_S2.jpg\n",
      "✅ Moved s28_8_L_S2.jpg → C:\\Users\\hp\\Documents\\dataset\\PalmDataset\\Palm\\Train\\RightPalm\\s28_8_L_S2.jpg\n",
      "✅ Moved s28_8_R_S2.jpg → C:\\Users\\hp\\Documents\\dataset\\PalmDataset\\Palm\\Train\\RightPalm\\s28_8_R_S2.jpg\n",
      "✅ Moved s28_9_L_S2.jpg → C:\\Users\\hp\\Documents\\dataset\\PalmDataset\\Palm\\Train\\LeftPalm\\s28_9_L_S2.jpg\n",
      "✅ Moved s29_10_L_S2.jpg → C:\\Users\\hp\\Documents\\dataset\\PalmDataset\\Palm\\Train\\RightPalm\\s29_10_L_S2.jpg\n",
      "✅ Moved s29_1_L_S2.jpg → C:\\Users\\hp\\Documents\\dataset\\PalmDataset\\Palm\\Train\\LeftPalm\\s29_1_L_S2.jpg\n",
      "✅ Moved s29_1_R_S2.jpg → C:\\Users\\hp\\Documents\\dataset\\PalmDataset\\Palm\\Train\\RightPalm\\s29_1_R_S2.jpg\n",
      "✅ Moved s29_2_R_S2.jpg → C:\\Users\\hp\\Documents\\dataset\\PalmDataset\\Palm\\Train\\RightPalm\\s29_2_R_S2.jpg\n",
      "✅ Moved s29_3_L_S2.jpg → C:\\Users\\hp\\Documents\\dataset\\PalmDataset\\Palm\\Train\\RightPalm\\s29_3_L_S2.jpg\n",
      "✅ Moved s29_4_R_S2.jpg → C:\\Users\\hp\\Documents\\dataset\\PalmDataset\\Palm\\Train\\RightPalm\\s29_4_R_S2.jpg\n",
      "✅ Moved s29_5_L_S2.jpg → C:\\Users\\hp\\Documents\\dataset\\PalmDataset\\Palm\\Train\\RightPalm\\s29_5_L_S2.jpg\n",
      "✅ Moved s29_5_R_S2.jpg → C:\\Users\\hp\\Documents\\dataset\\PalmDataset\\Palm\\Train\\RightPalm\\s29_5_R_S2.jpg\n",
      "✅ Moved s29_7_L_S2.jpg → C:\\Users\\hp\\Documents\\dataset\\PalmDataset\\Palm\\Train\\RightPalm\\s29_7_L_S2.jpg\n",
      "✅ Moved s29_7_R_S2.jpg → C:\\Users\\hp\\Documents\\dataset\\PalmDataset\\Palm\\Train\\RightPalm\\s29_7_R_S2.jpg\n",
      "✅ Moved s29_8_R_S2.jpg → C:\\Users\\hp\\Documents\\dataset\\PalmDataset\\Palm\\Train\\LeftPalm\\s29_8_R_S2.jpg\n",
      "✅ Moved s29_9_L_S2.jpg → C:\\Users\\hp\\Documents\\dataset\\PalmDataset\\Palm\\Train\\LeftPalm\\s29_9_L_S2.jpg\n",
      "✅ Moved s29_9_R_S2.jpg → C:\\Users\\hp\\Documents\\dataset\\PalmDataset\\Palm\\Train\\RightPalm\\s29_9_R_S2.jpg\n",
      "✅ Moved s2_10_L_S2.jpg → C:\\Users\\hp\\Documents\\dataset\\PalmDataset\\Palm\\Train\\RightPalm\\s2_10_L_S2.jpg\n",
      "✅ Moved s2_10_R_S2.jpg → C:\\Users\\hp\\Documents\\dataset\\PalmDataset\\Palm\\Train\\LeftPalm\\s2_10_R_S2.jpg\n",
      "✅ Moved s2_1_L_S2.jpg → C:\\Users\\hp\\Documents\\dataset\\PalmDataset\\Palm\\Train\\RightPalm\\s2_1_L_S2.jpg\n",
      "✅ Moved s2_2_L_S2.jpg → C:\\Users\\hp\\Documents\\dataset\\PalmDataset\\Palm\\Train\\RightPalm\\s2_2_L_S2.jpg\n",
      "✅ Moved s2_2_R_S2.jpg → C:\\Users\\hp\\Documents\\dataset\\PalmDataset\\Palm\\Train\\RightPalm\\s2_2_R_S2.jpg\n",
      "✅ Moved s2_3_L_S2.jpg → C:\\Users\\hp\\Documents\\dataset\\PalmDataset\\Palm\\Train\\LeftPalm\\s2_3_L_S2.jpg\n",
      "✅ Moved s2_3_R_S2.jpg → C:\\Users\\hp\\Documents\\dataset\\PalmDataset\\Palm\\Train\\LeftPalm\\s2_3_R_S2.jpg\n",
      "✅ Moved s2_4_L_S2.jpg → C:\\Users\\hp\\Documents\\dataset\\PalmDataset\\Palm\\Train\\LeftPalm\\s2_4_L_S2.jpg\n",
      "✅ Moved s2_4_R_S2.jpg → C:\\Users\\hp\\Documents\\dataset\\PalmDataset\\Palm\\Train\\RightPalm\\s2_4_R_S2.jpg\n",
      "✅ Moved s2_5_L_S2.jpg → C:\\Users\\hp\\Documents\\dataset\\PalmDataset\\Palm\\Train\\LeftPalm\\s2_5_L_S2.jpg\n",
      "✅ Moved s2_5_R_S2.jpg → C:\\Users\\hp\\Documents\\dataset\\PalmDataset\\Palm\\Train\\LeftPalm\\s2_5_R_S2.jpg\n",
      "✅ Moved s2_6_L_S2.jpg → C:\\Users\\hp\\Documents\\dataset\\PalmDataset\\Palm\\Train\\RightPalm\\s2_6_L_S2.jpg\n",
      "✅ Moved s2_6_R_S2.jpg → C:\\Users\\hp\\Documents\\dataset\\PalmDataset\\Palm\\Train\\RightPalm\\s2_6_R_S2.jpg\n",
      "✅ Moved s2_7_L_S2.jpg → C:\\Users\\hp\\Documents\\dataset\\PalmDataset\\Palm\\Train\\LeftPalm\\s2_7_L_S2.jpg\n",
      "✅ Moved s2_7_R_S2.jpg → C:\\Users\\hp\\Documents\\dataset\\PalmDataset\\Palm\\Train\\LeftPalm\\s2_7_R_S2.jpg\n",
      "✅ Moved s2_8_L_S2.jpg → C:\\Users\\hp\\Documents\\dataset\\PalmDataset\\Palm\\Train\\LeftPalm\\s2_8_L_S2.jpg\n",
      "✅ Moved s2_8_R_S2.jpg → C:\\Users\\hp\\Documents\\dataset\\PalmDataset\\Palm\\Train\\RightPalm\\s2_8_R_S2.jpg\n",
      "✅ Moved s2_9_L_S2.jpg → C:\\Users\\hp\\Documents\\dataset\\PalmDataset\\Palm\\Train\\LeftPalm\\s2_9_L_S2.jpg\n",
      "✅ Moved s30_10_L_S2.jpg → C:\\Users\\hp\\Documents\\dataset\\PalmDataset\\Palm\\Train\\RightPalm\\s30_10_L_S2.jpg\n",
      "✅ Moved s30_10_R_S2.jpg → C:\\Users\\hp\\Documents\\dataset\\PalmDataset\\Palm\\Train\\RightPalm\\s30_10_R_S2.jpg\n",
      "✅ Moved s30_1_L_S2.jpg → C:\\Users\\hp\\Documents\\dataset\\PalmDataset\\Palm\\Train\\LeftPalm\\s30_1_L_S2.jpg\n",
      "✅ Moved s30_1_R_S2.jpg → C:\\Users\\hp\\Documents\\dataset\\PalmDataset\\Palm\\Train\\RightPalm\\s30_1_R_S2.jpg\n",
      "✅ Moved s30_2_L_S2.jpg → C:\\Users\\hp\\Documents\\dataset\\PalmDataset\\Palm\\Train\\RightPalm\\s30_2_L_S2.jpg\n",
      "✅ Moved s30_2_R_S2.jpg → C:\\Users\\hp\\Documents\\dataset\\PalmDataset\\Palm\\Train\\LeftPalm\\s30_2_R_S2.jpg\n",
      "✅ Moved s30_3_L_S2.jpg → C:\\Users\\hp\\Documents\\dataset\\PalmDataset\\Palm\\Train\\LeftPalm\\s30_3_L_S2.jpg\n",
      "✅ Moved s30_3_R_S2.jpg → C:\\Users\\hp\\Documents\\dataset\\PalmDataset\\Palm\\Train\\LeftPalm\\s30_3_R_S2.jpg\n",
      "✅ Moved s30_4_R_S2.jpg → C:\\Users\\hp\\Documents\\dataset\\PalmDataset\\Palm\\Train\\RightPalm\\s30_4_R_S2.jpg\n",
      "✅ Moved s30_5_L_S2.jpg → C:\\Users\\hp\\Documents\\dataset\\PalmDataset\\Palm\\Train\\RightPalm\\s30_5_L_S2.jpg\n",
      "✅ Moved s30_5_R_S2.jpg → C:\\Users\\hp\\Documents\\dataset\\PalmDataset\\Palm\\Train\\RightPalm\\s30_5_R_S2.jpg\n",
      "✅ Moved s30_6_L_S2.jpg → C:\\Users\\hp\\Documents\\dataset\\PalmDataset\\Palm\\Train\\RightPalm\\s30_6_L_S2.jpg\n",
      "✅ Moved s30_6_R_S2.jpg → C:\\Users\\hp\\Documents\\dataset\\PalmDataset\\Palm\\Train\\LeftPalm\\s30_6_R_S2.jpg\n",
      "✅ Moved s30_7_L_S2.jpg → C:\\Users\\hp\\Documents\\dataset\\PalmDataset\\Palm\\Train\\LeftPalm\\s30_7_L_S2.jpg\n",
      "✅ Moved s30_7_R_S2.jpg → C:\\Users\\hp\\Documents\\dataset\\PalmDataset\\Palm\\Train\\RightPalm\\s30_7_R_S2.jpg\n",
      "✅ Moved s30_8_L_S2.jpg → C:\\Users\\hp\\Documents\\dataset\\PalmDataset\\Palm\\Train\\LeftPalm\\s30_8_L_S2.jpg\n",
      "✅ Moved s30_8_R_S2.jpg → C:\\Users\\hp\\Documents\\dataset\\PalmDataset\\Palm\\Train\\LeftPalm\\s30_8_R_S2.jpg\n",
      "✅ Moved s30_9_L_S2.jpg → C:\\Users\\hp\\Documents\\dataset\\PalmDataset\\Palm\\Train\\LeftPalm\\s30_9_L_S2.jpg\n",
      "✅ Moved s30_9_R_S2.jpg → C:\\Users\\hp\\Documents\\dataset\\PalmDataset\\Palm\\Train\\RightPalm\\s30_9_R_S2.jpg\n",
      "✅ Moved s31_10_L_S2.jpg → C:\\Users\\hp\\Documents\\dataset\\PalmDataset\\Palm\\Train\\RightPalm\\s31_10_L_S2.jpg\n",
      "✅ Moved s31_1_L_S2.jpg → C:\\Users\\hp\\Documents\\dataset\\PalmDataset\\Palm\\Train\\RightPalm\\s31_1_L_S2.jpg\n",
      "✅ Moved s31_1_R_S2.jpg → C:\\Users\\hp\\Documents\\dataset\\PalmDataset\\Palm\\Train\\RightPalm\\s31_1_R_S2.jpg\n",
      "✅ Moved s31_2_L_S2.jpg → C:\\Users\\hp\\Documents\\dataset\\PalmDataset\\Palm\\Train\\LeftPalm\\s31_2_L_S2.jpg\n",
      "✅ Moved s31_3_L_S2.jpg → C:\\Users\\hp\\Documents\\dataset\\PalmDataset\\Palm\\Train\\LeftPalm\\s31_3_L_S2.jpg\n",
      "✅ Moved s31_4_L_S2.jpg → C:\\Users\\hp\\Documents\\dataset\\PalmDataset\\Palm\\Train\\LeftPalm\\s31_4_L_S2.jpg\n",
      "✅ Moved s31_5_L_S2.jpg → C:\\Users\\hp\\Documents\\dataset\\PalmDataset\\Palm\\Train\\RightPalm\\s31_5_L_S2.jpg\n",
      "✅ Moved s31_5_R_S2.jpg → C:\\Users\\hp\\Documents\\dataset\\PalmDataset\\Palm\\Train\\RightPalm\\s31_5_R_S2.jpg\n",
      "✅ Moved s31_6_L_S2.jpg → C:\\Users\\hp\\Documents\\dataset\\PalmDataset\\Palm\\Train\\RightPalm\\s31_6_L_S2.jpg\n",
      "✅ Moved s31_6_R_S2.jpg → C:\\Users\\hp\\Documents\\dataset\\PalmDataset\\Palm\\Train\\RightPalm\\s31_6_R_S2.jpg\n",
      "✅ Moved s31_7_L_S2.jpg → C:\\Users\\hp\\Documents\\dataset\\PalmDataset\\Palm\\Train\\RightPalm\\s31_7_L_S2.jpg\n",
      "✅ Moved s31_7_R_S2.jpg → C:\\Users\\hp\\Documents\\dataset\\PalmDataset\\Palm\\Train\\LeftPalm\\s31_7_R_S2.jpg\n",
      "✅ Moved s31_9_R_S2.jpg → C:\\Users\\hp\\Documents\\dataset\\PalmDataset\\Palm\\Train\\LeftPalm\\s31_9_R_S2.jpg\n",
      "✅ Moved s32_10_L_S2.jpg → C:\\Users\\hp\\Documents\\dataset\\PalmDataset\\Palm\\Train\\LeftPalm\\s32_10_L_S2.jpg\n",
      "✅ Moved s32_10_R_S2.jpg → C:\\Users\\hp\\Documents\\dataset\\PalmDataset\\Palm\\Train\\RightPalm\\s32_10_R_S2.jpg\n",
      "✅ Moved s32_1_L_S2.jpg → C:\\Users\\hp\\Documents\\dataset\\PalmDataset\\Palm\\Train\\LeftPalm\\s32_1_L_S2.jpg\n",
      "✅ Moved s32_1_R_S2.jpg → C:\\Users\\hp\\Documents\\dataset\\PalmDataset\\Palm\\Train\\RightPalm\\s32_1_R_S2.jpg\n",
      "✅ Moved s32_2_L_S2.jpg → C:\\Users\\hp\\Documents\\dataset\\PalmDataset\\Palm\\Train\\LeftPalm\\s32_2_L_S2.jpg\n",
      "✅ Moved s32_2_R_S2.jpg → C:\\Users\\hp\\Documents\\dataset\\PalmDataset\\Palm\\Train\\RightPalm\\s32_2_R_S2.jpg\n",
      "✅ Moved s32_3_R_S2.jpg → C:\\Users\\hp\\Documents\\dataset\\PalmDataset\\Palm\\Train\\RightPalm\\s32_3_R_S2.jpg\n",
      "✅ Moved s32_4_L_S2.jpg → C:\\Users\\hp\\Documents\\dataset\\PalmDataset\\Palm\\Train\\LeftPalm\\s32_4_L_S2.jpg\n",
      "✅ Moved s32_5_L_S2.jpg → C:\\Users\\hp\\Documents\\dataset\\PalmDataset\\Palm\\Train\\LeftPalm\\s32_5_L_S2.jpg\n",
      "✅ Moved s32_5_R_S2.jpg → C:\\Users\\hp\\Documents\\dataset\\PalmDataset\\Palm\\Train\\LeftPalm\\s32_5_R_S2.jpg\n",
      "✅ Moved s32_6_L_S2.jpg → C:\\Users\\hp\\Documents\\dataset\\PalmDataset\\Palm\\Train\\RightPalm\\s32_6_L_S2.jpg\n",
      "✅ Moved s32_6_R_S2.jpg → C:\\Users\\hp\\Documents\\dataset\\PalmDataset\\Palm\\Train\\RightPalm\\s32_6_R_S2.jpg\n",
      "✅ Moved s32_7_L_S2.jpg → C:\\Users\\hp\\Documents\\dataset\\PalmDataset\\Palm\\Train\\RightPalm\\s32_7_L_S2.jpg\n",
      "✅ Moved s32_7_R_S2.jpg → C:\\Users\\hp\\Documents\\dataset\\PalmDataset\\Palm\\Train\\RightPalm\\s32_7_R_S2.jpg\n",
      "✅ Moved s32_8_L_S2.jpg → C:\\Users\\hp\\Documents\\dataset\\PalmDataset\\Palm\\Train\\LeftPalm\\s32_8_L_S2.jpg\n",
      "✅ Moved s32_8_R_S2.jpg → C:\\Users\\hp\\Documents\\dataset\\PalmDataset\\Palm\\Train\\LeftPalm\\s32_8_R_S2.jpg\n",
      "✅ Moved s32_9_L_S2.jpg → C:\\Users\\hp\\Documents\\dataset\\PalmDataset\\Palm\\Train\\RightPalm\\s32_9_L_S2.jpg\n",
      "✅ Moved s32_9_R_S2.jpg → C:\\Users\\hp\\Documents\\dataset\\PalmDataset\\Palm\\Train\\LeftPalm\\s32_9_R_S2.jpg\n",
      "✅ Moved s33_10_L_S2.jpg → C:\\Users\\hp\\Documents\\dataset\\PalmDataset\\Palm\\Train\\LeftPalm\\s33_10_L_S2.jpg\n",
      "✅ Moved s33_10_R_S2.jpg → C:\\Users\\hp\\Documents\\dataset\\PalmDataset\\Palm\\Train\\RightPalm\\s33_10_R_S2.jpg\n",
      "✅ Moved s33_1_L_S2.jpg → C:\\Users\\hp\\Documents\\dataset\\PalmDataset\\Palm\\Train\\LeftPalm\\s33_1_L_S2.jpg\n",
      "✅ Moved s33_3_L_S2.jpg → C:\\Users\\hp\\Documents\\dataset\\PalmDataset\\Palm\\Train\\RightPalm\\s33_3_L_S2.jpg\n",
      "✅ Moved s33_3_R_S2.jpg → C:\\Users\\hp\\Documents\\dataset\\PalmDataset\\Palm\\Train\\RightPalm\\s33_3_R_S2.jpg\n",
      "✅ Moved s33_4_L_S2.jpg → C:\\Users\\hp\\Documents\\dataset\\PalmDataset\\Palm\\Train\\LeftPalm\\s33_4_L_S2.jpg\n",
      "✅ Moved s33_4_R_S2.jpg → C:\\Users\\hp\\Documents\\dataset\\PalmDataset\\Palm\\Train\\RightPalm\\s33_4_R_S2.jpg\n",
      "✅ Moved s33_5_L_S2.jpg → C:\\Users\\hp\\Documents\\dataset\\PalmDataset\\Palm\\Train\\LeftPalm\\s33_5_L_S2.jpg\n",
      "✅ Moved s33_5_R_S2.jpg → C:\\Users\\hp\\Documents\\dataset\\PalmDataset\\Palm\\Train\\RightPalm\\s33_5_R_S2.jpg\n",
      "✅ Moved s33_6_L_S2.jpg → C:\\Users\\hp\\Documents\\dataset\\PalmDataset\\Palm\\Train\\RightPalm\\s33_6_L_S2.jpg\n",
      "✅ Moved s33_6_R_S2.jpg → C:\\Users\\hp\\Documents\\dataset\\PalmDataset\\Palm\\Train\\LeftPalm\\s33_6_R_S2.jpg\n",
      "✅ Moved s33_7_L_S2.jpg → C:\\Users\\hp\\Documents\\dataset\\PalmDataset\\Palm\\Train\\LeftPalm\\s33_7_L_S2.jpg\n",
      "✅ Moved s33_7_R_S2.jpg → C:\\Users\\hp\\Documents\\dataset\\PalmDataset\\Palm\\Train\\LeftPalm\\s33_7_R_S2.jpg\n",
      "✅ Moved s33_8_L_S2.jpg → C:\\Users\\hp\\Documents\\dataset\\PalmDataset\\Palm\\Train\\LeftPalm\\s33_8_L_S2.jpg\n",
      "✅ Moved s33_9_L_S2.jpg → C:\\Users\\hp\\Documents\\dataset\\PalmDataset\\Palm\\Train\\RightPalm\\s33_9_L_S2.jpg\n",
      "✅ Moved s33_9_R_S2.jpg → C:\\Users\\hp\\Documents\\dataset\\PalmDataset\\Palm\\Train\\LeftPalm\\s33_9_R_S2.jpg\n",
      "✅ Moved s34_10_L_S2.jpg → C:\\Users\\hp\\Documents\\dataset\\PalmDataset\\Palm\\Train\\RightPalm\\s34_10_L_S2.jpg\n",
      "✅ Moved s34_10_R_S2.jpg → C:\\Users\\hp\\Documents\\dataset\\PalmDataset\\Palm\\Train\\LeftPalm\\s34_10_R_S2.jpg\n",
      "✅ Moved s34_2_L_S2.jpg → C:\\Users\\hp\\Documents\\dataset\\PalmDataset\\Palm\\Train\\LeftPalm\\s34_2_L_S2.jpg\n",
      "✅ Moved s34_2_R_S2.jpg → C:\\Users\\hp\\Documents\\dataset\\PalmDataset\\Palm\\Train\\LeftPalm\\s34_2_R_S2.jpg\n",
      "✅ Moved s34_3_L_S2.jpg → C:\\Users\\hp\\Documents\\dataset\\PalmDataset\\Palm\\Train\\LeftPalm\\s34_3_L_S2.jpg\n",
      "✅ Moved s34_3_R_S2.jpg → C:\\Users\\hp\\Documents\\dataset\\PalmDataset\\Palm\\Train\\RightPalm\\s34_3_R_S2.jpg\n",
      "✅ Moved s34_4_L_S2.jpg → C:\\Users\\hp\\Documents\\dataset\\PalmDataset\\Palm\\Train\\RightPalm\\s34_4_L_S2.jpg\n",
      "✅ Moved s34_4_R_S2.jpg → C:\\Users\\hp\\Documents\\dataset\\PalmDataset\\Palm\\Train\\LeftPalm\\s34_4_R_S2.jpg\n",
      "✅ Moved s34_5_L_S2.jpg → C:\\Users\\hp\\Documents\\dataset\\PalmDataset\\Palm\\Train\\LeftPalm\\s34_5_L_S2.jpg\n",
      "✅ Moved s34_5_R_S2.jpg → C:\\Users\\hp\\Documents\\dataset\\PalmDataset\\Palm\\Train\\LeftPalm\\s34_5_R_S2.jpg\n",
      "✅ Moved s34_6_L_S2.jpg → C:\\Users\\hp\\Documents\\dataset\\PalmDataset\\Palm\\Train\\LeftPalm\\s34_6_L_S2.jpg\n",
      "✅ Moved s34_6_R_S2.jpg → C:\\Users\\hp\\Documents\\dataset\\PalmDataset\\Palm\\Train\\RightPalm\\s34_6_R_S2.jpg\n",
      "✅ Moved s34_7_R_S2.jpg → C:\\Users\\hp\\Documents\\dataset\\PalmDataset\\Palm\\Train\\LeftPalm\\s34_7_R_S2.jpg\n",
      "✅ Moved s34_8_L_S2.jpg → C:\\Users\\hp\\Documents\\dataset\\PalmDataset\\Palm\\Train\\RightPalm\\s34_8_L_S2.jpg\n",
      "✅ Moved s34_9_L_S2.jpg → C:\\Users\\hp\\Documents\\dataset\\PalmDataset\\Palm\\Train\\RightPalm\\s34_9_L_S2.jpg\n",
      "✅ Moved s34_9_R_S2.jpg → C:\\Users\\hp\\Documents\\dataset\\PalmDataset\\Palm\\Train\\RightPalm\\s34_9_R_S2.jpg\n",
      "✅ Moved s35_10_L_S2.jpg → C:\\Users\\hp\\Documents\\dataset\\PalmDataset\\Palm\\Train\\RightPalm\\s35_10_L_S2.jpg\n",
      "✅ Moved s35_10_R_S2.jpg → C:\\Users\\hp\\Documents\\dataset\\PalmDataset\\Palm\\Train\\RightPalm\\s35_10_R_S2.jpg\n",
      "✅ Moved s35_1_R_S2.jpg → C:\\Users\\hp\\Documents\\dataset\\PalmDataset\\Palm\\Train\\RightPalm\\s35_1_R_S2.jpg\n",
      "✅ Moved s35_2_L_S2.jpg → C:\\Users\\hp\\Documents\\dataset\\PalmDataset\\Palm\\Train\\LeftPalm\\s35_2_L_S2.jpg\n",
      "✅ Moved s35_3_R_S2.jpg → C:\\Users\\hp\\Documents\\dataset\\PalmDataset\\Palm\\Train\\RightPalm\\s35_3_R_S2.jpg\n",
      "✅ Moved s35_4_L_S2.jpg → C:\\Users\\hp\\Documents\\dataset\\PalmDataset\\Palm\\Train\\RightPalm\\s35_4_L_S2.jpg\n",
      "✅ Moved s35_4_R_S2.jpg → C:\\Users\\hp\\Documents\\dataset\\PalmDataset\\Palm\\Train\\LeftPalm\\s35_4_R_S2.jpg\n",
      "✅ Moved s35_5_L_S2.jpg → C:\\Users\\hp\\Documents\\dataset\\PalmDataset\\Palm\\Train\\RightPalm\\s35_5_L_S2.jpg\n",
      "✅ Moved s35_6_L_S2.jpg → C:\\Users\\hp\\Documents\\dataset\\PalmDataset\\Palm\\Train\\LeftPalm\\s35_6_L_S2.jpg\n",
      "✅ Moved s35_6_R_S2.jpg → C:\\Users\\hp\\Documents\\dataset\\PalmDataset\\Palm\\Train\\LeftPalm\\s35_6_R_S2.jpg\n",
      "✅ Moved s35_7_L_S2.jpg → C:\\Users\\hp\\Documents\\dataset\\PalmDataset\\Palm\\Train\\LeftPalm\\s35_7_L_S2.jpg\n",
      "✅ Moved s35_7_R_S2.jpg → C:\\Users\\hp\\Documents\\dataset\\PalmDataset\\Palm\\Train\\LeftPalm\\s35_7_R_S2.jpg\n",
      "✅ Moved s35_8_R_S2.jpg → C:\\Users\\hp\\Documents\\dataset\\PalmDataset\\Palm\\Train\\RightPalm\\s35_8_R_S2.jpg\n",
      "✅ Moved s35_9_L_S2.jpg → C:\\Users\\hp\\Documents\\dataset\\PalmDataset\\Palm\\Train\\LeftPalm\\s35_9_L_S2.jpg\n",
      "✅ Moved s35_9_R_S2.jpg → C:\\Users\\hp\\Documents\\dataset\\PalmDataset\\Palm\\Train\\LeftPalm\\s35_9_R_S2.jpg\n",
      "✅ Moved s36_10_L_S2.jpg → C:\\Users\\hp\\Documents\\dataset\\PalmDataset\\Palm\\Train\\RightPalm\\s36_10_L_S2.jpg\n",
      "✅ Moved s36_10_R_S2.jpg → C:\\Users\\hp\\Documents\\dataset\\PalmDataset\\Palm\\Train\\RightPalm\\s36_10_R_S2.jpg\n",
      "✅ Moved s36_1_L_S2.jpg → C:\\Users\\hp\\Documents\\dataset\\PalmDataset\\Palm\\Train\\RightPalm\\s36_1_L_S2.jpg\n",
      "✅ Moved s36_1_R_S2.jpg → C:\\Users\\hp\\Documents\\dataset\\PalmDataset\\Palm\\Train\\RightPalm\\s36_1_R_S2.jpg\n",
      "✅ Moved s36_2_L_S2.jpg → C:\\Users\\hp\\Documents\\dataset\\PalmDataset\\Palm\\Train\\LeftPalm\\s36_2_L_S2.jpg\n",
      "✅ Moved s36_2_R_S2.jpg → C:\\Users\\hp\\Documents\\dataset\\PalmDataset\\Palm\\Train\\LeftPalm\\s36_2_R_S2.jpg\n",
      "✅ Moved s36_3_L_S2.jpg → C:\\Users\\hp\\Documents\\dataset\\PalmDataset\\Palm\\Train\\LeftPalm\\s36_3_L_S2.jpg\n",
      "✅ Moved s36_3_R_S2.jpg → C:\\Users\\hp\\Documents\\dataset\\PalmDataset\\Palm\\Train\\LeftPalm\\s36_3_R_S2.jpg\n",
      "✅ Moved s36_4_L_S2.jpg → C:\\Users\\hp\\Documents\\dataset\\PalmDataset\\Palm\\Train\\LeftPalm\\s36_4_L_S2.jpg\n",
      "✅ Moved s36_4_R_S2.jpg → C:\\Users\\hp\\Documents\\dataset\\PalmDataset\\Palm\\Train\\LeftPalm\\s36_4_R_S2.jpg\n",
      "✅ Moved s36_5_L_S2.jpg → C:\\Users\\hp\\Documents\\dataset\\PalmDataset\\Palm\\Train\\RightPalm\\s36_5_L_S2.jpg\n",
      "✅ Moved s36_5_R_S2.jpg → C:\\Users\\hp\\Documents\\dataset\\PalmDataset\\Palm\\Train\\RightPalm\\s36_5_R_S2.jpg\n",
      "✅ Moved s36_6_L_S2.jpg → C:\\Users\\hp\\Documents\\dataset\\PalmDataset\\Palm\\Train\\RightPalm\\s36_6_L_S2.jpg\n",
      "✅ Moved s36_6_R_S2.jpg → C:\\Users\\hp\\Documents\\dataset\\PalmDataset\\Palm\\Train\\LeftPalm\\s36_6_R_S2.jpg\n",
      "✅ Moved s36_7_L_S2.jpg → C:\\Users\\hp\\Documents\\dataset\\PalmDataset\\Palm\\Train\\RightPalm\\s36_7_L_S2.jpg\n",
      "✅ Moved s36_7_R_S2.jpg → C:\\Users\\hp\\Documents\\dataset\\PalmDataset\\Palm\\Train\\RightPalm\\s36_7_R_S2.jpg\n",
      "✅ Moved s36_8_L_S2.jpg → C:\\Users\\hp\\Documents\\dataset\\PalmDataset\\Palm\\Train\\RightPalm\\s36_8_L_S2.jpg\n",
      "✅ Moved s37_10_L_S2.jpg → C:\\Users\\hp\\Documents\\dataset\\PalmDataset\\Palm\\Train\\RightPalm\\s37_10_L_S2.jpg\n",
      "✅ Moved s37_10_R_S2.jpg → C:\\Users\\hp\\Documents\\dataset\\PalmDataset\\Palm\\Train\\LeftPalm\\s37_10_R_S2.jpg\n",
      "✅ Moved s37_1_L_S2.jpg → C:\\Users\\hp\\Documents\\dataset\\PalmDataset\\Palm\\Train\\LeftPalm\\s37_1_L_S2.jpg\n",
      "✅ Moved s37_1_R_S2.jpg → C:\\Users\\hp\\Documents\\dataset\\PalmDataset\\Palm\\Train\\RightPalm\\s37_1_R_S2.jpg\n",
      "✅ Moved s37_2_L_S2.jpg → C:\\Users\\hp\\Documents\\dataset\\PalmDataset\\Palm\\Train\\LeftPalm\\s37_2_L_S2.jpg\n",
      "✅ Moved s37_2_R_S2.jpg → C:\\Users\\hp\\Documents\\dataset\\PalmDataset\\Palm\\Train\\LeftPalm\\s37_2_R_S2.jpg\n",
      "✅ Moved s37_3_R_S2.jpg → C:\\Users\\hp\\Documents\\dataset\\PalmDataset\\Palm\\Train\\RightPalm\\s37_3_R_S2.jpg\n",
      "✅ Moved s37_4_L_S2.jpg → C:\\Users\\hp\\Documents\\dataset\\PalmDataset\\Palm\\Train\\LeftPalm\\s37_4_L_S2.jpg\n",
      "✅ Moved s37_4_R_S2.jpg → C:\\Users\\hp\\Documents\\dataset\\PalmDataset\\Palm\\Train\\LeftPalm\\s37_4_R_S2.jpg\n",
      "✅ Moved s37_5_L_S2.jpg → C:\\Users\\hp\\Documents\\dataset\\PalmDataset\\Palm\\Train\\RightPalm\\s37_5_L_S2.jpg\n",
      "✅ Moved s37_5_R_S2.jpg → C:\\Users\\hp\\Documents\\dataset\\PalmDataset\\Palm\\Train\\RightPalm\\s37_5_R_S2.jpg\n",
      "✅ Moved s37_6_L_S2.jpg → C:\\Users\\hp\\Documents\\dataset\\PalmDataset\\Palm\\Train\\LeftPalm\\s37_6_L_S2.jpg\n",
      "✅ Moved s37_6_R_S2.jpg → C:\\Users\\hp\\Documents\\dataset\\PalmDataset\\Palm\\Train\\RightPalm\\s37_6_R_S2.jpg\n",
      "✅ Moved s37_7_L_S2.jpg → C:\\Users\\hp\\Documents\\dataset\\PalmDataset\\Palm\\Train\\RightPalm\\s37_7_L_S2.jpg\n",
      "✅ Moved s37_7_R_S2.jpg → C:\\Users\\hp\\Documents\\dataset\\PalmDataset\\Palm\\Train\\LeftPalm\\s37_7_R_S2.jpg\n",
      "✅ Moved s37_8_L_S2.jpg → C:\\Users\\hp\\Documents\\dataset\\PalmDataset\\Palm\\Train\\LeftPalm\\s37_8_L_S2.jpg\n",
      "✅ Moved s37_9_L_S2.jpg → C:\\Users\\hp\\Documents\\dataset\\PalmDataset\\Palm\\Train\\RightPalm\\s37_9_L_S2.jpg\n",
      "✅ Moved s37_9_R_S2.jpg → C:\\Users\\hp\\Documents\\dataset\\PalmDataset\\Palm\\Train\\LeftPalm\\s37_9_R_S2.jpg\n",
      "✅ Moved s38_10_L_S2.jpg → C:\\Users\\hp\\Documents\\dataset\\PalmDataset\\Palm\\Train\\LeftPalm\\s38_10_L_S2.jpg\n",
      "✅ Moved s38_10_R_S2.jpg → C:\\Users\\hp\\Documents\\dataset\\PalmDataset\\Palm\\Train\\RightPalm\\s38_10_R_S2.jpg\n",
      "✅ Moved s38_2_L_S2.jpg → C:\\Users\\hp\\Documents\\dataset\\PalmDataset\\Palm\\Train\\RightPalm\\s38_2_L_S2.jpg\n",
      "✅ Moved s38_2_R_S2.jpg → C:\\Users\\hp\\Documents\\dataset\\PalmDataset\\Palm\\Train\\RightPalm\\s38_2_R_S2.jpg\n",
      "✅ Moved s38_3_L_S2.jpg → C:\\Users\\hp\\Documents\\dataset\\PalmDataset\\Palm\\Train\\LeftPalm\\s38_3_L_S2.jpg\n",
      "✅ Moved s38_3_R_S2.jpg → C:\\Users\\hp\\Documents\\dataset\\PalmDataset\\Palm\\Train\\RightPalm\\s38_3_R_S2.jpg\n",
      "✅ Moved s38_4_R_S2.jpg → C:\\Users\\hp\\Documents\\dataset\\PalmDataset\\Palm\\Train\\RightPalm\\s38_4_R_S2.jpg\n",
      "✅ Moved s38_5_L_S2.jpg → C:\\Users\\hp\\Documents\\dataset\\PalmDataset\\Palm\\Train\\RightPalm\\s38_5_L_S2.jpg\n",
      "✅ Moved s38_5_R_S2.jpg → C:\\Users\\hp\\Documents\\dataset\\PalmDataset\\Palm\\Train\\RightPalm\\s38_5_R_S2.jpg\n",
      "✅ Moved s38_6_L_S2.jpg → C:\\Users\\hp\\Documents\\dataset\\PalmDataset\\Palm\\Train\\RightPalm\\s38_6_L_S2.jpg\n",
      "✅ Moved s38_6_R_S2.jpg → C:\\Users\\hp\\Documents\\dataset\\PalmDataset\\Palm\\Train\\RightPalm\\s38_6_R_S2.jpg\n",
      "✅ Moved s38_7_L_S2.jpg → C:\\Users\\hp\\Documents\\dataset\\PalmDataset\\Palm\\Train\\RightPalm\\s38_7_L_S2.jpg\n",
      "✅ Moved s38_7_R_S2.jpg → C:\\Users\\hp\\Documents\\dataset\\PalmDataset\\Palm\\Train\\RightPalm\\s38_7_R_S2.jpg\n",
      "✅ Moved s38_8_R_S2.jpg → C:\\Users\\hp\\Documents\\dataset\\PalmDataset\\Palm\\Train\\RightPalm\\s38_8_R_S2.jpg\n",
      "✅ Moved s38_9_L_S2.jpg → C:\\Users\\hp\\Documents\\dataset\\PalmDataset\\Palm\\Train\\LeftPalm\\s38_9_L_S2.jpg\n",
      "✅ Moved s39_10_R_S2.jpg → C:\\Users\\hp\\Documents\\dataset\\PalmDataset\\Palm\\Train\\LeftPalm\\s39_10_R_S2.jpg\n",
      "✅ Moved s39_1_L_S2.jpg → C:\\Users\\hp\\Documents\\dataset\\PalmDataset\\Palm\\Train\\LeftPalm\\s39_1_L_S2.jpg\n",
      "✅ Moved s39_1_R_S2.jpg → C:\\Users\\hp\\Documents\\dataset\\PalmDataset\\Palm\\Train\\LeftPalm\\s39_1_R_S2.jpg\n",
      "✅ Moved s39_2_L_S2.jpg → C:\\Users\\hp\\Documents\\dataset\\PalmDataset\\Palm\\Train\\LeftPalm\\s39_2_L_S2.jpg\n",
      "✅ Moved s39_2_R_S2.jpg → C:\\Users\\hp\\Documents\\dataset\\PalmDataset\\Palm\\Train\\RightPalm\\s39_2_R_S2.jpg\n",
      "✅ Moved s39_3_L_S2.jpg → C:\\Users\\hp\\Documents\\dataset\\PalmDataset\\Palm\\Train\\LeftPalm\\s39_3_L_S2.jpg\n",
      "✅ Moved s39_3_R_S2.jpg → C:\\Users\\hp\\Documents\\dataset\\PalmDataset\\Palm\\Train\\LeftPalm\\s39_3_R_S2.jpg\n",
      "✅ Moved s39_4_L_S2.jpg → C:\\Users\\hp\\Documents\\dataset\\PalmDataset\\Palm\\Train\\LeftPalm\\s39_4_L_S2.jpg\n",
      "✅ Moved s39_4_R_S2.jpg → C:\\Users\\hp\\Documents\\dataset\\PalmDataset\\Palm\\Train\\RightPalm\\s39_4_R_S2.jpg\n",
      "✅ Moved s39_5_R_S2.jpg → C:\\Users\\hp\\Documents\\dataset\\PalmDataset\\Palm\\Train\\RightPalm\\s39_5_R_S2.jpg\n",
      "✅ Moved s39_6_R_S2.jpg → C:\\Users\\hp\\Documents\\dataset\\PalmDataset\\Palm\\Train\\LeftPalm\\s39_6_R_S2.jpg\n",
      "✅ Moved s39_7_L_S2.jpg → C:\\Users\\hp\\Documents\\dataset\\PalmDataset\\Palm\\Train\\RightPalm\\s39_7_L_S2.jpg\n",
      "✅ Moved s39_8_L_S2.jpg → C:\\Users\\hp\\Documents\\dataset\\PalmDataset\\Palm\\Train\\LeftPalm\\s39_8_L_S2.jpg\n",
      "✅ Moved s39_8_R_S2.jpg → C:\\Users\\hp\\Documents\\dataset\\PalmDataset\\Palm\\Train\\LeftPalm\\s39_8_R_S2.jpg\n",
      "✅ Moved s39_9_L_S2.jpg → C:\\Users\\hp\\Documents\\dataset\\PalmDataset\\Palm\\Train\\RightPalm\\s39_9_L_S2.jpg\n",
      "✅ Moved s39_9_R_S2.jpg → C:\\Users\\hp\\Documents\\dataset\\PalmDataset\\Palm\\Train\\LeftPalm\\s39_9_R_S2.jpg\n",
      "✅ Moved s3_10_L_S2.jpg → C:\\Users\\hp\\Documents\\dataset\\PalmDataset\\Palm\\Train\\RightPalm\\s3_10_L_S2.jpg\n",
      "✅ Moved s3_1_L_S2.jpg → C:\\Users\\hp\\Documents\\dataset\\PalmDataset\\Palm\\Train\\LeftPalm\\s3_1_L_S2.jpg\n",
      "✅ Moved s3_1_R_S2.jpg → C:\\Users\\hp\\Documents\\dataset\\PalmDataset\\Palm\\Train\\RightPalm\\s3_1_R_S2.jpg\n",
      "✅ Moved s3_2_L_S2.jpg → C:\\Users\\hp\\Documents\\dataset\\PalmDataset\\Palm\\Train\\RightPalm\\s3_2_L_S2.jpg\n",
      "✅ Moved s3_2_R_S2.jpg → C:\\Users\\hp\\Documents\\dataset\\PalmDataset\\Palm\\Train\\RightPalm\\s3_2_R_S2.jpg\n",
      "✅ Moved s3_3_L_S2.jpg → C:\\Users\\hp\\Documents\\dataset\\PalmDataset\\Palm\\Train\\LeftPalm\\s3_3_L_S2.jpg\n",
      "✅ Moved s3_3_R_S2.jpg → C:\\Users\\hp\\Documents\\dataset\\PalmDataset\\Palm\\Train\\LeftPalm\\s3_3_R_S2.jpg\n",
      "✅ Moved s3_4_L_S2.jpg → C:\\Users\\hp\\Documents\\dataset\\PalmDataset\\Palm\\Train\\LeftPalm\\s3_4_L_S2.jpg\n",
      "✅ Moved s3_4_R_S2.jpg → C:\\Users\\hp\\Documents\\dataset\\PalmDataset\\Palm\\Train\\RightPalm\\s3_4_R_S2.jpg\n",
      "✅ Moved s3_5_R_S2.jpg → C:\\Users\\hp\\Documents\\dataset\\PalmDataset\\Palm\\Train\\LeftPalm\\s3_5_R_S2.jpg\n",
      "✅ Moved s3_6_L_S2.jpg → C:\\Users\\hp\\Documents\\dataset\\PalmDataset\\Palm\\Train\\LeftPalm\\s3_6_L_S2.jpg\n",
      "✅ Moved s3_7_L_S2.jpg → C:\\Users\\hp\\Documents\\dataset\\PalmDataset\\Palm\\Train\\LeftPalm\\s3_7_L_S2.jpg\n",
      "✅ Moved s3_8_L_S2.jpg → C:\\Users\\hp\\Documents\\dataset\\PalmDataset\\Palm\\Train\\RightPalm\\s3_8_L_S2.jpg\n",
      "✅ Moved s3_8_R_S2.jpg → C:\\Users\\hp\\Documents\\dataset\\PalmDataset\\Palm\\Train\\LeftPalm\\s3_8_R_S2.jpg\n",
      "✅ Moved s3_9_R_S2.jpg → C:\\Users\\hp\\Documents\\dataset\\PalmDataset\\Palm\\Train\\LeftPalm\\s3_9_R_S2.jpg\n",
      "✅ Moved s40_10_L_S2.jpg → C:\\Users\\hp\\Documents\\dataset\\PalmDataset\\Palm\\Train\\RightPalm\\s40_10_L_S2.jpg\n",
      "✅ Moved s40_10_R_S2.jpg → C:\\Users\\hp\\Documents\\dataset\\PalmDataset\\Palm\\Train\\RightPalm\\s40_10_R_S2.jpg\n",
      "✅ Moved s40_1_L_S2.jpg → C:\\Users\\hp\\Documents\\dataset\\PalmDataset\\Palm\\Train\\RightPalm\\s40_1_L_S2.jpg\n",
      "✅ Moved s40_1_R_S2.jpg → C:\\Users\\hp\\Documents\\dataset\\PalmDataset\\Palm\\Train\\LeftPalm\\s40_1_R_S2.jpg\n",
      "✅ Moved s40_2_L_S2.jpg → C:\\Users\\hp\\Documents\\dataset\\PalmDataset\\Palm\\Train\\LeftPalm\\s40_2_L_S2.jpg\n",
      "✅ Moved s40_2_R_S2.jpg → C:\\Users\\hp\\Documents\\dataset\\PalmDataset\\Palm\\Train\\LeftPalm\\s40_2_R_S2.jpg\n",
      "✅ Moved s40_3_L_S2.jpg → C:\\Users\\hp\\Documents\\dataset\\PalmDataset\\Palm\\Train\\RightPalm\\s40_3_L_S2.jpg\n",
      "✅ Moved s40_3_R_S2.jpg → C:\\Users\\hp\\Documents\\dataset\\PalmDataset\\Palm\\Train\\RightPalm\\s40_3_R_S2.jpg\n",
      "✅ Moved s40_4_L_S2.jpg → C:\\Users\\hp\\Documents\\dataset\\PalmDataset\\Palm\\Train\\RightPalm\\s40_4_L_S2.jpg\n",
      "✅ Moved s40_4_R_S2.jpg → C:\\Users\\hp\\Documents\\dataset\\PalmDataset\\Palm\\Train\\LeftPalm\\s40_4_R_S2.jpg\n",
      "✅ Moved s40_5_L_S2.jpg → C:\\Users\\hp\\Documents\\dataset\\PalmDataset\\Palm\\Train\\LeftPalm\\s40_5_L_S2.jpg\n",
      "✅ Moved s40_5_R_S2.jpg → C:\\Users\\hp\\Documents\\dataset\\PalmDataset\\Palm\\Train\\RightPalm\\s40_5_R_S2.jpg\n",
      "✅ Moved s40_6_L_S2.jpg → C:\\Users\\hp\\Documents\\dataset\\PalmDataset\\Palm\\Train\\RightPalm\\s40_6_L_S2.jpg\n",
      "✅ Moved s40_6_R_S2.jpg → C:\\Users\\hp\\Documents\\dataset\\PalmDataset\\Palm\\Train\\LeftPalm\\s40_6_R_S2.jpg\n",
      "✅ Moved s40_7_L_S2.jpg → C:\\Users\\hp\\Documents\\dataset\\PalmDataset\\Palm\\Train\\RightPalm\\s40_7_L_S2.jpg\n",
      "✅ Moved s40_8_L_S2.jpg → C:\\Users\\hp\\Documents\\dataset\\PalmDataset\\Palm\\Train\\LeftPalm\\s40_8_L_S2.jpg\n",
      "✅ Moved s40_8_R_S2.jpg → C:\\Users\\hp\\Documents\\dataset\\PalmDataset\\Palm\\Train\\RightPalm\\s40_8_R_S2.jpg\n",
      "✅ Moved s40_9_L_S2.jpg → C:\\Users\\hp\\Documents\\dataset\\PalmDataset\\Palm\\Train\\RightPalm\\s40_9_L_S2.jpg\n",
      "✅ Moved s40_9_R_S2.jpg → C:\\Users\\hp\\Documents\\dataset\\PalmDataset\\Palm\\Train\\LeftPalm\\s40_9_R_S2.jpg\n",
      "✅ Moved s41_10_L_S2.jpg → C:\\Users\\hp\\Documents\\dataset\\PalmDataset\\Palm\\Train\\LeftPalm\\s41_10_L_S2.jpg\n",
      "✅ Moved s41_10_R_S2.jpg → C:\\Users\\hp\\Documents\\dataset\\PalmDataset\\Palm\\Train\\LeftPalm\\s41_10_R_S2.jpg\n",
      "✅ Moved s41_1_L_S2.jpg → C:\\Users\\hp\\Documents\\dataset\\PalmDataset\\Palm\\Train\\RightPalm\\s41_1_L_S2.jpg\n",
      "✅ Moved s41_1_R_S2.jpg → C:\\Users\\hp\\Documents\\dataset\\PalmDataset\\Palm\\Train\\LeftPalm\\s41_1_R_S2.jpg\n",
      "✅ Moved s41_2_L_S2.jpg → C:\\Users\\hp\\Documents\\dataset\\PalmDataset\\Palm\\Train\\RightPalm\\s41_2_L_S2.jpg\n",
      "✅ Moved s41_2_R_S2.jpg → C:\\Users\\hp\\Documents\\dataset\\PalmDataset\\Palm\\Train\\LeftPalm\\s41_2_R_S2.jpg\n",
      "✅ Moved s41_3_L_S2.jpg → C:\\Users\\hp\\Documents\\dataset\\PalmDataset\\Palm\\Train\\RightPalm\\s41_3_L_S2.jpg\n",
      "✅ Moved s41_3_R_S2.jpg → C:\\Users\\hp\\Documents\\dataset\\PalmDataset\\Palm\\Train\\RightPalm\\s41_3_R_S2.jpg\n",
      "✅ Moved s41_4_L_S2.jpg → C:\\Users\\hp\\Documents\\dataset\\PalmDataset\\Palm\\Train\\LeftPalm\\s41_4_L_S2.jpg\n",
      "✅ Moved s41_4_R_S2.jpg → C:\\Users\\hp\\Documents\\dataset\\PalmDataset\\Palm\\Train\\RightPalm\\s41_4_R_S2.jpg\n",
      "✅ Moved s41_5_L_S2.jpg → C:\\Users\\hp\\Documents\\dataset\\PalmDataset\\Palm\\Train\\LeftPalm\\s41_5_L_S2.jpg\n",
      "✅ Moved s41_5_R_S2.jpg → C:\\Users\\hp\\Documents\\dataset\\PalmDataset\\Palm\\Train\\RightPalm\\s41_5_R_S2.jpg\n",
      "✅ Moved s41_6_L_S2.jpg → C:\\Users\\hp\\Documents\\dataset\\PalmDataset\\Palm\\Train\\LeftPalm\\s41_6_L_S2.jpg\n",
      "✅ Moved s41_6_R_S2.jpg → C:\\Users\\hp\\Documents\\dataset\\PalmDataset\\Palm\\Train\\RightPalm\\s41_6_R_S2.jpg\n",
      "✅ Moved s41_9_L_S2.jpg → C:\\Users\\hp\\Documents\\dataset\\PalmDataset\\Palm\\Train\\RightPalm\\s41_9_L_S2.jpg\n",
      "✅ Moved s41_9_R_S2.jpg → C:\\Users\\hp\\Documents\\dataset\\PalmDataset\\Palm\\Train\\RightPalm\\s41_9_R_S2.jpg\n",
      "✅ Moved s42_10_L_S2.jpg → C:\\Users\\hp\\Documents\\dataset\\PalmDataset\\Palm\\Train\\LeftPalm\\s42_10_L_S2.jpg\n",
      "✅ Moved s42_10_R_S2.jpg → C:\\Users\\hp\\Documents\\dataset\\PalmDataset\\Palm\\Train\\RightPalm\\s42_10_R_S2.jpg\n",
      "✅ Moved s42_1_L_S2.jpg → C:\\Users\\hp\\Documents\\dataset\\PalmDataset\\Palm\\Train\\RightPalm\\s42_1_L_S2.jpg\n",
      "✅ Moved s42_2_L_S2.jpg → C:\\Users\\hp\\Documents\\dataset\\PalmDataset\\Palm\\Train\\RightPalm\\s42_2_L_S2.jpg\n",
      "✅ Moved s42_2_R_S2.jpg → C:\\Users\\hp\\Documents\\dataset\\PalmDataset\\Palm\\Train\\RightPalm\\s42_2_R_S2.jpg\n",
      "✅ Moved s42_3_L_S2.jpg → C:\\Users\\hp\\Documents\\dataset\\PalmDataset\\Palm\\Train\\LeftPalm\\s42_3_L_S2.jpg\n",
      "✅ Moved s42_3_R_S2.jpg → C:\\Users\\hp\\Documents\\dataset\\PalmDataset\\Palm\\Train\\LeftPalm\\s42_3_R_S2.jpg\n",
      "✅ Moved s42_4_L_S2.jpg → C:\\Users\\hp\\Documents\\dataset\\PalmDataset\\Palm\\Train\\LeftPalm\\s42_4_L_S2.jpg\n",
      "✅ Moved s42_4_R_S2.jpg → C:\\Users\\hp\\Documents\\dataset\\PalmDataset\\Palm\\Train\\RightPalm\\s42_4_R_S2.jpg\n",
      "✅ Moved s42_5_L_S2.jpg → C:\\Users\\hp\\Documents\\dataset\\PalmDataset\\Palm\\Train\\RightPalm\\s42_5_L_S2.jpg\n",
      "✅ Moved s42_5_R_S2.jpg → C:\\Users\\hp\\Documents\\dataset\\PalmDataset\\Palm\\Train\\RightPalm\\s42_5_R_S2.jpg\n",
      "✅ Moved s42_6_R_S2.jpg → C:\\Users\\hp\\Documents\\dataset\\PalmDataset\\Palm\\Train\\LeftPalm\\s42_6_R_S2.jpg\n",
      "✅ Moved s42_7_L_S2.jpg → C:\\Users\\hp\\Documents\\dataset\\PalmDataset\\Palm\\Train\\LeftPalm\\s42_7_L_S2.jpg\n",
      "✅ Moved s42_7_R_S2.jpg → C:\\Users\\hp\\Documents\\dataset\\PalmDataset\\Palm\\Train\\LeftPalm\\s42_7_R_S2.jpg\n",
      "✅ Moved s42_8_L_S2.jpg → C:\\Users\\hp\\Documents\\dataset\\PalmDataset\\Palm\\Train\\RightPalm\\s42_8_L_S2.jpg\n",
      "✅ Moved s42_8_R_S2.jpg → C:\\Users\\hp\\Documents\\dataset\\PalmDataset\\Palm\\Train\\LeftPalm\\s42_8_R_S2.jpg\n",
      "✅ Moved s42_9_L_S2.jpg → C:\\Users\\hp\\Documents\\dataset\\PalmDataset\\Palm\\Train\\LeftPalm\\s42_9_L_S2.jpg\n",
      "✅ Moved s42_9_R_S2.jpg → C:\\Users\\hp\\Documents\\dataset\\PalmDataset\\Palm\\Train\\LeftPalm\\s42_9_R_S2.jpg\n",
      "✅ Moved s43_10_L_S2.jpg → C:\\Users\\hp\\Documents\\dataset\\PalmDataset\\Palm\\Train\\LeftPalm\\s43_10_L_S2.jpg\n",
      "✅ Moved s43_10_R_S2.jpg → C:\\Users\\hp\\Documents\\dataset\\PalmDataset\\Palm\\Train\\RightPalm\\s43_10_R_S2.jpg\n",
      "✅ Moved s43_1_L_S2.jpg → C:\\Users\\hp\\Documents\\dataset\\PalmDataset\\Palm\\Train\\RightPalm\\s43_1_L_S2.jpg\n",
      "✅ Moved s43_1_R_S2.jpg → C:\\Users\\hp\\Documents\\dataset\\PalmDataset\\Palm\\Train\\LeftPalm\\s43_1_R_S2.jpg\n",
      "✅ Moved s43_2_L_S2.jpg → C:\\Users\\hp\\Documents\\dataset\\PalmDataset\\Palm\\Train\\RightPalm\\s43_2_L_S2.jpg\n",
      "✅ Moved s43_2_R_S2.jpg → C:\\Users\\hp\\Documents\\dataset\\PalmDataset\\Palm\\Train\\LeftPalm\\s43_2_R_S2.jpg\n",
      "✅ Moved s43_3_R_S2.jpg → C:\\Users\\hp\\Documents\\dataset\\PalmDataset\\Palm\\Train\\LeftPalm\\s43_3_R_S2.jpg\n",
      "✅ Moved s43_4_R_S2.jpg → C:\\Users\\hp\\Documents\\dataset\\PalmDataset\\Palm\\Train\\LeftPalm\\s43_4_R_S2.jpg\n",
      "✅ Moved s43_5_L_S2.jpg → C:\\Users\\hp\\Documents\\dataset\\PalmDataset\\Palm\\Train\\RightPalm\\s43_5_L_S2.jpg\n",
      "✅ Moved s43_5_R_S2.jpg → C:\\Users\\hp\\Documents\\dataset\\PalmDataset\\Palm\\Train\\RightPalm\\s43_5_R_S2.jpg\n",
      "✅ Moved s43_6_L_S2.jpg → C:\\Users\\hp\\Documents\\dataset\\PalmDataset\\Palm\\Train\\LeftPalm\\s43_6_L_S2.jpg\n",
      "✅ Moved s43_6_R_S2.jpg → C:\\Users\\hp\\Documents\\dataset\\PalmDataset\\Palm\\Train\\RightPalm\\s43_6_R_S2.jpg\n",
      "✅ Moved s43_7_L_S2.jpg → C:\\Users\\hp\\Documents\\dataset\\PalmDataset\\Palm\\Train\\LeftPalm\\s43_7_L_S2.jpg\n",
      "✅ Moved s43_7_R_S2.jpg → C:\\Users\\hp\\Documents\\dataset\\PalmDataset\\Palm\\Train\\LeftPalm\\s43_7_R_S2.jpg\n",
      "✅ Moved s43_8_R_S2.jpg → C:\\Users\\hp\\Documents\\dataset\\PalmDataset\\Palm\\Train\\RightPalm\\s43_8_R_S2.jpg\n",
      "✅ Moved s43_9_R_S2.jpg → C:\\Users\\hp\\Documents\\dataset\\PalmDataset\\Palm\\Train\\RightPalm\\s43_9_R_S2.jpg\n",
      "✅ Moved s44_10_L_S2.jpg → C:\\Users\\hp\\Documents\\dataset\\PalmDataset\\Palm\\Train\\RightPalm\\s44_10_L_S2.jpg\n",
      "✅ Moved s44_10_R_S2.jpg → C:\\Users\\hp\\Documents\\dataset\\PalmDataset\\Palm\\Train\\LeftPalm\\s44_10_R_S2.jpg\n",
      "✅ Moved s44_1_L_S2.jpg → C:\\Users\\hp\\Documents\\dataset\\PalmDataset\\Palm\\Train\\RightPalm\\s44_1_L_S2.jpg\n",
      "✅ Moved s44_1_R_S2.jpg → C:\\Users\\hp\\Documents\\dataset\\PalmDataset\\Palm\\Train\\LeftPalm\\s44_1_R_S2.jpg\n",
      "✅ Moved s44_2_L_S2.jpg → C:\\Users\\hp\\Documents\\dataset\\PalmDataset\\Palm\\Train\\RightPalm\\s44_2_L_S2.jpg\n",
      "✅ Moved s44_3_L_S2.jpg → C:\\Users\\hp\\Documents\\dataset\\PalmDataset\\Palm\\Train\\RightPalm\\s44_3_L_S2.jpg\n",
      "✅ Moved s44_3_R_S2.jpg → C:\\Users\\hp\\Documents\\dataset\\PalmDataset\\Palm\\Train\\RightPalm\\s44_3_R_S2.jpg\n",
      "✅ Moved s44_4_L_S2.jpg → C:\\Users\\hp\\Documents\\dataset\\PalmDataset\\Palm\\Train\\RightPalm\\s44_4_L_S2.jpg\n",
      "✅ Moved s44_4_R_S2.jpg → C:\\Users\\hp\\Documents\\dataset\\PalmDataset\\Palm\\Train\\LeftPalm\\s44_4_R_S2.jpg\n",
      "✅ Moved s44_5_L_S2.jpg → C:\\Users\\hp\\Documents\\dataset\\PalmDataset\\Palm\\Train\\LeftPalm\\s44_5_L_S2.jpg\n",
      "✅ Moved s44_5_R_S2.jpg → C:\\Users\\hp\\Documents\\dataset\\PalmDataset\\Palm\\Train\\LeftPalm\\s44_5_R_S2.jpg\n",
      "✅ Moved s44_6_R_S2.jpg → C:\\Users\\hp\\Documents\\dataset\\PalmDataset\\Palm\\Train\\RightPalm\\s44_6_R_S2.jpg\n",
      "✅ Moved s44_7_L_S2.jpg → C:\\Users\\hp\\Documents\\dataset\\PalmDataset\\Palm\\Train\\RightPalm\\s44_7_L_S2.jpg\n",
      "✅ Moved s44_8_L_S2.jpg → C:\\Users\\hp\\Documents\\dataset\\PalmDataset\\Palm\\Train\\LeftPalm\\s44_8_L_S2.jpg\n",
      "✅ Moved s44_8_R_S2.jpg → C:\\Users\\hp\\Documents\\dataset\\PalmDataset\\Palm\\Train\\RightPalm\\s44_8_R_S2.jpg\n",
      "✅ Moved s44_9_L_S2.jpg → C:\\Users\\hp\\Documents\\dataset\\PalmDataset\\Palm\\Train\\LeftPalm\\s44_9_L_S2.jpg\n",
      "✅ Moved s44_9_R_S2.jpg → C:\\Users\\hp\\Documents\\dataset\\PalmDataset\\Palm\\Train\\RightPalm\\s44_9_R_S2.jpg\n",
      "✅ Moved s45_10_L_S2.jpg → C:\\Users\\hp\\Documents\\dataset\\PalmDataset\\Palm\\Train\\RightPalm\\s45_10_L_S2.jpg\n",
      "✅ Moved s45_1_L_S2.jpg → C:\\Users\\hp\\Documents\\dataset\\PalmDataset\\Palm\\Train\\RightPalm\\s45_1_L_S2.jpg\n",
      "✅ Moved s45_1_R_S2.jpg → C:\\Users\\hp\\Documents\\dataset\\PalmDataset\\Palm\\Train\\RightPalm\\s45_1_R_S2.jpg\n",
      "✅ Moved s45_2_L_S2.jpg → C:\\Users\\hp\\Documents\\dataset\\PalmDataset\\Palm\\Train\\LeftPalm\\s45_2_L_S2.jpg\n",
      "✅ Moved s45_3_L_S2.jpg → C:\\Users\\hp\\Documents\\dataset\\PalmDataset\\Palm\\Train\\RightPalm\\s45_3_L_S2.jpg\n",
      "✅ Moved s45_3_R_S2.jpg → C:\\Users\\hp\\Documents\\dataset\\PalmDataset\\Palm\\Train\\LeftPalm\\s45_3_R_S2.jpg\n",
      "✅ Moved s45_4_L_S2.jpg → C:\\Users\\hp\\Documents\\dataset\\PalmDataset\\Palm\\Train\\RightPalm\\s45_4_L_S2.jpg\n",
      "✅ Moved s45_5_L_S2.jpg → C:\\Users\\hp\\Documents\\dataset\\PalmDataset\\Palm\\Train\\LeftPalm\\s45_5_L_S2.jpg\n",
      "✅ Moved s45_5_R_S2.jpg → C:\\Users\\hp\\Documents\\dataset\\PalmDataset\\Palm\\Train\\LeftPalm\\s45_5_R_S2.jpg\n",
      "✅ Moved s45_6_L_S2.jpg → C:\\Users\\hp\\Documents\\dataset\\PalmDataset\\Palm\\Train\\LeftPalm\\s45_6_L_S2.jpg\n",
      "✅ Moved s45_7_L_S2.jpg → C:\\Users\\hp\\Documents\\dataset\\PalmDataset\\Palm\\Train\\RightPalm\\s45_7_L_S2.jpg\n",
      "✅ Moved s45_7_R_S2.jpg → C:\\Users\\hp\\Documents\\dataset\\PalmDataset\\Palm\\Train\\RightPalm\\s45_7_R_S2.jpg\n",
      "✅ Moved s45_8_L_S2.jpg → C:\\Users\\hp\\Documents\\dataset\\PalmDataset\\Palm\\Train\\RightPalm\\s45_8_L_S2.jpg\n",
      "✅ Moved s45_8_R_S2.jpg → C:\\Users\\hp\\Documents\\dataset\\PalmDataset\\Palm\\Train\\LeftPalm\\s45_8_R_S2.jpg\n",
      "✅ Moved s45_9_R_S2.jpg → C:\\Users\\hp\\Documents\\dataset\\PalmDataset\\Palm\\Train\\RightPalm\\s45_9_R_S2.jpg\n",
      "✅ Moved s46_10_L_S2.jpg → C:\\Users\\hp\\Documents\\dataset\\PalmDataset\\Palm\\Train\\LeftPalm\\s46_10_L_S2.jpg\n",
      "✅ Moved s46_10_R_S2.jpg → C:\\Users\\hp\\Documents\\dataset\\PalmDataset\\Palm\\Train\\RightPalm\\s46_10_R_S2.jpg\n",
      "✅ Moved s46_1_L_S2.jpg → C:\\Users\\hp\\Documents\\dataset\\PalmDataset\\Palm\\Train\\LeftPalm\\s46_1_L_S2.jpg\n",
      "✅ Moved s46_1_R_S2.jpg → C:\\Users\\hp\\Documents\\dataset\\PalmDataset\\Palm\\Train\\RightPalm\\s46_1_R_S2.jpg\n",
      "✅ Moved s46_2_L_S2.jpg → C:\\Users\\hp\\Documents\\dataset\\PalmDataset\\Palm\\Train\\RightPalm\\s46_2_L_S2.jpg\n",
      "✅ Moved s46_2_R_S2.jpg → C:\\Users\\hp\\Documents\\dataset\\PalmDataset\\Palm\\Train\\LeftPalm\\s46_2_R_S2.jpg\n",
      "✅ Moved s46_3_L_S2.jpg → C:\\Users\\hp\\Documents\\dataset\\PalmDataset\\Palm\\Train\\RightPalm\\s46_3_L_S2.jpg\n",
      "✅ Moved s46_3_R_S2.jpg → C:\\Users\\hp\\Documents\\dataset\\PalmDataset\\Palm\\Train\\LeftPalm\\s46_3_R_S2.jpg\n",
      "✅ Moved s46_4_L_S2.jpg → C:\\Users\\hp\\Documents\\dataset\\PalmDataset\\Palm\\Train\\LeftPalm\\s46_4_L_S2.jpg\n",
      "✅ Moved s46_4_R_S2.jpg → C:\\Users\\hp\\Documents\\dataset\\PalmDataset\\Palm\\Train\\LeftPalm\\s46_4_R_S2.jpg\n",
      "✅ Moved s46_5_L_S2.jpg → C:\\Users\\hp\\Documents\\dataset\\PalmDataset\\Palm\\Train\\RightPalm\\s46_5_L_S2.jpg\n",
      "✅ Moved s46_5_R_S2.jpg → C:\\Users\\hp\\Documents\\dataset\\PalmDataset\\Palm\\Train\\RightPalm\\s46_5_R_S2.jpg\n",
      "✅ Moved s46_6_R_S2.jpg → C:\\Users\\hp\\Documents\\dataset\\PalmDataset\\Palm\\Train\\RightPalm\\s46_6_R_S2.jpg\n",
      "✅ Moved s46_7_L_S2.jpg → C:\\Users\\hp\\Documents\\dataset\\PalmDataset\\Palm\\Train\\RightPalm\\s46_7_L_S2.jpg\n",
      "✅ Moved s46_7_R_S2.jpg → C:\\Users\\hp\\Documents\\dataset\\PalmDataset\\Palm\\Train\\RightPalm\\s46_7_R_S2.jpg\n",
      "✅ Moved s46_8_L_S2.jpg → C:\\Users\\hp\\Documents\\dataset\\PalmDataset\\Palm\\Train\\RightPalm\\s46_8_L_S2.jpg\n",
      "✅ Moved s46_8_R_S2.jpg → C:\\Users\\hp\\Documents\\dataset\\PalmDataset\\Palm\\Train\\RightPalm\\s46_8_R_S2.jpg\n",
      "✅ Moved s46_9_R_S2.jpg → C:\\Users\\hp\\Documents\\dataset\\PalmDataset\\Palm\\Train\\RightPalm\\s46_9_R_S2.jpg\n",
      "✅ Moved s47_10_L_S2.jpg → C:\\Users\\hp\\Documents\\dataset\\PalmDataset\\Palm\\Train\\LeftPalm\\s47_10_L_S2.jpg\n",
      "✅ Moved s47_10_R_S2.jpg → C:\\Users\\hp\\Documents\\dataset\\PalmDataset\\Palm\\Train\\RightPalm\\s47_10_R_S2.jpg\n",
      "✅ Moved s47_1_L_S2.jpg → C:\\Users\\hp\\Documents\\dataset\\PalmDataset\\Palm\\Train\\RightPalm\\s47_1_L_S2.jpg\n",
      "✅ Moved s47_1_R_S2.jpg → C:\\Users\\hp\\Documents\\dataset\\PalmDataset\\Palm\\Train\\RightPalm\\s47_1_R_S2.jpg\n",
      "✅ Moved s47_2_L_S2.jpg → C:\\Users\\hp\\Documents\\dataset\\PalmDataset\\Palm\\Train\\RightPalm\\s47_2_L_S2.jpg\n",
      "✅ Moved s47_2_R_S2.jpg → C:\\Users\\hp\\Documents\\dataset\\PalmDataset\\Palm\\Train\\RightPalm\\s47_2_R_S2.jpg\n",
      "✅ Moved s47_3_L_S2.jpg → C:\\Users\\hp\\Documents\\dataset\\PalmDataset\\Palm\\Train\\LeftPalm\\s47_3_L_S2.jpg\n",
      "✅ Moved s47_3_R_S2.jpg → C:\\Users\\hp\\Documents\\dataset\\PalmDataset\\Palm\\Train\\RightPalm\\s47_3_R_S2.jpg\n",
      "✅ Moved s47_4_L_S2.jpg → C:\\Users\\hp\\Documents\\dataset\\PalmDataset\\Palm\\Train\\LeftPalm\\s47_4_L_S2.jpg\n",
      "✅ Moved s47_4_R_S2.jpg → C:\\Users\\hp\\Documents\\dataset\\PalmDataset\\Palm\\Train\\RightPalm\\s47_4_R_S2.jpg\n",
      "✅ Moved s47_5_L_S2.jpg → C:\\Users\\hp\\Documents\\dataset\\PalmDataset\\Palm\\Train\\RightPalm\\s47_5_L_S2.jpg\n",
      "✅ Moved s47_5_R_S2.jpg → C:\\Users\\hp\\Documents\\dataset\\PalmDataset\\Palm\\Train\\LeftPalm\\s47_5_R_S2.jpg\n",
      "✅ Moved s47_6_L_S2.jpg → C:\\Users\\hp\\Documents\\dataset\\PalmDataset\\Palm\\Train\\RightPalm\\s47_6_L_S2.jpg\n",
      "✅ Moved s47_6_R_S2.jpg → C:\\Users\\hp\\Documents\\dataset\\PalmDataset\\Palm\\Train\\RightPalm\\s47_6_R_S2.jpg\n",
      "✅ Moved s47_7_L_S2.jpg → C:\\Users\\hp\\Documents\\dataset\\PalmDataset\\Palm\\Train\\RightPalm\\s47_7_L_S2.jpg\n",
      "✅ Moved s47_7_R_S2.jpg → C:\\Users\\hp\\Documents\\dataset\\PalmDataset\\Palm\\Train\\LeftPalm\\s47_7_R_S2.jpg\n",
      "✅ Moved s47_8_L_S2.jpg → C:\\Users\\hp\\Documents\\dataset\\PalmDataset\\Palm\\Train\\RightPalm\\s47_8_L_S2.jpg\n",
      "✅ Moved s47_9_L_S2.jpg → C:\\Users\\hp\\Documents\\dataset\\PalmDataset\\Palm\\Train\\LeftPalm\\s47_9_L_S2.jpg\n",
      "✅ Moved s47_9_R_S2.jpg → C:\\Users\\hp\\Documents\\dataset\\PalmDataset\\Palm\\Train\\LeftPalm\\s47_9_R_S2.jpg\n",
      "✅ Moved s48_10_L_S2.jpg → C:\\Users\\hp\\Documents\\dataset\\PalmDataset\\Palm\\Train\\LeftPalm\\s48_10_L_S2.jpg\n",
      "✅ Moved s48_10_R_S2.jpg → C:\\Users\\hp\\Documents\\dataset\\PalmDataset\\Palm\\Train\\RightPalm\\s48_10_R_S2.jpg\n",
      "✅ Moved s48_1_R_S2.jpg → C:\\Users\\hp\\Documents\\dataset\\PalmDataset\\Palm\\Train\\LeftPalm\\s48_1_R_S2.jpg\n",
      "✅ Moved s48_2_L_S2.jpg → C:\\Users\\hp\\Documents\\dataset\\PalmDataset\\Palm\\Train\\LeftPalm\\s48_2_L_S2.jpg\n",
      "✅ Moved s48_2_R_S2.jpg → C:\\Users\\hp\\Documents\\dataset\\PalmDataset\\Palm\\Train\\RightPalm\\s48_2_R_S2.jpg\n",
      "✅ Moved s48_3_L_S2.jpg → C:\\Users\\hp\\Documents\\dataset\\PalmDataset\\Palm\\Train\\LeftPalm\\s48_3_L_S2.jpg\n",
      "✅ Moved s48_3_R_S2.jpg → C:\\Users\\hp\\Documents\\dataset\\PalmDataset\\Palm\\Train\\LeftPalm\\s48_3_R_S2.jpg\n",
      "✅ Moved s48_4_L_S2.jpg → C:\\Users\\hp\\Documents\\dataset\\PalmDataset\\Palm\\Train\\RightPalm\\s48_4_L_S2.jpg\n",
      "✅ Moved s48_4_R_S2.jpg → C:\\Users\\hp\\Documents\\dataset\\PalmDataset\\Palm\\Train\\LeftPalm\\s48_4_R_S2.jpg\n",
      "✅ Moved s48_5_L_S2.jpg → C:\\Users\\hp\\Documents\\dataset\\PalmDataset\\Palm\\Train\\RightPalm\\s48_5_L_S2.jpg\n",
      "✅ Moved s48_5_R_S2.jpg → C:\\Users\\hp\\Documents\\dataset\\PalmDataset\\Palm\\Train\\LeftPalm\\s48_5_R_S2.jpg\n",
      "✅ Moved s48_6_L_S2.jpg → C:\\Users\\hp\\Documents\\dataset\\PalmDataset\\Palm\\Train\\RightPalm\\s48_6_L_S2.jpg\n",
      "✅ Moved s48_6_R_S2.jpg → C:\\Users\\hp\\Documents\\dataset\\PalmDataset\\Palm\\Train\\RightPalm\\s48_6_R_S2.jpg\n",
      "✅ Moved s48_7_R_S2.jpg → C:\\Users\\hp\\Documents\\dataset\\PalmDataset\\Palm\\Train\\LeftPalm\\s48_7_R_S2.jpg\n",
      "✅ Moved s48_8_L_S2.jpg → C:\\Users\\hp\\Documents\\dataset\\PalmDataset\\Palm\\Train\\RightPalm\\s48_8_L_S2.jpg\n",
      "✅ Moved s48_8_R_S2.jpg → C:\\Users\\hp\\Documents\\dataset\\PalmDataset\\Palm\\Train\\LeftPalm\\s48_8_R_S2.jpg\n",
      "✅ Moved s48_9_L_S2.jpg → C:\\Users\\hp\\Documents\\dataset\\PalmDataset\\Palm\\Train\\RightPalm\\s48_9_L_S2.jpg\n",
      "✅ Moved s49_10_L_S2.jpg → C:\\Users\\hp\\Documents\\dataset\\PalmDataset\\Palm\\Train\\RightPalm\\s49_10_L_S2.jpg\n",
      "✅ Moved s49_10_R_S2.jpg → C:\\Users\\hp\\Documents\\dataset\\PalmDataset\\Palm\\Train\\LeftPalm\\s49_10_R_S2.jpg\n",
      "✅ Moved s49_1_R_S2.jpg → C:\\Users\\hp\\Documents\\dataset\\PalmDataset\\Palm\\Train\\RightPalm\\s49_1_R_S2.jpg\n",
      "✅ Moved s49_2_L_S2.jpg → C:\\Users\\hp\\Documents\\dataset\\PalmDataset\\Palm\\Train\\LeftPalm\\s49_2_L_S2.jpg\n",
      "✅ Moved s49_2_R_S2.jpg → C:\\Users\\hp\\Documents\\dataset\\PalmDataset\\Palm\\Train\\RightPalm\\s49_2_R_S2.jpg\n",
      "✅ Moved s49_3_R_S2.jpg → C:\\Users\\hp\\Documents\\dataset\\PalmDataset\\Palm\\Train\\LeftPalm\\s49_3_R_S2.jpg\n",
      "✅ Moved s49_4_L_S2.jpg → C:\\Users\\hp\\Documents\\dataset\\PalmDataset\\Palm\\Train\\LeftPalm\\s49_4_L_S2.jpg\n",
      "✅ Moved s49_4_R_S2.jpg → C:\\Users\\hp\\Documents\\dataset\\PalmDataset\\Palm\\Train\\RightPalm\\s49_4_R_S2.jpg\n",
      "✅ Moved s49_5_L_S2.jpg → C:\\Users\\hp\\Documents\\dataset\\PalmDataset\\Palm\\Train\\LeftPalm\\s49_5_L_S2.jpg\n",
      "✅ Moved s49_6_L_S2.jpg → C:\\Users\\hp\\Documents\\dataset\\PalmDataset\\Palm\\Train\\LeftPalm\\s49_6_L_S2.jpg\n",
      "✅ Moved s49_6_R_S2.jpg → C:\\Users\\hp\\Documents\\dataset\\PalmDataset\\Palm\\Train\\RightPalm\\s49_6_R_S2.jpg\n",
      "✅ Moved s49_7_R_S2.jpg → C:\\Users\\hp\\Documents\\dataset\\PalmDataset\\Palm\\Train\\RightPalm\\s49_7_R_S2.jpg\n",
      "✅ Moved s49_8_L_S2.jpg → C:\\Users\\hp\\Documents\\dataset\\PalmDataset\\Palm\\Train\\LeftPalm\\s49_8_L_S2.jpg\n",
      "✅ Moved s49_9_L_S2.jpg → C:\\Users\\hp\\Documents\\dataset\\PalmDataset\\Palm\\Train\\RightPalm\\s49_9_L_S2.jpg\n",
      "✅ Moved s4_10_L_S2.jpg → C:\\Users\\hp\\Documents\\dataset\\PalmDataset\\Palm\\Train\\RightPalm\\s4_10_L_S2.jpg\n",
      "✅ Moved s4_1_L_S2.jpg → C:\\Users\\hp\\Documents\\dataset\\PalmDataset\\Palm\\Train\\LeftPalm\\s4_1_L_S2.jpg\n",
      "✅ Moved s4_2_L_S2.jpg → C:\\Users\\hp\\Documents\\dataset\\PalmDataset\\Palm\\Train\\RightPalm\\s4_2_L_S2.jpg\n",
      "✅ Moved s4_2_R_S2.jpg → C:\\Users\\hp\\Documents\\dataset\\PalmDataset\\Palm\\Train\\RightPalm\\s4_2_R_S2.jpg\n",
      "✅ Moved s4_3_L_S2.jpg → C:\\Users\\hp\\Documents\\dataset\\PalmDataset\\Palm\\Train\\LeftPalm\\s4_3_L_S2.jpg\n",
      "✅ Moved s4_3_R_S2.jpg → C:\\Users\\hp\\Documents\\dataset\\PalmDataset\\Palm\\Train\\RightPalm\\s4_3_R_S2.jpg\n",
      "✅ Moved s4_4_L_S2.jpg → C:\\Users\\hp\\Documents\\dataset\\PalmDataset\\Palm\\Train\\LeftPalm\\s4_4_L_S2.jpg\n",
      "✅ Moved s4_4_R_S2.jpg → C:\\Users\\hp\\Documents\\dataset\\PalmDataset\\Palm\\Train\\RightPalm\\s4_4_R_S2.jpg\n",
      "✅ Moved s4_5_L_S2.jpg → C:\\Users\\hp\\Documents\\dataset\\PalmDataset\\Palm\\Train\\RightPalm\\s4_5_L_S2.jpg\n",
      "✅ Moved s4_5_R_S2.jpg → C:\\Users\\hp\\Documents\\dataset\\PalmDataset\\Palm\\Train\\RightPalm\\s4_5_R_S2.jpg\n",
      "✅ Moved s4_6_L_S2.jpg → C:\\Users\\hp\\Documents\\dataset\\PalmDataset\\Palm\\Train\\RightPalm\\s4_6_L_S2.jpg\n",
      "✅ Moved s4_6_R_S2.jpg → C:\\Users\\hp\\Documents\\dataset\\PalmDataset\\Palm\\Train\\RightPalm\\s4_6_R_S2.jpg\n",
      "✅ Moved s4_7_L_S2.jpg → C:\\Users\\hp\\Documents\\dataset\\PalmDataset\\Palm\\Train\\LeftPalm\\s4_7_L_S2.jpg\n",
      "✅ Moved s4_7_R_S2.jpg → C:\\Users\\hp\\Documents\\dataset\\PalmDataset\\Palm\\Train\\RightPalm\\s4_7_R_S2.jpg\n",
      "✅ Moved s4_8_L_S2.jpg → C:\\Users\\hp\\Documents\\dataset\\PalmDataset\\Palm\\Train\\LeftPalm\\s4_8_L_S2.jpg\n",
      "✅ Moved s4_8_R_S2.jpg → C:\\Users\\hp\\Documents\\dataset\\PalmDataset\\Palm\\Train\\LeftPalm\\s4_8_R_S2.jpg\n",
      "✅ Moved s4_9_L_S2.jpg → C:\\Users\\hp\\Documents\\dataset\\PalmDataset\\Palm\\Train\\RightPalm\\s4_9_L_S2.jpg\n",
      "✅ Moved s4_9_R_S2.jpg → C:\\Users\\hp\\Documents\\dataset\\PalmDataset\\Palm\\Train\\RightPalm\\s4_9_R_S2.jpg\n",
      "✅ Moved s50_10_L_S2.jpg → C:\\Users\\hp\\Documents\\dataset\\PalmDataset\\Palm\\Train\\LeftPalm\\s50_10_L_S2.jpg\n",
      "✅ Moved s50_1_R_S2.jpg → C:\\Users\\hp\\Documents\\dataset\\PalmDataset\\Palm\\Train\\RightPalm\\s50_1_R_S2.jpg\n",
      "✅ Moved s50_2_L_S2.jpg → C:\\Users\\hp\\Documents\\dataset\\PalmDataset\\Palm\\Train\\LeftPalm\\s50_2_L_S2.jpg\n",
      "✅ Moved s50_2_R_S2.jpg → C:\\Users\\hp\\Documents\\dataset\\PalmDataset\\Palm\\Train\\LeftPalm\\s50_2_R_S2.jpg\n",
      "✅ Moved s50_3_L_S2.jpg → C:\\Users\\hp\\Documents\\dataset\\PalmDataset\\Palm\\Train\\LeftPalm\\s50_3_L_S2.jpg\n",
      "✅ Moved s50_4_R_S2.jpg → C:\\Users\\hp\\Documents\\dataset\\PalmDataset\\Palm\\Train\\LeftPalm\\s50_4_R_S2.jpg\n",
      "✅ Moved s50_5_L_S2.jpg → C:\\Users\\hp\\Documents\\dataset\\PalmDataset\\Palm\\Train\\RightPalm\\s50_5_L_S2.jpg\n",
      "✅ Moved s50_5_R_S2.jpg → C:\\Users\\hp\\Documents\\dataset\\PalmDataset\\Palm\\Train\\LeftPalm\\s50_5_R_S2.jpg\n",
      "✅ Moved s50_6_L_S2.jpg → C:\\Users\\hp\\Documents\\dataset\\PalmDataset\\Palm\\Train\\LeftPalm\\s50_6_L_S2.jpg\n",
      "✅ Moved s50_6_R_S2.jpg → C:\\Users\\hp\\Documents\\dataset\\PalmDataset\\Palm\\Train\\RightPalm\\s50_6_R_S2.jpg\n",
      "✅ Moved s50_7_L_S2.jpg → C:\\Users\\hp\\Documents\\dataset\\PalmDataset\\Palm\\Train\\RightPalm\\s50_7_L_S2.jpg\n",
      "✅ Moved s50_7_R_S2.jpg → C:\\Users\\hp\\Documents\\dataset\\PalmDataset\\Palm\\Train\\LeftPalm\\s50_7_R_S2.jpg\n",
      "✅ Moved s50_8_R_S2.jpg → C:\\Users\\hp\\Documents\\dataset\\PalmDataset\\Palm\\Train\\RightPalm\\s50_8_R_S2.jpg\n",
      "✅ Moved s50_9_L_S2.jpg → C:\\Users\\hp\\Documents\\dataset\\PalmDataset\\Palm\\Train\\RightPalm\\s50_9_L_S2.jpg\n",
      "✅ Moved s51_10_L_S2.jpg → C:\\Users\\hp\\Documents\\dataset\\PalmDataset\\Palm\\Train\\RightPalm\\s51_10_L_S2.jpg\n",
      "✅ Moved s51_2_L_S2.jpg → C:\\Users\\hp\\Documents\\dataset\\PalmDataset\\Palm\\Train\\RightPalm\\s51_2_L_S2.jpg\n",
      "✅ Moved s51_3_L_S2.jpg → C:\\Users\\hp\\Documents\\dataset\\PalmDataset\\Palm\\Train\\LeftPalm\\s51_3_L_S2.jpg\n",
      "✅ Moved s51_3_R_S2.jpg → C:\\Users\\hp\\Documents\\dataset\\PalmDataset\\Palm\\Train\\LeftPalm\\s51_3_R_S2.jpg\n",
      "✅ Moved s51_4_L_S2.jpg → C:\\Users\\hp\\Documents\\dataset\\PalmDataset\\Palm\\Train\\LeftPalm\\s51_4_L_S2.jpg\n",
      "✅ Moved s51_5_L_S2.jpg → C:\\Users\\hp\\Documents\\dataset\\PalmDataset\\Palm\\Train\\RightPalm\\s51_5_L_S2.jpg\n",
      "✅ Moved s51_5_R_S2.jpg → C:\\Users\\hp\\Documents\\dataset\\PalmDataset\\Palm\\Train\\LeftPalm\\s51_5_R_S2.jpg\n",
      "✅ Moved s51_6_R_S2.jpg → C:\\Users\\hp\\Documents\\dataset\\PalmDataset\\Palm\\Train\\RightPalm\\s51_6_R_S2.jpg\n",
      "✅ Moved s51_7_L_S2.jpg → C:\\Users\\hp\\Documents\\dataset\\PalmDataset\\Palm\\Train\\RightPalm\\s51_7_L_S2.jpg\n",
      "✅ Moved s51_7_R_S2.jpg → C:\\Users\\hp\\Documents\\dataset\\PalmDataset\\Palm\\Train\\RightPalm\\s51_7_R_S2.jpg\n",
      "✅ Moved s51_8_L_S2.jpg → C:\\Users\\hp\\Documents\\dataset\\PalmDataset\\Palm\\Train\\RightPalm\\s51_8_L_S2.jpg\n",
      "✅ Moved s51_8_R_S2.jpg → C:\\Users\\hp\\Documents\\dataset\\PalmDataset\\Palm\\Train\\RightPalm\\s51_8_R_S2.jpg\n",
      "✅ Moved s51_9_L_S2.jpg → C:\\Users\\hp\\Documents\\dataset\\PalmDataset\\Palm\\Train\\RightPalm\\s51_9_L_S2.jpg\n",
      "✅ Moved s51_9_R_S2.jpg → C:\\Users\\hp\\Documents\\dataset\\PalmDataset\\Palm\\Train\\LeftPalm\\s51_9_R_S2.jpg\n",
      "✅ Moved s52_10_L_S2.jpg → C:\\Users\\hp\\Documents\\dataset\\PalmDataset\\Palm\\Train\\RightPalm\\s52_10_L_S2.jpg\n",
      "✅ Moved s52_10_R_S2.jpg → C:\\Users\\hp\\Documents\\dataset\\PalmDataset\\Palm\\Train\\LeftPalm\\s52_10_R_S2.jpg\n",
      "✅ Moved s52_1_L_S2.jpg → C:\\Users\\hp\\Documents\\dataset\\PalmDataset\\Palm\\Train\\RightPalm\\s52_1_L_S2.jpg\n",
      "✅ Moved s52_2_L_S2.jpg → C:\\Users\\hp\\Documents\\dataset\\PalmDataset\\Palm\\Train\\LeftPalm\\s52_2_L_S2.jpg\n",
      "✅ Moved s52_3_L_S2.jpg → C:\\Users\\hp\\Documents\\dataset\\PalmDataset\\Palm\\Train\\LeftPalm\\s52_3_L_S2.jpg\n",
      "✅ Moved s52_3_R_S2.jpg → C:\\Users\\hp\\Documents\\dataset\\PalmDataset\\Palm\\Train\\RightPalm\\s52_3_R_S2.jpg\n",
      "✅ Moved s52_4_L_S2.jpg → C:\\Users\\hp\\Documents\\dataset\\PalmDataset\\Palm\\Train\\LeftPalm\\s52_4_L_S2.jpg\n",
      "✅ Moved s52_4_R_S2.jpg → C:\\Users\\hp\\Documents\\dataset\\PalmDataset\\Palm\\Train\\RightPalm\\s52_4_R_S2.jpg\n",
      "✅ Moved s52_5_L_S2.jpg → C:\\Users\\hp\\Documents\\dataset\\PalmDataset\\Palm\\Train\\LeftPalm\\s52_5_L_S2.jpg\n",
      "✅ Moved s52_5_R_S2.jpg → C:\\Users\\hp\\Documents\\dataset\\PalmDataset\\Palm\\Train\\LeftPalm\\s52_5_R_S2.jpg\n",
      "✅ Moved s52_6_L_S2.jpg → C:\\Users\\hp\\Documents\\dataset\\PalmDataset\\Palm\\Train\\RightPalm\\s52_6_L_S2.jpg\n",
      "✅ Moved s52_6_R_S2.jpg → C:\\Users\\hp\\Documents\\dataset\\PalmDataset\\Palm\\Train\\RightPalm\\s52_6_R_S2.jpg\n",
      "✅ Moved s52_7_L_S2.jpg → C:\\Users\\hp\\Documents\\dataset\\PalmDataset\\Palm\\Train\\RightPalm\\s52_7_L_S2.jpg\n",
      "✅ Moved s52_7_R_S2.jpg → C:\\Users\\hp\\Documents\\dataset\\PalmDataset\\Palm\\Train\\LeftPalm\\s52_7_R_S2.jpg\n",
      "✅ Moved s52_8_L_S2.jpg → C:\\Users\\hp\\Documents\\dataset\\PalmDataset\\Palm\\Train\\RightPalm\\s52_8_L_S2.jpg\n",
      "✅ Moved s52_8_R_S2.jpg → C:\\Users\\hp\\Documents\\dataset\\PalmDataset\\Palm\\Train\\RightPalm\\s52_8_R_S2.jpg\n",
      "✅ Moved s52_9_L_S2.jpg → C:\\Users\\hp\\Documents\\dataset\\PalmDataset\\Palm\\Train\\RightPalm\\s52_9_L_S2.jpg\n",
      "✅ Moved s52_9_R_S2.jpg → C:\\Users\\hp\\Documents\\dataset\\PalmDataset\\Palm\\Train\\RightPalm\\s52_9_R_S2.jpg\n",
      "✅ Moved s53_10_L_S2.jpg → C:\\Users\\hp\\Documents\\dataset\\PalmDataset\\Palm\\Train\\LeftPalm\\s53_10_L_S2.jpg\n",
      "✅ Moved s53_10_R_S2.jpg → C:\\Users\\hp\\Documents\\dataset\\PalmDataset\\Palm\\Train\\RightPalm\\s53_10_R_S2.jpg\n",
      "✅ Moved s53_1_L_S2.jpg → C:\\Users\\hp\\Documents\\dataset\\PalmDataset\\Palm\\Train\\LeftPalm\\s53_1_L_S2.jpg\n",
      "✅ Moved s53_2_L_S2.jpg → C:\\Users\\hp\\Documents\\dataset\\PalmDataset\\Palm\\Train\\RightPalm\\s53_2_L_S2.jpg\n",
      "✅ Moved s53_2_R_S2.jpg → C:\\Users\\hp\\Documents\\dataset\\PalmDataset\\Palm\\Train\\LeftPalm\\s53_2_R_S2.jpg\n",
      "✅ Moved s53_4_L_S2.jpg → C:\\Users\\hp\\Documents\\dataset\\PalmDataset\\Palm\\Train\\LeftPalm\\s53_4_L_S2.jpg\n",
      "✅ Moved s53_4_R_S2.jpg → C:\\Users\\hp\\Documents\\dataset\\PalmDataset\\Palm\\Train\\LeftPalm\\s53_4_R_S2.jpg\n",
      "✅ Moved s53_5_R_S2.jpg → C:\\Users\\hp\\Documents\\dataset\\PalmDataset\\Palm\\Train\\RightPalm\\s53_5_R_S2.jpg\n",
      "✅ Moved s53_6_L_S2.jpg → C:\\Users\\hp\\Documents\\dataset\\PalmDataset\\Palm\\Train\\RightPalm\\s53_6_L_S2.jpg\n",
      "✅ Moved s53_7_R_S2.jpg → C:\\Users\\hp\\Documents\\dataset\\PalmDataset\\Palm\\Train\\LeftPalm\\s53_7_R_S2.jpg\n",
      "✅ Moved s53_8_L_S2.jpg → C:\\Users\\hp\\Documents\\dataset\\PalmDataset\\Palm\\Train\\RightPalm\\s53_8_L_S2.jpg\n",
      "✅ Moved s53_8_R_S2.jpg → C:\\Users\\hp\\Documents\\dataset\\PalmDataset\\Palm\\Train\\RightPalm\\s53_8_R_S2.jpg\n",
      "✅ Moved s53_9_R_S2.jpg → C:\\Users\\hp\\Documents\\dataset\\PalmDataset\\Palm\\Train\\RightPalm\\s53_9_R_S2.jpg\n",
      "✅ Moved s54_10_L_S2.jpg → C:\\Users\\hp\\Documents\\dataset\\PalmDataset\\Palm\\Train\\RightPalm\\s54_10_L_S2.jpg\n",
      "✅ Moved s54_1_L_S2.jpg → C:\\Users\\hp\\Documents\\dataset\\PalmDataset\\Palm\\Train\\LeftPalm\\s54_1_L_S2.jpg\n",
      "✅ Moved s54_1_R_S2.jpg → C:\\Users\\hp\\Documents\\dataset\\PalmDataset\\Palm\\Train\\LeftPalm\\s54_1_R_S2.jpg\n",
      "✅ Moved s54_2_L_S2.jpg → C:\\Users\\hp\\Documents\\dataset\\PalmDataset\\Palm\\Train\\LeftPalm\\s54_2_L_S2.jpg\n",
      "✅ Moved s54_2_R_S2.jpg → C:\\Users\\hp\\Documents\\dataset\\PalmDataset\\Palm\\Train\\LeftPalm\\s54_2_R_S2.jpg\n",
      "✅ Moved s54_3_L_S2.jpg → C:\\Users\\hp\\Documents\\dataset\\PalmDataset\\Palm\\Train\\RightPalm\\s54_3_L_S2.jpg\n",
      "✅ Moved s54_3_R_S2.jpg → C:\\Users\\hp\\Documents\\dataset\\PalmDataset\\Palm\\Train\\RightPalm\\s54_3_R_S2.jpg\n",
      "✅ Moved s54_4_L_S2.jpg → C:\\Users\\hp\\Documents\\dataset\\PalmDataset\\Palm\\Train\\LeftPalm\\s54_4_L_S2.jpg\n",
      "✅ Moved s54_4_R_S2.jpg → C:\\Users\\hp\\Documents\\dataset\\PalmDataset\\Palm\\Train\\RightPalm\\s54_4_R_S2.jpg\n",
      "✅ Moved s54_5_R_S2.jpg → C:\\Users\\hp\\Documents\\dataset\\PalmDataset\\Palm\\Train\\RightPalm\\s54_5_R_S2.jpg\n",
      "✅ Moved s54_6_L_S2.jpg → C:\\Users\\hp\\Documents\\dataset\\PalmDataset\\Palm\\Train\\RightPalm\\s54_6_L_S2.jpg\n",
      "✅ Moved s54_6_R_S2.jpg → C:\\Users\\hp\\Documents\\dataset\\PalmDataset\\Palm\\Train\\LeftPalm\\s54_6_R_S2.jpg\n",
      "✅ Moved s54_7_L_S2.jpg → C:\\Users\\hp\\Documents\\dataset\\PalmDataset\\Palm\\Train\\RightPalm\\s54_7_L_S2.jpg\n",
      "✅ Moved s54_7_R_S2.jpg → C:\\Users\\hp\\Documents\\dataset\\PalmDataset\\Palm\\Train\\RightPalm\\s54_7_R_S2.jpg\n",
      "✅ Moved s54_8_L_S2.jpg → C:\\Users\\hp\\Documents\\dataset\\PalmDataset\\Palm\\Train\\LeftPalm\\s54_8_L_S2.jpg\n",
      "✅ Moved s54_8_R_S2.jpg → C:\\Users\\hp\\Documents\\dataset\\PalmDataset\\Palm\\Train\\RightPalm\\s54_8_R_S2.jpg\n",
      "✅ Moved s54_9_R_S2.jpg → C:\\Users\\hp\\Documents\\dataset\\PalmDataset\\Palm\\Train\\LeftPalm\\s54_9_R_S2.jpg\n",
      "✅ Moved s55_10_L_S2.jpg → C:\\Users\\hp\\Documents\\dataset\\PalmDataset\\Palm\\Train\\RightPalm\\s55_10_L_S2.jpg\n",
      "✅ Moved s55_10_R_S2.jpg → C:\\Users\\hp\\Documents\\dataset\\PalmDataset\\Palm\\Train\\LeftPalm\\s55_10_R_S2.jpg\n",
      "✅ Moved s55_1_L_S2.jpg → C:\\Users\\hp\\Documents\\dataset\\PalmDataset\\Palm\\Train\\RightPalm\\s55_1_L_S2.jpg\n",
      "✅ Moved s55_1_R_S2.jpg → C:\\Users\\hp\\Documents\\dataset\\PalmDataset\\Palm\\Train\\LeftPalm\\s55_1_R_S2.jpg\n",
      "✅ Moved s55_2_L_S2.jpg → C:\\Users\\hp\\Documents\\dataset\\PalmDataset\\Palm\\Train\\LeftPalm\\s55_2_L_S2.jpg\n",
      "✅ Moved s55_2_R_S2.jpg → C:\\Users\\hp\\Documents\\dataset\\PalmDataset\\Palm\\Train\\LeftPalm\\s55_2_R_S2.jpg\n",
      "✅ Moved s55_4_L_S2.jpg → C:\\Users\\hp\\Documents\\dataset\\PalmDataset\\Palm\\Train\\RightPalm\\s55_4_L_S2.jpg\n",
      "✅ Moved s55_4_R_S2.jpg → C:\\Users\\hp\\Documents\\dataset\\PalmDataset\\Palm\\Train\\RightPalm\\s55_4_R_S2.jpg\n",
      "✅ Moved s55_5_L_S2.jpg → C:\\Users\\hp\\Documents\\dataset\\PalmDataset\\Palm\\Train\\RightPalm\\s55_5_L_S2.jpg\n",
      "✅ Moved s55_5_R_S2.jpg → C:\\Users\\hp\\Documents\\dataset\\PalmDataset\\Palm\\Train\\RightPalm\\s55_5_R_S2.jpg\n",
      "✅ Moved s55_6_L_S2.jpg → C:\\Users\\hp\\Documents\\dataset\\PalmDataset\\Palm\\Train\\RightPalm\\s55_6_L_S2.jpg\n",
      "✅ Moved s55_6_R_S2.jpg → C:\\Users\\hp\\Documents\\dataset\\PalmDataset\\Palm\\Train\\RightPalm\\s55_6_R_S2.jpg\n",
      "✅ Moved s55_7_L_S2.jpg → C:\\Users\\hp\\Documents\\dataset\\PalmDataset\\Palm\\Train\\RightPalm\\s55_7_L_S2.jpg\n",
      "✅ Moved s55_7_R_S2.jpg → C:\\Users\\hp\\Documents\\dataset\\PalmDataset\\Palm\\Train\\RightPalm\\s55_7_R_S2.jpg\n",
      "✅ Moved s55_9_L_S2.jpg → C:\\Users\\hp\\Documents\\dataset\\PalmDataset\\Palm\\Train\\RightPalm\\s55_9_L_S2.jpg\n",
      "✅ Moved s55_9_R_S2.jpg → C:\\Users\\hp\\Documents\\dataset\\PalmDataset\\Palm\\Train\\RightPalm\\s55_9_R_S2.jpg\n",
      "✅ Moved s56_10_L_S2.jpg → C:\\Users\\hp\\Documents\\dataset\\PalmDataset\\Palm\\Train\\RightPalm\\s56_10_L_S2.jpg\n",
      "✅ Moved s56_10_R_S2.jpg → C:\\Users\\hp\\Documents\\dataset\\PalmDataset\\Palm\\Train\\RightPalm\\s56_10_R_S2.jpg\n",
      "✅ Moved s56_1_R_S2.jpg → C:\\Users\\hp\\Documents\\dataset\\PalmDataset\\Palm\\Train\\LeftPalm\\s56_1_R_S2.jpg\n",
      "✅ Moved s56_2_R_S2.jpg → C:\\Users\\hp\\Documents\\dataset\\PalmDataset\\Palm\\Train\\RightPalm\\s56_2_R_S2.jpg\n",
      "✅ Moved s56_3_R_S2.jpg → C:\\Users\\hp\\Documents\\dataset\\PalmDataset\\Palm\\Train\\LeftPalm\\s56_3_R_S2.jpg\n",
      "✅ Moved s56_4_L_S2.jpg → C:\\Users\\hp\\Documents\\dataset\\PalmDataset\\Palm\\Train\\RightPalm\\s56_4_L_S2.jpg\n",
      "✅ Moved s56_4_R_S2.jpg → C:\\Users\\hp\\Documents\\dataset\\PalmDataset\\Palm\\Train\\LeftPalm\\s56_4_R_S2.jpg\n",
      "✅ Moved s56_5_L_S2.jpg → C:\\Users\\hp\\Documents\\dataset\\PalmDataset\\Palm\\Train\\RightPalm\\s56_5_L_S2.jpg\n",
      "✅ Moved s56_6_L_S2.jpg → C:\\Users\\hp\\Documents\\dataset\\PalmDataset\\Palm\\Train\\LeftPalm\\s56_6_L_S2.jpg\n",
      "✅ Moved s56_6_R_S2.jpg → C:\\Users\\hp\\Documents\\dataset\\PalmDataset\\Palm\\Train\\RightPalm\\s56_6_R_S2.jpg\n",
      "✅ Moved s56_7_L_S2.jpg → C:\\Users\\hp\\Documents\\dataset\\PalmDataset\\Palm\\Train\\RightPalm\\s56_7_L_S2.jpg\n",
      "✅ Moved s56_8_L_S2.jpg → C:\\Users\\hp\\Documents\\dataset\\PalmDataset\\Palm\\Train\\RightPalm\\s56_8_L_S2.jpg\n",
      "✅ Moved s56_8_R_S2.jpg → C:\\Users\\hp\\Documents\\dataset\\PalmDataset\\Palm\\Train\\LeftPalm\\s56_8_R_S2.jpg\n",
      "✅ Moved s56_9_L_S2.jpg → C:\\Users\\hp\\Documents\\dataset\\PalmDataset\\Palm\\Train\\LeftPalm\\s56_9_L_S2.jpg\n",
      "✅ Moved s57_10_L_S2.jpg → C:\\Users\\hp\\Documents\\dataset\\PalmDataset\\Palm\\Train\\RightPalm\\s57_10_L_S2.jpg\n",
      "✅ Moved s57_10_R_S2.jpg → C:\\Users\\hp\\Documents\\dataset\\PalmDataset\\Palm\\Train\\RightPalm\\s57_10_R_S2.jpg\n",
      "✅ Moved s57_1_L_S2.jpg → C:\\Users\\hp\\Documents\\dataset\\PalmDataset\\Palm\\Train\\RightPalm\\s57_1_L_S2.jpg\n",
      "✅ Moved s57_1_R_S2.jpg → C:\\Users\\hp\\Documents\\dataset\\PalmDataset\\Palm\\Train\\LeftPalm\\s57_1_R_S2.jpg\n",
      "✅ Moved s57_2_L_S2.jpg → C:\\Users\\hp\\Documents\\dataset\\PalmDataset\\Palm\\Train\\LeftPalm\\s57_2_L_S2.jpg\n",
      "✅ Moved s57_2_R_S2.jpg → C:\\Users\\hp\\Documents\\dataset\\PalmDataset\\Palm\\Train\\RightPalm\\s57_2_R_S2.jpg\n",
      "✅ Moved s57_3_L_S2.jpg → C:\\Users\\hp\\Documents\\dataset\\PalmDataset\\Palm\\Train\\LeftPalm\\s57_3_L_S2.jpg\n",
      "✅ Moved s57_3_R_S2.jpg → C:\\Users\\hp\\Documents\\dataset\\PalmDataset\\Palm\\Train\\LeftPalm\\s57_3_R_S2.jpg\n",
      "✅ Moved s57_4_L_S2.jpg → C:\\Users\\hp\\Documents\\dataset\\PalmDataset\\Palm\\Train\\LeftPalm\\s57_4_L_S2.jpg\n",
      "✅ Moved s57_4_R_S2.jpg → C:\\Users\\hp\\Documents\\dataset\\PalmDataset\\Palm\\Train\\RightPalm\\s57_4_R_S2.jpg\n",
      "✅ Moved s57_5_L_S2.jpg → C:\\Users\\hp\\Documents\\dataset\\PalmDataset\\Palm\\Train\\LeftPalm\\s57_5_L_S2.jpg\n",
      "✅ Moved s57_6_L_S2.jpg → C:\\Users\\hp\\Documents\\dataset\\PalmDataset\\Palm\\Train\\RightPalm\\s57_6_L_S2.jpg\n",
      "✅ Moved s57_6_R_S2.jpg → C:\\Users\\hp\\Documents\\dataset\\PalmDataset\\Palm\\Train\\RightPalm\\s57_6_R_S2.jpg\n",
      "✅ Moved s57_7_R_S2.jpg → C:\\Users\\hp\\Documents\\dataset\\PalmDataset\\Palm\\Train\\LeftPalm\\s57_7_R_S2.jpg\n",
      "✅ Moved s57_8_L_S2.jpg → C:\\Users\\hp\\Documents\\dataset\\PalmDataset\\Palm\\Train\\LeftPalm\\s57_8_L_S2.jpg\n",
      "✅ Moved s57_8_R_S2.jpg → C:\\Users\\hp\\Documents\\dataset\\PalmDataset\\Palm\\Train\\RightPalm\\s57_8_R_S2.jpg\n",
      "✅ Moved s57_9_R_S2.jpg → C:\\Users\\hp\\Documents\\dataset\\PalmDataset\\Palm\\Train\\LeftPalm\\s57_9_R_S2.jpg\n",
      "✅ Moved s58_10_L_S2.jpg → C:\\Users\\hp\\Documents\\dataset\\PalmDataset\\Palm\\Train\\LeftPalm\\s58_10_L_S2.jpg\n",
      "✅ Moved s58_1_L_S2.jpg → C:\\Users\\hp\\Documents\\dataset\\PalmDataset\\Palm\\Train\\LeftPalm\\s58_1_L_S2.jpg\n",
      "✅ Moved s58_1_R_S2.jpg → C:\\Users\\hp\\Documents\\dataset\\PalmDataset\\Palm\\Train\\LeftPalm\\s58_1_R_S2.jpg\n",
      "✅ Moved s58_2_L_S2.jpg → C:\\Users\\hp\\Documents\\dataset\\PalmDataset\\Palm\\Train\\LeftPalm\\s58_2_L_S2.jpg\n",
      "✅ Moved s58_2_R_S2.jpg → C:\\Users\\hp\\Documents\\dataset\\PalmDataset\\Palm\\Train\\LeftPalm\\s58_2_R_S2.jpg\n",
      "✅ Moved s58_3_L_S2.jpg → C:\\Users\\hp\\Documents\\dataset\\PalmDataset\\Palm\\Train\\RightPalm\\s58_3_L_S2.jpg\n",
      "✅ Moved s58_3_R_S2.jpg → C:\\Users\\hp\\Documents\\dataset\\PalmDataset\\Palm\\Train\\LeftPalm\\s58_3_R_S2.jpg\n",
      "✅ Moved s58_4_L_S2.jpg → C:\\Users\\hp\\Documents\\dataset\\PalmDataset\\Palm\\Train\\LeftPalm\\s58_4_L_S2.jpg\n",
      "✅ Moved s58_4_R_S2.jpg → C:\\Users\\hp\\Documents\\dataset\\PalmDataset\\Palm\\Train\\LeftPalm\\s58_4_R_S2.jpg\n",
      "✅ Moved s58_5_L_S2.jpg → C:\\Users\\hp\\Documents\\dataset\\PalmDataset\\Palm\\Train\\RightPalm\\s58_5_L_S2.jpg\n",
      "✅ Moved s58_5_R_S2.jpg → C:\\Users\\hp\\Documents\\dataset\\PalmDataset\\Palm\\Train\\RightPalm\\s58_5_R_S2.jpg\n",
      "✅ Moved s58_6_L_S2.jpg → C:\\Users\\hp\\Documents\\dataset\\PalmDataset\\Palm\\Train\\RightPalm\\s58_6_L_S2.jpg\n",
      "✅ Moved s58_6_R_S2.jpg → C:\\Users\\hp\\Documents\\dataset\\PalmDataset\\Palm\\Train\\LeftPalm\\s58_6_R_S2.jpg\n",
      "✅ Moved s58_7_L_S2.jpg → C:\\Users\\hp\\Documents\\dataset\\PalmDataset\\Palm\\Train\\RightPalm\\s58_7_L_S2.jpg\n",
      "✅ Moved s58_8_R_S2.jpg → C:\\Users\\hp\\Documents\\dataset\\PalmDataset\\Palm\\Train\\LeftPalm\\s58_8_R_S2.jpg\n",
      "✅ Moved s58_9_L_S2.jpg → C:\\Users\\hp\\Documents\\dataset\\PalmDataset\\Palm\\Train\\LeftPalm\\s58_9_L_S2.jpg\n",
      "✅ Moved s58_9_R_S2.jpg → C:\\Users\\hp\\Documents\\dataset\\PalmDataset\\Palm\\Train\\LeftPalm\\s58_9_R_S2.jpg\n",
      "✅ Moved s59_10_L_S2.jpg → C:\\Users\\hp\\Documents\\dataset\\PalmDataset\\Palm\\Train\\LeftPalm\\s59_10_L_S2.jpg\n",
      "✅ Moved s59_10_R_S2.jpg → C:\\Users\\hp\\Documents\\dataset\\PalmDataset\\Palm\\Train\\RightPalm\\s59_10_R_S2.jpg\n",
      "✅ Moved s59_1_L_S2.jpg → C:\\Users\\hp\\Documents\\dataset\\PalmDataset\\Palm\\Train\\LeftPalm\\s59_1_L_S2.jpg\n",
      "✅ Moved s59_1_R_S2.jpg → C:\\Users\\hp\\Documents\\dataset\\PalmDataset\\Palm\\Train\\RightPalm\\s59_1_R_S2.jpg\n",
      "✅ Moved s59_2_L_S2.jpg → C:\\Users\\hp\\Documents\\dataset\\PalmDataset\\Palm\\Train\\RightPalm\\s59_2_L_S2.jpg\n",
      "✅ Moved s59_2_R_S2.jpg → C:\\Users\\hp\\Documents\\dataset\\PalmDataset\\Palm\\Train\\RightPalm\\s59_2_R_S2.jpg\n",
      "✅ Moved s59_3_R_S2.jpg → C:\\Users\\hp\\Documents\\dataset\\PalmDataset\\Palm\\Train\\LeftPalm\\s59_3_R_S2.jpg\n",
      "✅ Moved s59_4_L_S2.jpg → C:\\Users\\hp\\Documents\\dataset\\PalmDataset\\Palm\\Train\\RightPalm\\s59_4_L_S2.jpg\n",
      "✅ Moved s59_5_L_S2.jpg → C:\\Users\\hp\\Documents\\dataset\\PalmDataset\\Palm\\Train\\RightPalm\\s59_5_L_S2.jpg\n",
      "✅ Moved s59_6_L_S2.jpg → C:\\Users\\hp\\Documents\\dataset\\PalmDataset\\Palm\\Train\\RightPalm\\s59_6_L_S2.jpg\n",
      "✅ Moved s59_6_R_S2.jpg → C:\\Users\\hp\\Documents\\dataset\\PalmDataset\\Palm\\Train\\LeftPalm\\s59_6_R_S2.jpg\n",
      "✅ Moved s59_7_L_S2.jpg → C:\\Users\\hp\\Documents\\dataset\\PalmDataset\\Palm\\Train\\LeftPalm\\s59_7_L_S2.jpg\n",
      "✅ Moved s59_7_R_S2.jpg → C:\\Users\\hp\\Documents\\dataset\\PalmDataset\\Palm\\Train\\RightPalm\\s59_7_R_S2.jpg\n",
      "✅ Moved s59_8_L_S2.jpg → C:\\Users\\hp\\Documents\\dataset\\PalmDataset\\Palm\\Train\\LeftPalm\\s59_8_L_S2.jpg\n",
      "✅ Moved s59_8_R_S2.jpg → C:\\Users\\hp\\Documents\\dataset\\PalmDataset\\Palm\\Train\\LeftPalm\\s59_8_R_S2.jpg\n",
      "✅ Moved s59_9_L_S2.jpg → C:\\Users\\hp\\Documents\\dataset\\PalmDataset\\Palm\\Train\\RightPalm\\s59_9_L_S2.jpg\n",
      "✅ Moved s59_9_R_S2.jpg → C:\\Users\\hp\\Documents\\dataset\\PalmDataset\\Palm\\Train\\RightPalm\\s59_9_R_S2.jpg\n",
      "✅ Moved s5_10_L_S2.jpg → C:\\Users\\hp\\Documents\\dataset\\PalmDataset\\Palm\\Train\\RightPalm\\s5_10_L_S2.jpg\n",
      "✅ Moved s5_10_R_S2.jpg → C:\\Users\\hp\\Documents\\dataset\\PalmDataset\\Palm\\Train\\LeftPalm\\s5_10_R_S2.jpg\n",
      "✅ Moved s5_1_L_S2.jpg → C:\\Users\\hp\\Documents\\dataset\\PalmDataset\\Palm\\Train\\RightPalm\\s5_1_L_S2.jpg\n",
      "✅ Moved s5_2_L_S2.jpg → C:\\Users\\hp\\Documents\\dataset\\PalmDataset\\Palm\\Train\\LeftPalm\\s5_2_L_S2.jpg\n",
      "✅ Moved s5_2_R_S2.jpg → C:\\Users\\hp\\Documents\\dataset\\PalmDataset\\Palm\\Train\\RightPalm\\s5_2_R_S2.jpg\n",
      "✅ Moved s5_3_L_S2.jpg → C:\\Users\\hp\\Documents\\dataset\\PalmDataset\\Palm\\Train\\LeftPalm\\s5_3_L_S2.jpg\n",
      "✅ Moved s5_4_L_S2.jpg → C:\\Users\\hp\\Documents\\dataset\\PalmDataset\\Palm\\Train\\RightPalm\\s5_4_L_S2.jpg\n",
      "✅ Moved s5_4_R_S2.jpg → C:\\Users\\hp\\Documents\\dataset\\PalmDataset\\Palm\\Train\\RightPalm\\s5_4_R_S2.jpg\n",
      "✅ Moved s5_5_L_S2.jpg → C:\\Users\\hp\\Documents\\dataset\\PalmDataset\\Palm\\Train\\LeftPalm\\s5_5_L_S2.jpg\n",
      "✅ Moved s5_6_R_S2.jpg → C:\\Users\\hp\\Documents\\dataset\\PalmDataset\\Palm\\Train\\RightPalm\\s5_6_R_S2.jpg\n",
      "✅ Moved s5_7_L_S2.jpg → C:\\Users\\hp\\Documents\\dataset\\PalmDataset\\Palm\\Train\\RightPalm\\s5_7_L_S2.jpg\n",
      "✅ Moved s5_7_R_S2.jpg → C:\\Users\\hp\\Documents\\dataset\\PalmDataset\\Palm\\Train\\RightPalm\\s5_7_R_S2.jpg\n",
      "✅ Moved s5_8_L_S2.jpg → C:\\Users\\hp\\Documents\\dataset\\PalmDataset\\Palm\\Train\\RightPalm\\s5_8_L_S2.jpg\n",
      "✅ Moved s5_8_R_S2.jpg → C:\\Users\\hp\\Documents\\dataset\\PalmDataset\\Palm\\Train\\RightPalm\\s5_8_R_S2.jpg\n",
      "✅ Moved s5_9_L_S2.jpg → C:\\Users\\hp\\Documents\\dataset\\PalmDataset\\Palm\\Train\\LeftPalm\\s5_9_L_S2.jpg\n",
      "✅ Moved s5_9_R_S2.jpg → C:\\Users\\hp\\Documents\\dataset\\PalmDataset\\Palm\\Train\\RightPalm\\s5_9_R_S2.jpg\n",
      "✅ Moved s60_10_L_S2.jpg → C:\\Users\\hp\\Documents\\dataset\\PalmDataset\\Palm\\Train\\LeftPalm\\s60_10_L_S2.jpg\n",
      "✅ Moved s60_10_R_S2.jpg → C:\\Users\\hp\\Documents\\dataset\\PalmDataset\\Palm\\Train\\LeftPalm\\s60_10_R_S2.jpg\n",
      "✅ Moved s60_1_R_S2.jpg → C:\\Users\\hp\\Documents\\dataset\\PalmDataset\\Palm\\Train\\LeftPalm\\s60_1_R_S2.jpg\n",
      "✅ Moved s60_2_L_S2.jpg → C:\\Users\\hp\\Documents\\dataset\\PalmDataset\\Palm\\Train\\RightPalm\\s60_2_L_S2.jpg\n",
      "✅ Moved s60_2_R_S2.jpg → C:\\Users\\hp\\Documents\\dataset\\PalmDataset\\Palm\\Train\\RightPalm\\s60_2_R_S2.jpg\n",
      "✅ Moved s60_4_L_S2.jpg → C:\\Users\\hp\\Documents\\dataset\\PalmDataset\\Palm\\Train\\LeftPalm\\s60_4_L_S2.jpg\n",
      "✅ Moved s60_4_R_S2.jpg → C:\\Users\\hp\\Documents\\dataset\\PalmDataset\\Palm\\Train\\RightPalm\\s60_4_R_S2.jpg\n",
      "✅ Moved s60_5_L_S2.jpg → C:\\Users\\hp\\Documents\\dataset\\PalmDataset\\Palm\\Train\\RightPalm\\s60_5_L_S2.jpg\n",
      "✅ Moved s60_5_R_S2.jpg → C:\\Users\\hp\\Documents\\dataset\\PalmDataset\\Palm\\Train\\RightPalm\\s60_5_R_S2.jpg\n",
      "✅ Moved s60_6_R_S2.jpg → C:\\Users\\hp\\Documents\\dataset\\PalmDataset\\Palm\\Train\\RightPalm\\s60_6_R_S2.jpg\n",
      "✅ Moved s60_7_L_S2.jpg → C:\\Users\\hp\\Documents\\dataset\\PalmDataset\\Palm\\Train\\RightPalm\\s60_7_L_S2.jpg\n",
      "✅ Moved s60_7_R_S2.jpg → C:\\Users\\hp\\Documents\\dataset\\PalmDataset\\Palm\\Train\\LeftPalm\\s60_7_R_S2.jpg\n",
      "✅ Moved s60_8_L_S2.jpg → C:\\Users\\hp\\Documents\\dataset\\PalmDataset\\Palm\\Train\\RightPalm\\s60_8_L_S2.jpg\n",
      "✅ Moved s60_8_R_S2.jpg → C:\\Users\\hp\\Documents\\dataset\\PalmDataset\\Palm\\Train\\LeftPalm\\s60_8_R_S2.jpg\n",
      "✅ Moved s60_9_L_S2.jpg → C:\\Users\\hp\\Documents\\dataset\\PalmDataset\\Palm\\Train\\RightPalm\\s60_9_L_S2.jpg\n",
      "✅ Moved s60_9_R_S2.jpg → C:\\Users\\hp\\Documents\\dataset\\PalmDataset\\Palm\\Train\\RightPalm\\s60_9_R_S2.jpg\n",
      "✅ Moved s61_10_L_S2.jpg → C:\\Users\\hp\\Documents\\dataset\\PalmDataset\\Palm\\Train\\RightPalm\\s61_10_L_S2.jpg\n",
      "✅ Moved s61_10_R_S2.jpg → C:\\Users\\hp\\Documents\\dataset\\PalmDataset\\Palm\\Train\\LeftPalm\\s61_10_R_S2.jpg\n",
      "✅ Moved s61_1_R_S2.jpg → C:\\Users\\hp\\Documents\\dataset\\PalmDataset\\Palm\\Train\\RightPalm\\s61_1_R_S2.jpg\n",
      "✅ Moved s61_2_L_S2.jpg → C:\\Users\\hp\\Documents\\dataset\\PalmDataset\\Palm\\Train\\LeftPalm\\s61_2_L_S2.jpg\n",
      "✅ Moved s61_2_R_S2.jpg → C:\\Users\\hp\\Documents\\dataset\\PalmDataset\\Palm\\Train\\RightPalm\\s61_2_R_S2.jpg\n",
      "✅ Moved s61_3_R_S2.jpg → C:\\Users\\hp\\Documents\\dataset\\PalmDataset\\Palm\\Train\\RightPalm\\s61_3_R_S2.jpg\n",
      "✅ Moved s61_4_R_S2.jpg → C:\\Users\\hp\\Documents\\dataset\\PalmDataset\\Palm\\Train\\RightPalm\\s61_4_R_S2.jpg\n",
      "✅ Moved s61_5_L_S2.jpg → C:\\Users\\hp\\Documents\\dataset\\PalmDataset\\Palm\\Train\\RightPalm\\s61_5_L_S2.jpg\n",
      "✅ Moved s61_5_R_S2.jpg → C:\\Users\\hp\\Documents\\dataset\\PalmDataset\\Palm\\Train\\LeftPalm\\s61_5_R_S2.jpg\n",
      "✅ Moved s61_6_L_S2.jpg → C:\\Users\\hp\\Documents\\dataset\\PalmDataset\\Palm\\Train\\RightPalm\\s61_6_L_S2.jpg\n",
      "✅ Moved s61_7_L_S2.jpg → C:\\Users\\hp\\Documents\\dataset\\PalmDataset\\Palm\\Train\\RightPalm\\s61_7_L_S2.jpg\n",
      "✅ Moved s61_7_R_S2.jpg → C:\\Users\\hp\\Documents\\dataset\\PalmDataset\\Palm\\Train\\RightPalm\\s61_7_R_S2.jpg\n",
      "✅ Moved s61_8_L_S2.jpg → C:\\Users\\hp\\Documents\\dataset\\PalmDataset\\Palm\\Train\\LeftPalm\\s61_8_L_S2.jpg\n",
      "✅ Moved s61_8_R_S2.jpg → C:\\Users\\hp\\Documents\\dataset\\PalmDataset\\Palm\\Train\\RightPalm\\s61_8_R_S2.jpg\n",
      "✅ Moved s61_9_R_S2.jpg → C:\\Users\\hp\\Documents\\dataset\\PalmDataset\\Palm\\Train\\LeftPalm\\s61_9_R_S2.jpg\n",
      "✅ Moved s62_10_L_S2.jpg → C:\\Users\\hp\\Documents\\dataset\\PalmDataset\\Palm\\Train\\LeftPalm\\s62_10_L_S2.jpg\n",
      "✅ Moved s62_10_R_S2.jpg → C:\\Users\\hp\\Documents\\dataset\\PalmDataset\\Palm\\Train\\RightPalm\\s62_10_R_S2.jpg\n",
      "✅ Moved s62_1_L_S2.jpg → C:\\Users\\hp\\Documents\\dataset\\PalmDataset\\Palm\\Train\\RightPalm\\s62_1_L_S2.jpg\n",
      "✅ Moved s62_1_R_S2.jpg → C:\\Users\\hp\\Documents\\dataset\\PalmDataset\\Palm\\Train\\RightPalm\\s62_1_R_S2.jpg\n",
      "✅ Moved s62_2_R_S2.jpg → C:\\Users\\hp\\Documents\\dataset\\PalmDataset\\Palm\\Train\\LeftPalm\\s62_2_R_S2.jpg\n",
      "✅ Moved s62_3_L_S2.jpg → C:\\Users\\hp\\Documents\\dataset\\PalmDataset\\Palm\\Train\\RightPalm\\s62_3_L_S2.jpg\n",
      "✅ Moved s62_3_R_S2.jpg → C:\\Users\\hp\\Documents\\dataset\\PalmDataset\\Palm\\Train\\RightPalm\\s62_3_R_S2.jpg\n",
      "✅ Moved s62_4_L_S2.jpg → C:\\Users\\hp\\Documents\\dataset\\PalmDataset\\Palm\\Train\\LeftPalm\\s62_4_L_S2.jpg\n",
      "✅ Moved s62_4_R_S2.jpg → C:\\Users\\hp\\Documents\\dataset\\PalmDataset\\Palm\\Train\\LeftPalm\\s62_4_R_S2.jpg\n",
      "✅ Moved s62_5_L_S2.jpg → C:\\Users\\hp\\Documents\\dataset\\PalmDataset\\Palm\\Train\\RightPalm\\s62_5_L_S2.jpg\n",
      "✅ Moved s62_6_L_S2.jpg → C:\\Users\\hp\\Documents\\dataset\\PalmDataset\\Palm\\Train\\LeftPalm\\s62_6_L_S2.jpg\n",
      "✅ Moved s62_6_R_S2.jpg → C:\\Users\\hp\\Documents\\dataset\\PalmDataset\\Palm\\Train\\RightPalm\\s62_6_R_S2.jpg\n",
      "✅ Moved s62_7_L_S2.jpg → C:\\Users\\hp\\Documents\\dataset\\PalmDataset\\Palm\\Train\\RightPalm\\s62_7_L_S2.jpg\n",
      "✅ Moved s62_8_R_S2.jpg → C:\\Users\\hp\\Documents\\dataset\\PalmDataset\\Palm\\Train\\RightPalm\\s62_8_R_S2.jpg\n",
      "✅ Moved s62_9_L_S2.jpg → C:\\Users\\hp\\Documents\\dataset\\PalmDataset\\Palm\\Train\\LeftPalm\\s62_9_L_S2.jpg\n",
      "✅ Moved s62_9_R_S2.jpg → C:\\Users\\hp\\Documents\\dataset\\PalmDataset\\Palm\\Train\\LeftPalm\\s62_9_R_S2.jpg\n",
      "✅ Moved s63_10_L_S2.jpg → C:\\Users\\hp\\Documents\\dataset\\PalmDataset\\Palm\\Train\\RightPalm\\s63_10_L_S2.jpg\n",
      "✅ Moved s63_1_L_S2.jpg → C:\\Users\\hp\\Documents\\dataset\\PalmDataset\\Palm\\Train\\RightPalm\\s63_1_L_S2.jpg\n",
      "✅ Moved s63_1_R_S2.jpg → C:\\Users\\hp\\Documents\\dataset\\PalmDataset\\Palm\\Train\\RightPalm\\s63_1_R_S2.jpg\n",
      "✅ Moved s63_2_R_S2.jpg → C:\\Users\\hp\\Documents\\dataset\\PalmDataset\\Palm\\Train\\RightPalm\\s63_2_R_S2.jpg\n",
      "✅ Moved s63_3_R_S2.jpg → C:\\Users\\hp\\Documents\\dataset\\PalmDataset\\Palm\\Train\\LeftPalm\\s63_3_R_S2.jpg\n",
      "✅ Moved s63_4_L_S2.jpg → C:\\Users\\hp\\Documents\\dataset\\PalmDataset\\Palm\\Train\\LeftPalm\\s63_4_L_S2.jpg\n",
      "✅ Moved s63_4_R_S2.jpg → C:\\Users\\hp\\Documents\\dataset\\PalmDataset\\Palm\\Train\\RightPalm\\s63_4_R_S2.jpg\n",
      "✅ Moved s63_5_L_S2.jpg → C:\\Users\\hp\\Documents\\dataset\\PalmDataset\\Palm\\Train\\RightPalm\\s63_5_L_S2.jpg\n",
      "✅ Moved s63_5_R_S2.jpg → C:\\Users\\hp\\Documents\\dataset\\PalmDataset\\Palm\\Train\\LeftPalm\\s63_5_R_S2.jpg\n",
      "✅ Moved s63_6_L_S2.jpg → C:\\Users\\hp\\Documents\\dataset\\PalmDataset\\Palm\\Train\\LeftPalm\\s63_6_L_S2.jpg\n",
      "✅ Moved s63_6_R_S2.jpg → C:\\Users\\hp\\Documents\\dataset\\PalmDataset\\Palm\\Train\\LeftPalm\\s63_6_R_S2.jpg\n",
      "✅ Moved s63_7_L_S2.jpg → C:\\Users\\hp\\Documents\\dataset\\PalmDataset\\Palm\\Train\\LeftPalm\\s63_7_L_S2.jpg\n",
      "✅ Moved s63_7_R_S2.jpg → C:\\Users\\hp\\Documents\\dataset\\PalmDataset\\Palm\\Train\\RightPalm\\s63_7_R_S2.jpg\n",
      "✅ Moved s63_8_L_S2.jpg → C:\\Users\\hp\\Documents\\dataset\\PalmDataset\\Palm\\Train\\RightPalm\\s63_8_L_S2.jpg\n",
      "✅ Moved s63_8_R_S2.jpg → C:\\Users\\hp\\Documents\\dataset\\PalmDataset\\Palm\\Train\\RightPalm\\s63_8_R_S2.jpg\n",
      "✅ Moved s63_9_L_S2.jpg → C:\\Users\\hp\\Documents\\dataset\\PalmDataset\\Palm\\Train\\LeftPalm\\s63_9_L_S2.jpg\n",
      "✅ Moved s63_9_R_S2.jpg → C:\\Users\\hp\\Documents\\dataset\\PalmDataset\\Palm\\Train\\LeftPalm\\s63_9_R_S2.jpg\n",
      "✅ Moved s64_10_L_S2.jpg → C:\\Users\\hp\\Documents\\dataset\\PalmDataset\\Palm\\Train\\LeftPalm\\s64_10_L_S2.jpg\n",
      "✅ Moved s64_10_R_S2.jpg → C:\\Users\\hp\\Documents\\dataset\\PalmDataset\\Palm\\Train\\RightPalm\\s64_10_R_S2.jpg\n",
      "✅ Moved s64_1_R_S2.jpg → C:\\Users\\hp\\Documents\\dataset\\PalmDataset\\Palm\\Train\\RightPalm\\s64_1_R_S2.jpg\n",
      "✅ Moved s64_2_L_S2.jpg → C:\\Users\\hp\\Documents\\dataset\\PalmDataset\\Palm\\Train\\RightPalm\\s64_2_L_S2.jpg\n",
      "✅ Moved s64_2_R_S2.jpg → C:\\Users\\hp\\Documents\\dataset\\PalmDataset\\Palm\\Train\\LeftPalm\\s64_2_R_S2.jpg\n",
      "✅ Moved s64_3_L_S2.jpg → C:\\Users\\hp\\Documents\\dataset\\PalmDataset\\Palm\\Train\\LeftPalm\\s64_3_L_S2.jpg\n",
      "✅ Moved s64_3_R_S2.jpg → C:\\Users\\hp\\Documents\\dataset\\PalmDataset\\Palm\\Train\\RightPalm\\s64_3_R_S2.jpg\n",
      "✅ Moved s64_4_L_S2.jpg → C:\\Users\\hp\\Documents\\dataset\\PalmDataset\\Palm\\Train\\LeftPalm\\s64_4_L_S2.jpg\n",
      "✅ Moved s64_5_L_S2.jpg → C:\\Users\\hp\\Documents\\dataset\\PalmDataset\\Palm\\Train\\RightPalm\\s64_5_L_S2.jpg\n",
      "✅ Moved s64_5_R_S2.jpg → C:\\Users\\hp\\Documents\\dataset\\PalmDataset\\Palm\\Train\\RightPalm\\s64_5_R_S2.jpg\n",
      "✅ Moved s64_6_R_S2.jpg → C:\\Users\\hp\\Documents\\dataset\\PalmDataset\\Palm\\Train\\RightPalm\\s64_6_R_S2.jpg\n",
      "✅ Moved s64_7_L_S2.jpg → C:\\Users\\hp\\Documents\\dataset\\PalmDataset\\Palm\\Train\\RightPalm\\s64_7_L_S2.jpg\n",
      "✅ Moved s64_8_L_S2.jpg → C:\\Users\\hp\\Documents\\dataset\\PalmDataset\\Palm\\Train\\RightPalm\\s64_8_L_S2.jpg\n",
      "✅ Moved s64_8_R_S2.jpg → C:\\Users\\hp\\Documents\\dataset\\PalmDataset\\Palm\\Train\\RightPalm\\s64_8_R_S2.jpg\n",
      "✅ Moved s64_9_L_S2.jpg → C:\\Users\\hp\\Documents\\dataset\\PalmDataset\\Palm\\Train\\RightPalm\\s64_9_L_S2.jpg\n",
      "✅ Moved s64_9_R_S2.jpg → C:\\Users\\hp\\Documents\\dataset\\PalmDataset\\Palm\\Train\\LeftPalm\\s64_9_R_S2.jpg\n",
      "✅ Moved s65_10_L_S2.jpg → C:\\Users\\hp\\Documents\\dataset\\PalmDataset\\Palm\\Train\\RightPalm\\s65_10_L_S2.jpg\n",
      "✅ Moved s65_10_R_S2.jpg → C:\\Users\\hp\\Documents\\dataset\\PalmDataset\\Palm\\Train\\RightPalm\\s65_10_R_S2.jpg\n",
      "✅ Moved s65_1_L_S2.jpg → C:\\Users\\hp\\Documents\\dataset\\PalmDataset\\Palm\\Train\\RightPalm\\s65_1_L_S2.jpg\n",
      "✅ Moved s65_2_L_S2.jpg → C:\\Users\\hp\\Documents\\dataset\\PalmDataset\\Palm\\Train\\RightPalm\\s65_2_L_S2.jpg\n",
      "✅ Moved s65_2_R_S2.jpg → C:\\Users\\hp\\Documents\\dataset\\PalmDataset\\Palm\\Train\\RightPalm\\s65_2_R_S2.jpg\n",
      "✅ Moved s65_3_L_S2.jpg → C:\\Users\\hp\\Documents\\dataset\\PalmDataset\\Palm\\Train\\RightPalm\\s65_3_L_S2.jpg\n",
      "✅ Moved s65_3_R_S2.jpg → C:\\Users\\hp\\Documents\\dataset\\PalmDataset\\Palm\\Train\\RightPalm\\s65_3_R_S2.jpg\n",
      "✅ Moved s65_4_L_S2.jpg → C:\\Users\\hp\\Documents\\dataset\\PalmDataset\\Palm\\Train\\RightPalm\\s65_4_L_S2.jpg\n",
      "✅ Moved s65_5_L_S2.jpg → C:\\Users\\hp\\Documents\\dataset\\PalmDataset\\Palm\\Train\\LeftPalm\\s65_5_L_S2.jpg\n",
      "✅ Moved s65_7_L_S2.jpg → C:\\Users\\hp\\Documents\\dataset\\PalmDataset\\Palm\\Train\\RightPalm\\s65_7_L_S2.jpg\n",
      "✅ Moved s65_7_R_S2.jpg → C:\\Users\\hp\\Documents\\dataset\\PalmDataset\\Palm\\Train\\LeftPalm\\s65_7_R_S2.jpg\n",
      "✅ Moved s65_8_L_S2.jpg → C:\\Users\\hp\\Documents\\dataset\\PalmDataset\\Palm\\Train\\LeftPalm\\s65_8_L_S2.jpg\n",
      "✅ Moved s65_8_R_S2.jpg → C:\\Users\\hp\\Documents\\dataset\\PalmDataset\\Palm\\Train\\LeftPalm\\s65_8_R_S2.jpg\n",
      "✅ Moved s65_9_L_S2.jpg → C:\\Users\\hp\\Documents\\dataset\\PalmDataset\\Palm\\Train\\LeftPalm\\s65_9_L_S2.jpg\n",
      "✅ Moved s65_9_R_S2.jpg → C:\\Users\\hp\\Documents\\dataset\\PalmDataset\\Palm\\Train\\RightPalm\\s65_9_R_S2.jpg\n",
      "✅ Moved s66_10_L_S2.jpg → C:\\Users\\hp\\Documents\\dataset\\PalmDataset\\Palm\\Train\\RightPalm\\s66_10_L_S2.jpg\n",
      "✅ Moved s66_1_L_S2.jpg → C:\\Users\\hp\\Documents\\dataset\\PalmDataset\\Palm\\Train\\LeftPalm\\s66_1_L_S2.jpg\n",
      "✅ Moved s66_1_R_S2.jpg → C:\\Users\\hp\\Documents\\dataset\\PalmDataset\\Palm\\Train\\RightPalm\\s66_1_R_S2.jpg\n",
      "✅ Moved s66_2_L_S2.jpg → C:\\Users\\hp\\Documents\\dataset\\PalmDataset\\Palm\\Train\\RightPalm\\s66_2_L_S2.jpg\n",
      "✅ Moved s66_2_R_S2.jpg → C:\\Users\\hp\\Documents\\dataset\\PalmDataset\\Palm\\Train\\LeftPalm\\s66_2_R_S2.jpg\n",
      "✅ Moved s66_3_L_S2.jpg → C:\\Users\\hp\\Documents\\dataset\\PalmDataset\\Palm\\Train\\LeftPalm\\s66_3_L_S2.jpg\n",
      "✅ Moved s66_3_R_S2.jpg → C:\\Users\\hp\\Documents\\dataset\\PalmDataset\\Palm\\Train\\LeftPalm\\s66_3_R_S2.jpg\n",
      "✅ Moved s66_4_L_S2.jpg → C:\\Users\\hp\\Documents\\dataset\\PalmDataset\\Palm\\Train\\LeftPalm\\s66_4_L_S2.jpg\n",
      "✅ Moved s66_4_R_S2.jpg → C:\\Users\\hp\\Documents\\dataset\\PalmDataset\\Palm\\Train\\LeftPalm\\s66_4_R_S2.jpg\n",
      "✅ Moved s66_5_L_S2.jpg → C:\\Users\\hp\\Documents\\dataset\\PalmDataset\\Palm\\Train\\LeftPalm\\s66_5_L_S2.jpg\n",
      "✅ Moved s66_5_R_S2.jpg → C:\\Users\\hp\\Documents\\dataset\\PalmDataset\\Palm\\Train\\RightPalm\\s66_5_R_S2.jpg\n",
      "✅ Moved s66_6_L_S2.jpg → C:\\Users\\hp\\Documents\\dataset\\PalmDataset\\Palm\\Train\\RightPalm\\s66_6_L_S2.jpg\n",
      "✅ Moved s66_6_R_S2.jpg → C:\\Users\\hp\\Documents\\dataset\\PalmDataset\\Palm\\Train\\RightPalm\\s66_6_R_S2.jpg\n",
      "✅ Moved s66_7_R_S2.jpg → C:\\Users\\hp\\Documents\\dataset\\PalmDataset\\Palm\\Train\\RightPalm\\s66_7_R_S2.jpg\n",
      "✅ Moved s66_8_L_S2.jpg → C:\\Users\\hp\\Documents\\dataset\\PalmDataset\\Palm\\Train\\LeftPalm\\s66_8_L_S2.jpg\n",
      "✅ Moved s66_8_R_S2.jpg → C:\\Users\\hp\\Documents\\dataset\\PalmDataset\\Palm\\Train\\RightPalm\\s66_8_R_S2.jpg\n",
      "✅ Moved s66_9_L_S2.jpg → C:\\Users\\hp\\Documents\\dataset\\PalmDataset\\Palm\\Train\\LeftPalm\\s66_9_L_S2.jpg\n",
      "✅ Moved s67_10_L_S2.jpg → C:\\Users\\hp\\Documents\\dataset\\PalmDataset\\Palm\\Train\\LeftPalm\\s67_10_L_S2.jpg\n",
      "✅ Moved s67_10_R_S2.jpg → C:\\Users\\hp\\Documents\\dataset\\PalmDataset\\Palm\\Train\\RightPalm\\s67_10_R_S2.jpg\n",
      "✅ Moved s67_1_L_S2.jpg → C:\\Users\\hp\\Documents\\dataset\\PalmDataset\\Palm\\Train\\RightPalm\\s67_1_L_S2.jpg\n",
      "✅ Moved s67_1_R_S2.jpg → C:\\Users\\hp\\Documents\\dataset\\PalmDataset\\Palm\\Train\\RightPalm\\s67_1_R_S2.jpg\n",
      "✅ Moved s67_2_L_S2.jpg → C:\\Users\\hp\\Documents\\dataset\\PalmDataset\\Palm\\Train\\RightPalm\\s67_2_L_S2.jpg\n",
      "✅ Moved s67_2_R_S2.jpg → C:\\Users\\hp\\Documents\\dataset\\PalmDataset\\Palm\\Train\\RightPalm\\s67_2_R_S2.jpg\n",
      "✅ Moved s67_3_L_S2.jpg → C:\\Users\\hp\\Documents\\dataset\\PalmDataset\\Palm\\Train\\RightPalm\\s67_3_L_S2.jpg\n",
      "✅ Moved s67_4_L_S2.jpg → C:\\Users\\hp\\Documents\\dataset\\PalmDataset\\Palm\\Train\\LeftPalm\\s67_4_L_S2.jpg\n",
      "✅ Moved s67_5_L_S2.jpg → C:\\Users\\hp\\Documents\\dataset\\PalmDataset\\Palm\\Train\\LeftPalm\\s67_5_L_S2.jpg\n",
      "✅ Moved s67_5_R_S2.jpg → C:\\Users\\hp\\Documents\\dataset\\PalmDataset\\Palm\\Train\\RightPalm\\s67_5_R_S2.jpg\n",
      "✅ Moved s67_6_L_S2.jpg → C:\\Users\\hp\\Documents\\dataset\\PalmDataset\\Palm\\Train\\RightPalm\\s67_6_L_S2.jpg\n",
      "✅ Moved s67_7_L_S2.jpg → C:\\Users\\hp\\Documents\\dataset\\PalmDataset\\Palm\\Train\\RightPalm\\s67_7_L_S2.jpg\n",
      "✅ Moved s67_7_R_S2.jpg → C:\\Users\\hp\\Documents\\dataset\\PalmDataset\\Palm\\Train\\LeftPalm\\s67_7_R_S2.jpg\n",
      "✅ Moved s67_8_L_S2.jpg → C:\\Users\\hp\\Documents\\dataset\\PalmDataset\\Palm\\Train\\LeftPalm\\s67_8_L_S2.jpg\n",
      "✅ Moved s67_8_R_S2.jpg → C:\\Users\\hp\\Documents\\dataset\\PalmDataset\\Palm\\Train\\RightPalm\\s67_8_R_S2.jpg\n",
      "✅ Moved s67_9_L_S2.jpg → C:\\Users\\hp\\Documents\\dataset\\PalmDataset\\Palm\\Train\\LeftPalm\\s67_9_L_S2.jpg\n",
      "✅ Moved s67_9_R_S2.jpg → C:\\Users\\hp\\Documents\\dataset\\PalmDataset\\Palm\\Train\\LeftPalm\\s67_9_R_S2.jpg\n",
      "✅ Moved s68_10_R_S2.jpg → C:\\Users\\hp\\Documents\\dataset\\PalmDataset\\Palm\\Train\\RightPalm\\s68_10_R_S2.jpg\n",
      "✅ Moved s68_1_L_S2.jpg → C:\\Users\\hp\\Documents\\dataset\\PalmDataset\\Palm\\Train\\RightPalm\\s68_1_L_S2.jpg\n",
      "✅ Moved s68_1_R_S2.jpg → C:\\Users\\hp\\Documents\\dataset\\PalmDataset\\Palm\\Train\\RightPalm\\s68_1_R_S2.jpg\n",
      "✅ Moved s68_3_L_S2.jpg → C:\\Users\\hp\\Documents\\dataset\\PalmDataset\\Palm\\Train\\LeftPalm\\s68_3_L_S2.jpg\n",
      "✅ Moved s68_3_R_S2.jpg → C:\\Users\\hp\\Documents\\dataset\\PalmDataset\\Palm\\Train\\LeftPalm\\s68_3_R_S2.jpg\n",
      "✅ Moved s68_4_L_S2.jpg → C:\\Users\\hp\\Documents\\dataset\\PalmDataset\\Palm\\Train\\LeftPalm\\s68_4_L_S2.jpg\n",
      "✅ Moved s68_4_R_S2.jpg → C:\\Users\\hp\\Documents\\dataset\\PalmDataset\\Palm\\Train\\LeftPalm\\s68_4_R_S2.jpg\n",
      "✅ Moved s68_5_L_S2.jpg → C:\\Users\\hp\\Documents\\dataset\\PalmDataset\\Palm\\Train\\RightPalm\\s68_5_L_S2.jpg\n",
      "✅ Moved s68_5_R_S2.jpg → C:\\Users\\hp\\Documents\\dataset\\PalmDataset\\Palm\\Train\\LeftPalm\\s68_5_R_S2.jpg\n",
      "✅ Moved s68_6_L_S2.jpg → C:\\Users\\hp\\Documents\\dataset\\PalmDataset\\Palm\\Train\\RightPalm\\s68_6_L_S2.jpg\n",
      "✅ Moved s68_6_R_S2.jpg → C:\\Users\\hp\\Documents\\dataset\\PalmDataset\\Palm\\Train\\LeftPalm\\s68_6_R_S2.jpg\n",
      "✅ Moved s68_7_L_S2.jpg → C:\\Users\\hp\\Documents\\dataset\\PalmDataset\\Palm\\Train\\RightPalm\\s68_7_L_S2.jpg\n",
      "✅ Moved s68_7_R_S2.jpg → C:\\Users\\hp\\Documents\\dataset\\PalmDataset\\Palm\\Train\\RightPalm\\s68_7_R_S2.jpg\n",
      "✅ Moved s68_8_L_S2.jpg → C:\\Users\\hp\\Documents\\dataset\\PalmDataset\\Palm\\Train\\RightPalm\\s68_8_L_S2.jpg\n",
      "✅ Moved s68_8_R_S2.jpg → C:\\Users\\hp\\Documents\\dataset\\PalmDataset\\Palm\\Train\\RightPalm\\s68_8_R_S2.jpg\n",
      "✅ Moved s68_9_L_S2.jpg → C:\\Users\\hp\\Documents\\dataset\\PalmDataset\\Palm\\Train\\LeftPalm\\s68_9_L_S2.jpg\n",
      "✅ Moved s68_9_R_S2.jpg → C:\\Users\\hp\\Documents\\dataset\\PalmDataset\\Palm\\Train\\LeftPalm\\s68_9_R_S2.jpg\n",
      "✅ Moved s69_10_L_S2.jpg → C:\\Users\\hp\\Documents\\dataset\\PalmDataset\\Palm\\Train\\RightPalm\\s69_10_L_S2.jpg\n",
      "✅ Moved s69_10_R_S2.jpg → C:\\Users\\hp\\Documents\\dataset\\PalmDataset\\Palm\\Train\\LeftPalm\\s69_10_R_S2.jpg\n",
      "✅ Moved s69_1_L_S2.jpg → C:\\Users\\hp\\Documents\\dataset\\PalmDataset\\Palm\\Train\\RightPalm\\s69_1_L_S2.jpg\n",
      "✅ Moved s69_1_R_S2.jpg → C:\\Users\\hp\\Documents\\dataset\\PalmDataset\\Palm\\Train\\RightPalm\\s69_1_R_S2.jpg\n",
      "✅ Moved s69_2_L_S2.jpg → C:\\Users\\hp\\Documents\\dataset\\PalmDataset\\Palm\\Train\\LeftPalm\\s69_2_L_S2.jpg\n",
      "✅ Moved s69_2_R_S2.jpg → C:\\Users\\hp\\Documents\\dataset\\PalmDataset\\Palm\\Train\\LeftPalm\\s69_2_R_S2.jpg\n",
      "✅ Moved s69_3_R_S2.jpg → C:\\Users\\hp\\Documents\\dataset\\PalmDataset\\Palm\\Train\\LeftPalm\\s69_3_R_S2.jpg\n",
      "✅ Moved s69_4_L_S2.jpg → C:\\Users\\hp\\Documents\\dataset\\PalmDataset\\Palm\\Train\\LeftPalm\\s69_4_L_S2.jpg\n",
      "✅ Moved s69_4_R_S2.jpg → C:\\Users\\hp\\Documents\\dataset\\PalmDataset\\Palm\\Train\\LeftPalm\\s69_4_R_S2.jpg\n",
      "✅ Moved s69_5_L_S2.jpg → C:\\Users\\hp\\Documents\\dataset\\PalmDataset\\Palm\\Train\\RightPalm\\s69_5_L_S2.jpg\n",
      "✅ Moved s69_5_R_S2.jpg → C:\\Users\\hp\\Documents\\dataset\\PalmDataset\\Palm\\Train\\LeftPalm\\s69_5_R_S2.jpg\n",
      "✅ Moved s69_6_R_S2.jpg → C:\\Users\\hp\\Documents\\dataset\\PalmDataset\\Palm\\Train\\LeftPalm\\s69_6_R_S2.jpg\n",
      "✅ Moved s69_7_L_S2.jpg → C:\\Users\\hp\\Documents\\dataset\\PalmDataset\\Palm\\Train\\RightPalm\\s69_7_L_S2.jpg\n",
      "✅ Moved s69_7_R_S2.jpg → C:\\Users\\hp\\Documents\\dataset\\PalmDataset\\Palm\\Train\\LeftPalm\\s69_7_R_S2.jpg\n",
      "✅ Moved s69_8_L_S2.jpg → C:\\Users\\hp\\Documents\\dataset\\PalmDataset\\Palm\\Train\\RightPalm\\s69_8_L_S2.jpg\n",
      "✅ Moved s69_9_R_S2.jpg → C:\\Users\\hp\\Documents\\dataset\\PalmDataset\\Palm\\Train\\LeftPalm\\s69_9_R_S2.jpg\n",
      "✅ Moved s6_10_L_S2.jpg → C:\\Users\\hp\\Documents\\dataset\\PalmDataset\\Palm\\Train\\RightPalm\\s6_10_L_S2.jpg\n",
      "✅ Moved s6_10_R_S2.jpg → C:\\Users\\hp\\Documents\\dataset\\PalmDataset\\Palm\\Train\\RightPalm\\s6_10_R_S2.jpg\n",
      "✅ Moved s6_1_L_S2.jpg → C:\\Users\\hp\\Documents\\dataset\\PalmDataset\\Palm\\Train\\LeftPalm\\s6_1_L_S2.jpg\n",
      "✅ Moved s6_1_R_S2.jpg → C:\\Users\\hp\\Documents\\dataset\\PalmDataset\\Palm\\Train\\LeftPalm\\s6_1_R_S2.jpg\n",
      "✅ Moved s6_2_L_S2.jpg → C:\\Users\\hp\\Documents\\dataset\\PalmDataset\\Palm\\Train\\RightPalm\\s6_2_L_S2.jpg\n",
      "✅ Moved s6_2_R_S2.jpg → C:\\Users\\hp\\Documents\\dataset\\PalmDataset\\Palm\\Train\\LeftPalm\\s6_2_R_S2.jpg\n",
      "✅ Moved s6_3_L_S2.jpg → C:\\Users\\hp\\Documents\\dataset\\PalmDataset\\Palm\\Train\\LeftPalm\\s6_3_L_S2.jpg\n",
      "✅ Moved s6_3_R_S2.jpg → C:\\Users\\hp\\Documents\\dataset\\PalmDataset\\Palm\\Train\\RightPalm\\s6_3_R_S2.jpg\n",
      "✅ Moved s6_4_L_S2.jpg → C:\\Users\\hp\\Documents\\dataset\\PalmDataset\\Palm\\Train\\LeftPalm\\s6_4_L_S2.jpg\n",
      "✅ Moved s6_4_R_S2.jpg → C:\\Users\\hp\\Documents\\dataset\\PalmDataset\\Palm\\Train\\LeftPalm\\s6_4_R_S2.jpg\n",
      "✅ Moved s6_5_L_S2.jpg → C:\\Users\\hp\\Documents\\dataset\\PalmDataset\\Palm\\Train\\RightPalm\\s6_5_L_S2.jpg\n",
      "✅ Moved s6_5_R_S2.jpg → C:\\Users\\hp\\Documents\\dataset\\PalmDataset\\Palm\\Train\\RightPalm\\s6_5_R_S2.jpg\n",
      "✅ Moved s6_6_L_S2.jpg → C:\\Users\\hp\\Documents\\dataset\\PalmDataset\\Palm\\Train\\LeftPalm\\s6_6_L_S2.jpg\n",
      "✅ Moved s6_6_R_S2.jpg → C:\\Users\\hp\\Documents\\dataset\\PalmDataset\\Palm\\Train\\LeftPalm\\s6_6_R_S2.jpg\n",
      "✅ Moved s6_7_R_S2.jpg → C:\\Users\\hp\\Documents\\dataset\\PalmDataset\\Palm\\Train\\LeftPalm\\s6_7_R_S2.jpg\n",
      "✅ Moved s6_8_L_S2.jpg → C:\\Users\\hp\\Documents\\dataset\\PalmDataset\\Palm\\Train\\RightPalm\\s6_8_L_S2.jpg\n",
      "✅ Moved s6_9_L_S2.jpg → C:\\Users\\hp\\Documents\\dataset\\PalmDataset\\Palm\\Train\\LeftPalm\\s6_9_L_S2.jpg\n",
      "✅ Moved s6_9_R_S2.jpg → C:\\Users\\hp\\Documents\\dataset\\PalmDataset\\Palm\\Train\\RightPalm\\s6_9_R_S2.jpg\n",
      "✅ Moved s70_10_L_S2.jpg → C:\\Users\\hp\\Documents\\dataset\\PalmDataset\\Palm\\Train\\RightPalm\\s70_10_L_S2.jpg\n",
      "✅ Moved s70_10_R_S2.jpg → C:\\Users\\hp\\Documents\\dataset\\PalmDataset\\Palm\\Train\\LeftPalm\\s70_10_R_S2.jpg\n",
      "✅ Moved s70_1_L_S2.jpg → C:\\Users\\hp\\Documents\\dataset\\PalmDataset\\Palm\\Train\\LeftPalm\\s70_1_L_S2.jpg\n",
      "✅ Moved s70_1_R_S2.jpg → C:\\Users\\hp\\Documents\\dataset\\PalmDataset\\Palm\\Train\\LeftPalm\\s70_1_R_S2.jpg\n",
      "✅ Moved s70_2_L_S2.jpg → C:\\Users\\hp\\Documents\\dataset\\PalmDataset\\Palm\\Train\\RightPalm\\s70_2_L_S2.jpg\n",
      "✅ Moved s70_2_R_S2.jpg → C:\\Users\\hp\\Documents\\dataset\\PalmDataset\\Palm\\Train\\RightPalm\\s70_2_R_S2.jpg\n",
      "✅ Moved s70_3_L_S2.jpg → C:\\Users\\hp\\Documents\\dataset\\PalmDataset\\Palm\\Train\\RightPalm\\s70_3_L_S2.jpg\n",
      "✅ Moved s70_4_L_S2.jpg → C:\\Users\\hp\\Documents\\dataset\\PalmDataset\\Palm\\Train\\RightPalm\\s70_4_L_S2.jpg\n",
      "✅ Moved s70_5_L_S2.jpg → C:\\Users\\hp\\Documents\\dataset\\PalmDataset\\Palm\\Train\\LeftPalm\\s70_5_L_S2.jpg\n",
      "✅ Moved s70_5_R_S2.jpg → C:\\Users\\hp\\Documents\\dataset\\PalmDataset\\Palm\\Train\\RightPalm\\s70_5_R_S2.jpg\n",
      "✅ Moved s70_6_L_S2.jpg → C:\\Users\\hp\\Documents\\dataset\\PalmDataset\\Palm\\Train\\RightPalm\\s70_6_L_S2.jpg\n",
      "✅ Moved s70_6_R_S2.jpg → C:\\Users\\hp\\Documents\\dataset\\PalmDataset\\Palm\\Train\\RightPalm\\s70_6_R_S2.jpg\n",
      "✅ Moved s70_7_R_S2.jpg → C:\\Users\\hp\\Documents\\dataset\\PalmDataset\\Palm\\Train\\LeftPalm\\s70_7_R_S2.jpg\n",
      "✅ Moved s70_8_L_S2.jpg → C:\\Users\\hp\\Documents\\dataset\\PalmDataset\\Palm\\Train\\LeftPalm\\s70_8_L_S2.jpg\n",
      "✅ Moved s70_8_R_S2.jpg → C:\\Users\\hp\\Documents\\dataset\\PalmDataset\\Palm\\Train\\RightPalm\\s70_8_R_S2.jpg\n",
      "✅ Moved s70_9_R_S2.jpg → C:\\Users\\hp\\Documents\\dataset\\PalmDataset\\Palm\\Train\\LeftPalm\\s70_9_R_S2.jpg\n",
      "✅ Moved s71_10_L_S2.jpg → C:\\Users\\hp\\Documents\\dataset\\PalmDataset\\Palm\\Train\\LeftPalm\\s71_10_L_S2.jpg\n",
      "✅ Moved s71_10_R_S2.jpg → C:\\Users\\hp\\Documents\\dataset\\PalmDataset\\Palm\\Train\\LeftPalm\\s71_10_R_S2.jpg\n",
      "✅ Moved s71_1_R_S2.jpg → C:\\Users\\hp\\Documents\\dataset\\PalmDataset\\Palm\\Train\\LeftPalm\\s71_1_R_S2.jpg\n",
      "✅ Moved s71_2_L_S2.jpg → C:\\Users\\hp\\Documents\\dataset\\PalmDataset\\Palm\\Train\\RightPalm\\s71_2_L_S2.jpg\n",
      "✅ Moved s71_2_R_S2.jpg → C:\\Users\\hp\\Documents\\dataset\\PalmDataset\\Palm\\Train\\LeftPalm\\s71_2_R_S2.jpg\n",
      "✅ Moved s71_3_L_S2.jpg → C:\\Users\\hp\\Documents\\dataset\\PalmDataset\\Palm\\Train\\RightPalm\\s71_3_L_S2.jpg\n",
      "✅ Moved s71_3_R_S2.jpg → C:\\Users\\hp\\Documents\\dataset\\PalmDataset\\Palm\\Train\\RightPalm\\s71_3_R_S2.jpg\n",
      "✅ Moved s71_4_L_S2.jpg → C:\\Users\\hp\\Documents\\dataset\\PalmDataset\\Palm\\Train\\RightPalm\\s71_4_L_S2.jpg\n",
      "✅ Moved s71_4_R_S2.jpg → C:\\Users\\hp\\Documents\\dataset\\PalmDataset\\Palm\\Train\\RightPalm\\s71_4_R_S2.jpg\n",
      "✅ Moved s71_5_R_S2.jpg → C:\\Users\\hp\\Documents\\dataset\\PalmDataset\\Palm\\Train\\LeftPalm\\s71_5_R_S2.jpg\n",
      "✅ Moved s71_6_L_S2.jpg → C:\\Users\\hp\\Documents\\dataset\\PalmDataset\\Palm\\Train\\RightPalm\\s71_6_L_S2.jpg\n",
      "✅ Moved s71_6_R_S2.jpg → C:\\Users\\hp\\Documents\\dataset\\PalmDataset\\Palm\\Train\\RightPalm\\s71_6_R_S2.jpg\n",
      "✅ Moved s71_7_L_S2.jpg → C:\\Users\\hp\\Documents\\dataset\\PalmDataset\\Palm\\Train\\RightPalm\\s71_7_L_S2.jpg\n",
      "✅ Moved s71_7_R_S2.jpg → C:\\Users\\hp\\Documents\\dataset\\PalmDataset\\Palm\\Train\\RightPalm\\s71_7_R_S2.jpg\n",
      "✅ Moved s71_8_L_S2.jpg → C:\\Users\\hp\\Documents\\dataset\\PalmDataset\\Palm\\Train\\LeftPalm\\s71_8_L_S2.jpg\n",
      "✅ Moved s71_8_R_S2.jpg → C:\\Users\\hp\\Documents\\dataset\\PalmDataset\\Palm\\Train\\LeftPalm\\s71_8_R_S2.jpg\n",
      "✅ Moved s71_9_L_S2.jpg → C:\\Users\\hp\\Documents\\dataset\\PalmDataset\\Palm\\Train\\RightPalm\\s71_9_L_S2.jpg\n",
      "✅ Moved s71_9_R_S2.jpg → C:\\Users\\hp\\Documents\\dataset\\PalmDataset\\Palm\\Train\\RightPalm\\s71_9_R_S2.jpg\n",
      "✅ Moved s72_10_L_S2.jpg → C:\\Users\\hp\\Documents\\dataset\\PalmDataset\\Palm\\Train\\RightPalm\\s72_10_L_S2.jpg\n",
      "✅ Moved s72_1_L_S2.jpg → C:\\Users\\hp\\Documents\\dataset\\PalmDataset\\Palm\\Train\\LeftPalm\\s72_1_L_S2.jpg\n",
      "✅ Moved s72_1_R_S2.jpg → C:\\Users\\hp\\Documents\\dataset\\PalmDataset\\Palm\\Train\\LeftPalm\\s72_1_R_S2.jpg\n",
      "✅ Moved s72_2_L_S2.jpg → C:\\Users\\hp\\Documents\\dataset\\PalmDataset\\Palm\\Train\\RightPalm\\s72_2_L_S2.jpg\n",
      "✅ Moved s72_2_R_S2.jpg → C:\\Users\\hp\\Documents\\dataset\\PalmDataset\\Palm\\Train\\LeftPalm\\s72_2_R_S2.jpg\n",
      "✅ Moved s72_3_L_S2.jpg → C:\\Users\\hp\\Documents\\dataset\\PalmDataset\\Palm\\Train\\LeftPalm\\s72_3_L_S2.jpg\n",
      "✅ Moved s72_3_R_S2.jpg → C:\\Users\\hp\\Documents\\dataset\\PalmDataset\\Palm\\Train\\LeftPalm\\s72_3_R_S2.jpg\n",
      "✅ Moved s72_4_L_S2.jpg → C:\\Users\\hp\\Documents\\dataset\\PalmDataset\\Palm\\Train\\LeftPalm\\s72_4_L_S2.jpg\n",
      "✅ Moved s72_5_L_S2.jpg → C:\\Users\\hp\\Documents\\dataset\\PalmDataset\\Palm\\Train\\LeftPalm\\s72_5_L_S2.jpg\n",
      "✅ Moved s72_6_L_S2.jpg → C:\\Users\\hp\\Documents\\dataset\\PalmDataset\\Palm\\Train\\RightPalm\\s72_6_L_S2.jpg\n",
      "✅ Moved s72_6_R_S2.jpg → C:\\Users\\hp\\Documents\\dataset\\PalmDataset\\Palm\\Train\\RightPalm\\s72_6_R_S2.jpg\n",
      "✅ Moved s72_7_L_S2.jpg → C:\\Users\\hp\\Documents\\dataset\\PalmDataset\\Palm\\Train\\RightPalm\\s72_7_L_S2.jpg\n",
      "✅ Moved s72_7_R_S2.jpg → C:\\Users\\hp\\Documents\\dataset\\PalmDataset\\Palm\\Train\\LeftPalm\\s72_7_R_S2.jpg\n",
      "✅ Moved s72_8_L_S2.jpg → C:\\Users\\hp\\Documents\\dataset\\PalmDataset\\Palm\\Train\\LeftPalm\\s72_8_L_S2.jpg\n",
      "✅ Moved s72_8_R_S2.jpg → C:\\Users\\hp\\Documents\\dataset\\PalmDataset\\Palm\\Train\\LeftPalm\\s72_8_R_S2.jpg\n",
      "✅ Moved s72_9_L_S2.jpg → C:\\Users\\hp\\Documents\\dataset\\PalmDataset\\Palm\\Train\\RightPalm\\s72_9_L_S2.jpg\n",
      "✅ Moved s73_10_L_S2.jpg → C:\\Users\\hp\\Documents\\dataset\\PalmDataset\\Palm\\Train\\RightPalm\\s73_10_L_S2.jpg\n",
      "✅ Moved s73_10_R_S2.jpg → C:\\Users\\hp\\Documents\\dataset\\PalmDataset\\Palm\\Train\\RightPalm\\s73_10_R_S2.jpg\n",
      "✅ Moved s73_1_L_S2.jpg → C:\\Users\\hp\\Documents\\dataset\\PalmDataset\\Palm\\Train\\LeftPalm\\s73_1_L_S2.jpg\n",
      "✅ Moved s73_1_R_S2.jpg → C:\\Users\\hp\\Documents\\dataset\\PalmDataset\\Palm\\Train\\LeftPalm\\s73_1_R_S2.jpg\n",
      "✅ Moved s73_2_L_S2.jpg → C:\\Users\\hp\\Documents\\dataset\\PalmDataset\\Palm\\Train\\RightPalm\\s73_2_L_S2.jpg\n",
      "✅ Moved s73_2_R_S2.jpg → C:\\Users\\hp\\Documents\\dataset\\PalmDataset\\Palm\\Train\\LeftPalm\\s73_2_R_S2.jpg\n",
      "✅ Moved s73_3_L_S2.jpg → C:\\Users\\hp\\Documents\\dataset\\PalmDataset\\Palm\\Train\\RightPalm\\s73_3_L_S2.jpg\n",
      "✅ Moved s73_3_R_S2.jpg → C:\\Users\\hp\\Documents\\dataset\\PalmDataset\\Palm\\Train\\LeftPalm\\s73_3_R_S2.jpg\n",
      "✅ Moved s73_4_L_S2.jpg → C:\\Users\\hp\\Documents\\dataset\\PalmDataset\\Palm\\Train\\RightPalm\\s73_4_L_S2.jpg\n",
      "✅ Moved s73_5_L_S2.jpg → C:\\Users\\hp\\Documents\\dataset\\PalmDataset\\Palm\\Train\\LeftPalm\\s73_5_L_S2.jpg\n",
      "✅ Moved s73_6_L_S2.jpg → C:\\Users\\hp\\Documents\\dataset\\PalmDataset\\Palm\\Train\\RightPalm\\s73_6_L_S2.jpg\n",
      "✅ Moved s73_7_L_S2.jpg → C:\\Users\\hp\\Documents\\dataset\\PalmDataset\\Palm\\Train\\LeftPalm\\s73_7_L_S2.jpg\n",
      "✅ Moved s73_7_R_S2.jpg → C:\\Users\\hp\\Documents\\dataset\\PalmDataset\\Palm\\Train\\LeftPalm\\s73_7_R_S2.jpg\n",
      "✅ Moved s73_8_L_S2.jpg → C:\\Users\\hp\\Documents\\dataset\\PalmDataset\\Palm\\Train\\RightPalm\\s73_8_L_S2.jpg\n",
      "✅ Moved s73_8_R_S2.jpg → C:\\Users\\hp\\Documents\\dataset\\PalmDataset\\Palm\\Train\\RightPalm\\s73_8_R_S2.jpg\n",
      "✅ Moved s73_9_R_S2.jpg → C:\\Users\\hp\\Documents\\dataset\\PalmDataset\\Palm\\Train\\RightPalm\\s73_9_R_S2.jpg\n",
      "✅ Moved s74_10_L_S2.jpg → C:\\Users\\hp\\Documents\\dataset\\PalmDataset\\Palm\\Train\\RightPalm\\s74_10_L_S2.jpg\n",
      "✅ Moved s74_1_R_S2.jpg → C:\\Users\\hp\\Documents\\dataset\\PalmDataset\\Palm\\Train\\LeftPalm\\s74_1_R_S2.jpg\n",
      "✅ Moved s74_2_R_S2.jpg → C:\\Users\\hp\\Documents\\dataset\\PalmDataset\\Palm\\Train\\LeftPalm\\s74_2_R_S2.jpg\n",
      "✅ Moved s74_3_L_S2.jpg → C:\\Users\\hp\\Documents\\dataset\\PalmDataset\\Palm\\Train\\LeftPalm\\s74_3_L_S2.jpg\n",
      "✅ Moved s74_3_R_S2.jpg → C:\\Users\\hp\\Documents\\dataset\\PalmDataset\\Palm\\Train\\RightPalm\\s74_3_R_S2.jpg\n",
      "✅ Moved s74_4_L_S2.jpg → C:\\Users\\hp\\Documents\\dataset\\PalmDataset\\Palm\\Train\\LeftPalm\\s74_4_L_S2.jpg\n",
      "✅ Moved s74_4_R_S2.jpg → C:\\Users\\hp\\Documents\\dataset\\PalmDataset\\Palm\\Train\\RightPalm\\s74_4_R_S2.jpg\n",
      "✅ Moved s74_5_L_S2.jpg → C:\\Users\\hp\\Documents\\dataset\\PalmDataset\\Palm\\Train\\RightPalm\\s74_5_L_S2.jpg\n",
      "✅ Moved s74_6_R_S2.jpg → C:\\Users\\hp\\Documents\\dataset\\PalmDataset\\Palm\\Train\\LeftPalm\\s74_6_R_S2.jpg\n",
      "✅ Moved s74_7_L_S2.jpg → C:\\Users\\hp\\Documents\\dataset\\PalmDataset\\Palm\\Train\\RightPalm\\s74_7_L_S2.jpg\n",
      "✅ Moved s74_7_R_S2.jpg → C:\\Users\\hp\\Documents\\dataset\\PalmDataset\\Palm\\Train\\LeftPalm\\s74_7_R_S2.jpg\n",
      "✅ Moved s74_8_R_S2.jpg → C:\\Users\\hp\\Documents\\dataset\\PalmDataset\\Palm\\Train\\LeftPalm\\s74_8_R_S2.jpg\n",
      "✅ Moved s74_9_L_S2.jpg → C:\\Users\\hp\\Documents\\dataset\\PalmDataset\\Palm\\Train\\RightPalm\\s74_9_L_S2.jpg\n",
      "✅ Moved s75_10_L_S2.jpg → C:\\Users\\hp\\Documents\\dataset\\PalmDataset\\Palm\\Train\\LeftPalm\\s75_10_L_S2.jpg\n",
      "✅ Moved s75_1_L_S2.jpg → C:\\Users\\hp\\Documents\\dataset\\PalmDataset\\Palm\\Train\\LeftPalm\\s75_1_L_S2.jpg\n",
      "✅ Moved s75_1_R_S2.jpg → C:\\Users\\hp\\Documents\\dataset\\PalmDataset\\Palm\\Train\\RightPalm\\s75_1_R_S2.jpg\n",
      "✅ Moved s75_2_L_S2.jpg → C:\\Users\\hp\\Documents\\dataset\\PalmDataset\\Palm\\Train\\LeftPalm\\s75_2_L_S2.jpg\n",
      "✅ Moved s75_2_R_S2.jpg → C:\\Users\\hp\\Documents\\dataset\\PalmDataset\\Palm\\Train\\RightPalm\\s75_2_R_S2.jpg\n",
      "✅ Moved s75_3_L_S2.jpg → C:\\Users\\hp\\Documents\\dataset\\PalmDataset\\Palm\\Train\\RightPalm\\s75_3_L_S2.jpg\n",
      "✅ Moved s75_3_R_S2.jpg → C:\\Users\\hp\\Documents\\dataset\\PalmDataset\\Palm\\Train\\LeftPalm\\s75_3_R_S2.jpg\n",
      "✅ Moved s75_4_L_S2.jpg → C:\\Users\\hp\\Documents\\dataset\\PalmDataset\\Palm\\Train\\LeftPalm\\s75_4_L_S2.jpg\n",
      "✅ Moved s75_5_R_S2.jpg → C:\\Users\\hp\\Documents\\dataset\\PalmDataset\\Palm\\Train\\LeftPalm\\s75_5_R_S2.jpg\n",
      "✅ Moved s75_6_L_S2.jpg → C:\\Users\\hp\\Documents\\dataset\\PalmDataset\\Palm\\Train\\RightPalm\\s75_6_L_S2.jpg\n",
      "✅ Moved s75_6_R_S2.jpg → C:\\Users\\hp\\Documents\\dataset\\PalmDataset\\Palm\\Train\\LeftPalm\\s75_6_R_S2.jpg\n",
      "✅ Moved s75_7_L_S2.jpg → C:\\Users\\hp\\Documents\\dataset\\PalmDataset\\Palm\\Train\\RightPalm\\s75_7_L_S2.jpg\n",
      "✅ Moved s75_7_R_S2.jpg → C:\\Users\\hp\\Documents\\dataset\\PalmDataset\\Palm\\Train\\LeftPalm\\s75_7_R_S2.jpg\n",
      "✅ Moved s75_8_R_S2.jpg → C:\\Users\\hp\\Documents\\dataset\\PalmDataset\\Palm\\Train\\RightPalm\\s75_8_R_S2.jpg\n",
      "✅ Moved s75_9_L_S2.jpg → C:\\Users\\hp\\Documents\\dataset\\PalmDataset\\Palm\\Train\\LeftPalm\\s75_9_L_S2.jpg\n",
      "✅ Moved s75_9_R_S2.jpg → C:\\Users\\hp\\Documents\\dataset\\PalmDataset\\Palm\\Train\\RightPalm\\s75_9_R_S2.jpg\n",
      "✅ Moved s76_10_R_S2.jpg → C:\\Users\\hp\\Documents\\dataset\\PalmDataset\\Palm\\Train\\RightPalm\\s76_10_R_S2.jpg\n",
      "✅ Moved s76_1_L_S2.jpg → C:\\Users\\hp\\Documents\\dataset\\PalmDataset\\Palm\\Train\\RightPalm\\s76_1_L_S2.jpg\n",
      "✅ Moved s76_1_R_S2.jpg → C:\\Users\\hp\\Documents\\dataset\\PalmDataset\\Palm\\Train\\RightPalm\\s76_1_R_S2.jpg\n",
      "✅ Moved s76_2_L_S2.jpg → C:\\Users\\hp\\Documents\\dataset\\PalmDataset\\Palm\\Train\\LeftPalm\\s76_2_L_S2.jpg\n",
      "✅ Moved s76_2_R_S2.jpg → C:\\Users\\hp\\Documents\\dataset\\PalmDataset\\Palm\\Train\\RightPalm\\s76_2_R_S2.jpg\n",
      "✅ Moved s76_3_L_S2.jpg → C:\\Users\\hp\\Documents\\dataset\\PalmDataset\\Palm\\Train\\RightPalm\\s76_3_L_S2.jpg\n",
      "✅ Moved s76_3_R_S2.jpg → C:\\Users\\hp\\Documents\\dataset\\PalmDataset\\Palm\\Train\\RightPalm\\s76_3_R_S2.jpg\n",
      "✅ Moved s76_4_L_S2.jpg → C:\\Users\\hp\\Documents\\dataset\\PalmDataset\\Palm\\Train\\LeftPalm\\s76_4_L_S2.jpg\n",
      "✅ Moved s76_4_R_S2.jpg → C:\\Users\\hp\\Documents\\dataset\\PalmDataset\\Palm\\Train\\RightPalm\\s76_4_R_S2.jpg\n",
      "✅ Moved s76_5_R_S2.jpg → C:\\Users\\hp\\Documents\\dataset\\PalmDataset\\Palm\\Train\\RightPalm\\s76_5_R_S2.jpg\n",
      "✅ Moved s76_6_L_S2.jpg → C:\\Users\\hp\\Documents\\dataset\\PalmDataset\\Palm\\Train\\RightPalm\\s76_6_L_S2.jpg\n",
      "✅ Moved s76_6_R_S2.jpg → C:\\Users\\hp\\Documents\\dataset\\PalmDataset\\Palm\\Train\\LeftPalm\\s76_6_R_S2.jpg\n",
      "✅ Moved s76_7_R_S2.jpg → C:\\Users\\hp\\Documents\\dataset\\PalmDataset\\Palm\\Train\\RightPalm\\s76_7_R_S2.jpg\n",
      "✅ Moved s76_8_R_S2.jpg → C:\\Users\\hp\\Documents\\dataset\\PalmDataset\\Palm\\Train\\LeftPalm\\s76_8_R_S2.jpg\n",
      "✅ Moved s76_9_L_S2.jpg → C:\\Users\\hp\\Documents\\dataset\\PalmDataset\\Palm\\Train\\RightPalm\\s76_9_L_S2.jpg\n",
      "✅ Moved s76_9_R_S2.jpg → C:\\Users\\hp\\Documents\\dataset\\PalmDataset\\Palm\\Train\\LeftPalm\\s76_9_R_S2.jpg\n",
      "✅ Moved s77_10_L_S2.jpg → C:\\Users\\hp\\Documents\\dataset\\PalmDataset\\Palm\\Train\\LeftPalm\\s77_10_L_S2.jpg\n",
      "✅ Moved s77_10_R_S2.jpg → C:\\Users\\hp\\Documents\\dataset\\PalmDataset\\Palm\\Train\\RightPalm\\s77_10_R_S2.jpg\n",
      "✅ Moved s77_1_R_S2.jpg → C:\\Users\\hp\\Documents\\dataset\\PalmDataset\\Palm\\Train\\LeftPalm\\s77_1_R_S2.jpg\n",
      "✅ Moved s77_2_L_S2.jpg → C:\\Users\\hp\\Documents\\dataset\\PalmDataset\\Palm\\Train\\LeftPalm\\s77_2_L_S2.jpg\n",
      "✅ Moved s77_2_R_S2.jpg → C:\\Users\\hp\\Documents\\dataset\\PalmDataset\\Palm\\Train\\LeftPalm\\s77_2_R_S2.jpg\n",
      "✅ Moved s77_3_R_S2.jpg → C:\\Users\\hp\\Documents\\dataset\\PalmDataset\\Palm\\Train\\LeftPalm\\s77_3_R_S2.jpg\n",
      "✅ Moved s77_4_L_S2.jpg → C:\\Users\\hp\\Documents\\dataset\\PalmDataset\\Palm\\Train\\RightPalm\\s77_4_L_S2.jpg\n",
      "✅ Moved s77_4_R_S2.jpg → C:\\Users\\hp\\Documents\\dataset\\PalmDataset\\Palm\\Train\\LeftPalm\\s77_4_R_S2.jpg\n",
      "✅ Moved s77_5_L_S2.jpg → C:\\Users\\hp\\Documents\\dataset\\PalmDataset\\Palm\\Train\\LeftPalm\\s77_5_L_S2.jpg\n",
      "✅ Moved s77_5_R_S2.jpg → C:\\Users\\hp\\Documents\\dataset\\PalmDataset\\Palm\\Train\\RightPalm\\s77_5_R_S2.jpg\n",
      "✅ Moved s77_6_L_S2.jpg → C:\\Users\\hp\\Documents\\dataset\\PalmDataset\\Palm\\Train\\LeftPalm\\s77_6_L_S2.jpg\n",
      "✅ Moved s77_6_R_S2.jpg → C:\\Users\\hp\\Documents\\dataset\\PalmDataset\\Palm\\Train\\RightPalm\\s77_6_R_S2.jpg\n",
      "✅ Moved s77_7_L_S2.jpg → C:\\Users\\hp\\Documents\\dataset\\PalmDataset\\Palm\\Train\\LeftPalm\\s77_7_L_S2.jpg\n",
      "✅ Moved s77_7_R_S2.jpg → C:\\Users\\hp\\Documents\\dataset\\PalmDataset\\Palm\\Train\\LeftPalm\\s77_7_R_S2.jpg\n",
      "✅ Moved s77_8_R_S2.jpg → C:\\Users\\hp\\Documents\\dataset\\PalmDataset\\Palm\\Train\\RightPalm\\s77_8_R_S2.jpg\n",
      "✅ Moved s77_9_R_S2.jpg → C:\\Users\\hp\\Documents\\dataset\\PalmDataset\\Palm\\Train\\RightPalm\\s77_9_R_S2.jpg\n",
      "✅ Moved s78_10_L_S2.jpg → C:\\Users\\hp\\Documents\\dataset\\PalmDataset\\Palm\\Train\\RightPalm\\s78_10_L_S2.jpg\n",
      "✅ Moved s78_1_L_S2.jpg → C:\\Users\\hp\\Documents\\dataset\\PalmDataset\\Palm\\Train\\RightPalm\\s78_1_L_S2.jpg\n",
      "✅ Moved s78_1_R_S2.jpg → C:\\Users\\hp\\Documents\\dataset\\PalmDataset\\Palm\\Train\\LeftPalm\\s78_1_R_S2.jpg\n",
      "✅ Moved s78_2_L_S2.jpg → C:\\Users\\hp\\Documents\\dataset\\PalmDataset\\Palm\\Train\\RightPalm\\s78_2_L_S2.jpg\n",
      "✅ Moved s78_2_R_S2.jpg → C:\\Users\\hp\\Documents\\dataset\\PalmDataset\\Palm\\Train\\RightPalm\\s78_2_R_S2.jpg\n",
      "✅ Moved s78_3_L_S2.jpg → C:\\Users\\hp\\Documents\\dataset\\PalmDataset\\Palm\\Train\\LeftPalm\\s78_3_L_S2.jpg\n",
      "✅ Moved s78_3_R_S2.jpg → C:\\Users\\hp\\Documents\\dataset\\PalmDataset\\Palm\\Train\\LeftPalm\\s78_3_R_S2.jpg\n",
      "✅ Moved s78_4_L_S2.jpg → C:\\Users\\hp\\Documents\\dataset\\PalmDataset\\Palm\\Train\\LeftPalm\\s78_4_L_S2.jpg\n",
      "✅ Moved s78_5_L_S2.jpg → C:\\Users\\hp\\Documents\\dataset\\PalmDataset\\Palm\\Train\\LeftPalm\\s78_5_L_S2.jpg\n",
      "✅ Moved s78_5_R_S2.jpg → C:\\Users\\hp\\Documents\\dataset\\PalmDataset\\Palm\\Train\\RightPalm\\s78_5_R_S2.jpg\n",
      "✅ Moved s78_6_R_S2.jpg → C:\\Users\\hp\\Documents\\dataset\\PalmDataset\\Palm\\Train\\LeftPalm\\s78_6_R_S2.jpg\n",
      "✅ Moved s78_7_R_S2.jpg → C:\\Users\\hp\\Documents\\dataset\\PalmDataset\\Palm\\Train\\RightPalm\\s78_7_R_S2.jpg\n",
      "✅ Moved s78_8_R_S2.jpg → C:\\Users\\hp\\Documents\\dataset\\PalmDataset\\Palm\\Train\\RightPalm\\s78_8_R_S2.jpg\n",
      "✅ Moved s78_9_L_S2.jpg → C:\\Users\\hp\\Documents\\dataset\\PalmDataset\\Palm\\Train\\LeftPalm\\s78_9_L_S2.jpg\n",
      "✅ Moved s79_10_L_S2.jpg → C:\\Users\\hp\\Documents\\dataset\\PalmDataset\\Palm\\Train\\LeftPalm\\s79_10_L_S2.jpg\n",
      "✅ Moved s79_10_R_S2.jpg → C:\\Users\\hp\\Documents\\dataset\\PalmDataset\\Palm\\Train\\RightPalm\\s79_10_R_S2.jpg\n",
      "✅ Moved s79_2_L_S2.jpg → C:\\Users\\hp\\Documents\\dataset\\PalmDataset\\Palm\\Train\\LeftPalm\\s79_2_L_S2.jpg\n",
      "✅ Moved s79_2_R_S2.jpg → C:\\Users\\hp\\Documents\\dataset\\PalmDataset\\Palm\\Train\\LeftPalm\\s79_2_R_S2.jpg\n",
      "✅ Moved s79_3_R_S2.jpg → C:\\Users\\hp\\Documents\\dataset\\PalmDataset\\Palm\\Train\\RightPalm\\s79_3_R_S2.jpg\n",
      "✅ Moved s79_4_L_S2.jpg → C:\\Users\\hp\\Documents\\dataset\\PalmDataset\\Palm\\Train\\LeftPalm\\s79_4_L_S2.jpg\n",
      "✅ Moved s79_4_R_S2.jpg → C:\\Users\\hp\\Documents\\dataset\\PalmDataset\\Palm\\Train\\RightPalm\\s79_4_R_S2.jpg\n",
      "✅ Moved s79_5_L_S2.jpg → C:\\Users\\hp\\Documents\\dataset\\PalmDataset\\Palm\\Train\\LeftPalm\\s79_5_L_S2.jpg\n",
      "✅ Moved s79_5_R_S2.jpg → C:\\Users\\hp\\Documents\\dataset\\PalmDataset\\Palm\\Train\\RightPalm\\s79_5_R_S2.jpg\n",
      "✅ Moved s79_6_L_S2.jpg → C:\\Users\\hp\\Documents\\dataset\\PalmDataset\\Palm\\Train\\LeftPalm\\s79_6_L_S2.jpg\n",
      "✅ Moved s79_6_R_S2.jpg → C:\\Users\\hp\\Documents\\dataset\\PalmDataset\\Palm\\Train\\LeftPalm\\s79_6_R_S2.jpg\n",
      "✅ Moved s79_7_L_S2.jpg → C:\\Users\\hp\\Documents\\dataset\\PalmDataset\\Palm\\Train\\LeftPalm\\s79_7_L_S2.jpg\n",
      "✅ Moved s79_7_R_S2.jpg → C:\\Users\\hp\\Documents\\dataset\\PalmDataset\\Palm\\Train\\RightPalm\\s79_7_R_S2.jpg\n",
      "✅ Moved s79_8_L_S2.jpg → C:\\Users\\hp\\Documents\\dataset\\PalmDataset\\Palm\\Train\\LeftPalm\\s79_8_L_S2.jpg\n",
      "✅ Moved s79_8_R_S2.jpg → C:\\Users\\hp\\Documents\\dataset\\PalmDataset\\Palm\\Train\\RightPalm\\s79_8_R_S2.jpg\n",
      "✅ Moved s79_9_L_S2.jpg → C:\\Users\\hp\\Documents\\dataset\\PalmDataset\\Palm\\Train\\LeftPalm\\s79_9_L_S2.jpg\n",
      "✅ Moved s79_9_R_S2.jpg → C:\\Users\\hp\\Documents\\dataset\\PalmDataset\\Palm\\Train\\LeftPalm\\s79_9_R_S2.jpg\n",
      "✅ Moved s7_10_L_S2.jpg → C:\\Users\\hp\\Documents\\dataset\\PalmDataset\\Palm\\Train\\RightPalm\\s7_10_L_S2.jpg\n",
      "✅ Moved s7_10_R_S2.jpg → C:\\Users\\hp\\Documents\\dataset\\PalmDataset\\Palm\\Train\\LeftPalm\\s7_10_R_S2.jpg\n",
      "✅ Moved s7_1_L_S2.jpg → C:\\Users\\hp\\Documents\\dataset\\PalmDataset\\Palm\\Train\\LeftPalm\\s7_1_L_S2.jpg\n",
      "✅ Moved s7_1_R_S2.jpg → C:\\Users\\hp\\Documents\\dataset\\PalmDataset\\Palm\\Train\\RightPalm\\s7_1_R_S2.jpg\n",
      "✅ Moved s7_2_L_S2.jpg → C:\\Users\\hp\\Documents\\dataset\\PalmDataset\\Palm\\Train\\LeftPalm\\s7_2_L_S2.jpg\n",
      "✅ Moved s7_2_R_S2.jpg → C:\\Users\\hp\\Documents\\dataset\\PalmDataset\\Palm\\Train\\LeftPalm\\s7_2_R_S2.jpg\n",
      "✅ Moved s7_3_L_S2.jpg → C:\\Users\\hp\\Documents\\dataset\\PalmDataset\\Palm\\Train\\RightPalm\\s7_3_L_S2.jpg\n",
      "✅ Moved s7_3_R_S2.jpg → C:\\Users\\hp\\Documents\\dataset\\PalmDataset\\Palm\\Train\\LeftPalm\\s7_3_R_S2.jpg\n",
      "✅ Moved s7_4_L_S2.jpg → C:\\Users\\hp\\Documents\\dataset\\PalmDataset\\Palm\\Train\\RightPalm\\s7_4_L_S2.jpg\n",
      "✅ Moved s7_4_R_S2.jpg → C:\\Users\\hp\\Documents\\dataset\\PalmDataset\\Palm\\Train\\RightPalm\\s7_4_R_S2.jpg\n",
      "✅ Moved s7_5_L_S2.jpg → C:\\Users\\hp\\Documents\\dataset\\PalmDataset\\Palm\\Train\\LeftPalm\\s7_5_L_S2.jpg\n",
      "✅ Moved s7_6_L_S2.jpg → C:\\Users\\hp\\Documents\\dataset\\PalmDataset\\Palm\\Train\\LeftPalm\\s7_6_L_S2.jpg\n",
      "✅ Moved s7_7_L_S2.jpg → C:\\Users\\hp\\Documents\\dataset\\PalmDataset\\Palm\\Train\\LeftPalm\\s7_7_L_S2.jpg\n",
      "✅ Moved s7_7_R_S2.jpg → C:\\Users\\hp\\Documents\\dataset\\PalmDataset\\Palm\\Train\\LeftPalm\\s7_7_R_S2.jpg\n",
      "✅ Moved s7_8_L_S2.jpg → C:\\Users\\hp\\Documents\\dataset\\PalmDataset\\Palm\\Train\\LeftPalm\\s7_8_L_S2.jpg\n",
      "✅ Moved s7_9_L_S2.jpg → C:\\Users\\hp\\Documents\\dataset\\PalmDataset\\Palm\\Train\\LeftPalm\\s7_9_L_S2.jpg\n",
      "✅ Moved s7_9_R_S2.jpg → C:\\Users\\hp\\Documents\\dataset\\PalmDataset\\Palm\\Train\\LeftPalm\\s7_9_R_S2.jpg\n",
      "✅ Moved s80_10_L_S2.jpg → C:\\Users\\hp\\Documents\\dataset\\PalmDataset\\Palm\\Train\\LeftPalm\\s80_10_L_S2.jpg\n",
      "✅ Moved s80_10_R_S2.jpg → C:\\Users\\hp\\Documents\\dataset\\PalmDataset\\Palm\\Train\\LeftPalm\\s80_10_R_S2.jpg\n",
      "✅ Moved s80_1_L_S2.jpg → C:\\Users\\hp\\Documents\\dataset\\PalmDataset\\Palm\\Train\\RightPalm\\s80_1_L_S2.jpg\n",
      "✅ Moved s80_1_R_S2.jpg → C:\\Users\\hp\\Documents\\dataset\\PalmDataset\\Palm\\Train\\LeftPalm\\s80_1_R_S2.jpg\n",
      "✅ Moved s80_2_L_S2.jpg → C:\\Users\\hp\\Documents\\dataset\\PalmDataset\\Palm\\Train\\LeftPalm\\s80_2_L_S2.jpg\n",
      "✅ Moved s80_2_R_S2.jpg → C:\\Users\\hp\\Documents\\dataset\\PalmDataset\\Palm\\Train\\LeftPalm\\s80_2_R_S2.jpg\n",
      "✅ Moved s80_3_L_S2.jpg → C:\\Users\\hp\\Documents\\dataset\\PalmDataset\\Palm\\Train\\LeftPalm\\s80_3_L_S2.jpg\n",
      "✅ Moved s80_3_R_S2.jpg → C:\\Users\\hp\\Documents\\dataset\\PalmDataset\\Palm\\Train\\RightPalm\\s80_3_R_S2.jpg\n",
      "✅ Moved s80_4_L_S2.jpg → C:\\Users\\hp\\Documents\\dataset\\PalmDataset\\Palm\\Train\\LeftPalm\\s80_4_L_S2.jpg\n",
      "✅ Moved s80_4_R_S2.jpg → C:\\Users\\hp\\Documents\\dataset\\PalmDataset\\Palm\\Train\\RightPalm\\s80_4_R_S2.jpg\n",
      "✅ Moved s80_5_L_S2.jpg → C:\\Users\\hp\\Documents\\dataset\\PalmDataset\\Palm\\Train\\LeftPalm\\s80_5_L_S2.jpg\n",
      "✅ Moved s80_5_R_S2.jpg → C:\\Users\\hp\\Documents\\dataset\\PalmDataset\\Palm\\Train\\LeftPalm\\s80_5_R_S2.jpg\n",
      "✅ Moved s80_6_L_S2.jpg → C:\\Users\\hp\\Documents\\dataset\\PalmDataset\\Palm\\Train\\RightPalm\\s80_6_L_S2.jpg\n",
      "✅ Moved s80_6_R_S2.jpg → C:\\Users\\hp\\Documents\\dataset\\PalmDataset\\Palm\\Train\\RightPalm\\s80_6_R_S2.jpg\n",
      "✅ Moved s80_8_L_S2.jpg → C:\\Users\\hp\\Documents\\dataset\\PalmDataset\\Palm\\Train\\RightPalm\\s80_8_L_S2.jpg\n",
      "✅ Moved s80_8_R_S2.jpg → C:\\Users\\hp\\Documents\\dataset\\PalmDataset\\Palm\\Train\\RightPalm\\s80_8_R_S2.jpg\n",
      "✅ Moved s80_9_L_S2.jpg → C:\\Users\\hp\\Documents\\dataset\\PalmDataset\\Palm\\Train\\LeftPalm\\s80_9_L_S2.jpg\n",
      "✅ Moved s80_9_R_S2.jpg → C:\\Users\\hp\\Documents\\dataset\\PalmDataset\\Palm\\Train\\RightPalm\\s80_9_R_S2.jpg\n",
      "✅ Moved s81_10_R_S2.jpg → C:\\Users\\hp\\Documents\\dataset\\PalmDataset\\Palm\\Train\\LeftPalm\\s81_10_R_S2.jpg\n",
      "✅ Moved s81_1_L_S2.jpg → C:\\Users\\hp\\Documents\\dataset\\PalmDataset\\Palm\\Train\\LeftPalm\\s81_1_L_S2.jpg\n",
      "✅ Moved s81_2_L_S2.jpg → C:\\Users\\hp\\Documents\\dataset\\PalmDataset\\Palm\\Train\\RightPalm\\s81_2_L_S2.jpg\n",
      "✅ Moved s81_3_L_S2.jpg → C:\\Users\\hp\\Documents\\dataset\\PalmDataset\\Palm\\Train\\LeftPalm\\s81_3_L_S2.jpg\n",
      "✅ Moved s81_3_R_S2.jpg → C:\\Users\\hp\\Documents\\dataset\\PalmDataset\\Palm\\Train\\RightPalm\\s81_3_R_S2.jpg\n",
      "✅ Moved s81_4_L_S2.jpg → C:\\Users\\hp\\Documents\\dataset\\PalmDataset\\Palm\\Train\\LeftPalm\\s81_4_L_S2.jpg\n",
      "✅ Moved s81_5_R_S2.jpg → C:\\Users\\hp\\Documents\\dataset\\PalmDataset\\Palm\\Train\\LeftPalm\\s81_5_R_S2.jpg\n",
      "✅ Moved s81_6_L_S2.jpg → C:\\Users\\hp\\Documents\\dataset\\PalmDataset\\Palm\\Train\\LeftPalm\\s81_6_L_S2.jpg\n",
      "✅ Moved s81_7_L_S2.jpg → C:\\Users\\hp\\Documents\\dataset\\PalmDataset\\Palm\\Train\\RightPalm\\s81_7_L_S2.jpg\n",
      "✅ Moved s81_7_R_S2.jpg → C:\\Users\\hp\\Documents\\dataset\\PalmDataset\\Palm\\Train\\LeftPalm\\s81_7_R_S2.jpg\n",
      "✅ Moved s81_8_L_S2.jpg → C:\\Users\\hp\\Documents\\dataset\\PalmDataset\\Palm\\Train\\LeftPalm\\s81_8_L_S2.jpg\n",
      "✅ Moved s81_8_R_S2.jpg → C:\\Users\\hp\\Documents\\dataset\\PalmDataset\\Palm\\Train\\LeftPalm\\s81_8_R_S2.jpg\n",
      "✅ Moved s81_9_R_S2.jpg → C:\\Users\\hp\\Documents\\dataset\\PalmDataset\\Palm\\Train\\RightPalm\\s81_9_R_S2.jpg\n",
      "✅ Moved s82_10_L_S2.jpg → C:\\Users\\hp\\Documents\\dataset\\PalmDataset\\Palm\\Train\\LeftPalm\\s82_10_L_S2.jpg\n",
      "✅ Moved s82_10_R_S2.jpg → C:\\Users\\hp\\Documents\\dataset\\PalmDataset\\Palm\\Train\\LeftPalm\\s82_10_R_S2.jpg\n",
      "✅ Moved s82_1_L_S2.jpg → C:\\Users\\hp\\Documents\\dataset\\PalmDataset\\Palm\\Train\\RightPalm\\s82_1_L_S2.jpg\n",
      "✅ Moved s82_1_R_S2.jpg → C:\\Users\\hp\\Documents\\dataset\\PalmDataset\\Palm\\Train\\RightPalm\\s82_1_R_S2.jpg\n",
      "✅ Moved s82_2_L_S2.jpg → C:\\Users\\hp\\Documents\\dataset\\PalmDataset\\Palm\\Train\\LeftPalm\\s82_2_L_S2.jpg\n",
      "✅ Moved s82_2_R_S2.jpg → C:\\Users\\hp\\Documents\\dataset\\PalmDataset\\Palm\\Train\\LeftPalm\\s82_2_R_S2.jpg\n",
      "✅ Moved s82_3_L_S2.jpg → C:\\Users\\hp\\Documents\\dataset\\PalmDataset\\Palm\\Train\\LeftPalm\\s82_3_L_S2.jpg\n",
      "✅ Moved s82_3_R_S2.jpg → C:\\Users\\hp\\Documents\\dataset\\PalmDataset\\Palm\\Train\\LeftPalm\\s82_3_R_S2.jpg\n",
      "✅ Moved s82_5_L_S2.jpg → C:\\Users\\hp\\Documents\\dataset\\PalmDataset\\Palm\\Train\\LeftPalm\\s82_5_L_S2.jpg\n",
      "✅ Moved s82_5_R_S2.jpg → C:\\Users\\hp\\Documents\\dataset\\PalmDataset\\Palm\\Train\\LeftPalm\\s82_5_R_S2.jpg\n",
      "✅ Moved s82_6_R_S2.jpg → C:\\Users\\hp\\Documents\\dataset\\PalmDataset\\Palm\\Train\\RightPalm\\s82_6_R_S2.jpg\n",
      "✅ Moved s82_7_L_S2.jpg → C:\\Users\\hp\\Documents\\dataset\\PalmDataset\\Palm\\Train\\RightPalm\\s82_7_L_S2.jpg\n",
      "✅ Moved s82_7_R_S2.jpg → C:\\Users\\hp\\Documents\\dataset\\PalmDataset\\Palm\\Train\\LeftPalm\\s82_7_R_S2.jpg\n",
      "✅ Moved s82_8_L_S2.jpg → C:\\Users\\hp\\Documents\\dataset\\PalmDataset\\Palm\\Train\\RightPalm\\s82_8_L_S2.jpg\n",
      "✅ Moved s82_8_R_S2.jpg → C:\\Users\\hp\\Documents\\dataset\\PalmDataset\\Palm\\Train\\LeftPalm\\s82_8_R_S2.jpg\n",
      "✅ Moved s82_9_L_S2.jpg → C:\\Users\\hp\\Documents\\dataset\\PalmDataset\\Palm\\Train\\RightPalm\\s82_9_L_S2.jpg\n",
      "✅ Moved s82_9_R_S2.jpg → C:\\Users\\hp\\Documents\\dataset\\PalmDataset\\Palm\\Train\\RightPalm\\s82_9_R_S2.jpg\n",
      "✅ Moved s83_10_R_S2.jpg → C:\\Users\\hp\\Documents\\dataset\\PalmDataset\\Palm\\Train\\RightPalm\\s83_10_R_S2.jpg\n",
      "✅ Moved s83_1_L_S2.jpg → C:\\Users\\hp\\Documents\\dataset\\PalmDataset\\Palm\\Train\\LeftPalm\\s83_1_L_S2.jpg\n",
      "✅ Moved s83_1_R_S2.jpg → C:\\Users\\hp\\Documents\\dataset\\PalmDataset\\Palm\\Train\\LeftPalm\\s83_1_R_S2.jpg\n",
      "✅ Moved s83_2_L_S2.jpg → C:\\Users\\hp\\Documents\\dataset\\PalmDataset\\Palm\\Train\\LeftPalm\\s83_2_L_S2.jpg\n",
      "✅ Moved s83_3_L_S2.jpg → C:\\Users\\hp\\Documents\\dataset\\PalmDataset\\Palm\\Train\\RightPalm\\s83_3_L_S2.jpg\n",
      "✅ Moved s83_3_R_S2.jpg → C:\\Users\\hp\\Documents\\dataset\\PalmDataset\\Palm\\Train\\RightPalm\\s83_3_R_S2.jpg\n",
      "✅ Moved s83_4_L_S2.jpg → C:\\Users\\hp\\Documents\\dataset\\PalmDataset\\Palm\\Train\\LeftPalm\\s83_4_L_S2.jpg\n",
      "✅ Moved s83_4_R_S2.jpg → C:\\Users\\hp\\Documents\\dataset\\PalmDataset\\Palm\\Train\\LeftPalm\\s83_4_R_S2.jpg\n",
      "✅ Moved s83_5_L_S2.jpg → C:\\Users\\hp\\Documents\\dataset\\PalmDataset\\Palm\\Train\\RightPalm\\s83_5_L_S2.jpg\n",
      "✅ Moved s83_5_R_S2.jpg → C:\\Users\\hp\\Documents\\dataset\\PalmDataset\\Palm\\Train\\LeftPalm\\s83_5_R_S2.jpg\n",
      "✅ Moved s83_6_L_S2.jpg → C:\\Users\\hp\\Documents\\dataset\\PalmDataset\\Palm\\Train\\LeftPalm\\s83_6_L_S2.jpg\n",
      "✅ Moved s83_6_R_S2.jpg → C:\\Users\\hp\\Documents\\dataset\\PalmDataset\\Palm\\Train\\LeftPalm\\s83_6_R_S2.jpg\n",
      "✅ Moved s83_7_R_S2.jpg → C:\\Users\\hp\\Documents\\dataset\\PalmDataset\\Palm\\Train\\RightPalm\\s83_7_R_S2.jpg\n",
      "✅ Moved s83_8_L_S2.jpg → C:\\Users\\hp\\Documents\\dataset\\PalmDataset\\Palm\\Train\\LeftPalm\\s83_8_L_S2.jpg\n",
      "✅ Moved s83_8_R_S2.jpg → C:\\Users\\hp\\Documents\\dataset\\PalmDataset\\Palm\\Train\\LeftPalm\\s83_8_R_S2.jpg\n",
      "✅ Moved s83_9_R_S2.jpg → C:\\Users\\hp\\Documents\\dataset\\PalmDataset\\Palm\\Train\\RightPalm\\s83_9_R_S2.jpg\n",
      "✅ Moved s84_10_L_S2.jpg → C:\\Users\\hp\\Documents\\dataset\\PalmDataset\\Palm\\Train\\RightPalm\\s84_10_L_S2.jpg\n",
      "✅ Moved s84_1_L_S2.jpg → C:\\Users\\hp\\Documents\\dataset\\PalmDataset\\Palm\\Train\\RightPalm\\s84_1_L_S2.jpg\n",
      "✅ Moved s84_1_R_S2.jpg → C:\\Users\\hp\\Documents\\dataset\\PalmDataset\\Palm\\Train\\LeftPalm\\s84_1_R_S2.jpg\n",
      "✅ Moved s84_2_L_S2.jpg → C:\\Users\\hp\\Documents\\dataset\\PalmDataset\\Palm\\Train\\RightPalm\\s84_2_L_S2.jpg\n",
      "✅ Moved s84_2_R_S2.jpg → C:\\Users\\hp\\Documents\\dataset\\PalmDataset\\Palm\\Train\\LeftPalm\\s84_2_R_S2.jpg\n",
      "✅ Moved s84_3_L_S2.jpg → C:\\Users\\hp\\Documents\\dataset\\PalmDataset\\Palm\\Train\\RightPalm\\s84_3_L_S2.jpg\n",
      "✅ Moved s84_3_R_S2.jpg → C:\\Users\\hp\\Documents\\dataset\\PalmDataset\\Palm\\Train\\RightPalm\\s84_3_R_S2.jpg\n",
      "✅ Moved s84_4_L_S2.jpg → C:\\Users\\hp\\Documents\\dataset\\PalmDataset\\Palm\\Train\\RightPalm\\s84_4_L_S2.jpg\n",
      "✅ Moved s84_4_R_S2.jpg → C:\\Users\\hp\\Documents\\dataset\\PalmDataset\\Palm\\Train\\LeftPalm\\s84_4_R_S2.jpg\n",
      "✅ Moved s84_5_L_S2.jpg → C:\\Users\\hp\\Documents\\dataset\\PalmDataset\\Palm\\Train\\RightPalm\\s84_5_L_S2.jpg\n",
      "✅ Moved s84_5_R_S2.jpg → C:\\Users\\hp\\Documents\\dataset\\PalmDataset\\Palm\\Train\\RightPalm\\s84_5_R_S2.jpg\n",
      "✅ Moved s84_7_L_S2.jpg → C:\\Users\\hp\\Documents\\dataset\\PalmDataset\\Palm\\Train\\LeftPalm\\s84_7_L_S2.jpg\n",
      "✅ Moved s84_7_R_S2.jpg → C:\\Users\\hp\\Documents\\dataset\\PalmDataset\\Palm\\Train\\RightPalm\\s84_7_R_S2.jpg\n",
      "✅ Moved s84_8_L_S2.jpg → C:\\Users\\hp\\Documents\\dataset\\PalmDataset\\Palm\\Train\\RightPalm\\s84_8_L_S2.jpg\n",
      "✅ Moved s84_8_R_S2.jpg → C:\\Users\\hp\\Documents\\dataset\\PalmDataset\\Palm\\Train\\LeftPalm\\s84_8_R_S2.jpg\n",
      "✅ Moved s84_9_L_S2.jpg → C:\\Users\\hp\\Documents\\dataset\\PalmDataset\\Palm\\Train\\LeftPalm\\s84_9_L_S2.jpg\n",
      "✅ Moved s84_9_R_S2.jpg → C:\\Users\\hp\\Documents\\dataset\\PalmDataset\\Palm\\Train\\RightPalm\\s84_9_R_S2.jpg\n",
      "✅ Moved s85_10_L_S2.jpg → C:\\Users\\hp\\Documents\\dataset\\PalmDataset\\Palm\\Train\\LeftPalm\\s85_10_L_S2.jpg\n",
      "✅ Moved s85_10_R_S2.jpg → C:\\Users\\hp\\Documents\\dataset\\PalmDataset\\Palm\\Train\\RightPalm\\s85_10_R_S2.jpg\n",
      "✅ Moved s85_1_L_S2.jpg → C:\\Users\\hp\\Documents\\dataset\\PalmDataset\\Palm\\Train\\RightPalm\\s85_1_L_S2.jpg\n",
      "✅ Moved s85_1_R_S2.jpg → C:\\Users\\hp\\Documents\\dataset\\PalmDataset\\Palm\\Train\\LeftPalm\\s85_1_R_S2.jpg\n",
      "✅ Moved s85_2_L_S2.jpg → C:\\Users\\hp\\Documents\\dataset\\PalmDataset\\Palm\\Train\\LeftPalm\\s85_2_L_S2.jpg\n",
      "✅ Moved s85_2_R_S2.jpg → C:\\Users\\hp\\Documents\\dataset\\PalmDataset\\Palm\\Train\\RightPalm\\s85_2_R_S2.jpg\n",
      "✅ Moved s85_3_L_S2.jpg → C:\\Users\\hp\\Documents\\dataset\\PalmDataset\\Palm\\Train\\LeftPalm\\s85_3_L_S2.jpg\n",
      "✅ Moved s85_3_R_S2.jpg → C:\\Users\\hp\\Documents\\dataset\\PalmDataset\\Palm\\Train\\RightPalm\\s85_3_R_S2.jpg\n",
      "✅ Moved s85_4_R_S2.jpg → C:\\Users\\hp\\Documents\\dataset\\PalmDataset\\Palm\\Train\\LeftPalm\\s85_4_R_S2.jpg\n",
      "✅ Moved s85_5_L_S2.jpg → C:\\Users\\hp\\Documents\\dataset\\PalmDataset\\Palm\\Train\\LeftPalm\\s85_5_L_S2.jpg\n",
      "✅ Moved s85_6_L_S2.jpg → C:\\Users\\hp\\Documents\\dataset\\PalmDataset\\Palm\\Train\\RightPalm\\s85_6_L_S2.jpg\n",
      "✅ Moved s85_6_R_S2.jpg → C:\\Users\\hp\\Documents\\dataset\\PalmDataset\\Palm\\Train\\LeftPalm\\s85_6_R_S2.jpg\n",
      "✅ Moved s85_7_R_S2.jpg → C:\\Users\\hp\\Documents\\dataset\\PalmDataset\\Palm\\Train\\RightPalm\\s85_7_R_S2.jpg\n",
      "✅ Moved s85_8_L_S2.jpg → C:\\Users\\hp\\Documents\\dataset\\PalmDataset\\Palm\\Train\\LeftPalm\\s85_8_L_S2.jpg\n",
      "✅ Moved s85_9_L_S2.jpg → C:\\Users\\hp\\Documents\\dataset\\PalmDataset\\Palm\\Train\\RightPalm\\s85_9_L_S2.jpg\n",
      "✅ Moved s85_9_R_S2.jpg → C:\\Users\\hp\\Documents\\dataset\\PalmDataset\\Palm\\Train\\LeftPalm\\s85_9_R_S2.jpg\n",
      "✅ Moved s86_10_L_S2.jpg → C:\\Users\\hp\\Documents\\dataset\\PalmDataset\\Palm\\Train\\LeftPalm\\s86_10_L_S2.jpg\n",
      "✅ Moved s86_1_L_S2.jpg → C:\\Users\\hp\\Documents\\dataset\\PalmDataset\\Palm\\Train\\LeftPalm\\s86_1_L_S2.jpg\n",
      "✅ Moved s86_1_R_S2.jpg → C:\\Users\\hp\\Documents\\dataset\\PalmDataset\\Palm\\Train\\RightPalm\\s86_1_R_S2.jpg\n",
      "✅ Moved s86_3_R_S2.jpg → C:\\Users\\hp\\Documents\\dataset\\PalmDataset\\Palm\\Train\\RightPalm\\s86_3_R_S2.jpg\n",
      "✅ Moved s86_5_L_S2.jpg → C:\\Users\\hp\\Documents\\dataset\\PalmDataset\\Palm\\Train\\RightPalm\\s86_5_L_S2.jpg\n",
      "✅ Moved s86_5_R_S2.jpg → C:\\Users\\hp\\Documents\\dataset\\PalmDataset\\Palm\\Train\\RightPalm\\s86_5_R_S2.jpg\n",
      "✅ Moved s86_6_L_S2.jpg → C:\\Users\\hp\\Documents\\dataset\\PalmDataset\\Palm\\Train\\LeftPalm\\s86_6_L_S2.jpg\n",
      "✅ Moved s86_6_R_S2.jpg → C:\\Users\\hp\\Documents\\dataset\\PalmDataset\\Palm\\Train\\LeftPalm\\s86_6_R_S2.jpg\n",
      "✅ Moved s86_7_R_S2.jpg → C:\\Users\\hp\\Documents\\dataset\\PalmDataset\\Palm\\Train\\LeftPalm\\s86_7_R_S2.jpg\n",
      "✅ Moved s86_8_L_S2.jpg → C:\\Users\\hp\\Documents\\dataset\\PalmDataset\\Palm\\Train\\LeftPalm\\s86_8_L_S2.jpg\n",
      "✅ Moved s86_9_L_S2.jpg → C:\\Users\\hp\\Documents\\dataset\\PalmDataset\\Palm\\Train\\RightPalm\\s86_9_L_S2.jpg\n",
      "✅ Moved s86_9_R_S2.jpg → C:\\Users\\hp\\Documents\\dataset\\PalmDataset\\Palm\\Train\\RightPalm\\s86_9_R_S2.jpg\n",
      "✅ Moved s87_10_L_S2.jpg → C:\\Users\\hp\\Documents\\dataset\\PalmDataset\\Palm\\Train\\LeftPalm\\s87_10_L_S2.jpg\n",
      "✅ Moved s87_10_R_S2.jpg → C:\\Users\\hp\\Documents\\dataset\\PalmDataset\\Palm\\Train\\RightPalm\\s87_10_R_S2.jpg\n",
      "✅ Moved s87_1_L_S2.jpg → C:\\Users\\hp\\Documents\\dataset\\PalmDataset\\Palm\\Train\\RightPalm\\s87_1_L_S2.jpg\n",
      "✅ Moved s87_2_R_S2.jpg → C:\\Users\\hp\\Documents\\dataset\\PalmDataset\\Palm\\Train\\LeftPalm\\s87_2_R_S2.jpg\n",
      "✅ Moved s87_3_L_S2.jpg → C:\\Users\\hp\\Documents\\dataset\\PalmDataset\\Palm\\Train\\RightPalm\\s87_3_L_S2.jpg\n",
      "✅ Moved s87_3_R_S2.jpg → C:\\Users\\hp\\Documents\\dataset\\PalmDataset\\Palm\\Train\\RightPalm\\s87_3_R_S2.jpg\n",
      "✅ Moved s87_4_L_S2.jpg → C:\\Users\\hp\\Documents\\dataset\\PalmDataset\\Palm\\Train\\RightPalm\\s87_4_L_S2.jpg\n",
      "✅ Moved s87_4_R_S2.jpg → C:\\Users\\hp\\Documents\\dataset\\PalmDataset\\Palm\\Train\\LeftPalm\\s87_4_R_S2.jpg\n",
      "✅ Moved s87_5_L_S2.jpg → C:\\Users\\hp\\Documents\\dataset\\PalmDataset\\Palm\\Train\\LeftPalm\\s87_5_L_S2.jpg\n",
      "✅ Moved s87_5_R_S2.jpg → C:\\Users\\hp\\Documents\\dataset\\PalmDataset\\Palm\\Train\\RightPalm\\s87_5_R_S2.jpg\n",
      "✅ Moved s87_6_L_S2.jpg → C:\\Users\\hp\\Documents\\dataset\\PalmDataset\\Palm\\Train\\LeftPalm\\s87_6_L_S2.jpg\n",
      "✅ Moved s87_6_R_S2.jpg → C:\\Users\\hp\\Documents\\dataset\\PalmDataset\\Palm\\Train\\RightPalm\\s87_6_R_S2.jpg\n",
      "✅ Moved s87_8_R_S2.jpg → C:\\Users\\hp\\Documents\\dataset\\PalmDataset\\Palm\\Train\\RightPalm\\s87_8_R_S2.jpg\n",
      "✅ Moved s87_9_L_S2.jpg → C:\\Users\\hp\\Documents\\dataset\\PalmDataset\\Palm\\Train\\RightPalm\\s87_9_L_S2.jpg\n",
      "✅ Moved s87_9_R_S2.jpg → C:\\Users\\hp\\Documents\\dataset\\PalmDataset\\Palm\\Train\\LeftPalm\\s87_9_R_S2.jpg\n",
      "✅ Moved s88_10_L_S2.jpg → C:\\Users\\hp\\Documents\\dataset\\PalmDataset\\Palm\\Train\\RightPalm\\s88_10_L_S2.jpg\n",
      "✅ Moved s88_10_R_S2.jpg → C:\\Users\\hp\\Documents\\dataset\\PalmDataset\\Palm\\Train\\LeftPalm\\s88_10_R_S2.jpg\n",
      "✅ Moved s88_1_L_S2.jpg → C:\\Users\\hp\\Documents\\dataset\\PalmDataset\\Palm\\Train\\RightPalm\\s88_1_L_S2.jpg\n",
      "✅ Moved s88_1_R_S2.jpg → C:\\Users\\hp\\Documents\\dataset\\PalmDataset\\Palm\\Train\\LeftPalm\\s88_1_R_S2.jpg\n",
      "✅ Moved s88_2_L_S2.jpg → C:\\Users\\hp\\Documents\\dataset\\PalmDataset\\Palm\\Train\\LeftPalm\\s88_2_L_S2.jpg\n",
      "✅ Moved s88_2_R_S2.jpg → C:\\Users\\hp\\Documents\\dataset\\PalmDataset\\Palm\\Train\\RightPalm\\s88_2_R_S2.jpg\n",
      "✅ Moved s88_3_L_S2.jpg → C:\\Users\\hp\\Documents\\dataset\\PalmDataset\\Palm\\Train\\RightPalm\\s88_3_L_S2.jpg\n",
      "✅ Moved s88_4_L_S2.jpg → C:\\Users\\hp\\Documents\\dataset\\PalmDataset\\Palm\\Train\\LeftPalm\\s88_4_L_S2.jpg\n",
      "✅ Moved s88_5_L_S2.jpg → C:\\Users\\hp\\Documents\\dataset\\PalmDataset\\Palm\\Train\\LeftPalm\\s88_5_L_S2.jpg\n",
      "✅ Moved s88_5_R_S2.jpg → C:\\Users\\hp\\Documents\\dataset\\PalmDataset\\Palm\\Train\\RightPalm\\s88_5_R_S2.jpg\n",
      "✅ Moved s88_6_R_S2.jpg → C:\\Users\\hp\\Documents\\dataset\\PalmDataset\\Palm\\Train\\RightPalm\\s88_6_R_S2.jpg\n",
      "✅ Moved s88_7_L_S2.jpg → C:\\Users\\hp\\Documents\\dataset\\PalmDataset\\Palm\\Train\\LeftPalm\\s88_7_L_S2.jpg\n",
      "✅ Moved s88_7_R_S2.jpg → C:\\Users\\hp\\Documents\\dataset\\PalmDataset\\Palm\\Train\\LeftPalm\\s88_7_R_S2.jpg\n",
      "✅ Moved s88_8_L_S2.jpg → C:\\Users\\hp\\Documents\\dataset\\PalmDataset\\Palm\\Train\\LeftPalm\\s88_8_L_S2.jpg\n",
      "✅ Moved s88_8_R_S2.jpg → C:\\Users\\hp\\Documents\\dataset\\PalmDataset\\Palm\\Train\\RightPalm\\s88_8_R_S2.jpg\n",
      "✅ Moved s88_9_R_S2.jpg → C:\\Users\\hp\\Documents\\dataset\\PalmDataset\\Palm\\Train\\RightPalm\\s88_9_R_S2.jpg\n",
      "✅ Moved s89_10_L_S2.jpg → C:\\Users\\hp\\Documents\\dataset\\PalmDataset\\Palm\\Train\\LeftPalm\\s89_10_L_S2.jpg\n",
      "✅ Moved s89_10_R_S2.jpg → C:\\Users\\hp\\Documents\\dataset\\PalmDataset\\Palm\\Train\\LeftPalm\\s89_10_R_S2.jpg\n",
      "✅ Moved s89_2_L_S2.jpg → C:\\Users\\hp\\Documents\\dataset\\PalmDataset\\Palm\\Train\\LeftPalm\\s89_2_L_S2.jpg\n",
      "✅ Moved s89_2_R_S2.jpg → C:\\Users\\hp\\Documents\\dataset\\PalmDataset\\Palm\\Train\\LeftPalm\\s89_2_R_S2.jpg\n",
      "✅ Moved s89_3_L_S2.jpg → C:\\Users\\hp\\Documents\\dataset\\PalmDataset\\Palm\\Train\\LeftPalm\\s89_3_L_S2.jpg\n",
      "✅ Moved s89_4_L_S2.jpg → C:\\Users\\hp\\Documents\\dataset\\PalmDataset\\Palm\\Train\\LeftPalm\\s89_4_L_S2.jpg\n",
      "✅ Moved s89_5_R_S2.jpg → C:\\Users\\hp\\Documents\\dataset\\PalmDataset\\Palm\\Train\\RightPalm\\s89_5_R_S2.jpg\n",
      "✅ Moved s89_6_L_S2.jpg → C:\\Users\\hp\\Documents\\dataset\\PalmDataset\\Palm\\Train\\RightPalm\\s89_6_L_S2.jpg\n",
      "✅ Moved s89_6_R_S2.jpg → C:\\Users\\hp\\Documents\\dataset\\PalmDataset\\Palm\\Train\\LeftPalm\\s89_6_R_S2.jpg\n",
      "✅ Moved s89_7_L_S2.jpg → C:\\Users\\hp\\Documents\\dataset\\PalmDataset\\Palm\\Train\\LeftPalm\\s89_7_L_S2.jpg\n",
      "✅ Moved s89_7_R_S2.jpg → C:\\Users\\hp\\Documents\\dataset\\PalmDataset\\Palm\\Train\\RightPalm\\s89_7_R_S2.jpg\n",
      "✅ Moved s89_8_L_S2.jpg → C:\\Users\\hp\\Documents\\dataset\\PalmDataset\\Palm\\Train\\LeftPalm\\s89_8_L_S2.jpg\n",
      "✅ Moved s89_8_R_S2.jpg → C:\\Users\\hp\\Documents\\dataset\\PalmDataset\\Palm\\Train\\LeftPalm\\s89_8_R_S2.jpg\n",
      "✅ Moved s89_9_L_S2.jpg → C:\\Users\\hp\\Documents\\dataset\\PalmDataset\\Palm\\Train\\RightPalm\\s89_9_L_S2.jpg\n",
      "✅ Moved s8_10_L_S2.jpg → C:\\Users\\hp\\Documents\\dataset\\PalmDataset\\Palm\\Train\\RightPalm\\s8_10_L_S2.jpg\n",
      "✅ Moved s8_10_R_S2.jpg → C:\\Users\\hp\\Documents\\dataset\\PalmDataset\\Palm\\Train\\LeftPalm\\s8_10_R_S2.jpg\n",
      "✅ Moved s8_1_L_S2.jpg → C:\\Users\\hp\\Documents\\dataset\\PalmDataset\\Palm\\Train\\RightPalm\\s8_1_L_S2.jpg\n",
      "✅ Moved s8_1_R_S2.jpg → C:\\Users\\hp\\Documents\\dataset\\PalmDataset\\Palm\\Train\\RightPalm\\s8_1_R_S2.jpg\n",
      "✅ Moved s8_2_L_S2.jpg → C:\\Users\\hp\\Documents\\dataset\\PalmDataset\\Palm\\Train\\RightPalm\\s8_2_L_S2.jpg\n",
      "✅ Moved s8_2_R_S2.jpg → C:\\Users\\hp\\Documents\\dataset\\PalmDataset\\Palm\\Train\\LeftPalm\\s8_2_R_S2.jpg\n",
      "✅ Moved s8_3_L_S2.jpg → C:\\Users\\hp\\Documents\\dataset\\PalmDataset\\Palm\\Train\\LeftPalm\\s8_3_L_S2.jpg\n",
      "✅ Moved s8_3_R_S2.jpg → C:\\Users\\hp\\Documents\\dataset\\PalmDataset\\Palm\\Train\\RightPalm\\s8_3_R_S2.jpg\n",
      "✅ Moved s8_4_L_S2.jpg → C:\\Users\\hp\\Documents\\dataset\\PalmDataset\\Palm\\Train\\RightPalm\\s8_4_L_S2.jpg\n",
      "✅ Moved s8_4_R_S2.jpg → C:\\Users\\hp\\Documents\\dataset\\PalmDataset\\Palm\\Train\\LeftPalm\\s8_4_R_S2.jpg\n",
      "✅ Moved s8_5_L_S2.jpg → C:\\Users\\hp\\Documents\\dataset\\PalmDataset\\Palm\\Train\\LeftPalm\\s8_5_L_S2.jpg\n",
      "✅ Moved s8_5_R_S2.jpg → C:\\Users\\hp\\Documents\\dataset\\PalmDataset\\Palm\\Train\\LeftPalm\\s8_5_R_S2.jpg\n",
      "✅ Moved s8_6_R_S2.jpg → C:\\Users\\hp\\Documents\\dataset\\PalmDataset\\Palm\\Train\\LeftPalm\\s8_6_R_S2.jpg\n",
      "✅ Moved s8_7_L_S2.jpg → C:\\Users\\hp\\Documents\\dataset\\PalmDataset\\Palm\\Train\\LeftPalm\\s8_7_L_S2.jpg\n",
      "✅ Moved s8_7_R_S2.jpg → C:\\Users\\hp\\Documents\\dataset\\PalmDataset\\Palm\\Train\\RightPalm\\s8_7_R_S2.jpg\n",
      "✅ Moved s8_8_L_S2.jpg → C:\\Users\\hp\\Documents\\dataset\\PalmDataset\\Palm\\Train\\LeftPalm\\s8_8_L_S2.jpg\n",
      "✅ Moved s8_8_R_S2.jpg → C:\\Users\\hp\\Documents\\dataset\\PalmDataset\\Palm\\Train\\RightPalm\\s8_8_R_S2.jpg\n",
      "✅ Moved s8_9_L_S2.jpg → C:\\Users\\hp\\Documents\\dataset\\PalmDataset\\Palm\\Train\\RightPalm\\s8_9_L_S2.jpg\n",
      "✅ Moved s8_9_R_S2.jpg → C:\\Users\\hp\\Documents\\dataset\\PalmDataset\\Palm\\Train\\LeftPalm\\s8_9_R_S2.jpg\n",
      "✅ Moved s90_10_L_S2.jpg → C:\\Users\\hp\\Documents\\dataset\\PalmDataset\\Palm\\Train\\LeftPalm\\s90_10_L_S2.jpg\n",
      "✅ Moved s90_1_L_S2.jpg → C:\\Users\\hp\\Documents\\dataset\\PalmDataset\\Palm\\Train\\RightPalm\\s90_1_L_S2.jpg\n",
      "✅ Moved s90_1_R_S2.jpg → C:\\Users\\hp\\Documents\\dataset\\PalmDataset\\Palm\\Train\\LeftPalm\\s90_1_R_S2.jpg\n",
      "✅ Moved s90_2_L_S2.jpg → C:\\Users\\hp\\Documents\\dataset\\PalmDataset\\Palm\\Train\\RightPalm\\s90_2_L_S2.jpg\n",
      "✅ Moved s90_2_R_S2.jpg → C:\\Users\\hp\\Documents\\dataset\\PalmDataset\\Palm\\Train\\RightPalm\\s90_2_R_S2.jpg\n",
      "✅ Moved s90_3_L_S2.jpg → C:\\Users\\hp\\Documents\\dataset\\PalmDataset\\Palm\\Train\\RightPalm\\s90_3_L_S2.jpg\n",
      "✅ Moved s90_3_R_S2.jpg → C:\\Users\\hp\\Documents\\dataset\\PalmDataset\\Palm\\Train\\LeftPalm\\s90_3_R_S2.jpg\n",
      "✅ Moved s90_4_L_S2.jpg → C:\\Users\\hp\\Documents\\dataset\\PalmDataset\\Palm\\Train\\RightPalm\\s90_4_L_S2.jpg\n",
      "✅ Moved s90_4_R_S2.jpg → C:\\Users\\hp\\Documents\\dataset\\PalmDataset\\Palm\\Train\\LeftPalm\\s90_4_R_S2.jpg\n",
      "✅ Moved s90_5_L_S2.jpg → C:\\Users\\hp\\Documents\\dataset\\PalmDataset\\Palm\\Train\\RightPalm\\s90_5_L_S2.jpg\n",
      "✅ Moved s90_5_R_S2.jpg → C:\\Users\\hp\\Documents\\dataset\\PalmDataset\\Palm\\Train\\LeftPalm\\s90_5_R_S2.jpg\n",
      "✅ Moved s90_6_R_S2.jpg → C:\\Users\\hp\\Documents\\dataset\\PalmDataset\\Palm\\Train\\RightPalm\\s90_6_R_S2.jpg\n",
      "✅ Moved s90_7_L_S2.jpg → C:\\Users\\hp\\Documents\\dataset\\PalmDataset\\Palm\\Train\\RightPalm\\s90_7_L_S2.jpg\n",
      "✅ Moved s90_7_R_S2.jpg → C:\\Users\\hp\\Documents\\dataset\\PalmDataset\\Palm\\Train\\LeftPalm\\s90_7_R_S2.jpg\n",
      "✅ Moved s90_8_L_S2.jpg → C:\\Users\\hp\\Documents\\dataset\\PalmDataset\\Palm\\Train\\LeftPalm\\s90_8_L_S2.jpg\n",
      "✅ Moved s90_8_R_S2.jpg → C:\\Users\\hp\\Documents\\dataset\\PalmDataset\\Palm\\Train\\RightPalm\\s90_8_R_S2.jpg\n",
      "✅ Moved s90_9_L_S2.jpg → C:\\Users\\hp\\Documents\\dataset\\PalmDataset\\Palm\\Train\\LeftPalm\\s90_9_L_S2.jpg\n",
      "✅ Moved s90_9_R_S2.jpg → C:\\Users\\hp\\Documents\\dataset\\PalmDataset\\Palm\\Train\\LeftPalm\\s90_9_R_S2.jpg\n",
      "✅ Moved s91_10_L_S2.jpg → C:\\Users\\hp\\Documents\\dataset\\PalmDataset\\Palm\\Train\\RightPalm\\s91_10_L_S2.jpg\n",
      "✅ Moved s91_10_R_S2.jpg → C:\\Users\\hp\\Documents\\dataset\\PalmDataset\\Palm\\Train\\LeftPalm\\s91_10_R_S2.jpg\n",
      "✅ Moved s91_1_L_S2.jpg → C:\\Users\\hp\\Documents\\dataset\\PalmDataset\\Palm\\Train\\LeftPalm\\s91_1_L_S2.jpg\n",
      "✅ Moved s91_1_R_S2.jpg → C:\\Users\\hp\\Documents\\dataset\\PalmDataset\\Palm\\Train\\LeftPalm\\s91_1_R_S2.jpg\n",
      "✅ Moved s91_2_L_S2.jpg → C:\\Users\\hp\\Documents\\dataset\\PalmDataset\\Palm\\Train\\LeftPalm\\s91_2_L_S2.jpg\n",
      "✅ Moved s91_3_R_S2.jpg → C:\\Users\\hp\\Documents\\dataset\\PalmDataset\\Palm\\Train\\LeftPalm\\s91_3_R_S2.jpg\n",
      "✅ Moved s91_4_L_S2.jpg → C:\\Users\\hp\\Documents\\dataset\\PalmDataset\\Palm\\Train\\RightPalm\\s91_4_L_S2.jpg\n",
      "✅ Moved s91_4_R_S2.jpg → C:\\Users\\hp\\Documents\\dataset\\PalmDataset\\Palm\\Train\\RightPalm\\s91_4_R_S2.jpg\n",
      "✅ Moved s91_5_L_S2.jpg → C:\\Users\\hp\\Documents\\dataset\\PalmDataset\\Palm\\Train\\LeftPalm\\s91_5_L_S2.jpg\n",
      "✅ Moved s91_5_R_S2.jpg → C:\\Users\\hp\\Documents\\dataset\\PalmDataset\\Palm\\Train\\LeftPalm\\s91_5_R_S2.jpg\n",
      "✅ Moved s91_6_L_S2.jpg → C:\\Users\\hp\\Documents\\dataset\\PalmDataset\\Palm\\Train\\LeftPalm\\s91_6_L_S2.jpg\n",
      "✅ Moved s91_6_R_S2.jpg → C:\\Users\\hp\\Documents\\dataset\\PalmDataset\\Palm\\Train\\LeftPalm\\s91_6_R_S2.jpg\n",
      "✅ Moved s91_7_L_S2.jpg → C:\\Users\\hp\\Documents\\dataset\\PalmDataset\\Palm\\Train\\LeftPalm\\s91_7_L_S2.jpg\n",
      "✅ Moved s91_7_R_S2.jpg → C:\\Users\\hp\\Documents\\dataset\\PalmDataset\\Palm\\Train\\LeftPalm\\s91_7_R_S2.jpg\n",
      "✅ Moved s91_8_L_S2.jpg → C:\\Users\\hp\\Documents\\dataset\\PalmDataset\\Palm\\Train\\LeftPalm\\s91_8_L_S2.jpg\n",
      "✅ Moved s91_8_R_S2.jpg → C:\\Users\\hp\\Documents\\dataset\\PalmDataset\\Palm\\Train\\LeftPalm\\s91_8_R_S2.jpg\n",
      "✅ Moved s91_9_L_S2.jpg → C:\\Users\\hp\\Documents\\dataset\\PalmDataset\\Palm\\Train\\RightPalm\\s91_9_L_S2.jpg\n",
      "✅ Moved s92_10_L_S2.jpg → C:\\Users\\hp\\Documents\\dataset\\PalmDataset\\Palm\\Train\\RightPalm\\s92_10_L_S2.jpg\n",
      "✅ Moved s92_10_R_S2.jpg → C:\\Users\\hp\\Documents\\dataset\\PalmDataset\\Palm\\Train\\RightPalm\\s92_10_R_S2.jpg\n",
      "✅ Moved s92_1_L_S2.jpg → C:\\Users\\hp\\Documents\\dataset\\PalmDataset\\Palm\\Train\\RightPalm\\s92_1_L_S2.jpg\n",
      "✅ Moved s92_2_L_S2.jpg → C:\\Users\\hp\\Documents\\dataset\\PalmDataset\\Palm\\Train\\LeftPalm\\s92_2_L_S2.jpg\n",
      "✅ Moved s92_3_L_S2.jpg → C:\\Users\\hp\\Documents\\dataset\\PalmDataset\\Palm\\Train\\RightPalm\\s92_3_L_S2.jpg\n",
      "✅ Moved s92_4_L_S2.jpg → C:\\Users\\hp\\Documents\\dataset\\PalmDataset\\Palm\\Train\\LeftPalm\\s92_4_L_S2.jpg\n",
      "✅ Moved s92_5_R_S2.jpg → C:\\Users\\hp\\Documents\\dataset\\PalmDataset\\Palm\\Train\\LeftPalm\\s92_5_R_S2.jpg\n",
      "✅ Moved s92_6_L_S2.jpg → C:\\Users\\hp\\Documents\\dataset\\PalmDataset\\Palm\\Train\\LeftPalm\\s92_6_L_S2.jpg\n",
      "✅ Moved s92_6_R_S2.jpg → C:\\Users\\hp\\Documents\\dataset\\PalmDataset\\Palm\\Train\\LeftPalm\\s92_6_R_S2.jpg\n",
      "✅ Moved s92_7_L_S2.jpg → C:\\Users\\hp\\Documents\\dataset\\PalmDataset\\Palm\\Train\\RightPalm\\s92_7_L_S2.jpg\n",
      "✅ Moved s92_7_R_S2.jpg → C:\\Users\\hp\\Documents\\dataset\\PalmDataset\\Palm\\Train\\RightPalm\\s92_7_R_S2.jpg\n",
      "✅ Moved s92_8_L_S2.jpg → C:\\Users\\hp\\Documents\\dataset\\PalmDataset\\Palm\\Train\\RightPalm\\s92_8_L_S2.jpg\n",
      "✅ Moved s92_9_R_S2.jpg → C:\\Users\\hp\\Documents\\dataset\\PalmDataset\\Palm\\Train\\RightPalm\\s92_9_R_S2.jpg\n",
      "✅ Moved s93_10_R_S2.jpg → C:\\Users\\hp\\Documents\\dataset\\PalmDataset\\Palm\\Train\\LeftPalm\\s93_10_R_S2.jpg\n",
      "✅ Moved s93_1_L_S2.jpg → C:\\Users\\hp\\Documents\\dataset\\PalmDataset\\Palm\\Train\\LeftPalm\\s93_1_L_S2.jpg\n",
      "✅ Moved s93_1_R_S2.jpg → C:\\Users\\hp\\Documents\\dataset\\PalmDataset\\Palm\\Train\\LeftPalm\\s93_1_R_S2.jpg\n",
      "✅ Moved s93_2_L_S2.jpg → C:\\Users\\hp\\Documents\\dataset\\PalmDataset\\Palm\\Train\\LeftPalm\\s93_2_L_S2.jpg\n",
      "✅ Moved s93_2_R_S2.jpg → C:\\Users\\hp\\Documents\\dataset\\PalmDataset\\Palm\\Train\\LeftPalm\\s93_2_R_S2.jpg\n",
      "✅ Moved s93_3_L_S2.jpg → C:\\Users\\hp\\Documents\\dataset\\PalmDataset\\Palm\\Train\\LeftPalm\\s93_3_L_S2.jpg\n",
      "✅ Moved s93_3_R_S2.jpg → C:\\Users\\hp\\Documents\\dataset\\PalmDataset\\Palm\\Train\\RightPalm\\s93_3_R_S2.jpg\n",
      "✅ Moved s93_4_L_S2.jpg → C:\\Users\\hp\\Documents\\dataset\\PalmDataset\\Palm\\Train\\RightPalm\\s93_4_L_S2.jpg\n",
      "✅ Moved s93_5_L_S2.jpg → C:\\Users\\hp\\Documents\\dataset\\PalmDataset\\Palm\\Train\\RightPalm\\s93_5_L_S2.jpg\n",
      "✅ Moved s93_5_R_S2.jpg → C:\\Users\\hp\\Documents\\dataset\\PalmDataset\\Palm\\Train\\RightPalm\\s93_5_R_S2.jpg\n",
      "✅ Moved s93_6_L_S2.jpg → C:\\Users\\hp\\Documents\\dataset\\PalmDataset\\Palm\\Train\\LeftPalm\\s93_6_L_S2.jpg\n",
      "✅ Moved s93_6_R_S2.jpg → C:\\Users\\hp\\Documents\\dataset\\PalmDataset\\Palm\\Train\\LeftPalm\\s93_6_R_S2.jpg\n",
      "✅ Moved s93_7_L_S2.jpg → C:\\Users\\hp\\Documents\\dataset\\PalmDataset\\Palm\\Train\\LeftPalm\\s93_7_L_S2.jpg\n",
      "✅ Moved s93_7_R_S2.jpg → C:\\Users\\hp\\Documents\\dataset\\PalmDataset\\Palm\\Train\\RightPalm\\s93_7_R_S2.jpg\n",
      "✅ Moved s93_8_L_S2.jpg → C:\\Users\\hp\\Documents\\dataset\\PalmDataset\\Palm\\Train\\LeftPalm\\s93_8_L_S2.jpg\n",
      "✅ Moved s93_8_R_S2.jpg → C:\\Users\\hp\\Documents\\dataset\\PalmDataset\\Palm\\Train\\LeftPalm\\s93_8_R_S2.jpg\n",
      "✅ Moved s93_9_L_S2.jpg → C:\\Users\\hp\\Documents\\dataset\\PalmDataset\\Palm\\Train\\RightPalm\\s93_9_L_S2.jpg\n",
      "✅ Moved s93_9_R_S2.jpg → C:\\Users\\hp\\Documents\\dataset\\PalmDataset\\Palm\\Train\\RightPalm\\s93_9_R_S2.jpg\n",
      "✅ Moved s94_10_L_S2.jpg → C:\\Users\\hp\\Documents\\dataset\\PalmDataset\\Palm\\Train\\RightPalm\\s94_10_L_S2.jpg\n",
      "✅ Moved s94_10_R_S2.jpg → C:\\Users\\hp\\Documents\\dataset\\PalmDataset\\Palm\\Train\\RightPalm\\s94_10_R_S2.jpg\n",
      "✅ Moved s94_1_L_S2.jpg → C:\\Users\\hp\\Documents\\dataset\\PalmDataset\\Palm\\Train\\RightPalm\\s94_1_L_S2.jpg\n",
      "✅ Moved s94_1_R_S2.jpg → C:\\Users\\hp\\Documents\\dataset\\PalmDataset\\Palm\\Train\\RightPalm\\s94_1_R_S2.jpg\n",
      "✅ Moved s94_2_R_S2.jpg → C:\\Users\\hp\\Documents\\dataset\\PalmDataset\\Palm\\Train\\LeftPalm\\s94_2_R_S2.jpg\n",
      "✅ Moved s94_3_L_S2.jpg → C:\\Users\\hp\\Documents\\dataset\\PalmDataset\\Palm\\Train\\RightPalm\\s94_3_L_S2.jpg\n",
      "✅ Moved s94_4_L_S2.jpg → C:\\Users\\hp\\Documents\\dataset\\PalmDataset\\Palm\\Train\\LeftPalm\\s94_4_L_S2.jpg\n",
      "✅ Moved s94_4_R_S2.jpg → C:\\Users\\hp\\Documents\\dataset\\PalmDataset\\Palm\\Train\\LeftPalm\\s94_4_R_S2.jpg\n",
      "✅ Moved s94_5_L_S2.jpg → C:\\Users\\hp\\Documents\\dataset\\PalmDataset\\Palm\\Train\\LeftPalm\\s94_5_L_S2.jpg\n",
      "✅ Moved s94_5_R_S2.jpg → C:\\Users\\hp\\Documents\\dataset\\PalmDataset\\Palm\\Train\\RightPalm\\s94_5_R_S2.jpg\n",
      "✅ Moved s94_6_L_S2.jpg → C:\\Users\\hp\\Documents\\dataset\\PalmDataset\\Palm\\Train\\LeftPalm\\s94_6_L_S2.jpg\n",
      "✅ Moved s94_6_R_S2.jpg → C:\\Users\\hp\\Documents\\dataset\\PalmDataset\\Palm\\Train\\RightPalm\\s94_6_R_S2.jpg\n",
      "✅ Moved s94_7_R_S2.jpg → C:\\Users\\hp\\Documents\\dataset\\PalmDataset\\Palm\\Train\\LeftPalm\\s94_7_R_S2.jpg\n",
      "✅ Moved s94_8_L_S2.jpg → C:\\Users\\hp\\Documents\\dataset\\PalmDataset\\Palm\\Train\\LeftPalm\\s94_8_L_S2.jpg\n",
      "✅ Moved s94_8_R_S2.jpg → C:\\Users\\hp\\Documents\\dataset\\PalmDataset\\Palm\\Train\\RightPalm\\s94_8_R_S2.jpg\n",
      "✅ Moved s94_9_L_S2.jpg → C:\\Users\\hp\\Documents\\dataset\\PalmDataset\\Palm\\Train\\LeftPalm\\s94_9_L_S2.jpg\n",
      "✅ Moved s94_9_R_S2.jpg → C:\\Users\\hp\\Documents\\dataset\\PalmDataset\\Palm\\Train\\LeftPalm\\s94_9_R_S2.jpg\n",
      "✅ Moved s95_10_L_S2.jpg → C:\\Users\\hp\\Documents\\dataset\\PalmDataset\\Palm\\Train\\LeftPalm\\s95_10_L_S2.jpg\n",
      "✅ Moved s95_10_R_S2.jpg → C:\\Users\\hp\\Documents\\dataset\\PalmDataset\\Palm\\Train\\LeftPalm\\s95_10_R_S2.jpg\n",
      "✅ Moved s95_1_R_S2.jpg → C:\\Users\\hp\\Documents\\dataset\\PalmDataset\\Palm\\Train\\LeftPalm\\s95_1_R_S2.jpg\n",
      "✅ Moved s95_2_L_S2.jpg → C:\\Users\\hp\\Documents\\dataset\\PalmDataset\\Palm\\Train\\LeftPalm\\s95_2_L_S2.jpg\n",
      "✅ Moved s95_3_R_S2.jpg → C:\\Users\\hp\\Documents\\dataset\\PalmDataset\\Palm\\Train\\RightPalm\\s95_3_R_S2.jpg\n",
      "✅ Moved s95_4_L_S2.jpg → C:\\Users\\hp\\Documents\\dataset\\PalmDataset\\Palm\\Train\\LeftPalm\\s95_4_L_S2.jpg\n",
      "✅ Moved s95_4_R_S2.jpg → C:\\Users\\hp\\Documents\\dataset\\PalmDataset\\Palm\\Train\\LeftPalm\\s95_4_R_S2.jpg\n",
      "✅ Moved s95_5_L_S2.jpg → C:\\Users\\hp\\Documents\\dataset\\PalmDataset\\Palm\\Train\\RightPalm\\s95_5_L_S2.jpg\n",
      "✅ Moved s95_6_L_S2.jpg → C:\\Users\\hp\\Documents\\dataset\\PalmDataset\\Palm\\Train\\LeftPalm\\s95_6_L_S2.jpg\n",
      "✅ Moved s95_6_R_S2.jpg → C:\\Users\\hp\\Documents\\dataset\\PalmDataset\\Palm\\Train\\RightPalm\\s95_6_R_S2.jpg\n",
      "✅ Moved s95_7_L_S2.jpg → C:\\Users\\hp\\Documents\\dataset\\PalmDataset\\Palm\\Train\\LeftPalm\\s95_7_L_S2.jpg\n",
      "✅ Moved s95_7_R_S2.jpg → C:\\Users\\hp\\Documents\\dataset\\PalmDataset\\Palm\\Train\\RightPalm\\s95_7_R_S2.jpg\n",
      "✅ Moved s95_8_L_S2.jpg → C:\\Users\\hp\\Documents\\dataset\\PalmDataset\\Palm\\Train\\RightPalm\\s95_8_L_S2.jpg\n",
      "✅ Moved s95_8_R_S2.jpg → C:\\Users\\hp\\Documents\\dataset\\PalmDataset\\Palm\\Train\\LeftPalm\\s95_8_R_S2.jpg\n",
      "✅ Moved s95_9_L_S2.jpg → C:\\Users\\hp\\Documents\\dataset\\PalmDataset\\Palm\\Train\\RightPalm\\s95_9_L_S2.jpg\n",
      "✅ Moved s95_9_R_S2.jpg → C:\\Users\\hp\\Documents\\dataset\\PalmDataset\\Palm\\Train\\RightPalm\\s95_9_R_S2.jpg\n",
      "✅ Moved s96_10_R_S2.jpg → C:\\Users\\hp\\Documents\\dataset\\PalmDataset\\Palm\\Train\\LeftPalm\\s96_10_R_S2.jpg\n",
      "✅ Moved s96_1_L_S2.jpg → C:\\Users\\hp\\Documents\\dataset\\PalmDataset\\Palm\\Train\\RightPalm\\s96_1_L_S2.jpg\n",
      "✅ Moved s96_1_R_S2.jpg → C:\\Users\\hp\\Documents\\dataset\\PalmDataset\\Palm\\Train\\RightPalm\\s96_1_R_S2.jpg\n",
      "✅ Moved s96_2_L_S2.jpg → C:\\Users\\hp\\Documents\\dataset\\PalmDataset\\Palm\\Train\\LeftPalm\\s96_2_L_S2.jpg\n",
      "✅ Moved s96_2_R_S2.jpg → C:\\Users\\hp\\Documents\\dataset\\PalmDataset\\Palm\\Train\\RightPalm\\s96_2_R_S2.jpg\n",
      "✅ Moved s96_3_L_S2.jpg → C:\\Users\\hp\\Documents\\dataset\\PalmDataset\\Palm\\Train\\LeftPalm\\s96_3_L_S2.jpg\n",
      "✅ Moved s96_3_R_S2.jpg → C:\\Users\\hp\\Documents\\dataset\\PalmDataset\\Palm\\Train\\RightPalm\\s96_3_R_S2.jpg\n",
      "✅ Moved s96_4_L_S2.jpg → C:\\Users\\hp\\Documents\\dataset\\PalmDataset\\Palm\\Train\\RightPalm\\s96_4_L_S2.jpg\n",
      "✅ Moved s96_4_R_S2.jpg → C:\\Users\\hp\\Documents\\dataset\\PalmDataset\\Palm\\Train\\RightPalm\\s96_4_R_S2.jpg\n",
      "✅ Moved s96_5_L_S2.jpg → C:\\Users\\hp\\Documents\\dataset\\PalmDataset\\Palm\\Train\\RightPalm\\s96_5_L_S2.jpg\n",
      "✅ Moved s96_5_R_S2.jpg → C:\\Users\\hp\\Documents\\dataset\\PalmDataset\\Palm\\Train\\RightPalm\\s96_5_R_S2.jpg\n",
      "✅ Moved s96_6_R_S2.jpg → C:\\Users\\hp\\Documents\\dataset\\PalmDataset\\Palm\\Train\\RightPalm\\s96_6_R_S2.jpg\n",
      "✅ Moved s96_7_L_S2.jpg → C:\\Users\\hp\\Documents\\dataset\\PalmDataset\\Palm\\Train\\RightPalm\\s96_7_L_S2.jpg\n",
      "✅ Moved s96_7_R_S2.jpg → C:\\Users\\hp\\Documents\\dataset\\PalmDataset\\Palm\\Train\\LeftPalm\\s96_7_R_S2.jpg\n",
      "✅ Moved s96_8_L_S2.jpg → C:\\Users\\hp\\Documents\\dataset\\PalmDataset\\Palm\\Train\\LeftPalm\\s96_8_L_S2.jpg\n",
      "✅ Moved s96_8_R_S2.jpg → C:\\Users\\hp\\Documents\\dataset\\PalmDataset\\Palm\\Train\\RightPalm\\s96_8_R_S2.jpg\n",
      "✅ Moved s96_9_L_S2.jpg → C:\\Users\\hp\\Documents\\dataset\\PalmDataset\\Palm\\Train\\LeftPalm\\s96_9_L_S2.jpg\n",
      "✅ Moved s96_9_R_S2.jpg → C:\\Users\\hp\\Documents\\dataset\\PalmDataset\\Palm\\Train\\LeftPalm\\s96_9_R_S2.jpg\n",
      "✅ Moved s97_10_L_S2.jpg → C:\\Users\\hp\\Documents\\dataset\\PalmDataset\\Palm\\Train\\RightPalm\\s97_10_L_S2.jpg\n",
      "✅ Moved s97_1_L_S2.jpg → C:\\Users\\hp\\Documents\\dataset\\PalmDataset\\Palm\\Train\\LeftPalm\\s97_1_L_S2.jpg\n",
      "✅ Moved s97_1_R_S2.jpg → C:\\Users\\hp\\Documents\\dataset\\PalmDataset\\Palm\\Train\\RightPalm\\s97_1_R_S2.jpg\n",
      "✅ Moved s97_2_L_S2.jpg → C:\\Users\\hp\\Documents\\dataset\\PalmDataset\\Palm\\Train\\RightPalm\\s97_2_L_S2.jpg\n",
      "✅ Moved s97_2_R_S2.jpg → C:\\Users\\hp\\Documents\\dataset\\PalmDataset\\Palm\\Train\\RightPalm\\s97_2_R_S2.jpg\n",
      "✅ Moved s97_3_L_S2.jpg → C:\\Users\\hp\\Documents\\dataset\\PalmDataset\\Palm\\Train\\LeftPalm\\s97_3_L_S2.jpg\n",
      "✅ Moved s97_4_L_S2.jpg → C:\\Users\\hp\\Documents\\dataset\\PalmDataset\\Palm\\Train\\RightPalm\\s97_4_L_S2.jpg\n",
      "✅ Moved s97_4_R_S2.jpg → C:\\Users\\hp\\Documents\\dataset\\PalmDataset\\Palm\\Train\\LeftPalm\\s97_4_R_S2.jpg\n",
      "✅ Moved s97_5_R_S2.jpg → C:\\Users\\hp\\Documents\\dataset\\PalmDataset\\Palm\\Train\\LeftPalm\\s97_5_R_S2.jpg\n",
      "✅ Moved s97_6_L_S2.jpg → C:\\Users\\hp\\Documents\\dataset\\PalmDataset\\Palm\\Train\\RightPalm\\s97_6_L_S2.jpg\n",
      "✅ Moved s97_6_R_S2.jpg → C:\\Users\\hp\\Documents\\dataset\\PalmDataset\\Palm\\Train\\LeftPalm\\s97_6_R_S2.jpg\n",
      "✅ Moved s97_7_R_S2.jpg → C:\\Users\\hp\\Documents\\dataset\\PalmDataset\\Palm\\Train\\LeftPalm\\s97_7_R_S2.jpg\n",
      "✅ Moved s97_8_L_S2.jpg → C:\\Users\\hp\\Documents\\dataset\\PalmDataset\\Palm\\Train\\RightPalm\\s97_8_L_S2.jpg\n",
      "✅ Moved s97_8_R_S2.jpg → C:\\Users\\hp\\Documents\\dataset\\PalmDataset\\Palm\\Train\\LeftPalm\\s97_8_R_S2.jpg\n",
      "✅ Moved s97_9_L_S2.jpg → C:\\Users\\hp\\Documents\\dataset\\PalmDataset\\Palm\\Train\\RightPalm\\s97_9_L_S2.jpg\n",
      "✅ Moved s97_9_R_S2.jpg → C:\\Users\\hp\\Documents\\dataset\\PalmDataset\\Palm\\Train\\LeftPalm\\s97_9_R_S2.jpg\n",
      "✅ Moved s98_10_L_S2.jpg → C:\\Users\\hp\\Documents\\dataset\\PalmDataset\\Palm\\Train\\RightPalm\\s98_10_L_S2.jpg\n",
      "✅ Moved s98_10_R_S2.jpg → C:\\Users\\hp\\Documents\\dataset\\PalmDataset\\Palm\\Train\\LeftPalm\\s98_10_R_S2.jpg\n",
      "✅ Moved s98_2_L_S2.jpg → C:\\Users\\hp\\Documents\\dataset\\PalmDataset\\Palm\\Train\\LeftPalm\\s98_2_L_S2.jpg\n",
      "✅ Moved s98_3_L_S2.jpg → C:\\Users\\hp\\Documents\\dataset\\PalmDataset\\Palm\\Train\\RightPalm\\s98_3_L_S2.jpg\n",
      "✅ Moved s98_3_R_S2.jpg → C:\\Users\\hp\\Documents\\dataset\\PalmDataset\\Palm\\Train\\RightPalm\\s98_3_R_S2.jpg\n",
      "✅ Moved s98_4_L_S2.jpg → C:\\Users\\hp\\Documents\\dataset\\PalmDataset\\Palm\\Train\\LeftPalm\\s98_4_L_S2.jpg\n",
      "✅ Moved s98_4_R_S2.jpg → C:\\Users\\hp\\Documents\\dataset\\PalmDataset\\Palm\\Train\\RightPalm\\s98_4_R_S2.jpg\n",
      "✅ Moved s98_5_L_S2.jpg → C:\\Users\\hp\\Documents\\dataset\\PalmDataset\\Palm\\Train\\LeftPalm\\s98_5_L_S2.jpg\n",
      "✅ Moved s98_5_R_S2.jpg → C:\\Users\\hp\\Documents\\dataset\\PalmDataset\\Palm\\Train\\LeftPalm\\s98_5_R_S2.jpg\n",
      "✅ Moved s98_6_L_S2.jpg → C:\\Users\\hp\\Documents\\dataset\\PalmDataset\\Palm\\Train\\RightPalm\\s98_6_L_S2.jpg\n",
      "✅ Moved s98_7_L_S2.jpg → C:\\Users\\hp\\Documents\\dataset\\PalmDataset\\Palm\\Train\\LeftPalm\\s98_7_L_S2.jpg\n",
      "✅ Moved s98_7_R_S2.jpg → C:\\Users\\hp\\Documents\\dataset\\PalmDataset\\Palm\\Train\\LeftPalm\\s98_7_R_S2.jpg\n",
      "✅ Moved s98_8_L_S2.jpg → C:\\Users\\hp\\Documents\\dataset\\PalmDataset\\Palm\\Train\\LeftPalm\\s98_8_L_S2.jpg\n",
      "✅ Moved s98_8_R_S2.jpg → C:\\Users\\hp\\Documents\\dataset\\PalmDataset\\Palm\\Train\\RightPalm\\s98_8_R_S2.jpg\n",
      "✅ Moved s98_9_R_S2.jpg → C:\\Users\\hp\\Documents\\dataset\\PalmDataset\\Palm\\Train\\LeftPalm\\s98_9_R_S2.jpg\n",
      "✅ Moved s99_10_R_S2.jpg → C:\\Users\\hp\\Documents\\dataset\\PalmDataset\\Palm\\Train\\RightPalm\\s99_10_R_S2.jpg\n",
      "✅ Moved s99_2_L_S2.jpg → C:\\Users\\hp\\Documents\\dataset\\PalmDataset\\Palm\\Train\\LeftPalm\\s99_2_L_S2.jpg\n",
      "✅ Moved s99_3_L_S2.jpg → C:\\Users\\hp\\Documents\\dataset\\PalmDataset\\Palm\\Train\\LeftPalm\\s99_3_L_S2.jpg\n",
      "✅ Moved s99_3_R_S2.jpg → C:\\Users\\hp\\Documents\\dataset\\PalmDataset\\Palm\\Train\\LeftPalm\\s99_3_R_S2.jpg\n",
      "✅ Moved s99_4_L_S2.jpg → C:\\Users\\hp\\Documents\\dataset\\PalmDataset\\Palm\\Train\\RightPalm\\s99_4_L_S2.jpg\n",
      "✅ Moved s99_4_R_S2.jpg → C:\\Users\\hp\\Documents\\dataset\\PalmDataset\\Palm\\Train\\LeftPalm\\s99_4_R_S2.jpg\n",
      "✅ Moved s99_5_L_S2.jpg → C:\\Users\\hp\\Documents\\dataset\\PalmDataset\\Palm\\Train\\RightPalm\\s99_5_L_S2.jpg\n",
      "✅ Moved s99_5_R_S2.jpg → C:\\Users\\hp\\Documents\\dataset\\PalmDataset\\Palm\\Train\\RightPalm\\s99_5_R_S2.jpg\n",
      "✅ Moved s99_6_L_S2.jpg → C:\\Users\\hp\\Documents\\dataset\\PalmDataset\\Palm\\Train\\LeftPalm\\s99_6_L_S2.jpg\n",
      "✅ Moved s99_6_R_S2.jpg → C:\\Users\\hp\\Documents\\dataset\\PalmDataset\\Palm\\Train\\RightPalm\\s99_6_R_S2.jpg\n",
      "✅ Moved s99_7_L_S2.jpg → C:\\Users\\hp\\Documents\\dataset\\PalmDataset\\Palm\\Train\\RightPalm\\s99_7_L_S2.jpg\n",
      "✅ Moved s99_8_L_S2.jpg → C:\\Users\\hp\\Documents\\dataset\\PalmDataset\\Palm\\Train\\LeftPalm\\s99_8_L_S2.jpg\n",
      "✅ Moved s99_9_L_S2.jpg → C:\\Users\\hp\\Documents\\dataset\\PalmDataset\\Palm\\Train\\RightPalm\\s99_9_L_S2.jpg\n",
      "✅ Moved s99_9_R_S2.jpg → C:\\Users\\hp\\Documents\\dataset\\PalmDataset\\Palm\\Train\\LeftPalm\\s99_9_R_S2.jpg\n",
      "✅ Moved s9_10_L_S2.jpg → C:\\Users\\hp\\Documents\\dataset\\PalmDataset\\Palm\\Train\\LeftPalm\\s9_10_L_S2.jpg\n",
      "✅ Moved s9_10_R_S2.jpg → C:\\Users\\hp\\Documents\\dataset\\PalmDataset\\Palm\\Train\\LeftPalm\\s9_10_R_S2.jpg\n",
      "✅ Moved s9_1_L_S2.jpg → C:\\Users\\hp\\Documents\\dataset\\PalmDataset\\Palm\\Train\\LeftPalm\\s9_1_L_S2.jpg\n",
      "✅ Moved s9_2_L_S2.jpg → C:\\Users\\hp\\Documents\\dataset\\PalmDataset\\Palm\\Train\\RightPalm\\s9_2_L_S2.jpg\n",
      "✅ Moved s9_2_R_S2.jpg → C:\\Users\\hp\\Documents\\dataset\\PalmDataset\\Palm\\Train\\RightPalm\\s9_2_R_S2.jpg\n",
      "✅ Moved s9_3_L_S2.jpg → C:\\Users\\hp\\Documents\\dataset\\PalmDataset\\Palm\\Train\\RightPalm\\s9_3_L_S2.jpg\n",
      "✅ Moved s9_3_R_S2.jpg → C:\\Users\\hp\\Documents\\dataset\\PalmDataset\\Palm\\Train\\LeftPalm\\s9_3_R_S2.jpg\n",
      "✅ Moved s9_4_L_S2.jpg → C:\\Users\\hp\\Documents\\dataset\\PalmDataset\\Palm\\Train\\LeftPalm\\s9_4_L_S2.jpg\n",
      "✅ Moved s9_4_R_S2.jpg → C:\\Users\\hp\\Documents\\dataset\\PalmDataset\\Palm\\Train\\RightPalm\\s9_4_R_S2.jpg\n",
      "✅ Moved s9_5_R_S2.jpg → C:\\Users\\hp\\Documents\\dataset\\PalmDataset\\Palm\\Train\\RightPalm\\s9_5_R_S2.jpg\n",
      "✅ Moved s9_6_L_S2.jpg → C:\\Users\\hp\\Documents\\dataset\\PalmDataset\\Palm\\Train\\LeftPalm\\s9_6_L_S2.jpg\n",
      "✅ Moved s9_6_R_S2.jpg → C:\\Users\\hp\\Documents\\dataset\\PalmDataset\\Palm\\Train\\RightPalm\\s9_6_R_S2.jpg\n",
      "✅ Moved s9_7_L_S2.jpg → C:\\Users\\hp\\Documents\\dataset\\PalmDataset\\Palm\\Train\\LeftPalm\\s9_7_L_S2.jpg\n",
      "✅ Moved s9_7_R_S2.jpg → C:\\Users\\hp\\Documents\\dataset\\PalmDataset\\Palm\\Train\\RightPalm\\s9_7_R_S2.jpg\n",
      "✅ Moved s9_8_L_S2.jpg → C:\\Users\\hp\\Documents\\dataset\\PalmDataset\\Palm\\Train\\RightPalm\\s9_8_L_S2.jpg\n",
      "✅ Moved s9_8_R_S2.jpg → C:\\Users\\hp\\Documents\\dataset\\PalmDataset\\Palm\\Train\\RightPalm\\s9_8_R_S2.jpg\n",
      "✅ Moved s9_9_L_S2.jpg → C:\\Users\\hp\\Documents\\dataset\\PalmDataset\\Palm\\Train\\RightPalm\\s9_9_L_S2.jpg\n",
      "✅ Moved s9_9_R_S2.jpg → C:\\Users\\hp\\Documents\\dataset\\PalmDataset\\Palm\\Train\\LeftPalm\\s9_9_R_S2.jpg\n",
      "🔍 Found 640 images in C:\\Users\\hp\\Documents\\dataset\\PalmDataset\\Palm\\Test\n",
      "✅ Moved s100_10_R_S2.jpg → C:\\Users\\hp\\Documents\\dataset\\PalmDataset\\Palm\\Test\\LeftPalm\\s100_10_R_S2.jpg\n",
      "✅ Moved s100_5_L_S2.jpg → C:\\Users\\hp\\Documents\\dataset\\PalmDataset\\Palm\\Test\\LeftPalm\\s100_5_L_S2.jpg\n",
      "✅ Moved s100_8_R_S2.jpg → C:\\Users\\hp\\Documents\\dataset\\PalmDataset\\Palm\\Test\\LeftPalm\\s100_8_R_S2.jpg\n",
      "✅ Moved s100_9_R_S2.jpg → C:\\Users\\hp\\Documents\\dataset\\PalmDataset\\Palm\\Test\\LeftPalm\\s100_9_R_S2.jpg\n",
      "✅ Moved s101_2_R_S2.jpg → C:\\Users\\hp\\Documents\\dataset\\PalmDataset\\Palm\\Test\\LeftPalm\\s101_2_R_S2.jpg\n",
      "✅ Moved s101_3_L_S2.jpg → C:\\Users\\hp\\Documents\\dataset\\PalmDataset\\Palm\\Test\\LeftPalm\\s101_3_L_S2.jpg\n",
      "✅ Moved s101_4_R_S2.jpg → C:\\Users\\hp\\Documents\\dataset\\PalmDataset\\Palm\\Test\\RightPalm\\s101_4_R_S2.jpg\n",
      "✅ Moved s101_7_R_S2.jpg → C:\\Users\\hp\\Documents\\dataset\\PalmDataset\\Palm\\Test\\RightPalm\\s101_7_R_S2.jpg\n",
      "✅ Moved s102_10_R_S2.jpg → C:\\Users\\hp\\Documents\\dataset\\PalmDataset\\Palm\\Test\\RightPalm\\s102_10_R_S2.jpg\n",
      "✅ Moved s102_1_R_S2.jpg → C:\\Users\\hp\\Documents\\dataset\\PalmDataset\\Palm\\Test\\LeftPalm\\s102_1_R_S2.jpg\n",
      "✅ Moved s102_6_L_S2.jpg → C:\\Users\\hp\\Documents\\dataset\\PalmDataset\\Palm\\Test\\LeftPalm\\s102_6_L_S2.jpg\n",
      "✅ Moved s102_8_R_S2.jpg → C:\\Users\\hp\\Documents\\dataset\\PalmDataset\\Palm\\Test\\RightPalm\\s102_8_R_S2.jpg\n",
      "✅ Moved s103_10_R_S2.jpg → C:\\Users\\hp\\Documents\\dataset\\PalmDataset\\Palm\\Test\\LeftPalm\\s103_10_R_S2.jpg\n",
      "✅ Moved s103_3_L_S2.jpg → C:\\Users\\hp\\Documents\\dataset\\PalmDataset\\Palm\\Test\\RightPalm\\s103_3_L_S2.jpg\n",
      "✅ Moved s103_6_R_S2.jpg → C:\\Users\\hp\\Documents\\dataset\\PalmDataset\\Palm\\Test\\RightPalm\\s103_6_R_S2.jpg\n",
      "✅ Moved s103_8_L_S2.jpg → C:\\Users\\hp\\Documents\\dataset\\PalmDataset\\Palm\\Test\\RightPalm\\s103_8_L_S2.jpg\n",
      "✅ Moved s103_9_L_S2.jpg → C:\\Users\\hp\\Documents\\dataset\\PalmDataset\\Palm\\Test\\RightPalm\\s103_9_L_S2.jpg\n",
      "✅ Moved s103_9_R_S2.jpg → C:\\Users\\hp\\Documents\\dataset\\PalmDataset\\Palm\\Test\\LeftPalm\\s103_9_R_S2.jpg\n",
      "✅ Moved s104_1_L_S2.jpg → C:\\Users\\hp\\Documents\\dataset\\PalmDataset\\Palm\\Test\\LeftPalm\\s104_1_L_S2.jpg\n",
      "✅ Moved s104_3_L_S2.jpg → C:\\Users\\hp\\Documents\\dataset\\PalmDataset\\Palm\\Test\\RightPalm\\s104_3_L_S2.jpg\n",
      "✅ Moved s105_10_L_S2.jpg → C:\\Users\\hp\\Documents\\dataset\\PalmDataset\\Palm\\Test\\RightPalm\\s105_10_L_S2.jpg\n",
      "✅ Moved s105_10_R_S2.jpg → C:\\Users\\hp\\Documents\\dataset\\PalmDataset\\Palm\\Test\\LeftPalm\\s105_10_R_S2.jpg\n",
      "✅ Moved s105_1_L_S2.jpg → C:\\Users\\hp\\Documents\\dataset\\PalmDataset\\Palm\\Test\\LeftPalm\\s105_1_L_S2.jpg\n",
      "✅ Moved s105_3_R_S2.jpg → C:\\Users\\hp\\Documents\\dataset\\PalmDataset\\Palm\\Test\\LeftPalm\\s105_3_R_S2.jpg\n",
      "✅ Moved s105_4_L_S2.jpg → C:\\Users\\hp\\Documents\\dataset\\PalmDataset\\Palm\\Test\\LeftPalm\\s105_4_L_S2.jpg\n",
      "✅ Moved s105_7_L_S2.jpg → C:\\Users\\hp\\Documents\\dataset\\PalmDataset\\Palm\\Test\\LeftPalm\\s105_7_L_S2.jpg\n",
      "✅ Moved s105_8_R_S2.jpg → C:\\Users\\hp\\Documents\\dataset\\PalmDataset\\Palm\\Test\\LeftPalm\\s105_8_R_S2.jpg\n",
      "✅ Moved s105_9_L_S2.jpg → C:\\Users\\hp\\Documents\\dataset\\PalmDataset\\Palm\\Test\\LeftPalm\\s105_9_L_S2.jpg\n",
      "✅ Moved s106_10_L_S2.jpg → C:\\Users\\hp\\Documents\\dataset\\PalmDataset\\Palm\\Test\\LeftPalm\\s106_10_L_S2.jpg\n",
      "✅ Moved s106_5_R_S2.jpg → C:\\Users\\hp\\Documents\\dataset\\PalmDataset\\Palm\\Test\\LeftPalm\\s106_5_R_S2.jpg\n",
      "✅ Moved s107_2_L_S2.jpg → C:\\Users\\hp\\Documents\\dataset\\PalmDataset\\Palm\\Test\\LeftPalm\\s107_2_L_S2.jpg\n",
      "✅ Moved s107_5_L_S2.jpg → C:\\Users\\hp\\Documents\\dataset\\PalmDataset\\Palm\\Test\\RightPalm\\s107_5_L_S2.jpg\n",
      "✅ Moved s107_6_L_S2.jpg → C:\\Users\\hp\\Documents\\dataset\\PalmDataset\\Palm\\Test\\LeftPalm\\s107_6_L_S2.jpg\n",
      "✅ Moved s107_7_R_S2.jpg → C:\\Users\\hp\\Documents\\dataset\\PalmDataset\\Palm\\Test\\LeftPalm\\s107_7_R_S2.jpg\n",
      "✅ Moved s107_8_L_S2.jpg → C:\\Users\\hp\\Documents\\dataset\\PalmDataset\\Palm\\Test\\RightPalm\\s107_8_L_S2.jpg\n",
      "✅ Moved s108_10_R_S2.jpg → C:\\Users\\hp\\Documents\\dataset\\PalmDataset\\Palm\\Test\\LeftPalm\\s108_10_R_S2.jpg\n",
      "✅ Moved s108_4_R_S2.jpg → C:\\Users\\hp\\Documents\\dataset\\PalmDataset\\Palm\\Test\\RightPalm\\s108_4_R_S2.jpg\n",
      "✅ Moved s108_6_R_S2.jpg → C:\\Users\\hp\\Documents\\dataset\\PalmDataset\\Palm\\Test\\RightPalm\\s108_6_R_S2.jpg\n",
      "✅ Moved s108_7_R_S2.jpg → C:\\Users\\hp\\Documents\\dataset\\PalmDataset\\Palm\\Test\\LeftPalm\\s108_7_R_S2.jpg\n",
      "✅ Moved s108_8_R_S2.jpg → C:\\Users\\hp\\Documents\\dataset\\PalmDataset\\Palm\\Test\\LeftPalm\\s108_8_R_S2.jpg\n",
      "✅ Moved s108_9_L_S2.jpg → C:\\Users\\hp\\Documents\\dataset\\PalmDataset\\Palm\\Test\\RightPalm\\s108_9_L_S2.jpg\n",
      "✅ Moved s109_10_L_S2.jpg → C:\\Users\\hp\\Documents\\dataset\\PalmDataset\\Palm\\Test\\RightPalm\\s109_10_L_S2.jpg\n",
      "✅ Moved s109_7_R_S2.jpg → C:\\Users\\hp\\Documents\\dataset\\PalmDataset\\Palm\\Test\\RightPalm\\s109_7_R_S2.jpg\n",
      "✅ Moved s10_3_R_S2.jpg → C:\\Users\\hp\\Documents\\dataset\\PalmDataset\\Palm\\Test\\RightPalm\\s10_3_R_S2.jpg\n",
      "✅ Moved s10_5_L_S2.jpg → C:\\Users\\hp\\Documents\\dataset\\PalmDataset\\Palm\\Test\\RightPalm\\s10_5_L_S2.jpg\n",
      "✅ Moved s10_5_R_S2.jpg → C:\\Users\\hp\\Documents\\dataset\\PalmDataset\\Palm\\Test\\LeftPalm\\s10_5_R_S2.jpg\n",
      "✅ Moved s10_7_R_S2.jpg → C:\\Users\\hp\\Documents\\dataset\\PalmDataset\\Palm\\Test\\RightPalm\\s10_7_R_S2.jpg\n",
      "✅ Moved s110_4_L_S2.jpg → C:\\Users\\hp\\Documents\\dataset\\PalmDataset\\Palm\\Test\\RightPalm\\s110_4_L_S2.jpg\n",
      "✅ Moved s110_5_L_S2.jpg → C:\\Users\\hp\\Documents\\dataset\\PalmDataset\\Palm\\Test\\RightPalm\\s110_5_L_S2.jpg\n",
      "✅ Moved s110_5_R_S2.jpg → C:\\Users\\hp\\Documents\\dataset\\PalmDataset\\Palm\\Test\\RightPalm\\s110_5_R_S2.jpg\n",
      "✅ Moved s111_10_R_S2.jpg → C:\\Users\\hp\\Documents\\dataset\\PalmDataset\\Palm\\Test\\LeftPalm\\s111_10_R_S2.jpg\n",
      "✅ Moved s111_3_R_S2.jpg → C:\\Users\\hp\\Documents\\dataset\\PalmDataset\\Palm\\Test\\RightPalm\\s111_3_R_S2.jpg\n",
      "✅ Moved s111_6_L_S2.jpg → C:\\Users\\hp\\Documents\\dataset\\PalmDataset\\Palm\\Test\\LeftPalm\\s111_6_L_S2.jpg\n",
      "✅ Moved s111_7_L_S2.jpg → C:\\Users\\hp\\Documents\\dataset\\PalmDataset\\Palm\\Test\\RightPalm\\s111_7_L_S2.jpg\n",
      "✅ Moved s111_8_L_S2.jpg → C:\\Users\\hp\\Documents\\dataset\\PalmDataset\\Palm\\Test\\LeftPalm\\s111_8_L_S2.jpg\n",
      "✅ Moved s111_9_L_S2.jpg → C:\\Users\\hp\\Documents\\dataset\\PalmDataset\\Palm\\Test\\LeftPalm\\s111_9_L_S2.jpg\n",
      "✅ Moved s112_2_R_S2.jpg → C:\\Users\\hp\\Documents\\dataset\\PalmDataset\\Palm\\Test\\LeftPalm\\s112_2_R_S2.jpg\n",
      "✅ Moved s112_6_L_S2.jpg → C:\\Users\\hp\\Documents\\dataset\\PalmDataset\\Palm\\Test\\LeftPalm\\s112_6_L_S2.jpg\n",
      "✅ Moved s113_4_R_S2.jpg → C:\\Users\\hp\\Documents\\dataset\\PalmDataset\\Palm\\Test\\RightPalm\\s113_4_R_S2.jpg\n",
      "✅ Moved s113_8_L_S2.jpg → C:\\Users\\hp\\Documents\\dataset\\PalmDataset\\Palm\\Test\\LeftPalm\\s113_8_L_S2.jpg\n",
      "✅ Moved s113_8_R_S2.jpg → C:\\Users\\hp\\Documents\\dataset\\PalmDataset\\Palm\\Test\\RightPalm\\s113_8_R_S2.jpg\n",
      "✅ Moved s113_9_L_S2.jpg → C:\\Users\\hp\\Documents\\dataset\\PalmDataset\\Palm\\Test\\LeftPalm\\s113_9_L_S2.jpg\n",
      "✅ Moved s113_9_R_S2.jpg → C:\\Users\\hp\\Documents\\dataset\\PalmDataset\\Palm\\Test\\RightPalm\\s113_9_R_S2.jpg\n",
      "✅ Moved s114_1_L_S2.jpg → C:\\Users\\hp\\Documents\\dataset\\PalmDataset\\Palm\\Test\\RightPalm\\s114_1_L_S2.jpg\n",
      "✅ Moved s114_4_L_S2.jpg → C:\\Users\\hp\\Documents\\dataset\\PalmDataset\\Palm\\Test\\RightPalm\\s114_4_L_S2.jpg\n",
      "✅ Moved s114_5_R_S2.jpg → C:\\Users\\hp\\Documents\\dataset\\PalmDataset\\Palm\\Test\\LeftPalm\\s114_5_R_S2.jpg\n",
      "✅ Moved s114_9_L_S2.jpg → C:\\Users\\hp\\Documents\\dataset\\PalmDataset\\Palm\\Test\\RightPalm\\s114_9_L_S2.jpg\n",
      "✅ Moved s115_10_R_S2.jpg → C:\\Users\\hp\\Documents\\dataset\\PalmDataset\\Palm\\Test\\RightPalm\\s115_10_R_S2.jpg\n",
      "✅ Moved s115_1_L_S2.jpg → C:\\Users\\hp\\Documents\\dataset\\PalmDataset\\Palm\\Test\\LeftPalm\\s115_1_L_S2.jpg\n",
      "✅ Moved s115_8_L_S2.jpg → C:\\Users\\hp\\Documents\\dataset\\PalmDataset\\Palm\\Test\\LeftPalm\\s115_8_L_S2.jpg\n",
      "✅ Moved s116_10_L_S2.jpg → C:\\Users\\hp\\Documents\\dataset\\PalmDataset\\Palm\\Test\\RightPalm\\s116_10_L_S2.jpg\n",
      "✅ Moved s116_2_L_S2.jpg → C:\\Users\\hp\\Documents\\dataset\\PalmDataset\\Palm\\Test\\RightPalm\\s116_2_L_S2.jpg\n",
      "✅ Moved s116_5_R_S2.jpg → C:\\Users\\hp\\Documents\\dataset\\PalmDataset\\Palm\\Test\\RightPalm\\s116_5_R_S2.jpg\n",
      "✅ Moved s116_9_L_S2.jpg → C:\\Users\\hp\\Documents\\dataset\\PalmDataset\\Palm\\Test\\LeftPalm\\s116_9_L_S2.jpg\n",
      "✅ Moved s117_1_R_S2.jpg → C:\\Users\\hp\\Documents\\dataset\\PalmDataset\\Palm\\Test\\LeftPalm\\s117_1_R_S2.jpg\n",
      "✅ Moved s117_4_L_S2.jpg → C:\\Users\\hp\\Documents\\dataset\\PalmDataset\\Palm\\Test\\RightPalm\\s117_4_L_S2.jpg\n",
      "✅ Moved s117_7_L_S2.jpg → C:\\Users\\hp\\Documents\\dataset\\PalmDataset\\Palm\\Test\\RightPalm\\s117_7_L_S2.jpg\n",
      "✅ Moved s117_9_R_S2.jpg → C:\\Users\\hp\\Documents\\dataset\\PalmDataset\\Palm\\Test\\RightPalm\\s117_9_R_S2.jpg\n",
      "✅ Moved s118_10_R_S2.jpg → C:\\Users\\hp\\Documents\\dataset\\PalmDataset\\Palm\\Test\\LeftPalm\\s118_10_R_S2.jpg\n",
      "✅ Moved s118_7_R_S2.jpg → C:\\Users\\hp\\Documents\\dataset\\PalmDataset\\Palm\\Test\\LeftPalm\\s118_7_R_S2.jpg\n",
      "✅ Moved s118_9_L_S2.jpg → C:\\Users\\hp\\Documents\\dataset\\PalmDataset\\Palm\\Test\\LeftPalm\\s118_9_L_S2.jpg\n",
      "✅ Moved s118_9_R_S2.jpg → C:\\Users\\hp\\Documents\\dataset\\PalmDataset\\Palm\\Test\\LeftPalm\\s118_9_R_S2.jpg\n",
      "✅ Moved s119_1_L_S2.jpg → C:\\Users\\hp\\Documents\\dataset\\PalmDataset\\Palm\\Test\\RightPalm\\s119_1_L_S2.jpg\n",
      "✅ Moved s119_3_R_S2.jpg → C:\\Users\\hp\\Documents\\dataset\\PalmDataset\\Palm\\Test\\LeftPalm\\s119_3_R_S2.jpg\n",
      "✅ Moved s119_4_L_S2.jpg → C:\\Users\\hp\\Documents\\dataset\\PalmDataset\\Palm\\Test\\RightPalm\\s119_4_L_S2.jpg\n",
      "✅ Moved s11_10_L_S2.jpg → C:\\Users\\hp\\Documents\\dataset\\PalmDataset\\Palm\\Test\\LeftPalm\\s11_10_L_S2.jpg\n",
      "✅ Moved s11_7_R_S2.jpg → C:\\Users\\hp\\Documents\\dataset\\PalmDataset\\Palm\\Test\\LeftPalm\\s11_7_R_S2.jpg\n",
      "✅ Moved s120_4_R_S2.jpg → C:\\Users\\hp\\Documents\\dataset\\PalmDataset\\Palm\\Test\\LeftPalm\\s120_4_R_S2.jpg\n",
      "✅ Moved s120_5_L_S2.jpg → C:\\Users\\hp\\Documents\\dataset\\PalmDataset\\Palm\\Test\\RightPalm\\s120_5_L_S2.jpg\n",
      "✅ Moved s120_9_R_S2.jpg → C:\\Users\\hp\\Documents\\dataset\\PalmDataset\\Palm\\Test\\RightPalm\\s120_9_R_S2.jpg\n",
      "✅ Moved s121_10_R_S2.jpg → C:\\Users\\hp\\Documents\\dataset\\PalmDataset\\Palm\\Test\\RightPalm\\s121_10_R_S2.jpg\n",
      "✅ Moved s121_3_L_S2.jpg → C:\\Users\\hp\\Documents\\dataset\\PalmDataset\\Palm\\Test\\RightPalm\\s121_3_L_S2.jpg\n",
      "✅ Moved s121_7_L_S2.jpg → C:\\Users\\hp\\Documents\\dataset\\PalmDataset\\Palm\\Test\\LeftPalm\\s121_7_L_S2.jpg\n",
      "✅ Moved s121_8_L_S2.jpg → C:\\Users\\hp\\Documents\\dataset\\PalmDataset\\Palm\\Test\\RightPalm\\s121_8_L_S2.jpg\n",
      "✅ Moved s122_10_L_S2.jpg → C:\\Users\\hp\\Documents\\dataset\\PalmDataset\\Palm\\Test\\LeftPalm\\s122_10_L_S2.jpg\n",
      "✅ Moved s122_1_L_S2.jpg → C:\\Users\\hp\\Documents\\dataset\\PalmDataset\\Palm\\Test\\RightPalm\\s122_1_L_S2.jpg\n",
      "✅ Moved s122_1_R_S2.jpg → C:\\Users\\hp\\Documents\\dataset\\PalmDataset\\Palm\\Test\\RightPalm\\s122_1_R_S2.jpg\n",
      "✅ Moved s122_2_L_S2.jpg → C:\\Users\\hp\\Documents\\dataset\\PalmDataset\\Palm\\Test\\LeftPalm\\s122_2_L_S2.jpg\n",
      "✅ Moved s122_4_L_S2.jpg → C:\\Users\\hp\\Documents\\dataset\\PalmDataset\\Palm\\Test\\LeftPalm\\s122_4_L_S2.jpg\n",
      "✅ Moved s122_8_L_S2.jpg → C:\\Users\\hp\\Documents\\dataset\\PalmDataset\\Palm\\Test\\RightPalm\\s122_8_L_S2.jpg\n",
      "✅ Moved s123_5_L_S2.jpg → C:\\Users\\hp\\Documents\\dataset\\PalmDataset\\Palm\\Test\\LeftPalm\\s123_5_L_S2.jpg\n",
      "✅ Moved s123_6_R_S2.jpg → C:\\Users\\hp\\Documents\\dataset\\PalmDataset\\Palm\\Test\\LeftPalm\\s123_6_R_S2.jpg\n",
      "✅ Moved s123_7_L_S2.jpg → C:\\Users\\hp\\Documents\\dataset\\PalmDataset\\Palm\\Test\\LeftPalm\\s123_7_L_S2.jpg\n",
      "✅ Moved s123_7_R_S2.jpg → C:\\Users\\hp\\Documents\\dataset\\PalmDataset\\Palm\\Test\\LeftPalm\\s123_7_R_S2.jpg\n",
      "✅ Moved s123_8_L_S2.jpg → C:\\Users\\hp\\Documents\\dataset\\PalmDataset\\Palm\\Test\\LeftPalm\\s123_8_L_S2.jpg\n",
      "✅ Moved s124_10_R_S2.jpg → C:\\Users\\hp\\Documents\\dataset\\PalmDataset\\Palm\\Test\\RightPalm\\s124_10_R_S2.jpg\n",
      "✅ Moved s124_1_R_S2.jpg → C:\\Users\\hp\\Documents\\dataset\\PalmDataset\\Palm\\Test\\LeftPalm\\s124_1_R_S2.jpg\n",
      "✅ Moved s124_3_L_S2.jpg → C:\\Users\\hp\\Documents\\dataset\\PalmDataset\\Palm\\Test\\LeftPalm\\s124_3_L_S2.jpg\n",
      "✅ Moved s124_6_L_S2.jpg → C:\\Users\\hp\\Documents\\dataset\\PalmDataset\\Palm\\Test\\LeftPalm\\s124_6_L_S2.jpg\n",
      "✅ Moved s125_2_R_S2.jpg → C:\\Users\\hp\\Documents\\dataset\\PalmDataset\\Palm\\Test\\RightPalm\\s125_2_R_S2.jpg\n",
      "✅ Moved s125_4_L_S2.jpg → C:\\Users\\hp\\Documents\\dataset\\PalmDataset\\Palm\\Test\\LeftPalm\\s125_4_L_S2.jpg\n",
      "✅ Moved s125_4_R_S2.jpg → C:\\Users\\hp\\Documents\\dataset\\PalmDataset\\Palm\\Test\\LeftPalm\\s125_4_R_S2.jpg\n",
      "✅ Moved s125_5_L_S2.jpg → C:\\Users\\hp\\Documents\\dataset\\PalmDataset\\Palm\\Test\\LeftPalm\\s125_5_L_S2.jpg\n",
      "✅ Moved s125_8_R_S2.jpg → C:\\Users\\hp\\Documents\\dataset\\PalmDataset\\Palm\\Test\\LeftPalm\\s125_8_R_S2.jpg\n",
      "✅ Moved s126_3_L_S2.jpg → C:\\Users\\hp\\Documents\\dataset\\PalmDataset\\Palm\\Test\\RightPalm\\s126_3_L_S2.jpg\n",
      "✅ Moved s126_4_L_S2.jpg → C:\\Users\\hp\\Documents\\dataset\\PalmDataset\\Palm\\Test\\LeftPalm\\s126_4_L_S2.jpg\n",
      "✅ Moved s126_8_L_S2.jpg → C:\\Users\\hp\\Documents\\dataset\\PalmDataset\\Palm\\Test\\LeftPalm\\s126_8_L_S2.jpg\n",
      "✅ Moved s127_10_R_S2.jpg → C:\\Users\\hp\\Documents\\dataset\\PalmDataset\\Palm\\Test\\RightPalm\\s127_10_R_S2.jpg\n",
      "✅ Moved s128_10_L_S2.jpg → C:\\Users\\hp\\Documents\\dataset\\PalmDataset\\Palm\\Test\\LeftPalm\\s128_10_L_S2.jpg\n",
      "✅ Moved s128_6_R_S2.jpg → C:\\Users\\hp\\Documents\\dataset\\PalmDataset\\Palm\\Test\\RightPalm\\s128_6_R_S2.jpg\n",
      "✅ Moved s128_7_L_S2.jpg → C:\\Users\\hp\\Documents\\dataset\\PalmDataset\\Palm\\Test\\LeftPalm\\s128_7_L_S2.jpg\n",
      "✅ Moved s128_8_R_S2.jpg → C:\\Users\\hp\\Documents\\dataset\\PalmDataset\\Palm\\Test\\LeftPalm\\s128_8_R_S2.jpg\n",
      "✅ Moved s128_9_R_S2.jpg → C:\\Users\\hp\\Documents\\dataset\\PalmDataset\\Palm\\Test\\LeftPalm\\s128_9_R_S2.jpg\n",
      "✅ Moved s129_10_L_S2.jpg → C:\\Users\\hp\\Documents\\dataset\\PalmDataset\\Palm\\Test\\LeftPalm\\s129_10_L_S2.jpg\n",
      "✅ Moved s129_10_R_S2.jpg → C:\\Users\\hp\\Documents\\dataset\\PalmDataset\\Palm\\Test\\LeftPalm\\s129_10_R_S2.jpg\n",
      "✅ Moved s129_2_L_S2.jpg → C:\\Users\\hp\\Documents\\dataset\\PalmDataset\\Palm\\Test\\RightPalm\\s129_2_L_S2.jpg\n",
      "✅ Moved s129_2_R_S2.jpg → C:\\Users\\hp\\Documents\\dataset\\PalmDataset\\Palm\\Test\\LeftPalm\\s129_2_R_S2.jpg\n",
      "✅ Moved s129_3_L_S2.jpg → C:\\Users\\hp\\Documents\\dataset\\PalmDataset\\Palm\\Test\\RightPalm\\s129_3_L_S2.jpg\n",
      "✅ Moved s129_8_L_S2.jpg → C:\\Users\\hp\\Documents\\dataset\\PalmDataset\\Palm\\Test\\LeftPalm\\s129_8_L_S2.jpg\n",
      "✅ Moved s129_8_R_S2.jpg → C:\\Users\\hp\\Documents\\dataset\\PalmDataset\\Palm\\Test\\LeftPalm\\s129_8_R_S2.jpg\n",
      "✅ Moved s12_10_R_S2.jpg → C:\\Users\\hp\\Documents\\dataset\\PalmDataset\\Palm\\Test\\LeftPalm\\s12_10_R_S2.jpg\n",
      "✅ Moved s12_1_R_S2.jpg → C:\\Users\\hp\\Documents\\dataset\\PalmDataset\\Palm\\Test\\LeftPalm\\s12_1_R_S2.jpg\n",
      "✅ Moved s12_2_R_S2.jpg → C:\\Users\\hp\\Documents\\dataset\\PalmDataset\\Palm\\Test\\LeftPalm\\s12_2_R_S2.jpg\n",
      "✅ Moved s12_3_R_S2.jpg → C:\\Users\\hp\\Documents\\dataset\\PalmDataset\\Palm\\Test\\RightPalm\\s12_3_R_S2.jpg\n",
      "✅ Moved s12_4_R_S2.jpg → C:\\Users\\hp\\Documents\\dataset\\PalmDataset\\Palm\\Test\\RightPalm\\s12_4_R_S2.jpg\n",
      "✅ Moved s12_5_L_S2.jpg → C:\\Users\\hp\\Documents\\dataset\\PalmDataset\\Palm\\Test\\RightPalm\\s12_5_L_S2.jpg\n",
      "✅ Moved s12_5_R_S2.jpg → C:\\Users\\hp\\Documents\\dataset\\PalmDataset\\Palm\\Test\\RightPalm\\s12_5_R_S2.jpg\n",
      "✅ Moved s12_7_R_S2.jpg → C:\\Users\\hp\\Documents\\dataset\\PalmDataset\\Palm\\Test\\RightPalm\\s12_7_R_S2.jpg\n",
      "✅ Moved s12_8_L_S2.jpg → C:\\Users\\hp\\Documents\\dataset\\PalmDataset\\Palm\\Test\\LeftPalm\\s12_8_L_S2.jpg\n",
      "✅ Moved s12_9_L_S2.jpg → C:\\Users\\hp\\Documents\\dataset\\PalmDataset\\Palm\\Test\\LeftPalm\\s12_9_L_S2.jpg\n",
      "✅ Moved s130_5_R_S2.jpg → C:\\Users\\hp\\Documents\\dataset\\PalmDataset\\Palm\\Test\\RightPalm\\s130_5_R_S2.jpg\n",
      "✅ Moved s130_6_L_S2.jpg → C:\\Users\\hp\\Documents\\dataset\\PalmDataset\\Palm\\Test\\RightPalm\\s130_6_L_S2.jpg\n",
      "✅ Moved s130_7_R_S2.jpg → C:\\Users\\hp\\Documents\\dataset\\PalmDataset\\Palm\\Test\\RightPalm\\s130_7_R_S2.jpg\n",
      "✅ Moved s130_8_L_S2.jpg → C:\\Users\\hp\\Documents\\dataset\\PalmDataset\\Palm\\Test\\LeftPalm\\s130_8_L_S2.jpg\n",
      "✅ Moved s131_10_L_S2.jpg → C:\\Users\\hp\\Documents\\dataset\\PalmDataset\\Palm\\Test\\LeftPalm\\s131_10_L_S2.jpg\n",
      "✅ Moved s131_10_R_S2.jpg → C:\\Users\\hp\\Documents\\dataset\\PalmDataset\\Palm\\Test\\RightPalm\\s131_10_R_S2.jpg\n",
      "✅ Moved s131_1_R_S2.jpg → C:\\Users\\hp\\Documents\\dataset\\PalmDataset\\Palm\\Test\\LeftPalm\\s131_1_R_S2.jpg\n",
      "✅ Moved s131_3_L_S2.jpg → C:\\Users\\hp\\Documents\\dataset\\PalmDataset\\Palm\\Test\\LeftPalm\\s131_3_L_S2.jpg\n",
      "✅ Moved s131_4_L_S2.jpg → C:\\Users\\hp\\Documents\\dataset\\PalmDataset\\Palm\\Test\\LeftPalm\\s131_4_L_S2.jpg\n",
      "✅ Moved s131_6_R_S2.jpg → C:\\Users\\hp\\Documents\\dataset\\PalmDataset\\Palm\\Test\\RightPalm\\s131_6_R_S2.jpg\n",
      "✅ Moved s131_8_R_S2.jpg → C:\\Users\\hp\\Documents\\dataset\\PalmDataset\\Palm\\Test\\RightPalm\\s131_8_R_S2.jpg\n",
      "✅ Moved s131_9_L_S2.jpg → C:\\Users\\hp\\Documents\\dataset\\PalmDataset\\Palm\\Test\\RightPalm\\s131_9_L_S2.jpg\n",
      "✅ Moved s131_9_R_S2.jpg → C:\\Users\\hp\\Documents\\dataset\\PalmDataset\\Palm\\Test\\RightPalm\\s131_9_R_S2.jpg\n",
      "✅ Moved s132_1_L_S2.jpg → C:\\Users\\hp\\Documents\\dataset\\PalmDataset\\Palm\\Test\\LeftPalm\\s132_1_L_S2.jpg\n",
      "✅ Moved s132_8_R_S2.jpg → C:\\Users\\hp\\Documents\\dataset\\PalmDataset\\Palm\\Test\\RightPalm\\s132_8_R_S2.jpg\n",
      "✅ Moved s132_9_R_S2.jpg → C:\\Users\\hp\\Documents\\dataset\\PalmDataset\\Palm\\Test\\LeftPalm\\s132_9_R_S2.jpg\n",
      "✅ Moved s133_1_R_S2.jpg → C:\\Users\\hp\\Documents\\dataset\\PalmDataset\\Palm\\Test\\RightPalm\\s133_1_R_S2.jpg\n",
      "✅ Moved s133_5_L_S2.jpg → C:\\Users\\hp\\Documents\\dataset\\PalmDataset\\Palm\\Test\\LeftPalm\\s133_5_L_S2.jpg\n",
      "✅ Moved s133_6_R_S2.jpg → C:\\Users\\hp\\Documents\\dataset\\PalmDataset\\Palm\\Test\\RightPalm\\s133_6_R_S2.jpg\n",
      "✅ Moved s133_8_L_S2.jpg → C:\\Users\\hp\\Documents\\dataset\\PalmDataset\\Palm\\Test\\LeftPalm\\s133_8_L_S2.jpg\n",
      "✅ Moved s133_9_R_S2.jpg → C:\\Users\\hp\\Documents\\dataset\\PalmDataset\\Palm\\Test\\RightPalm\\s133_9_R_S2.jpg\n",
      "✅ Moved s134_4_L_S2.jpg → C:\\Users\\hp\\Documents\\dataset\\PalmDataset\\Palm\\Test\\LeftPalm\\s134_4_L_S2.jpg\n",
      "✅ Moved s134_5_L_S2.jpg → C:\\Users\\hp\\Documents\\dataset\\PalmDataset\\Palm\\Test\\LeftPalm\\s134_5_L_S2.jpg\n",
      "✅ Moved s134_7_L_S2.jpg → C:\\Users\\hp\\Documents\\dataset\\PalmDataset\\Palm\\Test\\RightPalm\\s134_7_L_S2.jpg\n",
      "✅ Moved s135_2_R_S2.jpg → C:\\Users\\hp\\Documents\\dataset\\PalmDataset\\Palm\\Test\\LeftPalm\\s135_2_R_S2.jpg\n",
      "✅ Moved s135_7_R_S2.jpg → C:\\Users\\hp\\Documents\\dataset\\PalmDataset\\Palm\\Test\\RightPalm\\s135_7_R_S2.jpg\n",
      "✅ Moved s137_10_R_S2.jpg → C:\\Users\\hp\\Documents\\dataset\\PalmDataset\\Palm\\Test\\LeftPalm\\s137_10_R_S2.jpg\n",
      "✅ Moved s137_2_L_S2.jpg → C:\\Users\\hp\\Documents\\dataset\\PalmDataset\\Palm\\Test\\RightPalm\\s137_2_L_S2.jpg\n",
      "✅ Moved s137_6_R_S2.jpg → C:\\Users\\hp\\Documents\\dataset\\PalmDataset\\Palm\\Test\\LeftPalm\\s137_6_R_S2.jpg\n",
      "✅ Moved s137_9_L_S2.jpg → C:\\Users\\hp\\Documents\\dataset\\PalmDataset\\Palm\\Test\\LeftPalm\\s137_9_L_S2.jpg\n",
      "✅ Moved s138_10_L_S2.jpg → C:\\Users\\hp\\Documents\\dataset\\PalmDataset\\Palm\\Test\\RightPalm\\s138_10_L_S2.jpg\n",
      "✅ Moved s138_7_R_S2.jpg → C:\\Users\\hp\\Documents\\dataset\\PalmDataset\\Palm\\Test\\RightPalm\\s138_7_R_S2.jpg\n",
      "✅ Moved s138_9_L_S2.jpg → C:\\Users\\hp\\Documents\\dataset\\PalmDataset\\Palm\\Test\\LeftPalm\\s138_9_L_S2.jpg\n",
      "✅ Moved s139_10_L_S2.jpg → C:\\Users\\hp\\Documents\\dataset\\PalmDataset\\Palm\\Test\\LeftPalm\\s139_10_L_S2.jpg\n",
      "✅ Moved s139_3_R_S2.jpg → C:\\Users\\hp\\Documents\\dataset\\PalmDataset\\Palm\\Test\\RightPalm\\s139_3_R_S2.jpg\n",
      "✅ Moved s139_6_L_S2.jpg → C:\\Users\\hp\\Documents\\dataset\\PalmDataset\\Palm\\Test\\LeftPalm\\s139_6_L_S2.jpg\n",
      "✅ Moved s139_7_R_S2.jpg → C:\\Users\\hp\\Documents\\dataset\\PalmDataset\\Palm\\Test\\RightPalm\\s139_7_R_S2.jpg\n",
      "✅ Moved s13_7_L_S2.jpg → C:\\Users\\hp\\Documents\\dataset\\PalmDataset\\Palm\\Test\\RightPalm\\s13_7_L_S2.jpg\n",
      "✅ Moved s13_9_R_S2.jpg → C:\\Users\\hp\\Documents\\dataset\\PalmDataset\\Palm\\Test\\RightPalm\\s13_9_R_S2.jpg\n",
      "✅ Moved s140_4_L_S2.jpg → C:\\Users\\hp\\Documents\\dataset\\PalmDataset\\Palm\\Test\\RightPalm\\s140_4_L_S2.jpg\n",
      "✅ Moved s140_4_R_S2.jpg → C:\\Users\\hp\\Documents\\dataset\\PalmDataset\\Palm\\Test\\LeftPalm\\s140_4_R_S2.jpg\n",
      "✅ Moved s140_6_R_S2.jpg → C:\\Users\\hp\\Documents\\dataset\\PalmDataset\\Palm\\Test\\RightPalm\\s140_6_R_S2.jpg\n",
      "✅ Moved s140_9_L_S2.jpg → C:\\Users\\hp\\Documents\\dataset\\PalmDataset\\Palm\\Test\\LeftPalm\\s140_9_L_S2.jpg\n",
      "✅ Moved s140_9_R_S2.jpg → C:\\Users\\hp\\Documents\\dataset\\PalmDataset\\Palm\\Test\\RightPalm\\s140_9_R_S2.jpg\n",
      "✅ Moved s141_1_L_S2.jpg → C:\\Users\\hp\\Documents\\dataset\\PalmDataset\\Palm\\Test\\LeftPalm\\s141_1_L_S2.jpg\n",
      "✅ Moved s141_1_R_S2.jpg → C:\\Users\\hp\\Documents\\dataset\\PalmDataset\\Palm\\Test\\RightPalm\\s141_1_R_S2.jpg\n",
      "✅ Moved s141_2_L_S2.jpg → C:\\Users\\hp\\Documents\\dataset\\PalmDataset\\Palm\\Test\\RightPalm\\s141_2_L_S2.jpg\n",
      "✅ Moved s141_3_R_S2.jpg → C:\\Users\\hp\\Documents\\dataset\\PalmDataset\\Palm\\Test\\RightPalm\\s141_3_R_S2.jpg\n",
      "✅ Moved s141_4_R_S2.jpg → C:\\Users\\hp\\Documents\\dataset\\PalmDataset\\Palm\\Test\\LeftPalm\\s141_4_R_S2.jpg\n",
      "✅ Moved s141_7_L_S2.jpg → C:\\Users\\hp\\Documents\\dataset\\PalmDataset\\Palm\\Test\\LeftPalm\\s141_7_L_S2.jpg\n",
      "✅ Moved s141_9_R_S2.jpg → C:\\Users\\hp\\Documents\\dataset\\PalmDataset\\Palm\\Test\\RightPalm\\s141_9_R_S2.jpg\n",
      "✅ Moved s142_10_R_S2.jpg → C:\\Users\\hp\\Documents\\dataset\\PalmDataset\\Palm\\Test\\RightPalm\\s142_10_R_S2.jpg\n",
      "✅ Moved s142_1_L_S2.jpg → C:\\Users\\hp\\Documents\\dataset\\PalmDataset\\Palm\\Test\\RightPalm\\s142_1_L_S2.jpg\n",
      "✅ Moved s142_3_L_S2.jpg → C:\\Users\\hp\\Documents\\dataset\\PalmDataset\\Palm\\Test\\LeftPalm\\s142_3_L_S2.jpg\n",
      "✅ Moved s142_4_L_S2.jpg → C:\\Users\\hp\\Documents\\dataset\\PalmDataset\\Palm\\Test\\LeftPalm\\s142_4_L_S2.jpg\n",
      "✅ Moved s142_6_L_S2.jpg → C:\\Users\\hp\\Documents\\dataset\\PalmDataset\\Palm\\Test\\LeftPalm\\s142_6_L_S2.jpg\n",
      "✅ Moved s142_8_L_S2.jpg → C:\\Users\\hp\\Documents\\dataset\\PalmDataset\\Palm\\Test\\LeftPalm\\s142_8_L_S2.jpg\n",
      "✅ Moved s143_10_R_S2.jpg → C:\\Users\\hp\\Documents\\dataset\\PalmDataset\\Palm\\Test\\LeftPalm\\s143_10_R_S2.jpg\n",
      "✅ Moved s143_3_R_S2.jpg → C:\\Users\\hp\\Documents\\dataset\\PalmDataset\\Palm\\Test\\RightPalm\\s143_3_R_S2.jpg\n",
      "✅ Moved s143_4_L_S2.jpg → C:\\Users\\hp\\Documents\\dataset\\PalmDataset\\Palm\\Test\\RightPalm\\s143_4_L_S2.jpg\n",
      "✅ Moved s143_6_L_S2.jpg → C:\\Users\\hp\\Documents\\dataset\\PalmDataset\\Palm\\Test\\RightPalm\\s143_6_L_S2.jpg\n",
      "✅ Moved s144_5_L_S2.jpg → C:\\Users\\hp\\Documents\\dataset\\PalmDataset\\Palm\\Test\\LeftPalm\\s144_5_L_S2.jpg\n",
      "✅ Moved s144_5_R_S2.jpg → C:\\Users\\hp\\Documents\\dataset\\PalmDataset\\Palm\\Test\\LeftPalm\\s144_5_R_S2.jpg\n",
      "✅ Moved s144_6_L_S2.jpg → C:\\Users\\hp\\Documents\\dataset\\PalmDataset\\Palm\\Test\\LeftPalm\\s144_6_L_S2.jpg\n",
      "✅ Moved s144_7_L_S2.jpg → C:\\Users\\hp\\Documents\\dataset\\PalmDataset\\Palm\\Test\\LeftPalm\\s144_7_L_S2.jpg\n",
      "✅ Moved s144_7_R_S2.jpg → C:\\Users\\hp\\Documents\\dataset\\PalmDataset\\Palm\\Test\\RightPalm\\s144_7_R_S2.jpg\n",
      "✅ Moved s144_8_L_S2.jpg → C:\\Users\\hp\\Documents\\dataset\\PalmDataset\\Palm\\Test\\LeftPalm\\s144_8_L_S2.jpg\n",
      "✅ Moved s144_9_R_S2.jpg → C:\\Users\\hp\\Documents\\dataset\\PalmDataset\\Palm\\Test\\RightPalm\\s144_9_R_S2.jpg\n",
      "✅ Moved s145_2_R_S2.jpg → C:\\Users\\hp\\Documents\\dataset\\PalmDataset\\Palm\\Test\\RightPalm\\s145_2_R_S2.jpg\n",
      "✅ Moved s146_10_L_S2.jpg → C:\\Users\\hp\\Documents\\dataset\\PalmDataset\\Palm\\Test\\LeftPalm\\s146_10_L_S2.jpg\n",
      "✅ Moved s146_1_R_S2.jpg → C:\\Users\\hp\\Documents\\dataset\\PalmDataset\\Palm\\Test\\LeftPalm\\s146_1_R_S2.jpg\n",
      "✅ Moved s147_10_L_S2.jpg → C:\\Users\\hp\\Documents\\dataset\\PalmDataset\\Palm\\Test\\LeftPalm\\s147_10_L_S2.jpg\n",
      "✅ Moved s147_5_R_S2.jpg → C:\\Users\\hp\\Documents\\dataset\\PalmDataset\\Palm\\Test\\RightPalm\\s147_5_R_S2.jpg\n",
      "✅ Moved s147_6_L_S2.jpg → C:\\Users\\hp\\Documents\\dataset\\PalmDataset\\Palm\\Test\\LeftPalm\\s147_6_L_S2.jpg\n",
      "✅ Moved s148_3_L_S2.jpg → C:\\Users\\hp\\Documents\\dataset\\PalmDataset\\Palm\\Test\\RightPalm\\s148_3_L_S2.jpg\n",
      "✅ Moved s148_5_R_S2.jpg → C:\\Users\\hp\\Documents\\dataset\\PalmDataset\\Palm\\Test\\LeftPalm\\s148_5_R_S2.jpg\n",
      "✅ Moved s148_6_R_S2.jpg → C:\\Users\\hp\\Documents\\dataset\\PalmDataset\\Palm\\Test\\LeftPalm\\s148_6_R_S2.jpg\n",
      "✅ Moved s148_7_R_S2.jpg → C:\\Users\\hp\\Documents\\dataset\\PalmDataset\\Palm\\Test\\RightPalm\\s148_7_R_S2.jpg\n",
      "✅ Moved s149_1_R_S2.jpg → C:\\Users\\hp\\Documents\\dataset\\PalmDataset\\Palm\\Test\\RightPalm\\s149_1_R_S2.jpg\n",
      "✅ Moved s149_8_L_S2.jpg → C:\\Users\\hp\\Documents\\dataset\\PalmDataset\\Palm\\Test\\RightPalm\\s149_8_L_S2.jpg\n",
      "✅ Moved s149_9_R_S2.jpg → C:\\Users\\hp\\Documents\\dataset\\PalmDataset\\Palm\\Test\\LeftPalm\\s149_9_R_S2.jpg\n",
      "✅ Moved s14_10_L_S2.jpg → C:\\Users\\hp\\Documents\\dataset\\PalmDataset\\Palm\\Test\\RightPalm\\s14_10_L_S2.jpg\n",
      "✅ Moved s14_10_R_S2.jpg → C:\\Users\\hp\\Documents\\dataset\\PalmDataset\\Palm\\Test\\LeftPalm\\s14_10_R_S2.jpg\n",
      "✅ Moved s150_3_R_S2.jpg → C:\\Users\\hp\\Documents\\dataset\\PalmDataset\\Palm\\Test\\RightPalm\\s150_3_R_S2.jpg\n",
      "✅ Moved s150_8_L_S2.jpg → C:\\Users\\hp\\Documents\\dataset\\PalmDataset\\Palm\\Test\\RightPalm\\s150_8_L_S2.jpg\n",
      "✅ Moved s151_2_R_S2.jpg → C:\\Users\\hp\\Documents\\dataset\\PalmDataset\\Palm\\Test\\RightPalm\\s151_2_R_S2.jpg\n",
      "✅ Moved s151_3_L_S2.jpg → C:\\Users\\hp\\Documents\\dataset\\PalmDataset\\Palm\\Test\\LeftPalm\\s151_3_L_S2.jpg\n",
      "✅ Moved s151_7_R_S2.jpg → C:\\Users\\hp\\Documents\\dataset\\PalmDataset\\Palm\\Test\\LeftPalm\\s151_7_R_S2.jpg\n",
      "✅ Moved s151_9_L_S2.jpg → C:\\Users\\hp\\Documents\\dataset\\PalmDataset\\Palm\\Test\\LeftPalm\\s151_9_L_S2.jpg\n",
      "✅ Moved s152_3_L_S2.jpg → C:\\Users\\hp\\Documents\\dataset\\PalmDataset\\Palm\\Test\\LeftPalm\\s152_3_L_S2.jpg\n",
      "✅ Moved s152_4_R_S2.jpg → C:\\Users\\hp\\Documents\\dataset\\PalmDataset\\Palm\\Test\\RightPalm\\s152_4_R_S2.jpg\n",
      "✅ Moved s152_8_R_S2.jpg → C:\\Users\\hp\\Documents\\dataset\\PalmDataset\\Palm\\Test\\LeftPalm\\s152_8_R_S2.jpg\n",
      "✅ Moved s152_9_R_S2.jpg → C:\\Users\\hp\\Documents\\dataset\\PalmDataset\\Palm\\Test\\LeftPalm\\s152_9_R_S2.jpg\n",
      "✅ Moved s153_3_R_S2.jpg → C:\\Users\\hp\\Documents\\dataset\\PalmDataset\\Palm\\Test\\RightPalm\\s153_3_R_S2.jpg\n",
      "✅ Moved s153_5_L_S2.jpg → C:\\Users\\hp\\Documents\\dataset\\PalmDataset\\Palm\\Test\\LeftPalm\\s153_5_L_S2.jpg\n",
      "✅ Moved s153_5_R_S2.jpg → C:\\Users\\hp\\Documents\\dataset\\PalmDataset\\Palm\\Test\\RightPalm\\s153_5_R_S2.jpg\n",
      "✅ Moved s153_6_L_S2.jpg → C:\\Users\\hp\\Documents\\dataset\\PalmDataset\\Palm\\Test\\LeftPalm\\s153_6_L_S2.jpg\n",
      "✅ Moved s153_8_L_S2.jpg → C:\\Users\\hp\\Documents\\dataset\\PalmDataset\\Palm\\Test\\RightPalm\\s153_8_L_S2.jpg\n",
      "✅ Moved s153_8_R_S2.jpg → C:\\Users\\hp\\Documents\\dataset\\PalmDataset\\Palm\\Test\\LeftPalm\\s153_8_R_S2.jpg\n",
      "✅ Moved s154_10_L_S2.jpg → C:\\Users\\hp\\Documents\\dataset\\PalmDataset\\Palm\\Test\\RightPalm\\s154_10_L_S2.jpg\n",
      "✅ Moved s154_3_L_S2.jpg → C:\\Users\\hp\\Documents\\dataset\\PalmDataset\\Palm\\Test\\RightPalm\\s154_3_L_S2.jpg\n",
      "✅ Moved s154_4_R_S2.jpg → C:\\Users\\hp\\Documents\\dataset\\PalmDataset\\Palm\\Test\\RightPalm\\s154_4_R_S2.jpg\n",
      "✅ Moved s154_7_R_S2.jpg → C:\\Users\\hp\\Documents\\dataset\\PalmDataset\\Palm\\Test\\LeftPalm\\s154_7_R_S2.jpg\n",
      "✅ Moved s154_9_L_S2.jpg → C:\\Users\\hp\\Documents\\dataset\\PalmDataset\\Palm\\Test\\LeftPalm\\s154_9_L_S2.jpg\n",
      "✅ Moved s154_9_R_S2.jpg → C:\\Users\\hp\\Documents\\dataset\\PalmDataset\\Palm\\Test\\RightPalm\\s154_9_R_S2.jpg\n",
      "✅ Moved s155_2_R_S2.jpg → C:\\Users\\hp\\Documents\\dataset\\PalmDataset\\Palm\\Test\\RightPalm\\s155_2_R_S2.jpg\n",
      "✅ Moved s155_5_L_S2.jpg → C:\\Users\\hp\\Documents\\dataset\\PalmDataset\\Palm\\Test\\LeftPalm\\s155_5_L_S2.jpg\n",
      "✅ Moved s155_5_R_S2.jpg → C:\\Users\\hp\\Documents\\dataset\\PalmDataset\\Palm\\Test\\LeftPalm\\s155_5_R_S2.jpg\n",
      "✅ Moved s155_8_R_S2.jpg → C:\\Users\\hp\\Documents\\dataset\\PalmDataset\\Palm\\Test\\RightPalm\\s155_8_R_S2.jpg\n",
      "✅ Moved s156_10_L_S2.jpg → C:\\Users\\hp\\Documents\\dataset\\PalmDataset\\Palm\\Test\\LeftPalm\\s156_10_L_S2.jpg\n",
      "✅ Moved s156_10_R_S2.jpg → C:\\Users\\hp\\Documents\\dataset\\PalmDataset\\Palm\\Test\\RightPalm\\s156_10_R_S2.jpg\n",
      "✅ Moved s156_3_L_S2.jpg → C:\\Users\\hp\\Documents\\dataset\\PalmDataset\\Palm\\Test\\LeftPalm\\s156_3_L_S2.jpg\n",
      "✅ Moved s156_5_L_S2.jpg → C:\\Users\\hp\\Documents\\dataset\\PalmDataset\\Palm\\Test\\RightPalm\\s156_5_L_S2.jpg\n",
      "✅ Moved s156_6_L_S2.jpg → C:\\Users\\hp\\Documents\\dataset\\PalmDataset\\Palm\\Test\\LeftPalm\\s156_6_L_S2.jpg\n",
      "✅ Moved s157_10_R_S2.jpg → C:\\Users\\hp\\Documents\\dataset\\PalmDataset\\Palm\\Test\\RightPalm\\s157_10_R_S2.jpg\n",
      "✅ Moved s157_1_R_S2.jpg → C:\\Users\\hp\\Documents\\dataset\\PalmDataset\\Palm\\Test\\LeftPalm\\s157_1_R_S2.jpg\n",
      "✅ Moved s157_3_L_S2.jpg → C:\\Users\\hp\\Documents\\dataset\\PalmDataset\\Palm\\Test\\RightPalm\\s157_3_L_S2.jpg\n",
      "✅ Moved s157_3_R_S2.jpg → C:\\Users\\hp\\Documents\\dataset\\PalmDataset\\Palm\\Test\\LeftPalm\\s157_3_R_S2.jpg\n",
      "✅ Moved s157_4_L_S2.jpg → C:\\Users\\hp\\Documents\\dataset\\PalmDataset\\Palm\\Test\\LeftPalm\\s157_4_L_S2.jpg\n",
      "✅ Moved s157_5_R_S2.jpg → C:\\Users\\hp\\Documents\\dataset\\PalmDataset\\Palm\\Test\\LeftPalm\\s157_5_R_S2.jpg\n",
      "✅ Moved s157_7_L_S2.jpg → C:\\Users\\hp\\Documents\\dataset\\PalmDataset\\Palm\\Test\\LeftPalm\\s157_7_L_S2.jpg\n",
      "✅ Moved s158_3_R_S2.jpg → C:\\Users\\hp\\Documents\\dataset\\PalmDataset\\Palm\\Test\\RightPalm\\s158_3_R_S2.jpg\n",
      "✅ Moved s158_6_R_S2.jpg → C:\\Users\\hp\\Documents\\dataset\\PalmDataset\\Palm\\Test\\LeftPalm\\s158_6_R_S2.jpg\n",
      "✅ Moved s159_10_L_S2.jpg → C:\\Users\\hp\\Documents\\dataset\\PalmDataset\\Palm\\Test\\LeftPalm\\s159_10_L_S2.jpg\n",
      "✅ Moved s159_2_L_S2.jpg → C:\\Users\\hp\\Documents\\dataset\\PalmDataset\\Palm\\Test\\RightPalm\\s159_2_L_S2.jpg\n",
      "✅ Moved s159_3_L_S2.jpg → C:\\Users\\hp\\Documents\\dataset\\PalmDataset\\Palm\\Test\\LeftPalm\\s159_3_L_S2.jpg\n",
      "✅ Moved s159_3_R_S2.jpg → C:\\Users\\hp\\Documents\\dataset\\PalmDataset\\Palm\\Test\\LeftPalm\\s159_3_R_S2.jpg\n",
      "✅ Moved s159_4_R_S2.jpg → C:\\Users\\hp\\Documents\\dataset\\PalmDataset\\Palm\\Test\\LeftPalm\\s159_4_R_S2.jpg\n",
      "✅ Moved s159_5_L_S2.jpg → C:\\Users\\hp\\Documents\\dataset\\PalmDataset\\Palm\\Test\\LeftPalm\\s159_5_L_S2.jpg\n",
      "✅ Moved s159_6_L_S2.jpg → C:\\Users\\hp\\Documents\\dataset\\PalmDataset\\Palm\\Test\\RightPalm\\s159_6_L_S2.jpg\n",
      "✅ Moved s15_1_L_S2.jpg → C:\\Users\\hp\\Documents\\dataset\\PalmDataset\\Palm\\Test\\LeftPalm\\s15_1_L_S2.jpg\n",
      "✅ Moved s15_1_R_S2.jpg → C:\\Users\\hp\\Documents\\dataset\\PalmDataset\\Palm\\Test\\RightPalm\\s15_1_R_S2.jpg\n",
      "✅ Moved s15_3_L_S2.jpg → C:\\Users\\hp\\Documents\\dataset\\PalmDataset\\Palm\\Test\\RightPalm\\s15_3_L_S2.jpg\n",
      "✅ Moved s15_3_R_S2.jpg → C:\\Users\\hp\\Documents\\dataset\\PalmDataset\\Palm\\Test\\LeftPalm\\s15_3_R_S2.jpg\n",
      "✅ Moved s15_5_R_S2.jpg → C:\\Users\\hp\\Documents\\dataset\\PalmDataset\\Palm\\Test\\RightPalm\\s15_5_R_S2.jpg\n",
      "✅ Moved s15_7_L_S2.jpg → C:\\Users\\hp\\Documents\\dataset\\PalmDataset\\Palm\\Test\\RightPalm\\s15_7_L_S2.jpg\n",
      "✅ Moved s15_7_R_S2.jpg → C:\\Users\\hp\\Documents\\dataset\\PalmDataset\\Palm\\Test\\RightPalm\\s15_7_R_S2.jpg\n",
      "✅ Moved s15_9_R_S2.jpg → C:\\Users\\hp\\Documents\\dataset\\PalmDataset\\Palm\\Test\\RightPalm\\s15_9_R_S2.jpg\n",
      "✅ Moved s160_3_R_S2.jpg → C:\\Users\\hp\\Documents\\dataset\\PalmDataset\\Palm\\Test\\RightPalm\\s160_3_R_S2.jpg\n",
      "✅ Moved s160_6_L_S2.jpg → C:\\Users\\hp\\Documents\\dataset\\PalmDataset\\Palm\\Test\\LeftPalm\\s160_6_L_S2.jpg\n",
      "✅ Moved s160_6_R_S2.jpg → C:\\Users\\hp\\Documents\\dataset\\PalmDataset\\Palm\\Test\\LeftPalm\\s160_6_R_S2.jpg\n",
      "✅ Moved s160_9_R_S2.jpg → C:\\Users\\hp\\Documents\\dataset\\PalmDataset\\Palm\\Test\\LeftPalm\\s160_9_R_S2.jpg\n",
      "✅ Moved s16_10_L_S2.jpg → C:\\Users\\hp\\Documents\\dataset\\PalmDataset\\Palm\\Test\\LeftPalm\\s16_10_L_S2.jpg\n",
      "✅ Moved s16_1_L_S2.jpg → C:\\Users\\hp\\Documents\\dataset\\PalmDataset\\Palm\\Test\\LeftPalm\\s16_1_L_S2.jpg\n",
      "✅ Moved s16_1_R_S2.jpg → C:\\Users\\hp\\Documents\\dataset\\PalmDataset\\Palm\\Test\\RightPalm\\s16_1_R_S2.jpg\n",
      "✅ Moved s16_3_L_S2.jpg → C:\\Users\\hp\\Documents\\dataset\\PalmDataset\\Palm\\Test\\LeftPalm\\s16_3_L_S2.jpg\n",
      "✅ Moved s16_5_R_S2.jpg → C:\\Users\\hp\\Documents\\dataset\\PalmDataset\\Palm\\Test\\LeftPalm\\s16_5_R_S2.jpg\n",
      "✅ Moved s16_8_L_S2.jpg → C:\\Users\\hp\\Documents\\dataset\\PalmDataset\\Palm\\Test\\LeftPalm\\s16_8_L_S2.jpg\n",
      "✅ Moved s17_2_L_S2.jpg → C:\\Users\\hp\\Documents\\dataset\\PalmDataset\\Palm\\Test\\LeftPalm\\s17_2_L_S2.jpg\n",
      "✅ Moved s17_2_R_S2.jpg → C:\\Users\\hp\\Documents\\dataset\\PalmDataset\\Palm\\Test\\RightPalm\\s17_2_R_S2.jpg\n",
      "✅ Moved s17_4_L_S2.jpg → C:\\Users\\hp\\Documents\\dataset\\PalmDataset\\Palm\\Test\\LeftPalm\\s17_4_L_S2.jpg\n",
      "✅ Moved s17_9_L_S2.jpg → C:\\Users\\hp\\Documents\\dataset\\PalmDataset\\Palm\\Test\\LeftPalm\\s17_9_L_S2.jpg\n",
      "✅ Moved s18_3_L_S2.jpg → C:\\Users\\hp\\Documents\\dataset\\PalmDataset\\Palm\\Test\\LeftPalm\\s18_3_L_S2.jpg\n",
      "✅ Moved s18_3_R_S2.jpg → C:\\Users\\hp\\Documents\\dataset\\PalmDataset\\Palm\\Test\\RightPalm\\s18_3_R_S2.jpg\n",
      "✅ Moved s18_5_R_S2.jpg → C:\\Users\\hp\\Documents\\dataset\\PalmDataset\\Palm\\Test\\RightPalm\\s18_5_R_S2.jpg\n",
      "✅ Moved s18_7_L_S2.jpg → C:\\Users\\hp\\Documents\\dataset\\PalmDataset\\Palm\\Test\\RightPalm\\s18_7_L_S2.jpg\n",
      "✅ Moved s18_8_R_S2.jpg → C:\\Users\\hp\\Documents\\dataset\\PalmDataset\\Palm\\Test\\LeftPalm\\s18_8_R_S2.jpg\n",
      "✅ Moved s19_4_L_S2.jpg → C:\\Users\\hp\\Documents\\dataset\\PalmDataset\\Palm\\Test\\RightPalm\\s19_4_L_S2.jpg\n",
      "✅ Moved s19_6_L_S2.jpg → C:\\Users\\hp\\Documents\\dataset\\PalmDataset\\Palm\\Test\\LeftPalm\\s19_6_L_S2.jpg\n",
      "✅ Moved s19_8_L_S2.jpg → C:\\Users\\hp\\Documents\\dataset\\PalmDataset\\Palm\\Test\\RightPalm\\s19_8_L_S2.jpg\n",
      "✅ Moved s19_9_R_S2.jpg → C:\\Users\\hp\\Documents\\dataset\\PalmDataset\\Palm\\Test\\LeftPalm\\s19_9_R_S2.jpg\n",
      "✅ Moved s1_1_R_S2.jpg → C:\\Users\\hp\\Documents\\dataset\\PalmDataset\\Palm\\Test\\LeftPalm\\s1_1_R_S2.jpg\n",
      "✅ Moved s1_2_L_S2.jpg → C:\\Users\\hp\\Documents\\dataset\\PalmDataset\\Palm\\Test\\LeftPalm\\s1_2_L_S2.jpg\n",
      "✅ Moved s1_3_L_S2.jpg → C:\\Users\\hp\\Documents\\dataset\\PalmDataset\\Palm\\Test\\LeftPalm\\s1_3_L_S2.jpg\n",
      "✅ Moved s1_7_R_S2.jpg → C:\\Users\\hp\\Documents\\dataset\\PalmDataset\\Palm\\Test\\RightPalm\\s1_7_R_S2.jpg\n",
      "✅ Moved s20_5_R_S2.jpg → C:\\Users\\hp\\Documents\\dataset\\PalmDataset\\Palm\\Test\\LeftPalm\\s20_5_R_S2.jpg\n",
      "✅ Moved s21_10_R_S2.jpg → C:\\Users\\hp\\Documents\\dataset\\PalmDataset\\Palm\\Test\\RightPalm\\s21_10_R_S2.jpg\n",
      "✅ Moved s21_1_L_S2.jpg → C:\\Users\\hp\\Documents\\dataset\\PalmDataset\\Palm\\Test\\LeftPalm\\s21_1_L_S2.jpg\n",
      "✅ Moved s21_2_R_S2.jpg → C:\\Users\\hp\\Documents\\dataset\\PalmDataset\\Palm\\Test\\RightPalm\\s21_2_R_S2.jpg\n",
      "✅ Moved s21_4_L_S2.jpg → C:\\Users\\hp\\Documents\\dataset\\PalmDataset\\Palm\\Test\\RightPalm\\s21_4_L_S2.jpg\n",
      "✅ Moved s21_7_L_S2.jpg → C:\\Users\\hp\\Documents\\dataset\\PalmDataset\\Palm\\Test\\RightPalm\\s21_7_L_S2.jpg\n",
      "✅ Moved s21_8_R_S2.jpg → C:\\Users\\hp\\Documents\\dataset\\PalmDataset\\Palm\\Test\\RightPalm\\s21_8_R_S2.jpg\n",
      "✅ Moved s21_9_L_S2.jpg → C:\\Users\\hp\\Documents\\dataset\\PalmDataset\\Palm\\Test\\LeftPalm\\s21_9_L_S2.jpg\n",
      "✅ Moved s22_10_R_S2.jpg → C:\\Users\\hp\\Documents\\dataset\\PalmDataset\\Palm\\Test\\LeftPalm\\s22_10_R_S2.jpg\n",
      "✅ Moved s22_5_R_S2.jpg → C:\\Users\\hp\\Documents\\dataset\\PalmDataset\\Palm\\Test\\LeftPalm\\s22_5_R_S2.jpg\n",
      "✅ Moved s22_6_R_S2.jpg → C:\\Users\\hp\\Documents\\dataset\\PalmDataset\\Palm\\Test\\LeftPalm\\s22_6_R_S2.jpg\n",
      "✅ Moved s23_1_R_S2.jpg → C:\\Users\\hp\\Documents\\dataset\\PalmDataset\\Palm\\Test\\RightPalm\\s23_1_R_S2.jpg\n",
      "✅ Moved s23_2_R_S2.jpg → C:\\Users\\hp\\Documents\\dataset\\PalmDataset\\Palm\\Test\\RightPalm\\s23_2_R_S2.jpg\n",
      "✅ Moved s23_5_R_S2.jpg → C:\\Users\\hp\\Documents\\dataset\\PalmDataset\\Palm\\Test\\RightPalm\\s23_5_R_S2.jpg\n",
      "✅ Moved s23_8_L_S2.jpg → C:\\Users\\hp\\Documents\\dataset\\PalmDataset\\Palm\\Test\\RightPalm\\s23_8_L_S2.jpg\n",
      "✅ Moved s23_9_L_S2.jpg → C:\\Users\\hp\\Documents\\dataset\\PalmDataset\\Palm\\Test\\RightPalm\\s23_9_L_S2.jpg\n",
      "✅ Moved s23_9_R_S2.jpg → C:\\Users\\hp\\Documents\\dataset\\PalmDataset\\Palm\\Test\\LeftPalm\\s23_9_R_S2.jpg\n",
      "✅ Moved s24_1_L_S2.jpg → C:\\Users\\hp\\Documents\\dataset\\PalmDataset\\Palm\\Test\\LeftPalm\\s24_1_L_S2.jpg\n",
      "✅ Moved s24_1_R_S2.jpg → C:\\Users\\hp\\Documents\\dataset\\PalmDataset\\Palm\\Test\\RightPalm\\s24_1_R_S2.jpg\n",
      "✅ Moved s24_5_L_S2.jpg → C:\\Users\\hp\\Documents\\dataset\\PalmDataset\\Palm\\Test\\RightPalm\\s24_5_L_S2.jpg\n",
      "✅ Moved s25_3_L_S2.jpg → C:\\Users\\hp\\Documents\\dataset\\PalmDataset\\Palm\\Test\\RightPalm\\s25_3_L_S2.jpg\n",
      "✅ Moved s25_8_L_S2.jpg → C:\\Users\\hp\\Documents\\dataset\\PalmDataset\\Palm\\Test\\RightPalm\\s25_8_L_S2.jpg\n",
      "✅ Moved s26_7_L_S2.jpg → C:\\Users\\hp\\Documents\\dataset\\PalmDataset\\Palm\\Test\\RightPalm\\s26_7_L_S2.jpg\n",
      "✅ Moved s27_1_L_S2.jpg → C:\\Users\\hp\\Documents\\dataset\\PalmDataset\\Palm\\Test\\RightPalm\\s27_1_L_S2.jpg\n",
      "✅ Moved s27_2_R_S2.jpg → C:\\Users\\hp\\Documents\\dataset\\PalmDataset\\Palm\\Test\\RightPalm\\s27_2_R_S2.jpg\n",
      "✅ Moved s27_5_L_S2.jpg → C:\\Users\\hp\\Documents\\dataset\\PalmDataset\\Palm\\Test\\RightPalm\\s27_5_L_S2.jpg\n",
      "✅ Moved s27_7_L_S2.jpg → C:\\Users\\hp\\Documents\\dataset\\PalmDataset\\Palm\\Test\\LeftPalm\\s27_7_L_S2.jpg\n",
      "✅ Moved s27_8_R_S2.jpg → C:\\Users\\hp\\Documents\\dataset\\PalmDataset\\Palm\\Test\\LeftPalm\\s27_8_R_S2.jpg\n",
      "✅ Moved s28_2_L_S2.jpg → C:\\Users\\hp\\Documents\\dataset\\PalmDataset\\Palm\\Test\\LeftPalm\\s28_2_L_S2.jpg\n",
      "✅ Moved s28_3_L_S2.jpg → C:\\Users\\hp\\Documents\\dataset\\PalmDataset\\Palm\\Test\\RightPalm\\s28_3_L_S2.jpg\n",
      "✅ Moved s28_6_L_S2.jpg → C:\\Users\\hp\\Documents\\dataset\\PalmDataset\\Palm\\Test\\LeftPalm\\s28_6_L_S2.jpg\n",
      "✅ Moved s28_9_R_S2.jpg → C:\\Users\\hp\\Documents\\dataset\\PalmDataset\\Palm\\Test\\RightPalm\\s28_9_R_S2.jpg\n",
      "✅ Moved s29_10_R_S2.jpg → C:\\Users\\hp\\Documents\\dataset\\PalmDataset\\Palm\\Test\\RightPalm\\s29_10_R_S2.jpg\n",
      "✅ Moved s29_2_L_S2.jpg → C:\\Users\\hp\\Documents\\dataset\\PalmDataset\\Palm\\Test\\RightPalm\\s29_2_L_S2.jpg\n",
      "✅ Moved s29_3_R_S2.jpg → C:\\Users\\hp\\Documents\\dataset\\PalmDataset\\Palm\\Test\\RightPalm\\s29_3_R_S2.jpg\n",
      "✅ Moved s29_4_L_S2.jpg → C:\\Users\\hp\\Documents\\dataset\\PalmDataset\\Palm\\Test\\LeftPalm\\s29_4_L_S2.jpg\n",
      "✅ Moved s29_6_L_S2.jpg → C:\\Users\\hp\\Documents\\dataset\\PalmDataset\\Palm\\Test\\LeftPalm\\s29_6_L_S2.jpg\n",
      "✅ Moved s29_6_R_S2.jpg → C:\\Users\\hp\\Documents\\dataset\\PalmDataset\\Palm\\Test\\LeftPalm\\s29_6_R_S2.jpg\n",
      "✅ Moved s29_8_L_S2.jpg → C:\\Users\\hp\\Documents\\dataset\\PalmDataset\\Palm\\Test\\LeftPalm\\s29_8_L_S2.jpg\n",
      "✅ Moved s2_1_R_S2.jpg → C:\\Users\\hp\\Documents\\dataset\\PalmDataset\\Palm\\Test\\LeftPalm\\s2_1_R_S2.jpg\n",
      "✅ Moved s2_9_R_S2.jpg → C:\\Users\\hp\\Documents\\dataset\\PalmDataset\\Palm\\Test\\RightPalm\\s2_9_R_S2.jpg\n",
      "✅ Moved s30_4_L_S2.jpg → C:\\Users\\hp\\Documents\\dataset\\PalmDataset\\Palm\\Test\\LeftPalm\\s30_4_L_S2.jpg\n",
      "✅ Moved s31_10_R_S2.jpg → C:\\Users\\hp\\Documents\\dataset\\PalmDataset\\Palm\\Test\\LeftPalm\\s31_10_R_S2.jpg\n",
      "✅ Moved s31_2_R_S2.jpg → C:\\Users\\hp\\Documents\\dataset\\PalmDataset\\Palm\\Test\\RightPalm\\s31_2_R_S2.jpg\n",
      "✅ Moved s31_3_R_S2.jpg → C:\\Users\\hp\\Documents\\dataset\\PalmDataset\\Palm\\Test\\RightPalm\\s31_3_R_S2.jpg\n",
      "✅ Moved s31_4_R_S2.jpg → C:\\Users\\hp\\Documents\\dataset\\PalmDataset\\Palm\\Test\\RightPalm\\s31_4_R_S2.jpg\n",
      "✅ Moved s31_8_L_S2.jpg → C:\\Users\\hp\\Documents\\dataset\\PalmDataset\\Palm\\Test\\RightPalm\\s31_8_L_S2.jpg\n",
      "✅ Moved s31_8_R_S2.jpg → C:\\Users\\hp\\Documents\\dataset\\PalmDataset\\Palm\\Test\\LeftPalm\\s31_8_R_S2.jpg\n",
      "✅ Moved s31_9_L_S2.jpg → C:\\Users\\hp\\Documents\\dataset\\PalmDataset\\Palm\\Test\\LeftPalm\\s31_9_L_S2.jpg\n",
      "✅ Moved s32_3_L_S2.jpg → C:\\Users\\hp\\Documents\\dataset\\PalmDataset\\Palm\\Test\\RightPalm\\s32_3_L_S2.jpg\n",
      "✅ Moved s32_4_R_S2.jpg → C:\\Users\\hp\\Documents\\dataset\\PalmDataset\\Palm\\Test\\LeftPalm\\s32_4_R_S2.jpg\n",
      "✅ Moved s33_1_R_S2.jpg → C:\\Users\\hp\\Documents\\dataset\\PalmDataset\\Palm\\Test\\LeftPalm\\s33_1_R_S2.jpg\n",
      "✅ Moved s33_2_L_S2.jpg → C:\\Users\\hp\\Documents\\dataset\\PalmDataset\\Palm\\Test\\LeftPalm\\s33_2_L_S2.jpg\n",
      "✅ Moved s33_2_R_S2.jpg → C:\\Users\\hp\\Documents\\dataset\\PalmDataset\\Palm\\Test\\LeftPalm\\s33_2_R_S2.jpg\n",
      "✅ Moved s33_8_R_S2.jpg → C:\\Users\\hp\\Documents\\dataset\\PalmDataset\\Palm\\Test\\LeftPalm\\s33_8_R_S2.jpg\n",
      "✅ Moved s34_1_L_S2.jpg → C:\\Users\\hp\\Documents\\dataset\\PalmDataset\\Palm\\Test\\LeftPalm\\s34_1_L_S2.jpg\n",
      "✅ Moved s34_1_R_S2.jpg → C:\\Users\\hp\\Documents\\dataset\\PalmDataset\\Palm\\Test\\RightPalm\\s34_1_R_S2.jpg\n",
      "✅ Moved s34_7_L_S2.jpg → C:\\Users\\hp\\Documents\\dataset\\PalmDataset\\Palm\\Test\\LeftPalm\\s34_7_L_S2.jpg\n",
      "✅ Moved s34_8_R_S2.jpg → C:\\Users\\hp\\Documents\\dataset\\PalmDataset\\Palm\\Test\\RightPalm\\s34_8_R_S2.jpg\n",
      "✅ Moved s35_1_L_S2.jpg → C:\\Users\\hp\\Documents\\dataset\\PalmDataset\\Palm\\Test\\LeftPalm\\s35_1_L_S2.jpg\n",
      "✅ Moved s35_2_R_S2.jpg → C:\\Users\\hp\\Documents\\dataset\\PalmDataset\\Palm\\Test\\LeftPalm\\s35_2_R_S2.jpg\n",
      "✅ Moved s35_3_L_S2.jpg → C:\\Users\\hp\\Documents\\dataset\\PalmDataset\\Palm\\Test\\LeftPalm\\s35_3_L_S2.jpg\n",
      "✅ Moved s35_5_R_S2.jpg → C:\\Users\\hp\\Documents\\dataset\\PalmDataset\\Palm\\Test\\RightPalm\\s35_5_R_S2.jpg\n",
      "✅ Moved s35_8_L_S2.jpg → C:\\Users\\hp\\Documents\\dataset\\PalmDataset\\Palm\\Test\\RightPalm\\s35_8_L_S2.jpg\n",
      "✅ Moved s36_8_R_S2.jpg → C:\\Users\\hp\\Documents\\dataset\\PalmDataset\\Palm\\Test\\RightPalm\\s36_8_R_S2.jpg\n",
      "✅ Moved s36_9_L_S2.jpg → C:\\Users\\hp\\Documents\\dataset\\PalmDataset\\Palm\\Test\\RightPalm\\s36_9_L_S2.jpg\n",
      "✅ Moved s36_9_R_S2.jpg → C:\\Users\\hp\\Documents\\dataset\\PalmDataset\\Palm\\Test\\LeftPalm\\s36_9_R_S2.jpg\n",
      "✅ Moved s37_3_L_S2.jpg → C:\\Users\\hp\\Documents\\dataset\\PalmDataset\\Palm\\Test\\LeftPalm\\s37_3_L_S2.jpg\n",
      "✅ Moved s37_8_R_S2.jpg → C:\\Users\\hp\\Documents\\dataset\\PalmDataset\\Palm\\Test\\LeftPalm\\s37_8_R_S2.jpg\n",
      "✅ Moved s38_1_L_S2.jpg → C:\\Users\\hp\\Documents\\dataset\\PalmDataset\\Palm\\Test\\LeftPalm\\s38_1_L_S2.jpg\n",
      "✅ Moved s38_1_R_S2.jpg → C:\\Users\\hp\\Documents\\dataset\\PalmDataset\\Palm\\Test\\LeftPalm\\s38_1_R_S2.jpg\n",
      "✅ Moved s38_4_L_S2.jpg → C:\\Users\\hp\\Documents\\dataset\\PalmDataset\\Palm\\Test\\RightPalm\\s38_4_L_S2.jpg\n",
      "✅ Moved s38_8_L_S2.jpg → C:\\Users\\hp\\Documents\\dataset\\PalmDataset\\Palm\\Test\\LeftPalm\\s38_8_L_S2.jpg\n",
      "✅ Moved s38_9_R_S2.jpg → C:\\Users\\hp\\Documents\\dataset\\PalmDataset\\Palm\\Test\\RightPalm\\s38_9_R_S2.jpg\n",
      "✅ Moved s39_10_L_S2.jpg → C:\\Users\\hp\\Documents\\dataset\\PalmDataset\\Palm\\Test\\LeftPalm\\s39_10_L_S2.jpg\n",
      "✅ Moved s39_5_L_S2.jpg → C:\\Users\\hp\\Documents\\dataset\\PalmDataset\\Palm\\Test\\LeftPalm\\s39_5_L_S2.jpg\n",
      "✅ Moved s39_6_L_S2.jpg → C:\\Users\\hp\\Documents\\dataset\\PalmDataset\\Palm\\Test\\RightPalm\\s39_6_L_S2.jpg\n",
      "✅ Moved s39_7_R_S2.jpg → C:\\Users\\hp\\Documents\\dataset\\PalmDataset\\Palm\\Test\\LeftPalm\\s39_7_R_S2.jpg\n",
      "✅ Moved s3_10_R_S2.jpg → C:\\Users\\hp\\Documents\\dataset\\PalmDataset\\Palm\\Test\\RightPalm\\s3_10_R_S2.jpg\n",
      "✅ Moved s3_5_L_S2.jpg → C:\\Users\\hp\\Documents\\dataset\\PalmDataset\\Palm\\Test\\LeftPalm\\s3_5_L_S2.jpg\n",
      "✅ Moved s3_6_R_S2.jpg → C:\\Users\\hp\\Documents\\dataset\\PalmDataset\\Palm\\Test\\RightPalm\\s3_6_R_S2.jpg\n",
      "✅ Moved s3_7_R_S2.jpg → C:\\Users\\hp\\Documents\\dataset\\PalmDataset\\Palm\\Test\\RightPalm\\s3_7_R_S2.jpg\n",
      "✅ Moved s3_9_L_S2.jpg → C:\\Users\\hp\\Documents\\dataset\\PalmDataset\\Palm\\Test\\RightPalm\\s3_9_L_S2.jpg\n",
      "✅ Moved s40_7_R_S2.jpg → C:\\Users\\hp\\Documents\\dataset\\PalmDataset\\Palm\\Test\\RightPalm\\s40_7_R_S2.jpg\n",
      "✅ Moved s41_7_L_S2.jpg → C:\\Users\\hp\\Documents\\dataset\\PalmDataset\\Palm\\Test\\RightPalm\\s41_7_L_S2.jpg\n",
      "✅ Moved s41_7_R_S2.jpg → C:\\Users\\hp\\Documents\\dataset\\PalmDataset\\Palm\\Test\\RightPalm\\s41_7_R_S2.jpg\n",
      "✅ Moved s41_8_L_S2.jpg → C:\\Users\\hp\\Documents\\dataset\\PalmDataset\\Palm\\Test\\LeftPalm\\s41_8_L_S2.jpg\n",
      "✅ Moved s41_8_R_S2.jpg → C:\\Users\\hp\\Documents\\dataset\\PalmDataset\\Palm\\Test\\RightPalm\\s41_8_R_S2.jpg\n",
      "✅ Moved s42_1_R_S2.jpg → C:\\Users\\hp\\Documents\\dataset\\PalmDataset\\Palm\\Test\\RightPalm\\s42_1_R_S2.jpg\n",
      "✅ Moved s42_6_L_S2.jpg → C:\\Users\\hp\\Documents\\dataset\\PalmDataset\\Palm\\Test\\RightPalm\\s42_6_L_S2.jpg\n",
      "✅ Moved s43_3_L_S2.jpg → C:\\Users\\hp\\Documents\\dataset\\PalmDataset\\Palm\\Test\\RightPalm\\s43_3_L_S2.jpg\n",
      "✅ Moved s43_4_L_S2.jpg → C:\\Users\\hp\\Documents\\dataset\\PalmDataset\\Palm\\Test\\RightPalm\\s43_4_L_S2.jpg\n",
      "✅ Moved s43_8_L_S2.jpg → C:\\Users\\hp\\Documents\\dataset\\PalmDataset\\Palm\\Test\\LeftPalm\\s43_8_L_S2.jpg\n",
      "✅ Moved s43_9_L_S2.jpg → C:\\Users\\hp\\Documents\\dataset\\PalmDataset\\Palm\\Test\\RightPalm\\s43_9_L_S2.jpg\n",
      "✅ Moved s44_2_R_S2.jpg → C:\\Users\\hp\\Documents\\dataset\\PalmDataset\\Palm\\Test\\RightPalm\\s44_2_R_S2.jpg\n",
      "✅ Moved s44_6_L_S2.jpg → C:\\Users\\hp\\Documents\\dataset\\PalmDataset\\Palm\\Test\\RightPalm\\s44_6_L_S2.jpg\n",
      "✅ Moved s44_7_R_S2.jpg → C:\\Users\\hp\\Documents\\dataset\\PalmDataset\\Palm\\Test\\LeftPalm\\s44_7_R_S2.jpg\n",
      "✅ Moved s45_10_R_S2.jpg → C:\\Users\\hp\\Documents\\dataset\\PalmDataset\\Palm\\Test\\RightPalm\\s45_10_R_S2.jpg\n",
      "✅ Moved s45_2_R_S2.jpg → C:\\Users\\hp\\Documents\\dataset\\PalmDataset\\Palm\\Test\\RightPalm\\s45_2_R_S2.jpg\n",
      "✅ Moved s45_4_R_S2.jpg → C:\\Users\\hp\\Documents\\dataset\\PalmDataset\\Palm\\Test\\RightPalm\\s45_4_R_S2.jpg\n",
      "✅ Moved s45_6_R_S2.jpg → C:\\Users\\hp\\Documents\\dataset\\PalmDataset\\Palm\\Test\\LeftPalm\\s45_6_R_S2.jpg\n",
      "✅ Moved s45_9_L_S2.jpg → C:\\Users\\hp\\Documents\\dataset\\PalmDataset\\Palm\\Test\\LeftPalm\\s45_9_L_S2.jpg\n",
      "✅ Moved s46_6_L_S2.jpg → C:\\Users\\hp\\Documents\\dataset\\PalmDataset\\Palm\\Test\\RightPalm\\s46_6_L_S2.jpg\n",
      "✅ Moved s46_9_L_S2.jpg → C:\\Users\\hp\\Documents\\dataset\\PalmDataset\\Palm\\Test\\RightPalm\\s46_9_L_S2.jpg\n",
      "✅ Moved s47_8_R_S2.jpg → C:\\Users\\hp\\Documents\\dataset\\PalmDataset\\Palm\\Test\\LeftPalm\\s47_8_R_S2.jpg\n",
      "✅ Moved s48_1_L_S2.jpg → C:\\Users\\hp\\Documents\\dataset\\PalmDataset\\Palm\\Test\\LeftPalm\\s48_1_L_S2.jpg\n",
      "✅ Moved s48_7_L_S2.jpg → C:\\Users\\hp\\Documents\\dataset\\PalmDataset\\Palm\\Test\\LeftPalm\\s48_7_L_S2.jpg\n",
      "✅ Moved s48_9_R_S2.jpg → C:\\Users\\hp\\Documents\\dataset\\PalmDataset\\Palm\\Test\\RightPalm\\s48_9_R_S2.jpg\n",
      "✅ Moved s49_1_L_S2.jpg → C:\\Users\\hp\\Documents\\dataset\\PalmDataset\\Palm\\Test\\RightPalm\\s49_1_L_S2.jpg\n",
      "✅ Moved s49_3_L_S2.jpg → C:\\Users\\hp\\Documents\\dataset\\PalmDataset\\Palm\\Test\\LeftPalm\\s49_3_L_S2.jpg\n",
      "✅ Moved s49_5_R_S2.jpg → C:\\Users\\hp\\Documents\\dataset\\PalmDataset\\Palm\\Test\\RightPalm\\s49_5_R_S2.jpg\n",
      "✅ Moved s49_7_L_S2.jpg → C:\\Users\\hp\\Documents\\dataset\\PalmDataset\\Palm\\Test\\RightPalm\\s49_7_L_S2.jpg\n",
      "✅ Moved s49_8_R_S2.jpg → C:\\Users\\hp\\Documents\\dataset\\PalmDataset\\Palm\\Test\\RightPalm\\s49_8_R_S2.jpg\n",
      "✅ Moved s49_9_R_S2.jpg → C:\\Users\\hp\\Documents\\dataset\\PalmDataset\\Palm\\Test\\RightPalm\\s49_9_R_S2.jpg\n",
      "✅ Moved s4_10_R_S2.jpg → C:\\Users\\hp\\Documents\\dataset\\PalmDataset\\Palm\\Test\\LeftPalm\\s4_10_R_S2.jpg\n",
      "✅ Moved s4_1_R_S2.jpg → C:\\Users\\hp\\Documents\\dataset\\PalmDataset\\Palm\\Test\\LeftPalm\\s4_1_R_S2.jpg\n",
      "✅ Moved s50_10_R_S2.jpg → C:\\Users\\hp\\Documents\\dataset\\PalmDataset\\Palm\\Test\\RightPalm\\s50_10_R_S2.jpg\n",
      "✅ Moved s50_1_L_S2.jpg → C:\\Users\\hp\\Documents\\dataset\\PalmDataset\\Palm\\Test\\LeftPalm\\s50_1_L_S2.jpg\n",
      "✅ Moved s50_3_R_S2.jpg → C:\\Users\\hp\\Documents\\dataset\\PalmDataset\\Palm\\Test\\RightPalm\\s50_3_R_S2.jpg\n",
      "✅ Moved s50_4_L_S2.jpg → C:\\Users\\hp\\Documents\\dataset\\PalmDataset\\Palm\\Test\\RightPalm\\s50_4_L_S2.jpg\n",
      "✅ Moved s50_8_L_S2.jpg → C:\\Users\\hp\\Documents\\dataset\\PalmDataset\\Palm\\Test\\LeftPalm\\s50_8_L_S2.jpg\n",
      "✅ Moved s50_9_R_S2.jpg → C:\\Users\\hp\\Documents\\dataset\\PalmDataset\\Palm\\Test\\RightPalm\\s50_9_R_S2.jpg\n",
      "✅ Moved s51_10_R_S2.jpg → C:\\Users\\hp\\Documents\\dataset\\PalmDataset\\Palm\\Test\\LeftPalm\\s51_10_R_S2.jpg\n",
      "✅ Moved s51_1_L_S2.jpg → C:\\Users\\hp\\Documents\\dataset\\PalmDataset\\Palm\\Test\\LeftPalm\\s51_1_L_S2.jpg\n",
      "✅ Moved s51_1_R_S2.jpg → C:\\Users\\hp\\Documents\\dataset\\PalmDataset\\Palm\\Test\\LeftPalm\\s51_1_R_S2.jpg\n",
      "✅ Moved s51_2_R_S2.jpg → C:\\Users\\hp\\Documents\\dataset\\PalmDataset\\Palm\\Test\\LeftPalm\\s51_2_R_S2.jpg\n",
      "✅ Moved s51_4_R_S2.jpg → C:\\Users\\hp\\Documents\\dataset\\PalmDataset\\Palm\\Test\\LeftPalm\\s51_4_R_S2.jpg\n",
      "✅ Moved s51_6_L_S2.jpg → C:\\Users\\hp\\Documents\\dataset\\PalmDataset\\Palm\\Test\\RightPalm\\s51_6_L_S2.jpg\n",
      "✅ Moved s52_1_R_S2.jpg → C:\\Users\\hp\\Documents\\dataset\\PalmDataset\\Palm\\Test\\LeftPalm\\s52_1_R_S2.jpg\n",
      "✅ Moved s52_2_R_S2.jpg → C:\\Users\\hp\\Documents\\dataset\\PalmDataset\\Palm\\Test\\RightPalm\\s52_2_R_S2.jpg\n",
      "✅ Moved s53_1_R_S2.jpg → C:\\Users\\hp\\Documents\\dataset\\PalmDataset\\Palm\\Test\\LeftPalm\\s53_1_R_S2.jpg\n",
      "✅ Moved s53_3_L_S2.jpg → C:\\Users\\hp\\Documents\\dataset\\PalmDataset\\Palm\\Test\\RightPalm\\s53_3_L_S2.jpg\n",
      "✅ Moved s53_3_R_S2.jpg → C:\\Users\\hp\\Documents\\dataset\\PalmDataset\\Palm\\Test\\RightPalm\\s53_3_R_S2.jpg\n",
      "✅ Moved s53_5_L_S2.jpg → C:\\Users\\hp\\Documents\\dataset\\PalmDataset\\Palm\\Test\\RightPalm\\s53_5_L_S2.jpg\n",
      "✅ Moved s53_6_R_S2.jpg → C:\\Users\\hp\\Documents\\dataset\\PalmDataset\\Palm\\Test\\LeftPalm\\s53_6_R_S2.jpg\n",
      "✅ Moved s53_7_L_S2.jpg → C:\\Users\\hp\\Documents\\dataset\\PalmDataset\\Palm\\Test\\LeftPalm\\s53_7_L_S2.jpg\n",
      "✅ Moved s53_9_L_S2.jpg → C:\\Users\\hp\\Documents\\dataset\\PalmDataset\\Palm\\Test\\LeftPalm\\s53_9_L_S2.jpg\n",
      "✅ Moved s54_10_R_S2.jpg → C:\\Users\\hp\\Documents\\dataset\\PalmDataset\\Palm\\Test\\RightPalm\\s54_10_R_S2.jpg\n",
      "✅ Moved s54_5_L_S2.jpg → C:\\Users\\hp\\Documents\\dataset\\PalmDataset\\Palm\\Test\\LeftPalm\\s54_5_L_S2.jpg\n",
      "✅ Moved s54_9_L_S2.jpg → C:\\Users\\hp\\Documents\\dataset\\PalmDataset\\Palm\\Test\\RightPalm\\s54_9_L_S2.jpg\n",
      "✅ Moved s55_3_L_S2.jpg → C:\\Users\\hp\\Documents\\dataset\\PalmDataset\\Palm\\Test\\RightPalm\\s55_3_L_S2.jpg\n",
      "✅ Moved s55_3_R_S2.jpg → C:\\Users\\hp\\Documents\\dataset\\PalmDataset\\Palm\\Test\\RightPalm\\s55_3_R_S2.jpg\n",
      "✅ Moved s55_8_L_S2.jpg → C:\\Users\\hp\\Documents\\dataset\\PalmDataset\\Palm\\Test\\RightPalm\\s55_8_L_S2.jpg\n",
      "✅ Moved s55_8_R_S2.jpg → C:\\Users\\hp\\Documents\\dataset\\PalmDataset\\Palm\\Test\\LeftPalm\\s55_8_R_S2.jpg\n",
      "✅ Moved s56_1_L_S2.jpg → C:\\Users\\hp\\Documents\\dataset\\PalmDataset\\Palm\\Test\\RightPalm\\s56_1_L_S2.jpg\n",
      "✅ Moved s56_2_L_S2.jpg → C:\\Users\\hp\\Documents\\dataset\\PalmDataset\\Palm\\Test\\LeftPalm\\s56_2_L_S2.jpg\n",
      "✅ Moved s56_3_L_S2.jpg → C:\\Users\\hp\\Documents\\dataset\\PalmDataset\\Palm\\Test\\LeftPalm\\s56_3_L_S2.jpg\n",
      "✅ Moved s56_5_R_S2.jpg → C:\\Users\\hp\\Documents\\dataset\\PalmDataset\\Palm\\Test\\RightPalm\\s56_5_R_S2.jpg\n",
      "✅ Moved s56_7_R_S2.jpg → C:\\Users\\hp\\Documents\\dataset\\PalmDataset\\Palm\\Test\\LeftPalm\\s56_7_R_S2.jpg\n",
      "✅ Moved s56_9_R_S2.jpg → C:\\Users\\hp\\Documents\\dataset\\PalmDataset\\Palm\\Test\\LeftPalm\\s56_9_R_S2.jpg\n",
      "✅ Moved s57_5_R_S2.jpg → C:\\Users\\hp\\Documents\\dataset\\PalmDataset\\Palm\\Test\\RightPalm\\s57_5_R_S2.jpg\n",
      "✅ Moved s57_7_L_S2.jpg → C:\\Users\\hp\\Documents\\dataset\\PalmDataset\\Palm\\Test\\RightPalm\\s57_7_L_S2.jpg\n",
      "✅ Moved s57_9_L_S2.jpg → C:\\Users\\hp\\Documents\\dataset\\PalmDataset\\Palm\\Test\\RightPalm\\s57_9_L_S2.jpg\n",
      "✅ Moved s58_10_R_S2.jpg → C:\\Users\\hp\\Documents\\dataset\\PalmDataset\\Palm\\Test\\RightPalm\\s58_10_R_S2.jpg\n",
      "✅ Moved s58_7_R_S2.jpg → C:\\Users\\hp\\Documents\\dataset\\PalmDataset\\Palm\\Test\\RightPalm\\s58_7_R_S2.jpg\n",
      "✅ Moved s58_8_L_S2.jpg → C:\\Users\\hp\\Documents\\dataset\\PalmDataset\\Palm\\Test\\LeftPalm\\s58_8_L_S2.jpg\n",
      "✅ Moved s59_3_L_S2.jpg → C:\\Users\\hp\\Documents\\dataset\\PalmDataset\\Palm\\Test\\RightPalm\\s59_3_L_S2.jpg\n",
      "✅ Moved s59_4_R_S2.jpg → C:\\Users\\hp\\Documents\\dataset\\PalmDataset\\Palm\\Test\\LeftPalm\\s59_4_R_S2.jpg\n",
      "✅ Moved s59_5_R_S2.jpg → C:\\Users\\hp\\Documents\\dataset\\PalmDataset\\Palm\\Test\\LeftPalm\\s59_5_R_S2.jpg\n",
      "✅ Moved s5_1_R_S2.jpg → C:\\Users\\hp\\Documents\\dataset\\PalmDataset\\Palm\\Test\\LeftPalm\\s5_1_R_S2.jpg\n",
      "✅ Moved s5_3_R_S2.jpg → C:\\Users\\hp\\Documents\\dataset\\PalmDataset\\Palm\\Test\\RightPalm\\s5_3_R_S2.jpg\n",
      "✅ Moved s5_5_R_S2.jpg → C:\\Users\\hp\\Documents\\dataset\\PalmDataset\\Palm\\Test\\RightPalm\\s5_5_R_S2.jpg\n",
      "✅ Moved s5_6_L_S2.jpg → C:\\Users\\hp\\Documents\\dataset\\PalmDataset\\Palm\\Test\\LeftPalm\\s5_6_L_S2.jpg\n",
      "✅ Moved s60_1_L_S2.jpg → C:\\Users\\hp\\Documents\\dataset\\PalmDataset\\Palm\\Test\\LeftPalm\\s60_1_L_S2.jpg\n",
      "✅ Moved s60_3_L_S2.jpg → C:\\Users\\hp\\Documents\\dataset\\PalmDataset\\Palm\\Test\\RightPalm\\s60_3_L_S2.jpg\n",
      "✅ Moved s60_3_R_S2.jpg → C:\\Users\\hp\\Documents\\dataset\\PalmDataset\\Palm\\Test\\RightPalm\\s60_3_R_S2.jpg\n",
      "✅ Moved s60_6_L_S2.jpg → C:\\Users\\hp\\Documents\\dataset\\PalmDataset\\Palm\\Test\\RightPalm\\s60_6_L_S2.jpg\n",
      "✅ Moved s61_1_L_S2.jpg → C:\\Users\\hp\\Documents\\dataset\\PalmDataset\\Palm\\Test\\LeftPalm\\s61_1_L_S2.jpg\n",
      "✅ Moved s61_3_L_S2.jpg → C:\\Users\\hp\\Documents\\dataset\\PalmDataset\\Palm\\Test\\LeftPalm\\s61_3_L_S2.jpg\n",
      "✅ Moved s61_4_L_S2.jpg → C:\\Users\\hp\\Documents\\dataset\\PalmDataset\\Palm\\Test\\RightPalm\\s61_4_L_S2.jpg\n",
      "✅ Moved s61_6_R_S2.jpg → C:\\Users\\hp\\Documents\\dataset\\PalmDataset\\Palm\\Test\\LeftPalm\\s61_6_R_S2.jpg\n",
      "✅ Moved s61_9_L_S2.jpg → C:\\Users\\hp\\Documents\\dataset\\PalmDataset\\Palm\\Test\\RightPalm\\s61_9_L_S2.jpg\n",
      "✅ Moved s62_2_L_S2.jpg → C:\\Users\\hp\\Documents\\dataset\\PalmDataset\\Palm\\Test\\RightPalm\\s62_2_L_S2.jpg\n",
      "✅ Moved s62_5_R_S2.jpg → C:\\Users\\hp\\Documents\\dataset\\PalmDataset\\Palm\\Test\\LeftPalm\\s62_5_R_S2.jpg\n",
      "✅ Moved s62_7_R_S2.jpg → C:\\Users\\hp\\Documents\\dataset\\PalmDataset\\Palm\\Test\\LeftPalm\\s62_7_R_S2.jpg\n",
      "✅ Moved s62_8_L_S2.jpg → C:\\Users\\hp\\Documents\\dataset\\PalmDataset\\Palm\\Test\\RightPalm\\s62_8_L_S2.jpg\n",
      "✅ Moved s63_10_R_S2.jpg → C:\\Users\\hp\\Documents\\dataset\\PalmDataset\\Palm\\Test\\LeftPalm\\s63_10_R_S2.jpg\n",
      "✅ Moved s63_2_L_S2.jpg → C:\\Users\\hp\\Documents\\dataset\\PalmDataset\\Palm\\Test\\LeftPalm\\s63_2_L_S2.jpg\n",
      "✅ Moved s63_3_L_S2.jpg → C:\\Users\\hp\\Documents\\dataset\\PalmDataset\\Palm\\Test\\RightPalm\\s63_3_L_S2.jpg\n",
      "✅ Moved s64_1_L_S2.jpg → C:\\Users\\hp\\Documents\\dataset\\PalmDataset\\Palm\\Test\\LeftPalm\\s64_1_L_S2.jpg\n",
      "✅ Moved s64_4_R_S2.jpg → C:\\Users\\hp\\Documents\\dataset\\PalmDataset\\Palm\\Test\\RightPalm\\s64_4_R_S2.jpg\n",
      "✅ Moved s64_6_L_S2.jpg → C:\\Users\\hp\\Documents\\dataset\\PalmDataset\\Palm\\Test\\RightPalm\\s64_6_L_S2.jpg\n",
      "✅ Moved s64_7_R_S2.jpg → C:\\Users\\hp\\Documents\\dataset\\PalmDataset\\Palm\\Test\\RightPalm\\s64_7_R_S2.jpg\n",
      "✅ Moved s65_1_R_S2.jpg → C:\\Users\\hp\\Documents\\dataset\\PalmDataset\\Palm\\Test\\RightPalm\\s65_1_R_S2.jpg\n",
      "✅ Moved s65_4_R_S2.jpg → C:\\Users\\hp\\Documents\\dataset\\PalmDataset\\Palm\\Test\\LeftPalm\\s65_4_R_S2.jpg\n",
      "✅ Moved s65_5_R_S2.jpg → C:\\Users\\hp\\Documents\\dataset\\PalmDataset\\Palm\\Test\\LeftPalm\\s65_5_R_S2.jpg\n",
      "✅ Moved s65_6_L_S2.jpg → C:\\Users\\hp\\Documents\\dataset\\PalmDataset\\Palm\\Test\\RightPalm\\s65_6_L_S2.jpg\n",
      "✅ Moved s65_6_R_S2.jpg → C:\\Users\\hp\\Documents\\dataset\\PalmDataset\\Palm\\Test\\LeftPalm\\s65_6_R_S2.jpg\n",
      "✅ Moved s66_10_R_S2.jpg → C:\\Users\\hp\\Documents\\dataset\\PalmDataset\\Palm\\Test\\LeftPalm\\s66_10_R_S2.jpg\n",
      "✅ Moved s66_7_L_S2.jpg → C:\\Users\\hp\\Documents\\dataset\\PalmDataset\\Palm\\Test\\LeftPalm\\s66_7_L_S2.jpg\n",
      "✅ Moved s66_9_R_S2.jpg → C:\\Users\\hp\\Documents\\dataset\\PalmDataset\\Palm\\Test\\RightPalm\\s66_9_R_S2.jpg\n",
      "✅ Moved s67_3_R_S2.jpg → C:\\Users\\hp\\Documents\\dataset\\PalmDataset\\Palm\\Test\\RightPalm\\s67_3_R_S2.jpg\n",
      "✅ Moved s67_4_R_S2.jpg → C:\\Users\\hp\\Documents\\dataset\\PalmDataset\\Palm\\Test\\RightPalm\\s67_4_R_S2.jpg\n",
      "✅ Moved s67_6_R_S2.jpg → C:\\Users\\hp\\Documents\\dataset\\PalmDataset\\Palm\\Test\\LeftPalm\\s67_6_R_S2.jpg\n",
      "✅ Moved s68_10_L_S2.jpg → C:\\Users\\hp\\Documents\\dataset\\PalmDataset\\Palm\\Test\\RightPalm\\s68_10_L_S2.jpg\n",
      "✅ Moved s68_2_L_S2.jpg → C:\\Users\\hp\\Documents\\dataset\\PalmDataset\\Palm\\Test\\RightPalm\\s68_2_L_S2.jpg\n",
      "✅ Moved s68_2_R_S2.jpg → C:\\Users\\hp\\Documents\\dataset\\PalmDataset\\Palm\\Test\\RightPalm\\s68_2_R_S2.jpg\n",
      "✅ Moved s69_3_L_S2.jpg → C:\\Users\\hp\\Documents\\dataset\\PalmDataset\\Palm\\Test\\LeftPalm\\s69_3_L_S2.jpg\n",
      "✅ Moved s69_6_L_S2.jpg → C:\\Users\\hp\\Documents\\dataset\\PalmDataset\\Palm\\Test\\RightPalm\\s69_6_L_S2.jpg\n",
      "✅ Moved s69_8_R_S2.jpg → C:\\Users\\hp\\Documents\\dataset\\PalmDataset\\Palm\\Test\\RightPalm\\s69_8_R_S2.jpg\n",
      "✅ Moved s69_9_L_S2.jpg → C:\\Users\\hp\\Documents\\dataset\\PalmDataset\\Palm\\Test\\LeftPalm\\s69_9_L_S2.jpg\n",
      "✅ Moved s6_7_L_S2.jpg → C:\\Users\\hp\\Documents\\dataset\\PalmDataset\\Palm\\Test\\LeftPalm\\s6_7_L_S2.jpg\n",
      "✅ Moved s6_8_R_S2.jpg → C:\\Users\\hp\\Documents\\dataset\\PalmDataset\\Palm\\Test\\LeftPalm\\s6_8_R_S2.jpg\n",
      "✅ Moved s70_3_R_S2.jpg → C:\\Users\\hp\\Documents\\dataset\\PalmDataset\\Palm\\Test\\LeftPalm\\s70_3_R_S2.jpg\n",
      "✅ Moved s70_4_R_S2.jpg → C:\\Users\\hp\\Documents\\dataset\\PalmDataset\\Palm\\Test\\LeftPalm\\s70_4_R_S2.jpg\n",
      "✅ Moved s70_7_L_S2.jpg → C:\\Users\\hp\\Documents\\dataset\\PalmDataset\\Palm\\Test\\LeftPalm\\s70_7_L_S2.jpg\n",
      "✅ Moved s70_9_L_S2.jpg → C:\\Users\\hp\\Documents\\dataset\\PalmDataset\\Palm\\Test\\RightPalm\\s70_9_L_S2.jpg\n",
      "✅ Moved s71_1_L_S2.jpg → C:\\Users\\hp\\Documents\\dataset\\PalmDataset\\Palm\\Test\\RightPalm\\s71_1_L_S2.jpg\n",
      "✅ Moved s71_5_L_S2.jpg → C:\\Users\\hp\\Documents\\dataset\\PalmDataset\\Palm\\Test\\RightPalm\\s71_5_L_S2.jpg\n",
      "✅ Moved s72_10_R_S2.jpg → C:\\Users\\hp\\Documents\\dataset\\PalmDataset\\Palm\\Test\\RightPalm\\s72_10_R_S2.jpg\n",
      "✅ Moved s72_4_R_S2.jpg → C:\\Users\\hp\\Documents\\dataset\\PalmDataset\\Palm\\Test\\RightPalm\\s72_4_R_S2.jpg\n",
      "✅ Moved s72_5_R_S2.jpg → C:\\Users\\hp\\Documents\\dataset\\PalmDataset\\Palm\\Test\\RightPalm\\s72_5_R_S2.jpg\n",
      "✅ Moved s72_9_R_S2.jpg → C:\\Users\\hp\\Documents\\dataset\\PalmDataset\\Palm\\Test\\LeftPalm\\s72_9_R_S2.jpg\n",
      "✅ Moved s73_4_R_S2.jpg → C:\\Users\\hp\\Documents\\dataset\\PalmDataset\\Palm\\Test\\LeftPalm\\s73_4_R_S2.jpg\n",
      "✅ Moved s73_5_R_S2.jpg → C:\\Users\\hp\\Documents\\dataset\\PalmDataset\\Palm\\Test\\LeftPalm\\s73_5_R_S2.jpg\n",
      "✅ Moved s73_6_R_S2.jpg → C:\\Users\\hp\\Documents\\dataset\\PalmDataset\\Palm\\Test\\RightPalm\\s73_6_R_S2.jpg\n",
      "✅ Moved s73_9_L_S2.jpg → C:\\Users\\hp\\Documents\\dataset\\PalmDataset\\Palm\\Test\\RightPalm\\s73_9_L_S2.jpg\n",
      "✅ Moved s74_10_R_S2.jpg → C:\\Users\\hp\\Documents\\dataset\\PalmDataset\\Palm\\Test\\LeftPalm\\s74_10_R_S2.jpg\n",
      "✅ Moved s74_1_L_S2.jpg → C:\\Users\\hp\\Documents\\dataset\\PalmDataset\\Palm\\Test\\RightPalm\\s74_1_L_S2.jpg\n",
      "✅ Moved s74_2_L_S2.jpg → C:\\Users\\hp\\Documents\\dataset\\PalmDataset\\Palm\\Test\\LeftPalm\\s74_2_L_S2.jpg\n",
      "✅ Moved s74_5_R_S2.jpg → C:\\Users\\hp\\Documents\\dataset\\PalmDataset\\Palm\\Test\\RightPalm\\s74_5_R_S2.jpg\n",
      "✅ Moved s74_6_L_S2.jpg → C:\\Users\\hp\\Documents\\dataset\\PalmDataset\\Palm\\Test\\LeftPalm\\s74_6_L_S2.jpg\n",
      "✅ Moved s74_8_L_S2.jpg → C:\\Users\\hp\\Documents\\dataset\\PalmDataset\\Palm\\Test\\LeftPalm\\s74_8_L_S2.jpg\n",
      "✅ Moved s74_9_R_S2.jpg → C:\\Users\\hp\\Documents\\dataset\\PalmDataset\\Palm\\Test\\LeftPalm\\s74_9_R_S2.jpg\n",
      "✅ Moved s75_10_R_S2.jpg → C:\\Users\\hp\\Documents\\dataset\\PalmDataset\\Palm\\Test\\LeftPalm\\s75_10_R_S2.jpg\n",
      "✅ Moved s75_4_R_S2.jpg → C:\\Users\\hp\\Documents\\dataset\\PalmDataset\\Palm\\Test\\LeftPalm\\s75_4_R_S2.jpg\n",
      "✅ Moved s75_5_L_S2.jpg → C:\\Users\\hp\\Documents\\dataset\\PalmDataset\\Palm\\Test\\LeftPalm\\s75_5_L_S2.jpg\n",
      "✅ Moved s75_8_L_S2.jpg → C:\\Users\\hp\\Documents\\dataset\\PalmDataset\\Palm\\Test\\RightPalm\\s75_8_L_S2.jpg\n",
      "✅ Moved s76_10_L_S2.jpg → C:\\Users\\hp\\Documents\\dataset\\PalmDataset\\Palm\\Test\\RightPalm\\s76_10_L_S2.jpg\n",
      "✅ Moved s76_5_L_S2.jpg → C:\\Users\\hp\\Documents\\dataset\\PalmDataset\\Palm\\Test\\LeftPalm\\s76_5_L_S2.jpg\n",
      "✅ Moved s76_7_L_S2.jpg → C:\\Users\\hp\\Documents\\dataset\\PalmDataset\\Palm\\Test\\LeftPalm\\s76_7_L_S2.jpg\n",
      "✅ Moved s76_8_L_S2.jpg → C:\\Users\\hp\\Documents\\dataset\\PalmDataset\\Palm\\Test\\LeftPalm\\s76_8_L_S2.jpg\n",
      "✅ Moved s77_1_L_S2.jpg → C:\\Users\\hp\\Documents\\dataset\\PalmDataset\\Palm\\Test\\LeftPalm\\s77_1_L_S2.jpg\n",
      "✅ Moved s77_3_L_S2.jpg → C:\\Users\\hp\\Documents\\dataset\\PalmDataset\\Palm\\Test\\LeftPalm\\s77_3_L_S2.jpg\n",
      "✅ Moved s77_8_L_S2.jpg → C:\\Users\\hp\\Documents\\dataset\\PalmDataset\\Palm\\Test\\RightPalm\\s77_8_L_S2.jpg\n",
      "✅ Moved s77_9_L_S2.jpg → C:\\Users\\hp\\Documents\\dataset\\PalmDataset\\Palm\\Test\\LeftPalm\\s77_9_L_S2.jpg\n",
      "✅ Moved s78_10_R_S2.jpg → C:\\Users\\hp\\Documents\\dataset\\PalmDataset\\Palm\\Test\\LeftPalm\\s78_10_R_S2.jpg\n",
      "✅ Moved s78_4_R_S2.jpg → C:\\Users\\hp\\Documents\\dataset\\PalmDataset\\Palm\\Test\\RightPalm\\s78_4_R_S2.jpg\n",
      "✅ Moved s78_6_L_S2.jpg → C:\\Users\\hp\\Documents\\dataset\\PalmDataset\\Palm\\Test\\LeftPalm\\s78_6_L_S2.jpg\n",
      "✅ Moved s78_7_L_S2.jpg → C:\\Users\\hp\\Documents\\dataset\\PalmDataset\\Palm\\Test\\LeftPalm\\s78_7_L_S2.jpg\n",
      "✅ Moved s78_8_L_S2.jpg → C:\\Users\\hp\\Documents\\dataset\\PalmDataset\\Palm\\Test\\LeftPalm\\s78_8_L_S2.jpg\n",
      "✅ Moved s78_9_R_S2.jpg → C:\\Users\\hp\\Documents\\dataset\\PalmDataset\\Palm\\Test\\RightPalm\\s78_9_R_S2.jpg\n",
      "✅ Moved s79_1_L_S2.jpg → C:\\Users\\hp\\Documents\\dataset\\PalmDataset\\Palm\\Test\\RightPalm\\s79_1_L_S2.jpg\n",
      "✅ Moved s79_1_R_S2.jpg → C:\\Users\\hp\\Documents\\dataset\\PalmDataset\\Palm\\Test\\LeftPalm\\s79_1_R_S2.jpg\n",
      "✅ Moved s79_3_L_S2.jpg → C:\\Users\\hp\\Documents\\dataset\\PalmDataset\\Palm\\Test\\LeftPalm\\s79_3_L_S2.jpg\n",
      "✅ Moved s7_5_R_S2.jpg → C:\\Users\\hp\\Documents\\dataset\\PalmDataset\\Palm\\Test\\LeftPalm\\s7_5_R_S2.jpg\n",
      "✅ Moved s7_6_R_S2.jpg → C:\\Users\\hp\\Documents\\dataset\\PalmDataset\\Palm\\Test\\RightPalm\\s7_6_R_S2.jpg\n",
      "✅ Moved s7_8_R_S2.jpg → C:\\Users\\hp\\Documents\\dataset\\PalmDataset\\Palm\\Test\\LeftPalm\\s7_8_R_S2.jpg\n",
      "✅ Moved s80_7_L_S2.jpg → C:\\Users\\hp\\Documents\\dataset\\PalmDataset\\Palm\\Test\\RightPalm\\s80_7_L_S2.jpg\n",
      "✅ Moved s80_7_R_S2.jpg → C:\\Users\\hp\\Documents\\dataset\\PalmDataset\\Palm\\Test\\RightPalm\\s80_7_R_S2.jpg\n",
      "✅ Moved s81_10_L_S2.jpg → C:\\Users\\hp\\Documents\\dataset\\PalmDataset\\Palm\\Test\\LeftPalm\\s81_10_L_S2.jpg\n",
      "✅ Moved s81_1_R_S2.jpg → C:\\Users\\hp\\Documents\\dataset\\PalmDataset\\Palm\\Test\\RightPalm\\s81_1_R_S2.jpg\n",
      "✅ Moved s81_2_R_S2.jpg → C:\\Users\\hp\\Documents\\dataset\\PalmDataset\\Palm\\Test\\RightPalm\\s81_2_R_S2.jpg\n",
      "✅ Moved s81_4_R_S2.jpg → C:\\Users\\hp\\Documents\\dataset\\PalmDataset\\Palm\\Test\\RightPalm\\s81_4_R_S2.jpg\n",
      "✅ Moved s81_5_L_S2.jpg → C:\\Users\\hp\\Documents\\dataset\\PalmDataset\\Palm\\Test\\LeftPalm\\s81_5_L_S2.jpg\n",
      "✅ Moved s81_6_R_S2.jpg → C:\\Users\\hp\\Documents\\dataset\\PalmDataset\\Palm\\Test\\LeftPalm\\s81_6_R_S2.jpg\n",
      "✅ Moved s81_9_L_S2.jpg → C:\\Users\\hp\\Documents\\dataset\\PalmDataset\\Palm\\Test\\RightPalm\\s81_9_L_S2.jpg\n",
      "✅ Moved s82_4_L_S2.jpg → C:\\Users\\hp\\Documents\\dataset\\PalmDataset\\Palm\\Test\\LeftPalm\\s82_4_L_S2.jpg\n",
      "✅ Moved s82_4_R_S2.jpg → C:\\Users\\hp\\Documents\\dataset\\PalmDataset\\Palm\\Test\\LeftPalm\\s82_4_R_S2.jpg\n",
      "✅ Moved s82_6_L_S2.jpg → C:\\Users\\hp\\Documents\\dataset\\PalmDataset\\Palm\\Test\\RightPalm\\s82_6_L_S2.jpg\n",
      "✅ Moved s83_10_L_S2.jpg → C:\\Users\\hp\\Documents\\dataset\\PalmDataset\\Palm\\Test\\RightPalm\\s83_10_L_S2.jpg\n",
      "✅ Moved s83_2_R_S2.jpg → C:\\Users\\hp\\Documents\\dataset\\PalmDataset\\Palm\\Test\\LeftPalm\\s83_2_R_S2.jpg\n",
      "✅ Moved s83_7_L_S2.jpg → C:\\Users\\hp\\Documents\\dataset\\PalmDataset\\Palm\\Test\\LeftPalm\\s83_7_L_S2.jpg\n",
      "✅ Moved s83_9_L_S2.jpg → C:\\Users\\hp\\Documents\\dataset\\PalmDataset\\Palm\\Test\\RightPalm\\s83_9_L_S2.jpg\n",
      "✅ Moved s84_10_R_S2.jpg → C:\\Users\\hp\\Documents\\dataset\\PalmDataset\\Palm\\Test\\RightPalm\\s84_10_R_S2.jpg\n",
      "✅ Moved s84_6_L_S2.jpg → C:\\Users\\hp\\Documents\\dataset\\PalmDataset\\Palm\\Test\\LeftPalm\\s84_6_L_S2.jpg\n",
      "✅ Moved s84_6_R_S2.jpg → C:\\Users\\hp\\Documents\\dataset\\PalmDataset\\Palm\\Test\\LeftPalm\\s84_6_R_S2.jpg\n",
      "✅ Moved s85_4_L_S2.jpg → C:\\Users\\hp\\Documents\\dataset\\PalmDataset\\Palm\\Test\\LeftPalm\\s85_4_L_S2.jpg\n",
      "✅ Moved s85_5_R_S2.jpg → C:\\Users\\hp\\Documents\\dataset\\PalmDataset\\Palm\\Test\\LeftPalm\\s85_5_R_S2.jpg\n",
      "✅ Moved s85_7_L_S2.jpg → C:\\Users\\hp\\Documents\\dataset\\PalmDataset\\Palm\\Test\\LeftPalm\\s85_7_L_S2.jpg\n",
      "✅ Moved s85_8_R_S2.jpg → C:\\Users\\hp\\Documents\\dataset\\PalmDataset\\Palm\\Test\\RightPalm\\s85_8_R_S2.jpg\n",
      "✅ Moved s86_10_R_S2.jpg → C:\\Users\\hp\\Documents\\dataset\\PalmDataset\\Palm\\Test\\RightPalm\\s86_10_R_S2.jpg\n",
      "✅ Moved s86_2_L_S2.jpg → C:\\Users\\hp\\Documents\\dataset\\PalmDataset\\Palm\\Test\\LeftPalm\\s86_2_L_S2.jpg\n",
      "✅ Moved s86_2_R_S2.jpg → C:\\Users\\hp\\Documents\\dataset\\PalmDataset\\Palm\\Test\\RightPalm\\s86_2_R_S2.jpg\n",
      "✅ Moved s86_3_L_S2.jpg → C:\\Users\\hp\\Documents\\dataset\\PalmDataset\\Palm\\Test\\RightPalm\\s86_3_L_S2.jpg\n",
      "✅ Moved s86_4_L_S2.jpg → C:\\Users\\hp\\Documents\\dataset\\PalmDataset\\Palm\\Test\\RightPalm\\s86_4_L_S2.jpg\n",
      "✅ Moved s86_4_R_S2.jpg → C:\\Users\\hp\\Documents\\dataset\\PalmDataset\\Palm\\Test\\RightPalm\\s86_4_R_S2.jpg\n",
      "✅ Moved s86_7_L_S2.jpg → C:\\Users\\hp\\Documents\\dataset\\PalmDataset\\Palm\\Test\\RightPalm\\s86_7_L_S2.jpg\n",
      "✅ Moved s86_8_R_S2.jpg → C:\\Users\\hp\\Documents\\dataset\\PalmDataset\\Palm\\Test\\LeftPalm\\s86_8_R_S2.jpg\n",
      "✅ Moved s87_1_R_S2.jpg → C:\\Users\\hp\\Documents\\dataset\\PalmDataset\\Palm\\Test\\LeftPalm\\s87_1_R_S2.jpg\n",
      "✅ Moved s87_2_L_S2.jpg → C:\\Users\\hp\\Documents\\dataset\\PalmDataset\\Palm\\Test\\RightPalm\\s87_2_L_S2.jpg\n",
      "✅ Moved s87_7_L_S2.jpg → C:\\Users\\hp\\Documents\\dataset\\PalmDataset\\Palm\\Test\\LeftPalm\\s87_7_L_S2.jpg\n",
      "✅ Moved s87_7_R_S2.jpg → C:\\Users\\hp\\Documents\\dataset\\PalmDataset\\Palm\\Test\\LeftPalm\\s87_7_R_S2.jpg\n",
      "✅ Moved s87_8_L_S2.jpg → C:\\Users\\hp\\Documents\\dataset\\PalmDataset\\Palm\\Test\\LeftPalm\\s87_8_L_S2.jpg\n",
      "✅ Moved s88_3_R_S2.jpg → C:\\Users\\hp\\Documents\\dataset\\PalmDataset\\Palm\\Test\\RightPalm\\s88_3_R_S2.jpg\n",
      "✅ Moved s88_4_R_S2.jpg → C:\\Users\\hp\\Documents\\dataset\\PalmDataset\\Palm\\Test\\LeftPalm\\s88_4_R_S2.jpg\n",
      "✅ Moved s88_6_L_S2.jpg → C:\\Users\\hp\\Documents\\dataset\\PalmDataset\\Palm\\Test\\RightPalm\\s88_6_L_S2.jpg\n",
      "✅ Moved s88_9_L_S2.jpg → C:\\Users\\hp\\Documents\\dataset\\PalmDataset\\Palm\\Test\\RightPalm\\s88_9_L_S2.jpg\n",
      "✅ Moved s89_1_L_S2.jpg → C:\\Users\\hp\\Documents\\dataset\\PalmDataset\\Palm\\Test\\LeftPalm\\s89_1_L_S2.jpg\n",
      "✅ Moved s89_1_R_S2.jpg → C:\\Users\\hp\\Documents\\dataset\\PalmDataset\\Palm\\Test\\LeftPalm\\s89_1_R_S2.jpg\n",
      "✅ Moved s89_3_R_S2.jpg → C:\\Users\\hp\\Documents\\dataset\\PalmDataset\\Palm\\Test\\RightPalm\\s89_3_R_S2.jpg\n",
      "✅ Moved s89_4_R_S2.jpg → C:\\Users\\hp\\Documents\\dataset\\PalmDataset\\Palm\\Test\\LeftPalm\\s89_4_R_S2.jpg\n",
      "✅ Moved s89_5_L_S2.jpg → C:\\Users\\hp\\Documents\\dataset\\PalmDataset\\Palm\\Test\\RightPalm\\s89_5_L_S2.jpg\n",
      "✅ Moved s89_9_R_S2.jpg → C:\\Users\\hp\\Documents\\dataset\\PalmDataset\\Palm\\Test\\LeftPalm\\s89_9_R_S2.jpg\n",
      "✅ Moved s8_6_L_S2.jpg → C:\\Users\\hp\\Documents\\dataset\\PalmDataset\\Palm\\Test\\LeftPalm\\s8_6_L_S2.jpg\n",
      "✅ Moved s90_10_R_S2.jpg → C:\\Users\\hp\\Documents\\dataset\\PalmDataset\\Palm\\Test\\LeftPalm\\s90_10_R_S2.jpg\n",
      "✅ Moved s90_6_L_S2.jpg → C:\\Users\\hp\\Documents\\dataset\\PalmDataset\\Palm\\Test\\RightPalm\\s90_6_L_S2.jpg\n",
      "✅ Moved s91_2_R_S2.jpg → C:\\Users\\hp\\Documents\\dataset\\PalmDataset\\Palm\\Test\\RightPalm\\s91_2_R_S2.jpg\n",
      "✅ Moved s91_3_L_S2.jpg → C:\\Users\\hp\\Documents\\dataset\\PalmDataset\\Palm\\Test\\RightPalm\\s91_3_L_S2.jpg\n",
      "✅ Moved s91_9_R_S2.jpg → C:\\Users\\hp\\Documents\\dataset\\PalmDataset\\Palm\\Test\\LeftPalm\\s91_9_R_S2.jpg\n",
      "✅ Moved s92_1_R_S2.jpg → C:\\Users\\hp\\Documents\\dataset\\PalmDataset\\Palm\\Test\\LeftPalm\\s92_1_R_S2.jpg\n",
      "✅ Moved s92_2_R_S2.jpg → C:\\Users\\hp\\Documents\\dataset\\PalmDataset\\Palm\\Test\\LeftPalm\\s92_2_R_S2.jpg\n",
      "✅ Moved s92_3_R_S2.jpg → C:\\Users\\hp\\Documents\\dataset\\PalmDataset\\Palm\\Test\\LeftPalm\\s92_3_R_S2.jpg\n",
      "✅ Moved s92_4_R_S2.jpg → C:\\Users\\hp\\Documents\\dataset\\PalmDataset\\Palm\\Test\\LeftPalm\\s92_4_R_S2.jpg\n",
      "✅ Moved s92_5_L_S2.jpg → C:\\Users\\hp\\Documents\\dataset\\PalmDataset\\Palm\\Test\\LeftPalm\\s92_5_L_S2.jpg\n",
      "✅ Moved s92_8_R_S2.jpg → C:\\Users\\hp\\Documents\\dataset\\PalmDataset\\Palm\\Test\\RightPalm\\s92_8_R_S2.jpg\n",
      "✅ Moved s92_9_L_S2.jpg → C:\\Users\\hp\\Documents\\dataset\\PalmDataset\\Palm\\Test\\LeftPalm\\s92_9_L_S2.jpg\n",
      "✅ Moved s93_10_L_S2.jpg → C:\\Users\\hp\\Documents\\dataset\\PalmDataset\\Palm\\Test\\LeftPalm\\s93_10_L_S2.jpg\n",
      "✅ Moved s93_4_R_S2.jpg → C:\\Users\\hp\\Documents\\dataset\\PalmDataset\\Palm\\Test\\LeftPalm\\s93_4_R_S2.jpg\n",
      "✅ Moved s94_2_L_S2.jpg → C:\\Users\\hp\\Documents\\dataset\\PalmDataset\\Palm\\Test\\LeftPalm\\s94_2_L_S2.jpg\n",
      "✅ Moved s94_3_R_S2.jpg → C:\\Users\\hp\\Documents\\dataset\\PalmDataset\\Palm\\Test\\RightPalm\\s94_3_R_S2.jpg\n",
      "✅ Moved s94_7_L_S2.jpg → C:\\Users\\hp\\Documents\\dataset\\PalmDataset\\Palm\\Test\\RightPalm\\s94_7_L_S2.jpg\n",
      "✅ Moved s95_1_L_S2.jpg → C:\\Users\\hp\\Documents\\dataset\\PalmDataset\\Palm\\Test\\RightPalm\\s95_1_L_S2.jpg\n",
      "✅ Moved s95_2_R_S2.jpg → C:\\Users\\hp\\Documents\\dataset\\PalmDataset\\Palm\\Test\\LeftPalm\\s95_2_R_S2.jpg\n",
      "✅ Moved s95_3_L_S2.jpg → C:\\Users\\hp\\Documents\\dataset\\PalmDataset\\Palm\\Test\\RightPalm\\s95_3_L_S2.jpg\n",
      "✅ Moved s95_5_R_S2.jpg → C:\\Users\\hp\\Documents\\dataset\\PalmDataset\\Palm\\Test\\LeftPalm\\s95_5_R_S2.jpg\n",
      "✅ Moved s96_10_L_S2.jpg → C:\\Users\\hp\\Documents\\dataset\\PalmDataset\\Palm\\Test\\LeftPalm\\s96_10_L_S2.jpg\n",
      "✅ Moved s96_6_L_S2.jpg → C:\\Users\\hp\\Documents\\dataset\\PalmDataset\\Palm\\Test\\RightPalm\\s96_6_L_S2.jpg\n",
      "✅ Moved s97_10_R_S2.jpg → C:\\Users\\hp\\Documents\\dataset\\PalmDataset\\Palm\\Test\\LeftPalm\\s97_10_R_S2.jpg\n",
      "✅ Moved s97_3_R_S2.jpg → C:\\Users\\hp\\Documents\\dataset\\PalmDataset\\Palm\\Test\\LeftPalm\\s97_3_R_S2.jpg\n",
      "✅ Moved s97_5_L_S2.jpg → C:\\Users\\hp\\Documents\\dataset\\PalmDataset\\Palm\\Test\\LeftPalm\\s97_5_L_S2.jpg\n",
      "✅ Moved s97_7_L_S2.jpg → C:\\Users\\hp\\Documents\\dataset\\PalmDataset\\Palm\\Test\\LeftPalm\\s97_7_L_S2.jpg\n",
      "✅ Moved s98_1_L_S2.jpg → C:\\Users\\hp\\Documents\\dataset\\PalmDataset\\Palm\\Test\\RightPalm\\s98_1_L_S2.jpg\n",
      "✅ Moved s98_1_R_S2.jpg → C:\\Users\\hp\\Documents\\dataset\\PalmDataset\\Palm\\Test\\LeftPalm\\s98_1_R_S2.jpg\n",
      "✅ Moved s98_2_R_S2.jpg → C:\\Users\\hp\\Documents\\dataset\\PalmDataset\\Palm\\Test\\RightPalm\\s98_2_R_S2.jpg\n",
      "✅ Moved s98_6_R_S2.jpg → C:\\Users\\hp\\Documents\\dataset\\PalmDataset\\Palm\\Test\\RightPalm\\s98_6_R_S2.jpg\n",
      "✅ Moved s98_9_L_S2.jpg → C:\\Users\\hp\\Documents\\dataset\\PalmDataset\\Palm\\Test\\RightPalm\\s98_9_L_S2.jpg\n",
      "✅ Moved s99_10_L_S2.jpg → C:\\Users\\hp\\Documents\\dataset\\PalmDataset\\Palm\\Test\\LeftPalm\\s99_10_L_S2.jpg\n",
      "✅ Moved s99_1_L_S2.jpg → C:\\Users\\hp\\Documents\\dataset\\PalmDataset\\Palm\\Test\\LeftPalm\\s99_1_L_S2.jpg\n",
      "✅ Moved s99_1_R_S2.jpg → C:\\Users\\hp\\Documents\\dataset\\PalmDataset\\Palm\\Test\\RightPalm\\s99_1_R_S2.jpg\n",
      "✅ Moved s99_2_R_S2.jpg → C:\\Users\\hp\\Documents\\dataset\\PalmDataset\\Palm\\Test\\LeftPalm\\s99_2_R_S2.jpg\n",
      "✅ Moved s99_7_R_S2.jpg → C:\\Users\\hp\\Documents\\dataset\\PalmDataset\\Palm\\Test\\LeftPalm\\s99_7_R_S2.jpg\n",
      "✅ Moved s99_8_R_S2.jpg → C:\\Users\\hp\\Documents\\dataset\\PalmDataset\\Palm\\Test\\RightPalm\\s99_8_R_S2.jpg\n",
      "✅ Moved s9_1_R_S2.jpg → C:\\Users\\hp\\Documents\\dataset\\PalmDataset\\Palm\\Test\\RightPalm\\s9_1_R_S2.jpg\n",
      "✅ Moved s9_5_L_S2.jpg → C:\\Users\\hp\\Documents\\dataset\\PalmDataset\\Palm\\Test\\RightPalm\\s9_5_L_S2.jpg\n",
      "\n",
      "✅ Images successfully sorted into LeftPalm/RightPalm subfolders!\n"
     ]
    }
   ],
   "source": [
    "import os\n",
    "import shutil\n",
    "import random\n",
    "\n",
    "# Define dataset path\n",
    "dataset_path = r\"C:\\Users\\hp\\Documents\\dataset\\PalmDataset\\Palm\"\n",
    "\n",
    "# Define train and test folder paths\n",
    "train_folder = os.path.join(dataset_path, \"Train\")\n",
    "test_folder = os.path.join(dataset_path, \"Test\")\n",
    "\n",
    "# Define class subfolders inside Train and Test\n",
    "class_names = [\"LeftPalm\", \"RightPalm\"]  # Modify based on your dataset\n",
    "\n",
    "for folder in [train_folder, test_folder]:\n",
    "    for class_name in class_names:\n",
    "        os.makedirs(os.path.join(folder, class_name), exist_ok=True)\n",
    "\n",
    "# Function to move images into class subfolders randomly\n",
    "def categorize_images(parent_folder):\n",
    "    all_images = [f for f in os.listdir(parent_folder) if f.lower().endswith(('.jpg', '.jpeg', '.png'))]\n",
    "\n",
    "    print(f\"🔍 Found {len(all_images)} images in {parent_folder}\")\n",
    "\n",
    "    for img in all_images:\n",
    "        class_folder = random.choice(class_names)  # Assign randomly\n",
    "        src_path = os.path.join(parent_folder, img)\n",
    "        dest_path = os.path.join(parent_folder, class_folder, img)\n",
    "\n",
    "        if os.path.exists(src_path):\n",
    "            shutil.move(src_path, dest_path)\n",
    "            print(f\"✅ Moved {img} → {dest_path}\")\n",
    "        else:\n",
    "            print(f\"⚠️ File not found: {src_path}\")\n",
    "\n",
    "# Categorize images inside Train and Test\n",
    "categorize_images(train_folder)\n",
    "categorize_images(test_folder)\n",
    "\n",
    "print(\"\\n✅ Images successfully sorted into LeftPalm/RightPalm subfolders!\")\n"
   ]
  },
  {
   "cell_type": "code",
   "execution_count": 10,
   "id": "b4f649de-53e9-4074-8004-683c42942674",
   "metadata": {},
   "outputs": [
    {
     "name": "stdout",
     "output_type": "stream",
     "text": [
      "Found 2560 files belonging to 2 classes.\n",
      "Found 640 files belonging to 2 classes.\n",
      "✅ Dataset successfully loaded!\n"
     ]
    }
   ],
   "source": [
    "import tensorflow as tf\n",
    "from tensorflow.keras.preprocessing import image_dataset_from_directory\n",
    "\n",
    "# Define dataset path\n",
    "dataset_path = r\"C:\\Users\\hp\\Documents\\dataset\\PalmDataset\\Palm\"\n",
    "\n",
    "# Image parameters\n",
    "img_size = (128, 128)  # Resize images\n",
    "batch_size = 32\n",
    "\n",
    "# Load training dataset\n",
    "train_dataset = image_dataset_from_directory(\n",
    "    directory=os.path.join(dataset_path, \"Train\"),\n",
    "    image_size=img_size,\n",
    "    batch_size=batch_size,\n",
    "    color_mode=\"grayscale\",  # Since images are grayscale\n",
    "    shuffle=True\n",
    ")\n",
    "\n",
    "# Load testing dataset\n",
    "test_dataset = image_dataset_from_directory(\n",
    "    directory=os.path.join(dataset_path, \"Test\"),\n",
    "    image_size=img_size,\n",
    "    batch_size=batch_size,\n",
    "    color_mode=\"grayscale\",\n",
    "    shuffle=False\n",
    ")\n",
    "\n",
    "print(\"✅ Dataset successfully loaded!\")\n"
   ]
  },
  {
   "cell_type": "code",
   "execution_count": 12,
   "id": "f3c77d33-6cde-4a2a-b0c3-b2711ff8b550",
   "metadata": {},
   "outputs": [
    {
     "name": "stdout",
     "output_type": "stream",
     "text": [
      "✅ Pixel values normalized!\n"
     ]
    }
   ],
   "source": [
    "# Normalize images (Rescale pixel values to 0-1)\n",
    "normalization_layer = tf.keras.layers.Rescaling(1./255)\n",
    "\n",
    "train_dataset = train_dataset.map(lambda x, y: (normalization_layer(x), y))\n",
    "test_dataset = test_dataset.map(lambda x, y: (normalization_layer(x), y))\n",
    "\n",
    "print(\"✅ Pixel values normalized!\")\n"
   ]
  },
  {
   "cell_type": "code",
   "execution_count": 14,
   "id": "f2302bb3-b637-43a7-96c2-47a9422a1f3d",
   "metadata": {},
   "outputs": [
    {
     "name": "stdout",
     "output_type": "stream",
     "text": [
      "✅ Data augmentation applied!\n"
     ]
    }
   ],
   "source": [
    "from tensorflow.keras.layers import RandomFlip, RandomRotation\n",
    "\n",
    "# Define data augmentation layer\n",
    "data_augmentation = tf.keras.Sequential([\n",
    "    RandomFlip(\"horizontal\"),  # Randomly flip images\n",
    "    RandomRotation(0.2),  # Rotate images up to 20%\n",
    "])\n",
    "\n",
    "# Apply augmentation to training data only\n",
    "train_dataset = train_dataset.map(lambda x, y: (data_augmentation(x), y))\n",
    "\n",
    "print(\"✅ Data augmentation applied!\")\n"
   ]
  },
  {
   "cell_type": "code",
   "execution_count": 16,
   "id": "9fd0cd53-0dfc-4466-91a0-d51bff6d7272",
   "metadata": {},
   "outputs": [
    {
     "name": "stderr",
     "output_type": "stream",
     "text": [
      "C:\\Users\\hp\\anaconda3\\Lib\\site-packages\\keras\\src\\layers\\convolutional\\base_conv.py:107: UserWarning: Do not pass an `input_shape`/`input_dim` argument to a layer. When using Sequential models, prefer using an `Input(shape)` object as the first layer in the model instead.\n",
      "  super().__init__(activity_regularizer=activity_regularizer, **kwargs)\n"
     ]
    },
    {
     "data": {
      "text/html": [
       "<pre style=\"white-space:pre;overflow-x:auto;line-height:normal;font-family:Menlo,'DejaVu Sans Mono',consolas,'Courier New',monospace\"><span style=\"font-weight: bold\">Model: \"sequential_1\"</span>\n",
       "</pre>\n"
      ],
      "text/plain": [
       "\u001b[1mModel: \"sequential_1\"\u001b[0m\n"
      ]
     },
     "metadata": {},
     "output_type": "display_data"
    },
    {
     "data": {
      "text/html": [
       "<pre style=\"white-space:pre;overflow-x:auto;line-height:normal;font-family:Menlo,'DejaVu Sans Mono',consolas,'Courier New',monospace\">┏━━━━━━━━━━━━━━━━━━━━━━━━━━━━━━━━━┳━━━━━━━━━━━━━━━━━━━━━━━━┳━━━━━━━━━━━━━━━┓\n",
       "┃<span style=\"font-weight: bold\"> Layer (type)                    </span>┃<span style=\"font-weight: bold\"> Output Shape           </span>┃<span style=\"font-weight: bold\">       Param # </span>┃\n",
       "┡━━━━━━━━━━━━━━━━━━━━━━━━━━━━━━━━━╇━━━━━━━━━━━━━━━━━━━━━━━━╇━━━━━━━━━━━━━━━┩\n",
       "│ conv2d (<span style=\"color: #0087ff; text-decoration-color: #0087ff\">Conv2D</span>)                 │ (<span style=\"color: #00d7ff; text-decoration-color: #00d7ff\">None</span>, <span style=\"color: #00af00; text-decoration-color: #00af00\">126</span>, <span style=\"color: #00af00; text-decoration-color: #00af00\">126</span>, <span style=\"color: #00af00; text-decoration-color: #00af00\">32</span>)   │           <span style=\"color: #00af00; text-decoration-color: #00af00\">320</span> │\n",
       "├─────────────────────────────────┼────────────────────────┼───────────────┤\n",
       "│ max_pooling2d (<span style=\"color: #0087ff; text-decoration-color: #0087ff\">MaxPooling2D</span>)    │ (<span style=\"color: #00d7ff; text-decoration-color: #00d7ff\">None</span>, <span style=\"color: #00af00; text-decoration-color: #00af00\">63</span>, <span style=\"color: #00af00; text-decoration-color: #00af00\">63</span>, <span style=\"color: #00af00; text-decoration-color: #00af00\">32</span>)     │             <span style=\"color: #00af00; text-decoration-color: #00af00\">0</span> │\n",
       "├─────────────────────────────────┼────────────────────────┼───────────────┤\n",
       "│ conv2d_1 (<span style=\"color: #0087ff; text-decoration-color: #0087ff\">Conv2D</span>)               │ (<span style=\"color: #00d7ff; text-decoration-color: #00d7ff\">None</span>, <span style=\"color: #00af00; text-decoration-color: #00af00\">61</span>, <span style=\"color: #00af00; text-decoration-color: #00af00\">61</span>, <span style=\"color: #00af00; text-decoration-color: #00af00\">64</span>)     │        <span style=\"color: #00af00; text-decoration-color: #00af00\">18,496</span> │\n",
       "├─────────────────────────────────┼────────────────────────┼───────────────┤\n",
       "│ max_pooling2d_1 (<span style=\"color: #0087ff; text-decoration-color: #0087ff\">MaxPooling2D</span>)  │ (<span style=\"color: #00d7ff; text-decoration-color: #00d7ff\">None</span>, <span style=\"color: #00af00; text-decoration-color: #00af00\">30</span>, <span style=\"color: #00af00; text-decoration-color: #00af00\">30</span>, <span style=\"color: #00af00; text-decoration-color: #00af00\">64</span>)     │             <span style=\"color: #00af00; text-decoration-color: #00af00\">0</span> │\n",
       "├─────────────────────────────────┼────────────────────────┼───────────────┤\n",
       "│ flatten (<span style=\"color: #0087ff; text-decoration-color: #0087ff\">Flatten</span>)               │ (<span style=\"color: #00d7ff; text-decoration-color: #00d7ff\">None</span>, <span style=\"color: #00af00; text-decoration-color: #00af00\">57600</span>)          │             <span style=\"color: #00af00; text-decoration-color: #00af00\">0</span> │\n",
       "├─────────────────────────────────┼────────────────────────┼───────────────┤\n",
       "│ dense (<span style=\"color: #0087ff; text-decoration-color: #0087ff\">Dense</span>)                   │ (<span style=\"color: #00d7ff; text-decoration-color: #00d7ff\">None</span>, <span style=\"color: #00af00; text-decoration-color: #00af00\">128</span>)            │     <span style=\"color: #00af00; text-decoration-color: #00af00\">7,372,928</span> │\n",
       "├─────────────────────────────────┼────────────────────────┼───────────────┤\n",
       "│ dense_1 (<span style=\"color: #0087ff; text-decoration-color: #0087ff\">Dense</span>)                 │ (<span style=\"color: #00d7ff; text-decoration-color: #00d7ff\">None</span>, <span style=\"color: #00af00; text-decoration-color: #00af00\">2</span>)              │           <span style=\"color: #00af00; text-decoration-color: #00af00\">258</span> │\n",
       "└─────────────────────────────────┴────────────────────────┴───────────────┘\n",
       "</pre>\n"
      ],
      "text/plain": [
       "┏━━━━━━━━━━━━━━━━━━━━━━━━━━━━━━━━━┳━━━━━━━━━━━━━━━━━━━━━━━━┳━━━━━━━━━━━━━━━┓\n",
       "┃\u001b[1m \u001b[0m\u001b[1mLayer (type)                   \u001b[0m\u001b[1m \u001b[0m┃\u001b[1m \u001b[0m\u001b[1mOutput Shape          \u001b[0m\u001b[1m \u001b[0m┃\u001b[1m \u001b[0m\u001b[1m      Param #\u001b[0m\u001b[1m \u001b[0m┃\n",
       "┡━━━━━━━━━━━━━━━━━━━━━━━━━━━━━━━━━╇━━━━━━━━━━━━━━━━━━━━━━━━╇━━━━━━━━━━━━━━━┩\n",
       "│ conv2d (\u001b[38;5;33mConv2D\u001b[0m)                 │ (\u001b[38;5;45mNone\u001b[0m, \u001b[38;5;34m126\u001b[0m, \u001b[38;5;34m126\u001b[0m, \u001b[38;5;34m32\u001b[0m)   │           \u001b[38;5;34m320\u001b[0m │\n",
       "├─────────────────────────────────┼────────────────────────┼───────────────┤\n",
       "│ max_pooling2d (\u001b[38;5;33mMaxPooling2D\u001b[0m)    │ (\u001b[38;5;45mNone\u001b[0m, \u001b[38;5;34m63\u001b[0m, \u001b[38;5;34m63\u001b[0m, \u001b[38;5;34m32\u001b[0m)     │             \u001b[38;5;34m0\u001b[0m │\n",
       "├─────────────────────────────────┼────────────────────────┼───────────────┤\n",
       "│ conv2d_1 (\u001b[38;5;33mConv2D\u001b[0m)               │ (\u001b[38;5;45mNone\u001b[0m, \u001b[38;5;34m61\u001b[0m, \u001b[38;5;34m61\u001b[0m, \u001b[38;5;34m64\u001b[0m)     │        \u001b[38;5;34m18,496\u001b[0m │\n",
       "├─────────────────────────────────┼────────────────────────┼───────────────┤\n",
       "│ max_pooling2d_1 (\u001b[38;5;33mMaxPooling2D\u001b[0m)  │ (\u001b[38;5;45mNone\u001b[0m, \u001b[38;5;34m30\u001b[0m, \u001b[38;5;34m30\u001b[0m, \u001b[38;5;34m64\u001b[0m)     │             \u001b[38;5;34m0\u001b[0m │\n",
       "├─────────────────────────────────┼────────────────────────┼───────────────┤\n",
       "│ flatten (\u001b[38;5;33mFlatten\u001b[0m)               │ (\u001b[38;5;45mNone\u001b[0m, \u001b[38;5;34m57600\u001b[0m)          │             \u001b[38;5;34m0\u001b[0m │\n",
       "├─────────────────────────────────┼────────────────────────┼───────────────┤\n",
       "│ dense (\u001b[38;5;33mDense\u001b[0m)                   │ (\u001b[38;5;45mNone\u001b[0m, \u001b[38;5;34m128\u001b[0m)            │     \u001b[38;5;34m7,372,928\u001b[0m │\n",
       "├─────────────────────────────────┼────────────────────────┼───────────────┤\n",
       "│ dense_1 (\u001b[38;5;33mDense\u001b[0m)                 │ (\u001b[38;5;45mNone\u001b[0m, \u001b[38;5;34m2\u001b[0m)              │           \u001b[38;5;34m258\u001b[0m │\n",
       "└─────────────────────────────────┴────────────────────────┴───────────────┘\n"
      ]
     },
     "metadata": {},
     "output_type": "display_data"
    },
    {
     "data": {
      "text/html": [
       "<pre style=\"white-space:pre;overflow-x:auto;line-height:normal;font-family:Menlo,'DejaVu Sans Mono',consolas,'Courier New',monospace\"><span style=\"font-weight: bold\"> Total params: </span><span style=\"color: #00af00; text-decoration-color: #00af00\">7,392,002</span> (28.20 MB)\n",
       "</pre>\n"
      ],
      "text/plain": [
       "\u001b[1m Total params: \u001b[0m\u001b[38;5;34m7,392,002\u001b[0m (28.20 MB)\n"
      ]
     },
     "metadata": {},
     "output_type": "display_data"
    },
    {
     "data": {
      "text/html": [
       "<pre style=\"white-space:pre;overflow-x:auto;line-height:normal;font-family:Menlo,'DejaVu Sans Mono',consolas,'Courier New',monospace\"><span style=\"font-weight: bold\"> Trainable params: </span><span style=\"color: #00af00; text-decoration-color: #00af00\">7,392,002</span> (28.20 MB)\n",
       "</pre>\n"
      ],
      "text/plain": [
       "\u001b[1m Trainable params: \u001b[0m\u001b[38;5;34m7,392,002\u001b[0m (28.20 MB)\n"
      ]
     },
     "metadata": {},
     "output_type": "display_data"
    },
    {
     "data": {
      "text/html": [
       "<pre style=\"white-space:pre;overflow-x:auto;line-height:normal;font-family:Menlo,'DejaVu Sans Mono',consolas,'Courier New',monospace\"><span style=\"font-weight: bold\"> Non-trainable params: </span><span style=\"color: #00af00; text-decoration-color: #00af00\">0</span> (0.00 B)\n",
       "</pre>\n"
      ],
      "text/plain": [
       "\u001b[1m Non-trainable params: \u001b[0m\u001b[38;5;34m0\u001b[0m (0.00 B)\n"
      ]
     },
     "metadata": {},
     "output_type": "display_data"
    }
   ],
   "source": [
    "from tensorflow import keras\n",
    "from tensorflow.keras import layers\n",
    "\n",
    "# Define CNN model\n",
    "model = keras.Sequential([\n",
    "    layers.Conv2D(32, (3, 3), activation=\"relu\", input_shape=(128, 128, 1)),\n",
    "    layers.MaxPooling2D((2, 2)),\n",
    "\n",
    "    layers.Conv2D(64, (3, 3), activation=\"relu\"),\n",
    "    layers.MaxPooling2D((2, 2)),\n",
    "\n",
    "    layers.Flatten(),\n",
    "    layers.Dense(128, activation=\"relu\"),\n",
    "    layers.Dense(2, activation=\"softmax\")  # 2 classes (LeftPalm, RightPalm)\n",
    "])\n",
    "\n",
    "# Compile the model\n",
    "model.compile(optimizer=\"adam\",\n",
    "              loss=\"sparse_categorical_crossentropy\",\n",
    "              metrics=[\"accuracy\"])\n",
    "\n",
    "# Show model summary\n",
    "model.summary()\n"
   ]
  },
  {
   "cell_type": "code",
   "execution_count": 92,
   "id": "73b24c70-3120-48ed-9b46-74b680c95cda",
   "metadata": {},
   "outputs": [
    {
     "name": "stdout",
     "output_type": "stream",
     "text": [
      "Requirement already satisfied: torch in c:\\users\\hp\\anaconda3\\lib\\site-packages (2.6.0)\n",
      "Requirement already satisfied: torchvision in c:\\users\\hp\\anaconda3\\lib\\site-packages (0.21.0)\n",
      "Requirement already satisfied: numpy in c:\\users\\hp\\anaconda3\\lib\\site-packages (1.26.4)\n",
      "Requirement already satisfied: matplotlib in c:\\users\\hp\\anaconda3\\lib\\site-packages (3.9.2)\n",
      "Requirement already satisfied: filelock in c:\\users\\hp\\anaconda3\\lib\\site-packages (from torch) (3.13.1)\n",
      "Requirement already satisfied: typing-extensions>=4.10.0 in c:\\users\\hp\\anaconda3\\lib\\site-packages (from torch) (4.13.0)\n",
      "Requirement already satisfied: networkx in c:\\users\\hp\\anaconda3\\lib\\site-packages (from torch) (3.3)\n",
      "Requirement already satisfied: jinja2 in c:\\users\\hp\\anaconda3\\lib\\site-packages (from torch) (3.1.4)\n",
      "Requirement already satisfied: fsspec in c:\\users\\hp\\anaconda3\\lib\\site-packages (from torch) (2024.6.1)\n",
      "Requirement already satisfied: setuptools in c:\\users\\hp\\anaconda3\\lib\\site-packages (from torch) (75.1.0)\n",
      "Requirement already satisfied: sympy==1.13.1 in c:\\users\\hp\\anaconda3\\lib\\site-packages (from torch) (1.13.1)\n",
      "Requirement already satisfied: mpmath<1.4,>=1.1.0 in c:\\users\\hp\\anaconda3\\lib\\site-packages (from sympy==1.13.1->torch) (1.3.0)\n",
      "Requirement already satisfied: pillow!=8.3.*,>=5.3.0 in c:\\users\\hp\\anaconda3\\lib\\site-packages (from torchvision) (10.4.0)\n",
      "Requirement already satisfied: contourpy>=1.0.1 in c:\\users\\hp\\anaconda3\\lib\\site-packages (from matplotlib) (1.2.0)\n",
      "Requirement already satisfied: cycler>=0.10 in c:\\users\\hp\\anaconda3\\lib\\site-packages (from matplotlib) (0.11.0)\n",
      "Requirement already satisfied: fonttools>=4.22.0 in c:\\users\\hp\\anaconda3\\lib\\site-packages (from matplotlib) (4.51.0)\n",
      "Requirement already satisfied: kiwisolver>=1.3.1 in c:\\users\\hp\\anaconda3\\lib\\site-packages (from matplotlib) (1.4.4)\n",
      "Requirement already satisfied: packaging>=20.0 in c:\\users\\hp\\anaconda3\\lib\\site-packages (from matplotlib) (24.1)\n",
      "Requirement already satisfied: pyparsing>=2.3.1 in c:\\users\\hp\\anaconda3\\lib\\site-packages (from matplotlib) (3.1.2)\n",
      "Requirement already satisfied: python-dateutil>=2.7 in c:\\users\\hp\\anaconda3\\lib\\site-packages (from matplotlib) (2.9.0.post0)\n",
      "Requirement already satisfied: six>=1.5 in c:\\users\\hp\\anaconda3\\lib\\site-packages (from python-dateutil>=2.7->matplotlib) (1.16.0)\n",
      "Requirement already satisfied: MarkupSafe>=2.0 in c:\\users\\hp\\anaconda3\\lib\\site-packages (from jinja2->torch) (2.1.3)\n"
     ]
    }
   ],
   "source": [
    "!pip install torch torchvision numpy matplotlib\n"
   ]
  },
  {
   "cell_type": "code",
   "execution_count": 93,
   "id": "7ec8822c-76d4-4631-b847-127844e0770d",
   "metadata": {},
   "outputs": [],
   "source": [
    "import torch\n",
    "import torch.nn as nn\n",
    "import torch.optim as optim\n",
    "import numpy as np\n",
    "import matplotlib.pyplot as plt\n",
    "from torchvision import transforms\n",
    "from torchvision.datasets import ImageFolder\n",
    "from torch.utils.data import DataLoader\n",
    "\n",
    "# Sinusoidal activation function for INR\n",
    "class SineLayer(nn.Module):\n",
    "    def __init__(self, in_features, out_features, omega_0=30.0):\n",
    "        super().__init__()\n",
    "        self.omega_0 = omega_0\n",
    "        self.linear = nn.Linear(in_features, out_features)\n",
    "\n",
    "    def forward(self, x):\n",
    "        return torch.sin(self.omega_0 * self.linear(x))\n",
    "\n",
    "# INR Model using MLP with sine activations\n",
    "class INR(nn.Module):\n",
    "    def __init__(self, input_dim=2, hidden_dim=256, output_dim=1, num_layers=5, omega_0=30.0):\n",
    "        super().__init__()\n",
    "        layers = [SineLayer(input_dim, hidden_dim, omega_0)]\n",
    "        for _ in range(num_layers - 2):\n",
    "            layers.append(SineLayer(hidden_dim, hidden_dim, omega_0))\n",
    "        layers.append(nn.Linear(hidden_dim, output_dim))  # Final layer for pixel values\n",
    "        self.network = nn.Sequential(*layers)\n",
    "\n",
    "    def forward(self, x):\n",
    "        return self.network(x)\n"
   ]
  },
  {
   "cell_type": "code",
   "execution_count": 96,
   "id": "a830a535-3206-401a-a0d7-f41882b6d1e8",
   "metadata": {},
   "outputs": [
    {
     "name": "stdout",
     "output_type": "stream",
     "text": [
      "✅ Loaded 2560 training images and 640 test images.\n"
     ]
    }
   ],
   "source": [
    "# Define transformations\n",
    "transform = transforms.Compose([\n",
    "    transforms.Grayscale(num_output_channels=1),  # Ensure grayscale\n",
    "    transforms.ToTensor(),  # Convert to tensor\n",
    "])\n",
    "\n",
    "# Load dataset\n",
    "dataset_path = \"C:/Users/hp/Documents/dataset/PalmDataset/Palm\"\n",
    "train_data = ImageFolder(root=f\"{dataset_path}/Train\", transform=transform)\n",
    "test_data = ImageFolder(root=f\"{dataset_path}/Test\", transform=transform)\n",
    "\n",
    "train_loader = DataLoader(train_data, batch_size=16, shuffle=True)\n",
    "test_loader = DataLoader(test_data, batch_size=16, shuffle=False)\n",
    "\n",
    "print(f\"✅ Loaded {len(train_data)} training images and {len(test_data)} test images.\")\n"
   ]
  },
  {
   "cell_type": "code",
   "execution_count": null,
   "id": "ff7a2c7c-d612-484f-b6cf-18e8033c58a2",
   "metadata": {},
   "outputs": [],
   "source": [
    "#training the INR MODEL"
   ]
  },
  {
   "cell_type": "code",
   "execution_count": 98,
   "id": "56cac23c-c052-427b-b8c0-b62ce84915d3",
   "metadata": {},
   "outputs": [],
   "source": [
    "import torch\n",
    "\n",
    "def generate_coordinates(height, width, batch_size, device):\n",
    "    \"\"\"\n",
    "    Generates (x, y) coordinates normalized to [-1, 1] for INR training.\n",
    "    \"\"\"\n",
    "    y_coords, x_coords = torch.meshgrid(\n",
    "        torch.linspace(-1, 1, height), torch.linspace(-1, 1, width), indexing='ij'\n",
    "    )\n",
    "    coords = torch.stack([x_coords, y_coords], dim=-1)  # Shape: [H, W, 2]\n",
    "    coords = coords.view(-1, 2).repeat(batch_size, 1, 1).to(device)  # [Batch, H*W, 2]\n",
    "    \n",
    "    return coords\n"
   ]
  },
  {
   "cell_type": "code",
   "execution_count": 100,
   "id": "19a6af02-97c3-4d24-ad6a-c447194eb2e0",
   "metadata": {},
   "outputs": [],
   "source": [
    "import torch.nn as nn\n",
    "\n",
    "class INRModel(nn.Module):\n",
    "    def __init__(self, in_features=2, hidden_features=128, hidden_layers=5, out_features=1):\n",
    "        super(INRModel, self).__init__()\n",
    "        layers = [nn.Linear(in_features, hidden_features), nn.ReLU()]\n",
    "        \n",
    "        for _ in range(hidden_layers):\n",
    "            layers.append(nn.Linear(hidden_features, hidden_features))\n",
    "            layers.append(nn.ReLU())\n",
    "        \n",
    "        layers.append(nn.Linear(hidden_features, out_features))\n",
    "        self.network = nn.Sequential(*layers)\n",
    "\n",
    "    def forward(self, x):\n",
    "        return self.network(x)\n"
   ]
  },
  {
   "cell_type": "code",
   "execution_count": 102,
   "id": "1c492d53-06e9-4768-b61e-7ef1beea156e",
   "metadata": {},
   "outputs": [],
   "source": [
    "import torch.optim as optim\n",
    "\n",
    "# Define Mean Squared Error (MSE) loss\n",
    "loss_function = nn.MSELoss()\n",
    "\n",
    "# Training INR Model with MSE Tracking\n",
    "def train_inr(model, train_loader, optimizer, epochs, device):\n",
    "    model.train()\n",
    "    \n",
    "    for epoch in range(epochs):\n",
    "        total_train_loss = 0\n",
    "\n",
    "        for images, _ in train_loader:\n",
    "            images = images.to(device).view(images.size(0), -1)  # Flatten images\n",
    "            images = (images * 2) - 1  # Normalize to [-1, 1]\n",
    "\n",
    "            coords = generate_coordinates(128, 128, images.size(0), device)  # Ensure correct coordinates\n",
    "\n",
    "            optimizer.zero_grad()\n",
    "            output = model(coords).squeeze(-1)  # INR output\n",
    "            loss = loss_function(output, images)\n",
    "\n",
    "            loss.backward()\n",
    "            optimizer.step()\n",
    "\n",
    "            total_train_loss += loss.item()\n",
    "\n",
    "        avg_train_loss = total_train_loss / len(train_loader)\n",
    "        print(f\"Epoch [{epoch+1}/{epochs}], Train MSE Loss: {avg_train_loss:.6f}\")\n",
    "\n",
    "    print(\"✅ INR Training Completed!\")\n"
   ]
  },
  {
   "cell_type": "code",
   "execution_count": 104,
   "id": "d1d10043-e9f3-4e08-b3c1-249f2d7c7352",
   "metadata": {},
   "outputs": [
    {
     "name": "stdout",
     "output_type": "stream",
     "text": [
      "Using device: cpu\n"
     ]
    }
   ],
   "source": [
    "device = torch.device(\"cuda\" if torch.cuda.is_available() else \"cpu\")\n",
    "print(\"Using device:\", device)\n"
   ]
  },
  {
   "cell_type": "code",
   "execution_count": 106,
   "id": "ce789ae2-2f48-4ba0-8a91-87d97b6a319a",
   "metadata": {},
   "outputs": [],
   "source": [
    "# Define your INR Model class (if not already done)\n",
    "class INRModel(nn.Module):\n",
    "    def __init__(self):\n",
    "        super(INRModel, self).__init__()\n",
    "        self.network = nn.Sequential(\n",
    "            nn.Linear(2, 128),\n",
    "            nn.ReLU(),\n",
    "            nn.Linear(128, 128),\n",
    "            nn.ReLU(),\n",
    "            nn.Linear(128, 128),\n",
    "            nn.ReLU(),\n",
    "            nn.Linear(128, 128),\n",
    "            nn.ReLU(),\n",
    "            nn.Linear(128, 128),\n",
    "            nn.ReLU(),\n",
    "            nn.Linear(128, 128),\n",
    "            nn.ReLU(),\n",
    "            nn.Linear(128, 1)\n",
    "        )\n",
    "\n",
    "    def forward(self, x):\n",
    "        return self.network(x)\n",
    "\n",
    "# Instantiate the model\n",
    "inr_model = INRModel().to(device)  # Make sure device = 'cpu' or 'cuda'\n"
   ]
  },
  {
   "cell_type": "code",
   "execution_count": 108,
   "id": "b2cde9a4-1401-4080-9891-4b8d9022714d",
   "metadata": {},
   "outputs": [],
   "source": [
    "optimizer = torch.optim.Adam(inr_model.parameters(), lr=1e-4, weight_decay=1e-5)\n"
   ]
  },
  {
   "cell_type": "code",
   "execution_count": 110,
   "id": "f33ed814-9a88-45f3-bbac-dd3607ccc1a3",
   "metadata": {},
   "outputs": [],
   "source": [
    "epochs = 100  # Instead of 20\n"
   ]
  },
  {
   "cell_type": "code",
   "execution_count": 112,
   "id": "0b5819a3-2c7d-4f14-83c5-620ab1fd3ded",
   "metadata": {},
   "outputs": [],
   "source": [
    "transform = transforms.Compose([\n",
    "    transforms.Grayscale(num_output_channels=1),\n",
    "    transforms.ToTensor(),  \n",
    "    transforms.Normalize(mean=[0.5], std=[0.5])  # Normalize to range [-1,1]\n",
    "])\n"
   ]
  },
  {
   "cell_type": "code",
   "execution_count": 114,
   "id": "5a69bfa2-e88c-4654-af82-8b7612af8831",
   "metadata": {},
   "outputs": [
    {
     "data": {
      "text/plain": [
       "INRModel(\n",
       "  (network): Sequential(\n",
       "    (0): Linear(in_features=2, out_features=128, bias=True)\n",
       "    (1): ReLU()\n",
       "    (2): Linear(in_features=128, out_features=128, bias=True)\n",
       "    (3): ReLU()\n",
       "    (4): Linear(in_features=128, out_features=128, bias=True)\n",
       "    (5): ReLU()\n",
       "    (6): Linear(in_features=128, out_features=128, bias=True)\n",
       "    (7): ReLU()\n",
       "    (8): Linear(in_features=128, out_features=128, bias=True)\n",
       "    (9): ReLU()\n",
       "    (10): Linear(in_features=128, out_features=128, bias=True)\n",
       "    (11): ReLU()\n",
       "    (12): Linear(in_features=128, out_features=1, bias=True)\n",
       "  )\n",
       ")"
      ]
     },
     "execution_count": 114,
     "metadata": {},
     "output_type": "execute_result"
    }
   ],
   "source": [
    "def init_weights(m):\n",
    "    if isinstance(m, nn.Linear):\n",
    "        torch.nn.init.xavier_uniform_(m.weight)\n",
    "        if m.bias is not None:\n",
    "            torch.nn.init.zeros_(m.bias)\n",
    "\n",
    "inr_model.apply(init_weights)\n"
   ]
  },
  {
   "cell_type": "code",
   "execution_count": 116,
   "id": "7bf6667b-6aa7-46fa-a0fe-dda3e88bcaf1",
   "metadata": {},
   "outputs": [
    {
     "data": {
      "text/plain": [
       "INRModel(\n",
       "  (network): Sequential(\n",
       "    (0): Linear(in_features=2, out_features=128, bias=True)\n",
       "    (1): ReLU()\n",
       "    (2): Linear(in_features=128, out_features=128, bias=True)\n",
       "    (3): ReLU()\n",
       "    (4): Linear(in_features=128, out_features=128, bias=True)\n",
       "    (5): ReLU()\n",
       "    (6): Linear(in_features=128, out_features=128, bias=True)\n",
       "    (7): ReLU()\n",
       "    (8): Linear(in_features=128, out_features=128, bias=True)\n",
       "    (9): ReLU()\n",
       "    (10): Linear(in_features=128, out_features=128, bias=True)\n",
       "    (11): ReLU()\n",
       "    (12): Linear(in_features=128, out_features=1, bias=True)\n",
       "  )\n",
       ")"
      ]
     },
     "execution_count": 116,
     "metadata": {},
     "output_type": "execute_result"
    }
   ],
   "source": [
    "def init_weights(m):\n",
    "    if isinstance(m, nn.Linear):\n",
    "        torch.nn.init.xavier_uniform_(m.weight)\n",
    "        if m.bias is not None:\n",
    "            torch.nn.init.zeros_(m.bias)\n",
    "\n",
    "inr_model.apply(init_weights)\n"
   ]
  },
  {
   "cell_type": "code",
   "execution_count": 118,
   "id": "30f1c8cb-8df4-4535-b4e0-cb9f5986ae60",
   "metadata": {},
   "outputs": [],
   "source": [
    "import torch.nn as nn\n",
    "\n",
    "class INRModel(nn.Module):\n",
    "    def __init__(self):\n",
    "        super(INRModel, self).__init__()\n",
    "        self.net = nn.Sequential(\n",
    "            nn.Linear(2, 256),\n",
    "            nn.ReLU(),\n",
    "            nn.Linear(256, 256),\n",
    "            nn.ReLU(),\n",
    "            nn.Linear(256, 1),\n",
    "            nn.Sigmoid()\n",
    "        )\n",
    "    \n",
    "    def forward(self, x):\n",
    "        return self.net(x)\n"
   ]
  },
  {
   "cell_type": "code",
   "execution_count": 120,
   "id": "e228bb4c-ad7c-4d84-884e-686296addf8a",
   "metadata": {},
   "outputs": [],
   "source": [
    "import torch.optim as optim\n",
    "\n",
    "loss_function = nn.MSELoss()\n",
    "optimizer = optim.Adam(inr_model.parameters(), lr=1e-4, weight_decay=1e-5)\n"
   ]
  },
  {
   "cell_type": "code",
   "execution_count": 122,
   "id": "ce22d236-75ac-4b3d-8655-c4cca1742d50",
   "metadata": {},
   "outputs": [],
   "source": [
    "from torchvision import transforms\n",
    "\n",
    "transform = transforms.Compose([\n",
    "    transforms.Grayscale(num_output_channels=1),\n",
    "    transforms.ToTensor(),  \n",
    "    transforms.Normalize(mean=[0.5], std=[0.5])  # Normalize to range [-1,1]\n",
    "])\n"
   ]
  },
  {
   "cell_type": "code",
   "execution_count": 124,
   "id": "0c4a8be7-bbf6-4166-b859-f26bbfd83763",
   "metadata": {},
   "outputs": [
    {
     "name": "stdout",
     "output_type": "stream",
     "text": [
      "⏱️ Epoch [1/30] - MSE Loss: 0.043091 - Time: 214.74s\n",
      "⏱️ Epoch [2/30] - MSE Loss: 0.016827 - Time: 232.30s\n",
      "⏱️ Epoch [3/30] - MSE Loss: 0.016363 - Time: 237.05s\n",
      "⏱️ Epoch [4/30] - MSE Loss: 0.016251 - Time: 241.10s\n",
      "⏱️ Epoch [5/30] - MSE Loss: 0.016189 - Time: 235.21s\n",
      "⏱️ Epoch [6/30] - MSE Loss: 0.016088 - Time: 240.67s\n",
      "⏱️ Epoch [7/30] - MSE Loss: 0.016110 - Time: 231.19s\n",
      "⏱️ Epoch [8/30] - MSE Loss: 0.016080 - Time: 234.73s\n",
      "⏱️ Epoch [9/30] - MSE Loss: 0.015918 - Time: 239.96s\n",
      "⏱️ Epoch [10/30] - MSE Loss: 0.015920 - Time: 260.91s\n",
      "⏱️ Epoch [11/30] - MSE Loss: 0.015893 - Time: 294.23s\n",
      "⏱️ Epoch [12/30] - MSE Loss: 0.015844 - Time: 301.57s\n",
      "⏱️ Epoch [13/30] - MSE Loss: 0.015792 - Time: 302.78s\n",
      "⏱️ Epoch [14/30] - MSE Loss: 0.015814 - Time: 304.74s\n",
      "⏱️ Epoch [15/30] - MSE Loss: 0.015853 - Time: 302.82s\n",
      "⏱️ Epoch [16/30] - MSE Loss: 0.015751 - Time: 303.62s\n",
      "⏱️ Epoch [17/30] - MSE Loss: 0.015737 - Time: 311.04s\n",
      "⏱️ Epoch [18/30] - MSE Loss: 0.015701 - Time: 321.91s\n",
      "⏱️ Epoch [19/30] - MSE Loss: 0.015698 - Time: 327.62s\n",
      "⏱️ Epoch [20/30] - MSE Loss: 0.015668 - Time: 334.72s\n",
      "⏱️ Epoch [21/30] - MSE Loss: 0.015623 - Time: 337.90s\n",
      "⏱️ Epoch [22/30] - MSE Loss: 0.015582 - Time: 338.29s\n",
      "⏱️ Epoch [23/30] - MSE Loss: 0.015650 - Time: 361.46s\n",
      "⏱️ Epoch [24/30] - MSE Loss: 0.015790 - Time: 362.86s\n",
      "⏱️ Epoch [25/30] - MSE Loss: 0.015678 - Time: 365.49s\n",
      "⏱️ Epoch [26/30] - MSE Loss: 0.015602 - Time: 360.84s\n",
      "⏱️ Epoch [27/30] - MSE Loss: 0.015661 - Time: 399.65s\n",
      "⏱️ Epoch [28/30] - MSE Loss: 0.015603 - Time: 395.60s\n",
      "⏱️ Epoch [29/30] - MSE Loss: 0.015622 - Time: 396.07s\n",
      "⏱️ Epoch [30/30] - MSE Loss: 0.015730 - Time: 400.91s\n",
      "✅ INR Training Completed!\n"
     ]
    }
   ],
   "source": [
    "import time\n",
    "\n",
    "def train_inr(model, train_loader, optimizer, epochs, device):\n",
    "    model.train()\n",
    "    for epoch in range(epochs):\n",
    "        start_time = time.time()\n",
    "        total_train_loss = 0\n",
    "\n",
    "        for images, _ in train_loader:\n",
    "            images = images.to(device).view(images.size(0), -1)  # Flatten images\n",
    "            coords = generate_coordinates(128, 128, images.size(0), device)\n",
    "\n",
    "            optimizer.zero_grad()\n",
    "            output = model(coords).squeeze(-1)\n",
    "            loss = loss_function(output, images)\n",
    "            loss.backward()\n",
    "            optimizer.step()\n",
    "\n",
    "            total_train_loss += loss.item()\n",
    "\n",
    "        avg_train_loss = total_train_loss / len(train_loader)\n",
    "        end_time = time.time()\n",
    "        print(f\"⏱️ Epoch [{epoch+1}/{epochs}] - MSE Loss: {avg_train_loss:.6f} - Time: {end_time - start_time:.2f}s\")\n",
    "\n",
    "    print(\"✅ INR Training Completed!\")\n",
    "\n",
    "\n",
    "# Run INR Training with 100 epochs\n",
    "epochs = 30\n",
    "train_inr(inr_model, train_loader, optimizer, epochs, device)\n"
   ]
  },
  {
   "cell_type": "code",
   "execution_count": 130,
   "id": "d3f86fd8-804e-4557-b7d0-9b0d45f08ca8",
   "metadata": {},
   "outputs": [
    {
     "name": "stdout",
     "output_type": "stream",
     "text": [
      "✅ INR model saved as 'inr_model_30_epochs.pth'\n"
     ]
    }
   ],
   "source": [
    "import torch\n",
    "\n",
    "# Save the model state_dict\n",
    "torch.save(inr_model.state_dict(), \"inr_model_30_epochs.pth\")\n",
    "print(\"✅ INR model saved as 'inr_model_30_epochs.pth'\")\n"
   ]
  },
  {
   "cell_type": "code",
   "execution_count": 6,
   "id": "d65d3f19-90da-40b7-83fa-efaea0b2acef",
   "metadata": {},
   "outputs": [
    {
     "name": "stdout",
     "output_type": "stream",
     "text": [
      "✅ INR model loaded successfully and ready to use!\n"
     ]
    }
   ],
   "source": [
    "import torch\n",
    "import torch.nn as nn\n",
    "\n",
    "class INRModel(nn.Module):\n",
    "    def __init__(self):\n",
    "        super(INRModel, self).__init__()\n",
    "        self.network = nn.Sequential(\n",
    "            nn.Linear(2, 128),\n",
    "            nn.ReLU(),\n",
    "            nn.Linear(128, 128),\n",
    "            nn.ReLU(),\n",
    "            nn.Linear(128, 128),\n",
    "            nn.ReLU(),\n",
    "            nn.Linear(128, 128),\n",
    "            nn.ReLU(),\n",
    "            nn.Linear(128, 128),\n",
    "            nn.ReLU(),\n",
    "            nn.Linear(128, 128),\n",
    "            nn.ReLU(),\n",
    "            nn.Linear(128, 1)  # ✅ Final layer that matches saved weights\n",
    "        )\n",
    "\n",
    "    def forward(self, x):\n",
    "        return self.network(x)\n",
    "\n",
    "# ✅ Load model\n",
    "inr_model = INRModel()\n",
    "inr_model.load_state_dict(torch.load(\"inr_model_30_epochs.pth\"))\n",
    "inr_model.eval()\n",
    "\n",
    "print(\"✅ INR model loaded successfully and ready to use!\")\n"
   ]
  },
  {
   "cell_type": "code",
   "execution_count": 14,
   "id": "6b850c6b-4e06-4e50-8a7e-561a1c06b2a4",
   "metadata": {},
   "outputs": [],
   "source": [
    "import matplotlib.pyplot as plt\n",
    "\n",
    "def show_reconstructions(model, test_loader, device, num_images=5):\n",
    "    model.eval()\n",
    "    with torch.no_grad():\n",
    "        for batch_idx, (images, _) in enumerate(test_loader):\n",
    "            images = images.to(device)\n",
    "            coords = generate_coordinates(128, 128, images.size(0), device)\n",
    "            recon = model(coords).view(-1, 1, 128, 128).cpu()\n",
    "\n",
    "            for i in range(min(num_images, images.size(0))):\n",
    "                plt.figure(figsize=(4, 2))\n",
    "                plt.subplot(1, 2, 1)\n",
    "                plt.title(\"Original\")\n",
    "                plt.imshow(images[i].cpu().squeeze(), cmap='gray')\n",
    "                plt.axis('off')\n",
    "\n",
    "                plt.subplot(1, 2, 2)\n",
    "                plt.title(\"Reconstructed\")\n",
    "                plt.imshow(recon[i].squeeze(), cmap='gray')\n",
    "                plt.axis('off')\n",
    "                plt.show()\n",
    "            break\n"
   ]
  },
  {
   "cell_type": "code",
   "execution_count": 36,
   "id": "883e2d7e-33c9-4146-b454-3420da806c11",
   "metadata": {},
   "outputs": [
    {
     "name": "stdout",
     "output_type": "stream",
     "text": [
      "\n",
      "📊 INR Model Evaluation on Test Set:\n",
      "🔸 Average MSE: 0.017614\n",
      "🔸 Average PSNR: 18.15 dB\n",
      "🔸 Average SSIM: 0.4555\n"
     ]
    }
   ],
   "source": [
    "import os\n",
    "import torch\n",
    "from torchvision import transforms, datasets\n",
    "from torch.utils.data import DataLoader\n",
    "from skimage.metrics import peak_signal_noise_ratio as compare_psnr, structural_similarity as compare_ssim\n",
    "import numpy as np\n",
    "\n",
    "# ✅ Make sure device is set\n",
    "device = torch.device(\"cuda\" if torch.cuda.is_available() else \"cpu\")\n",
    "\n",
    "# ✅ Define the INRModel class if not already done\n",
    "# from your notebook – assuming it's already defined\n",
    "\n",
    "# ✅ Load the trained INR model\n",
    "inr_model = INRModel().to(device)\n",
    "inr_model.load_state_dict(torch.load(\"inr_model_30_epochs.pth\"))\n",
    "inr_model.eval()\n",
    "\n",
    "# ✅ Define preprocessing transform (same as training)\n",
    "transform = transforms.Compose([\n",
    "    transforms.Grayscale(),\n",
    "    transforms.Resize((128, 128)),\n",
    "    transforms.ToTensor()\n",
    "])\n",
    "\n",
    "# ✅ Load test dataset\n",
    "test_path = r\"C:\\Users\\hp\\Documents\\dataset\\PalmDataset\\Palm\\Test\\LeftPalm\"\n",
    "test_dataset = datasets.ImageFolder(root=os.path.dirname(test_path), transform=transform)\n",
    "test_loader = DataLoader(test_dataset, batch_size=1, shuffle=False)\n",
    "\n",
    "# ✅ Evaluation function\n",
    "def evaluate_image(img_tensor):\n",
    "    h, w = img_tensor.shape[1], img_tensor.shape[2]\n",
    "    coords = torch.stack(torch.meshgrid(\n",
    "        torch.linspace(0, 1, steps=h),\n",
    "        torch.linspace(0, 1, steps=w),\n",
    "        indexing=\"ij\"\n",
    "    ), dim=-1).view(-1, 2).to(device)  # [H*W, 2]\n",
    "\n",
    "    with torch.no_grad():\n",
    "        pred = inr_model(coords).view(1, h, w).cpu().numpy()\n",
    "\n",
    "    gt = img_tensor.squeeze().cpu().numpy()\n",
    "    pred_img = pred.squeeze()\n",
    "\n",
    "    mse = np.mean((gt - pred_img) ** 2)\n",
    "    psnr = compare_psnr(gt, pred_img, data_range=1.0)\n",
    "    ssim = compare_ssim(gt, pred_img, data_range=1.0)\n",
    "\n",
    "    return mse, psnr, ssim\n",
    "\n",
    "# ✅ Loop through test images and evaluate\n",
    "mse_list, psnr_list, ssim_list = [], [], []\n",
    "\n",
    "for i, (img, label) in enumerate(test_loader):\n",
    "    img = img.to(device)\n",
    "    mse, psnr, ssim = evaluate_image(img[0])\n",
    "    mse_list.append(mse)\n",
    "    psnr_list.append(psnr)\n",
    "    ssim_list.append(ssim)\n",
    "\n",
    "# ✅ Print results\n",
    "print(f\"\\n📊 INR Model Evaluation on Test Set:\")\n",
    "print(f\"🔸 Average MSE: {np.mean(mse_list):.6f}\")\n",
    "print(f\"🔸 Average PSNR: {np.mean(psnr_list):.2f} dB\")\n",
    "print(f\"🔸 Average SSIM: {np.mean(ssim_list):.4f}\")\n"
   ]
  },
  {
   "cell_type": "code",
   "execution_count": 48,
   "id": "b5cff27d-39a7-4645-9c10-5cf70e33e506",
   "metadata": {},
   "outputs": [],
   "source": [
    "model = INRModel()\n"
   ]
  },
  {
   "cell_type": "code",
   "execution_count": 50,
   "id": "0623d9b7-3053-4222-8077-39d6f63ac356",
   "metadata": {},
   "outputs": [
    {
     "data": {
      "text/plain": [
       "INRModel(\n",
       "  (network): Sequential(\n",
       "    (0): Linear(in_features=2, out_features=128, bias=True)\n",
       "    (1): ReLU()\n",
       "    (2): Linear(in_features=128, out_features=128, bias=True)\n",
       "    (3): ReLU()\n",
       "    (4): Linear(in_features=128, out_features=128, bias=True)\n",
       "    (5): ReLU()\n",
       "    (6): Linear(in_features=128, out_features=128, bias=True)\n",
       "    (7): ReLU()\n",
       "    (8): Linear(in_features=128, out_features=128, bias=True)\n",
       "    (9): ReLU()\n",
       "    (10): Linear(in_features=128, out_features=128, bias=True)\n",
       "    (11): ReLU()\n",
       "    (12): Linear(in_features=128, out_features=1, bias=True)\n",
       "  )\n",
       ")"
      ]
     },
     "execution_count": 50,
     "metadata": {},
     "output_type": "execute_result"
    }
   ],
   "source": [
    "inr_model = INRModel().to(device)\n",
    "inr_model.load_state_dict(torch.load(\"inr_model_30_epochs.pth\"))\n",
    "inr_model.eval()\n"
   ]
  },
  {
   "cell_type": "code",
   "execution_count": 52,
   "id": "b0706c2b-071d-4251-b86b-872fabb9fb87",
   "metadata": {},
   "outputs": [],
   "source": [
    "def evaluate_inr_on_image(model, image_tensor):\n",
    "    H, W = image_tensor.shape\n",
    "    y_coords, x_coords = torch.meshgrid(torch.linspace(-1, 1, H), torch.linspace(-1, 1, W), indexing='ij')\n",
    "    coords = torch.stack((x_coords, y_coords), dim=-1).view(-1, 2).to(device)\n",
    "\n",
    "    with torch.no_grad():\n",
    "        output = model(coords)\n",
    "        output_image = output.view(H, W)\n",
    "\n",
    "    gt_img = image_tensor.cpu().numpy()\n",
    "    pred_img = output_image.cpu().numpy()\n",
    "\n",
    "    mse_val = F.mse_loss(output_image, image_tensor).item()\n",
    "    psnr_val = 20 * torch.log10(1.0 / torch.sqrt(F.mse_loss(output_image, image_tensor))).item()\n",
    "    ssim_val = ssim_calc(gt_img, pred_img, data_range=1.0)\n",
    "\n",
    "    return mse_val, psnr_val, ssim_val, gt_img, pred_img\n"
   ]
  },
  {
   "cell_type": "code",
   "execution_count": 66,
   "id": "51f8d149-51b8-44d9-8b70-f7b1a3f84764",
   "metadata": {},
   "outputs": [],
   "source": [
    "import os\n",
    "import cv2\n",
    "import numpy as np\n",
    "import torch\n",
    "from sklearn.model_selection import train_test_split\n",
    "\n",
    "# ✅ Set the device\n",
    "device = torch.device(\"cuda\" if torch.cuda.is_available() else \"cpu\")\n",
    "\n",
    "# ✅ Load and preprocess all palmprint images\n",
    "def load_images_from_folder(folder_path, image_size=(128, 128)):\n",
    "    images = []\n",
    "    for filename in os.listdir(folder_path):\n",
    "        img_path = os.path.join(folder_path, filename)\n",
    "        img = cv2.imread(img_path, cv2.IMREAD_GRAYSCALE)\n",
    "        if img is not None:\n",
    "            img = cv2.resize(img, image_size)\n",
    "            img = img / 255.0  # Normalize pixel values\n",
    "            images.append(img)\n",
    "    return np.array(images)\n",
    "\n",
    "# ✅ Load from your test path (adjust to your dataset's structure)\n",
    "data_path = r\"C:\\Users\\hp\\Documents\\dataset\\PalmDataset\\Palm\\Test\\LeftPalm\"\n",
    "images = load_images_from_folder(data_path)  # Now the 'images' variable is defined\n",
    "\n",
    "# ✅ Split into train and test sets\n",
    "X_train, X_test = train_test_split(images, test_size=0.2, random_state=42)\n",
    "\n",
    "# ✅ Convert test data to tensors\n",
    "X_test_tensor = torch.tensor(X_test, dtype=torch.float32).unsqueeze(1).to(device)\n",
    "\n",
    "# ✅ Take 10 samples for visualization\n",
    "test_images = X_test_tensor[:10].squeeze(1)  # Shape: [10, 128, 128]\n"
   ]
  },
  {
   "cell_type": "code",
   "execution_count": 68,
   "id": "4e329229-7ea0-43db-b97f-a8546edbc6c8",
   "metadata": {},
   "outputs": [],
   "source": [
    "# Setup: Make sure everything is defined properly\n",
    "from sklearn.model_selection import train_test_split\n",
    "\n",
    "# Use your preprocessed and normalized image dataset\n",
    "X = images  # This is the variable you've been using for all images\n",
    "\n",
    "# Split into train and test\n",
    "X_train, X_test = train_test_split(X, test_size=0.2, random_state=42)\n",
    "\n",
    "# Convert test data to tensor for INR evaluation\n",
    "X_test_tensor = torch.tensor(X_test, dtype=torch.float32).unsqueeze(1).to(device)\n",
    "\n",
    "# Select a few test images\n",
    "test_images = X_test_tensor[:10].squeeze(1)  # shape: [10, 128, 128]\n"
   ]
  },
  {
   "cell_type": "code",
   "execution_count": 74,
   "id": "5983ca9d-33b3-48a8-80c2-b58383d7ef76",
   "metadata": {},
   "outputs": [
    {
     "data": {
      "image/png": "[encoded data removed]",
      "text/plain": [
       "<Figure size 600x400 with 1 Axes>"
      ]
     },
     "metadata": {},
     "output_type": "display_data"
    },
    {
     "data": {
      "image/png": "[encoded data removed]",
      "text/plain": [
       "<Figure size 600x400 with 1 Axes>"
      ]
     },
     "metadata": {},
     "output_type": "display_data"
    },
    {
     "data": {
      "image/png": "[encoded data removed]",
      "text/plain": [
       "<Figure size 600x400 with 1 Axes>"
      ]
     },
     "metadata": {},
     "output_type": "display_data"
    }
   ],
   "source": [
    "import matplotlib.pyplot as plt\n",
    "\n",
    "# ✅ Replace these values with your actual results\n",
    "cnn_metrics = {\n",
    "    \"MSE\": 0.0116,\n",
    "    \"PSNR\": 19.93,\n",
    "    \"SSIM\": 0.4717\n",
    "}\n",
    "\n",
    "inr_metrics = {\n",
    "    \"MSE\": 0.0176,\n",
    "    \"PSNR\": 18.15,\n",
    "    \"SSIM\": 0.4555\n",
    "}\n",
    "\n",
    "# ✅ Colors and labels\n",
    "colors = ['skyblue', 'lightgreen']\n",
    "models = ['CNN', 'INR']\n",
    "\n",
    "# ✅ Plot for each metric\n",
    "def plot_metric(metric_name, cnn_value, inr_value, ylabel):\n",
    "    plt.figure(figsize=(6, 4))\n",
    "    plt.bar(models, [cnn_value, inr_value], color=colors)\n",
    "    plt.title(f'{metric_name} Comparison')\n",
    "    plt.ylabel(ylabel)\n",
    "    for i, v in enumerate([cnn_value, inr_value]):\n",
    "        plt.text(i, v + 0.002, f'{v:.4f}', ha='center', fontweight='bold')\n",
    "    plt.ylim(0, max(cnn_value, inr_value) + 0.05)\n",
    "    plt.grid(axis='y', linestyle='--', alpha=0.6)\n",
    "    plt.tight_layout()\n",
    "    plt.show()\n",
    "\n",
    "# ✅ Generate the graphs\n",
    "plot_metric('Mean Squared Error (MSE)', cnn_metrics['MSE'], inr_metrics['MSE'], 'MSE Value')\n",
    "plot_metric('Peak Signal-to-Noise Ratio (PSNR)', cnn_metrics['PSNR'], inr_metrics['PSNR'], 'dB')\n",
    "plot_metric('Structural Similarity Index (SSIM)', cnn_metrics['SSIM'], inr_metrics['SSIM'], 'SSIM Score')"
   ]
  },
  {
   "cell_type": "code",
   "execution_count": null,
   "id": "2c5b8642-10eb-4536-9e9d-fa49ca609e57",
   "metadata": {},
   "outputs": [],
   "source": []
  }
 ],
 "metadata": {
  "kernelspec": {
   "display_name": "Python [conda env:base] *",
   "language": "python",
   "name": "conda-base-py"
  },
  "language_info": {
   "codemirror_mode": {
    "name": "ipython",
    "version": 3
   },
   "file_extension": ".py",
   "mimetype": "text/x-python",
   "name": "python",
   "nbconvert_exporter": "python",
   "pygments_lexer": "ipython3",
   "version": "3.12.7"
  }
 },
 "nbformat": 4,
 "nbformat_minor": 5
}
